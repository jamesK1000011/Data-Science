{
 "cells": [
  {
   "cell_type": "code",
   "execution_count": null,
   "metadata": {},
   "outputs": [],
   "source": [
    "\n",
    "#######################################################\n",
    "#######################################################\n",
    "############    COPYRIGHT - DATA SOCIETY   ############\n",
    "#######################################################\n",
    "#######################################################\n",
    "\n",
    "## 9 REGRESSION DAY1 ##\n",
    "\n",
    "## NOTE: To run individual pieces of code, select the line of code and\n",
    "##       press ctrl + enter for PCs or command + enter for Macs\n",
    "\n"
   ]
  },
  {
   "cell_type": "code",
   "execution_count": 1,
   "metadata": {},
   "outputs": [],
   "source": [
    "#=================================================-\n",
    "#### Slide 2: Import packages  ####\n",
    "\n",
    "import os\n",
    "import pandas as pd\n",
    "import numpy as np\n",
    "import pickle\n",
    "import matplotlib.pyplot as plt\n",
    "from sklearn.feature_selection import VarianceThreshold\n",
    "import statsmodels.api as sm\n",
    "import statsmodels.formula.api as smf"
   ]
  },
  {
   "cell_type": "code",
   "execution_count": 2,
   "metadata": {},
   "outputs": [],
   "source": [
    "main_dir = '/Users/datasociety/Desktop/af-werx'\n",
    "data_dir = main_dir + \"/data\""
   ]
  },
  {
   "cell_type": "code",
   "execution_count": 3,
   "metadata": {},
   "outputs": [
    {
     "data": {
      "text/plain": [
       "'/Users/datasociety/Desktop/af-werx/data'"
      ]
     },
     "execution_count": 3,
     "metadata": {},
     "output_type": "execute_result"
    }
   ],
   "source": [
    "# Set working directory.\n",
    "os.chdir(data_dir)\n",
    "os.getcwd()"
   ]
  },
  {
   "cell_type": "code",
   "execution_count": 4,
   "metadata": {},
   "outputs": [
    {
     "name": "stdout",
     "output_type": "stream",
     "text": [
      "<class 'pandas.core.frame.DataFrame'>\n",
      "130\n"
     ]
    }
   ],
   "source": [
    "#### Slide 12: Temp heart rate dataset  ####\n",
    "\n",
    "temp_heart_rate = pd.read_csv('temp_heart_rate.csv')\n",
    "print(type(temp_heart_rate))  # <- a pandas dataframe!\n",
    "print(len(temp_heart_rate))   # <- returns the number of rows"
   ]
  },
  {
   "cell_type": "code",
   "execution_count": 5,
   "metadata": {},
   "outputs": [
    {
     "name": "stdout",
     "output_type": "stream",
     "text": [
      "130\n",
      "3\n"
     ]
    }
   ],
   "source": [
    "nrows, ncols = temp_heart_rate.shape\n",
    "print(nrows)\n",
    "print(ncols)"
   ]
  },
  {
   "cell_type": "code",
   "execution_count": 6,
   "metadata": {},
   "outputs": [],
   "source": [
    "#### Slide 14: Temp heart rate dataset - regression  ####\n",
    "\n",
    "# Subset the two variables for single variable regression.\n",
    "temp_heart_regression = temp_heart_rate[['Body Temp', 'Heart Rate']]"
   ]
  },
  {
   "cell_type": "code",
   "execution_count": 7,
   "metadata": {},
   "outputs": [],
   "source": [
    "#### Slide 16: Implementing `pickle`  ####\n",
    "\n",
    "pickle.dump(temp_heart_regression, open(\"temp_heart_regression.sav\",\"wb\" ))"
   ]
  },
  {
   "cell_type": "code",
   "execution_count": 8,
   "metadata": {},
   "outputs": [
    {
     "name": "stdout",
     "output_type": "stream",
     "text": [
      "count    130.000000\n",
      "mean      98.249231\n",
      "std        0.733183\n",
      "min       96.300000\n",
      "25%       97.800000\n",
      "50%       98.300000\n",
      "75%       98.700000\n",
      "max      100.800000\n",
      "Name: Body Temp, dtype: float64\n",
      "count    130.000000\n",
      "mean      73.761538\n",
      "std        7.062077\n",
      "min       57.000000\n",
      "25%       69.000000\n",
      "50%       74.000000\n",
      "75%       79.000000\n",
      "max       89.000000\n",
      "Name: Heart Rate, dtype: float64\n"
     ]
    }
   ],
   "source": [
    "#### Slide 18: Summary statistics: Body Temp and Heart Rate  ####\n",
    "\n",
    "# Describe the `Body Temp` summary statistics.\n",
    "print(temp_heart_regression['Body Temp'].describe())\n",
    "# Describe the `Heart Rate` summary statistics.\n",
    "print(temp_heart_regression['Heart Rate'].describe())"
   ]
  },
  {
   "cell_type": "code",
   "execution_count": 9,
   "metadata": {},
   "outputs": [
    {
     "data": {
      "text/html": [
       "<div>\n",
       "<style scoped>\n",
       "    .dataframe tbody tr th:only-of-type {\n",
       "        vertical-align: middle;\n",
       "    }\n",
       "\n",
       "    .dataframe tbody tr th {\n",
       "        vertical-align: top;\n",
       "    }\n",
       "\n",
       "    .dataframe thead th {\n",
       "        text-align: right;\n",
       "    }\n",
       "</style>\n",
       "<table border=\"1\" class=\"dataframe\">\n",
       "  <thead>\n",
       "    <tr style=\"text-align: right;\">\n",
       "      <th></th>\n",
       "      <th>Body Temp</th>\n",
       "      <th>Heart Rate</th>\n",
       "    </tr>\n",
       "  </thead>\n",
       "  <tbody>\n",
       "    <tr>\n",
       "      <th>Body Temp</th>\n",
       "      <td>0.537558</td>\n",
       "      <td>1.313381</td>\n",
       "    </tr>\n",
       "    <tr>\n",
       "      <th>Heart Rate</th>\n",
       "      <td>1.313381</td>\n",
       "      <td>49.872928</td>\n",
       "    </tr>\n",
       "  </tbody>\n",
       "</table>\n",
       "</div>"
      ],
      "text/plain": [
       "            Body Temp  Heart Rate\n",
       "Body Temp    0.537558    1.313381\n",
       "Heart Rate   1.313381   49.872928"
      ]
     },
     "execution_count": 9,
     "metadata": {},
     "output_type": "execute_result"
    }
   ],
   "source": [
    "#### Slide 20: Summary statistics: covariance in Python  ####\n",
    "\n",
    "temp_heart_regression.cov()"
   ]
  },
  {
   "cell_type": "code",
   "execution_count": 10,
   "metadata": {},
   "outputs": [
    {
     "name": "stdout",
     "output_type": "stream",
     "text": [
      "            Body Temp  Heart Rate\n",
      "Body Temp    1.000000    0.253656\n",
      "Heart Rate   0.253656    1.000000\n"
     ]
    }
   ],
   "source": [
    "#### Slide 21: Summary statistics: correlation is scaled cov  ####\n",
    "\n",
    "temp_heart_regression.corr()\n",
    "temp_heart_cor = temp_heart_regression.corr()\n",
    "# Create correlation plot.\n",
    "print(temp_heart_cor)"
   ]
  },
  {
   "cell_type": "code",
   "execution_count": 52,
   "metadata": {},
   "outputs": [],
   "source": [
    "#### Slide 28: Exercise 1  ####"
   ]
  },
  {
   "cell_type": "code",
   "execution_count": 12,
   "metadata": {},
   "outputs": [
    {
     "data": {
      "text/html": [
       "<div>\n",
       "<style scoped>\n",
       "    .dataframe tbody tr th:only-of-type {\n",
       "        vertical-align: middle;\n",
       "    }\n",
       "\n",
       "    .dataframe tbody tr th {\n",
       "        vertical-align: top;\n",
       "    }\n",
       "\n",
       "    .dataframe thead th {\n",
       "        text-align: right;\n",
       "    }\n",
       "</style>\n",
       "<table border=\"1\" class=\"dataframe\">\n",
       "  <thead>\n",
       "    <tr style=\"text-align: right;\">\n",
       "      <th></th>\n",
       "      <th>Body Temp</th>\n",
       "      <th>Heart Rate</th>\n",
       "    </tr>\n",
       "  </thead>\n",
       "  <tbody>\n",
       "    <tr>\n",
       "      <th>0</th>\n",
       "      <td>96.3</td>\n",
       "      <td>70</td>\n",
       "    </tr>\n",
       "    <tr>\n",
       "      <th>1</th>\n",
       "      <td>96.7</td>\n",
       "      <td>71</td>\n",
       "    </tr>\n",
       "    <tr>\n",
       "      <th>2</th>\n",
       "      <td>96.9</td>\n",
       "      <td>74</td>\n",
       "    </tr>\n",
       "    <tr>\n",
       "      <th>3</th>\n",
       "      <td>97.0</td>\n",
       "      <td>80</td>\n",
       "    </tr>\n",
       "    <tr>\n",
       "      <th>4</th>\n",
       "      <td>97.1</td>\n",
       "      <td>73</td>\n",
       "    </tr>\n",
       "  </tbody>\n",
       "</table>\n",
       "</div>"
      ],
      "text/plain": [
       "   Body Temp  Heart Rate\n",
       "0       96.3          70\n",
       "1       96.7          71\n",
       "2       96.9          74\n",
       "3       97.0          80\n",
       "4       97.1          73"
      ]
     },
     "execution_count": 12,
     "metadata": {},
     "output_type": "execute_result"
    }
   ],
   "source": [
    "#### Slide 30: Linear regression: Temp heart rate data  ####\n",
    "\n",
    "# Let's look at the data we will be working with.\n",
    "temp_heart_regression.head()"
   ]
  },
  {
   "cell_type": "code",
   "execution_count": 13,
   "metadata": {},
   "outputs": [
    {
     "data": {
      "image/png": "[encoded data removed]",
      "text/plain": [
       "<Figure size 432x288 with 1 Axes>"
      ]
     },
     "metadata": {
      "needs_background": "light"
     },
     "output_type": "display_data"
    }
   ],
   "source": [
    "#### Slide 35: EDA: scatterplot  ####\n",
    "\n",
    "# Make scatterplot.\n",
    "plt.scatter(temp_heart_regression['Heart Rate'],\n",
    "            temp_heart_regression['Body Temp'])\n",
    "plt.title(\"Heart Rate vs Body Temp\")\n",
    "plt.xlabel(\"Heart Rate\")\n",
    "plt.ylabel(\"Body Temp\")\n",
    "plt.show()"
   ]
  },
  {
   "cell_type": "code",
   "execution_count": 14,
   "metadata": {},
   "outputs": [
    {
     "name": "stderr",
     "output_type": "stream",
     "text": [
      "/anaconda3/lib/python3.7/site-packages/matplotlib/axes/_axes.py:6521: MatplotlibDeprecationWarning: \n",
      "The 'normed' kwarg was deprecated in Matplotlib 2.1 and will be removed in 3.1. Use 'density' instead.\n",
      "  alternative=\"'density'\", removal=\"3.1\")\n"
     ]
    },
    {
     "data": {
      "text/plain": [
       "Text(0.5, 0, 'Body Temp')"
      ]
     },
     "execution_count": 14,
     "metadata": {},
     "output_type": "execute_result"
    },
    {
     "data": {
      "image/png": "[encoded data removed]",
      "text/plain": [
       "<Figure size 432x288 with 1 Axes>"
      ]
     },
     "metadata": {
      "needs_background": "light"
     },
     "output_type": "display_data"
    }
   ],
   "source": [
    "#### Slide 36: EDA: histogram `Body Temp`  ####\n",
    "\n",
    "plt.hist(temp_heart_regression['Body Temp'], \n",
    "         normed = True, \n",
    "         bins = 10)\n",
    "plt.xlabel('Body Temp')"
   ]
  },
  {
   "cell_type": "code",
   "execution_count": 15,
   "metadata": {},
   "outputs": [
    {
     "name": "stderr",
     "output_type": "stream",
     "text": [
      "/anaconda3/lib/python3.7/site-packages/matplotlib/axes/_axes.py:6521: MatplotlibDeprecationWarning: \n",
      "The 'normed' kwarg was deprecated in Matplotlib 2.1 and will be removed in 3.1. Use 'density' instead.\n",
      "  alternative=\"'density'\", removal=\"3.1\")\n"
     ]
    },
    {
     "data": {
      "text/plain": [
       "Text(0.5, 0, 'Heart Rate')"
      ]
     },
     "execution_count": 15,
     "metadata": {},
     "output_type": "execute_result"
    },
    {
     "data": {
      "image/png": "[encoded data removed]",
      "text/plain": [
       "<Figure size 432x288 with 1 Axes>"
      ]
     },
     "metadata": {
      "needs_background": "light"
     },
     "output_type": "display_data"
    }
   ],
   "source": [
    "#### Slide 37: EDA: histogram `Heart Rate`  ####\n",
    "\n",
    "plt.hist(temp_heart_regression['Heart Rate'], \n",
    "         normed = True, \n",
    "         bins = 10)\n",
    "plt.xlabel('Heart Rate')\n"
   ]
  },
  {
   "cell_type": "code",
   "execution_count": 16,
   "metadata": {},
   "outputs": [
    {
     "name": "stdout",
     "output_type": "stream",
     "text": [
      "0\n",
      "0\n"
     ]
    }
   ],
   "source": [
    "#### Slide 40: Data cleaning: NAs  ####\n",
    "\n",
    "# Check how many values are null in the `Body Temp` column.\n",
    "print(temp_heart_regression['Body Temp'].isnull().sum())\n",
    "# Check how many values are null in the `Heart Rate` column.\n",
    "print(temp_heart_regression['Heart Rate'].isnull().sum())\n",
    "\n"
   ]
  },
  {
   "cell_type": "code",
   "execution_count": 19,
   "metadata": {},
   "outputs": [
    {
     "name": "stdout",
     "output_type": "stream",
     "text": [
      "Empty DataFrame\n",
      "Columns: [Body Temp, Heart Rate]\n",
      "Index: []\n"
     ]
    }
   ],
   "source": [
    "#### Slide 41: Data cleaning: NAs  ####\n",
    "\n",
    "print(temp_heart_regression[temp_heart_regression['Body Temp'].isnull()])\n",
    "\n"
   ]
  },
  {
   "cell_type": "code",
   "execution_count": 18,
   "metadata": {},
   "outputs": [
    {
     "name": "stdout",
     "output_type": "stream",
     "text": [
      "0\n"
     ]
    }
   ],
   "source": [
    "#### Slide 42: Data cleaning: use fillna()  ####\n",
    "\n",
    "# Set the dataframe equal to the imputed dataset.\n",
    "temp_heart_regression = temp_heart_regression.fillna(temp_heart_regression.mean())\n",
    "# Check how many values are null in the `Body Temp` column.\n",
    "print(temp_heart_regression['Body Temp'].isnull().sum())"
   ]
  },
  {
   "cell_type": "code",
   "execution_count": 19,
   "metadata": {},
   "outputs": [
    {
     "name": "stdout",
     "output_type": "stream",
     "text": [
      "(130, 2)\n"
     ]
    }
   ],
   "source": [
    "#### Slide 45: Data cleaning: testing for near zero variance  ####\n",
    "\n",
    "# Using sklearn, look for low variance within the columns.\n",
    "# We instantiate the function.\n",
    "selector = VarianceThreshold()\n",
    "# Name the cleaned dataset temp_heart_regression_clean.\n",
    "temp_heart_regression_clean = selector.fit_transform(temp_heart_regression)\n",
    "# Let's see if the dimensions changed.\n",
    "print(temp_heart_regression_clean.shape)\n",
    "\n"
   ]
  },
  {
   "cell_type": "code",
   "execution_count": 20,
   "metadata": {},
   "outputs": [],
   "source": [
    "#### Slide 48: Implement linear regression  ####\n",
    "\n",
    "# Two variables for single regression.\n",
    "X = pd.DataFrame(temp_heart_regression_clean[:,1]) # independent variable\n",
    "# Make sure to add the constant term so that we have a column for the intercept.\n",
    "X = sm.add_constant(X)\n",
    "y = pd.DataFrame(temp_heart_regression_clean[:,0])  # dependent variable\n",
    "\n"
   ]
  },
  {
   "cell_type": "code",
   "execution_count": 21,
   "metadata": {},
   "outputs": [],
   "source": [
    "#### Slide 49: Setting the seed  ####\n",
    "\n",
    "np.random.seed(1)"
   ]
  },
  {
   "cell_type": "code",
   "execution_count": 23,
   "metadata": {},
   "outputs": [
    {
     "data": {
      "text/html": [
       "<table class=\"simpletable\">\n",
       "<caption>OLS Regression Results</caption>\n",
       "<tr>\n",
       "  <th>Dep. Variable:</th>            <td>0</td>        <th>  R-squared:         </th> <td>   0.064</td>\n",
       "</tr>\n",
       "<tr>\n",
       "  <th>Model:</th>                   <td>OLS</td>       <th>  Adj. R-squared:    </th> <td>   0.057</td>\n",
       "</tr>\n",
       "<tr>\n",
       "  <th>Method:</th>             <td>Least Squares</td>  <th>  F-statistic:       </th> <td>   8.802</td>\n",
       "</tr>\n",
       "<tr>\n",
       "  <th>Date:</th>             <td>Mon, 26 Aug 2019</td> <th>  Prob (F-statistic):</th>  <td>0.00359</td>\n",
       "</tr>\n",
       "<tr>\n",
       "  <th>Time:</th>                 <td>10:28:16</td>     <th>  Log-Likelihood:    </th> <td> -139.29</td>\n",
       "</tr>\n",
       "<tr>\n",
       "  <th>No. Observations:</th>      <td>   130</td>      <th>  AIC:               </th> <td>   282.6</td>\n",
       "</tr>\n",
       "<tr>\n",
       "  <th>Df Residuals:</th>          <td>   128</td>      <th>  BIC:               </th> <td>   288.3</td>\n",
       "</tr>\n",
       "<tr>\n",
       "  <th>Df Model:</th>              <td>     1</td>      <th>                     </th>     <td> </td>   \n",
       "</tr>\n",
       "<tr>\n",
       "  <th>Covariance Type:</th>      <td>nonrobust</td>    <th>                     </th>     <td> </td>   \n",
       "</tr>\n",
       "</table>\n",
       "<table class=\"simpletable\">\n",
       "<tr>\n",
       "    <td></td>       <th>coef</th>     <th>std err</th>      <th>t</th>      <th>P>|t|</th>  <th>[0.025</th>    <th>0.975]</th>  \n",
       "</tr>\n",
       "<tr>\n",
       "  <th>const</th> <td>   96.3068</td> <td>    0.658</td> <td>  146.429</td> <td> 0.000</td> <td>   95.005</td> <td>   97.608</td>\n",
       "</tr>\n",
       "<tr>\n",
       "  <th>0</th>     <td>    0.0263</td> <td>    0.009</td> <td>    2.967</td> <td> 0.004</td> <td>    0.009</td> <td>    0.044</td>\n",
       "</tr>\n",
       "</table>\n",
       "<table class=\"simpletable\">\n",
       "<tr>\n",
       "  <th>Omnibus:</th>       <td> 2.917</td> <th>  Durbin-Watson:     </th> <td>   0.278</td>\n",
       "</tr>\n",
       "<tr>\n",
       "  <th>Prob(Omnibus):</th> <td> 0.233</td> <th>  Jarque-Bera (JB):  </th> <td>   2.986</td>\n",
       "</tr>\n",
       "<tr>\n",
       "  <th>Skew:</th>          <td> 0.051</td> <th>  Prob(JB):          </th> <td>   0.225</td>\n",
       "</tr>\n",
       "<tr>\n",
       "  <th>Kurtosis:</th>      <td> 3.735</td> <th>  Cond. No.          </th> <td>    781.</td>\n",
       "</tr>\n",
       "</table><br/><br/>Warnings:<br/>[1] Standard Errors assume that the covariance matrix of the errors is correctly specified."
      ],
      "text/plain": [
       "<class 'statsmodels.iolib.summary.Summary'>\n",
       "\"\"\"\n",
       "                            OLS Regression Results                            \n",
       "==============================================================================\n",
       "Dep. Variable:                      0   R-squared:                       0.064\n",
       "Model:                            OLS   Adj. R-squared:                  0.057\n",
       "Method:                 Least Squares   F-statistic:                     8.802\n",
       "Date:                Mon, 26 Aug 2019   Prob (F-statistic):            0.00359\n",
       "Time:                        10:28:16   Log-Likelihood:                -139.29\n",
       "No. Observations:                 130   AIC:                             282.6\n",
       "Df Residuals:                     128   BIC:                             288.3\n",
       "Df Model:                           1                                         \n",
       "Covariance Type:            nonrobust                                         \n",
       "==============================================================================\n",
       "                 coef    std err          t      P>|t|      [0.025      0.975]\n",
       "------------------------------------------------------------------------------\n",
       "const         96.3068      0.658    146.429      0.000      95.005      97.608\n",
       "0              0.0263      0.009      2.967      0.004       0.009       0.044\n",
       "==============================================================================\n",
       "Omnibus:                        2.917   Durbin-Watson:                   0.278\n",
       "Prob(Omnibus):                  0.233   Jarque-Bera (JB):                2.986\n",
       "Skew:                           0.051   Prob(JB):                        0.225\n",
       "Kurtosis:                       3.735   Cond. No.                         781.\n",
       "==============================================================================\n",
       "\n",
       "Warnings:\n",
       "[1] Standard Errors assume that the covariance matrix of the errors is correctly specified.\n",
       "\"\"\""
      ]
     },
     "execution_count": 23,
     "metadata": {},
     "output_type": "execute_result"
    }
   ],
   "source": [
    "#### Slide 50: Implement: build a linear model  ####\n",
    "\n",
    "# Build the model, note the difference in argument order.\n",
    "model = sm.OLS(y, X).fit()\n",
    "\n",
    "# Inspect the output of the `sm.OLS` function.\n",
    "model.summary()\n",
    "\n"
   ]
  },
  {
   "cell_type": "code",
   "execution_count": 24,
   "metadata": {},
   "outputs": [
    {
     "data": {
      "image/png": "[encoded data removed]",
      "text/plain": [
       "<Figure size 432x288 with 1 Axes>"
      ]
     },
     "metadata": {
      "needs_background": "light"
     },
     "output_type": "display_data"
    }
   ],
   "source": [
    "#### Slide 51: Implement: plot the fit  ####\n",
    "\n",
    "# Code to plot using matlplotlib.pyplot and statsmodel abline_plot.\n",
    "fig = sm.graphics.abline_plot(model_results = model)\n",
    "ax = fig.axes[0]\n",
    "\n",
    "plt.scatter(temp_heart_regression['Heart Rate'],\n",
    "            temp_heart_regression['Body Temp'])\n",
    "plt.show()\n",
    "\n"
   ]
  },
  {
   "cell_type": "code",
   "execution_count": 65,
   "metadata": {},
   "outputs": [],
   "source": [
    "#### Slide 53: Exercise 2  ####"
   ]
  },
  {
   "cell_type": "code",
   "execution_count": 30,
   "metadata": {},
   "outputs": [
    {
     "name": "stdout",
     "output_type": "stream",
     "text": [
      "0.7119688909228121\n"
     ]
    }
   ],
   "source": [
    "#### Slide 60: Evaluate: residual standard error  ####\n",
    "\n",
    "# Residual standard error\n",
    "print(np.sqrt(model.scale))\n"
   ]
  },
  {
   "cell_type": "code",
   "execution_count": 67,
   "metadata": {},
   "outputs": [],
   "source": [
    "#### Slide 68: Exercise 3  ####"
   ]
  },
  {
   "cell_type": "code",
   "execution_count": 25,
   "metadata": {},
   "outputs": [
    {
     "name": "stdout",
     "output_type": "stream",
     "text": [
      "0    98.150172\n",
      "1    98.176507\n",
      "2    98.255511\n",
      "3    98.413518\n",
      "4    98.229176\n",
      "dtype: float64\n",
      "0   -1.850172\n",
      "1   -1.476507\n",
      "2   -1.355511\n",
      "3   -1.413518\n",
      "4   -1.129176\n",
      "dtype: float64\n"
     ]
    }
   ],
   "source": [
    "#### Slide 71: Assumptions: plot  ####\n",
    "\n",
    "fitted = model.fittedvalues\n",
    "print(fitted.head())\n",
    "residuals = model.resid\n",
    "print(residuals.head())\n",
    "\n"
   ]
  },
  {
   "cell_type": "code",
   "execution_count": 27,
   "metadata": {},
   "outputs": [
    {
     "data": {
      "text/plain": [
       "[<matplotlib.axes._subplots.AxesSubplot at 0x1c262a65c0>]"
      ]
     },
     "execution_count": 27,
     "metadata": {},
     "output_type": "execute_result"
    },
    {
     "data": {
      "image/png": "[encoded data removed]",
      "text/plain": [
       "<Figure size 864x576 with 1 Axes>"
      ]
     },
     "metadata": {
      "needs_background": "light"
     },
     "output_type": "display_data"
    }
   ],
   "source": [
    "#### Slide 72: Assumption: residuals vs. fitted be linear  ####\n",
    "\n",
    "import seaborn as sns\n",
    "\n",
    "plot_lm_1 = plt.figure(1)\n",
    "plot_lm_1.set_figheight(8)\n",
    "plot_lm_1.set_figwidth(12)\n",
    "\n",
    "plot_lm_1.axes[0] = sns.residplot(fitted, \n",
    "                                  'Body Temp', \n",
    "                                  data=temp_heart_regression,\n",
    "                                  lowess = True,\n",
    "                                  scatter_kws = {'alpha': 0.5},\n",
    "                                  line_kws = {'color': 'red',\n",
    "                                              'lw': 1, \n",
    "                                              'alpha': 0.8\n",
    "                                             }\n",
    "                                 )\n",
    "plot_lm_1.axes[0].set_title('Residuals vs Fitted')\n",
    "plot_lm_1.axes[0].set_xlabel('Fitted values')\n",
    "plot_lm_1.axes[0].set_ylabel('Residuals')\n",
    "plot_lm_1.axes\n",
    "\n"
   ]
  },
  {
   "cell_type": "code",
   "execution_count": 28,
   "metadata": {},
   "outputs": [
    {
     "data": {
      "text/plain": [
       "Text(0, 0.5, 'Standardized Residuals')"
      ]
     },
     "execution_count": 28,
     "metadata": {},
     "output_type": "execute_result"
    },
    {
     "data": {
      "image/png": "[encoded data removed]",
      "text/plain": [
       "<Figure size 864x576 with 1 Axes>"
      ]
     },
     "metadata": {
      "needs_background": "light"
     },
     "output_type": "display_data"
    }
   ],
   "source": [
    "\n",
    "#### Slide 74: Assumption: normally distributed residuals  ####\n",
    "\n",
    "from statsmodels.graphics.gofplots import ProbPlot\n",
    "\n",
    "model_norm_residuals = model.get_influence().resid_studentized_internal\n",
    "QQ = ProbPlot(model_norm_residuals)\n",
    "plot_lm_2 = QQ.qqplot(line= '45', \n",
    "                      alpha = 0.5, \n",
    "                      color = '#4C72B0', \n",
    "                      lw = 1)\n",
    "\n",
    "plot_lm_2.set_figheight(8)\n",
    "plot_lm_2.set_figwidth(12)\n",
    "\n",
    "plot_lm_2.axes[0].set_title('Normal Q-Q')\n",
    "plot_lm_2.axes[0].set_xlabel('Theoretical Quantiles')\n",
    "plot_lm_2.axes[0].set_ylabel('Standardized Residuals')\n",
    "\n"
   ]
  },
  {
   "cell_type": "code",
   "execution_count": 29,
   "metadata": {},
   "outputs": [
    {
     "data": {
      "text/plain": [
       "Text(0, 0.5, '$\\\\sqrt{|Standardized Residuals|}$')"
      ]
     },
     "execution_count": 29,
     "metadata": {},
     "output_type": "execute_result"
    },
    {
     "data": {
      "image/png": "[encoded data removed]",
      "text/plain": [
       "<Figure size 864x576 with 1 Axes>"
      ]
     },
     "metadata": {
      "needs_background": "light"
     },
     "output_type": "display_data"
    }
   ],
   "source": [
    "#### Slide 76: Assumption: equal residual variance  ####\n",
    "\n",
    "model_norm_residuals_abs_sqrt = np.sqrt(np.abs(model_norm_residuals))\n",
    "plot_lm_3 = plt.figure(3)\n",
    "plot_lm_3.set_figheight(8)\n",
    "plot_lm_3.set_figwidth(12)\n",
    "\n",
    "plt.scatter(fitted, \n",
    "            model_norm_residuals_abs_sqrt, \n",
    "            alpha = 0.5)\n",
    "sns.regplot(fitted, \n",
    "            model_norm_residuals_abs_sqrt,\n",
    "            scatter = False,\n",
    "            ci = False,\n",
    "            lowess = True,\n",
    "            line_kws = {'color': 'red', 'lw': 1, 'alpha': 0.8})\n",
    "\n",
    "plot_lm_3.axes[0].set_title('Scale-Location')\n",
    "plot_lm_3.axes[0].set_xlabel('Fitted values')\n",
    "plot_lm_3.axes[0].set_ylabel('$\\sqrt{|Standardized Residuals|}$')\n",
    "\n"
   ]
  },
  {
   "cell_type": "code",
   "execution_count": 32,
   "metadata": {},
   "outputs": [
    {
     "name": "stdout",
     "output_type": "stream",
     "text": [
      "Bad data points (bonf(p) < 0.05):\n",
      "Empty DataFrame\n",
      "Columns: [student_resid, unadj_p, bonf(p)]\n",
      "Index: []\n"
     ]
    }
   ],
   "source": [
    "#### Slide 78: Influential cases: residuals vs. leverage  ####\n",
    "\n",
    "# Let's find influential points.\n",
    "test = model.outlier_test()\n",
    "print('Bad data points (bonf(p) < 0.05):')\n",
    "print(test[test['bonf(p)'] < 0.05])\n",
    "\n",
    "# Save the final outliers.\n",
    "test_final = test[test['bonf(p)'] < 0.05]\n",
    "\n"
   ]
  },
  {
   "cell_type": "code",
   "execution_count": 33,
   "metadata": {},
   "outputs": [
    {
     "name": "stdout",
     "output_type": "stream",
     "text": [
      "(130, 2)\n"
     ]
    }
   ],
   "source": [
    "\n",
    "#### Slide 79: Removing outliers from regression dataset  ####\n",
    "\n",
    "test_final = test[test['bonf(p)'] < 0.05]\n",
    "temp_heart_no_outliers = temp_heart_regression.drop(test_final.index)\n",
    "# Look at the shape of the new dataframe, notice that no rows have actually been dropped.\n",
    "print(temp_heart_no_outliers.shape)\n",
    "\n"
   ]
  },
  {
   "cell_type": "code",
   "execution_count": null,
   "metadata": {},
   "outputs": [],
   "source": []
  }
 ],
 "metadata": {
  "kernelspec": {
   "display_name": "Python 3",
   "language": "python",
   "name": "python3"
  },
  "language": "python",
  "language_info": {
   "codemirror_mode": {
    "name": "ipython",
    "version": 3
   },
   "file_extension": ".py",
   "mimetype": "text/x-python",
   "name": "python",
   "nbconvert_exporter": "python",
   "pygments_lexer": "ipython3",
   "version": "3.7.1"
  }
 },
 "nbformat": 4,
 "nbformat_minor": 2
}
