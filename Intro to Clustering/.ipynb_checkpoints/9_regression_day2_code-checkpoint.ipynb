{
 "cells": [
  {
   "cell_type": "code",
   "execution_count": null,
   "metadata": {},
   "outputs": [],
   "source": [
    "\n",
    "#######################################################\n",
    "#######################################################\n",
    "############    COPYRIGHT - DATA SOCIETY   ############\n",
    "#######################################################\n",
    "#######################################################\n",
    "\n",
    "## 9 REGRESSION DAY2 ##\n",
    "\n",
    "## NOTE: To run individual pieces of code, select the line of code and\n",
    "##       press ctrl + enter for PCs or command + enter for Macs\n",
    "\n"
   ]
  },
  {
   "cell_type": "code",
   "execution_count": 1,
   "metadata": {},
   "outputs": [],
   "source": [
    "#=================================================-\n",
    "#### Slide 2: Import packages  ####\n",
    "\n",
    "import os\n",
    "import pandas as pd\n",
    "import numpy as np\n",
    "import pickle\n",
    "\n",
    "import statsmodels.api as sm\n",
    "import statsmodels.formula.api as smf\n",
    "import matplotlib.pyplot as plt\n",
    "from sklearn.feature_selection import VarianceThreshold\n",
    "\n",
    "# New today - we will introduce it when we use it.\n",
    "from sklearn.model_selection import train_test_split\n",
    "from statsmodels.stats.outliers_influence import variance_inflation_factor\n",
    "\n"
   ]
  },
  {
   "cell_type": "code",
   "execution_count": 3,
   "metadata": {},
   "outputs": [],
   "source": [
    "# Set `main_dir` to the location of your `af-werx` folder (for Mac).\n",
    "main_dir = '/Users/datasociety/Desktop/af-werx'\n",
    "data_dir = main_dir + \"/data\"\n",
    "plot_dir = main_dir + \"/plot\""
   ]
  },
  {
   "cell_type": "code",
   "execution_count": 4,
   "metadata": {},
   "outputs": [
    {
     "name": "stdout",
     "output_type": "stream",
     "text": [
      "/Users/datasociety/Desktop/af-werx/data\n"
     ]
    }
   ],
   "source": [
    "#### Slide 4: Working directory  ####\n",
    "\n",
    "# Set working directory.\n",
    "os.chdir(data_dir)\n",
    "# Check working directory.\n",
    "print(os.getcwd())\n",
    "\n"
   ]
  },
  {
   "cell_type": "code",
   "execution_count": 5,
   "metadata": {},
   "outputs": [
    {
     "data": {
      "text/html": [
       "<div>\n",
       "<style scoped>\n",
       "    .dataframe tbody tr th:only-of-type {\n",
       "        vertical-align: middle;\n",
       "    }\n",
       "\n",
       "    .dataframe tbody tr th {\n",
       "        vertical-align: top;\n",
       "    }\n",
       "\n",
       "    .dataframe thead th {\n",
       "        text-align: right;\n",
       "    }\n",
       "</style>\n",
       "<table border=\"1\" class=\"dataframe\">\n",
       "  <thead>\n",
       "    <tr style=\"text-align: right;\">\n",
       "      <th></th>\n",
       "      <th>Calories</th>\n",
       "      <th>Total Fat (g)</th>\n",
       "      <th>Sugars (g)</th>\n",
       "    </tr>\n",
       "  </thead>\n",
       "  <tbody>\n",
       "    <tr>\n",
       "      <th>0</th>\n",
       "      <td>240</td>\n",
       "      <td>8.0</td>\n",
       "      <td>6.0</td>\n",
       "    </tr>\n",
       "    <tr>\n",
       "      <th>1</th>\n",
       "      <td>290</td>\n",
       "      <td>11.0</td>\n",
       "      <td>7.0</td>\n",
       "    </tr>\n",
       "    <tr>\n",
       "      <th>2</th>\n",
       "      <td>530</td>\n",
       "      <td>27.0</td>\n",
       "      <td>9.0</td>\n",
       "    </tr>\n",
       "    <tr>\n",
       "      <th>3</th>\n",
       "      <td>520</td>\n",
       "      <td>26.0</td>\n",
       "      <td>10.0</td>\n",
       "    </tr>\n",
       "    <tr>\n",
       "      <th>4</th>\n",
       "      <td>720</td>\n",
       "      <td>40.0</td>\n",
       "      <td>14.0</td>\n",
       "    </tr>\n",
       "  </tbody>\n",
       "</table>\n",
       "</div>"
      ],
      "text/plain": [
       "   Calories  Total Fat (g)  Sugars (g)\n",
       "0       240            8.0         6.0\n",
       "1       290           11.0         7.0\n",
       "2       530           27.0         9.0\n",
       "3       520           26.0        10.0\n",
       "4       720           40.0        14.0"
      ]
     },
     "execution_count": 5,
     "metadata": {},
     "output_type": "execute_result"
    }
   ],
   "source": [
    "#=================================================-\n",
    "#### Slide 12: Read in the data and subset  ####\n",
    "\n",
    "# This dataset is of type dataframe. Let's assign this dataset to a variable, so that we can manipulate it freely.\n",
    "fast_food = pd.read_csv('fast_food_data.csv')\n",
    "fast_food = fast_food.loc[:,[\"Calories\", \"Total Fat (g)\", \"Sugars (g)\"]]\n",
    "fast_food.head()\n",
    "\n"
   ]
  },
  {
   "cell_type": "code",
   "execution_count": 6,
   "metadata": {},
   "outputs": [
    {
     "name": "stdout",
     "output_type": "stream",
     "text": [
      "          Calories  Total Fat (g)  Sugars (g)\n",
      "count   126.000000     126.000000  126.000000\n",
      "mean    532.492063      28.544444   13.280952\n",
      "std     250.844294      18.240963   21.022216\n",
      "min     130.000000       3.500000    0.000000\n",
      "25%     330.000000      14.175000    3.000000\n",
      "50%     515.000000      22.500000    7.000000\n",
      "75%     670.000000      39.500000   11.000000\n",
      "max    1240.000000      87.000000   93.000000\n"
     ]
    }
   ],
   "source": [
    "#=================================================-\n",
    "#### Slide 15: Summary statistics: multiple regression  ####\n",
    "\n",
    "# Let's look at the summary statistics.\n",
    "print(fast_food.describe())\n",
    "\n"
   ]
  },
  {
   "cell_type": "code",
   "execution_count": 7,
   "metadata": {},
   "outputs": [
    {
     "name": "stdout",
     "output_type": "stream",
     "text": [
      "                   Calories  Total Fat (g)   Sugars (g)\n",
      "Calories       62922.859937    4304.584356  1308.093448\n",
      "Total Fat (g)   4304.584356     332.732729     5.880293\n",
      "Sugars (g)      1308.093448       5.880293   441.933554\n",
      "               Calories  Total Fat (g)  Sugars (g)\n",
      "Calories       1.000000       0.940761    0.248060\n",
      "Total Fat (g)  0.940761       1.000000    0.015335\n",
      "Sugars (g)     0.248060       0.015335    1.000000\n"
     ]
    }
   ],
   "source": [
    "#=================================================-\n",
    "#### Slide 16: Summary statistics: covariance and correlation  ####\n",
    "\n",
    "print(fast_food.cov())\n",
    "print(fast_food.corr())\n",
    "fast_food_cor = fast_food.corr()\n",
    "\n"
   ]
  },
  {
   "cell_type": "code",
   "execution_count": 8,
   "metadata": {},
   "outputs": [
    {
     "name": "stdout",
     "output_type": "stream",
     "text": [
      "0\n",
      "0\n",
      "0\n"
     ]
    }
   ],
   "source": [
    "#=================================================-\n",
    "#### Slide 18: Data cleaning: NAs  ####\n",
    "\n",
    "# Check how many values are null in the Calories column.\n",
    "print(fast_food.Calories.isnull().sum())\n",
    "\n",
    "# Check how many values are null in the Total Fat (g) column.\n",
    "print(fast_food[\"Total Fat (g)\"].isnull().sum())\n",
    "\n",
    "# Check how many values are null in the Sugars (g) column.\n",
    "print(fast_food[\"Sugars (g)\"].isnull().sum())\n",
    "\n"
   ]
  },
  {
   "cell_type": "code",
   "execution_count": 9,
   "metadata": {},
   "outputs": [
    {
     "name": "stdout",
     "output_type": "stream",
     "text": [
      "(126, 3)\n"
     ]
    }
   ],
   "source": [
    "#=================================================-\n",
    "#### Slide 19: Data cleaning: near zero variance  ####\n",
    "\n",
    "# Using sklearn, let's look for low variance within the columns.\n",
    "# First, instantiate the function.\n",
    "selector = VarianceThreshold()\n",
    "# Then, name the cleaned dataset fast_food_clean.\n",
    "fast_food_clean = selector.fit_transform(fast_food)\n",
    "# Let's see if the dimensions changed.\n",
    "print(fast_food_clean.shape)\n",
    "\n"
   ]
  },
  {
   "cell_type": "code",
   "execution_count": 10,
   "metadata": {},
   "outputs": [
    {
     "data": {
      "text/plain": [
       "Text(0.5, 0, 'Calories of different products')"
      ]
     },
     "execution_count": 10,
     "metadata": {},
     "output_type": "execute_result"
    },
    {
     "data": {
      "image/png": "[encoded data removed]",
      "text/plain": [
       "<Figure size 432x288 with 1 Axes>"
      ]
     },
     "metadata": {
      "needs_background": "light"
     },
     "output_type": "display_data"
    }
   ],
   "source": [
    "#=================================================-\n",
    "#### Slide 20: EDA: histogram `Calories`  ####\n",
    "\n",
    "plt.hist(fast_food['Calories'],  \n",
    "         bins = 10)\n",
    "plt.xlabel('Calories of different products')\n",
    "\n"
   ]
  },
  {
   "cell_type": "code",
   "execution_count": 11,
   "metadata": {},
   "outputs": [
    {
     "data": {
      "text/plain": [
       "Text(0.5, 0, 'Total Fat (g) of different products')"
      ]
     },
     "execution_count": 11,
     "metadata": {},
     "output_type": "execute_result"
    },
    {
     "data": {
      "image/png": "[encoded data removed]",
      "text/plain": [
       "<Figure size 432x288 with 1 Axes>"
      ]
     },
     "metadata": {
      "needs_background": "light"
     },
     "output_type": "display_data"
    }
   ],
   "source": [
    "#=================================================-\n",
    "#### Slide 21: EDA: histogram `Total Fat (g)`  ####\n",
    "\n",
    "plt.hist(fast_food['Total Fat (g)'],  bins = 10)\n",
    "plt.xlabel('Total Fat (g) of different products')\n",
    "\n"
   ]
  },
  {
   "cell_type": "code",
   "execution_count": 12,
   "metadata": {},
   "outputs": [
    {
     "data": {
      "text/plain": [
       "Text(0.5, 0, 'Sugars (g) of different products')"
      ]
     },
     "execution_count": 12,
     "metadata": {},
     "output_type": "execute_result"
    },
    {
     "data": {
      "image/png": "[encoded data removed]",
      "text/plain": [
       "<Figure size 432x288 with 1 Axes>"
      ]
     },
     "metadata": {
      "needs_background": "light"
     },
     "output_type": "display_data"
    }
   ],
   "source": [
    "#=================================================-\n",
    "#### Slide 22: EDA: histogram `Sugars (g)`  ####\n",
    "\n",
    "plt.hist(fast_food['Sugars (g)'], bins = 10)\n",
    "plt.xlabel('Sugars (g) of different products')\n",
    "\n"
   ]
  },
  {
   "cell_type": "code",
   "execution_count": 14,
   "metadata": {},
   "outputs": [],
   "source": [
    "#=================================================-\n",
    "#### Slide 25: Modeling with our dataset  ####\n",
    "\n",
    "# Three variables for multiple regression.\n",
    "\n",
    "# Set X to `Total Fat (g)` and `Sugars (g)`\n",
    "X = pd.DataFrame(fast_food.loc[:, ['Total Fat (g)', \n",
    "                                   'Sugars (g)']])\n",
    "# Add a constant.\n",
    "X = sm.add_constant(X)\n",
    "# Rename columns for clarity when interpreting results.\n",
    "X = X.rename(columns = {'const':'constant',\n",
    "                        0:'Fat', \n",
    "                        1:'Sugar'})\n",
    "\n",
    "# y - `Calories`\n",
    "y = pd.DataFrame(fast_food.loc[:,'Calories'])\n",
    "# Rename columns for clarity when interpreting results.\n",
    "y = y.rename(columns = {0:'Calories'})\n",
    "\n"
   ]
  },
  {
   "cell_type": "code",
   "execution_count": 13,
   "metadata": {},
   "outputs": [],
   "source": [
    "#=================================================-\n",
    "#### Slide 27: Exercise 1  ####\n",
    "\n",
    "\n",
    "\n"
   ]
  },
  {
   "cell_type": "code",
   "execution_count": 16,
   "metadata": {},
   "outputs": [
    {
     "name": "stdout",
     "output_type": "stream",
     "text": [
      "(88, 3) (88, 1)\n",
      "(38, 3) (38, 1)\n"
     ]
    }
   ],
   "source": [
    "#=================================================-\n",
    "#### Slide 38: Apply to fast_food regression  ####\n",
    "\n",
    "# Set the seed.\n",
    "np.random.seed(1)\n",
    "\n",
    "# Create the training and test sets.\n",
    "X_train, X_test, y_train, y_test = train_test_split(X, y, test_size = 0.3)\n",
    "\n",
    "# Check to see if the datasets split correctly.\n",
    "print(X_train.shape, y_train.shape)\n",
    "print(X_test.shape, y_test.shape)\n",
    "\n"
   ]
  },
  {
   "cell_type": "code",
   "execution_count": 18,
   "metadata": {},
   "outputs": [
    {
     "data": {
      "text/html": [
       "<table class=\"simpletable\">\n",
       "<caption>OLS Regression Results</caption>\n",
       "<tr>\n",
       "  <th>Dep. Variable:</th>        <td>Calories</td>     <th>  R-squared:         </th> <td>   0.949</td>\n",
       "</tr>\n",
       "<tr>\n",
       "  <th>Model:</th>                   <td>OLS</td>       <th>  Adj. R-squared:    </th> <td>   0.948</td>\n",
       "</tr>\n",
       "<tr>\n",
       "  <th>Method:</th>             <td>Least Squares</td>  <th>  F-statistic:       </th> <td>   790.2</td>\n",
       "</tr>\n",
       "<tr>\n",
       "  <th>Date:</th>             <td>Tue, 27 Aug 2019</td> <th>  Prob (F-statistic):</th> <td>1.22e-55</td>\n",
       "</tr>\n",
       "<tr>\n",
       "  <th>Time:</th>                 <td>10:28:18</td>     <th>  Log-Likelihood:    </th> <td> -485.05</td>\n",
       "</tr>\n",
       "<tr>\n",
       "  <th>No. Observations:</th>      <td>    88</td>      <th>  AIC:               </th> <td>   976.1</td>\n",
       "</tr>\n",
       "<tr>\n",
       "  <th>Df Residuals:</th>          <td>    85</td>      <th>  BIC:               </th> <td>   983.5</td>\n",
       "</tr>\n",
       "<tr>\n",
       "  <th>Df Model:</th>              <td>     2</td>      <th>                     </th>     <td> </td>   \n",
       "</tr>\n",
       "<tr>\n",
       "  <th>Covariance Type:</th>      <td>nonrobust</td>    <th>                     </th>     <td> </td>   \n",
       "</tr>\n",
       "</table>\n",
       "<table class=\"simpletable\">\n",
       "<tr>\n",
       "        <td></td>           <th>coef</th>     <th>std err</th>      <th>t</th>      <th>P>|t|</th>  <th>[0.025</th>    <th>0.975]</th>  \n",
       "</tr>\n",
       "<tr>\n",
       "  <th>constant</th>      <td>  119.6427</td> <td>   12.124</td> <td>    9.868</td> <td> 0.000</td> <td>   95.536</td> <td>  143.749</td>\n",
       "</tr>\n",
       "<tr>\n",
       "  <th>Total Fat (g)</th> <td>   13.2056</td> <td>    0.348</td> <td>   37.972</td> <td> 0.000</td> <td>   12.514</td> <td>   13.897</td>\n",
       "</tr>\n",
       "<tr>\n",
       "  <th>Sugars (g)</th>    <td>    2.6217</td> <td>    0.355</td> <td>    7.385</td> <td> 0.000</td> <td>    1.916</td> <td>    3.327</td>\n",
       "</tr>\n",
       "</table>\n",
       "<table class=\"simpletable\">\n",
       "<tr>\n",
       "  <th>Omnibus:</th>       <td> 1.534</td> <th>  Durbin-Watson:     </th> <td>   1.978</td>\n",
       "</tr>\n",
       "<tr>\n",
       "  <th>Prob(Omnibus):</th> <td> 0.464</td> <th>  Jarque-Bera (JB):  </th> <td>   1.326</td>\n",
       "</tr>\n",
       "<tr>\n",
       "  <th>Skew:</th>          <td>-0.138</td> <th>  Prob(JB):          </th> <td>   0.515</td>\n",
       "</tr>\n",
       "<tr>\n",
       "  <th>Kurtosis:</th>      <td> 2.465</td> <th>  Cond. No.          </th> <td>    67.7</td>\n",
       "</tr>\n",
       "</table><br/><br/>Warnings:<br/>[1] Standard Errors assume that the covariance matrix of the errors is correctly specified."
      ],
      "text/plain": [
       "<class 'statsmodels.iolib.summary.Summary'>\n",
       "\"\"\"\n",
       "                            OLS Regression Results                            \n",
       "==============================================================================\n",
       "Dep. Variable:               Calories   R-squared:                       0.949\n",
       "Model:                            OLS   Adj. R-squared:                  0.948\n",
       "Method:                 Least Squares   F-statistic:                     790.2\n",
       "Date:                Tue, 27 Aug 2019   Prob (F-statistic):           1.22e-55\n",
       "Time:                        10:28:18   Log-Likelihood:                -485.05\n",
       "No. Observations:                  88   AIC:                             976.1\n",
       "Df Residuals:                      85   BIC:                             983.5\n",
       "Df Model:                           2                                         \n",
       "Covariance Type:            nonrobust                                         \n",
       "=================================================================================\n",
       "                    coef    std err          t      P>|t|      [0.025      0.975]\n",
       "---------------------------------------------------------------------------------\n",
       "constant        119.6427     12.124      9.868      0.000      95.536     143.749\n",
       "Total Fat (g)    13.2056      0.348     37.972      0.000      12.514      13.897\n",
       "Sugars (g)        2.6217      0.355      7.385      0.000       1.916       3.327\n",
       "==============================================================================\n",
       "Omnibus:                        1.534   Durbin-Watson:                   1.978\n",
       "Prob(Omnibus):                  0.464   Jarque-Bera (JB):                1.326\n",
       "Skew:                          -0.138   Prob(JB):                        0.515\n",
       "Kurtosis:                       2.465   Cond. No.                         67.7\n",
       "==============================================================================\n",
       "\n",
       "Warnings:\n",
       "[1] Standard Errors assume that the covariance matrix of the errors is correctly specified.\n",
       "\"\"\""
      ]
     },
     "execution_count": 18,
     "metadata": {},
     "output_type": "execute_result"
    }
   ],
   "source": [
    "#=================================================-\n",
    "#### Slide 40: Multiple linear regression on fast_food  ####\n",
    "\n",
    "# Build a linear model on training data.\n",
    "model_m = sm.OLS(y_train, X_train).fit()\n",
    "model_m.summary()\n",
    "\n"
   ]
  },
  {
   "cell_type": "code",
   "execution_count": 19,
   "metadata": {},
   "outputs": [
    {
     "name": "stdout",
     "output_type": "stream",
     "text": [
      "55     1289.501847\n",
      "65      568.535281\n",
      "100     243.736271\n",
      "10      264.904131\n",
      "85      266.749021\n",
      "dtype: float64\n",
      "55    -49.501847\n",
      "65     -8.535281\n",
      "100   -83.736271\n",
      "10    -34.904131\n",
      "85    -46.749021\n",
      "dtype: float64\n"
     ]
    }
   ],
   "source": [
    "#=================================================-\n",
    "#### Slide 45: Assumptions: plot  ####\n",
    "\n",
    "fitted_m = model_m.fittedvalues\n",
    "print(fitted_m.head())\n",
    "residuals_m = model_m.resid\n",
    "print(residuals_m.head())\n",
    "\n"
   ]
  },
  {
   "cell_type": "code",
   "execution_count": 24,
   "metadata": {},
   "outputs": [],
   "source": [
    "#=================================================-\n",
    "#### Slide 46: Assumptions: plot  ####\n",
    "\n",
    "# Get the normalized residuals.\n",
    "model_m_norm_residuals = model_m.get_influence().resid_studentized_internal\n",
    "# Get the absolute squared normalized residuals.\n",
    "model_m_norm_residuals_abs_sqrt = np.sqrt(np.abs(model_m_norm_residuals))\n",
    "# Get the absolute residuals.\n",
    "model_m_abs_resid = np.abs(residuals_m)\n",
    "# Combine X_train and y_train into one dataframe for plotting.\n",
    "frames = [X_train,y_train]\n",
    "training = pd.concat(frames, axis = 1) # axis = 1 allows us to combine by columns\n",
    "\n"
   ]
  },
  {
   "cell_type": "code",
   "execution_count": 25,
   "metadata": {},
   "outputs": [
    {
     "data": {
      "text/plain": [
       "Text(0, 0.5, 'Residuals')"
      ]
     },
     "execution_count": 25,
     "metadata": {},
     "output_type": "execute_result"
    },
    {
     "data": {
      "image/png": "[encoded data removed]",
      "text/plain": [
       "<Figure size 864x576 with 1 Axes>"
      ]
     },
     "metadata": {
      "needs_background": "light"
     },
     "output_type": "display_data"
    }
   ],
   "source": [
    "#=================================================-\n",
    "#### Slide 47: Assumption: residuals vs. fitted   ####\n",
    "\n",
    "import seaborn as sns\n",
    "\n",
    "# Let's look at assumption 1.\n",
    "plot_lm_1 = plt.figure(1)\n",
    "plot_lm_1.set_figheight(8)\n",
    "plot_lm_1.set_figwidth(12)\n",
    "\n",
    "plot_lm_1.axes[0] = sns.residplot(fitted_m, 'Calories', data = training,\n",
    "lowess = True,\n",
    "scatter_kws = {'alpha': 0.5},\n",
    "line_kws = {'color': 'red', 'lw': 1, 'alpha': 0.8})\n",
    "\n",
    "plot_lm_1.axes[0].set_title('Residuals vs Fitted')\n",
    "plot_lm_1.axes[0].set_xlabel('Fitted values')\n",
    "plot_lm_1.axes[0].set_ylabel('Residuals')\n",
    "\n",
    "\n"
   ]
  },
  {
   "cell_type": "code",
   "execution_count": 26,
   "metadata": {},
   "outputs": [
    {
     "data": {
      "image/png": "[encoded data removed]",
      "text/plain": [
       "<Figure size 864x576 with 1 Axes>"
      ]
     },
     "metadata": {
      "needs_background": "light"
     },
     "output_type": "display_data"
    }
   ],
   "source": [
    "#=================================================-\n",
    "#### Slide 49: Assumption: normally distributed residuals  ####\n",
    "\n",
    "from statsmodels.graphics.gofplots import ProbPlot\n",
    "\n",
    "QQ = ProbPlot(model_m_norm_residuals)\n",
    "plot_lm_2 = QQ.qqplot(line = '45', alpha = 0.5, color = '#4C72B0', lw = 1)\n",
    "\n",
    "plot_lm_2.set_figheight(8)\n",
    "plot_lm_2.set_figwidth(12)\n",
    "\n",
    "plot_lm_2.axes[0].set_title('Normal Q-Q')\n",
    "plot_lm_2.axes[0].set_xlabel('Theoretical Quantiles')\n",
    "plot_lm_2.axes[0].set_ylabel('Standardized Residuals');\n",
    "\n"
   ]
  },
  {
   "cell_type": "code",
   "execution_count": 27,
   "metadata": {},
   "outputs": [
    {
     "data": {
      "text/plain": [
       "Text(0, 0.5, '$\\\\sqrt{|Standardized Residuals|}$')"
      ]
     },
     "execution_count": 27,
     "metadata": {},
     "output_type": "execute_result"
    },
    {
     "data": {
      "image/png": "[encoded data removed]",
      "text/plain": [
       "<Figure size 864x576 with 1 Axes>"
      ]
     },
     "metadata": {
      "needs_background": "light"
     },
     "output_type": "display_data"
    }
   ],
   "source": [
    "#=================================================-\n",
    "#### Slide 50: Assumption: equal residual variance  ####\n",
    "\n",
    "plot_lm_3 = plt.figure(3)\n",
    "plot_lm_3.set_figheight(8)\n",
    "plot_lm_3.set_figwidth(12)\n",
    "\n",
    "plt.scatter(fitted_m, model_m_norm_residuals_abs_sqrt, alpha = 0.5)\n",
    "sns.regplot(fitted_m, model_m_norm_residuals_abs_sqrt,\n",
    "scatter = False,\n",
    "ci = False,\n",
    "lowess = True,\n",
    "line_kws = {'color': 'red', 'lw': 1, 'alpha': 0.8})\n",
    "\n",
    "plot_lm_3.axes[0].set_title('Scale-Location')\n",
    "plot_lm_3.axes[0].set_xlabel('Fitted values')\n",
    "plot_lm_3.axes[0].set_ylabel('$\\sqrt{|Standardized Residuals|}$')\n",
    "\n"
   ]
  },
  {
   "cell_type": "code",
   "execution_count": 21,
   "metadata": {},
   "outputs": [],
   "source": [
    "#=================================================-\n",
    "#### Slide 52: Exercise 2  ####\n",
    "\n",
    "\n",
    "\n"
   ]
  },
  {
   "cell_type": "code",
   "execution_count": 35,
   "metadata": {},
   "outputs": [
    {
     "name": "stdout",
     "output_type": "stream",
     "text": [
      "Bad data points (bonf(p) < 0.05):\n",
      " Empty DataFrame\n",
      "Columns: [student_resid, unadj_p, bonf(p)]\n",
      "Index: []\n"
     ]
    }
   ],
   "source": [
    "#=================================================-\n",
    "#### Slide 54: Influential cases: residuals vs. leverage  ####\n",
    "\n",
    "# Identify the influential points ('\\n' syntax creates a new\n",
    "# line in the output).\n",
    "test_m = model_m.outlier_test()\n",
    "print(\"Bad data points (bonf(p) < 0.05):\\n\", \n",
    "      test_m[test_m['bonf(p)'] < 0.05])\n",
    "# Save the final outliers.\n",
    "test_final_m = test_m[test_m['bonf(p)'] < 0.05]\n",
    "\n"
   ]
  },
  {
   "cell_type": "code",
   "execution_count": 42,
   "metadata": {},
   "outputs": [
    {
     "name": "stdout",
     "output_type": "stream",
     "text": [
      "(88, 3)\n",
      "(88, 1)\n"
     ]
    }
   ],
   "source": [
    "#=================================================-\n",
    "#### Slide 55: Removing outliers from regression dataset  ####\n",
    "\n",
    "test_final_m = test_m[test_m['bonf(p)'] < 0.05]\n",
    "# Make sure that you drop outliers from both X and y train sets.\n",
    "X_train_no_outliers = X_train.drop(test_final_m.index)\n",
    "y_train_no_outliers = y_train.drop(test_final_m.index)\n",
    "# Look at the shape of the new dataframe to check that the rows have actually been dropped.\n",
    "print(X_train_no_outliers.shape)\n",
    "print(y_train_no_outliers.shape)\n",
    "\n"
   ]
  },
  {
   "cell_type": "code",
   "execution_count": 43,
   "metadata": {},
   "outputs": [
    {
     "data": {
      "text/html": [
       "<table class=\"simpletable\">\n",
       "<caption>OLS Regression Results</caption>\n",
       "<tr>\n",
       "  <th>Dep. Variable:</th>        <td>Calories</td>     <th>  R-squared:         </th> <td>   0.949</td>\n",
       "</tr>\n",
       "<tr>\n",
       "  <th>Model:</th>                   <td>OLS</td>       <th>  Adj. R-squared:    </th> <td>   0.948</td>\n",
       "</tr>\n",
       "<tr>\n",
       "  <th>Method:</th>             <td>Least Squares</td>  <th>  F-statistic:       </th> <td>   790.2</td>\n",
       "</tr>\n",
       "<tr>\n",
       "  <th>Date:</th>             <td>Tue, 27 Aug 2019</td> <th>  Prob (F-statistic):</th> <td>1.22e-55</td>\n",
       "</tr>\n",
       "<tr>\n",
       "  <th>Time:</th>                 <td>13:15:19</td>     <th>  Log-Likelihood:    </th> <td> -485.05</td>\n",
       "</tr>\n",
       "<tr>\n",
       "  <th>No. Observations:</th>      <td>    88</td>      <th>  AIC:               </th> <td>   976.1</td>\n",
       "</tr>\n",
       "<tr>\n",
       "  <th>Df Residuals:</th>          <td>    85</td>      <th>  BIC:               </th> <td>   983.5</td>\n",
       "</tr>\n",
       "<tr>\n",
       "  <th>Df Model:</th>              <td>     2</td>      <th>                     </th>     <td> </td>   \n",
       "</tr>\n",
       "<tr>\n",
       "  <th>Covariance Type:</th>      <td>nonrobust</td>    <th>                     </th>     <td> </td>   \n",
       "</tr>\n",
       "</table>\n",
       "<table class=\"simpletable\">\n",
       "<tr>\n",
       "        <td></td>           <th>coef</th>     <th>std err</th>      <th>t</th>      <th>P>|t|</th>  <th>[0.025</th>    <th>0.975]</th>  \n",
       "</tr>\n",
       "<tr>\n",
       "  <th>constant</th>      <td>  119.6427</td> <td>   12.124</td> <td>    9.868</td> <td> 0.000</td> <td>   95.536</td> <td>  143.749</td>\n",
       "</tr>\n",
       "<tr>\n",
       "  <th>Total Fat (g)</th> <td>   13.2056</td> <td>    0.348</td> <td>   37.972</td> <td> 0.000</td> <td>   12.514</td> <td>   13.897</td>\n",
       "</tr>\n",
       "<tr>\n",
       "  <th>Sugars (g)</th>    <td>    2.6217</td> <td>    0.355</td> <td>    7.385</td> <td> 0.000</td> <td>    1.916</td> <td>    3.327</td>\n",
       "</tr>\n",
       "</table>\n",
       "<table class=\"simpletable\">\n",
       "<tr>\n",
       "  <th>Omnibus:</th>       <td> 1.534</td> <th>  Durbin-Watson:     </th> <td>   1.978</td>\n",
       "</tr>\n",
       "<tr>\n",
       "  <th>Prob(Omnibus):</th> <td> 0.464</td> <th>  Jarque-Bera (JB):  </th> <td>   1.326</td>\n",
       "</tr>\n",
       "<tr>\n",
       "  <th>Skew:</th>          <td>-0.138</td> <th>  Prob(JB):          </th> <td>   0.515</td>\n",
       "</tr>\n",
       "<tr>\n",
       "  <th>Kurtosis:</th>      <td> 2.465</td> <th>  Cond. No.          </th> <td>    67.7</td>\n",
       "</tr>\n",
       "</table><br/><br/>Warnings:<br/>[1] Standard Errors assume that the covariance matrix of the errors is correctly specified."
      ],
      "text/plain": [
       "<class 'statsmodels.iolib.summary.Summary'>\n",
       "\"\"\"\n",
       "                            OLS Regression Results                            \n",
       "==============================================================================\n",
       "Dep. Variable:               Calories   R-squared:                       0.949\n",
       "Model:                            OLS   Adj. R-squared:                  0.948\n",
       "Method:                 Least Squares   F-statistic:                     790.2\n",
       "Date:                Tue, 27 Aug 2019   Prob (F-statistic):           1.22e-55\n",
       "Time:                        13:15:19   Log-Likelihood:                -485.05\n",
       "No. Observations:                  88   AIC:                             976.1\n",
       "Df Residuals:                      85   BIC:                             983.5\n",
       "Df Model:                           2                                         \n",
       "Covariance Type:            nonrobust                                         \n",
       "=================================================================================\n",
       "                    coef    std err          t      P>|t|      [0.025      0.975]\n",
       "---------------------------------------------------------------------------------\n",
       "constant        119.6427     12.124      9.868      0.000      95.536     143.749\n",
       "Total Fat (g)    13.2056      0.348     37.972      0.000      12.514      13.897\n",
       "Sugars (g)        2.6217      0.355      7.385      0.000       1.916       3.327\n",
       "==============================================================================\n",
       "Omnibus:                        1.534   Durbin-Watson:                   1.978\n",
       "Prob(Omnibus):                  0.464   Jarque-Bera (JB):                1.326\n",
       "Skew:                          -0.138   Prob(JB):                        0.515\n",
       "Kurtosis:                       2.465   Cond. No.                         67.7\n",
       "==============================================================================\n",
       "\n",
       "Warnings:\n",
       "[1] Standard Errors assume that the covariance matrix of the errors is correctly specified.\n",
       "\"\"\""
      ]
     },
     "execution_count": 43,
     "metadata": {},
     "output_type": "execute_result"
    }
   ],
   "source": [
    "#=================================================-\n",
    "#### Slide 56: Rerun multiple regression model  ####\n",
    "\n",
    "# Build a linear model on training data.\n",
    "model_m_no_outliers = sm.OLS(y_train_no_outliers, X_train_no_outliers).fit()\n",
    "model_m_no_outliers.summary()\n",
    "\n"
   ]
  },
  {
   "cell_type": "code",
   "execution_count": 44,
   "metadata": {},
   "outputs": [
    {
     "name": "stdout",
     "output_type": "stream",
     "text": [
      "   VIF Factor       features\n",
      "0    3.480119       constant\n",
      "1    1.013046  Total Fat (g)\n",
      "2    1.013046     Sugars (g)\n"
     ]
    }
   ],
   "source": [
    "#=================================================-\n",
    "#### Slide 59: Testing the model  ####\n",
    "\n",
    "vif = pd.DataFrame()\n",
    "vif[\"VIF Factor\"] = [variance_inflation_factor(X_train_no_outliers.values, i) for i in range(X_train_no_outliers.shape[1])]\n",
    "vif[\"features\"] = X_train_no_outliers.columns\n",
    "print(vif)\n",
    "\n"
   ]
  },
  {
   "cell_type": "code",
   "execution_count": 45,
   "metadata": {},
   "outputs": [],
   "source": [
    "#=================================================-\n",
    "#### Slide 61: Exercise 3  ####\n",
    "\n",
    "\n",
    "\n"
   ]
  },
  {
   "cell_type": "code",
   "execution_count": 53,
   "metadata": {},
   "outputs": [
    {
     "name": "stdout",
     "output_type": "stream",
     "text": [
      "120     440.360393\n",
      "46      682.044927\n",
      "73      344.137642\n",
      "90     1085.980138\n",
      "102     352.002607\n",
      "53      431.236119\n",
      "119     304.520887\n",
      "124     357.343228\n",
      "116     325.396816\n",
      "42      877.507050\n",
      "91      676.704307\n",
      "51      317.726472\n",
      "106     740.305199\n",
      "35      344.040332\n",
      "44      386.278743\n",
      "118     386.376053\n",
      "74      292.790984\n",
      "104     521.053560\n",
      "123     687.288237\n",
      "2       499.788389\n",
      "54      634.465896\n",
      "108     487.647492\n",
      "111     481.242184\n",
      "48      407.446603\n",
      "33      317.726472\n",
      "95      703.115477\n",
      "67      592.227486\n",
      "82      749.721404\n",
      "17      561.637694\n",
      "97      357.343228\n",
      "31      235.676685\n",
      "45     1080.834139\n",
      "114     879.934085\n",
      "69      556.686315\n",
      "66      753.316163\n",
      "103     481.436804\n",
      "58      675.828513\n",
      "56      851.095880\n",
      "dtype: float64\n"
     ]
    }
   ],
   "source": [
    "#=================================================-\n",
    "#### Slide 65: Predict: `Calories` in test data  ####\n",
    "\n",
    "# Predict values of `Calories` using the test data.\n",
    "prediction = model_m_no_outliers.predict(X_test)\n",
    "print(prediction)"
   ]
  },
  {
   "cell_type": "code",
   "execution_count": 54,
   "metadata": {},
   "outputs": [
    {
     "name": "stdout",
     "output_type": "stream",
     "text": [
      "     actual    predicted   residuals\n",
      "120     430   440.360393  -10.360393\n",
      "46      660   682.044927  -22.044927\n",
      "73      380   344.137642   35.862358\n",
      "90     1030  1085.980138  -55.980138\n",
      "102     300   352.002607  -52.002607\n",
      "53      390   431.236119  -41.236119\n",
      "119     280   304.520887  -24.520887\n",
      "124     395   357.343228   37.656772\n",
      "116     430   325.396816  104.603184\n",
      "42      910   877.507050   32.492950\n",
      "91      690   676.704307   13.295693\n",
      "51      330   317.726472   12.273528\n",
      "106     530   740.305199 -210.305199\n",
      "35      410   344.040332   65.959668\n",
      "44      470   386.278743   83.721257\n",
      "118     370   386.376053  -16.376053\n",
      "74      302   292.790984    9.209016\n",
      "104     380   521.053560 -141.053560\n",
      "123     670   687.288237  -17.288237\n",
      "2       530   499.788389   30.211611\n",
      "54      650   634.465896   15.534104\n",
      "108     550   487.647492   62.352508\n",
      "111     590   481.242184  108.757816\n",
      "48      410   407.446603    2.553397\n",
      "33      310   317.726472   -7.726472\n",
      "95      750   703.115477   46.884523\n",
      "67      580   592.227486  -12.227486\n",
      "82      700   749.721404  -49.721404\n",
      "17      610   561.637694   48.362306\n",
      "97      360   357.343228    2.656772\n",
      "31      370   235.676685  134.323315\n",
      "45     1030  1080.834139  -50.834139\n",
      "114     990   879.934085  110.065915\n",
      "69      550   556.686315   -6.686315\n",
      "66      770   753.316163   16.683837\n",
      "103     400   481.436804  -81.436804\n",
      "58      670   675.828513   -5.828513\n",
      "56      820   851.095880  -31.095880\n"
     ]
    }
   ],
   "source": [
    "#=================================================-\n",
    "#### Slide 66: Predict: residuals of model  ####\n",
    "\n",
    "actual = y_test.Calories\n",
    "prediction = model_m_no_outliers.predict(X_test)\n",
    "residuals = y_test.Calories - prediction\n",
    "\n",
    "\n",
    "fast_food_results =  pd.concat([actual.rename('actual'),\n",
    "prediction.rename('predicted'),\n",
    "residuals.rename('residuals')], axis = 1)\n",
    "print(fast_food_results)\n",
    "\n"
   ]
  },
  {
   "cell_type": "code",
   "execution_count": 55,
   "metadata": {},
   "outputs": [
    {
     "name": "stdout",
     "output_type": "stream",
     "text": [
      "65.83430802746773\n"
     ]
    }
   ],
   "source": [
    "#=================================================-\n",
    "#### Slide 67: Predict: mean squared error  ####\n",
    "\n",
    "def rmse(predictions,actual):\n",
    "    return np.sqrt(((prediction-actual) ** 2).mean())\n",
    "\n",
    "print(rmse(prediction,actual))\n",
    "\n",
    "\n"
   ]
  },
  {
   "cell_type": "code",
   "execution_count": 56,
   "metadata": {},
   "outputs": [],
   "source": [
    "#=================================================-\n",
    "#### Slide 69: Pickle RMSE  ####\n",
    "\n",
    "multiple_regression_RMSE = rmse(prediction,actual)\n",
    "pickle.dump(multiple_regression_RMSE, open(\"multiple_regression_RMSE.sav\", \"wb\" ))\n",
    "\n"
   ]
  },
  {
   "cell_type": "code",
   "execution_count": null,
   "metadata": {},
   "outputs": [],
   "source": []
  }
 ],
 "metadata": {
  "kernelspec": {
   "display_name": "Python 3",
   "language": "python",
   "name": "python3"
  },
  "language": "python",
  "language_info": {
   "codemirror_mode": {
    "name": "ipython",
    "version": 3
   },
   "file_extension": ".py",
   "mimetype": "text/x-python",
   "name": "python",
   "nbconvert_exporter": "python",
   "pygments_lexer": "ipython3",
   "version": "3.7.1"
  }
 },
 "nbformat": 4,
 "nbformat_minor": 2
}
