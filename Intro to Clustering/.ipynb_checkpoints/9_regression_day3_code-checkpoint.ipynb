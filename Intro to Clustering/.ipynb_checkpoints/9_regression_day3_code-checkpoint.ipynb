{
 "cells": [
  {
   "cell_type": "code",
   "execution_count": null,
   "metadata": {},
   "outputs": [],
   "source": [
    "\n",
    "#######################################################\n",
    "#######################################################\n",
    "############    COPYRIGHT - DATA SOCIETY   ############\n",
    "#######################################################\n",
    "#######################################################\n",
    "\n",
    "## 9 REGRESSION DAY3 ##\n",
    "\n",
    "## NOTE: To run individual pieces of code, select the line of code and\n",
    "##       press ctrl + enter for PCs or command + enter for Macs\n",
    "\n"
   ]
  },
  {
   "cell_type": "code",
   "execution_count": 36,
   "metadata": {},
   "outputs": [],
   "source": [
    "#=================================================-\n",
    "#### Slide 2: Import packages  ####\n",
    "\n",
    "import os\n",
    "import pandas as pd\n",
    "import numpy as np\n",
    "import matplotlib.pyplot as plt\n",
    "import statsmodels.api as sm\n",
    "import statsmodels.formula.api as smf\n",
    "\n"
   ]
  },
  {
   "cell_type": "code",
   "execution_count": 37,
   "metadata": {},
   "outputs": [],
   "source": [
    "main_dir = '/Users/datasociety/Desktop/af-werx'\n",
    "data_dir = main_dir + \"/data\"\n"
   ]
  },
  {
   "cell_type": "code",
   "execution_count": 38,
   "metadata": {},
   "outputs": [
    {
     "name": "stdout",
     "output_type": "stream",
     "text": [
      "/Users/datasociety/Desktop/af-werx/data\n"
     ]
    }
   ],
   "source": [
    "#=================================================-\n",
    "#### Slide 4: Working directory  ####\n",
    "\n",
    "# Set working directory.\n",
    "os.chdir(data_dir)\n",
    "# Check working directory.\n",
    "print(os.getcwd())\n",
    "\n"
   ]
  },
  {
   "cell_type": "code",
   "execution_count": 39,
   "metadata": {},
   "outputs": [
    {
     "name": "stdout",
     "output_type": "stream",
     "text": [
      "(27, 2)\n",
      "     Price  Seats\n",
      "0  2216.93     28\n",
      "1  2240.27     24\n",
      "2  2251.58     22\n",
      "False\n"
     ]
    }
   ],
   "source": [
    "#=================================================-\n",
    "#### Slide 21: Importing, EDA, and data cleaning  ####\n",
    "\n",
    "IAI = pd.read_csv(data_dir + '/IAI.csv')\n",
    "print(IAI.shape)\n",
    "print(IAI.head(3))\n",
    "print(IAI.isnull().values.any())\n",
    "\n"
   ]
  },
  {
   "cell_type": "code",
   "execution_count": 40,
   "metadata": {},
   "outputs": [
    {
     "data": {
      "text/html": [
       "<div>\n",
       "<style scoped>\n",
       "    .dataframe tbody tr th:only-of-type {\n",
       "        vertical-align: middle;\n",
       "    }\n",
       "\n",
       "    .dataframe tbody tr th {\n",
       "        vertical-align: top;\n",
       "    }\n",
       "\n",
       "    .dataframe thead th {\n",
       "        text-align: right;\n",
       "    }\n",
       "</style>\n",
       "<table border=\"1\" class=\"dataframe\">\n",
       "  <thead>\n",
       "    <tr style=\"text-align: right;\">\n",
       "      <th></th>\n",
       "      <th>Price</th>\n",
       "      <th>Seats</th>\n",
       "      <th>Price_log</th>\n",
       "      <th>Seats_log</th>\n",
       "    </tr>\n",
       "  </thead>\n",
       "  <tbody>\n",
       "    <tr>\n",
       "      <th>0</th>\n",
       "      <td>2216.93</td>\n",
       "      <td>28</td>\n",
       "      <td>7.703879</td>\n",
       "      <td>3.332205</td>\n",
       "    </tr>\n",
       "    <tr>\n",
       "      <th>1</th>\n",
       "      <td>2240.27</td>\n",
       "      <td>24</td>\n",
       "      <td>7.714352</td>\n",
       "      <td>3.178054</td>\n",
       "    </tr>\n",
       "    <tr>\n",
       "      <th>2</th>\n",
       "      <td>2251.58</td>\n",
       "      <td>22</td>\n",
       "      <td>7.719387</td>\n",
       "      <td>3.091042</td>\n",
       "    </tr>\n",
       "  </tbody>\n",
       "</table>\n",
       "</div>"
      ],
      "text/plain": [
       "     Price  Seats  Price_log  Seats_log\n",
       "0  2216.93     28   7.703879   3.332205\n",
       "1  2240.27     24   7.714352   3.178054\n",
       "2  2251.58     22   7.719387   3.091042"
      ]
     },
     "execution_count": 40,
     "metadata": {},
     "output_type": "execute_result"
    }
   ],
   "source": [
    "#=================================================-\n",
    "#### Slide 22: Transforming predictor and target to log  ####\n",
    "\n",
    "IAI['Price_log'] = np.log(IAI['Price'])\n",
    "IAI['Seats_log'] = np.log(IAI['Seats'])\n",
    "IAI.head(3)\n",
    "\n"
   ]
  },
  {
   "cell_type": "code",
   "execution_count": 41,
   "metadata": {},
   "outputs": [],
   "source": [
    "#=================================================-\n",
    "#### Slide 23: Fitting the log-log model  ####\n",
    "\n",
    "IAI = sm.add_constant(IAI)\n",
    "model_log = sm.OLS(IAI['Seats_log'], IAI.loc[:,['const','Price_log']]).fit()\n",
    "\n"
   ]
  },
  {
   "cell_type": "code",
   "execution_count": 42,
   "metadata": {},
   "outputs": [
    {
     "data": {
      "text/plain": [
       "1    3.177108\n",
       "2    3.091878\n",
       "3    2.864078\n",
       "4    2.745240\n",
       "5    2.546320\n",
       "6    2.511855\n",
       "7    2.472315\n",
       "8    2.183191\n",
       "9    2.031986\n",
       "dtype: float64"
      ]
     },
     "execution_count": 42,
     "metadata": {},
     "output_type": "execute_result"
    }
   ],
   "source": [
    "#=================================================-\n",
    "#### Slide 24: Predicting with the log-log model  ####\n",
    "\n",
    "prediction_log = model_log.predict(IAI.loc[:,['const','Price_log']])\n",
    "\n",
    "prediction_log[1:10]\n",
    "\n"
   ]
  },
  {
   "cell_type": "code",
   "execution_count": 43,
   "metadata": {},
   "outputs": [
    {
     "data": {
      "text/plain": [
       "1    23.977317\n",
       "2    22.018390\n",
       "3    17.532874\n",
       "4    15.568353\n",
       "dtype: float64"
      ]
     },
     "execution_count": 43,
     "metadata": {},
     "output_type": "execute_result"
    }
   ],
   "source": [
    "#=================================================-\n",
    "#### Slide 25: Exponentiating the predictions  ####\n",
    "\n",
    "prediction = np.exp(prediction_log)\n",
    "prediction[1:5]\n",
    "\n"
   ]
  },
  {
   "cell_type": "code",
   "execution_count": 44,
   "metadata": {},
   "outputs": [
    {
     "data": {
      "image/png": "[encoded data removed]",
      "text/plain": [
       "<Figure size 432x288 with 1 Axes>"
      ]
     },
     "metadata": {
      "needs_background": "light"
     },
     "output_type": "display_data"
    }
   ],
   "source": [
    "#=================================================-\n",
    "#### Slide 26: Evaluating the log-log model: chart  ####\n",
    "\n",
    "plt.scatter(IAI['Price'],\n",
    "            IAI['Seats'])\n",
    "plt.plot(IAI['Price'],\n",
    "         prediction, \n",
    "         'red')\n",
    "plt.title(\"Price vs Seats sold\")\n",
    "plt.xlabel(\"Price\")\n",
    "plt.ylabel(\"Seats sold\")\n",
    "plt.show()\n",
    "\n"
   ]
  },
  {
   "cell_type": "code",
   "execution_count": 45,
   "metadata": {},
   "outputs": [
    {
     "name": "stdout",
     "output_type": "stream",
     "text": [
      "0.33339266048990407\n"
     ]
    }
   ],
   "source": [
    "#=================================================-\n",
    "#### Slide 27: Evaluating the log-log model: RMSE  ####\n",
    "\n",
    "actual = IAI['Seats']\n",
    "prediction = prediction\n",
    "residuals = actual - prediction\n",
    "loglog_results =  pd.concat([actual.rename('actual'),\n",
    "prediction.rename('predicted'),\n",
    "residuals.rename('residuals')], axis = 1)\n",
    "\n",
    "def rmse(predictions,actual):\n",
    "    return np.sqrt(((prediction-actual) ** 2).mean())\n",
    "\n",
    "print(rmse(loglog_results['predicted'],loglog_results['actual']))\n",
    "\n"
   ]
  },
  {
   "cell_type": "code",
   "execution_count": 46,
   "metadata": {},
   "outputs": [
    {
     "data": {
      "image/png": "[encoded data removed]",
      "text/plain": [
       "<Figure size 432x288 with 1 Axes>"
      ]
     },
     "metadata": {
      "needs_background": "light"
     },
     "output_type": "display_data"
    }
   ],
   "source": [
    "#=================================================-\n",
    "#### Slide 28: How would a linear model have performed?  ####\n",
    "\n",
    "# Fit the model\n",
    "model_lin = sm.OLS(IAI['Seats'], IAI.loc[:,['const','Price']]).fit()\n",
    "prediction = model_lin.predict(IAI.loc[:,['const','Price']])\n",
    "\n",
    "plt.scatter(IAI['Price'],\n",
    "            IAI['Seats'])\n",
    "plt.plot(IAI['Price'],\n",
    "         prediction,\n",
    "         'red')\n",
    "plt.title(\"Price vs Seats sold\")\n",
    "plt.xlabel(\"Price\")\n",
    "plt.ylabel(\"Seats sold\")\n",
    "plt.show()\n",
    "\n"
   ]
  },
  {
   "cell_type": "code",
   "execution_count": 47,
   "metadata": {},
   "outputs": [],
   "source": [
    "#=================================================-\n",
    "#### Slide 30: Exercise 1  ####\n",
    "\n",
    "\n",
    "\n"
   ]
  },
  {
   "cell_type": "code",
   "execution_count": 53,
   "metadata": {},
   "outputs": [
    {
     "data": {
      "text/plain": [
       "False"
      ]
     },
     "execution_count": 53,
     "metadata": {},
     "output_type": "execute_result"
    }
   ],
   "source": [
    "#=================================================-\n",
    "#### Slide 35: Importing, EDA, and data cleaning  ####\n",
    "\n",
    "GSPC = pd.read_csv('GSPC_data.csv')\n",
    "GSPC.shape\n",
    "GSPC.head(3)\n",
    "GSPC.isnull().values.any()\n",
    "\n"
   ]
  },
  {
   "cell_type": "code",
   "execution_count": 54,
   "metadata": {},
   "outputs": [
    {
     "data": {
      "text/html": [
       "<div>\n",
       "<style scoped>\n",
       "    .dataframe tbody tr th:only-of-type {\n",
       "        vertical-align: middle;\n",
       "    }\n",
       "\n",
       "    .dataframe tbody tr th {\n",
       "        vertical-align: top;\n",
       "    }\n",
       "\n",
       "    .dataframe thead th {\n",
       "        text-align: right;\n",
       "    }\n",
       "</style>\n",
       "<table border=\"1\" class=\"dataframe\">\n",
       "  <thead>\n",
       "    <tr style=\"text-align: right;\">\n",
       "      <th></th>\n",
       "      <th>Dt</th>\n",
       "      <th>GSPC</th>\n",
       "      <th>GSPC_log</th>\n",
       "    </tr>\n",
       "  </thead>\n",
       "  <tbody>\n",
       "    <tr>\n",
       "      <th>0</th>\n",
       "      <td>1</td>\n",
       "      <td>16.66</td>\n",
       "      <td>2.813011</td>\n",
       "    </tr>\n",
       "    <tr>\n",
       "      <th>1</th>\n",
       "      <td>2</td>\n",
       "      <td>16.85</td>\n",
       "      <td>2.824351</td>\n",
       "    </tr>\n",
       "    <tr>\n",
       "      <th>2</th>\n",
       "      <td>3</td>\n",
       "      <td>16.93</td>\n",
       "      <td>2.829087</td>\n",
       "    </tr>\n",
       "  </tbody>\n",
       "</table>\n",
       "</div>"
      ],
      "text/plain": [
       "   Dt   GSPC  GSPC_log\n",
       "0   1  16.66  2.813011\n",
       "1   2  16.85  2.824351\n",
       "2   3  16.93  2.829087"
      ]
     },
     "execution_count": 54,
     "metadata": {},
     "output_type": "execute_result"
    }
   ],
   "source": [
    "#=================================================-\n",
    "#### Slide 36: Transforming target to log  ####\n",
    "\n",
    "GSPC['GSPC_log'] = np.log(GSPC['GSPC'])\n",
    "GSPC.head(3)\n",
    "\n"
   ]
  },
  {
   "cell_type": "code",
   "execution_count": 56,
   "metadata": {},
   "outputs": [],
   "source": [
    "#=================================================-\n",
    "#### Slide 37: Fitting the log-lin model  ####\n",
    "\n",
    "GSPC = sm.add_constant(GSPC)\n",
    "model_lin = sm.OLS(GSPC['GSPC_log'], GSPC.loc[:,['const','Dt']]).fit()\n",
    "\n"
   ]
  },
  {
   "cell_type": "code",
   "execution_count": 57,
   "metadata": {},
   "outputs": [
    {
     "data": {
      "text/plain": [
       "1    3.103890\n",
       "2    3.104164\n",
       "3    3.104438\n",
       "4    3.104712\n",
       "5    3.104986\n",
       "6    3.105260\n",
       "7    3.105534\n",
       "8    3.105808\n",
       "9    3.106083\n",
       "dtype: float64"
      ]
     },
     "execution_count": 57,
     "metadata": {},
     "output_type": "execute_result"
    }
   ],
   "source": [
    "#=================================================-\n",
    "#### Slide 38: Predicting with the log-lin model  ####\n",
    "\n",
    "prediction_lin = model_lin.predict(GSPC.loc[:,['const','Dt']])\n",
    "prediction_lin[1:10]\n",
    "\n"
   ]
  },
  {
   "cell_type": "code",
   "execution_count": 58,
   "metadata": {},
   "outputs": [
    {
     "data": {
      "text/plain": [
       "1    22.284469\n",
       "2    22.290578\n",
       "3    22.296688\n",
       "4    22.302800\n",
       "dtype: float64"
      ]
     },
     "execution_count": 58,
     "metadata": {},
     "output_type": "execute_result"
    }
   ],
   "source": [
    "#=================================================-\n",
    "#### Slide 39: Exponentiating the predictions  ####\n",
    "\n",
    "prediction = np.exp(prediction_lin)\n",
    "prediction[1:5]\n",
    "\n"
   ]
  },
  {
   "cell_type": "code",
   "execution_count": 59,
   "metadata": {},
   "outputs": [
    {
     "data": {
      "image/png": "[encoded data removed]",
      "text/plain": [
       "<Figure size 432x288 with 1 Axes>"
      ]
     },
     "metadata": {
      "needs_background": "light"
     },
     "output_type": "display_data"
    }
   ],
   "source": [
    "#=================================================-\n",
    "#### Slide 40: Evaluating the log-lin model: chart  ####\n",
    "\n",
    "plt.scatter(GSPC['Dt'],\n",
    "            GSPC['GSPC'])\n",
    "plt.plot(GSPC['Dt'], \n",
    "         prediction, \n",
    "         'red')\n",
    "plt.title(\"Index price over time\")\n",
    "plt.xlabel(\"Days\")\n",
    "plt.ylabel(\"Index price\")\n",
    "plt.show()\n",
    "\n"
   ]
  },
  {
   "cell_type": "code",
   "execution_count": 60,
   "metadata": {},
   "outputs": [
    {
     "name": "stdout",
     "output_type": "stream",
     "text": [
      "183.39211235044104\n"
     ]
    }
   ],
   "source": [
    "#=================================================-\n",
    "#### Slide 41: Evaluating the log-lin model: RMSE  ####\n",
    "\n",
    "actual = GSPC['GSPC']\n",
    "prediction = prediction\n",
    "residuals = actual - prediction\n",
    "loglin_results =  pd.concat([actual.rename('actual'),\n",
    "prediction.rename('predicted'),\n",
    "residuals.rename('residuals')], axis = 1)\n",
    "def rmse(predictions,actual):\n",
    "    return np.sqrt(((prediction-actual) ** 2).mean())\n",
    "\n",
    "print(rmse(loglin_results['predicted'],loglin_results['actual']))\n",
    "\n"
   ]
  },
  {
   "cell_type": "code",
   "execution_count": 61,
   "metadata": {},
   "outputs": [
    {
     "data": {
      "image/png": "[encoded data removed]",
      "text/plain": [
       "<Figure size 432x288 with 1 Axes>"
      ]
     },
     "metadata": {
      "needs_background": "light"
     },
     "output_type": "display_data"
    }
   ],
   "source": [
    "#=================================================-\n",
    "#### Slide 42: How would a linear model have performed?  ####\n",
    "\n",
    "# Fit the model\n",
    "model_lin = sm.OLS(GSPC['GSPC'], GSPC.loc[:,['const','Dt']]).fit()\n",
    "prediction = model_lin.predict(GSPC.loc[:,['const','Dt']])\n",
    "plt.scatter(GSPC['Dt'],GSPC['GSPC'])\n",
    "plt.plot(GSPC['Dt'], prediction, 'red')\n",
    "plt.title(\"Index price over time\")\n",
    "plt.xlabel(\"Days\")\n",
    "plt.ylabel(\"Index price\")\n",
    "plt.show()\n",
    "\n"
   ]
  },
  {
   "cell_type": "code",
   "execution_count": null,
   "metadata": {},
   "outputs": [],
   "source": [
    "#=================================================-\n",
    "#### Slide 44: Exercise 2  ####\n",
    "\n",
    "\n",
    "\n"
   ]
  },
  {
   "cell_type": "code",
   "execution_count": 62,
   "metadata": {},
   "outputs": [
    {
     "name": "stdout",
     "output_type": "stream",
     "text": [
      "(202, 2)\n",
      "     X         Y\n",
      "0  0.0  1.301945\n",
      "1  0.0  0.698055\n",
      "2  0.1  2.552809\n",
      "False\n"
     ]
    }
   ],
   "source": [
    "#=================================================-\n",
    "#### Slide 50: Importing, EDA, and data cleaning  ####\n",
    "\n",
    "poly3 = pd.read_csv('poly3.csv')\n",
    "print(poly3.shape)\n",
    "print(poly3.head(3))\n",
    "print(poly3.isnull().values.any())\n",
    "\n"
   ]
  },
  {
   "cell_type": "code",
   "execution_count": 63,
   "metadata": {},
   "outputs": [
    {
     "data": {
      "text/html": [
       "<div>\n",
       "<style scoped>\n",
       "    .dataframe tbody tr th:only-of-type {\n",
       "        vertical-align: middle;\n",
       "    }\n",
       "\n",
       "    .dataframe tbody tr th {\n",
       "        vertical-align: top;\n",
       "    }\n",
       "\n",
       "    .dataframe thead th {\n",
       "        text-align: right;\n",
       "    }\n",
       "</style>\n",
       "<table border=\"1\" class=\"dataframe\">\n",
       "  <thead>\n",
       "    <tr style=\"text-align: right;\">\n",
       "      <th></th>\n",
       "      <th>X</th>\n",
       "      <th>Y</th>\n",
       "      <th>X2</th>\n",
       "      <th>X3</th>\n",
       "    </tr>\n",
       "  </thead>\n",
       "  <tbody>\n",
       "    <tr>\n",
       "      <th>0</th>\n",
       "      <td>0.0</td>\n",
       "      <td>1.301945</td>\n",
       "      <td>0.00</td>\n",
       "      <td>0.000</td>\n",
       "    </tr>\n",
       "    <tr>\n",
       "      <th>1</th>\n",
       "      <td>0.0</td>\n",
       "      <td>0.698055</td>\n",
       "      <td>0.00</td>\n",
       "      <td>0.000</td>\n",
       "    </tr>\n",
       "    <tr>\n",
       "      <th>2</th>\n",
       "      <td>0.1</td>\n",
       "      <td>2.552809</td>\n",
       "      <td>0.01</td>\n",
       "      <td>0.001</td>\n",
       "    </tr>\n",
       "  </tbody>\n",
       "</table>\n",
       "</div>"
      ],
      "text/plain": [
       "     X         Y    X2     X3\n",
       "0  0.0  1.301945  0.00  0.000\n",
       "1  0.0  0.698055  0.00  0.000\n",
       "2  0.1  2.552809  0.01  0.001"
      ]
     },
     "execution_count": 63,
     "metadata": {},
     "output_type": "execute_result"
    }
   ],
   "source": [
    "#=================================================-\n",
    "#### Slide 51: Adding X^2 and X^3 to our dataset  ####\n",
    "\n",
    "poly3['X2'] = np.power(poly3['X'], 2)\n",
    "poly3['X3'] = np.power(poly3['X'], 3)\n",
    "poly3.head(3)\n",
    "\n"
   ]
  },
  {
   "cell_type": "code",
   "execution_count": 64,
   "metadata": {},
   "outputs": [],
   "source": [
    "#=================================================-\n",
    "#### Slide 52: Fitting the polynomial model  ####\n",
    "\n",
    "poly3 = sm.add_constant(poly3)\n",
    "model_poly = sm.OLS(poly3['Y'], poly3.loc[:,['const','X','X2','X3']]).fit()\n",
    "\n"
   ]
  },
  {
   "cell_type": "code",
   "execution_count": 65,
   "metadata": {},
   "outputs": [
    {
     "data": {
      "text/plain": [
       "0    1.000000\n",
       "1    1.000000\n",
       "2    1.965333\n",
       "3    1.965333\n",
       "4    2.862667\n",
       "5    2.862667\n",
       "6    3.694000\n",
       "7    3.694000\n",
       "8    4.461333\n",
       "9    4.461333\n",
       "dtype: float64"
      ]
     },
     "execution_count": 65,
     "metadata": {},
     "output_type": "execute_result"
    }
   ],
   "source": [
    "#=================================================-\n",
    "#### Slide 53: Predicting with the polynomial model  ####\n",
    "\n",
    "prediction_poly = model_poly.predict(poly3.loc[:,['const','X', 'X2', 'X3']])\n",
    "prediction_poly[0:10]\n",
    "\n"
   ]
  },
  {
   "cell_type": "code",
   "execution_count": 66,
   "metadata": {},
   "outputs": [
    {
     "data": {
      "image/png": "[encoded data removed]",
      "text/plain": [
       "<Figure size 432x288 with 1 Axes>"
      ]
     },
     "metadata": {
      "needs_background": "light"
     },
     "output_type": "display_data"
    }
   ],
   "source": [
    "#=================================================-\n",
    "#### Slide 54: Evaluating the polynomial model: chart  ####\n",
    "\n",
    "plt.scatter(poly3['X'],\n",
    "            poly3['Y'])\n",
    "plt.plot(poly3['X'], \n",
    "         prediction_poly, 'red')\n",
    "plt.title(\"X vs. Y\")\n",
    "plt.xlabel(\"X\")\n",
    "plt.ylabel(\"Y\")\n",
    "plt.show()\n",
    "\n"
   ]
  },
  {
   "cell_type": "code",
   "execution_count": 67,
   "metadata": {},
   "outputs": [
    {
     "name": "stdout",
     "output_type": "stream",
     "text": [
      "0.5837434014764878\n"
     ]
    }
   ],
   "source": [
    "#=================================================-\n",
    "#### Slide 55: Evaluating the polynomial model: RMSE  ####\n",
    "\n",
    "actual = poly3['Y']\n",
    "prediction = prediction_poly\n",
    "residuals = actual - prediction\n",
    "poly_results =  pd.concat([actual.rename('actual'),\n",
    "                           prediction.rename('predicted'),\n",
    "                           residuals.rename('residuals')],\n",
    "                           axis = 1)\n",
    "\n",
    "def rmse(predictions,actual):\n",
    "    return np.sqrt(((prediction-actual) ** 2).mean())\n",
    "\n",
    "print(rmse(poly_results['predicted'],poly_results['actual']))\n",
    "\n"
   ]
  },
  {
   "cell_type": "code",
   "execution_count": 68,
   "metadata": {},
   "outputs": [
    {
     "data": {
      "image/png": "[encoded data removed]",
      "text/plain": [
       "<Figure size 432x288 with 1 Axes>"
      ]
     },
     "metadata": {
      "needs_background": "light"
     },
     "output_type": "display_data"
    }
   ],
   "source": [
    "#=================================================-\n",
    "#### Slide 56: How would a linear model have performed?  ####\n",
    "\n",
    "# Fit the model\n",
    "model_lin = sm.OLS(poly3['Y'], poly3.loc[:,['const','X']]).fit()\n",
    "prediction = model_lin.predict(poly3.loc[:,['const','X']])\n",
    "\n",
    "plt.scatter(poly3['X'],\n",
    "            poly3['Y'])\n",
    "plt.plot(poly3['X'], \n",
    "         prediction, 'red')\n",
    "plt.title(\"X vs. Y\")\n",
    "plt.xlabel(\"X\")\n",
    "plt.ylabel(\"Y\")\n",
    "plt.show()\n",
    "\n"
   ]
  },
  {
   "cell_type": "code",
   "execution_count": null,
   "metadata": {},
   "outputs": [],
   "source": [
    "#=================================================-\n",
    "#### Slide 58: Exercise 3  ####\n",
    "\n",
    "\n",
    "\n"
   ]
  },
  {
   "cell_type": "code",
   "execution_count": 69,
   "metadata": {},
   "outputs": [
    {
     "name": "stdout",
     "output_type": "stream",
     "text": [
      "(31, 3)\n",
      "     sales      news     radio\n",
      "0  1600.00  1.000000  1.500000\n",
      "1  1640.25  1.033333  1.523333\n",
      "2  1681.00  1.066667  1.546667\n",
      "False\n"
     ]
    }
   ],
   "source": [
    "#=================================================-\n",
    "#### Slide 67: Importing, EDA, and data cleaning  ####\n",
    "\n",
    "grocery = pd.read_csv('grocery.csv')\n",
    "print(grocery.shape)\n",
    "print(grocery.head(3))\n",
    "print(grocery.isnull().values.any())\n",
    "\n"
   ]
  },
  {
   "cell_type": "code",
   "execution_count": 70,
   "metadata": {},
   "outputs": [
    {
     "data": {
      "text/html": [
       "<div>\n",
       "<style scoped>\n",
       "    .dataframe tbody tr th:only-of-type {\n",
       "        vertical-align: middle;\n",
       "    }\n",
       "\n",
       "    .dataframe tbody tr th {\n",
       "        vertical-align: top;\n",
       "    }\n",
       "\n",
       "    .dataframe thead th {\n",
       "        text-align: right;\n",
       "    }\n",
       "</style>\n",
       "<table border=\"1\" class=\"dataframe\">\n",
       "  <thead>\n",
       "    <tr style=\"text-align: right;\">\n",
       "      <th></th>\n",
       "      <th>sales</th>\n",
       "      <th>news</th>\n",
       "      <th>radio</th>\n",
       "      <th>news:radio</th>\n",
       "    </tr>\n",
       "  </thead>\n",
       "  <tbody>\n",
       "    <tr>\n",
       "      <th>0</th>\n",
       "      <td>1600.00</td>\n",
       "      <td>1.000000</td>\n",
       "      <td>1.500000</td>\n",
       "      <td>1.500000</td>\n",
       "    </tr>\n",
       "    <tr>\n",
       "      <th>1</th>\n",
       "      <td>1640.25</td>\n",
       "      <td>1.033333</td>\n",
       "      <td>1.523333</td>\n",
       "      <td>1.574111</td>\n",
       "    </tr>\n",
       "    <tr>\n",
       "      <th>2</th>\n",
       "      <td>1681.00</td>\n",
       "      <td>1.066667</td>\n",
       "      <td>1.546667</td>\n",
       "      <td>1.649778</td>\n",
       "    </tr>\n",
       "  </tbody>\n",
       "</table>\n",
       "</div>"
      ],
      "text/plain": [
       "     sales      news     radio  news:radio\n",
       "0  1600.00  1.000000  1.500000    1.500000\n",
       "1  1640.25  1.033333  1.523333    1.574111\n",
       "2  1681.00  1.066667  1.546667    1.649778"
      ]
     },
     "execution_count": 70,
     "metadata": {},
     "output_type": "execute_result"
    }
   ],
   "source": [
    "#=================================================-\n",
    "#### Slide 68: Adding the interaction to our dataset  ####\n",
    "\n",
    "grocery['news:radio'] = grocery['news'] * grocery['radio']\n",
    "grocery.head(3)\n",
    "\n"
   ]
  },
  {
   "cell_type": "code",
   "execution_count": 71,
   "metadata": {},
   "outputs": [],
   "source": [
    "#=================================================-\n",
    "#### Slide 69: Fitting the model  ####\n",
    "\n",
    "grocery = sm.add_constant(grocery)\n",
    "model_interact = sm.OLS(grocery['sales'], grocery.loc[:,['const','news','radio','news:radio']]).fit()\n",
    "\n"
   ]
  },
  {
   "cell_type": "code",
   "execution_count": 72,
   "metadata": {},
   "outputs": [
    {
     "data": {
      "text/plain": [
       "1    1640.25\n",
       "2    1681.00\n",
       "3    1722.25\n",
       "4    1764.00\n",
       "5    1806.25\n",
       "6    1849.00\n",
       "7    1892.25\n",
       "8    1936.00\n",
       "9    1980.25\n",
       "dtype: float64"
      ]
     },
     "execution_count": 72,
     "metadata": {},
     "output_type": "execute_result"
    }
   ],
   "source": [
    "#=================================================-\n",
    "#### Slide 70: Predicting with the model  ####\n",
    "\n",
    "prediction_interact = model_interact.predict(grocery.loc[:,['const','news', 'radio', 'news:radio']])\n",
    "prediction_interact[1:10]\n",
    "\n"
   ]
  },
  {
   "cell_type": "code",
   "execution_count": 76,
   "metadata": {},
   "outputs": [
    {
     "data": {
      "image/png": "[encoded data removed]",
      "text/plain": [
       "<Figure size 432x288 with 1 Axes>"
      ]
     },
     "metadata": {
      "needs_background": "light"
     },
     "output_type": "display_data"
    }
   ],
   "source": [
    "plt.scatter(grocery['news:radio'],\n",
    "            grocery['sales'])\n",
    "plt.plot(grocery['news:radio'], \n",
    "         prediction_interact, 'red')\n",
    "plt.title(\"news:radio vs. sales\")\n",
    "plt.xlabel(\"news:radio\")\n",
    "plt.ylabel(\"sales\")\n",
    "plt.show()"
   ]
  },
  {
   "cell_type": "code",
   "execution_count": 80,
   "metadata": {},
   "outputs": [
    {
     "data": {
      "image/png": "[encoded data removed]",
      "text/plain": [
       "<Figure size 432x288 with 1 Axes>"
      ]
     },
     "metadata": {
      "needs_background": "light"
     },
     "output_type": "display_data"
    }
   ],
   "source": [
    "plt.scatter(grocery['news'],\n",
    "            grocery['sales'])\n",
    "plt.plot(grocery['news'], \n",
    "         prediction_interact, 'red')\n",
    "plt.title(\"news vs. sales\")\n",
    "plt.xlabel(\"news\")\n",
    "plt.ylabel(\"sales\")\n",
    "plt.show()"
   ]
  },
  {
   "cell_type": "code",
   "execution_count": 83,
   "metadata": {},
   "outputs": [
    {
     "data": {
      "image/png": "[encoded data removed]",
      "text/plain": [
       "<Figure size 432x288 with 1 Axes>"
      ]
     },
     "metadata": {
      "needs_background": "light"
     },
     "output_type": "display_data"
    }
   ],
   "source": [
    "plt.scatter(grocery['radio'],\n",
    "            grocery['sales'])\n",
    "plt.plot(grocery['radio'], \n",
    "         prediction_interact, 'red')\n",
    "plt.title('radio vs. sales')\n",
    "plt.xlabel(\"radio\")\n",
    "plt.ylabel(\"sales\")\n",
    "plt.show()"
   ]
  },
  {
   "cell_type": "code",
   "execution_count": 73,
   "metadata": {},
   "outputs": [
    {
     "name": "stdout",
     "output_type": "stream",
     "text": [
      "5.5960811357290745e-12\n"
     ]
    }
   ],
   "source": [
    "#=================================================-\n",
    "#### Slide 71: Evaluating the model: RMSE  ####\n",
    "\n",
    "actual = grocery['sales']\n",
    "prediction = prediction_interact\n",
    "residuals = actual - prediction\n",
    "interact_results =  pd.concat([actual.rename('actual'),\n",
    "                               prediction.rename('predicted'),\n",
    "                               residuals.rename('residuals')], axis = 1)\n",
    "def rmse(predictions,actual):\n",
    "    return np.sqrt(((prediction-actual) ** 2).mean())\n",
    "\n",
    "print(rmse(interact_results['predicted'],interact_results['actual']))\n",
    "\n"
   ]
  },
  {
   "cell_type": "code",
   "execution_count": 74,
   "metadata": {},
   "outputs": [
    {
     "name": "stdout",
     "output_type": "stream",
     "text": [
      "18.0\n"
     ]
    }
   ],
   "source": [
    "#=================================================-\n",
    "#### Slide 72: What if we left out the interaction?  ####\n",
    "\n",
    "model_lin = sm.OLS(grocery['sales'], grocery.loc[:,['const','news','radio']]).fit()\n",
    "prediction_lin = model_lin.predict(grocery.loc[:,['const','news','radio']])\n",
    "actual = grocery['sales']\n",
    "prediction = prediction_lin\n",
    "residuals = actual - prediction\n",
    "lin_results =  pd.concat([actual.rename('actual'),\n",
    "                          prediction.rename('predicted'),\n",
    "                          residuals.rename('residuals')], axis = 1)\n",
    "\n",
    "def rmse(predictions,actual):\n",
    "    return np.sqrt(((prediction-actual) ** 2).mean())\n",
    "\n",
    "print(round(rmse(lin_results['predicted'],lin_results['actual'])))\n",
    "\n"
   ]
  },
  {
   "cell_type": "code",
   "execution_count": null,
   "metadata": {},
   "outputs": [],
   "source": []
  }
 ],
 "metadata": {
  "kernelspec": {
   "display_name": "Python 3",
   "language": "python",
   "name": "python3"
  },
  "language": "python",
  "language_info": {
   "codemirror_mode": {
    "name": "ipython",
    "version": 3
   },
   "file_extension": ".py",
   "mimetype": "text/x-python",
   "name": "python",
   "nbconvert_exporter": "python",
   "pygments_lexer": "ipython3",
   "version": "3.7.1"
  }
 },
 "nbformat": 4,
 "nbformat_minor": 2
}
