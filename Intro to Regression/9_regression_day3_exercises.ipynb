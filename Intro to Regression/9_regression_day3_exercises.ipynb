{
 "cells": [
  {
   "cell_type": "markdown",
   "metadata": {},
   "source": [
    "# Regression Day 3 - Exercises with answers"
   ]
  },
  {
   "cell_type": "markdown",
   "metadata": {},
   "source": [
    "## Exercise 1"
   ]
  },
  {
   "cell_type": "markdown",
   "metadata": {},
   "source": [
    "#### Question 1\n",
    "##### Import the required packages.\n",
    "##### Set the working directory to data directory.\n",
    "##### Print the working directory."
   ]
  },
  {
   "cell_type": "markdown",
   "metadata": {},
   "source": [
    "#### Question 2\n",
    "##### Load `beer-sold-by-price.csv` and save as `ex_data_loglog`.\n",
    "##### The data consists of 52 weeks of cases sold and price per case for 18-packs of beer at a small chain of supermarkets. \n",
    "##### We want to build a regression model that can predict `quantity of cases sold` according to the changes in the `price`.\n",
    "##### Check the shape of the data, print the first few rows and check for any missing values. \n",
    "##### For convenience, change the column names from `PRICE 18PK`, `CASES 18PK` to `Price`, `Quantity`.\n",
    "##### Lastly, sort the dataframe by `Price`."
   ]
  },
  {
   "cell_type": "markdown",
   "metadata": {},
   "source": [
    "#### Question 3\n",
    "##### Transform the values of our predictor and target variable to the log of the actual values. \n",
    "##### Name the log values column as `price_log` and `quantity_log`.\n",
    "##### Print out the first few rows to check."
   ]
  },
  {
   "cell_type": "markdown",
   "metadata": {},
   "source": [
    "#### Question 4\n",
    "##### Add a constant to the dataframe."
   ]
  },
  {
   "cell_type": "markdown",
   "metadata": {},
   "source": [
    "#### Question 5\n",
    "##### Fit the model using `sm.OLS` and pass it the columns we transformed to log in previous questions.\n",
    "##### Name the model `ex_loglog`."
   ]
  },
  {
   "cell_type": "markdown",
   "metadata": {},
   "source": [
    "#### Question 6\n",
    "##### Use the fitted log-log model to predict. \n",
    "##### Save the predictions as `ex_prediction_loglog`.\n",
    "##### Take a look at the first 10 rows of the predictions."
   ]
  },
  {
   "cell_type": "markdown",
   "metadata": {},
   "source": [
    "#### Question 7\n",
    "##### Exponentiate the predictions and save as `ex_prediction`.\n",
    "##### Print the first 10 rows of `ex_prediction`."
   ]
  },
  {
   "cell_type": "markdown",
   "metadata": {},
   "source": [
    "#### Question 8\n",
    "##### Create a scatterplot of the actual values of `quantity` and the predicted values of `quantity`. \n",
    "##### Plot the actual quantity as the scatter points and the predicted quantity as a red line to compare."
   ]
  },
  {
   "cell_type": "markdown",
   "metadata": {},
   "source": [
    "#### Question 9\n",
    "##### Get the residuals and put them into a dataframe called `ex_loglog_results`, along with the actual values of `quantity` and the exponentiated predictions of `quantity`.\n",
    "\n",
    "##### Using the RMSE formula, get the RMSE of our log-log model."
   ]
  },
  {
   "cell_type": "markdown",
   "metadata": {},
   "source": [
    "#### Question 10\n",
    "\n",
    "##### Build a standard linear model with the dataset, and get a plot of `actual vs.predicted`.\n",
    "##### Compare the plot with out previous plot with the log-log mode and compare."
   ]
  },
  {
   "cell_type": "markdown",
   "metadata": {},
   "source": [
    "## Exercise 2"
   ]
  },
  {
   "cell_type": "markdown",
   "metadata": {},
   "source": [
    "#### Question 1\n",
    "##### Load `loglin.csv` and save as `ex_data_loglin`.\n",
    "##### The data consists of 200 weeks of stock data. \n",
    "##### We want to build a regression model that can predict `stock price` according to the changes in the `day`.\n",
    "##### Check the shape of the data, print the first few rows and check for any missing values. "
   ]
  },
  {
   "cell_type": "markdown",
   "metadata": {},
   "source": [
    "#### Question 2\n",
    "##### We need to transform the values of our target variable to the log of the actual values. \n",
    "##### Name the log values column as `price_log`.\n",
    "##### Print out the first few rows to check."
   ]
  },
  {
   "cell_type": "markdown",
   "metadata": {},
   "source": [
    "#### Question 3\n",
    "##### Add a constant to the dataframe."
   ]
  },
  {
   "cell_type": "markdown",
   "metadata": {},
   "source": [
    "#### Question 4\n",
    "##### Fit the model using `sm.OLS` and pass it the target column we transformed to log in the step before and the predictor column, which is `Day` and the constant.\n",
    "##### Name the model `ex_loglin`."
   ]
  },
  {
   "cell_type": "markdown",
   "metadata": {},
   "source": [
    "#### Question 5\n",
    "##### Use the fitted log-lin model to predict. \n",
    "##### Save the predictions as `ex_prediction_loglin`.\n",
    "##### Take a look at the first 10 rows of the predictions."
   ]
  },
  {
   "cell_type": "markdown",
   "metadata": {},
   "source": [
    "#### Question 6\n",
    "##### Exponentiate the predictions and save as `ex_prediction`.\n",
    "##### Print the first 10 rows of `ex_prediction`."
   ]
  },
  {
   "cell_type": "markdown",
   "metadata": {},
   "source": [
    "#### Question 7\n",
    "##### Create a scatterplot of the actual values of `Stock Price` and the predicted values of `Stock Price`. \n",
    "##### Plot the actual stock price as the scatter points and the predicted stock price as a red line to compare."
   ]
  },
  {
   "cell_type": "markdown",
   "metadata": {},
   "source": [
    "#### Question 8\n",
    "##### Get the residuals and put them into a dataframe called `ex_loglin_results`, along with the actual values of `Stock Price` and the exponentiated predictions of `Stock Price`.\n",
    "\n",
    "##### Using the RMSE formula, get the RMSE of our log-lin model."
   ]
  },
  {
   "cell_type": "markdown",
   "metadata": {},
   "source": [
    "#### Question 9\n",
    "\n",
    "##### Build a standard linear model with the dataset, and get a plot of `actual vs.predicted`.\n",
    "##### Compare the plot with out previous plot with the log-lin model and compare."
   ]
  },
  {
   "cell_type": "markdown",
   "metadata": {},
   "source": [
    "## Exercise 3"
   ]
  },
  {
   "cell_type": "markdown",
   "metadata": {},
   "source": [
    "#### Question 1\n",
    "##### Load `poly-data.csv` and save as `ex_data_poly`.\n",
    "##### This is a dataset generated to show 150 data points that show a polynomial relationship.\n",
    "##### Check the shape of the data, print the first few rows and check for any missing values. \n",
    "##### Sort the dataframe according to `x`."
   ]
  },
  {
   "cell_type": "markdown",
   "metadata": {},
   "source": [
    "#### Question 2\n",
    "##### Using `np.power()`, add two new predictors called `x2`, and `x3`.\n",
    "##### Print out the first few rows with the new predictors."
   ]
  },
  {
   "cell_type": "markdown",
   "metadata": {},
   "source": [
    "#### Question 3\n",
    "##### Add a constant to our data and fit the model using `sm.OLS`. \n",
    "##### Name the fitted model as `ex_model_poly`."
   ]
  },
  {
   "cell_type": "markdown",
   "metadata": {},
   "source": [
    "#### Question 4\n",
    "##### Using `ex_model_poly` model, predict the target using `x`, `x2`, `x3` as predictors.\n",
    "##### Save the predictions as `ex_prediction_poly`.\n",
    "##### Print the first ten rows of the predictions."
   ]
  },
  {
   "cell_type": "markdown",
   "metadata": {},
   "source": [
    "#### Question 5\n",
    "##### Create a plot that shows the actual values of `y` and the predicted values of `y`. \n",
    "##### Plot the actual points of `y` as scatterplots and the predicted values of `y` as a red line. "
   ]
  },
  {
   "cell_type": "markdown",
   "metadata": {},
   "source": [
    "#### Question 6\n",
    "##### Get the residuals and put them into a dataframe called `ex_poly_results`, along with the actual values of `y` and the predictions of `y`.\n",
    "\n",
    "##### Using the RMSE formula, get the RMSE of our polynomial model.\n"
   ]
  },
  {
   "cell_type": "markdown",
   "metadata": {},
   "source": [
    "#### Question 7\n",
    "\n",
    "##### Build a standard linear model and plot `actual vs predicted` to see how the model would have performed.\n",
    "##### Compare this plot with the previous plot we made with polynomial terms added in."
   ]
  },
  {
   "cell_type": "markdown",
   "metadata": {},
   "source": [
    "## Exercise 4"
   ]
  },
  {
   "cell_type": "markdown",
   "metadata": {},
   "source": [
    "#### Question 1\n",
    "##### Load the `interaction-data.csv` as `ex_interaction`. \n",
    "##### This is a dataset that predicts `Income` with `Illiteracy` and `High School Graduate Percentage` as predictors.\n",
    "##### Check the shape of `ex_interaction` and print the first few rows to see how the dataset looks like. \n",
    "##### Check if there are any missing values in the dataset. "
   ]
  },
  {
   "cell_type": "markdown",
   "metadata": {},
   "source": [
    "#### Question 2\n",
    "##### Add the interaction term between `Illiteracy` and `HS Grad`` as `illiteracy:hsgrad`.\n",
    "##### Take a look at the first few rows again."
   ]
  },
  {
   "cell_type": "markdown",
   "metadata": {},
   "source": [
    "#### Question 3\n",
    "##### Add a constant to the dataframe and fit the model with 'Income' as the target variable and the rest of the variables as predictors.\n",
    "##### Name th model as `ex_model_interact`."
   ]
  },
  {
   "cell_type": "markdown",
   "metadata": {},
   "source": [
    "#### Question 4\n",
    "##### Using the fitted model, predict using the same variables as predictors.\n",
    "##### Name the predictions as `ex_prediction_interact` and take a look at the first 10 rows of the prediction."
   ]
  },
  {
   "cell_type": "markdown",
   "metadata": {},
   "source": [
    "#### Question 5\n",
    "##### Evaluate the model using the defined RMSE function."
   ]
  },
  {
   "cell_type": "markdown",
   "metadata": {},
   "source": [
    "#### Question 6\n",
    "##### How would the model have performed if we did not add in the interaction term?\n",
    "##### Build a new model without the interaction term and calculate the RMSE. "
   ]
  }
 ],
 "metadata": {
  "kernelspec": {
   "display_name": "Python 3",
   "language": "python",
   "name": "python3"
  },
  "language_info": {
   "codemirror_mode": {
    "name": "ipython",
    "version": 3
   },
   "file_extension": ".py",
   "mimetype": "text/x-python",
   "name": "python",
   "nbconvert_exporter": "python",
   "pygments_lexer": "ipython3",
   "version": "3.7.1"
  }
 },
 "nbformat": 4,
 "nbformat_minor": 2
}
