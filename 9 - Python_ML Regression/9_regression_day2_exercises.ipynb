{
 "cells": [
  {
   "cell_type": "markdown",
   "metadata": {},
   "source": [
    "# Regression Day 2 - Exercises"
   ]
  },
  {
   "cell_type": "markdown",
   "metadata": {},
   "source": [
    "## Exercise 1"
   ]
  },
  {
   "cell_type": "markdown",
   "metadata": {},
   "source": [
    "#### Question 1\n",
    "##### Import the required packages.\n",
    "##### Set the working directory to data directory.\n",
    "##### Print the working directory."
   ]
  },
  {
   "cell_type": "code",
   "execution_count": 1,
   "metadata": {},
   "outputs": [],
   "source": [
    "import os\n",
    "import pandas as pd\n",
    "import numpy as np\n",
    "import pickle\n",
    "\n",
    "import statsmodels.api as sm\n",
    "import statsmodels.formula.api as smf\n",
    "import matplotlib.pyplot as plt\n",
    "from sklearn.feature_selection import VarianceThreshold\n",
    "\n",
    "# New today - we will introduce it when we use it.\n",
    "from sklearn.model_selection import train_test_split\n",
    "from statsmodels.stats.outliers_influence import variance_inflation_factor\n",
    "\n"
   ]
  },
  {
   "cell_type": "code",
   "execution_count": 2,
   "metadata": {},
   "outputs": [],
   "source": [
    "main_dir = '/Users/datasociety/Desktop/af-werx'\n",
    "data_dir = main_dir + \"/data\"\n",
    "plot_dir = main_dir + \"/plot\""
   ]
  },
  {
   "cell_type": "code",
   "execution_count": 3,
   "metadata": {},
   "outputs": [
    {
     "name": "stdout",
     "output_type": "stream",
     "text": [
      "/Users/datasociety/Desktop/af-werx/data\n"
     ]
    }
   ],
   "source": [
    "# Set working directory.\n",
    "os.chdir(data_dir)\n",
    "# Check working directory.\n",
    "print(os.getcwd())"
   ]
  },
  {
   "cell_type": "markdown",
   "metadata": {},
   "source": [
    "#### Question 2\n",
    "##### Read in the `ChemicalManufacturingProcess.csv` file and name it as `ex_data`."
   ]
  },
  {
   "cell_type": "code",
   "execution_count": 4,
   "metadata": {},
   "outputs": [],
   "source": [
    "ex_data = pd.read_csv('ChemicalManufacturingProcess.csv')"
   ]
  },
  {
   "cell_type": "markdown",
   "metadata": {},
   "source": [
    "#### Question 3\n",
    "##### Create a subset of `Yield`, `ManufacturingProcess09`, `ManufacturingProcess32` from ex_data and save as `ex_regression`\n",
    "##### Print the head of `ex_regression`.\n",
    "##### Print the summary statistics of `ex_regression`."
   ]
  },
  {
   "cell_type": "code",
   "execution_count": 5,
   "metadata": {},
   "outputs": [
    {
     "data": {
      "text/html": [
       "<div>\n",
       "<style scoped>\n",
       "    .dataframe tbody tr th:only-of-type {\n",
       "        vertical-align: middle;\n",
       "    }\n",
       "\n",
       "    .dataframe tbody tr th {\n",
       "        vertical-align: top;\n",
       "    }\n",
       "\n",
       "    .dataframe thead th {\n",
       "        text-align: right;\n",
       "    }\n",
       "</style>\n",
       "<table border=\"1\" class=\"dataframe\">\n",
       "  <thead>\n",
       "    <tr style=\"text-align: right;\">\n",
       "      <th></th>\n",
       "      <th>Yield</th>\n",
       "      <th>ManufacturingProcess09</th>\n",
       "      <th>ManufacturingProcess32</th>\n",
       "    </tr>\n",
       "  </thead>\n",
       "  <tbody>\n",
       "    <tr>\n",
       "      <th>0</th>\n",
       "      <td>38.00</td>\n",
       "      <td>43.00</td>\n",
       "      <td>156</td>\n",
       "    </tr>\n",
       "    <tr>\n",
       "      <th>1</th>\n",
       "      <td>42.44</td>\n",
       "      <td>46.57</td>\n",
       "      <td>169</td>\n",
       "    </tr>\n",
       "    <tr>\n",
       "      <th>2</th>\n",
       "      <td>42.03</td>\n",
       "      <td>45.07</td>\n",
       "      <td>173</td>\n",
       "    </tr>\n",
       "    <tr>\n",
       "      <th>3</th>\n",
       "      <td>41.42</td>\n",
       "      <td>44.92</td>\n",
       "      <td>171</td>\n",
       "    </tr>\n",
       "    <tr>\n",
       "      <th>4</th>\n",
       "      <td>42.49</td>\n",
       "      <td>44.96</td>\n",
       "      <td>171</td>\n",
       "    </tr>\n",
       "  </tbody>\n",
       "</table>\n",
       "</div>"
      ],
      "text/plain": [
       "   Yield  ManufacturingProcess09  ManufacturingProcess32\n",
       "0  38.00                   43.00                     156\n",
       "1  42.44                   46.57                     169\n",
       "2  42.03                   45.07                     173\n",
       "3  41.42                   44.92                     171\n",
       "4  42.49                   44.96                     171"
      ]
     },
     "execution_count": 5,
     "metadata": {},
     "output_type": "execute_result"
    }
   ],
   "source": [
    "ex_regression = ex_data.loc[:,['Yield', \n",
    "                        'ManufacturingProcess09',\n",
    "                        'ManufacturingProcess32']]\n",
    "ex_regression.head()"
   ]
  },
  {
   "cell_type": "code",
   "execution_count": 6,
   "metadata": {},
   "outputs": [
    {
     "data": {
      "text/html": [
       "<div>\n",
       "<style scoped>\n",
       "    .dataframe tbody tr th:only-of-type {\n",
       "        vertical-align: middle;\n",
       "    }\n",
       "\n",
       "    .dataframe tbody tr th {\n",
       "        vertical-align: top;\n",
       "    }\n",
       "\n",
       "    .dataframe thead th {\n",
       "        text-align: right;\n",
       "    }\n",
       "</style>\n",
       "<table border=\"1\" class=\"dataframe\">\n",
       "  <thead>\n",
       "    <tr style=\"text-align: right;\">\n",
       "      <th></th>\n",
       "      <th>Yield</th>\n",
       "      <th>ManufacturingProcess09</th>\n",
       "      <th>ManufacturingProcess32</th>\n",
       "    </tr>\n",
       "  </thead>\n",
       "  <tbody>\n",
       "    <tr>\n",
       "      <th>count</th>\n",
       "      <td>176.000000</td>\n",
       "      <td>176.000000</td>\n",
       "      <td>176.000000</td>\n",
       "    </tr>\n",
       "    <tr>\n",
       "      <th>mean</th>\n",
       "      <td>40.176534</td>\n",
       "      <td>45.660114</td>\n",
       "      <td>158.465909</td>\n",
       "    </tr>\n",
       "    <tr>\n",
       "      <th>std</th>\n",
       "      <td>1.845666</td>\n",
       "      <td>1.546441</td>\n",
       "      <td>5.397246</td>\n",
       "    </tr>\n",
       "    <tr>\n",
       "      <th>min</th>\n",
       "      <td>35.250000</td>\n",
       "      <td>38.890000</td>\n",
       "      <td>143.000000</td>\n",
       "    </tr>\n",
       "    <tr>\n",
       "      <th>25%</th>\n",
       "      <td>38.752500</td>\n",
       "      <td>44.890000</td>\n",
       "      <td>155.000000</td>\n",
       "    </tr>\n",
       "    <tr>\n",
       "      <th>50%</th>\n",
       "      <td>39.970000</td>\n",
       "      <td>45.730000</td>\n",
       "      <td>158.000000</td>\n",
       "    </tr>\n",
       "    <tr>\n",
       "      <th>75%</th>\n",
       "      <td>41.475000</td>\n",
       "      <td>46.515000</td>\n",
       "      <td>162.000000</td>\n",
       "    </tr>\n",
       "    <tr>\n",
       "      <th>max</th>\n",
       "      <td>46.340000</td>\n",
       "      <td>49.360000</td>\n",
       "      <td>173.000000</td>\n",
       "    </tr>\n",
       "  </tbody>\n",
       "</table>\n",
       "</div>"
      ],
      "text/plain": [
       "            Yield  ManufacturingProcess09  ManufacturingProcess32\n",
       "count  176.000000              176.000000              176.000000\n",
       "mean    40.176534               45.660114              158.465909\n",
       "std      1.845666                1.546441                5.397246\n",
       "min     35.250000               38.890000              143.000000\n",
       "25%     38.752500               44.890000              155.000000\n",
       "50%     39.970000               45.730000              158.000000\n",
       "75%     41.475000               46.515000              162.000000\n",
       "max     46.340000               49.360000              173.000000"
      ]
     },
     "execution_count": 6,
     "metadata": {},
     "output_type": "execute_result"
    }
   ],
   "source": [
    "ex_regression.describe()"
   ]
  },
  {
   "cell_type": "markdown",
   "metadata": {},
   "source": [
    "#### Question 4\n",
    "##### Print the covariance of `ex_regression`.\n",
    "##### Print the correlation matrix of `ex_regression`. Save it to `ex_cor`.\n",
    "##### Create a correlation plot of `ex_regression` and print it."
   ]
  },
  {
   "cell_type": "code",
   "execution_count": 7,
   "metadata": {},
   "outputs": [
    {
     "data": {
      "text/html": [
       "<div>\n",
       "<style scoped>\n",
       "    .dataframe tbody tr th:only-of-type {\n",
       "        vertical-align: middle;\n",
       "    }\n",
       "\n",
       "    .dataframe tbody tr th {\n",
       "        vertical-align: top;\n",
       "    }\n",
       "\n",
       "    .dataframe thead th {\n",
       "        text-align: right;\n",
       "    }\n",
       "</style>\n",
       "<table border=\"1\" class=\"dataframe\">\n",
       "  <thead>\n",
       "    <tr style=\"text-align: right;\">\n",
       "      <th></th>\n",
       "      <th>Yield</th>\n",
       "      <th>ManufacturingProcess09</th>\n",
       "      <th>ManufacturingProcess32</th>\n",
       "    </tr>\n",
       "  </thead>\n",
       "  <tbody>\n",
       "    <tr>\n",
       "      <th>Yield</th>\n",
       "      <td>3.406484</td>\n",
       "      <td>1.437012</td>\n",
       "      <td>6.059910</td>\n",
       "    </tr>\n",
       "    <tr>\n",
       "      <th>ManufacturingProcess09</th>\n",
       "      <td>1.437012</td>\n",
       "      <td>2.391479</td>\n",
       "      <td>0.342232</td>\n",
       "    </tr>\n",
       "    <tr>\n",
       "      <th>ManufacturingProcess32</th>\n",
       "      <td>6.059910</td>\n",
       "      <td>0.342232</td>\n",
       "      <td>29.130260</td>\n",
       "    </tr>\n",
       "  </tbody>\n",
       "</table>\n",
       "</div>"
      ],
      "text/plain": [
       "                           Yield  ManufacturingProcess09  \\\n",
       "Yield                   3.406484                1.437012   \n",
       "ManufacturingProcess09  1.437012                2.391479   \n",
       "ManufacturingProcess32  6.059910                0.342232   \n",
       "\n",
       "                        ManufacturingProcess32  \n",
       "Yield                                 6.059910  \n",
       "ManufacturingProcess09                0.342232  \n",
       "ManufacturingProcess32               29.130260  "
      ]
     },
     "execution_count": 7,
     "metadata": {},
     "output_type": "execute_result"
    }
   ],
   "source": [
    "ex_regression.cov()"
   ]
  },
  {
   "cell_type": "code",
   "execution_count": 8,
   "metadata": {},
   "outputs": [
    {
     "data": {
      "text/html": [
       "<div>\n",
       "<style scoped>\n",
       "    .dataframe tbody tr th:only-of-type {\n",
       "        vertical-align: middle;\n",
       "    }\n",
       "\n",
       "    .dataframe tbody tr th {\n",
       "        vertical-align: top;\n",
       "    }\n",
       "\n",
       "    .dataframe thead th {\n",
       "        text-align: right;\n",
       "    }\n",
       "</style>\n",
       "<table border=\"1\" class=\"dataframe\">\n",
       "  <thead>\n",
       "    <tr style=\"text-align: right;\">\n",
       "      <th></th>\n",
       "      <th>Yield</th>\n",
       "      <th>ManufacturingProcess09</th>\n",
       "      <th>ManufacturingProcess32</th>\n",
       "    </tr>\n",
       "  </thead>\n",
       "  <tbody>\n",
       "    <tr>\n",
       "      <th>Yield</th>\n",
       "      <td>1.000000</td>\n",
       "      <td>0.503471</td>\n",
       "      <td>0.608332</td>\n",
       "    </tr>\n",
       "    <tr>\n",
       "      <th>ManufacturingProcess09</th>\n",
       "      <td>0.503471</td>\n",
       "      <td>1.000000</td>\n",
       "      <td>0.041003</td>\n",
       "    </tr>\n",
       "    <tr>\n",
       "      <th>ManufacturingProcess32</th>\n",
       "      <td>0.608332</td>\n",
       "      <td>0.041003</td>\n",
       "      <td>1.000000</td>\n",
       "    </tr>\n",
       "  </tbody>\n",
       "</table>\n",
       "</div>"
      ],
      "text/plain": [
       "                           Yield  ManufacturingProcess09  \\\n",
       "Yield                   1.000000                0.503471   \n",
       "ManufacturingProcess09  0.503471                1.000000   \n",
       "ManufacturingProcess32  0.608332                0.041003   \n",
       "\n",
       "                        ManufacturingProcess32  \n",
       "Yield                                 0.608332  \n",
       "ManufacturingProcess09                0.041003  \n",
       "ManufacturingProcess32                1.000000  "
      ]
     },
     "execution_count": 8,
     "metadata": {},
     "output_type": "execute_result"
    }
   ],
   "source": [
    "ex_cor = ex_regression.corr()\n",
    "ex_cor"
   ]
  },
  {
   "cell_type": "code",
   "execution_count": 9,
   "metadata": {},
   "outputs": [
    {
     "data": {
      "text/plain": [
       "<matplotlib.image.AxesImage at 0x1c16c49438>"
      ]
     },
     "execution_count": 9,
     "metadata": {},
     "output_type": "execute_result"
    },
    {
     "data": {
      "image/png": "[encoded data removed]",
      "text/plain": [
       "<Figure size 288x288 with 1 Axes>"
      ]
     },
     "metadata": {
      "needs_background": "light"
     },
     "output_type": "display_data"
    }
   ],
   "source": [
    "plt.matshow(ex_cor)"
   ]
  },
  {
   "cell_type": "markdown",
   "metadata": {},
   "source": [
    "#### Question 5\n",
    "##### Check the number of NAs in each column.\n",
    "##### Substitute the NAs with the mean value in each of the respective columns.\n",
    "##### Check each column again to confirm that there are no null values."
   ]
  },
  {
   "cell_type": "code",
   "execution_count": 10,
   "metadata": {},
   "outputs": [
    {
     "data": {
      "text/plain": [
       "Yield                     0\n",
       "ManufacturingProcess09    0\n",
       "ManufacturingProcess32    0\n",
       "dtype: int64"
      ]
     },
     "execution_count": 10,
     "metadata": {},
     "output_type": "execute_result"
    }
   ],
   "source": [
    "ex_regression.isna().sum()"
   ]
  },
  {
   "cell_type": "code",
   "execution_count": 11,
   "metadata": {},
   "outputs": [
    {
     "data": {
      "text/plain": [
       "Yield                     0\n",
       "ManufacturingProcess09    0\n",
       "ManufacturingProcess32    0\n",
       "dtype: int64"
      ]
     },
     "execution_count": 11,
     "metadata": {},
     "output_type": "execute_result"
    }
   ],
   "source": [
    "ex_regression = ex_regression.fillna(ex_regression.mean())\n",
    "ex_regression.isna().sum()"
   ]
  },
  {
   "cell_type": "markdown",
   "metadata": {},
   "source": [
    "#### Question 6\n",
    "##### Check the variables for zero variance using the `VarianceThreshold` function.\n",
    "##### Instantiate the function and save it to `selector`.\n",
    "##### Save the cleaned dataset to `ex_regression_clean`.\n",
    "##### Print the shape of the new dataset.\n",
    "##### What is the number of columns in the new dataset? "
   ]
  },
  {
   "cell_type": "code",
   "execution_count": 12,
   "metadata": {},
   "outputs": [
    {
     "name": "stdout",
     "output_type": "stream",
     "text": [
      "(176, 3)\n",
      "(176, 3)\n"
     ]
    }
   ],
   "source": [
    "ex_selector = VarianceThreshold()\n",
    "ex_regression_clean = ex_selector.fit_transform(ex_regression)\n",
    "print(ex_regression_clean.shape)\n",
    "print(ex_regression.shape)"
   ]
  },
  {
   "cell_type": "code",
   "execution_count": null,
   "metadata": {},
   "outputs": [],
   "source": []
  },
  {
   "cell_type": "markdown",
   "metadata": {},
   "source": [
    "#### Question 7\n",
    "##### Create a scatterplot of the two variables `Yield` and `ManufacturingProcess09` using the `matplotlib` package.\n",
    "##### Create a scatterplot of the two variables `Yield` and `ManufacturingProcess32` using the `matplotlib` package.\n",
    "##### What observations can we make about these variables?\n",
    "##### Create histograms for `Yield` and `ManufacturingProcess09` and `ManufacturingProcess32`."
   ]
  },
  {
   "cell_type": "code",
   "execution_count": 13,
   "metadata": {},
   "outputs": [],
   "source": [
    "ex_regression_clean = pd.DataFrame(ex_regression_clean, columns = ex_regression.columns)"
   ]
  },
  {
   "cell_type": "code",
   "execution_count": 14,
   "metadata": {},
   "outputs": [
    {
     "data": {
      "text/plain": [
       "<function matplotlib.pyplot.show(*args, **kw)>"
      ]
     },
     "execution_count": 14,
     "metadata": {},
     "output_type": "execute_result"
    },
    {
     "data": {
      "image/png": "[encoded data removed]",
      "text/plain": [
       "<Figure size 432x288 with 1 Axes>"
      ]
     },
     "metadata": {
      "needs_background": "light"
     },
     "output_type": "display_data"
    }
   ],
   "source": [
    "plt.scatter(ex_regression_clean['ManufacturingProcess09'],\n",
    "            ex_regression_clean['Yield']\n",
    "           )\n",
    "plt.title('Scatterplot')\n",
    "plt.xlabel('ManufacturingProcess09')\n",
    "plt.ylabel('Yield')\n",
    "plt.show\n"
   ]
  },
  {
   "cell_type": "code",
   "execution_count": 15,
   "metadata": {},
   "outputs": [
    {
     "data": {
      "text/plain": [
       "<function matplotlib.pyplot.show(*args, **kw)>"
      ]
     },
     "execution_count": 15,
     "metadata": {},
     "output_type": "execute_result"
    },
    {
     "data": {
      "image/png": "[encoded data removed]",
      "text/plain": [
       "<Figure size 432x288 with 1 Axes>"
      ]
     },
     "metadata": {
      "needs_background": "light"
     },
     "output_type": "display_data"
    }
   ],
   "source": [
    "plt.scatter(ex_regression_clean['ManufacturingProcess32'],\n",
    "            ex_regression_clean['Yield']\n",
    "           )\n",
    "plt.title('Scatterplot')\n",
    "plt.xlabel('ManufacturingProcess32')\n",
    "plt.ylabel('Yield')\n",
    "plt.show"
   ]
  },
  {
   "cell_type": "code",
   "execution_count": 16,
   "metadata": {},
   "outputs": [
    {
     "data": {
      "text/plain": [
       "Text(0.5, 0, 'Yield of different products')"
      ]
     },
     "execution_count": 16,
     "metadata": {},
     "output_type": "execute_result"
    },
    {
     "data": {
      "image/png": "[encoded data removed]",
      "text/plain": [
       "<Figure size 432x288 with 1 Axes>"
      ]
     },
     "metadata": {
      "needs_background": "light"
     },
     "output_type": "display_data"
    }
   ],
   "source": [
    "plt.hist(ex_regression_clean['Yield'])\n",
    "plt.xlabel('Yield of different products')"
   ]
  },
  {
   "cell_type": "code",
   "execution_count": 17,
   "metadata": {},
   "outputs": [
    {
     "data": {
      "text/plain": [
       "Text(0.5, 0, 'ManufacturingProcess09 of different products')"
      ]
     },
     "execution_count": 17,
     "metadata": {},
     "output_type": "execute_result"
    },
    {
     "data": {
      "image/png": "[encoded data removed]",
      "text/plain": [
       "<Figure size 432x288 with 1 Axes>"
      ]
     },
     "metadata": {
      "needs_background": "light"
     },
     "output_type": "display_data"
    }
   ],
   "source": [
    "plt.hist(ex_regression_clean['ManufacturingProcess09'])\n",
    "plt.xlabel('ManufacturingProcess09 of different products')"
   ]
  },
  {
   "cell_type": "code",
   "execution_count": 18,
   "metadata": {},
   "outputs": [
    {
     "data": {
      "text/plain": [
       "Text(0.5, 0, 'ManufacturingProcess32 of different products')"
      ]
     },
     "execution_count": 18,
     "metadata": {},
     "output_type": "execute_result"
    },
    {
     "data": {
      "image/png": "[encoded data removed]",
      "text/plain": [
       "<Figure size 432x288 with 1 Axes>"
      ]
     },
     "metadata": {
      "needs_background": "light"
     },
     "output_type": "display_data"
    }
   ],
   "source": [
    "plt.hist(ex_regression_clean['ManufacturingProcess32'])\n",
    "plt.xlabel('ManufacturingProcess32 of different products')"
   ]
  },
  {
   "cell_type": "markdown",
   "metadata": {},
   "source": [
    "#### Question 8\n",
    "##### Split our dataset `ex_regression` for modeling into `ex_X` and `ex_y` variables.\n",
    "##### Save the predictors `ManufacturingProcess09` and `ManufacturingProcess32` into `ex_X`. Add a constant to `ex_X`.\n",
    "##### Save the target variable `Yield` into `ex_y`."
   ]
  },
  {
   "cell_type": "code",
   "execution_count": 19,
   "metadata": {},
   "outputs": [],
   "source": [
    "\n",
    "ex_X = pd.DataFrame(ex_regression.loc[:, ['ManufacturingProcess09', \n",
    "                                   'ManufacturingProcess32']])\n",
    "# Add a constant.\n",
    "ex_X = sm.add_constant(ex_X)\n",
    "# y - `Yield'\n",
    "ex_y = pd.DataFrame(ex_regression.loc[:,'Yield'])"
   ]
  },
  {
   "cell_type": "markdown",
   "metadata": {},
   "source": [
    "## Exercise 2"
   ]
  },
  {
   "cell_type": "markdown",
   "metadata": {},
   "source": [
    "#### Question 1\n",
    "##### Set the random seed to `1`.\n",
    "##### Split 70% of `ex_regression` dataset to the training set and the remaining 30% to the test set. \n",
    "##### Split the sets into `ex_X` and `ex_y` as `ex_X_train`, `ex_X_test`, `ex_y_train` and `ex_y_test` respectively.\n",
    "##### Check the shape of the training set and test set to see if they've split correctly."
   ]
  },
  {
   "cell_type": "code",
   "execution_count": 20,
   "metadata": {},
   "outputs": [],
   "source": [
    "np.random.seed(1)"
   ]
  },
  {
   "cell_type": "code",
   "execution_count": 21,
   "metadata": {},
   "outputs": [
    {
     "name": "stdout",
     "output_type": "stream",
     "text": [
      "(123, 3) (53, 3) (123, 1) (53, 1)\n"
     ]
    }
   ],
   "source": [
    "ex_X_train, ex_X_test, ex_y_train, ex_y_test = train_test_split(ex_X, ex_y, test_size = 0.3)\n",
    "\n",
    "print(ex_X_train.shape, ex_X_test.shape, \n",
    "      ex_y_train.shape, ex_y_test.shape)"
   ]
  },
  {
   "cell_type": "markdown",
   "metadata": {},
   "source": [
    "#### Question 2\n",
    "##### Use `sm.OLS()` function to run multiple linear regression on our training data, `ex_y_train` and `ex_X_train`. \n",
    "##### Save the model to `ex_model_m` and view its summary."
   ]
  },
  {
   "cell_type": "code",
   "execution_count": 22,
   "metadata": {},
   "outputs": [
    {
     "data": {
      "text/html": [
       "<table class=\"simpletable\">\n",
       "<caption>OLS Regression Results</caption>\n",
       "<tr>\n",
       "  <th>Dep. Variable:</th>          <td>Yield</td>      <th>  R-squared:         </th> <td>   0.618</td>\n",
       "</tr>\n",
       "<tr>\n",
       "  <th>Model:</th>                   <td>OLS</td>       <th>  Adj. R-squared:    </th> <td>   0.611</td>\n",
       "</tr>\n",
       "<tr>\n",
       "  <th>Method:</th>             <td>Least Squares</td>  <th>  F-statistic:       </th> <td>   96.92</td>\n",
       "</tr>\n",
       "<tr>\n",
       "  <th>Date:</th>             <td>Tue, 27 Aug 2019</td> <th>  Prob (F-statistic):</th> <td>8.88e-26</td>\n",
       "</tr>\n",
       "<tr>\n",
       "  <th>Time:</th>                 <td>11:05:50</td>     <th>  Log-Likelihood:    </th> <td> -187.88</td>\n",
       "</tr>\n",
       "<tr>\n",
       "  <th>No. Observations:</th>      <td>   123</td>      <th>  AIC:               </th> <td>   381.8</td>\n",
       "</tr>\n",
       "<tr>\n",
       "  <th>Df Residuals:</th>          <td>   120</td>      <th>  BIC:               </th> <td>   390.2</td>\n",
       "</tr>\n",
       "<tr>\n",
       "  <th>Df Model:</th>              <td>     2</td>      <th>                     </th>     <td> </td>   \n",
       "</tr>\n",
       "<tr>\n",
       "  <th>Covariance Type:</th>      <td>nonrobust</td>    <th>                     </th>     <td> </td>   \n",
       "</tr>\n",
       "</table>\n",
       "<table class=\"simpletable\">\n",
       "<tr>\n",
       "             <td></td>               <th>coef</th>     <th>std err</th>      <th>t</th>      <th>P>|t|</th>  <th>[0.025</th>    <th>0.975]</th>  \n",
       "</tr>\n",
       "<tr>\n",
       "  <th>const</th>                  <td>  -16.5004</td> <td>    4.081</td> <td>   -4.044</td> <td> 0.000</td> <td>  -24.580</td> <td>   -8.421</td>\n",
       "</tr>\n",
       "<tr>\n",
       "  <th>ManufacturingProcess09</th> <td>    0.5434</td> <td>    0.063</td> <td>    8.688</td> <td> 0.000</td> <td>    0.420</td> <td>    0.667</td>\n",
       "</tr>\n",
       "<tr>\n",
       "  <th>ManufacturingProcess32</th> <td>    0.2007</td> <td>    0.019</td> <td>   10.706</td> <td> 0.000</td> <td>    0.164</td> <td>    0.238</td>\n",
       "</tr>\n",
       "</table>\n",
       "<table class=\"simpletable\">\n",
       "<tr>\n",
       "  <th>Omnibus:</th>       <td> 1.276</td> <th>  Durbin-Watson:     </th> <td>   2.118</td>\n",
       "</tr>\n",
       "<tr>\n",
       "  <th>Prob(Omnibus):</th> <td> 0.528</td> <th>  Jarque-Bera (JB):  </th> <td>   1.126</td>\n",
       "</tr>\n",
       "<tr>\n",
       "  <th>Skew:</th>          <td> 0.234</td> <th>  Prob(JB):          </th> <td>   0.570</td>\n",
       "</tr>\n",
       "<tr>\n",
       "  <th>Kurtosis:</th>      <td> 2.977</td> <th>  Cond. No.          </th> <td>6.61e+03</td>\n",
       "</tr>\n",
       "</table><br/><br/>Warnings:<br/>[1] Standard Errors assume that the covariance matrix of the errors is correctly specified.<br/>[2] The condition number is large, 6.61e+03. This might indicate that there are<br/>strong multicollinearity or other numerical problems."
      ],
      "text/plain": [
       "<class 'statsmodels.iolib.summary.Summary'>\n",
       "\"\"\"\n",
       "                            OLS Regression Results                            \n",
       "==============================================================================\n",
       "Dep. Variable:                  Yield   R-squared:                       0.618\n",
       "Model:                            OLS   Adj. R-squared:                  0.611\n",
       "Method:                 Least Squares   F-statistic:                     96.92\n",
       "Date:                Tue, 27 Aug 2019   Prob (F-statistic):           8.88e-26\n",
       "Time:                        11:05:50   Log-Likelihood:                -187.88\n",
       "No. Observations:                 123   AIC:                             381.8\n",
       "Df Residuals:                     120   BIC:                             390.2\n",
       "Df Model:                           2                                         \n",
       "Covariance Type:            nonrobust                                         \n",
       "==========================================================================================\n",
       "                             coef    std err          t      P>|t|      [0.025      0.975]\n",
       "------------------------------------------------------------------------------------------\n",
       "const                    -16.5004      4.081     -4.044      0.000     -24.580      -8.421\n",
       "ManufacturingProcess09     0.5434      0.063      8.688      0.000       0.420       0.667\n",
       "ManufacturingProcess32     0.2007      0.019     10.706      0.000       0.164       0.238\n",
       "==============================================================================\n",
       "Omnibus:                        1.276   Durbin-Watson:                   2.118\n",
       "Prob(Omnibus):                  0.528   Jarque-Bera (JB):                1.126\n",
       "Skew:                           0.234   Prob(JB):                        0.570\n",
       "Kurtosis:                       2.977   Cond. No.                     6.61e+03\n",
       "==============================================================================\n",
       "\n",
       "Warnings:\n",
       "[1] Standard Errors assume that the covariance matrix of the errors is correctly specified.\n",
       "[2] The condition number is large, 6.61e+03. This might indicate that there are\n",
       "strong multicollinearity or other numerical problems.\n",
       "\"\"\""
      ]
     },
     "execution_count": 22,
     "metadata": {},
     "output_type": "execute_result"
    }
   ],
   "source": [
    "ex_model_m = sm.OLS(ex_y_train, ex_X_train).fit()\n",
    "ex_model_m.summary()"
   ]
  },
  {
   "cell_type": "markdown",
   "metadata": {},
   "source": [
    "#### Question 3\n",
    "##### Derive the fitted values into `ex_fitted_m` and the residuals into `ex_residuals_m` from our model `ex_model`.\n",
    "##### Save the normalized results to ` ex_model_m_norm_residuals` and the absolute squared residuals to ` ex_model_m_norm_residuals_abs_sqrt`.\n",
    "##### Derive the absolute residuals to `ex_model_m_abs_resid`.\n",
    "##### Combine `ex_X_train` and `ex_y_train` into one dataframe named `ex_frames` for plotting.\n",
    "##### Concatenate by columns and save to `ex_training`."
   ]
  },
  {
   "cell_type": "code",
   "execution_count": 23,
   "metadata": {},
   "outputs": [
    {
     "name": "stdout",
     "output_type": "stream",
     "text": [
      "12     42.638397\n",
      "88     39.857245\n",
      "93     39.234355\n",
      "28     38.392031\n",
      "122    40.320813\n",
      "dtype: float64\n",
      "12     0.801603\n",
      "88     0.912755\n",
      "93     0.675645\n",
      "28     0.127969\n",
      "122    2.259187\n",
      "dtype: float64\n"
     ]
    }
   ],
   "source": [
    "ex_fitted_m = ex_model_m.fittedvalues\n",
    "print(ex_fitted_m.head())\n",
    "ex_residuals_m = ex_model_m.resid\n",
    "print(ex_residuals_m.head())"
   ]
  },
  {
   "cell_type": "code",
   "execution_count": 24,
   "metadata": {},
   "outputs": [],
   "source": [
    "# Get the normalized residuals.\n",
    "ex_model_m_norm_residuals = ex_model_m.get_influence().resid_studentized_internal\n",
    "# Get the absolute squared normalized residuals.\n",
    "ex_model_m_norm_residuals_abs_sqrt = np.sqrt(np.abs(ex_model_m_norm_residuals))\n",
    "# Get the absolute residuals.\n",
    "ex_model_m_abs_resid = np.abs(ex_residuals_m)\n",
    "# Combine X_train and y_train into one dataframe for plotting.\n",
    "ex_frames = [ex_X_train,ex_y_train]\n",
    "ex_training = pd.concat(ex_frames, axis = 1) # axis = 1 allows us to combine by columns\n"
   ]
  },
  {
   "cell_type": "markdown",
   "metadata": {},
   "source": [
    "#### Question 4\n",
    "##### Test the assumption that the relationship between the predictor and target variable is linear.\n",
    "##### Does our model satisfy this assumption?"
   ]
  },
  {
   "cell_type": "code",
   "execution_count": 25,
   "metadata": {},
   "outputs": [
    {
     "data": {
      "text/plain": [
       "Text(0, 0.5, 'Residuals')"
      ]
     },
     "execution_count": 25,
     "metadata": {},
     "output_type": "execute_result"
    },
    {
     "data": {
      "image/png": "[encoded data removed]",
      "text/plain": [
       "<Figure size 864x576 with 1 Axes>"
      ]
     },
     "metadata": {
      "needs_background": "light"
     },
     "output_type": "display_data"
    }
   ],
   "source": [
    "import seaborn as sns\n",
    "\n",
    "# Let's look at assumption 1.\n",
    "ex_plot_lm_1 = plt.figure(1)\n",
    "ex_plot_lm_1.set_figheight(8)\n",
    "ex_plot_lm_1.set_figwidth(12)\n",
    "\n",
    "ex_plot_lm_1.axes[0] = sns.residplot(ex_fitted_m, 'Yield', \n",
    "                                     data = ex_training,\n",
    "lowess = True,\n",
    "scatter_kws = {'alpha': 0.5},\n",
    "line_kws = {'color': 'red', \n",
    "            'lw': 1, \n",
    "            'alpha': 0.8})\n",
    "\n",
    "ex_plot_lm_1.axes[0].set_title('Residuals vs Fitted')\n",
    "ex_plot_lm_1.axes[0].set_xlabel('Fitted values')\n",
    "ex_plot_lm_1.axes[0].set_ylabel('Residuals')"
   ]
  },
  {
   "cell_type": "markdown",
   "metadata": {},
   "source": [
    "##### The line is almost a straight line. Hence it meets our assumption of linearity"
   ]
  },
  {
   "cell_type": "markdown",
   "metadata": {},
   "source": [
    "#### Question 5\n",
    "##### Test the assumption that the residuals are normally distributed.\n",
    "##### Does our model satisfy the assumption?"
   ]
  },
  {
   "cell_type": "code",
   "execution_count": 26,
   "metadata": {},
   "outputs": [
    {
     "data": {
      "image/png": "[encoded data removed]",
      "text/plain": [
       "<Figure size 864x576 with 1 Axes>"
      ]
     },
     "metadata": {
      "needs_background": "light"
     },
     "output_type": "display_data"
    }
   ],
   "source": [
    "from statsmodels.graphics.gofplots import ProbPlot\n",
    "\n",
    "ex_QQ = ProbPlot(ex_model_m_norm_residuals)\n",
    "ex_plot_lm_2 = ex_QQ.qqplot(line = '45', \n",
    "                         alpha = 0.5, \n",
    "                         color = '#4C72B0', \n",
    "                         lw = 1)\n",
    "\n",
    "ex_plot_lm_2.set_figheight(8)\n",
    "ex_plot_lm_2.set_figwidth(12)\n",
    "\n",
    "ex_plot_lm_2.axes[0].set_title('Normal Q-Q')\n",
    "ex_plot_lm_2.axes[0].set_xlabel('Theoretical Quantiles')\n",
    "ex_plot_lm_2.axes[0].set_ylabel('Standardized Residuals');\n",
    "\n"
   ]
  },
  {
   "cell_type": "markdown",
   "metadata": {},
   "source": [
    "##### The residuals are fitted with the Q-Q line. Hence, our model does satisfy the assumption."
   ]
  },
  {
   "cell_type": "markdown",
   "metadata": {},
   "source": [
    "#### Question 6\n",
    "##### Test the assumption that the residuals have equal variance.\n",
    "##### Does our model satisfy the assumption?"
   ]
  },
  {
   "cell_type": "code",
   "execution_count": 27,
   "metadata": {},
   "outputs": [
    {
     "data": {
      "text/plain": [
       "Text(0, 0.5, '$\\\\sqrt{|Standardized Residuals|}$')"
      ]
     },
     "execution_count": 27,
     "metadata": {},
     "output_type": "execute_result"
    },
    {
     "data": {
      "image/png": "[encoded data removed]",
      "text/plain": [
       "<Figure size 864x576 with 1 Axes>"
      ]
     },
     "metadata": {
      "needs_background": "light"
     },
     "output_type": "display_data"
    }
   ],
   "source": [
    "ex_plot_lm_3 = plt.figure(3)\n",
    "ex_plot_lm_3.set_figheight(8)\n",
    "ex_plot_lm_3.set_figwidth(12)\n",
    "\n",
    "plt.scatter(ex_fitted_m, \n",
    "            ex_model_m_norm_residuals_abs_sqrt, \n",
    "            alpha = 0.5)\n",
    "sns.regplot(ex_fitted_m, \n",
    "            ex_model_m_norm_residuals_abs_sqrt,\n",
    "scatter = False,\n",
    "          ci = False,\n",
    "          lowess = True,\n",
    "          line_kws = {'color': 'red', \n",
    "                      'lw': 1, \n",
    "                      'alpha': 0.8})\n",
    "\n",
    "ex_plot_lm_3.axes[0].set_title('Scale-Location')\n",
    "ex_plot_lm_3.axes[0].set_xlabel('Fitted values')\n",
    "ex_plot_lm_3.axes[0].set_ylabel('$\\sqrt{|Standardized Residuals|}$')\n",
    "\n"
   ]
  },
  {
   "cell_type": "markdown",
   "metadata": {},
   "source": [
    "## Exercise 3"
   ]
  },
  {
   "cell_type": "markdown",
   "metadata": {},
   "source": [
    "#### Question 1\n",
    "##### Test the model `ex_model_m` for outliers using the `statsmodel.outlier_test()` function.\n",
    "##### Save it to `ex_test_m`."
   ]
  },
  {
   "cell_type": "code",
   "execution_count": 32,
   "metadata": {},
   "outputs": [
    {
     "name": "stdout",
     "output_type": "stream",
     "text": [
      "     student_resid   unadj_p  bonf(p)\n",
      "12        0.721358  0.472104      1.0\n",
      "88        0.819583  0.414092      1.0\n",
      "93        0.601563  0.548610      1.0\n",
      "28        0.115018  0.908624      1.0\n",
      "122       2.036558  0.043914      1.0\n"
     ]
    }
   ],
   "source": [
    "ex_test_m = ex_model_m.outlier_test()\n",
    "print(ex_test_m.head())"
   ]
  },
  {
   "cell_type": "code",
   "execution_count": 34,
   "metadata": {},
   "outputs": [
    {
     "name": "stdout",
     "output_type": "stream",
     "text": [
      "Empty DataFrame\n",
      "Columns: [student_resid, unadj_p, bonf(p)]\n",
      "Index: []\n"
     ]
    }
   ],
   "source": [
    "ex_test_final_m = ex_test_m[ex_test_m['bonf(p)'] < 0.05]\n",
    "print(ex_test_final_m)"
   ]
  },
  {
   "cell_type": "markdown",
   "metadata": {},
   "source": [
    "#### Question 2\n",
    "##### Remove the outliers from our original train set `ex_X_train` and `ex_y_train`. Save them as `ex_X_train_no_outliers` and `ex_y_train_no_outliers`.\n",
    "##### Print the shape of the new dataframe. Is there any change in the dataframe?"
   ]
  },
  {
   "cell_type": "code",
   "execution_count": 35,
   "metadata": {},
   "outputs": [],
   "source": [
    "ex_X_train_no_outliers = ex_X_train.drop(ex_test_final_m.index)\n",
    "ex_y_train_no_outliers = ex_y_train.drop(ex_test_final_m.index)"
   ]
  },
  {
   "cell_type": "code",
   "execution_count": 37,
   "metadata": {},
   "outputs": [
    {
     "name": "stdout",
     "output_type": "stream",
     "text": [
      "(123, 3)\n",
      "(123, 1)\n",
      "(123, 3)\n"
     ]
    }
   ],
   "source": [
    "print(ex_X_train_no_outliers.shape)\n",
    "print(ex_y_train_no_outliers.shape)\n",
    "print(ex_X_train.shape)"
   ]
  },
  {
   "cell_type": "markdown",
   "metadata": {},
   "source": [
    "#### Question 3\n",
    "##### Rerun the multiple linear regression on our new dataframes, `ex_y_train_no_outliers` and `ex_X_train_no_outliers`.\n",
    "##### Save it as `ex_model_m_no_outliers` and print its summary."
   ]
  },
  {
   "cell_type": "code",
   "execution_count": 39,
   "metadata": {},
   "outputs": [],
   "source": [
    "ex_model_m_no_outliers = sm.OLS(ex_y_train_no_outliers,\n",
    "                                ex_X_train_no_outliers).fit()"
   ]
  },
  {
   "cell_type": "code",
   "execution_count": 41,
   "metadata": {},
   "outputs": [
    {
     "data": {
      "text/html": [
       "<table class=\"simpletable\">\n",
       "<caption>OLS Regression Results</caption>\n",
       "<tr>\n",
       "  <th>Dep. Variable:</th>          <td>Yield</td>      <th>  R-squared:         </th> <td>   0.618</td>\n",
       "</tr>\n",
       "<tr>\n",
       "  <th>Model:</th>                   <td>OLS</td>       <th>  Adj. R-squared:    </th> <td>   0.611</td>\n",
       "</tr>\n",
       "<tr>\n",
       "  <th>Method:</th>             <td>Least Squares</td>  <th>  F-statistic:       </th> <td>   96.92</td>\n",
       "</tr>\n",
       "<tr>\n",
       "  <th>Date:</th>             <td>Tue, 27 Aug 2019</td> <th>  Prob (F-statistic):</th> <td>8.88e-26</td>\n",
       "</tr>\n",
       "<tr>\n",
       "  <th>Time:</th>                 <td>11:41:44</td>     <th>  Log-Likelihood:    </th> <td> -187.88</td>\n",
       "</tr>\n",
       "<tr>\n",
       "  <th>No. Observations:</th>      <td>   123</td>      <th>  AIC:               </th> <td>   381.8</td>\n",
       "</tr>\n",
       "<tr>\n",
       "  <th>Df Residuals:</th>          <td>   120</td>      <th>  BIC:               </th> <td>   390.2</td>\n",
       "</tr>\n",
       "<tr>\n",
       "  <th>Df Model:</th>              <td>     2</td>      <th>                     </th>     <td> </td>   \n",
       "</tr>\n",
       "<tr>\n",
       "  <th>Covariance Type:</th>      <td>nonrobust</td>    <th>                     </th>     <td> </td>   \n",
       "</tr>\n",
       "</table>\n",
       "<table class=\"simpletable\">\n",
       "<tr>\n",
       "             <td></td>               <th>coef</th>     <th>std err</th>      <th>t</th>      <th>P>|t|</th>  <th>[0.025</th>    <th>0.975]</th>  \n",
       "</tr>\n",
       "<tr>\n",
       "  <th>const</th>                  <td>  -16.5004</td> <td>    4.081</td> <td>   -4.044</td> <td> 0.000</td> <td>  -24.580</td> <td>   -8.421</td>\n",
       "</tr>\n",
       "<tr>\n",
       "  <th>ManufacturingProcess09</th> <td>    0.5434</td> <td>    0.063</td> <td>    8.688</td> <td> 0.000</td> <td>    0.420</td> <td>    0.667</td>\n",
       "</tr>\n",
       "<tr>\n",
       "  <th>ManufacturingProcess32</th> <td>    0.2007</td> <td>    0.019</td> <td>   10.706</td> <td> 0.000</td> <td>    0.164</td> <td>    0.238</td>\n",
       "</tr>\n",
       "</table>\n",
       "<table class=\"simpletable\">\n",
       "<tr>\n",
       "  <th>Omnibus:</th>       <td> 1.276</td> <th>  Durbin-Watson:     </th> <td>   2.118</td>\n",
       "</tr>\n",
       "<tr>\n",
       "  <th>Prob(Omnibus):</th> <td> 0.528</td> <th>  Jarque-Bera (JB):  </th> <td>   1.126</td>\n",
       "</tr>\n",
       "<tr>\n",
       "  <th>Skew:</th>          <td> 0.234</td> <th>  Prob(JB):          </th> <td>   0.570</td>\n",
       "</tr>\n",
       "<tr>\n",
       "  <th>Kurtosis:</th>      <td> 2.977</td> <th>  Cond. No.          </th> <td>6.61e+03</td>\n",
       "</tr>\n",
       "</table><br/><br/>Warnings:<br/>[1] Standard Errors assume that the covariance matrix of the errors is correctly specified.<br/>[2] The condition number is large, 6.61e+03. This might indicate that there are<br/>strong multicollinearity or other numerical problems."
      ],
      "text/plain": [
       "<class 'statsmodels.iolib.summary.Summary'>\n",
       "\"\"\"\n",
       "                            OLS Regression Results                            \n",
       "==============================================================================\n",
       "Dep. Variable:                  Yield   R-squared:                       0.618\n",
       "Model:                            OLS   Adj. R-squared:                  0.611\n",
       "Method:                 Least Squares   F-statistic:                     96.92\n",
       "Date:                Tue, 27 Aug 2019   Prob (F-statistic):           8.88e-26\n",
       "Time:                        11:41:44   Log-Likelihood:                -187.88\n",
       "No. Observations:                 123   AIC:                             381.8\n",
       "Df Residuals:                     120   BIC:                             390.2\n",
       "Df Model:                           2                                         \n",
       "Covariance Type:            nonrobust                                         \n",
       "==========================================================================================\n",
       "                             coef    std err          t      P>|t|      [0.025      0.975]\n",
       "------------------------------------------------------------------------------------------\n",
       "const                    -16.5004      4.081     -4.044      0.000     -24.580      -8.421\n",
       "ManufacturingProcess09     0.5434      0.063      8.688      0.000       0.420       0.667\n",
       "ManufacturingProcess32     0.2007      0.019     10.706      0.000       0.164       0.238\n",
       "==============================================================================\n",
       "Omnibus:                        1.276   Durbin-Watson:                   2.118\n",
       "Prob(Omnibus):                  0.528   Jarque-Bera (JB):                1.126\n",
       "Skew:                           0.234   Prob(JB):                        0.570\n",
       "Kurtosis:                       2.977   Cond. No.                     6.61e+03\n",
       "==============================================================================\n",
       "\n",
       "Warnings:\n",
       "[1] Standard Errors assume that the covariance matrix of the errors is correctly specified.\n",
       "[2] The condition number is large, 6.61e+03. This might indicate that there are\n",
       "strong multicollinearity or other numerical problems.\n",
       "\"\"\""
      ]
     },
     "execution_count": 41,
     "metadata": {},
     "output_type": "execute_result"
    }
   ],
   "source": [
    "ex_model_m_no_outliers.summary()"
   ]
  },
  {
   "cell_type": "markdown",
   "metadata": {},
   "source": [
    "#### Question 4\n",
    "##### Derive the fitted values and the residuals. Save them as `ex_fitted_m_no_outliers` and `ex_residuals_m_no_outliers`."
   ]
  },
  {
   "cell_type": "code",
   "execution_count": 42,
   "metadata": {},
   "outputs": [
    {
     "name": "stdout",
     "output_type": "stream",
     "text": [
      "12     42.638397\n",
      "88     39.857245\n",
      "93     39.234355\n",
      "28     38.392031\n",
      "122    40.320813\n",
      "dtype: float64\n",
      "12     0.801603\n",
      "88     0.912755\n",
      "93     0.675645\n",
      "28     0.127969\n",
      "122    2.259187\n",
      "dtype: float64\n"
     ]
    }
   ],
   "source": [
    "ex_fitted_m_no_outliers = ex_model_m_no_outliers.fittedvalues\n",
    "print(ex_fitted_m.head())\n",
    "ex_residuals_m_no_outliers = ex_model_m_no_outliers.resid\n",
    "print(ex_residuals_m.head())"
   ]
  },
  {
   "cell_type": "markdown",
   "metadata": {},
   "source": [
    "#### Question 5\n",
    "##### Test the model using Variance Inflation Factor(VIF) to check for collinearity.\n",
    "##### Is there any feature that is highly collinear?"
   ]
  },
  {
   "cell_type": "code",
   "execution_count": 44,
   "metadata": {},
   "outputs": [
    {
     "name": "stdout",
     "output_type": "stream",
     "text": [
      "    VIF Factor                features\n",
      "0  1608.299738                   const\n",
      "1     1.000387  ManufacturingProcess09\n",
      "2     1.000387  ManufacturingProcess32\n"
     ]
    }
   ],
   "source": [
    "ex_vif = pd.DataFrame()\n",
    "ex_vif[\"VIF Factor\"] = [variance_inflation_factor(ex_X_train_no_outliers.values, i) for i in range(ex_X_train_no_outliers.shape[1])]\n",
    "ex_vif[\"features\"] = ex_X_train_no_outliers.columns\n",
    "print(ex_vif)"
   ]
  },
  {
   "cell_type": "markdown",
   "metadata": {},
   "source": [
    "#### Question 6\n",
    "##### Same as above, derive the normalized residuals and the absolute squared normalized residuals to test the three assumptions.\n",
    "##### Save them as `ex_model_m_norm_residuals_no_outliers` and `ex_model_m_norm_residuals_abs_sqrt_no` respectively.\n",
    "#### Combine `ex_X_train_no_outliers` and `ex_y_train_no_outliers` into one dataframe named `ex_frames` for plotting.\n",
    "##### Concat by columns and save to `ex_training_no_outliers`."
   ]
  },
  {
   "cell_type": "code",
   "execution_count": 45,
   "metadata": {},
   "outputs": [],
   "source": [
    "# Get the normalized residuals.\n",
    "ex_model_m_norm_residuals_no_outliers = ex_model_m_no_outliers.get_influence().resid_studentized_internal\n",
    "# Get the absolute squared normalized residuals.\n",
    "ex_model_m_norm_residuals_abs_sqrt_no = np.sqrt(np.abs(ex_residuals_m_no_outliers))\n",
    "# Get the absolute residuals.\n",
    "ex_model_m_abs_resid_no = np.abs(ex_residuals_m_no_outliers)\n",
    "# Combine X_train and y_train into one dataframe for plotting.\n",
    "ex_frames = [ex_X_train_no_outliers,ex_y_train_no_outliers]\n",
    "ex_training_no_outliers = pd.concat(ex_frames, axis = 1) # axis = 1 allows us to combine by columns\n"
   ]
  },
  {
   "cell_type": "markdown",
   "metadata": {},
   "source": [
    "#### Question 7\n",
    "##### Test the assumption that the relationship between the predictor and target variable is linear.\n",
    "##### Does our model satisfy the assumption?"
   ]
  },
  {
   "cell_type": "code",
   "execution_count": 46,
   "metadata": {},
   "outputs": [
    {
     "data": {
      "text/plain": [
       "Text(0, 0.5, 'Residuals')"
      ]
     },
     "execution_count": 46,
     "metadata": {},
     "output_type": "execute_result"
    },
    {
     "data": {
      "image/png": "[encoded data removed]",
      "text/plain": [
       "<Figure size 864x576 with 1 Axes>"
      ]
     },
     "metadata": {
      "needs_background": "light"
     },
     "output_type": "display_data"
    }
   ],
   "source": [
    "import seaborn as sns\n",
    "\n",
    "# Let's look at assumption 1.\n",
    "ex_plot_lm_1 = plt.figure(1)\n",
    "ex_plot_lm_1.set_figheight(8)\n",
    "ex_plot_lm_1.set_figwidth(12)\n",
    "\n",
    "ex_plot_lm_1.axes[0] = sns.residplot(ex_fitted_m, 'Yield', \n",
    "                                     data = ex_training_no_outliers,\n",
    "lowess = True,\n",
    "scatter_kws = {'alpha': 0.5},\n",
    "line_kws = {'color': 'red', \n",
    "            'lw': 1, \n",
    "            'alpha': 0.8})\n",
    "\n",
    "ex_plot_lm_1.axes[0].set_title('Residuals vs Fitted')\n",
    "ex_plot_lm_1.axes[0].set_xlabel('Fitted values')\n",
    "ex_plot_lm_1.axes[0].set_ylabel('Residuals')"
   ]
  },
  {
   "cell_type": "markdown",
   "metadata": {},
   "source": [
    "#### Question 8\n",
    "##### Test the assumption that the residuals are normally distributed.\n",
    "##### Does our model satisfy the assumption?"
   ]
  },
  {
   "cell_type": "code",
   "execution_count": 47,
   "metadata": {},
   "outputs": [
    {
     "data": {
      "image/png": "[encoded data removed]",
      "text/plain": [
       "<Figure size 864x576 with 1 Axes>"
      ]
     },
     "metadata": {
      "needs_background": "light"
     },
     "output_type": "display_data"
    }
   ],
   "source": [
    "from statsmodels.graphics.gofplots import ProbPlot\n",
    "\n",
    "ex_QQ = ProbPlot(ex_model_m_norm_residuals)\n",
    "ex_plot_lm_2 = ex_QQ.qqplot(line = '45', \n",
    "                         alpha = 0.5, \n",
    "                         color = '#4C72B0', \n",
    "                         lw = 1)\n",
    "\n",
    "ex_plot_lm_2.set_figheight(8)\n",
    "ex_plot_lm_2.set_figwidth(12)\n",
    "\n",
    "ex_plot_lm_2.axes[0].set_title('Normal Q-Q')\n",
    "ex_plot_lm_2.axes[0].set_xlabel('Theoretical Quantiles')\n",
    "ex_plot_lm_2.axes[0].set_ylabel('Standardized Residuals');\n",
    "\n"
   ]
  },
  {
   "cell_type": "markdown",
   "metadata": {},
   "source": [
    "#### Question 2\n",
    "##### Use `sm.OLS()` function to run multiple linear regression on our training data, `ex_y_train` and `ex_X_train`. \n",
    "##### Save the model to `ex_model_m` and view its summary."
   ]
  },
  {
   "cell_type": "markdown",
   "metadata": {},
   "source": [
    "#### Question 9\n",
    "##### Test the assumption that the residuals have equal variance.\n",
    "##### Does our model satisfy the assumption?"
   ]
  },
  {
   "cell_type": "code",
   "execution_count": 48,
   "metadata": {},
   "outputs": [
    {
     "data": {
      "text/plain": [
       "Text(0, 0.5, '$\\\\sqrt{|Standardized Residuals|}$')"
      ]
     },
     "execution_count": 48,
     "metadata": {},
     "output_type": "execute_result"
    },
    {
     "data": {
      "image/png": "[encoded data removed]",
      "text/plain": [
       "<Figure size 864x576 with 1 Axes>"
      ]
     },
     "metadata": {
      "needs_background": "light"
     },
     "output_type": "display_data"
    }
   ],
   "source": [
    "ex_plot_lm_3 = plt.figure(3)\n",
    "ex_plot_lm_3.set_figheight(8)\n",
    "ex_plot_lm_3.set_figwidth(12)\n",
    "\n",
    "plt.scatter(ex_fitted_m, \n",
    "            ex_model_m_norm_residuals_abs_sqrt_no, \n",
    "            alpha = 0.5)\n",
    "sns.regplot(ex_fitted_m, \n",
    "            ex_model_m_norm_residuals_abs_sqrt_no,\n",
    "scatter = False,\n",
    "          ci = False,\n",
    "          lowess = True,\n",
    "          line_kws = {'color': 'red', \n",
    "                      'lw': 1, \n",
    "                      'alpha': 0.8})\n",
    "\n",
    "ex_plot_lm_3.axes[0].set_title('Scale-Location')\n",
    "ex_plot_lm_3.axes[0].set_xlabel('Fitted values')\n",
    "ex_plot_lm_3.axes[0].set_ylabel('$\\sqrt{|Standardized Residuals|}$')"
   ]
  },
  {
   "cell_type": "markdown",
   "metadata": {},
   "source": [
    "## Exercise 4"
   ]
  },
  {
   "cell_type": "markdown",
   "metadata": {},
   "source": [
    "#### Question 1\n",
    "##### Predict `Yield` using the test data `ex_X_test`.\n",
    "##### Save it as `ex_prediction`."
   ]
  },
  {
   "cell_type": "code",
   "execution_count": 57,
   "metadata": {},
   "outputs": [
    {
     "name": "stdout",
     "output_type": "stream",
     "text": [
      "94     41.128471\n",
      "126    40.445391\n",
      "19     39.067127\n",
      "69     39.223075\n",
      "53     41.544366\n",
      "136    38.829663\n",
      "110    39.781577\n",
      "14     40.842099\n",
      "163    39.529046\n",
      "105    38.838472\n",
      "11     42.463261\n",
      "4      42.245063\n",
      "106    39.588412\n",
      "42     41.563631\n",
      "127    40.054118\n",
      "119    38.511999\n",
      "150    38.336374\n",
      "35     39.551608\n",
      "124    39.454614\n",
      "31     41.791874\n",
      "51     41.727074\n",
      "75     39.918671\n",
      "170    39.934562\n",
      "73     40.136457\n",
      "40     40.777299\n",
      "85     40.304098\n",
      "47     42.552271\n",
      "29     39.430404\n",
      "16     41.757620\n",
      "102    38.185938\n",
      "154    38.606443\n",
      "159    39.163709\n",
      "149    38.547077\n",
      "5      42.842018\n",
      "155    38.117351\n",
      "90     39.174578\n",
      "89     38.653292\n",
      "145    38.193432\n",
      "112    39.429168\n",
      "48     42.795581\n",
      "54     41.579522\n",
      "59     40.766018\n",
      "99     37.900390\n",
      "39     41.021432\n",
      "56     39.615584\n",
      "44     41.428185\n",
      "81     41.518508\n",
      "33     39.680796\n",
      "18     38.963462\n",
      "58     41.653053\n",
      "125    39.524024\n",
      "78     39.860130\n",
      "162    40.321225\n",
      "dtype: float64\n"
     ]
    }
   ],
   "source": [
    "# Predict values of `Calories` using the test data.\n",
    "ex_prediction = ex_model_m_no_outliers.predict(ex_X_test)\n",
    "print(ex_prediction)"
   ]
  },
  {
   "cell_type": "markdown",
   "metadata": {},
   "source": [
    "#### Question 2\n",
    "##### Create a dataframe named `ex_results` with the columns containing:\n",
    "- `actual` using `ex_y_test.Yield`\n",
    "- `predicted` using `ex_model_m_no_outliers.predict(ex_X_test)` \n",
    "- `residuals` which is `actual` - `predicted`\n",
    "##### Print the head of the new dataframe."
   ]
  },
  {
   "cell_type": "code",
   "execution_count": 53,
   "metadata": {},
   "outputs": [
    {
     "name": "stdout",
     "output_type": "stream",
     "text": [
      "     actual  predicted  residuals\n",
      "94    40.77  41.128471  -0.358471\n",
      "126   42.28  40.445391   1.834609\n",
      "19    39.53  39.067127   0.462873\n",
      "69    39.38  39.223075   0.156925\n",
      "53    40.15  41.544366  -1.394366\n"
     ]
    }
   ],
   "source": [
    "actual = ex_y_test.Yield\n",
    "ex_prediction = ex_model_m_no_outliers.predict(ex_X_test)\n",
    "residuals = ex_y_test.Yield - ex_prediction\n",
    "\n",
    "CMP_results =  pd.concat([actual.rename('actual'),\n",
    "                          ex_prediction.rename('predicted'),\n",
    "                          residuals.rename('residuals')],\n",
    "                         axis = 1)\n",
    "print(CMP_results.head())"
   ]
  },
  {
   "cell_type": "markdown",
   "metadata": {},
   "source": [
    "#### Question 3\n",
    "##### Calculate the RMSE using `actual` and `predicted` and print it."
   ]
  },
  {
   "cell_type": "code",
   "execution_count": 54,
   "metadata": {},
   "outputs": [
    {
     "name": "stdout",
     "output_type": "stream",
     "text": [
      "1.2818602694587709\n"
     ]
    }
   ],
   "source": [
    "def rmse(ex_predictions,actual):\n",
    "    return np.sqrt(((ex_prediction-actual) ** 2).mean())\n",
    "\n",
    "print(rmse(ex_prediction,actual))"
   ]
  },
  {
   "cell_type": "markdown",
   "metadata": {},
   "source": [
    "#### Question 4\n",
    "##### Save the RMSE of our model to variable `ex_multiple_regression_RMSE`.\n",
    "##### Pickle it and save it as `ex_multiple_regression_RMSE.sav`."
   ]
  },
  {
   "cell_type": "code",
   "execution_count": 55,
   "metadata": {},
   "outputs": [],
   "source": [
    "ex_multiple_regression_RMSE = rmse(ex_prediction,actual)\n",
    "pickle.dump(ex_multiple_regression_RMSE, \n",
    "            open(\"ex_multiple_regression_RMSE.sav\", \"wb\" ))"
   ]
  }
 ],
 "metadata": {
  "kernelspec": {
   "display_name": "Python 3",
   "language": "python",
   "name": "python3"
  },
  "language_info": {
   "codemirror_mode": {
    "name": "ipython",
    "version": 3
   },
   "file_extension": ".py",
   "mimetype": "text/x-python",
   "name": "python",
   "nbconvert_exporter": "python",
   "pygments_lexer": "ipython3",
   "version": "3.7.1"
  }
 },
 "nbformat": 4,
 "nbformat_minor": 2
}
