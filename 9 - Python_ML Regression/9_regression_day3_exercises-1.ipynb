{
 "cells": [
  {
   "cell_type": "markdown",
   "metadata": {},
   "source": [
    "# Regression Day 3 - Exercises with answers"
   ]
  },
  {
   "cell_type": "markdown",
   "metadata": {},
   "source": [
    "## Exercise 1"
   ]
  },
  {
   "cell_type": "markdown",
   "metadata": {},
   "source": [
    "#### Question 1\n",
    "##### Import the required packages.\n",
    "##### Set the working directory to data directory.\n",
    "##### Print the working directory."
   ]
  },
  {
   "cell_type": "code",
   "execution_count": 3,
   "metadata": {},
   "outputs": [],
   "source": [
    "import os\n",
    "import pandas as pd\n",
    "import numpy as np\n",
    "import matplotlib.pyplot as plt\n",
    "import statsmodels.api as sm\n",
    "import statsmodels.formula.api as smf"
   ]
  },
  {
   "cell_type": "code",
   "execution_count": 4,
   "metadata": {},
   "outputs": [],
   "source": [
    "main_dir = '/Users/datasociety/Desktop/af-werx'\n",
    "data_dir = main_dir + \"/data\""
   ]
  },
  {
   "cell_type": "code",
   "execution_count": 5,
   "metadata": {},
   "outputs": [
    {
     "name": "stdout",
     "output_type": "stream",
     "text": [
      "/Users/datasociety/Desktop/af-werx/data\n"
     ]
    }
   ],
   "source": [
    "# Set working directory.\n",
    "os.chdir(data_dir)\n",
    "# Check working directory.\n",
    "print(os.getcwd())\n"
   ]
  },
  {
   "cell_type": "markdown",
   "metadata": {},
   "source": [
    "#### Question 2\n",
    "##### Load `beer-sold-by-price.csv` and save as `ex_data_loglog`.\n",
    "##### The data consists of 52 weeks of cases sold and price per case for 18-packs of beer at a small chain of supermarkets. \n",
    "##### We want to build a regression model that can predict `quantity of cases sold` according to the changes in the `price`.\n",
    "##### Check the shape of the data, print the first few rows and check for any missing values. \n",
    "##### For convenience, change the column names from `PRICE 18PK`, `CASES 18PK` to `Price`, `Quantity`.\n",
    "##### Lastly, sort the dataframe by `Price`."
   ]
  },
  {
   "cell_type": "code",
   "execution_count": 6,
   "metadata": {},
   "outputs": [
    {
     "name": "stdout",
     "output_type": "stream",
     "text": [
      "(52, 2)\n",
      "   PRICE 18PK  CASES 18PK\n",
      "0       14.10         439\n",
      "1       18.65          98\n",
      "2       18.65          70\n",
      "False\n"
     ]
    }
   ],
   "source": [
    "ex_data_loglog = pd.read_csv('beer-sold-by-price.csv')\n",
    "print(ex_data_loglog.shape)\n",
    "print(ex_data_loglog.head(3))\n",
    "print(ex_data_loglog.isnull().values.any())"
   ]
  },
  {
   "cell_type": "code",
   "execution_count": 8,
   "metadata": {},
   "outputs": [
    {
     "data": {
      "text/html": [
       "<div>\n",
       "<style scoped>\n",
       "    .dataframe tbody tr th:only-of-type {\n",
       "        vertical-align: middle;\n",
       "    }\n",
       "\n",
       "    .dataframe tbody tr th {\n",
       "        vertical-align: top;\n",
       "    }\n",
       "\n",
       "    .dataframe thead th {\n",
       "        text-align: right;\n",
       "    }\n",
       "</style>\n",
       "<table border=\"1\" class=\"dataframe\">\n",
       "  <thead>\n",
       "    <tr style=\"text-align: right;\">\n",
       "      <th></th>\n",
       "      <th>Price</th>\n",
       "      <th>Quantity</th>\n",
       "    </tr>\n",
       "  </thead>\n",
       "  <tbody>\n",
       "    <tr>\n",
       "      <th>0</th>\n",
       "      <td>14.10</td>\n",
       "      <td>439</td>\n",
       "    </tr>\n",
       "    <tr>\n",
       "      <th>1</th>\n",
       "      <td>18.65</td>\n",
       "      <td>98</td>\n",
       "    </tr>\n",
       "    <tr>\n",
       "      <th>2</th>\n",
       "      <td>18.65</td>\n",
       "      <td>70</td>\n",
       "    </tr>\n",
       "    <tr>\n",
       "      <th>3</th>\n",
       "      <td>18.65</td>\n",
       "      <td>52</td>\n",
       "    </tr>\n",
       "    <tr>\n",
       "      <th>4</th>\n",
       "      <td>18.65</td>\n",
       "      <td>64</td>\n",
       "    </tr>\n",
       "  </tbody>\n",
       "</table>\n",
       "</div>"
      ],
      "text/plain": [
       "   Price  Quantity\n",
       "0  14.10       439\n",
       "1  18.65        98\n",
       "2  18.65        70\n",
       "3  18.65        52\n",
       "4  18.65        64"
      ]
     },
     "execution_count": 8,
     "metadata": {},
     "output_type": "execute_result"
    }
   ],
   "source": [
    "# Rename columns for clarity when interpreting results.\n",
    "ex_data_loglog = ex_data_loglog.rename(columns = {'PRICE 18PK':'Price',\n",
    "                                                  'CASES 18PK':'Quantity'})\n",
    "ex_data_loglog.head()"
   ]
  },
  {
   "cell_type": "code",
   "execution_count": 13,
   "metadata": {},
   "outputs": [
    {
     "data": {
      "text/html": [
       "<div>\n",
       "<style scoped>\n",
       "    .dataframe tbody tr th:only-of-type {\n",
       "        vertical-align: middle;\n",
       "    }\n",
       "\n",
       "    .dataframe tbody tr th {\n",
       "        vertical-align: top;\n",
       "    }\n",
       "\n",
       "    .dataframe thead th {\n",
       "        text-align: right;\n",
       "    }\n",
       "</style>\n",
       "<table border=\"1\" class=\"dataframe\">\n",
       "  <thead>\n",
       "    <tr style=\"text-align: right;\">\n",
       "      <th></th>\n",
       "      <th>Price</th>\n",
       "      <th>Quantity</th>\n",
       "    </tr>\n",
       "  </thead>\n",
       "  <tbody>\n",
       "    <tr>\n",
       "      <th>45</th>\n",
       "      <td>19.29</td>\n",
       "      <td>80</td>\n",
       "    </tr>\n",
       "    <tr>\n",
       "      <th>44</th>\n",
       "      <td>19.31</td>\n",
       "      <td>70</td>\n",
       "    </tr>\n",
       "    <tr>\n",
       "      <th>49</th>\n",
       "      <td>19.43</td>\n",
       "      <td>69</td>\n",
       "    </tr>\n",
       "    <tr>\n",
       "      <th>37</th>\n",
       "      <td>19.48</td>\n",
       "      <td>75</td>\n",
       "    </tr>\n",
       "    <tr>\n",
       "      <th>41</th>\n",
       "      <td>19.50</td>\n",
       "      <td>32</td>\n",
       "    </tr>\n",
       "  </tbody>\n",
       "</table>\n",
       "</div>"
      ],
      "text/plain": [
       "    Price  Quantity\n",
       "45  19.29        80\n",
       "44  19.31        70\n",
       "49  19.43        69\n",
       "37  19.48        75\n",
       "41  19.50        32"
      ]
     },
     "execution_count": 13,
     "metadata": {},
     "output_type": "execute_result"
    }
   ],
   "source": [
    "ex_data_loglog = ex_data_loglog.sort_values('Price')\n",
    "ex_data_loglog.head()\n",
    "ex_data_loglog.tail()"
   ]
  },
  {
   "cell_type": "markdown",
   "metadata": {},
   "source": [
    "#### Question 3\n",
    "##### Transform the values of our predictor and target variable to the log of the actual values. \n",
    "##### Name the log values column as `price_log` and `quantity_log`.\n",
    "##### Print out the first few rows to check."
   ]
  },
  {
   "cell_type": "code",
   "execution_count": 14,
   "metadata": {},
   "outputs": [
    {
     "data": {
      "text/html": [
       "<div>\n",
       "<style scoped>\n",
       "    .dataframe tbody tr th:only-of-type {\n",
       "        vertical-align: middle;\n",
       "    }\n",
       "\n",
       "    .dataframe tbody tr th {\n",
       "        vertical-align: top;\n",
       "    }\n",
       "\n",
       "    .dataframe thead th {\n",
       "        text-align: right;\n",
       "    }\n",
       "</style>\n",
       "<table border=\"1\" class=\"dataframe\">\n",
       "  <thead>\n",
       "    <tr style=\"text-align: right;\">\n",
       "      <th></th>\n",
       "      <th>Price</th>\n",
       "      <th>Quantity</th>\n",
       "      <th>Price_log</th>\n",
       "      <th>Quantity_log</th>\n",
       "    </tr>\n",
       "  </thead>\n",
       "  <tbody>\n",
       "    <tr>\n",
       "      <th>50</th>\n",
       "      <td>13.26</td>\n",
       "      <td>493</td>\n",
       "      <td>2.584752</td>\n",
       "      <td>6.200509</td>\n",
       "    </tr>\n",
       "    <tr>\n",
       "      <th>47</th>\n",
       "      <td>13.45</td>\n",
       "      <td>741</td>\n",
       "      <td>2.598979</td>\n",
       "      <td>6.608001</td>\n",
       "    </tr>\n",
       "    <tr>\n",
       "      <th>28</th>\n",
       "      <td>13.49</td>\n",
       "      <td>890</td>\n",
       "      <td>2.601949</td>\n",
       "      <td>6.791221</td>\n",
       "    </tr>\n",
       "  </tbody>\n",
       "</table>\n",
       "</div>"
      ],
      "text/plain": [
       "    Price  Quantity  Price_log  Quantity_log\n",
       "50  13.26       493   2.584752      6.200509\n",
       "47  13.45       741   2.598979      6.608001\n",
       "28  13.49       890   2.601949      6.791221"
      ]
     },
     "execution_count": 14,
     "metadata": {},
     "output_type": "execute_result"
    }
   ],
   "source": [
    "ex_data_loglog['Price_log'] = np.log(ex_data_loglog['Price'])\n",
    "ex_data_loglog['Quantity_log'] = np.log(ex_data_loglog['Quantity'])\n",
    "ex_data_loglog.head(3)"
   ]
  },
  {
   "cell_type": "markdown",
   "metadata": {},
   "source": [
    "#### Question 4\n",
    "##### Add a constant to the dataframe."
   ]
  },
  {
   "cell_type": "code",
   "execution_count": 15,
   "metadata": {},
   "outputs": [],
   "source": [
    "ex_data_loglog = sm.add_constant(ex_data_loglog)"
   ]
  },
  {
   "cell_type": "markdown",
   "metadata": {},
   "source": [
    "#### Question 5\n",
    "##### Fit the model using `sm.OLS` and pass it the columns we transformed to log in previous questions.\n",
    "##### Name the model `ex_loglog`."
   ]
  },
  {
   "cell_type": "code",
   "execution_count": 16,
   "metadata": {},
   "outputs": [],
   "source": [
    "ex_loglog = sm.OLS(ex_data_loglog['Quantity_log'], ex_data_loglog.loc[:,['const','Price_log']]).fit()\n"
   ]
  },
  {
   "cell_type": "markdown",
   "metadata": {},
   "source": [
    "#### Question 6\n",
    "##### Use the fitted log-log model to predict. \n",
    "##### Save the predictions as `ex_prediction_loglog`.\n",
    "##### Take a look at the first 10 rows of the predictions."
   ]
  },
  {
   "cell_type": "code",
   "execution_count": 33,
   "metadata": {},
   "outputs": [
    {
     "data": {
      "text/plain": [
       "50    6.499954\n",
       "47    6.404558\n",
       "28    6.384646\n",
       "31    6.295769\n",
       "46    6.251768\n",
       "39    6.237165\n",
       "27    6.237165\n",
       "42    6.208054\n",
       "16    6.198378\n",
       "12    6.198378\n",
       "dtype: float64"
      ]
     },
     "execution_count": 33,
     "metadata": {},
     "output_type": "execute_result"
    }
   ],
   "source": [
    "ex_prediction_loglog = ex_loglog.predict(ex_data_loglog.loc[:,['const','Price_log']])\n",
    "\n",
    "ex_prediction_loglog[0:10]"
   ]
  },
  {
   "cell_type": "markdown",
   "metadata": {},
   "source": [
    "#### Question 7\n",
    "##### Exponentiate the predictions and save as `ex_prediction`.\n",
    "##### Print the first 10 rows of `ex_prediction`."
   ]
  },
  {
   "cell_type": "code",
   "execution_count": 32,
   "metadata": {},
   "outputs": [
    {
     "data": {
      "text/plain": [
       "50    665.110708\n",
       "47    604.594284\n",
       "28    592.674929\n",
       "31    542.272478\n",
       "46    518.929366\n",
       "39    511.406497\n",
       "27    511.406497\n",
       "42    496.733573\n",
       "16    491.950537\n",
       "12    491.950537\n",
       "dtype: float64"
      ]
     },
     "execution_count": 32,
     "metadata": {},
     "output_type": "execute_result"
    }
   ],
   "source": [
    "ex_prediction = np.exp(ex_prediction_loglog)\n",
    "ex_prediction[0:10]"
   ]
  },
  {
   "cell_type": "markdown",
   "metadata": {},
   "source": [
    "#### Question 8\n",
    "##### Create a scatterplot of the actual values of `quantity` and the predicted values of `quantity`. \n",
    "##### Plot the actual quantity as the scatter points and the predicted quantity as a red line to compare."
   ]
  },
  {
   "cell_type": "code",
   "execution_count": 19,
   "metadata": {},
   "outputs": [
    {
     "data": {
      "image/png": "[encoded data removed]",
      "text/plain": [
       "<Figure size 432x288 with 1 Axes>"
      ]
     },
     "metadata": {
      "needs_background": "light"
     },
     "output_type": "display_data"
    }
   ],
   "source": [
    "plt.scatter(ex_data_loglog['Price'],\n",
    "            ex_data_loglog['Quantity'])\n",
    "plt.plot(ex_data_loglog['Price'],\n",
    "         ex_prediction, \n",
    "         'red')\n",
    "plt.title(\"Price vs Quantity sold\")\n",
    "plt.xlabel(\"Price\")\n",
    "plt.ylabel(\"Quantity sold\")\n",
    "plt.show()\n"
   ]
  },
  {
   "cell_type": "markdown",
   "metadata": {},
   "source": [
    "#### Question 9\n",
    "##### Get the residuals and put them into a dataframe called `ex_loglog_results`, along with the actual values of `quantity` and the exponentiated predictions of `quantity`.\n",
    "\n",
    "##### Using the RMSE formula, get the RMSE of our log-log model."
   ]
  },
  {
   "cell_type": "code",
   "execution_count": 23,
   "metadata": {},
   "outputs": [
    {
     "name": "stdout",
     "output_type": "stream",
     "text": [
      "118.24594924491831\n"
     ]
    }
   ],
   "source": [
    "ex_actual = ex_data_loglog['Quantity']\n",
    "ex_prediction = ex_prediction\n",
    "ex_residuals = ex_actual - ex_prediction\n",
    "ex_loglog_results =  pd.concat([ex_actual.rename('actual'),\n",
    "                             ex_prediction.rename('predicted'),\n",
    "                             ex_residuals.rename('residuals')], axis = 1)\n",
    "\n",
    "def rmse(ex_predictions,ex_actual):\n",
    "    return np.sqrt(((ex_prediction-ex_actual) ** 2).mean())\n",
    "\n",
    "print(rmse(ex_loglog_results['predicted'],ex_loglog_results['actual']))\n",
    "\n"
   ]
  },
  {
   "cell_type": "markdown",
   "metadata": {},
   "source": [
    "#### Question 10\n",
    "\n",
    "##### Build a standard linear model with the dataset, and get a plot of `actual vs.predicted`.\n",
    "##### Compare the plot with out previous plot with the log-log mode and compare."
   ]
  },
  {
   "cell_type": "code",
   "execution_count": 31,
   "metadata": {},
   "outputs": [
    {
     "data": {
      "image/png": "[encoded data removed]",
      "text/plain": [
       "<Figure size 432x288 with 1 Axes>"
      ]
     },
     "metadata": {
      "needs_background": "light"
     },
     "output_type": "display_data"
    },
    {
     "name": "stdout",
     "output_type": "stream",
     "text": [
      "127.99375144320852\n"
     ]
    }
   ],
   "source": [
    "ex_model_lin = sm.OLS(ex_data_loglog['Quantity'], ex_data_loglog.loc[:,['const','Price']]).fit()\n",
    "ex_prediction = ex_model_lin.predict(ex_data_loglog.loc[:,['const','Price']])\n",
    "\n",
    "plt.scatter(ex_data_loglog['Price'],\n",
    "            ex_data_loglog['Quantity'])\n",
    "plt.plot(ex_data_loglog['Price'],\n",
    "         ex_prediction,\n",
    "         'red')\n",
    "plt.title(\"Price vs Qauntity sold\")\n",
    "plt.xlabel(\"Price\")\n",
    "plt.ylabel(\"Qauntity sold\")\n",
    "plt.show()\n",
    "\n",
    "ex_actual = ex_data_loglog['Quantity']\n",
    "ex_prediction = ex_prediction\n",
    "ex_residuals = ex_actual - ex_prediction\n",
    "ex_loglog_results =  pd.concat([ex_actual.rename('actual'),\n",
    "                             ex_prediction.rename('predicted'),\n",
    "                             ex_residuals.rename('residuals')], axis = 1)\n",
    "\n",
    "def rmse(ex_predictions,ex_actual):\n",
    "    return np.sqrt(((ex_prediction-ex_actual) ** 2).mean())\n",
    "\n",
    "print(rmse(ex_loglog_results['predicted'],ex_loglog_results['actual']))\n"
   ]
  },
  {
   "cell_type": "markdown",
   "metadata": {},
   "source": [
    "## Exercise 2"
   ]
  },
  {
   "cell_type": "markdown",
   "metadata": {},
   "source": [
    "#### Question 1\n",
    "##### Load `loglin.csv` and save as `ex_data_loglin`.\n",
    "##### The data consists of 200 weeks of stock data. \n",
    "##### We want to build a regression model that can predict `stock price` according to the changes in the `day`.\n",
    "##### Check the shape of the data, print the first few rows and check for any missing values. "
   ]
  },
  {
   "cell_type": "code",
   "execution_count": 38,
   "metadata": {},
   "outputs": [
    {
     "name": "stdout",
     "output_type": "stream",
     "text": [
      "(504, 2)\n",
      "   Day  Stock Price\n",
      "0    1       105.26\n",
      "1    2       105.35\n",
      "2    3       102.71\n",
      "False\n"
     ]
    }
   ],
   "source": [
    "ex_data_loglin = pd.read_csv('loglin.csv')\n",
    "print(ex_data_loglin.shape)\n",
    "print(ex_data_loglin.head(3))\n",
    "print(ex_data_loglin.isnull().values.any())"
   ]
  },
  {
   "cell_type": "markdown",
   "metadata": {},
   "source": [
    "#### Question 2\n",
    "##### We need to transform the values of our target variable to the log of the actual values. \n",
    "##### Name the log values column as `price_log`.\n",
    "##### Print out the first few rows to check."
   ]
  },
  {
   "cell_type": "code",
   "execution_count": 39,
   "metadata": {},
   "outputs": [
    {
     "data": {
      "text/html": [
       "<div>\n",
       "<style scoped>\n",
       "    .dataframe tbody tr th:only-of-type {\n",
       "        vertical-align: middle;\n",
       "    }\n",
       "\n",
       "    .dataframe tbody tr th {\n",
       "        vertical-align: top;\n",
       "    }\n",
       "\n",
       "    .dataframe thead th {\n",
       "        text-align: right;\n",
       "    }\n",
       "</style>\n",
       "<table border=\"1\" class=\"dataframe\">\n",
       "  <thead>\n",
       "    <tr style=\"text-align: right;\">\n",
       "      <th></th>\n",
       "      <th>Day</th>\n",
       "      <th>Stock Price</th>\n",
       "      <th>price_log</th>\n",
       "    </tr>\n",
       "  </thead>\n",
       "  <tbody>\n",
       "    <tr>\n",
       "      <th>0</th>\n",
       "      <td>1</td>\n",
       "      <td>105.26</td>\n",
       "      <td>4.656433</td>\n",
       "    </tr>\n",
       "    <tr>\n",
       "      <th>1</th>\n",
       "      <td>2</td>\n",
       "      <td>105.35</td>\n",
       "      <td>4.657288</td>\n",
       "    </tr>\n",
       "    <tr>\n",
       "      <th>2</th>\n",
       "      <td>3</td>\n",
       "      <td>102.71</td>\n",
       "      <td>4.631909</td>\n",
       "    </tr>\n",
       "  </tbody>\n",
       "</table>\n",
       "</div>"
      ],
      "text/plain": [
       "   Day  Stock Price  price_log\n",
       "0    1       105.26   4.656433\n",
       "1    2       105.35   4.657288\n",
       "2    3       102.71   4.631909"
      ]
     },
     "execution_count": 39,
     "metadata": {},
     "output_type": "execute_result"
    }
   ],
   "source": [
    "ex_data_loglin['price_log'] = np.log(ex_data_loglin['Stock Price'])\n",
    "ex_data_loglin.head(3)"
   ]
  },
  {
   "cell_type": "markdown",
   "metadata": {},
   "source": [
    "#### Question 3\n",
    "##### Add a constant to the dataframe."
   ]
  },
  {
   "cell_type": "code",
   "execution_count": 40,
   "metadata": {},
   "outputs": [
    {
     "data": {
      "text/html": [
       "<div>\n",
       "<style scoped>\n",
       "    .dataframe tbody tr th:only-of-type {\n",
       "        vertical-align: middle;\n",
       "    }\n",
       "\n",
       "    .dataframe tbody tr th {\n",
       "        vertical-align: top;\n",
       "    }\n",
       "\n",
       "    .dataframe thead th {\n",
       "        text-align: right;\n",
       "    }\n",
       "</style>\n",
       "<table border=\"1\" class=\"dataframe\">\n",
       "  <thead>\n",
       "    <tr style=\"text-align: right;\">\n",
       "      <th></th>\n",
       "      <th>const</th>\n",
       "      <th>Day</th>\n",
       "      <th>Stock Price</th>\n",
       "      <th>price_log</th>\n",
       "    </tr>\n",
       "  </thead>\n",
       "  <tbody>\n",
       "    <tr>\n",
       "      <th>0</th>\n",
       "      <td>1.0</td>\n",
       "      <td>1</td>\n",
       "      <td>105.26</td>\n",
       "      <td>4.656433</td>\n",
       "    </tr>\n",
       "    <tr>\n",
       "      <th>1</th>\n",
       "      <td>1.0</td>\n",
       "      <td>2</td>\n",
       "      <td>105.35</td>\n",
       "      <td>4.657288</td>\n",
       "    </tr>\n",
       "    <tr>\n",
       "      <th>2</th>\n",
       "      <td>1.0</td>\n",
       "      <td>3</td>\n",
       "      <td>102.71</td>\n",
       "      <td>4.631909</td>\n",
       "    </tr>\n",
       "  </tbody>\n",
       "</table>\n",
       "</div>"
      ],
      "text/plain": [
       "   const  Day  Stock Price  price_log\n",
       "0    1.0    1       105.26   4.656433\n",
       "1    1.0    2       105.35   4.657288\n",
       "2    1.0    3       102.71   4.631909"
      ]
     },
     "execution_count": 40,
     "metadata": {},
     "output_type": "execute_result"
    }
   ],
   "source": [
    "ex_data_loglin = sm.add_constant(ex_data_loglin)\n",
    "ex_data_loglin.head(3)"
   ]
  },
  {
   "cell_type": "markdown",
   "metadata": {},
   "source": [
    "#### Question 4\n",
    "##### Fit the model using `sm.OLS` and pass it the target column we transformed to log in the step before and the predictor column, which is `Day` and the constant.\n",
    "##### Name the model `ex_loglin`."
   ]
  },
  {
   "cell_type": "code",
   "execution_count": 44,
   "metadata": {},
   "outputs": [
    {
     "data": {
      "text/html": [
       "<table class=\"simpletable\">\n",
       "<caption>OLS Regression Results</caption>\n",
       "<tr>\n",
       "  <th>Dep. Variable:</th>        <td>price_log</td>    <th>  R-squared:         </th> <td>   0.914</td> \n",
       "</tr>\n",
       "<tr>\n",
       "  <th>Model:</th>                   <td>OLS</td>       <th>  Adj. R-squared:    </th> <td>   0.914</td> \n",
       "</tr>\n",
       "<tr>\n",
       "  <th>Method:</th>             <td>Least Squares</td>  <th>  F-statistic:       </th> <td>   5364.</td> \n",
       "</tr>\n",
       "<tr>\n",
       "  <th>Date:</th>             <td>Wed, 28 Aug 2019</td> <th>  Prob (F-statistic):</th> <td>3.86e-270</td>\n",
       "</tr>\n",
       "<tr>\n",
       "  <th>Time:</th>                 <td>10:37:56</td>     <th>  Log-Likelihood:    </th> <td>  713.34</td> \n",
       "</tr>\n",
       "<tr>\n",
       "  <th>No. Observations:</th>      <td>   504</td>      <th>  AIC:               </th> <td>  -1423.</td> \n",
       "</tr>\n",
       "<tr>\n",
       "  <th>Df Residuals:</th>          <td>   502</td>      <th>  BIC:               </th> <td>  -1414.</td> \n",
       "</tr>\n",
       "<tr>\n",
       "  <th>Df Model:</th>              <td>     1</td>      <th>                     </th>     <td> </td>    \n",
       "</tr>\n",
       "<tr>\n",
       "  <th>Covariance Type:</th>      <td>nonrobust</td>    <th>                     </th>     <td> </td>    \n",
       "</tr>\n",
       "</table>\n",
       "<table class=\"simpletable\">\n",
       "<tr>\n",
       "    <td></td>       <th>coef</th>     <th>std err</th>      <th>t</th>      <th>P>|t|</th>  <th>[0.025</th>    <th>0.975]</th>  \n",
       "</tr>\n",
       "<tr>\n",
       "  <th>const</th> <td>    4.4944</td> <td>    0.005</td> <td>  855.597</td> <td> 0.000</td> <td>    4.484</td> <td>    4.505</td>\n",
       "</tr>\n",
       "<tr>\n",
       "  <th>Day</th>   <td>    0.0013</td> <td>  1.8e-05</td> <td>   73.242</td> <td> 0.000</td> <td>    0.001</td> <td>    0.001</td>\n",
       "</tr>\n",
       "</table>\n",
       "<table class=\"simpletable\">\n",
       "<tr>\n",
       "  <th>Omnibus:</th>       <td>18.886</td> <th>  Durbin-Watson:     </th> <td>   0.049</td>\n",
       "</tr>\n",
       "<tr>\n",
       "  <th>Prob(Omnibus):</th> <td> 0.000</td> <th>  Jarque-Bera (JB):  </th> <td>   8.904</td>\n",
       "</tr>\n",
       "<tr>\n",
       "  <th>Skew:</th>          <td> 0.047</td> <th>  Prob(JB):          </th> <td>  0.0117</td>\n",
       "</tr>\n",
       "<tr>\n",
       "  <th>Kurtosis:</th>      <td> 2.356</td> <th>  Cond. No.          </th> <td>    584.</td>\n",
       "</tr>\n",
       "</table><br/><br/>Warnings:<br/>[1] Standard Errors assume that the covariance matrix of the errors is correctly specified."
      ],
      "text/plain": [
       "<class 'statsmodels.iolib.summary.Summary'>\n",
       "\"\"\"\n",
       "                            OLS Regression Results                            \n",
       "==============================================================================\n",
       "Dep. Variable:              price_log   R-squared:                       0.914\n",
       "Model:                            OLS   Adj. R-squared:                  0.914\n",
       "Method:                 Least Squares   F-statistic:                     5364.\n",
       "Date:                Wed, 28 Aug 2019   Prob (F-statistic):          3.86e-270\n",
       "Time:                        10:37:56   Log-Likelihood:                 713.34\n",
       "No. Observations:                 504   AIC:                            -1423.\n",
       "Df Residuals:                     502   BIC:                            -1414.\n",
       "Df Model:                           1                                         \n",
       "Covariance Type:            nonrobust                                         \n",
       "==============================================================================\n",
       "                 coef    std err          t      P>|t|      [0.025      0.975]\n",
       "------------------------------------------------------------------------------\n",
       "const          4.4944      0.005    855.597      0.000       4.484       4.505\n",
       "Day            0.0013    1.8e-05     73.242      0.000       0.001       0.001\n",
       "==============================================================================\n",
       "Omnibus:                       18.886   Durbin-Watson:                   0.049\n",
       "Prob(Omnibus):                  0.000   Jarque-Bera (JB):                8.904\n",
       "Skew:                           0.047   Prob(JB):                       0.0117\n",
       "Kurtosis:                       2.356   Cond. No.                         584.\n",
       "==============================================================================\n",
       "\n",
       "Warnings:\n",
       "[1] Standard Errors assume that the covariance matrix of the errors is correctly specified.\n",
       "\"\"\""
      ]
     },
     "execution_count": 44,
     "metadata": {},
     "output_type": "execute_result"
    }
   ],
   "source": [
    "ex_loglin = sm.OLS(ex_data_loglin['price_log'], ex_data_loglin.loc[:,['const','Day']]).fit()\n",
    "ex_loglin.summary()"
   ]
  },
  {
   "cell_type": "markdown",
   "metadata": {},
   "source": [
    "#### Question 5\n",
    "##### Use the fitted log-lin model to predict. \n",
    "##### Save the predictions as `ex_prediction_loglin`.\n",
    "##### Take a look at the first 10 rows of the predictions."
   ]
  },
  {
   "cell_type": "code",
   "execution_count": 45,
   "metadata": {},
   "outputs": [
    {
     "data": {
      "text/plain": [
       "0    4.495741\n",
       "1    4.497061\n",
       "2    4.498381\n",
       "3    4.499702\n",
       "4    4.501022\n",
       "5    4.502342\n",
       "6    4.503662\n",
       "7    4.504983\n",
       "8    4.506303\n",
       "9    4.507623\n",
       "dtype: float64"
      ]
     },
     "execution_count": 45,
     "metadata": {},
     "output_type": "execute_result"
    }
   ],
   "source": [
    "ex_prediction_lin = ex_loglin.predict(ex_data_loglin.loc[:,['const','Day']])\n",
    "ex_prediction_lin[0:10]\n"
   ]
  },
  {
   "cell_type": "markdown",
   "metadata": {},
   "source": [
    "#### Question 6\n",
    "##### Exponentiate the predictions and save as `ex_prediction`.\n",
    "##### Print the first 10 rows of `ex_prediction`."
   ]
  },
  {
   "cell_type": "code",
   "execution_count": 46,
   "metadata": {},
   "outputs": [
    {
     "data": {
      "text/plain": [
       "0    89.634565\n",
       "1    89.752981\n",
       "2    89.871553\n",
       "3    89.990282\n",
       "4    90.109168\n",
       "5    90.228211\n",
       "6    90.347411\n",
       "7    90.466769\n",
       "8    90.586284\n",
       "9    90.705958\n",
       "dtype: float64"
      ]
     },
     "execution_count": 46,
     "metadata": {},
     "output_type": "execute_result"
    }
   ],
   "source": [
    "ex_prediction = np.exp(ex_prediction_lin)\n",
    "ex_prediction[0:10]"
   ]
  },
  {
   "cell_type": "markdown",
   "metadata": {},
   "source": [
    "#### Question 7\n",
    "##### Create a scatterplot of the actual values of `Stock Price` and the predicted values of `Stock Price`. \n",
    "##### Plot the actual stock price as the scatter points and the predicted stock price as a red line to compare."
   ]
  },
  {
   "cell_type": "code",
   "execution_count": 50,
   "metadata": {},
   "outputs": [
    {
     "data": {
      "image/png": "[encoded data removed]",
      "text/plain": [
       "<Figure size 432x288 with 1 Axes>"
      ]
     },
     "metadata": {
      "needs_background": "light"
     },
     "output_type": "display_data"
    }
   ],
   "source": [
    "plt.scatter(ex_data_loglin['Day'],\n",
    "            ex_data_loglin['Stock Price'])\n",
    "plt.plot(ex_data_loglin['Day'], \n",
    "         ex_prediction, \n",
    "         'red')\n",
    "plt.title(\"Index price over time\")\n",
    "plt.xlabel(\"Days\")\n",
    "plt.ylabel(\"Index price\")\n",
    "plt.show()\n"
   ]
  },
  {
   "cell_type": "markdown",
   "metadata": {},
   "source": [
    "#### Question 8\n",
    "##### Get the residuals and put them into a dataframe called `ex_loglin_results`, along with the actual values of `Stock Price` and the exponentiated predictions of `Stock Price`.\n",
    "\n",
    "##### Using the RMSE formula, get the RMSE of our log-lin model."
   ]
  },
  {
   "cell_type": "code",
   "execution_count": 53,
   "metadata": {},
   "outputs": [
    {
     "name": "stdout",
     "output_type": "stream",
     "text": [
      "   actual  predicted  residuals\n",
      "0  105.26  89.634565  15.625435\n",
      "1  105.35  89.752981  15.597019\n",
      "2  102.71  89.871553  12.838447\n",
      "3  100.70  89.990282  10.709718\n",
      "4   96.45  90.109168   6.340832\n",
      "6.834043044445937\n"
     ]
    }
   ],
   "source": [
    "actual = ex_data_loglin['Stock Price']\n",
    "prediction = ex_prediction\n",
    "residuals = actual - prediction\n",
    "ex_loglin_results =  pd.concat([actual.rename('actual'),\n",
    "                                prediction.rename('predicted'),\n",
    "                                residuals.rename('residuals')], axis = 1)\n",
    "print(ex_loglin_results.head())\n",
    "def rmse(predictions,actual):\n",
    "    return np.sqrt(((prediction-actual) ** 2).mean())\n",
    "\n",
    "print(rmse(ex_loglin_results['predicted'],ex_loglin_results['actual']))\n",
    "\n"
   ]
  },
  {
   "cell_type": "markdown",
   "metadata": {},
   "source": [
    "#### Question 9\n",
    "\n",
    "##### Build a standard linear model with the dataset, and get a plot of `actual vs.predicted`.\n",
    "##### Compare the plot with out previous plot with the log-lin model and compare."
   ]
  },
  {
   "cell_type": "code",
   "execution_count": 57,
   "metadata": {},
   "outputs": [
    {
     "data": {
      "image/png": "[encoded data removed]",
      "text/plain": [
       "<Figure size 432x288 with 1 Axes>"
      ]
     },
     "metadata": {
      "needs_background": "light"
     },
     "output_type": "display_data"
    },
    {
     "name": "stdout",
     "output_type": "stream",
     "text": [
      "7.645477710537618\n"
     ]
    }
   ],
   "source": [
    "# Fit the model\n",
    "ex_model_lin = sm.OLS(ex_data_loglin['Stock Price'], ex_data_loglin.loc[:,['const','Day']]).fit()\n",
    "prediction = ex_model_lin.predict(ex_data_loglin.loc[:,['const','Day']])\n",
    "plt.scatter(ex_data_loglin['Day'],\n",
    "            ex_data_loglin['Stock Price'])\n",
    "plt.plot(ex_data_loglin['Day'],\n",
    "         prediction, \n",
    "         'red')\n",
    "plt.title(\"Index price over time\")\n",
    "plt.xlabel(\"Days\")\n",
    "plt.ylabel(\"Index price\")\n",
    "plt.show()\n",
    "\n",
    "def rmse(predictions,actual):\n",
    "    return np.sqrt(((prediction-actual) ** 2).mean())\n",
    "\n",
    "print(rmse(ex_loglin_results['predicted'],ex_loglin_results['actual']))\n",
    "\n"
   ]
  },
  {
   "cell_type": "markdown",
   "metadata": {},
   "source": [
    "## Exercise 3"
   ]
  },
  {
   "cell_type": "markdown",
   "metadata": {},
   "source": [
    "#### Question 1\n",
    "##### Load `poly-data.csv` and save as `ex_data_poly`.\n",
    "##### This is a dataset generated to show 150 data points that show a polynomial relationship.\n",
    "##### Check the shape of the data, print the first few rows and check for any missing values. \n",
    "##### Sort the dataframe according to `x`."
   ]
  },
  {
   "cell_type": "code",
   "execution_count": 58,
   "metadata": {},
   "outputs": [
    {
     "name": "stdout",
     "output_type": "stream",
     "text": [
      "(150, 2)\n",
      "          x         y\n",
      "0  0.149973  0.458827\n",
      "1  0.185393  1.191452\n",
      "2  0.730816 -0.522617\n",
      "False\n"
     ]
    }
   ],
   "source": [
    "ex_data_poly = pd.read_csv('poly-data.csv')\n",
    "print(ex_data_poly.shape)\n",
    "print(ex_data_poly.head(3))\n",
    "print(ex_data_poly.isnull().values.any())"
   ]
  },
  {
   "cell_type": "code",
   "execution_count": 59,
   "metadata": {},
   "outputs": [
    {
     "data": {
      "text/html": [
       "<div>\n",
       "<style scoped>\n",
       "    .dataframe tbody tr th:only-of-type {\n",
       "        vertical-align: middle;\n",
       "    }\n",
       "\n",
       "    .dataframe tbody tr th {\n",
       "        vertical-align: top;\n",
       "    }\n",
       "\n",
       "    .dataframe thead th {\n",
       "        text-align: right;\n",
       "    }\n",
       "</style>\n",
       "<table border=\"1\" class=\"dataframe\">\n",
       "  <thead>\n",
       "    <tr style=\"text-align: right;\">\n",
       "      <th></th>\n",
       "      <th>x</th>\n",
       "      <th>y</th>\n",
       "    </tr>\n",
       "  </thead>\n",
       "  <tbody>\n",
       "    <tr>\n",
       "      <th>129</th>\n",
       "      <td>0.005676</td>\n",
       "      <td>-0.098644</td>\n",
       "    </tr>\n",
       "    <tr>\n",
       "      <th>42</th>\n",
       "      <td>0.005998</td>\n",
       "      <td>1.091955</td>\n",
       "    </tr>\n",
       "    <tr>\n",
       "      <th>108</th>\n",
       "      <td>0.012313</td>\n",
       "      <td>-0.202702</td>\n",
       "    </tr>\n",
       "    <tr>\n",
       "      <th>141</th>\n",
       "      <td>0.016256</td>\n",
       "      <td>-0.389729</td>\n",
       "    </tr>\n",
       "    <tr>\n",
       "      <th>140</th>\n",
       "      <td>0.018529</td>\n",
       "      <td>0.212417</td>\n",
       "    </tr>\n",
       "  </tbody>\n",
       "</table>\n",
       "</div>"
      ],
      "text/plain": [
       "            x         y\n",
       "129  0.005676 -0.098644\n",
       "42   0.005998  1.091955\n",
       "108  0.012313 -0.202702\n",
       "141  0.016256 -0.389729\n",
       "140  0.018529  0.212417"
      ]
     },
     "execution_count": 59,
     "metadata": {},
     "output_type": "execute_result"
    }
   ],
   "source": [
    "ex_data_poly = ex_data_poly.sort_values('x')\n",
    "ex_data_poly.head()"
   ]
  },
  {
   "cell_type": "code",
   "execution_count": 73,
   "metadata": {},
   "outputs": [
    {
     "data": {
      "image/png": "[encoded data removed]",
      "text/plain": [
       "<Figure size 432x288 with 1 Axes>"
      ]
     },
     "metadata": {
      "needs_background": "light"
     },
     "output_type": "display_data"
    }
   ],
   "source": [
    "plt.scatter(ex_data_poly['x'],\n",
    "            ex_data_poly['y'])\n",
    "plt.plot(ex_data_poly['x'], \n",
    "        ex_data_poly['y'], 'red')\n",
    "plt.title(\"x over y\")\n",
    "plt.xlabel(\"x\")\n",
    "plt.ylabel(\"y\")\n",
    "plt.show()\n"
   ]
  },
  {
   "cell_type": "markdown",
   "metadata": {},
   "source": [
    "#### Question 2\n",
    "##### Using `np.power()`, add two new predictors called `x2`, and `x3`.\n",
    "##### Print out the first few rows with the new predictors."
   ]
  },
  {
   "cell_type": "code",
   "execution_count": 65,
   "metadata": {},
   "outputs": [
    {
     "data": {
      "text/html": [
       "<div>\n",
       "<style scoped>\n",
       "    .dataframe tbody tr th:only-of-type {\n",
       "        vertical-align: middle;\n",
       "    }\n",
       "\n",
       "    .dataframe tbody tr th {\n",
       "        vertical-align: top;\n",
       "    }\n",
       "\n",
       "    .dataframe thead th {\n",
       "        text-align: right;\n",
       "    }\n",
       "</style>\n",
       "<table border=\"1\" class=\"dataframe\">\n",
       "  <thead>\n",
       "    <tr style=\"text-align: right;\">\n",
       "      <th></th>\n",
       "      <th>x</th>\n",
       "      <th>y</th>\n",
       "      <th>x2</th>\n",
       "      <th>x3</th>\n",
       "    </tr>\n",
       "  </thead>\n",
       "  <tbody>\n",
       "    <tr>\n",
       "      <th>129</th>\n",
       "      <td>0.005676</td>\n",
       "      <td>-0.098644</td>\n",
       "      <td>0.000032</td>\n",
       "      <td>1.829024e-07</td>\n",
       "    </tr>\n",
       "    <tr>\n",
       "      <th>42</th>\n",
       "      <td>0.005998</td>\n",
       "      <td>1.091955</td>\n",
       "      <td>0.000036</td>\n",
       "      <td>2.157555e-07</td>\n",
       "    </tr>\n",
       "    <tr>\n",
       "      <th>108</th>\n",
       "      <td>0.012313</td>\n",
       "      <td>-0.202702</td>\n",
       "      <td>0.000152</td>\n",
       "      <td>1.866939e-06</td>\n",
       "    </tr>\n",
       "  </tbody>\n",
       "</table>\n",
       "</div>"
      ],
      "text/plain": [
       "            x         y        x2            x3\n",
       "129  0.005676 -0.098644  0.000032  1.829024e-07\n",
       "42   0.005998  1.091955  0.000036  2.157555e-07\n",
       "108  0.012313 -0.202702  0.000152  1.866939e-06"
      ]
     },
     "execution_count": 65,
     "metadata": {},
     "output_type": "execute_result"
    }
   ],
   "source": [
    "ex_data_poly['x2'] = np.power(ex_data_poly['x'], 2)\n",
    "ex_data_poly['x3'] = np.power(ex_data_poly['x'], 3)\n",
    "ex_data_poly.head(3)"
   ]
  },
  {
   "cell_type": "markdown",
   "metadata": {},
   "source": [
    "#### Question 3\n",
    "##### Add a constant to our data and fit the model using `sm.OLS`. \n",
    "##### Name the fitted model as `ex_model_poly`."
   ]
  },
  {
   "cell_type": "code",
   "execution_count": 68,
   "metadata": {},
   "outputs": [
    {
     "name": "stdout",
     "output_type": "stream",
     "text": [
      "     const         x         y        x2            x3\n",
      "129    1.0  0.005676 -0.098644  0.000032  1.829024e-07\n",
      "42     1.0  0.005998  1.091955  0.000036  2.157555e-07\n",
      "108    1.0  0.012313 -0.202702  0.000152  1.866939e-06\n",
      "141    1.0  0.016256 -0.389729  0.000264  4.295415e-06\n",
      "140    1.0  0.018529  0.212417  0.000343  6.361774e-06\n"
     ]
    },
    {
     "data": {
      "text/html": [
       "<table class=\"simpletable\">\n",
       "<caption>OLS Regression Results</caption>\n",
       "<tr>\n",
       "  <th>Dep. Variable:</th>            <td>y</td>        <th>  R-squared:         </th> <td>   0.774</td>\n",
       "</tr>\n",
       "<tr>\n",
       "  <th>Model:</th>                   <td>OLS</td>       <th>  Adj. R-squared:    </th> <td>   0.770</td>\n",
       "</tr>\n",
       "<tr>\n",
       "  <th>Method:</th>             <td>Least Squares</td>  <th>  F-statistic:       </th> <td>   167.1</td>\n",
       "</tr>\n",
       "<tr>\n",
       "  <th>Date:</th>             <td>Wed, 28 Aug 2019</td> <th>  Prob (F-statistic):</th> <td>5.17e-47</td>\n",
       "</tr>\n",
       "<tr>\n",
       "  <th>Time:</th>                 <td>11:45:12</td>     <th>  Log-Likelihood:    </th> <td> -66.409</td>\n",
       "</tr>\n",
       "<tr>\n",
       "  <th>No. Observations:</th>      <td>   150</td>      <th>  AIC:               </th> <td>   140.8</td>\n",
       "</tr>\n",
       "<tr>\n",
       "  <th>Df Residuals:</th>          <td>   146</td>      <th>  BIC:               </th> <td>   152.9</td>\n",
       "</tr>\n",
       "<tr>\n",
       "  <th>Df Model:</th>              <td>     3</td>      <th>                     </th>     <td> </td>   \n",
       "</tr>\n",
       "<tr>\n",
       "  <th>Covariance Type:</th>      <td>nonrobust</td>    <th>                     </th>     <td> </td>   \n",
       "</tr>\n",
       "</table>\n",
       "<table class=\"simpletable\">\n",
       "<tr>\n",
       "    <td></td>       <th>coef</th>     <th>std err</th>      <th>t</th>      <th>P>|t|</th>  <th>[0.025</th>    <th>0.975]</th>  \n",
       "</tr>\n",
       "<tr>\n",
       "  <th>const</th> <td>   -0.1631</td> <td>    0.137</td> <td>   -1.194</td> <td> 0.234</td> <td>   -0.433</td> <td>    0.107</td>\n",
       "</tr>\n",
       "<tr>\n",
       "  <th>x</th>     <td>   11.7706</td> <td>    1.115</td> <td>   10.560</td> <td> 0.000</td> <td>    9.568</td> <td>   13.973</td>\n",
       "</tr>\n",
       "<tr>\n",
       "  <th>x2</th>    <td>  -34.2950</td> <td>    2.616</td> <td>  -13.110</td> <td> 0.000</td> <td>  -39.465</td> <td>  -29.125</td>\n",
       "</tr>\n",
       "<tr>\n",
       "  <th>x3</th>    <td>   22.9442</td> <td>    1.768</td> <td>   12.981</td> <td> 0.000</td> <td>   19.451</td> <td>   26.437</td>\n",
       "</tr>\n",
       "</table>\n",
       "<table class=\"simpletable\">\n",
       "<tr>\n",
       "  <th>Omnibus:</th>       <td> 4.721</td> <th>  Durbin-Watson:     </th> <td>   2.096</td>\n",
       "</tr>\n",
       "<tr>\n",
       "  <th>Prob(Omnibus):</th> <td> 0.094</td> <th>  Jarque-Bera (JB):  </th> <td>   4.339</td>\n",
       "</tr>\n",
       "<tr>\n",
       "  <th>Skew:</th>          <td> 0.408</td> <th>  Prob(JB):          </th> <td>   0.114</td>\n",
       "</tr>\n",
       "<tr>\n",
       "  <th>Kurtosis:</th>      <td> 3.168</td> <th>  Cond. No.          </th> <td>    125.</td>\n",
       "</tr>\n",
       "</table><br/><br/>Warnings:<br/>[1] Standard Errors assume that the covariance matrix of the errors is correctly specified."
      ],
      "text/plain": [
       "<class 'statsmodels.iolib.summary.Summary'>\n",
       "\"\"\"\n",
       "                            OLS Regression Results                            \n",
       "==============================================================================\n",
       "Dep. Variable:                      y   R-squared:                       0.774\n",
       "Model:                            OLS   Adj. R-squared:                  0.770\n",
       "Method:                 Least Squares   F-statistic:                     167.1\n",
       "Date:                Wed, 28 Aug 2019   Prob (F-statistic):           5.17e-47\n",
       "Time:                        11:45:12   Log-Likelihood:                -66.409\n",
       "No. Observations:                 150   AIC:                             140.8\n",
       "Df Residuals:                     146   BIC:                             152.9\n",
       "Df Model:                           3                                         \n",
       "Covariance Type:            nonrobust                                         \n",
       "==============================================================================\n",
       "                 coef    std err          t      P>|t|      [0.025      0.975]\n",
       "------------------------------------------------------------------------------\n",
       "const         -0.1631      0.137     -1.194      0.234      -0.433       0.107\n",
       "x             11.7706      1.115     10.560      0.000       9.568      13.973\n",
       "x2           -34.2950      2.616    -13.110      0.000     -39.465     -29.125\n",
       "x3            22.9442      1.768     12.981      0.000      19.451      26.437\n",
       "==============================================================================\n",
       "Omnibus:                        4.721   Durbin-Watson:                   2.096\n",
       "Prob(Omnibus):                  0.094   Jarque-Bera (JB):                4.339\n",
       "Skew:                           0.408   Prob(JB):                        0.114\n",
       "Kurtosis:                       3.168   Cond. No.                         125.\n",
       "==============================================================================\n",
       "\n",
       "Warnings:\n",
       "[1] Standard Errors assume that the covariance matrix of the errors is correctly specified.\n",
       "\"\"\""
      ]
     },
     "execution_count": 68,
     "metadata": {},
     "output_type": "execute_result"
    }
   ],
   "source": [
    "ex_data_poly = sm.add_constant(ex_data_poly)\n",
    "print(ex_data_poly.head())\n",
    "ex_model_poly = sm.OLS(ex_data_poly['y'], ex_data_poly.loc[:,['const','x','x2','x3']]).fit()\n",
    "ex_model_poly.summary()"
   ]
  },
  {
   "cell_type": "markdown",
   "metadata": {},
   "source": [
    "#### Question 4\n",
    "##### Using `ex_model_poly` model, predict the target using `x`, `x2`, `x3` as predictors.\n",
    "##### Save the predictions as `ex_prediction_poly`.\n",
    "##### Print the first ten rows of the predictions."
   ]
  },
  {
   "cell_type": "code",
   "execution_count": 69,
   "metadata": {},
   "outputs": [
    {
     "data": {
      "text/plain": [
       "129   -0.097369\n",
       "42    -0.093715\n",
       "108   -0.023304\n",
       "141    0.019291\n",
       "140    0.043389\n",
       "96     0.302458\n",
       "24     0.388395\n",
       "91     0.444356\n",
       "10     0.623348\n",
       "29     0.640664\n",
       "dtype: float64"
      ]
     },
     "execution_count": 69,
     "metadata": {},
     "output_type": "execute_result"
    }
   ],
   "source": [
    "ex_prediction_poly = ex_model_poly.predict(ex_data_poly.loc[:,['const','x', 'x2', 'x3']])\n",
    "ex_prediction_poly[0:10]"
   ]
  },
  {
   "cell_type": "markdown",
   "metadata": {},
   "source": [
    "#### Question 5\n",
    "##### Create a plot that shows the actual values of `y` and the predicted values of `y`. \n",
    "##### Plot the actual points of `y` as scatterplots and the predicted values of `y` as a red line. "
   ]
  },
  {
   "cell_type": "code",
   "execution_count": 72,
   "metadata": {},
   "outputs": [
    {
     "data": {
      "image/png": "[encoded data removed]",
      "text/plain": [
       "<Figure size 432x288 with 1 Axes>"
      ]
     },
     "metadata": {
      "needs_background": "light"
     },
     "output_type": "display_data"
    }
   ],
   "source": [
    "plt.scatter(ex_data_poly['x'],\n",
    "            ex_data_poly['y'])\n",
    "plt.plot(ex_data_poly['x'], \n",
    "         ex_prediction_poly, 'red')\n",
    "plt.title(\"X vs. Y\")\n",
    "plt.xlabel(\"X\")\n",
    "plt.ylabel(\"Y\")\n",
    "plt.show()\n"
   ]
  },
  {
   "cell_type": "markdown",
   "metadata": {},
   "source": [
    "#### Question 6\n",
    "##### Get the residuals and put them into a dataframe called `ex_poly_results`, along with the actual values of `y` and the predictions of `y`.\n",
    "\n",
    "##### Using the RMSE formula, get the RMSE of our polynomial model.\n"
   ]
  },
  {
   "cell_type": "code",
   "execution_count": 79,
   "metadata": {},
   "outputs": [
    {
     "name": "stdout",
     "output_type": "stream",
     "text": [
      "       actual  predicted  residuals\n",
      "129 -0.098644  -0.097369  -0.001275\n",
      "42   1.091955  -0.093715   1.185670\n",
      "108 -0.202702  -0.023304  -0.179398\n",
      "141 -0.389729   0.019291  -0.409020\n",
      "140  0.212417   0.043389   0.169028\n",
      "0.3767343435208061\n"
     ]
    }
   ],
   "source": [
    "actual = ex_data_poly['y']\n",
    "prediction = ex_prediction_poly\n",
    "residuals = actual - prediction\n",
    "ex_poly_results =  pd.concat([actual.rename('actual'),\n",
    "                           prediction.rename('predicted'),\n",
    "                           residuals.rename('residuals')],\n",
    "                           axis = 1)\n",
    "print(ex_poly_results.head())\n",
    "def rmse(predictions,actual):\n",
    "    return np.sqrt(((prediction-actual) ** 2).mean())\n",
    "\n",
    "print(rmse(ex_poly_results['predicted'],ex_poly_results['actual']))"
   ]
  },
  {
   "cell_type": "markdown",
   "metadata": {},
   "source": [
    "#### Question 7\n",
    "\n",
    "##### Build a standard linear model and plot `actual vs predicted` to see how the model would have performed.\n",
    "##### Compare this plot with the previous plot we made with polynomial terms added in."
   ]
  },
  {
   "cell_type": "code",
   "execution_count": 80,
   "metadata": {},
   "outputs": [
    {
     "data": {
      "image/png": "[encoded data removed]",
      "text/plain": [
       "<Figure size 432x288 with 1 Axes>"
      ]
     },
     "metadata": {
      "needs_background": "light"
     },
     "output_type": "display_data"
    },
    {
     "name": "stdout",
     "output_type": "stream",
     "text": [
      "       actual  predicted  residuals\n",
      "129 -0.098644   1.138439  -1.237083\n",
      "42   1.091955   1.137730  -0.045774\n",
      "108 -0.202702   1.123784  -1.326486\n",
      "141 -0.389729   1.115079  -1.504808\n",
      "140  0.212417   1.110058  -0.897641\n",
      "0.5560635262438554\n"
     ]
    }
   ],
   "source": [
    "# Fit the model\n",
    "ex_model_lin = sm.OLS(ex_data_poly['y'], ex_data_poly.loc[:,['const','x']]).fit()\n",
    "prediction = ex_model_lin.predict(ex_data_poly.loc[:,['const','x']])\n",
    "\n",
    "plt.scatter(ex_data_poly['x'],\n",
    "            ex_data_poly['y'])\n",
    "plt.plot(ex_data_poly['x'], \n",
    "         prediction, 'red')\n",
    "plt.title(\"X vs. Y\")\n",
    "plt.xlabel(\"X\")\n",
    "plt.ylabel(\"Y\")\n",
    "plt.show()\n",
    "\n",
    "actual = ex_data_poly['y']\n",
    "prediction = prediction\n",
    "residuals = actual - prediction\n",
    "ex_poly_results =  pd.concat([actual.rename('actual'),\n",
    "                           prediction.rename('predicted'),\n",
    "                           residuals.rename('residuals')],\n",
    "                           axis = 1)\n",
    "print(ex_poly_results.head())\n",
    "def rmse(predictions,actual):\n",
    "    return np.sqrt(((prediction-actual) ** 2).mean())\n",
    "\n",
    "print(rmse(ex_poly_results['predicted'],ex_poly_results['actual']))"
   ]
  },
  {
   "cell_type": "markdown",
   "metadata": {},
   "source": [
    "## Exercise 4"
   ]
  },
  {
   "cell_type": "markdown",
   "metadata": {},
   "source": [
    "#### Question 1\n",
    "##### Load the `interaction-data.csv` as `ex_interaction`. \n",
    "##### This is a dataset that predicts `Income` with `Illiteracy` and `High School Graduate Percentage` as predictors.\n",
    "##### Check the shape of `ex_interaction` and print the first few rows to see how the dataset looks like. \n",
    "##### Check if there are any missing values in the dataset. "
   ]
  },
  {
   "cell_type": "code",
   "execution_count": 81,
   "metadata": {},
   "outputs": [
    {
     "name": "stdout",
     "output_type": "stream",
     "text": [
      "(50, 3)\n",
      "   Income  Illiteracy  HS Grad\n",
      "0    3624         2.1     41.3\n",
      "1    6315         1.5     66.7\n",
      "2    4530         1.8     58.1\n",
      "False\n"
     ]
    }
   ],
   "source": [
    "ex_interaction = pd.read_csv('interaction-data.csv')\n",
    "print(ex_interaction.shape)\n",
    "print(ex_interaction.head(3))\n",
    "print(ex_interaction.isnull().values.any())"
   ]
  },
  {
   "cell_type": "markdown",
   "metadata": {},
   "source": [
    "#### Question 2\n",
    "##### Add the interaction term between `Illiteracy` and `HS Grad`` as `illiteracy:hsgrad`.\n",
    "##### Take a look at the first few rows again."
   ]
  },
  {
   "cell_type": "code",
   "execution_count": 83,
   "metadata": {},
   "outputs": [
    {
     "data": {
      "text/html": [
       "<div>\n",
       "<style scoped>\n",
       "    .dataframe tbody tr th:only-of-type {\n",
       "        vertical-align: middle;\n",
       "    }\n",
       "\n",
       "    .dataframe tbody tr th {\n",
       "        vertical-align: top;\n",
       "    }\n",
       "\n",
       "    .dataframe thead th {\n",
       "        text-align: right;\n",
       "    }\n",
       "</style>\n",
       "<table border=\"1\" class=\"dataframe\">\n",
       "  <thead>\n",
       "    <tr style=\"text-align: right;\">\n",
       "      <th></th>\n",
       "      <th>Income</th>\n",
       "      <th>Illiteracy</th>\n",
       "      <th>HS Grad</th>\n",
       "      <th>Illiteracy:hsgrad</th>\n",
       "    </tr>\n",
       "  </thead>\n",
       "  <tbody>\n",
       "    <tr>\n",
       "      <th>0</th>\n",
       "      <td>3624</td>\n",
       "      <td>2.1</td>\n",
       "      <td>41.3</td>\n",
       "      <td>86.73</td>\n",
       "    </tr>\n",
       "    <tr>\n",
       "      <th>1</th>\n",
       "      <td>6315</td>\n",
       "      <td>1.5</td>\n",
       "      <td>66.7</td>\n",
       "      <td>100.05</td>\n",
       "    </tr>\n",
       "    <tr>\n",
       "      <th>2</th>\n",
       "      <td>4530</td>\n",
       "      <td>1.8</td>\n",
       "      <td>58.1</td>\n",
       "      <td>104.58</td>\n",
       "    </tr>\n",
       "    <tr>\n",
       "      <th>3</th>\n",
       "      <td>3378</td>\n",
       "      <td>1.9</td>\n",
       "      <td>39.9</td>\n",
       "      <td>75.81</td>\n",
       "    </tr>\n",
       "    <tr>\n",
       "      <th>4</th>\n",
       "      <td>5114</td>\n",
       "      <td>1.1</td>\n",
       "      <td>62.6</td>\n",
       "      <td>68.86</td>\n",
       "    </tr>\n",
       "  </tbody>\n",
       "</table>\n",
       "</div>"
      ],
      "text/plain": [
       "   Income  Illiteracy  HS Grad  Illiteracy:hsgrad\n",
       "0    3624         2.1     41.3              86.73\n",
       "1    6315         1.5     66.7             100.05\n",
       "2    4530         1.8     58.1             104.58\n",
       "3    3378         1.9     39.9              75.81\n",
       "4    5114         1.1     62.6              68.86"
      ]
     },
     "execution_count": 83,
     "metadata": {},
     "output_type": "execute_result"
    }
   ],
   "source": [
    "ex_interaction['Illiteracy:hsgrad'] = ex_interaction['Illiteracy'] * ex_interaction['HS Grad']\n",
    "ex_interaction.head()"
   ]
  },
  {
   "cell_type": "markdown",
   "metadata": {},
   "source": [
    "#### Question 3\n",
    "##### Add a constant to the dataframe and fit the model with 'Income' as the target variable and the rest of the variables as predictors.\n",
    "##### Name th model as `ex_model_interact`."
   ]
  },
  {
   "cell_type": "code",
   "execution_count": 86,
   "metadata": {},
   "outputs": [
    {
     "data": {
      "text/html": [
       "<table class=\"simpletable\">\n",
       "<caption>OLS Regression Results</caption>\n",
       "<tr>\n",
       "  <th>Dep. Variable:</th>         <td>Income</td>      <th>  R-squared:         </th> <td>   0.502</td>\n",
       "</tr>\n",
       "<tr>\n",
       "  <th>Model:</th>                   <td>OLS</td>       <th>  Adj. R-squared:    </th> <td>   0.470</td>\n",
       "</tr>\n",
       "<tr>\n",
       "  <th>Method:</th>             <td>Least Squares</td>  <th>  F-statistic:       </th> <td>   15.47</td>\n",
       "</tr>\n",
       "<tr>\n",
       "  <th>Date:</th>             <td>Wed, 28 Aug 2019</td> <th>  Prob (F-statistic):</th> <td>4.29e-07</td>\n",
       "</tr>\n",
       "<tr>\n",
       "  <th>Time:</th>                 <td>13:31:52</td>     <th>  Log-Likelihood:    </th> <td> -374.04</td>\n",
       "</tr>\n",
       "<tr>\n",
       "  <th>No. Observations:</th>      <td>    50</td>      <th>  AIC:               </th> <td>   756.1</td>\n",
       "</tr>\n",
       "<tr>\n",
       "  <th>Df Residuals:</th>          <td>    46</td>      <th>  BIC:               </th> <td>   763.7</td>\n",
       "</tr>\n",
       "<tr>\n",
       "  <th>Df Model:</th>              <td>     3</td>      <th>                     </th>     <td> </td>   \n",
       "</tr>\n",
       "<tr>\n",
       "  <th>Covariance Type:</th>      <td>nonrobust</td>    <th>                     </th>     <td> </td>   \n",
       "</tr>\n",
       "</table>\n",
       "<table class=\"simpletable\">\n",
       "<tr>\n",
       "          <td></td>             <th>coef</th>     <th>std err</th>      <th>t</th>      <th>P>|t|</th>  <th>[0.025</th>    <th>0.975]</th>  \n",
       "</tr>\n",
       "<tr>\n",
       "  <th>const</th>             <td> 5679.1001</td> <td> 1277.612</td> <td>    4.445</td> <td> 0.000</td> <td> 3107.401</td> <td> 8250.799</td>\n",
       "</tr>\n",
       "<tr>\n",
       "  <th>Illiteracy</th>        <td>-2499.1809</td> <td>  759.246</td> <td>   -3.292</td> <td> 0.002</td> <td>-4027.464</td> <td> -970.898</td>\n",
       "</tr>\n",
       "<tr>\n",
       "  <th>HS Grad</th>           <td>  -21.2534</td> <td>   22.656</td> <td>   -0.938</td> <td> 0.353</td> <td>  -66.858</td> <td>   24.351</td>\n",
       "</tr>\n",
       "<tr>\n",
       "  <th>Illiteracy:hsgrad</th> <td>   47.6458</td> <td>   14.536</td> <td>    3.278</td> <td> 0.002</td> <td>   18.387</td> <td>   76.905</td>\n",
       "</tr>\n",
       "</table>\n",
       "<table class=\"simpletable\">\n",
       "<tr>\n",
       "  <th>Omnibus:</th>       <td> 1.234</td> <th>  Durbin-Watson:     </th> <td>   2.482</td>\n",
       "</tr>\n",
       "<tr>\n",
       "  <th>Prob(Omnibus):</th> <td> 0.539</td> <th>  Jarque-Bera (JB):  </th> <td>   0.574</td>\n",
       "</tr>\n",
       "<tr>\n",
       "  <th>Skew:</th>          <td>-0.213</td> <th>  Prob(JB):          </th> <td>   0.750</td>\n",
       "</tr>\n",
       "<tr>\n",
       "  <th>Kurtosis:</th>      <td> 3.308</td> <th>  Cond. No.          </th> <td>1.88e+03</td>\n",
       "</tr>\n",
       "</table><br/><br/>Warnings:<br/>[1] Standard Errors assume that the covariance matrix of the errors is correctly specified.<br/>[2] The condition number is large, 1.88e+03. This might indicate that there are<br/>strong multicollinearity or other numerical problems."
      ],
      "text/plain": [
       "<class 'statsmodels.iolib.summary.Summary'>\n",
       "\"\"\"\n",
       "                            OLS Regression Results                            \n",
       "==============================================================================\n",
       "Dep. Variable:                 Income   R-squared:                       0.502\n",
       "Model:                            OLS   Adj. R-squared:                  0.470\n",
       "Method:                 Least Squares   F-statistic:                     15.47\n",
       "Date:                Wed, 28 Aug 2019   Prob (F-statistic):           4.29e-07\n",
       "Time:                        13:31:52   Log-Likelihood:                -374.04\n",
       "No. Observations:                  50   AIC:                             756.1\n",
       "Df Residuals:                      46   BIC:                             763.7\n",
       "Df Model:                           3                                         \n",
       "Covariance Type:            nonrobust                                         \n",
       "=====================================================================================\n",
       "                        coef    std err          t      P>|t|      [0.025      0.975]\n",
       "-------------------------------------------------------------------------------------\n",
       "const              5679.1001   1277.612      4.445      0.000    3107.401    8250.799\n",
       "Illiteracy        -2499.1809    759.246     -3.292      0.002   -4027.464    -970.898\n",
       "HS Grad             -21.2534     22.656     -0.938      0.353     -66.858      24.351\n",
       "Illiteracy:hsgrad    47.6458     14.536      3.278      0.002      18.387      76.905\n",
       "==============================================================================\n",
       "Omnibus:                        1.234   Durbin-Watson:                   2.482\n",
       "Prob(Omnibus):                  0.539   Jarque-Bera (JB):                0.574\n",
       "Skew:                          -0.213   Prob(JB):                        0.750\n",
       "Kurtosis:                       3.308   Cond. No.                     1.88e+03\n",
       "==============================================================================\n",
       "\n",
       "Warnings:\n",
       "[1] Standard Errors assume that the covariance matrix of the errors is correctly specified.\n",
       "[2] The condition number is large, 1.88e+03. This might indicate that there are\n",
       "strong multicollinearity or other numerical problems.\n",
       "\"\"\""
      ]
     },
     "execution_count": 86,
     "metadata": {},
     "output_type": "execute_result"
    }
   ],
   "source": [
    "ex_interaction = sm.add_constant(ex_interaction)\n",
    "\n",
    "ex_model_interaction = sm.OLS(ex_interaction['Income'], ex_interaction.loc[:,['const','Illiteracy','HS Grad','Illiteracy:hsgrad']]).fit()\n",
    "\n",
    "ex_model_interaction.summary()\n",
    "\n"
   ]
  },
  {
   "cell_type": "markdown",
   "metadata": {},
   "source": [
    "#### Question 4\n",
    "##### Using the fitted model, predict using the same variables as predictors.\n",
    "##### Name the predictions as `ex_prediction_interact` and take a look at the first 10 rows of the prediction."
   ]
  },
  {
   "cell_type": "code",
   "execution_count": 88,
   "metadata": {},
   "outputs": [
    {
     "data": {
      "text/plain": [
       "0    3685.379693\n",
       "1    5279.695256\n",
       "2    4928.555613\n",
       "3    3694.678020\n",
       "4    4880.432683\n",
       "5    4702.781546\n",
       "6    4674.796122\n",
       "7    4610.719855\n",
       "8    4570.260191\n",
       "9    3686.693648\n",
       "dtype: float64"
      ]
     },
     "execution_count": 88,
     "metadata": {},
     "output_type": "execute_result"
    }
   ],
   "source": [
    "ex_prediction_interact = ex_model_interaction.predict(ex_interaction.loc[:,['const','Illiteracy','HS Grad','Illiteracy:hsgrad']])\n",
    "ex_prediction_interact[0:10]"
   ]
  },
  {
   "cell_type": "markdown",
   "metadata": {},
   "source": [
    "#### Question 5\n",
    "##### Evaluate the model using the defined RMSE function."
   ]
  },
  {
   "cell_type": "code",
   "execution_count": 90,
   "metadata": {},
   "outputs": [
    {
     "name": "stdout",
     "output_type": "stream",
     "text": [
      "   actual    predicted    residuals\n",
      "0    3624  3685.379693   -61.379693\n",
      "1    6315  5279.695256  1035.304744\n",
      "2    4530  4928.555613  -398.555613\n",
      "3    3378  3694.678020  -316.678020\n",
      "4    5114  4880.432683   233.567317\n",
      "429.2036945597498\n"
     ]
    }
   ],
   "source": [
    "actual = ex_interaction['Income']\n",
    "prediction = ex_prediction_interact\n",
    "residuals = actual - prediction\n",
    "ex_interact_results =  pd.concat([actual.rename('actual'),\n",
    "                               prediction.rename('predicted'),\n",
    "                               residuals.rename('residuals')],\n",
    "                              axis = 1)\n",
    "print(ex_interact_results.head())\n",
    "def rmse(predictions,actual):\n",
    "    return np.sqrt(((prediction-actual) ** 2).mean())\n",
    "\n",
    "print(rmse(interact_results['predicted'],interact_results['actual']))\n",
    "\n"
   ]
  },
  {
   "cell_type": "markdown",
   "metadata": {},
   "source": [
    "#### Question 6\n",
    "##### How would the model have performed if we did not add in the interaction term?\n",
    "##### Build a new model without the interaction term and calculate the RMSE. "
   ]
  },
  {
   "cell_type": "code",
   "execution_count": 93,
   "metadata": {},
   "outputs": [
    {
     "data": {
      "text/html": [
       "<table class=\"simpletable\">\n",
       "<caption>OLS Regression Results</caption>\n",
       "<tr>\n",
       "  <th>Dep. Variable:</th>         <td>Income</td>      <th>  R-squared:         </th> <td>   0.386</td>\n",
       "</tr>\n",
       "<tr>\n",
       "  <th>Model:</th>                   <td>OLS</td>       <th>  Adj. R-squared:    </th> <td>   0.360</td>\n",
       "</tr>\n",
       "<tr>\n",
       "  <th>Method:</th>             <td>Least Squares</td>  <th>  F-statistic:       </th> <td>   14.77</td>\n",
       "</tr>\n",
       "<tr>\n",
       "  <th>Date:</th>             <td>Wed, 28 Aug 2019</td> <th>  Prob (F-statistic):</th> <td>1.06e-05</td>\n",
       "</tr>\n",
       "<tr>\n",
       "  <th>Time:</th>                 <td>13:36:56</td>     <th>  Log-Likelihood:    </th> <td> -379.29</td>\n",
       "</tr>\n",
       "<tr>\n",
       "  <th>No. Observations:</th>      <td>    50</td>      <th>  AIC:               </th> <td>   764.6</td>\n",
       "</tr>\n",
       "<tr>\n",
       "  <th>Df Residuals:</th>          <td>    47</td>      <th>  BIC:               </th> <td>   770.3</td>\n",
       "</tr>\n",
       "<tr>\n",
       "  <th>Df Model:</th>              <td>     2</td>      <th>                     </th>     <td> </td>   \n",
       "</tr>\n",
       "<tr>\n",
       "  <th>Covariance Type:</th>      <td>nonrobust</td>    <th>                     </th>     <td> </td>   \n",
       "</tr>\n",
       "</table>\n",
       "<table class=\"simpletable\">\n",
       "<tr>\n",
       "       <td></td>         <th>coef</th>     <th>std err</th>      <th>t</th>      <th>P>|t|</th>  <th>[0.025</th>    <th>0.975]</th>  \n",
       "</tr>\n",
       "<tr>\n",
       "  <th>const</th>      <td> 2131.3281</td> <td>  745.892</td> <td>    2.857</td> <td> 0.006</td> <td>  630.787</td> <td> 3631.869</td>\n",
       "</tr>\n",
       "<tr>\n",
       "  <th>Illiteracy</th> <td>  -52.6365</td> <td>  152.888</td> <td>   -0.344</td> <td> 0.732</td> <td> -360.207</td> <td>  254.934</td>\n",
       "</tr>\n",
       "<tr>\n",
       "  <th>HS Grad</th>    <td>   44.5518</td> <td>   11.538</td> <td>    3.861</td> <td> 0.000</td> <td>   21.341</td> <td>   67.763</td>\n",
       "</tr>\n",
       "</table>\n",
       "<table class=\"simpletable\">\n",
       "<tr>\n",
       "  <th>Omnibus:</th>       <td> 1.037</td> <th>  Durbin-Watson:     </th> <td>   2.291</td>\n",
       "</tr>\n",
       "<tr>\n",
       "  <th>Prob(Omnibus):</th> <td> 0.595</td> <th>  Jarque-Bera (JB):  </th> <td>   0.486</td>\n",
       "</tr>\n",
       "<tr>\n",
       "  <th>Skew:</th>          <td> 0.217</td> <th>  Prob(JB):          </th> <td>   0.784</td>\n",
       "</tr>\n",
       "<tr>\n",
       "  <th>Kurtosis:</th>      <td> 3.211</td> <th>  Cond. No.          </th> <td>    584.</td>\n",
       "</tr>\n",
       "</table><br/><br/>Warnings:<br/>[1] Standard Errors assume that the covariance matrix of the errors is correctly specified."
      ],
      "text/plain": [
       "<class 'statsmodels.iolib.summary.Summary'>\n",
       "\"\"\"\n",
       "                            OLS Regression Results                            \n",
       "==============================================================================\n",
       "Dep. Variable:                 Income   R-squared:                       0.386\n",
       "Model:                            OLS   Adj. R-squared:                  0.360\n",
       "Method:                 Least Squares   F-statistic:                     14.77\n",
       "Date:                Wed, 28 Aug 2019   Prob (F-statistic):           1.06e-05\n",
       "Time:                        13:36:56   Log-Likelihood:                -379.29\n",
       "No. Observations:                  50   AIC:                             764.6\n",
       "Df Residuals:                      47   BIC:                             770.3\n",
       "Df Model:                           2                                         \n",
       "Covariance Type:            nonrobust                                         \n",
       "==============================================================================\n",
       "                 coef    std err          t      P>|t|      [0.025      0.975]\n",
       "------------------------------------------------------------------------------\n",
       "const       2131.3281    745.892      2.857      0.006     630.787    3631.869\n",
       "Illiteracy   -52.6365    152.888     -0.344      0.732    -360.207     254.934\n",
       "HS Grad       44.5518     11.538      3.861      0.000      21.341      67.763\n",
       "==============================================================================\n",
       "Omnibus:                        1.037   Durbin-Watson:                   2.291\n",
       "Prob(Omnibus):                  0.595   Jarque-Bera (JB):                0.486\n",
       "Skew:                           0.217   Prob(JB):                        0.784\n",
       "Kurtosis:                       3.211   Cond. No.                         584.\n",
       "==============================================================================\n",
       "\n",
       "Warnings:\n",
       "[1] Standard Errors assume that the covariance matrix of the errors is correctly specified.\n",
       "\"\"\""
      ]
     },
     "execution_count": 93,
     "metadata": {},
     "output_type": "execute_result"
    }
   ],
   "source": [
    "ex_model_interaction2 = sm.OLS(ex_interaction['Income'], ex_interaction.loc[:,['const','Illiteracy','HS Grad']]).fit()\n",
    "ex_model_interaction2.summary()"
   ]
  },
  {
   "cell_type": "code",
   "execution_count": 95,
   "metadata": {},
   "outputs": [
    {
     "name": "stdout",
     "output_type": "stream",
     "text": [
      "   actual    predicted    residuals\n",
      "0    3624  3860.780466  -236.780466\n",
      "1    6315  5023.977913  1291.022087\n",
      "2    4530  4625.041540   -95.041540\n",
      "3    3378  3808.935261  -430.935261\n",
      "4    5114  4862.370173   251.629827\n",
      "476.70054097232793\n"
     ]
    }
   ],
   "source": [
    "ex_prediction_interact2 = ex_model_interaction2.predict(ex_interaction.loc[:,['const','Illiteracy','HS Grad']])\n",
    "actual = ex_interaction['Income']\n",
    "prediction = ex_prediction_interact2\n",
    "residuals = actual - prediction\n",
    "ex_interact_results =  pd.concat([actual.rename('actual'),\n",
    "                               prediction.rename('predicted'),\n",
    "                               residuals.rename('residuals')],\n",
    "                              axis = 1)\n",
    "print(ex_interact_results.head())\n",
    "def rmse(predictions,actual):\n",
    "    return np.sqrt(((prediction-actual) ** 2).mean())\n",
    "\n",
    "print(rmse(interact_results['predicted'],interact_results['actual']))"
   ]
  },
  {
   "cell_type": "code",
   "execution_count": null,
   "metadata": {},
   "outputs": [],
   "source": []
  }
 ],
 "metadata": {
  "kernelspec": {
   "display_name": "Python 3",
   "language": "python",
   "name": "python3"
  },
  "language_info": {
   "codemirror_mode": {
    "name": "ipython",
    "version": 3
   },
   "file_extension": ".py",
   "mimetype": "text/x-python",
   "name": "python",
   "nbconvert_exporter": "python",
   "pygments_lexer": "ipython3",
   "version": "3.7.1"
  }
 },
 "nbformat": 4,
 "nbformat_minor": 2
}
