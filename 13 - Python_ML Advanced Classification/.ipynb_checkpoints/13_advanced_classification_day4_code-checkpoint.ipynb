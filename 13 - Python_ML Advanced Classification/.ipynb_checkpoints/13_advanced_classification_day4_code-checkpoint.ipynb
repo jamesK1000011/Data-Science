{
 "cells": [
  {
   "cell_type": "code",
   "execution_count": 1,
   "metadata": {},
   "outputs": [],
   "source": [
    "\n",
    "#######################################################\n",
    "#######################################################\n",
    "############    COPYRIGHT - DATA SOCIETY   ############\n",
    "#######################################################\n",
    "#######################################################\n",
    "\n",
    "## 13 ADVANCED CLASSIFICATION DAY4 ##\n",
    "\n",
    "## NOTE: To run individual pieces of code, select the line of code and\n",
    "##       press ctrl + enter for PCs or command + enter for Macs\n",
    "\n"
   ]
  },
  {
   "cell_type": "code",
   "execution_count": 2,
   "metadata": {},
   "outputs": [],
   "source": [
    "#=================================================-\n",
    "#### Slide 2: Directory settings  ####\n",
    "\n",
    "# Set `main_dir` to the location of your `af-werx` folder (for Linux).\n",
    "main_dir = \"/home/[username]/Desktop/af-werx\"\n",
    "# Set `main_dir` to the location of your `af-werx` folder (for Mac).\n",
    "main_dir = '/Users/[username]/Desktop/af-werx'\n",
    "# Set `main_dir` to the location of your `af-werx` folder (for Windows).\n",
    "main_dir = \"C:\\\\Users\\\\[username]\\\\Desktop\\\\af-werx\"\n",
    "# Make `data_dir` from the `main_dir` and\n",
    "# remainder of the path to data directory.\n",
    "data_dir = main_dir + \"/data\"\n",
    "\n",
    "\n"
   ]
  },
  {
   "cell_type": "code",
   "execution_count": 3,
   "metadata": {},
   "outputs": [],
   "source": [
    "#=================================================-\n",
    "#### Slide 3: Loading packages  ####\n",
    "\n",
    "import os\n",
    "import pandas as pd\n",
    "import numpy as np\n",
    "import matplotlib.pyplot as plt\n",
    "from sklearn.linear_model import LinearRegression\n",
    "from sklearn.linear_model import LogisticRegression\n",
    "from sklearn import metrics\n",
    "from sklearn.model_selection import train_test_split\n",
    "import warnings\n",
    "import datetime as dt\n",
    "warnings.simplefilter(action='ignore', category=FutureWarning)\n",
    "\n"
   ]
  },
  {
   "cell_type": "code",
   "execution_count": 4,
   "metadata": {},
   "outputs": [],
   "source": [
    "# just for safety capture the original main path - when you re-run the book we will always start from the original folder\n",
    "# this is similar to here() in R which captures the project root.\n",
    "# https://github.com/ipython/ipython/issues/10123\n",
    "nb_root = globals()['_dh']\n",
    "os.chdir(nb_root[0])\n",
    " \n",
    "main_dir = os.path.abspath(os.path.join (\"..\",))\n",
    "\n",
    "# Make `data_dir` and 'path_dir' from the `main_dir` and\n",
    "data_dir = os.path.join(main_dir, \"data\")\n",
    "plot_dir = os.path.join(main_dir, \"plot\")"
   ]
  },
  {
   "cell_type": "code",
   "execution_count": 5,
   "metadata": {},
   "outputs": [
    {
     "name": "stdout",
     "output_type": "stream",
     "text": [
      "/Users/datasociety/Desktop/af-werx/data\n"
     ]
    }
   ],
   "source": [
    "#=================================================-\n",
    "#### Slide 4: Working directory  ####\n",
    "\n",
    "# Set working directory.\n",
    "os.chdir(data_dir)\n",
    "# Check working directory.\n",
    "print(os.getcwd())\n",
    "\n"
   ]
  },
  {
   "cell_type": "code",
   "execution_count": 6,
   "metadata": {},
   "outputs": [
    {
     "data": {
      "text/html": [
       "<div>\n",
       "<style scoped>\n",
       "    .dataframe tbody tr th:only-of-type {\n",
       "        vertical-align: middle;\n",
       "    }\n",
       "\n",
       "    .dataframe tbody tr th {\n",
       "        vertical-align: top;\n",
       "    }\n",
       "\n",
       "    .dataframe thead th {\n",
       "        text-align: right;\n",
       "    }\n",
       "</style>\n",
       "<table border=\"1\" class=\"dataframe\">\n",
       "  <thead>\n",
       "    <tr style=\"text-align: right;\">\n",
       "      <th></th>\n",
       "      <th>household_id</th>\n",
       "      <th>ind_id</th>\n",
       "      <th>rooms</th>\n",
       "      <th>tablet</th>\n",
       "      <th>males_under_12</th>\n",
       "      <th>males_over_12</th>\n",
       "      <th>males_tot</th>\n",
       "      <th>females_under_12</th>\n",
       "      <th>females_over_12</th>\n",
       "      <th>females_tot</th>\n",
       "      <th>...</th>\n",
       "      <th>region_Chorotega</th>\n",
       "      <th>region_pacifico</th>\n",
       "      <th>region_brunca</th>\n",
       "      <th>region_antlantica</th>\n",
       "      <th>region_huetar</th>\n",
       "      <th>urban_zone</th>\n",
       "      <th>rural_zone</th>\n",
       "      <th>age</th>\n",
       "      <th>Target</th>\n",
       "      <th>monthly_rent</th>\n",
       "    </tr>\n",
       "  </thead>\n",
       "  <tbody>\n",
       "    <tr>\n",
       "      <th>0</th>\n",
       "      <td>21eb7fcc1</td>\n",
       "      <td>ID_279628684</td>\n",
       "      <td>3</td>\n",
       "      <td>0</td>\n",
       "      <td>0</td>\n",
       "      <td>1</td>\n",
       "      <td>1</td>\n",
       "      <td>0</td>\n",
       "      <td>0</td>\n",
       "      <td>0</td>\n",
       "      <td>...</td>\n",
       "      <td>0</td>\n",
       "      <td>0</td>\n",
       "      <td>0</td>\n",
       "      <td>0</td>\n",
       "      <td>0</td>\n",
       "      <td>1</td>\n",
       "      <td>0</td>\n",
       "      <td>43</td>\n",
       "      <td>4</td>\n",
       "      <td>190000.0</td>\n",
       "    </tr>\n",
       "    <tr>\n",
       "      <th>1</th>\n",
       "      <td>0e5d7a658</td>\n",
       "      <td>ID_f29eb3ddd</td>\n",
       "      <td>4</td>\n",
       "      <td>1</td>\n",
       "      <td>0</td>\n",
       "      <td>1</td>\n",
       "      <td>1</td>\n",
       "      <td>0</td>\n",
       "      <td>0</td>\n",
       "      <td>0</td>\n",
       "      <td>...</td>\n",
       "      <td>0</td>\n",
       "      <td>0</td>\n",
       "      <td>0</td>\n",
       "      <td>0</td>\n",
       "      <td>0</td>\n",
       "      <td>1</td>\n",
       "      <td>0</td>\n",
       "      <td>67</td>\n",
       "      <td>4</td>\n",
       "      <td>135000.0</td>\n",
       "    </tr>\n",
       "    <tr>\n",
       "      <th>2</th>\n",
       "      <td>2c7317ea8</td>\n",
       "      <td>ID_68de51c94</td>\n",
       "      <td>8</td>\n",
       "      <td>0</td>\n",
       "      <td>0</td>\n",
       "      <td>0</td>\n",
       "      <td>0</td>\n",
       "      <td>0</td>\n",
       "      <td>1</td>\n",
       "      <td>1</td>\n",
       "      <td>...</td>\n",
       "      <td>0</td>\n",
       "      <td>0</td>\n",
       "      <td>0</td>\n",
       "      <td>0</td>\n",
       "      <td>0</td>\n",
       "      <td>1</td>\n",
       "      <td>0</td>\n",
       "      <td>92</td>\n",
       "      <td>4</td>\n",
       "      <td>NaN</td>\n",
       "    </tr>\n",
       "    <tr>\n",
       "      <th>3</th>\n",
       "      <td>2b58d945f</td>\n",
       "      <td>ID_d671db89c</td>\n",
       "      <td>5</td>\n",
       "      <td>1</td>\n",
       "      <td>0</td>\n",
       "      <td>2</td>\n",
       "      <td>2</td>\n",
       "      <td>1</td>\n",
       "      <td>1</td>\n",
       "      <td>2</td>\n",
       "      <td>...</td>\n",
       "      <td>0</td>\n",
       "      <td>0</td>\n",
       "      <td>0</td>\n",
       "      <td>0</td>\n",
       "      <td>0</td>\n",
       "      <td>1</td>\n",
       "      <td>0</td>\n",
       "      <td>17</td>\n",
       "      <td>4</td>\n",
       "      <td>180000.0</td>\n",
       "    </tr>\n",
       "    <tr>\n",
       "      <th>4</th>\n",
       "      <td>2b58d945f</td>\n",
       "      <td>ID_d56d6f5f5</td>\n",
       "      <td>5</td>\n",
       "      <td>1</td>\n",
       "      <td>0</td>\n",
       "      <td>2</td>\n",
       "      <td>2</td>\n",
       "      <td>1</td>\n",
       "      <td>1</td>\n",
       "      <td>2</td>\n",
       "      <td>...</td>\n",
       "      <td>0</td>\n",
       "      <td>0</td>\n",
       "      <td>0</td>\n",
       "      <td>0</td>\n",
       "      <td>0</td>\n",
       "      <td>1</td>\n",
       "      <td>0</td>\n",
       "      <td>37</td>\n",
       "      <td>4</td>\n",
       "      <td>180000.0</td>\n",
       "    </tr>\n",
       "  </tbody>\n",
       "</table>\n",
       "<p>5 rows × 84 columns</p>\n",
       "</div>"
      ],
      "text/plain": [
       "  household_id        ind_id  rooms  tablet  males_under_12  males_over_12  \\\n",
       "0    21eb7fcc1  ID_279628684      3       0               0              1   \n",
       "1    0e5d7a658  ID_f29eb3ddd      4       1               0              1   \n",
       "2    2c7317ea8  ID_68de51c94      8       0               0              0   \n",
       "3    2b58d945f  ID_d671db89c      5       1               0              2   \n",
       "4    2b58d945f  ID_d56d6f5f5      5       1               0              2   \n",
       "\n",
       "   males_tot  females_under_12  females_over_12  females_tot      ...       \\\n",
       "0          1                 0                0            0      ...        \n",
       "1          1                 0                0            0      ...        \n",
       "2          0                 0                1            1      ...        \n",
       "3          2                 1                1            2      ...        \n",
       "4          2                 1                1            2      ...        \n",
       "\n",
       "   region_Chorotega  region_pacifico  region_brunca  region_antlantica  \\\n",
       "0                 0                0              0                  0   \n",
       "1                 0                0              0                  0   \n",
       "2                 0                0              0                  0   \n",
       "3                 0                0              0                  0   \n",
       "4                 0                0              0                  0   \n",
       "\n",
       "   region_huetar  urban_zone  rural_zone  age  Target  monthly_rent  \n",
       "0              0           1           0   43       4      190000.0  \n",
       "1              0           1           0   67       4      135000.0  \n",
       "2              0           1           0   92       4           NaN  \n",
       "3              0           1           0   17       4      180000.0  \n",
       "4              0           1           0   37       4      180000.0  \n",
       "\n",
       "[5 rows x 84 columns]"
      ]
     },
     "execution_count": 6,
     "metadata": {},
     "output_type": "execute_result"
    }
   ],
   "source": [
    "#=================================================-\n",
    "#### Slide 10: Load the dataset  ####\n",
    "\n",
    "costa_rica = pd.read_csv(\"costa_rica_poverty.csv\")\n",
    "costa_rica.head()"
   ]
  },
  {
   "cell_type": "code",
   "execution_count": 7,
   "metadata": {},
   "outputs": [
    {
     "data": {
      "text/plain": [
       "rooms                  0\n",
       "males_tot              0\n",
       "females_tot            0\n",
       "years_of_schooling     0\n",
       "num_child              0\n",
       "num_adults             0\n",
       "num_65plus             0\n",
       "dependency_rate        0\n",
       "male_hh_head_educ      0\n",
       "female_hh_head_educ    0\n",
       "meaneduc               0\n",
       "bedrooms               0\n",
       "ppl_per_room           0\n",
       "num_mobilephones       0\n",
       "age                    0\n",
       "Target                 0\n",
       "dtype: int64"
      ]
     },
     "execution_count": 7,
     "metadata": {},
     "output_type": "execute_result"
    }
   ],
   "source": [
    "#=================================================-\n",
    "#### Slide 11: Subset the data for baseline model  ####\n",
    "\n",
    "costa_subset = costa_rica[['rooms', \n",
    "                           'males_tot',\n",
    "                           'females_tot', \n",
    "                           'years_of_schooling',\n",
    "                           'num_child',\n",
    "                           'num_adults',\n",
    "                           'num_65plus',\n",
    "                           'dependency_rate',\n",
    "                           'male_hh_head_educ',\n",
    "                           'female_hh_head_educ', \n",
    "                           'meaneduc',\n",
    "                           'bedrooms',\n",
    "                           'ppl_per_room', \n",
    "                           'num_mobilephones',\n",
    "                           'age', \n",
    "                           'Target']]\n",
    "costa_subset.shape\n",
    "costa_subset.isnull().sum()\n",
    "\n"
   ]
  },
  {
   "cell_type": "code",
   "execution_count": 8,
   "metadata": {},
   "outputs": [
    {
     "name": "stderr",
     "output_type": "stream",
     "text": [
      "/anaconda3/lib/python3.7/site-packages/ipykernel_launcher.py:4: SettingWithCopyWarning: \n",
      "A value is trying to be set on a copy of a slice from a DataFrame.\n",
      "Try using .loc[row_indexer,col_indexer] = value instead\n",
      "\n",
      "See the caveats in the documentation: http://pandas.pydata.org/pandas-docs/stable/indexing.html#indexing-view-versus-copy\n",
      "  after removing the cwd from sys.path.\n"
     ]
    }
   ],
   "source": [
    "#=================================================-\n",
    "#### Slide 12: Create target and predictors  ####\n",
    "\n",
    "costa_subset['Target_binary'] = np.where(costa_subset['Target'] <= 3, 'vulnerable', 'non_vulnerable')\n",
    "\n",
    "x = costa_subset.drop(['Target', 'Target_binary'], axis = 1)\n",
    "y = costa_subset.Target_binary\n",
    "\n"
   ]
  },
  {
   "cell_type": "code",
   "execution_count": 9,
   "metadata": {},
   "outputs": [],
   "source": [
    "#=================================================-\n",
    "#### Slide 13: Logistic regression function  ####\n",
    "\n",
    "def logistic_model(x, y):\n",
    "    np.random.seed(1)\n",
    "    x_train, x_test, y_train, y_test = train_test_split(x, y, test_size = 0.30)\n",
    "    logreg = LogisticRegression()\n",
    "    logreg.fit(x_train, y_train)\n",
    "    y_pred = logreg.predict(x_test)\n",
    "    accuracy = metrics.accuracy_score(y_test, y_pred)\n",
    "    return(accuracy)\n",
    "\n"
   ]
  },
  {
   "cell_type": "code",
   "execution_count": 10,
   "metadata": {},
   "outputs": [
    {
     "name": "stdout",
     "output_type": "stream",
     "text": [
      "0.7629009762900977\n",
      "  dataset_name      model_name model_metric  metric_value\n",
      "0   Costa_rica  baseline_model     accuracy      0.762901\n"
     ]
    }
   ],
   "source": [
    "#=================================================-\n",
    "#### Slide 14: Create the baseline and save the result  ####\n",
    "\n",
    "accuracy1 = logistic_model(x,y)\n",
    "print(accuracy1)\n",
    "performance_df = pd.DataFrame(columns = ['dataset_name', \n",
    "                                         'model_name',\n",
    "                                         'model_metric',\n",
    "                                         'metric_value'])\n",
    "\n",
    "s = pd.Series(['Costa_rica', \n",
    "               'baseline_model', \n",
    "               'accuracy', \n",
    "               accuracy1],\n",
    "              index = ['dataset_name', \n",
    "                       'model_name',\n",
    "                       'model_metric',\n",
    "                       'metric_value'])\n",
    "performance_df = performance_df.append(s, ignore_index = True)\n",
    "print(performance_df)\n",
    "\n"
   ]
  },
  {
   "cell_type": "code",
   "execution_count": 11,
   "metadata": {},
   "outputs": [],
   "source": [
    "#=================================================-\n",
    "#### Slide 20: Exercise 1  ####\n",
    "\n",
    "\n",
    "\n"
   ]
  },
  {
   "cell_type": "code",
   "execution_count": 12,
   "metadata": {},
   "outputs": [
    {
     "name": "stderr",
     "output_type": "stream",
     "text": [
      "/anaconda3/lib/python3.7/site-packages/ipykernel_launcher.py:24: SettingWithCopyWarning: \n",
      "A value is trying to be set on a copy of a slice from a DataFrame.\n",
      "Try using .loc[row_indexer,col_indexer] = value instead\n",
      "\n",
      "See the caveats in the documentation: http://pandas.pydata.org/pandas-docs/stable/indexing.html#indexing-view-versus-copy\n"
     ]
    }
   ],
   "source": [
    "#=================================================-\n",
    "#### Slide 22: Imputation using regression  ####\n",
    "\n",
    "# Subset the data once again.\n",
    "costa_regression_subset = costa_rica[['rooms',\n",
    "                                      'males_tot', \n",
    "                                      'females_tot',\n",
    "                                      'years_of_schooling',\n",
    "                                      'num_child', \n",
    "                                      'num_adults', \n",
    "                                      'num_65plus',\n",
    "                                      'dependency_rate', \n",
    "                                      'male_hh_head_educ',\n",
    "                                      'female_hh_head_educ', \n",
    "                                      'meaneduc',\n",
    "                                      'bedrooms',\n",
    "                                      'ppl_per_room', \n",
    "                                      'num_mobilephones',\n",
    "                                      'age',\n",
    "                                      'monthly_rent',\n",
    "                                      'Target']]\n",
    "\n",
    "# Create target variable.\n",
    "costa_regression_subset['Target_binary'] = np.where(costa_regression_subset['Target'] <= 3, 'vulnerable', 'non_vulnerable')\n",
    "\n"
   ]
  },
  {
   "cell_type": "code",
   "execution_count": 13,
   "metadata": {},
   "outputs": [
    {
     "name": "stdout",
     "output_type": "stream",
     "text": [
      "(2697, 18)\n",
      "(6860, 18)\n"
     ]
    }
   ],
   "source": [
    "#=================================================-\n",
    "#### Slide 23: Imputation using regression  ####\n",
    "\n",
    "train_subset = costa_regression_subset[~costa_regression_subset['monthly_rent'].isna()]\n",
    "test_subset = costa_regression_subset[costa_regression_subset['monthly_rent'].isna()]\n",
    "\n",
    "print(train_subset.shape)\n",
    "print(test_subset.shape)\n",
    "\n"
   ]
  },
  {
   "cell_type": "code",
   "execution_count": 14,
   "metadata": {},
   "outputs": [
    {
     "data": {
      "text/plain": [
       "6860"
      ]
     },
     "execution_count": 14,
     "metadata": {},
     "output_type": "execute_result"
    }
   ],
   "source": [
    "#=================================================-\n",
    "#### Slide 24: Imputation using regression  ####\n",
    "\n",
    "x_reg_train = train_subset.drop(['Target', 'Target_binary', 'monthly_rent'], axis = 1)\n",
    "y_reg_train = train_subset.monthly_rent\n",
    "x_reg_test = test_subset.drop(['Target', 'Target_binary', 'monthly_rent'], axis = 1)\n",
    "\n",
    "x_reg_train.shape\n",
    "# Fit the model and predict on test\n",
    "linear_model = LinearRegression()\n",
    "linear_model.fit(x_reg_train, y_reg_train)\n",
    "y_pred = linear_model.predict(x_reg_test)\n",
    "len(y_pred)\n",
    "\n"
   ]
  },
  {
   "cell_type": "code",
   "execution_count": 15,
   "metadata": {},
   "outputs": [
    {
     "name": "stderr",
     "output_type": "stream",
     "text": [
      "/anaconda3/lib/python3.7/site-packages/ipykernel_launcher.py:5: SettingWithCopyWarning: \n",
      "A value is trying to be set on a copy of a slice from a DataFrame.\n",
      "Try using .loc[row_indexer,col_indexer] = value instead\n",
      "\n",
      "See the caveats in the documentation: http://pandas.pydata.org/pandas-docs/stable/indexing.html#indexing-view-versus-copy\n",
      "  \"\"\"\n"
     ]
    }
   ],
   "source": [
    "#=================================================-\n",
    "#### Slide 25: Imputation using regression  ####\n",
    "\n",
    "# Impute the monthly rent with predicted target value.\n",
    "test_subset['monthly_rent'] = y_pred\n",
    "\n",
    "# Concatenate training and test data.\n",
    "imputed_df = pd.concat([train_subset, test_subset])\n",
    "\n",
    "# Split X and y to predict our poverty level now.\n",
    "imputed_X = imputed_df.drop(['Target', 'Target_binary'], axis = 1)\n",
    "imputed_y = imputed_df.Target_binary\n",
    "\n"
   ]
  },
  {
   "cell_type": "code",
   "execution_count": 16,
   "metadata": {},
   "outputs": [
    {
     "name": "stdout",
     "output_type": "stream",
     "text": [
      "0.648186889818689\n"
     ]
    },
    {
     "data": {
      "text/html": [
       "<div>\n",
       "<style scoped>\n",
       "    .dataframe tbody tr th:only-of-type {\n",
       "        vertical-align: middle;\n",
       "    }\n",
       "\n",
       "    .dataframe tbody tr th {\n",
       "        vertical-align: top;\n",
       "    }\n",
       "\n",
       "    .dataframe thead th {\n",
       "        text-align: right;\n",
       "    }\n",
       "</style>\n",
       "<table border=\"1\" class=\"dataframe\">\n",
       "  <thead>\n",
       "    <tr style=\"text-align: right;\">\n",
       "      <th></th>\n",
       "      <th>dataset_name</th>\n",
       "      <th>model_name</th>\n",
       "      <th>model_metric</th>\n",
       "      <th>metric_value</th>\n",
       "    </tr>\n",
       "  </thead>\n",
       "  <tbody>\n",
       "    <tr>\n",
       "      <th>0</th>\n",
       "      <td>Costa_rica</td>\n",
       "      <td>baseline_model</td>\n",
       "      <td>accuracy</td>\n",
       "      <td>0.762901</td>\n",
       "    </tr>\n",
       "    <tr>\n",
       "      <th>1</th>\n",
       "      <td>Costa_rica</td>\n",
       "      <td>na_imputation_regression</td>\n",
       "      <td>accuracy</td>\n",
       "      <td>0.648187</td>\n",
       "    </tr>\n",
       "  </tbody>\n",
       "</table>\n",
       "</div>"
      ],
      "text/plain": [
       "  dataset_name                model_name model_metric  metric_value\n",
       "0   Costa_rica            baseline_model     accuracy      0.762901\n",
       "1   Costa_rica  na_imputation_regression     accuracy      0.648187"
      ]
     },
     "execution_count": 16,
     "metadata": {},
     "output_type": "execute_result"
    }
   ],
   "source": [
    "#=================================================-\n",
    "#### Slide 26: Model performance after imputation  ####\n",
    "\n",
    "accuracy2 = logistic_model(imputed_X,imputed_y)\n",
    "print(accuracy2)\n",
    "s = pd.Series(['Costa_rica', 'na_imputation_regression', 'accuracy', accuracy2], index = ['dataset_name', 'model_name', 'model_metric', 'metric_value'])\n",
    "performance_df = performance_df.append(s, ignore_index = True)\n",
    "performance_df\n",
    "\n"
   ]
  },
  {
   "cell_type": "code",
   "execution_count": 17,
   "metadata": {},
   "outputs": [],
   "source": [
    "#=================================================-\n",
    "#### Slide 29: NA imputation with median  ####\n",
    "\n",
    "costa_rica['monthly_rent'].isnull().value_counts()\n",
    "costa_rica['monthly_rent'].fillna(costa_rica['monthly_rent'].median(), inplace = True)\n",
    "x = pd.concat([x, costa_rica['monthly_rent']], axis = 1)\n",
    "\n"
   ]
  },
  {
   "cell_type": "code",
   "execution_count": 18,
   "metadata": {},
   "outputs": [
    {
     "data": {
      "text/html": [
       "<div>\n",
       "<style scoped>\n",
       "    .dataframe tbody tr th:only-of-type {\n",
       "        vertical-align: middle;\n",
       "    }\n",
       "\n",
       "    .dataframe tbody tr th {\n",
       "        vertical-align: top;\n",
       "    }\n",
       "\n",
       "    .dataframe thead th {\n",
       "        text-align: right;\n",
       "    }\n",
       "</style>\n",
       "<table border=\"1\" class=\"dataframe\">\n",
       "  <thead>\n",
       "    <tr style=\"text-align: right;\">\n",
       "      <th></th>\n",
       "      <th>dataset_name</th>\n",
       "      <th>model_name</th>\n",
       "      <th>model_metric</th>\n",
       "      <th>metric_value</th>\n",
       "    </tr>\n",
       "  </thead>\n",
       "  <tbody>\n",
       "    <tr>\n",
       "      <th>0</th>\n",
       "      <td>Costa_rica</td>\n",
       "      <td>baseline_model</td>\n",
       "      <td>accuracy</td>\n",
       "      <td>0.762901</td>\n",
       "    </tr>\n",
       "    <tr>\n",
       "      <th>1</th>\n",
       "      <td>Costa_rica</td>\n",
       "      <td>na_imputation_regression</td>\n",
       "      <td>accuracy</td>\n",
       "      <td>0.648187</td>\n",
       "    </tr>\n",
       "    <tr>\n",
       "      <th>2</th>\n",
       "      <td>Costa_rica</td>\n",
       "      <td>na_imputation_median</td>\n",
       "      <td>accuracy</td>\n",
       "      <td>0.632845</td>\n",
       "    </tr>\n",
       "  </tbody>\n",
       "</table>\n",
       "</div>"
      ],
      "text/plain": [
       "  dataset_name                model_name model_metric  metric_value\n",
       "0   Costa_rica            baseline_model     accuracy      0.762901\n",
       "1   Costa_rica  na_imputation_regression     accuracy      0.648187\n",
       "2   Costa_rica      na_imputation_median     accuracy      0.632845"
      ]
     },
     "execution_count": 18,
     "metadata": {},
     "output_type": "execute_result"
    }
   ],
   "source": [
    "#=================================================-\n",
    "#### Slide 30: Model on NA imputed data  ####\n",
    "\n",
    "accuracy3 = logistic_model(x,y)\n",
    "accuracy3\n",
    "s = pd.Series(['Costa_rica', 'na_imputation_median', 'accuracy', accuracy3], index=['dataset_name', 'model_name', 'model_metric', 'metric_value'])\n",
    "performance_df = performance_df.append(s, ignore_index = True)\n",
    "performance_df\n",
    "\n"
   ]
  },
  {
   "cell_type": "code",
   "execution_count": 19,
   "metadata": {},
   "outputs": [
    {
     "data": {
      "text/plain": [
       "<matplotlib.axes._subplots.AxesSubplot at 0x1a1db1eef0>"
      ]
     },
     "execution_count": 19,
     "metadata": {},
     "output_type": "execute_result"
    },
    {
     "data": {
      "image/png": "[encoded data removed]",
      "text/plain": [
       "<Figure size 432x288 with 1 Axes>"
      ]
     },
     "metadata": {
      "needs_background": "light"
     },
     "output_type": "display_data"
    }
   ],
   "source": [
    "x['age'].hist()"
   ]
  },
  {
   "cell_type": "code",
   "execution_count": 20,
   "metadata": {},
   "outputs": [
    {
     "data": {
      "text/plain": [
       "<matplotlib.axes._subplots.AxesSubplot at 0x1a1ee708d0>"
      ]
     },
     "execution_count": 20,
     "metadata": {},
     "output_type": "execute_result"
    },
    {
     "data": {
      "image/png": "[encoded data removed]",
      "text/plain": [
       "<Figure size 432x288 with 1 Axes>"
      ]
     },
     "metadata": {
      "needs_background": "light"
     },
     "output_type": "display_data"
    }
   ],
   "source": [
    "x['years_of_schooling'].hist()"
   ]
  },
  {
   "cell_type": "code",
   "execution_count": 21,
   "metadata": {},
   "outputs": [
    {
     "data": {
      "text/plain": [
       "Index(['rooms', 'males_tot', 'females_tot', 'num_child', 'num_adults',\n",
       "       'num_65plus', 'dependency_rate', 'male_hh_head_educ',\n",
       "       'female_hh_head_educ', 'meaneduc', 'bedrooms', 'ppl_per_room',\n",
       "       'num_mobilephones', 'age', 'school_1'],\n",
       "      dtype='object')"
      ]
     },
     "execution_count": 21,
     "metadata": {},
     "output_type": "execute_result"
    }
   ],
   "source": [
    "#=================================================-\n",
    "#### Slide 33: Binning a variable in our data  ####\n",
    "\n",
    "# Bin the variables.\n",
    "x['school_category'] = pd.cut(x.years_of_schooling, [-1,10,25], labels = [\"less_than_10\", \"more_than_10\"])\n",
    "\n",
    "# Add the school category as one of the variables.\n",
    "x['school_category'] = x['school_category'].cat.codes\n",
    "school_cat = pd.get_dummies(x['school_category'], prefix = 'school', drop_first = True)\n",
    "x = pd.concat([x, school_cat], axis = 1)\n",
    "\n",
    "# Drop the monthly rent and years of schooling variables.\n",
    "x.drop(['years_of_schooling', 'monthly_rent', 'school_category'], axis = 1, inplace = True)\n",
    "x.columns\n",
    "\n"
   ]
  },
  {
   "cell_type": "code",
   "execution_count": 22,
   "metadata": {},
   "outputs": [
    {
     "name": "stdout",
     "output_type": "stream",
     "text": [
      "0.7639470013947002\n"
     ]
    },
    {
     "data": {
      "text/html": [
       "<div>\n",
       "<style scoped>\n",
       "    .dataframe tbody tr th:only-of-type {\n",
       "        vertical-align: middle;\n",
       "    }\n",
       "\n",
       "    .dataframe tbody tr th {\n",
       "        vertical-align: top;\n",
       "    }\n",
       "\n",
       "    .dataframe thead th {\n",
       "        text-align: right;\n",
       "    }\n",
       "</style>\n",
       "<table border=\"1\" class=\"dataframe\">\n",
       "  <thead>\n",
       "    <tr style=\"text-align: right;\">\n",
       "      <th></th>\n",
       "      <th>dataset_name</th>\n",
       "      <th>model_name</th>\n",
       "      <th>model_metric</th>\n",
       "      <th>metric_value</th>\n",
       "    </tr>\n",
       "  </thead>\n",
       "  <tbody>\n",
       "    <tr>\n",
       "      <th>0</th>\n",
       "      <td>Costa_rica</td>\n",
       "      <td>baseline_model</td>\n",
       "      <td>accuracy</td>\n",
       "      <td>0.762901</td>\n",
       "    </tr>\n",
       "    <tr>\n",
       "      <th>1</th>\n",
       "      <td>Costa_rica</td>\n",
       "      <td>na_imputation_regression</td>\n",
       "      <td>accuracy</td>\n",
       "      <td>0.648187</td>\n",
       "    </tr>\n",
       "    <tr>\n",
       "      <th>2</th>\n",
       "      <td>Costa_rica</td>\n",
       "      <td>na_imputation_median</td>\n",
       "      <td>accuracy</td>\n",
       "      <td>0.632845</td>\n",
       "    </tr>\n",
       "    <tr>\n",
       "      <th>3</th>\n",
       "      <td>Costa_rica</td>\n",
       "      <td>binning</td>\n",
       "      <td>accuracy</td>\n",
       "      <td>0.763947</td>\n",
       "    </tr>\n",
       "  </tbody>\n",
       "</table>\n",
       "</div>"
      ],
      "text/plain": [
       "  dataset_name                model_name model_metric  metric_value\n",
       "0   Costa_rica            baseline_model     accuracy      0.762901\n",
       "1   Costa_rica  na_imputation_regression     accuracy      0.648187\n",
       "2   Costa_rica      na_imputation_median     accuracy      0.632845\n",
       "3   Costa_rica                   binning     accuracy      0.763947"
      ]
     },
     "execution_count": 22,
     "metadata": {},
     "output_type": "execute_result"
    }
   ],
   "source": [
    "#=================================================-\n",
    "#### Slide 34: Model performance after binning  ####\n",
    "\n",
    "accuracy4 = logistic_model(x,y)\n",
    "print(accuracy4)\n",
    "s = pd.Series(['Costa_rica', 'binning', 'accuracy', accuracy4], index=['dataset_name', 'model_name', 'model_metric', 'metric_value'])\n",
    "performance_df = performance_df.append(s, ignore_index = True)\n",
    "performance_df\n",
    "\n"
   ]
  },
  {
   "cell_type": "code",
   "execution_count": 23,
   "metadata": {},
   "outputs": [],
   "source": [
    "#=================================================-\n",
    "#### Slide 36: Exercise 2  ####\n",
    "\n",
    "\n",
    "\n"
   ]
  },
  {
   "cell_type": "code",
   "execution_count": 24,
   "metadata": {},
   "outputs": [
    {
     "name": "stdout",
     "output_type": "stream",
     "text": [
      "  household_id  married  separated  single\n",
      "0    21eb7fcc1        0          0       0\n",
      "1    0e5d7a658        0          0       0\n",
      "2    2c7317ea8        0          0       0\n",
      "3    2b58d945f        0          0       1\n",
      "4    2b58d945f        0          0       0\n",
      "  household_id  married  separated  single\n",
      "0    001ff74ca        0          1       0\n",
      "1    003123ec2        0          0       0\n",
      "2    004616164        0          0       1\n",
      "3    004983866        0          0       1\n",
      "4    005905417        0          1       1\n"
     ]
    }
   ],
   "source": [
    "#=================================================-\n",
    "#### Slide 40: Additional features for model 1  ####\n",
    "\n",
    "cat_count_subset = costa_rica[['household_id', 'married', 'separated', 'single']]\n",
    "print(cat_count_subset.head())\n",
    "count_grouped = cat_count_subset.groupby(['household_id']).sum()\n",
    "count_grouped.reset_index(inplace = True)\n",
    "print(count_grouped.head())\n"
   ]
  },
  {
   "cell_type": "code",
   "execution_count": 25,
   "metadata": {},
   "outputs": [],
   "source": [
    "#=================================================-\n",
    "#### Slide 41: View the additional features  ####\n",
    "# Add the features to our model subset.\n",
    "x = pd.concat([x, costa_rica['household_id']], axis = 1)          #<- add household id to X to find the match\n",
    "x = pd.merge(x, count_grouped, how = 'left', on = 'household_id') #<- merge on household id"
   ]
  },
  {
   "cell_type": "code",
   "execution_count": 26,
   "metadata": {},
   "outputs": [
    {
     "name": "stdout",
     "output_type": "stream",
     "text": [
      "Index(['rooms', 'males_tot', 'females_tot', 'num_child', 'num_adults',\n",
      "       'num_65plus', 'dependency_rate', 'male_hh_head_educ',\n",
      "       'female_hh_head_educ', 'meaneduc', 'bedrooms', 'ppl_per_room',\n",
      "       'num_mobilephones', 'age', 'school_1', 'married', 'separated',\n",
      "       'single'],\n",
      "      dtype='object')\n"
     ]
    }
   ],
   "source": [
    "x.drop(['household_id'], axis = 1, inplace = True)                #<- drop household id\n",
    "print(x.columns)"
   ]
  },
  {
   "cell_type": "code",
   "execution_count": 27,
   "metadata": {},
   "outputs": [
    {
     "data": {
      "text/plain": [
       "Index(['household_id', 'ind_id', 'rooms', 'tablet', 'males_under_12',\n",
       "       'males_over_12', 'males_tot', 'females_under_12', 'females_over_12',\n",
       "       'females_tot', 'ppl_under_12', 'ppl_over_12', 'ppl_total',\n",
       "       'years_of_schooling', 'wall_block_brick', 'wall_socket',\n",
       "       'wall_prefab_cement', 'wall_wood', 'floor_mos_cer_terr', 'floor_cement',\n",
       "       'floor_wood', 'ceiling', 'electric_public', 'electric_coop',\n",
       "       'toilet_sewer', 'toilet_septic', 'cookenergy_elec', 'cookenergy_gas',\n",
       "       'trash_truck', 'trash_burn', 'wall_bad', 'wall_reg', 'wall_good',\n",
       "       'roof_bad', 'roof_reg', 'roof_good', 'floor_bad', 'floor_reg',\n",
       "       'floor_good', 'disabled_ppl', 'male', 'female', 'under10', 'free',\n",
       "       'married', 'separated', 'single', 'hh_head', 'hh_spouse', 'hh_child',\n",
       "       'num_child', 'num_adults', 'num_65plus', 'num_hh_total',\n",
       "       'dependency_rate', 'male_hh_head_educ', 'female_hh_head_educ',\n",
       "       'meaneduc', 'educ_none', 'educ_primary_inc', 'educ_primary',\n",
       "       'educ_secondary_inc', 'educ_secondary', 'educ_undergrad', 'bedrooms',\n",
       "       'ppl_per_room', 'house_owned_full', 'house_owned_paying',\n",
       "       'house_rented', 'house_other', 'computer', 'television',\n",
       "       'num_mobilephones', 'region_central', 'region_Chorotega',\n",
       "       'region_pacifico', 'region_brunca', 'region_antlantica',\n",
       "       'region_huetar', 'urban_zone', 'rural_zone', 'age', 'Target',\n",
       "       'monthly_rent'],\n",
       "      dtype='object')"
      ]
     },
     "execution_count": 27,
     "metadata": {},
     "output_type": "execute_result"
    }
   ],
   "source": [
    "costa_rica.columns"
   ]
  },
  {
   "cell_type": "code",
   "execution_count": 28,
   "metadata": {},
   "outputs": [
    {
     "name": "stdout",
     "output_type": "stream",
     "text": [
      "0.7656903765690377\n"
     ]
    },
    {
     "data": {
      "text/html": [
       "<div>\n",
       "<style scoped>\n",
       "    .dataframe tbody tr th:only-of-type {\n",
       "        vertical-align: middle;\n",
       "    }\n",
       "\n",
       "    .dataframe tbody tr th {\n",
       "        vertical-align: top;\n",
       "    }\n",
       "\n",
       "    .dataframe thead th {\n",
       "        text-align: right;\n",
       "    }\n",
       "</style>\n",
       "<table border=\"1\" class=\"dataframe\">\n",
       "  <thead>\n",
       "    <tr style=\"text-align: right;\">\n",
       "      <th></th>\n",
       "      <th>dataset_name</th>\n",
       "      <th>model_name</th>\n",
       "      <th>model_metric</th>\n",
       "      <th>metric_value</th>\n",
       "    </tr>\n",
       "  </thead>\n",
       "  <tbody>\n",
       "    <tr>\n",
       "      <th>0</th>\n",
       "      <td>Costa_rica</td>\n",
       "      <td>baseline_model</td>\n",
       "      <td>accuracy</td>\n",
       "      <td>0.762901</td>\n",
       "    </tr>\n",
       "    <tr>\n",
       "      <th>1</th>\n",
       "      <td>Costa_rica</td>\n",
       "      <td>na_imputation_regression</td>\n",
       "      <td>accuracy</td>\n",
       "      <td>0.648187</td>\n",
       "    </tr>\n",
       "    <tr>\n",
       "      <th>2</th>\n",
       "      <td>Costa_rica</td>\n",
       "      <td>na_imputation_median</td>\n",
       "      <td>accuracy</td>\n",
       "      <td>0.632845</td>\n",
       "    </tr>\n",
       "    <tr>\n",
       "      <th>3</th>\n",
       "      <td>Costa_rica</td>\n",
       "      <td>binning</td>\n",
       "      <td>accuracy</td>\n",
       "      <td>0.763947</td>\n",
       "    </tr>\n",
       "    <tr>\n",
       "      <th>4</th>\n",
       "      <td>Costa_rica</td>\n",
       "      <td>categorical_summary</td>\n",
       "      <td>accuracy</td>\n",
       "      <td>0.765690</td>\n",
       "    </tr>\n",
       "  </tbody>\n",
       "</table>\n",
       "</div>"
      ],
      "text/plain": [
       "  dataset_name                model_name model_metric  metric_value\n",
       "0   Costa_rica            baseline_model     accuracy      0.762901\n",
       "1   Costa_rica  na_imputation_regression     accuracy      0.648187\n",
       "2   Costa_rica      na_imputation_median     accuracy      0.632845\n",
       "3   Costa_rica                   binning     accuracy      0.763947\n",
       "4   Costa_rica       categorical_summary     accuracy      0.765690"
      ]
     },
     "execution_count": 28,
     "metadata": {},
     "output_type": "execute_result"
    }
   ],
   "source": [
    "#=================================================-\n",
    "#### Slide 42: Additional feature model 1  ####\n",
    "\n",
    "accuracy5 = logistic_model(x, y)\n",
    "print(accuracy5)\n",
    "s = pd.Series(['Costa_rica', 'categorical_summary', 'accuracy', accuracy5], index=['dataset_name', 'model_name', 'model_metric', 'metric_value'])\n",
    "performance_df = performance_df.append(s, ignore_index = True)\n",
    "performance_df\n",
    "\n"
   ]
  },
  {
   "cell_type": "code",
   "execution_count": 29,
   "metadata": {},
   "outputs": [
    {
     "data": {
      "text/html": [
       "<div>\n",
       "<style scoped>\n",
       "    .dataframe tbody tr th:only-of-type {\n",
       "        vertical-align: middle;\n",
       "    }\n",
       "\n",
       "    .dataframe tbody tr th {\n",
       "        vertical-align: top;\n",
       "    }\n",
       "\n",
       "    .dataframe thead th {\n",
       "        text-align: right;\n",
       "    }\n",
       "</style>\n",
       "<table border=\"1\" class=\"dataframe\">\n",
       "  <thead>\n",
       "    <tr style=\"text-align: right;\">\n",
       "      <th></th>\n",
       "      <th>household_id</th>\n",
       "      <th>school_min</th>\n",
       "      <th>school_max</th>\n",
       "      <th>school_mean</th>\n",
       "      <th>school_sum</th>\n",
       "      <th>age_min</th>\n",
       "      <th>age_max</th>\n",
       "      <th>age_mean</th>\n",
       "      <th>age_sum</th>\n",
       "    </tr>\n",
       "  </thead>\n",
       "  <tbody>\n",
       "    <tr>\n",
       "      <th>0</th>\n",
       "      <td>001ff74ca</td>\n",
       "      <td>0</td>\n",
       "      <td>16</td>\n",
       "      <td>8.000000</td>\n",
       "      <td>16</td>\n",
       "      <td>0</td>\n",
       "      <td>38</td>\n",
       "      <td>19.000000</td>\n",
       "      <td>38</td>\n",
       "    </tr>\n",
       "    <tr>\n",
       "      <th>1</th>\n",
       "      <td>003123ec2</td>\n",
       "      <td>0</td>\n",
       "      <td>7</td>\n",
       "      <td>3.250000</td>\n",
       "      <td>13</td>\n",
       "      <td>1</td>\n",
       "      <td>24</td>\n",
       "      <td>12.750000</td>\n",
       "      <td>51</td>\n",
       "    </tr>\n",
       "    <tr>\n",
       "      <th>2</th>\n",
       "      <td>004616164</td>\n",
       "      <td>3</td>\n",
       "      <td>11</td>\n",
       "      <td>7.000000</td>\n",
       "      <td>14</td>\n",
       "      <td>16</td>\n",
       "      <td>50</td>\n",
       "      <td>33.000000</td>\n",
       "      <td>66</td>\n",
       "    </tr>\n",
       "    <tr>\n",
       "      <th>3</th>\n",
       "      <td>004983866</td>\n",
       "      <td>7</td>\n",
       "      <td>8</td>\n",
       "      <td>7.500000</td>\n",
       "      <td>15</td>\n",
       "      <td>16</td>\n",
       "      <td>59</td>\n",
       "      <td>37.500000</td>\n",
       "      <td>75</td>\n",
       "    </tr>\n",
       "    <tr>\n",
       "      <th>4</th>\n",
       "      <td>005905417</td>\n",
       "      <td>0</td>\n",
       "      <td>9</td>\n",
       "      <td>5.666667</td>\n",
       "      <td>17</td>\n",
       "      <td>6</td>\n",
       "      <td>32</td>\n",
       "      <td>17.333333</td>\n",
       "      <td>52</td>\n",
       "    </tr>\n",
       "  </tbody>\n",
       "</table>\n",
       "</div>"
      ],
      "text/plain": [
       "  household_id  school_min  school_max  school_mean  school_sum  age_min  \\\n",
       "0    001ff74ca           0          16     8.000000          16        0   \n",
       "1    003123ec2           0           7     3.250000          13        1   \n",
       "2    004616164           3          11     7.000000          14       16   \n",
       "3    004983866           7           8     7.500000          15       16   \n",
       "4    005905417           0           9     5.666667          17        6   \n",
       "\n",
       "   age_max   age_mean  age_sum  \n",
       "0       38  19.000000       38  \n",
       "1       24  12.750000       51  \n",
       "2       50  33.000000       66  \n",
       "3       59  37.500000       75  \n",
       "4       32  17.333333       52  "
      ]
     },
     "execution_count": 29,
     "metadata": {},
     "output_type": "execute_result"
    }
   ],
   "source": [
    "#=================================================-\n",
    "#### Slide 43: Additional features for model 2  ####\n",
    "\n",
    "numerical_summary_subset = costa_rica[['household_id',\n",
    "                                       'years_of_schooling',\n",
    "                                       'age']]\n",
    "\n",
    "numerical_summary_subset = numerical_summary_subset.groupby(['household_id']).agg(['min', \n",
    "                                                                                   'max', \n",
    "                                                                                   'mean',\n",
    "                                                                                   'sum'])\n",
    "\n",
    "numerical_summary_subset.columns = ['school_min', \n",
    "                                    'school_max',\n",
    "                                    'school_mean', \n",
    "                                    'school_sum',\n",
    "                                    'age_min',\n",
    "                                    'age_max', \n",
    "                                    'age_mean',\n",
    "                                    'age_sum']\n",
    "\n",
    "numerical_summary_subset.reset_index(inplace = True)\n",
    "\n",
    "numerical_summary_subset.head()\n",
    "\n"
   ]
  },
  {
   "cell_type": "code",
   "execution_count": 30,
   "metadata": {},
   "outputs": [
    {
     "data": {
      "text/plain": [
       "Index(['rooms', 'males_tot', 'females_tot', 'num_child', 'num_adults',\n",
       "       'num_65plus', 'dependency_rate', 'male_hh_head_educ',\n",
       "       'female_hh_head_educ', 'meaneduc', 'bedrooms', 'ppl_per_room',\n",
       "       'num_mobilephones', 'age', 'school_1', 'school_min', 'school_max',\n",
       "       'school_mean', 'school_sum', 'age_min', 'age_max', 'age_mean',\n",
       "       'age_sum'],\n",
       "      dtype='object')"
      ]
     },
     "execution_count": 30,
     "metadata": {},
     "output_type": "execute_result"
    }
   ],
   "source": [
    "#=================================================-\n",
    "#### Slide 44: Add the additional features  ####\n",
    "\n",
    "x = pd.concat([x,\n",
    "               costa_rica['household_id']], \n",
    "              axis = 1)\n",
    "x = pd.merge(x,\n",
    "             numerical_summary_subset,\n",
    "             how = 'left', \n",
    "             on = 'household_id')\n",
    "x.drop(['household_id', \n",
    "        'married',\n",
    "        'separated',\n",
    "        'single'],\n",
    "       axis = 1,\n",
    "       inplace = True) #<- drop previous features\n",
    "x.columns\n",
    "\n"
   ]
  },
  {
   "cell_type": "code",
   "execution_count": 31,
   "metadata": {},
   "outputs": [
    {
     "name": "stdout",
     "output_type": "stream",
     "text": [
      "0.7709205020920502\n"
     ]
    },
    {
     "data": {
      "text/html": [
       "<div>\n",
       "<style scoped>\n",
       "    .dataframe tbody tr th:only-of-type {\n",
       "        vertical-align: middle;\n",
       "    }\n",
       "\n",
       "    .dataframe tbody tr th {\n",
       "        vertical-align: top;\n",
       "    }\n",
       "\n",
       "    .dataframe thead th {\n",
       "        text-align: right;\n",
       "    }\n",
       "</style>\n",
       "<table border=\"1\" class=\"dataframe\">\n",
       "  <thead>\n",
       "    <tr style=\"text-align: right;\">\n",
       "      <th></th>\n",
       "      <th>dataset_name</th>\n",
       "      <th>model_name</th>\n",
       "      <th>model_metric</th>\n",
       "      <th>metric_value</th>\n",
       "    </tr>\n",
       "  </thead>\n",
       "  <tbody>\n",
       "    <tr>\n",
       "      <th>0</th>\n",
       "      <td>Costa_rica</td>\n",
       "      <td>baseline_model</td>\n",
       "      <td>accuracy</td>\n",
       "      <td>0.762901</td>\n",
       "    </tr>\n",
       "    <tr>\n",
       "      <th>1</th>\n",
       "      <td>Costa_rica</td>\n",
       "      <td>na_imputation_regression</td>\n",
       "      <td>accuracy</td>\n",
       "      <td>0.648187</td>\n",
       "    </tr>\n",
       "    <tr>\n",
       "      <th>2</th>\n",
       "      <td>Costa_rica</td>\n",
       "      <td>na_imputation_median</td>\n",
       "      <td>accuracy</td>\n",
       "      <td>0.632845</td>\n",
       "    </tr>\n",
       "    <tr>\n",
       "      <th>3</th>\n",
       "      <td>Costa_rica</td>\n",
       "      <td>binning</td>\n",
       "      <td>accuracy</td>\n",
       "      <td>0.763947</td>\n",
       "    </tr>\n",
       "    <tr>\n",
       "      <th>4</th>\n",
       "      <td>Costa_rica</td>\n",
       "      <td>categorical_summary</td>\n",
       "      <td>accuracy</td>\n",
       "      <td>0.765690</td>\n",
       "    </tr>\n",
       "    <tr>\n",
       "      <th>5</th>\n",
       "      <td>Costa_rica</td>\n",
       "      <td>numerical_summary</td>\n",
       "      <td>accuracy</td>\n",
       "      <td>0.770921</td>\n",
       "    </tr>\n",
       "  </tbody>\n",
       "</table>\n",
       "</div>"
      ],
      "text/plain": [
       "  dataset_name                model_name model_metric  metric_value\n",
       "0   Costa_rica            baseline_model     accuracy      0.762901\n",
       "1   Costa_rica  na_imputation_regression     accuracy      0.648187\n",
       "2   Costa_rica      na_imputation_median     accuracy      0.632845\n",
       "3   Costa_rica                   binning     accuracy      0.763947\n",
       "4   Costa_rica       categorical_summary     accuracy      0.765690\n",
       "5   Costa_rica         numerical_summary     accuracy      0.770921"
      ]
     },
     "execution_count": 31,
     "metadata": {},
     "output_type": "execute_result"
    }
   ],
   "source": [
    "#=================================================-\n",
    "#### Slide 45: Additional feature model 2  ####\n",
    "\n",
    "accuracy6 = logistic_model(x,y)\n",
    "print(accuracy6)\n",
    "s = pd.Series(['Costa_rica', 'numerical_summary', 'accuracy', accuracy6], index=['dataset_name', 'model_name', 'model_metric', 'metric_value'])\n",
    "performance_df = performance_df.append(s, ignore_index = True)\n",
    "performance_df\n",
    "\n"
   ]
  },
  {
   "cell_type": "code",
   "execution_count": 34,
   "metadata": {},
   "outputs": [],
   "source": [
    "#=================================================-\n",
    "#### Slide 46: Additional feature model 3  ####\n",
    "\n",
    "costa_rica['male_per_room'] = costa_rica['males_tot'] / costa_rica['rooms']\n",
    "costa_rica['female_per_room'] = costa_rica['females_tot'] / costa_rica['rooms']\n",
    "costa_rica['room_per_person'] = costa_rica['rooms'] / costa_rica['ppl_total']\n",
    "costa_rica['bed_per_room'] = costa_rica['bedrooms'] / costa_rica['rooms']\n",
    "\n"
   ]
  },
  {
   "cell_type": "code",
   "execution_count": 37,
   "metadata": {},
   "outputs": [],
   "source": [
    "#=================================================-\n",
    "#### Slide 48: Additional feature model 3  ####\n",
    "\n",
    "costa_rica['wall'] = np.argmax(np.array(costa_rica[['wall_bad', 'wall_reg', 'wall_good']]), axis = 1)\n",
    "costa_rica['roof'] = np.argmax(np.array(costa_rica[['roof_bad', 'roof_reg', 'roof_good']]), axis = 1)\n",
    "costa_rica['floor'] = np.argmax(np.array(costa_rica[['floor_bad', 'floor_reg', 'floor_good']]), axis = 1)\n",
    "costa_rica['house_condition'] = costa_rica['wall'] + costa_rica['roof'] + costa_rica['floor']\n",
    "costa_rica[['wall', 'roof', 'floor', 'house_condition']].head()\n",
    "x = pd.concat([x, costa_rica['house_condition'], costa_rica['male_per_room'], costa_rica['female_per_room'],\n",
    "costa_rica['room_per_person'], costa_rica['bed_per_room']], axis = 1)\n",
    "\n"
   ]
  },
  {
   "cell_type": "code",
   "execution_count": 39,
   "metadata": {},
   "outputs": [
    {
     "name": "stdout",
     "output_type": "stream",
     "text": [
      "0.7695258019525802\n"
     ]
    },
    {
     "data": {
      "text/html": [
       "<div>\n",
       "<style scoped>\n",
       "    .dataframe tbody tr th:only-of-type {\n",
       "        vertical-align: middle;\n",
       "    }\n",
       "\n",
       "    .dataframe tbody tr th {\n",
       "        vertical-align: top;\n",
       "    }\n",
       "\n",
       "    .dataframe thead th {\n",
       "        text-align: right;\n",
       "    }\n",
       "</style>\n",
       "<table border=\"1\" class=\"dataframe\">\n",
       "  <thead>\n",
       "    <tr style=\"text-align: right;\">\n",
       "      <th></th>\n",
       "      <th>dataset_name</th>\n",
       "      <th>model_name</th>\n",
       "      <th>model_metric</th>\n",
       "      <th>metric_value</th>\n",
       "    </tr>\n",
       "  </thead>\n",
       "  <tbody>\n",
       "    <tr>\n",
       "      <th>0</th>\n",
       "      <td>Costa_rica</td>\n",
       "      <td>baseline_model</td>\n",
       "      <td>accuracy</td>\n",
       "      <td>0.762901</td>\n",
       "    </tr>\n",
       "    <tr>\n",
       "      <th>1</th>\n",
       "      <td>Costa_rica</td>\n",
       "      <td>na_imputation_regression</td>\n",
       "      <td>accuracy</td>\n",
       "      <td>0.648187</td>\n",
       "    </tr>\n",
       "    <tr>\n",
       "      <th>2</th>\n",
       "      <td>Costa_rica</td>\n",
       "      <td>na_imputation_median</td>\n",
       "      <td>accuracy</td>\n",
       "      <td>0.632845</td>\n",
       "    </tr>\n",
       "    <tr>\n",
       "      <th>3</th>\n",
       "      <td>Costa_rica</td>\n",
       "      <td>binning</td>\n",
       "      <td>accuracy</td>\n",
       "      <td>0.763947</td>\n",
       "    </tr>\n",
       "    <tr>\n",
       "      <th>4</th>\n",
       "      <td>Costa_rica</td>\n",
       "      <td>categorical_summary</td>\n",
       "      <td>accuracy</td>\n",
       "      <td>0.765690</td>\n",
       "    </tr>\n",
       "    <tr>\n",
       "      <th>5</th>\n",
       "      <td>Costa_rica</td>\n",
       "      <td>numerical_summary</td>\n",
       "      <td>accuracy</td>\n",
       "      <td>0.770921</td>\n",
       "    </tr>\n",
       "    <tr>\n",
       "      <th>6</th>\n",
       "      <td>Costa_rica</td>\n",
       "      <td>additional_features</td>\n",
       "      <td>accuracy</td>\n",
       "      <td>0.769526</td>\n",
       "    </tr>\n",
       "  </tbody>\n",
       "</table>\n",
       "</div>"
      ],
      "text/plain": [
       "  dataset_name                model_name model_metric  metric_value\n",
       "0   Costa_rica            baseline_model     accuracy      0.762901\n",
       "1   Costa_rica  na_imputation_regression     accuracy      0.648187\n",
       "2   Costa_rica      na_imputation_median     accuracy      0.632845\n",
       "3   Costa_rica                   binning     accuracy      0.763947\n",
       "4   Costa_rica       categorical_summary     accuracy      0.765690\n",
       "5   Costa_rica         numerical_summary     accuracy      0.770921\n",
       "6   Costa_rica       additional_features     accuracy      0.769526"
      ]
     },
     "execution_count": 39,
     "metadata": {},
     "output_type": "execute_result"
    }
   ],
   "source": [
    "#=================================================-\n",
    "#### Slide 49: Additional feature model 3  ####\n",
    "\n",
    "accuracy7 = logistic_model(x,y)\n",
    "print(accuracy7)\n",
    "s = pd.Series(['Costa_rica', 'additional_features', 'accuracy', accuracy7], index=['dataset_name', 'model_name', 'model_metric', 'metric_value'])\n",
    "performance_df = performance_df.append(s, ignore_index = True)\n",
    "performance_df\n",
    "\n"
   ]
  },
  {
   "cell_type": "code",
   "execution_count": 40,
   "metadata": {},
   "outputs": [],
   "source": [
    "#=================================================-\n",
    "#### Slide 52: Feature engineering in Costa Rica data  ####\n",
    "\n",
    "dummy_columns = ['urban_zone',\n",
    "                 'rural_zone',\n",
    "                 'tablet',\n",
    "                 'house_rented', \n",
    "                 'computer', \n",
    "                 'television']\n",
    "\n",
    "for i in range(0, len(dummy_columns)):\n",
    "    colname = \"df_\" + str(i)\n",
    "    costa_rica[dummy_columns[i]] = pd.Categorical(costa_rica[dummy_columns[i]])\n",
    "    costa_rica[dummy_columns[i]] = costa_rica[dummy_columns[i]].cat.codes\n",
    "    colname = pd.get_dummies(costa_rica[dummy_columns[i]], prefix = (str(dummy_columns[i])), drop_first = True)\n",
    "    x = pd.concat([x, colname], axis = 1)\n",
    "\n"
   ]
  },
  {
   "cell_type": "code",
   "execution_count": 41,
   "metadata": {},
   "outputs": [
    {
     "data": {
      "text/plain": [
       "Index(['rooms', 'males_tot', 'females_tot', 'num_child', 'num_adults',\n",
       "       'num_65plus', 'dependency_rate', 'male_hh_head_educ',\n",
       "       'female_hh_head_educ', 'meaneduc', 'bedrooms', 'ppl_per_room',\n",
       "       'num_mobilephones', 'age', 'school_1', 'school_min', 'school_max',\n",
       "       'school_mean', 'school_sum', 'age_min', 'age_max', 'age_mean',\n",
       "       'age_sum', 'urban_zone_1', 'rural_zone_1', 'tablet_1', 'house_rented_1',\n",
       "       'computer_1', 'television_1'],\n",
       "      dtype='object')"
      ]
     },
     "execution_count": 41,
     "metadata": {},
     "output_type": "execute_result"
    }
   ],
   "source": [
    "#=================================================-\n",
    "#### Slide 53: View the features  ####\n",
    "\n",
    "x = x.drop(['house_condition',\n",
    "            'male_per_room',\n",
    "            'female_per_room',\n",
    "            'room_per_person', \n",
    "            'bed_per_room'], axis = 1)\n",
    "\n",
    "x.columns\n",
    "\n"
   ]
  },
  {
   "cell_type": "code",
   "execution_count": 43,
   "metadata": {},
   "outputs": [
    {
     "name": "stdout",
     "output_type": "stream",
     "text": [
      "0.7785913528591353\n"
     ]
    },
    {
     "data": {
      "text/html": [
       "<div>\n",
       "<style scoped>\n",
       "    .dataframe tbody tr th:only-of-type {\n",
       "        vertical-align: middle;\n",
       "    }\n",
       "\n",
       "    .dataframe tbody tr th {\n",
       "        vertical-align: top;\n",
       "    }\n",
       "\n",
       "    .dataframe thead th {\n",
       "        text-align: right;\n",
       "    }\n",
       "</style>\n",
       "<table border=\"1\" class=\"dataframe\">\n",
       "  <thead>\n",
       "    <tr style=\"text-align: right;\">\n",
       "      <th></th>\n",
       "      <th>dataset_name</th>\n",
       "      <th>model_name</th>\n",
       "      <th>model_metric</th>\n",
       "      <th>metric_value</th>\n",
       "    </tr>\n",
       "  </thead>\n",
       "  <tbody>\n",
       "    <tr>\n",
       "      <th>0</th>\n",
       "      <td>Costa_rica</td>\n",
       "      <td>baseline_model</td>\n",
       "      <td>accuracy</td>\n",
       "      <td>0.762901</td>\n",
       "    </tr>\n",
       "    <tr>\n",
       "      <th>1</th>\n",
       "      <td>Costa_rica</td>\n",
       "      <td>na_imputation_regression</td>\n",
       "      <td>accuracy</td>\n",
       "      <td>0.648187</td>\n",
       "    </tr>\n",
       "    <tr>\n",
       "      <th>2</th>\n",
       "      <td>Costa_rica</td>\n",
       "      <td>na_imputation_median</td>\n",
       "      <td>accuracy</td>\n",
       "      <td>0.632845</td>\n",
       "    </tr>\n",
       "    <tr>\n",
       "      <th>3</th>\n",
       "      <td>Costa_rica</td>\n",
       "      <td>binning</td>\n",
       "      <td>accuracy</td>\n",
       "      <td>0.763947</td>\n",
       "    </tr>\n",
       "    <tr>\n",
       "      <th>4</th>\n",
       "      <td>Costa_rica</td>\n",
       "      <td>categorical_summary</td>\n",
       "      <td>accuracy</td>\n",
       "      <td>0.765690</td>\n",
       "    </tr>\n",
       "    <tr>\n",
       "      <th>5</th>\n",
       "      <td>Costa_rica</td>\n",
       "      <td>numerical_summary</td>\n",
       "      <td>accuracy</td>\n",
       "      <td>0.770921</td>\n",
       "    </tr>\n",
       "    <tr>\n",
       "      <th>6</th>\n",
       "      <td>Costa_rica</td>\n",
       "      <td>additional_features</td>\n",
       "      <td>accuracy</td>\n",
       "      <td>0.769526</td>\n",
       "    </tr>\n",
       "    <tr>\n",
       "      <th>7</th>\n",
       "      <td>Costa_rica</td>\n",
       "      <td>dummy_encoding</td>\n",
       "      <td>accuracy</td>\n",
       "      <td>0.778591</td>\n",
       "    </tr>\n",
       "  </tbody>\n",
       "</table>\n",
       "</div>"
      ],
      "text/plain": [
       "  dataset_name                model_name model_metric  metric_value\n",
       "0   Costa_rica            baseline_model     accuracy      0.762901\n",
       "1   Costa_rica  na_imputation_regression     accuracy      0.648187\n",
       "2   Costa_rica      na_imputation_median     accuracy      0.632845\n",
       "3   Costa_rica                   binning     accuracy      0.763947\n",
       "4   Costa_rica       categorical_summary     accuracy      0.765690\n",
       "5   Costa_rica         numerical_summary     accuracy      0.770921\n",
       "6   Costa_rica       additional_features     accuracy      0.769526\n",
       "7   Costa_rica            dummy_encoding     accuracy      0.778591"
      ]
     },
     "execution_count": 43,
     "metadata": {},
     "output_type": "execute_result"
    }
   ],
   "source": [
    "#=================================================-\n",
    "#### Slide 54: Model after adding dummy variables  ####\n",
    "\n",
    "accuracy8 = logistic_model(x, y)\n",
    "print(accuracy8)\n",
    "s = pd.Series(['Costa_rica', 'dummy_encoding', 'accuracy', accuracy8], index = ['dataset_name', 'model_name', 'model_metric', 'metric_value'])\n",
    "performance_df = performance_df.append(s, ignore_index = True)\n",
    "performance_df\n",
    "\n"
   ]
  },
  {
   "cell_type": "code",
   "execution_count": null,
   "metadata": {},
   "outputs": [],
   "source": [
    "#=================================================-\n",
    "#### Slide 57: Exercise 3  ####\n",
    "\n",
    "\n",
    "\n"
   ]
  },
  {
   "cell_type": "code",
   "execution_count": null,
   "metadata": {},
   "outputs": [],
   "source": [
    "#=================================================-\n",
    "#### Slide 60: Data set for date features  ####\n",
    "\n",
    "occupancy_data = pd.read_csv('occupancy_data.csv')\n",
    "occupancy_data.head()"
   ]
  },
  {
   "cell_type": "code",
   "execution_count": null,
   "metadata": {},
   "outputs": [],
   "source": [
    "#=================================================-\n",
    "#### Slide 61: Data set for date features  ####\n",
    "\n",
    "occupancy_data.info()\n",
    "\n"
   ]
  },
  {
   "cell_type": "code",
   "execution_count": null,
   "metadata": {},
   "outputs": [],
   "source": [
    "#=================================================-\n",
    "#### Slide 62: Baseline model for comparison  ####\n",
    "\n",
    "occupancy_X = occupancy_data.drop(['date', 'Occupancy'], axis = 1)\n",
    "occupancy_y = occupancy_data.Occupancy\n",
    "\n",
    "accuracy9 = logistic_model(occupancy_X, occupancy_y)\n",
    "print(accuracy9)\n",
    "s = pd.Series(['Occupancy', 'occupancy_baseline', 'accuracy', accuracy9], index = ['dataset_name', 'model_name', 'model_metric', 'metric_value'])\n",
    "performance_df = performance_df.append(s, ignore_index = True)\n",
    "performance_df\n",
    "\n"
   ]
  },
  {
   "cell_type": "code",
   "execution_count": null,
   "metadata": {},
   "outputs": [],
   "source": [
    "#=================================================-\n",
    "#### Slide 63: Extract date features   ####\n",
    "\n",
    "occupancy_data['date'] = pd.to_datetime(occupancy_data['date'], format = '%d/%m/%y %H:%M')\n",
    "occupancy_data['day'] = occupancy_data['date'].dt.day\n",
    "occupancy_data['month'] = occupancy_data['date'].dt.month\n",
    "occupancy_data['year'] = occupancy_data['date'].dt.year\n",
    "occupancy_data['hour'] = occupancy_data['date'].dt.hour\n",
    "occupancy_data['minute'] = occupancy_data['date'].dt.minute\n",
    "\n"
   ]
  },
  {
   "cell_type": "code",
   "execution_count": null,
   "metadata": {},
   "outputs": [],
   "source": [
    "#=================================================-\n",
    "#### Slide 64: Frequency table of date features  ####\n",
    "\n",
    "occupancy_data.year.value_counts()\n",
    "occupancy_data.month.value_counts()\n",
    "occupancy_data.day.value_counts()\n",
    "\n"
   ]
  },
  {
   "cell_type": "code",
   "execution_count": null,
   "metadata": {},
   "outputs": [],
   "source": [
    "#=================================================-\n",
    "#### Slide 65: Add date features to model data  ####\n",
    "\n",
    "dummy_columns = ['hour', 'month']\n",
    "\n",
    "for i in range(0, len(dummy_columns)):\n",
    "    colname = \"df_\" + str(i)\n",
    "    occupancy_data[dummy_columns[i]] = pd.Categorical(occupancy_data[dummy_columns[i]])\n",
    "    occupancy_data[dummy_columns[i]] = occupancy_data[dummy_columns[i]].cat.codes\n",
    "    colname = pd.get_dummies(occupancy_data[dummy_columns[i]], prefix = (str(dummy_columns[i])), drop_first = True)\n",
    "    occupancy_data = pd.concat([occupancy_data, colname], axis = 1)\n",
    "    occupancy_X = occupancy_data.drop(['date', 'minute', 'day', 'year', 'hour', 'month'], axis = 1)\n",
    "\n"
   ]
  },
  {
   "cell_type": "code",
   "execution_count": null,
   "metadata": {},
   "outputs": [],
   "source": [
    "#=================================================-\n",
    "#### Slide 66: View the training data  ####\n",
    "\n",
    "occupancy_X.head()\n",
    "\n"
   ]
  },
  {
   "cell_type": "code",
   "execution_count": null,
   "metadata": {},
   "outputs": [],
   "source": [
    "#=================================================-\n",
    "#### Slide 67: Model the data and find accuracy  ####\n",
    "\n",
    "accuracy10 = logistic_model(occupancy_X, occupancy_y)\n",
    "print(accuracy10)\n",
    "s = pd.Series(['Occupancy', 'with_date_features', 'accuracy', accuracy10], index = ['dataset_name', 'model_name', 'model_metric', 'metric_value'])\n",
    "performance_df = performance_df.append(s, ignore_index = True)\n",
    "performance_df\n",
    "\n"
   ]
  }
 ],
 "metadata": {
  "kernelspec": {
   "display_name": "Python 3",
   "language": "python",
   "name": "python3"
  },
  "language": "python",
  "language_info": {
   "codemirror_mode": {
    "name": "ipython",
    "version": 3
   },
   "file_extension": ".py",
   "mimetype": "text/x-python",
   "name": "python",
   "nbconvert_exporter": "python",
   "pygments_lexer": "ipython3",
   "version": "3.7.1"
  }
 },
 "nbformat": 4,
 "nbformat_minor": 2
}
