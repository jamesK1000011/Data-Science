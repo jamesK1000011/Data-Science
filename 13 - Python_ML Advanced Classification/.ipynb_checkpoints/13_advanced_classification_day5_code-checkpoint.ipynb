{
 "cells": [
  {
   "cell_type": "code",
   "execution_count": 1,
   "metadata": {},
   "outputs": [],
   "source": [
    "\n",
    "#######################################################\n",
    "#######################################################\n",
    "############    COPYRIGHT - DATA SOCIETY   ############\n",
    "#######################################################\n",
    "#######################################################\n",
    "\n",
    "## 13 ADVANCED CLASSIFICATION DAY5 ##\n",
    "\n",
    "## NOTE: To run individual pieces of code, select the line of code and\n",
    "##       press ctrl + enter for PCs or command + enter for Macs\n",
    "\n"
   ]
  },
  {
   "cell_type": "code",
   "execution_count": 2,
   "metadata": {},
   "outputs": [],
   "source": [
    "#=================================================-\n",
    "#### Slide 2: Directory settings  ####\n",
    "\n",
    "# Set `main_dir` to the location of your `af-werx` folder (for Linux).\n",
    "main_dir = \"/home/[username]/Desktop/af-werx\"\n",
    "# Set `main_dir` to the location of your `af-werx` folder (for Mac).\n",
    "main_dir = '/Users/[username]/Desktop/af-werx'\n",
    "# Set `main_dir` to the location of your `af-werx` folder (for Windows).\n",
    "main_dir = \"C:\\\\Users\\\\[username]\\\\Desktop\\\\af-werx\"\n",
    "# Make `data_dir` from the `main_dir` and\n",
    "# remainder of the path to data directory.\n",
    "data_dir = main_dir + \"/data\"\n",
    "\n",
    "\n"
   ]
  },
  {
   "cell_type": "code",
   "execution_count": 33,
   "metadata": {},
   "outputs": [],
   "source": [
    "#=================================================-\n",
    "#### Slide 3: Loading packages  ####\n",
    "\n",
    "import os\n",
    "import pandas as pd\n",
    "import numpy as np\n",
    "import matplotlib.pyplot as plt\n",
    "from sklearn.linear_model import LogisticRegression\n",
    "from sklearn.ensemble import IsolationForest\n",
    "from sklearn import metrics\n",
    "from sklearn.model_selection import train_test_split\n",
    "from sklearn.metrics import confusion_matrix, roc_auc_score\n",
    "from imblearn.over_sampling import SMOTE\n",
    "import warnings\n",
    "\n",
    "warnings.simplefilter(action='ignore', category=FutureWarning)\n",
    "warnings.filterwarnings(\"ignore\")\n",
    "\n"
   ]
  },
  {
   "cell_type": "code",
   "execution_count": 34,
   "metadata": {},
   "outputs": [],
   "source": [
    "nb_root = globals()['_dh']\n",
    "os.chdir(nb_root[0])\n",
    " \n",
    "main_dir = os.path.abspath(os.path.join (\"..\",))\n",
    "\n",
    "# Make `data_dir` and 'path_dir' from the `main_dir` and\n",
    "data_dir = os.path.join(main_dir, \"data\")\n",
    "plot_dir = os.path.join(main_dir, \"plot\")"
   ]
  },
  {
   "cell_type": "code",
   "execution_count": 35,
   "metadata": {},
   "outputs": [
    {
     "name": "stdout",
     "output_type": "stream",
     "text": [
      "/Users/datasociety/Desktop/af-werx/data\n"
     ]
    }
   ],
   "source": [
    "#=================================================-\n",
    "#### Slide 4: Working directory  ####\n",
    "\n",
    "# Set working directory.\n",
    "os.chdir(data_dir)\n",
    "# Check working directory.\n",
    "print(os.getcwd())\n",
    "\n"
   ]
  },
  {
   "cell_type": "code",
   "execution_count": null,
   "metadata": {},
   "outputs": [],
   "source": []
  },
  {
   "cell_type": "code",
   "execution_count": 46,
   "metadata": {},
   "outputs": [
    {
     "data": {
      "text/html": [
       "<div>\n",
       "<style scoped>\n",
       "    .dataframe tbody tr th:only-of-type {\n",
       "        vertical-align: middle;\n",
       "    }\n",
       "\n",
       "    .dataframe tbody tr th {\n",
       "        vertical-align: top;\n",
       "    }\n",
       "\n",
       "    .dataframe thead th {\n",
       "        text-align: right;\n",
       "    }\n",
       "</style>\n",
       "<table border=\"1\" class=\"dataframe\">\n",
       "  <thead>\n",
       "    <tr style=\"text-align: right;\">\n",
       "      <th></th>\n",
       "      <th>step</th>\n",
       "      <th>type</th>\n",
       "      <th>amount</th>\n",
       "      <th>nameOrig</th>\n",
       "      <th>oldbalanceOrg</th>\n",
       "      <th>newbalanceOrig</th>\n",
       "      <th>nameDest</th>\n",
       "      <th>oldbalanceDest</th>\n",
       "      <th>newbalanceDest</th>\n",
       "      <th>isFraud</th>\n",
       "      <th>isFlaggedFraud</th>\n",
       "    </tr>\n",
       "  </thead>\n",
       "  <tbody>\n",
       "    <tr>\n",
       "      <th>0</th>\n",
       "      <td>308</td>\n",
       "      <td>CASH_OUT</td>\n",
       "      <td>94270.99</td>\n",
       "      <td>C473084216</td>\n",
       "      <td>0.0</td>\n",
       "      <td>0.0</td>\n",
       "      <td>C1130422007</td>\n",
       "      <td>392411.08</td>\n",
       "      <td>486682.07</td>\n",
       "      <td>0</td>\n",
       "      <td>0</td>\n",
       "    </tr>\n",
       "    <tr>\n",
       "      <th>1</th>\n",
       "      <td>215</td>\n",
       "      <td>TRANSFER</td>\n",
       "      <td>1068883.00</td>\n",
       "      <td>C116497934</td>\n",
       "      <td>227.3</td>\n",
       "      <td>0.0</td>\n",
       "      <td>C321541184</td>\n",
       "      <td>4096905.34</td>\n",
       "      <td>5165788.35</td>\n",
       "      <td>0</td>\n",
       "      <td>0</td>\n",
       "    </tr>\n",
       "    <tr>\n",
       "      <th>2</th>\n",
       "      <td>326</td>\n",
       "      <td>TRANSFER</td>\n",
       "      <td>2485281.21</td>\n",
       "      <td>C2089305953</td>\n",
       "      <td>54940.0</td>\n",
       "      <td>0.0</td>\n",
       "      <td>C1473680645</td>\n",
       "      <td>177829.59</td>\n",
       "      <td>2663110.80</td>\n",
       "      <td>0</td>\n",
       "      <td>0</td>\n",
       "    </tr>\n",
       "    <tr>\n",
       "      <th>3</th>\n",
       "      <td>371</td>\n",
       "      <td>PAYMENT</td>\n",
       "      <td>2243.36</td>\n",
       "      <td>C1200351076</td>\n",
       "      <td>0.0</td>\n",
       "      <td>0.0</td>\n",
       "      <td>M1583169191</td>\n",
       "      <td>0.00</td>\n",
       "      <td>0.00</td>\n",
       "      <td>0</td>\n",
       "      <td>0</td>\n",
       "    </tr>\n",
       "    <tr>\n",
       "      <th>4</th>\n",
       "      <td>283</td>\n",
       "      <td>PAYMENT</td>\n",
       "      <td>5845.82</td>\n",
       "      <td>C1501258365</td>\n",
       "      <td>0.0</td>\n",
       "      <td>0.0</td>\n",
       "      <td>M1431167213</td>\n",
       "      <td>0.00</td>\n",
       "      <td>0.00</td>\n",
       "      <td>0</td>\n",
       "      <td>0</td>\n",
       "    </tr>\n",
       "  </tbody>\n",
       "</table>\n",
       "</div>"
      ],
      "text/plain": [
       "   step      type      amount     nameOrig  oldbalanceOrg  newbalanceOrig  \\\n",
       "0   308  CASH_OUT    94270.99   C473084216            0.0             0.0   \n",
       "1   215  TRANSFER  1068883.00   C116497934          227.3             0.0   \n",
       "2   326  TRANSFER  2485281.21  C2089305953        54940.0             0.0   \n",
       "3   371   PAYMENT     2243.36  C1200351076            0.0             0.0   \n",
       "4   283   PAYMENT     5845.82  C1501258365            0.0             0.0   \n",
       "\n",
       "      nameDest  oldbalanceDest  newbalanceDest  isFraud  isFlaggedFraud  \n",
       "0  C1130422007       392411.08       486682.07        0               0  \n",
       "1   C321541184      4096905.34      5165788.35        0               0  \n",
       "2  C1473680645       177829.59      2663110.80        0               0  \n",
       "3  M1583169191            0.00            0.00        0               0  \n",
       "4  M1431167213            0.00            0.00        0               0  "
      ]
     },
     "execution_count": 46,
     "metadata": {},
     "output_type": "execute_result"
    }
   ],
   "source": [
    "#=================================================-\n",
    "#### Slide 14: Load the dataset  ####\n",
    "\n",
    "paysim = pd.read_csv(\"paysim_transactions.csv\")\n",
    "paysim.head()"
   ]
  },
  {
   "cell_type": "code",
   "execution_count": 47,
   "metadata": {},
   "outputs": [
    {
     "name": "stdout",
     "output_type": "stream",
     "text": [
      "<class 'pandas.core.frame.DataFrame'>\n",
      "RangeIndex: 20220 entries, 0 to 20219\n",
      "Data columns (total 11 columns):\n",
      "step              20220 non-null int64\n",
      "type              20220 non-null object\n",
      "amount            20220 non-null float64\n",
      "nameOrig          20220 non-null object\n",
      "oldbalanceOrg     20220 non-null float64\n",
      "newbalanceOrig    20220 non-null float64\n",
      "nameDest          20220 non-null object\n",
      "oldbalanceDest    20220 non-null float64\n",
      "newbalanceDest    20220 non-null float64\n",
      "isFraud           20220 non-null int64\n",
      "isFlaggedFraud    20220 non-null int64\n",
      "dtypes: float64(5), int64(3), object(3)\n",
      "memory usage: 1.7+ MB\n",
      "None\n"
     ]
    }
   ],
   "source": [
    "print(paysim.info())"
   ]
  },
  {
   "cell_type": "code",
   "execution_count": 48,
   "metadata": {},
   "outputs": [
    {
     "data": {
      "text/plain": [
       "Index(['step', 'type', 'amount', 'nameOrig', 'oldbalanceOrg', 'newbalanceOrig',\n",
       "       'nameDest', 'oldbalanceDest', 'newbalanceDest', 'isFraud',\n",
       "       'isFlaggedFraud'],\n",
       "      dtype='object')"
      ]
     },
     "execution_count": 48,
     "metadata": {},
     "output_type": "execute_result"
    }
   ],
   "source": [
    "#=================================================-\n",
    "#### Slide 15: Understand the dataset  ####\n",
    "\n",
    "paysim.columns\n",
    "\n"
   ]
  },
  {
   "cell_type": "code",
   "execution_count": 49,
   "metadata": {},
   "outputs": [
    {
     "name": "stdout",
     "output_type": "stream",
     "text": [
      "0    0.98912\n",
      "1    0.01088\n",
      "Name: isFraud, dtype: float64\n"
     ]
    },
    {
     "data": {
      "text/plain": [
       "<matplotlib.axes._subplots.AxesSubplot at 0x1a1cdae208>"
      ]
     },
     "execution_count": 49,
     "metadata": {},
     "output_type": "execute_result"
    },
    {
     "data": {
      "image/png": "[encoded data removed]",
      "text/plain": [
       "<Figure size 432x288 with 1 Axes>"
      ]
     },
     "metadata": {
      "needs_background": "light"
     },
     "output_type": "display_data"
    }
   ],
   "source": [
    "#=================================================-\n",
    "#### Slide 16: Target of the dataset  ####\n",
    "\n",
    "paysim['isFraud'].value_counts()\n",
    "\n",
    "print(paysim['isFraud'].value_counts() / len(paysim))\n",
    "paysim['isFraud'].value_counts().plot('bar')\n",
    "\n"
   ]
  },
  {
   "cell_type": "code",
   "execution_count": 50,
   "metadata": {},
   "outputs": [
    {
     "data": {
      "text/plain": [
       "<matplotlib.axes._subplots.AxesSubplot at 0x1a1c99fdd8>"
      ]
     },
     "execution_count": 50,
     "metadata": {},
     "output_type": "execute_result"
    },
    {
     "data": {
      "image/png": "[encoded data removed]",
      "text/plain": [
       "<Figure size 432x288 with 1 Axes>"
      ]
     },
     "metadata": {
      "needs_background": "light"
     },
     "output_type": "display_data"
    }
   ],
   "source": [
    "#=================================================-\n",
    "#### Slide 17: EDA of the dataset  ####\n",
    "\n",
    "paysim.isnull().sum()\n",
    "paysim['type'].value_counts().plot('bar')\n",
    "\n"
   ]
  },
  {
   "cell_type": "code",
   "execution_count": 51,
   "metadata": {},
   "outputs": [],
   "source": [
    "#=================================================-\n",
    "#### Slide 19: Exercise 1  ####\n",
    "\n",
    "\n",
    "\n"
   ]
  },
  {
   "cell_type": "code",
   "execution_count": 52,
   "metadata": {},
   "outputs": [
    {
     "data": {
      "text/plain": [
       "Index(['type', 'amount', 'oldbalanceOrg', 'newbalanceOrig', 'oldbalanceDest',\n",
       "       'newbalanceDest', 'isFraud'],\n",
       "      dtype='object')"
      ]
     },
     "execution_count": 52,
     "metadata": {},
     "output_type": "execute_result"
    }
   ],
   "source": [
    "#=================================================-\n",
    "#### Slide 22: Prepare the dataset for modeling  ####\n",
    "\n",
    "# Drop columns.\n",
    "paysim = paysim.drop(['step',\n",
    "                      'nameOrig',\n",
    "                      'nameDest', \n",
    "                      'isFlaggedFraud'], \n",
    "                     axis = 1)\n",
    "paysim.columns\n",
    "\n"
   ]
  },
  {
   "cell_type": "code",
   "execution_count": 12,
   "metadata": {},
   "outputs": [
    {
     "data": {
      "text/plain": [
       "Index(['amount', 'oldbalanceOrg', 'newbalanceOrig', 'oldbalanceDest',\n",
       "       'newbalanceDest', 'isFraud', 'type_1', 'type_2', 'type_3', 'type_4'],\n",
       "      dtype='object')"
      ]
     },
     "execution_count": 12,
     "metadata": {},
     "output_type": "execute_result"
    }
   ],
   "source": [
    "#=================================================-\n",
    "#### Slide 23: Convert categorical to dummy  ####\n",
    "\n",
    "paysim['type'] = pd.Categorical(paysim['type'])\n",
    "paysim['type'] = paysim['type'].cat.codes\n",
    "colname = pd.get_dummies(paysim['type'], \n",
    "                         prefix = 'type',\n",
    "                         drop_first = True)\n",
    "paysim = pd.concat([paysim, colname], axis = 1)\n",
    "paysim.drop(['type'], axis = 1, inplace = True)\n",
    "\n",
    "paysim.columns\n",
    "\n"
   ]
  },
  {
   "cell_type": "code",
   "execution_count": 55,
   "metadata": {},
   "outputs": [
    {
     "data": {
      "text/plain": [
       "0    CASH_OUT\n",
       "1    TRANSFER\n",
       "2    TRANSFER\n",
       "3     PAYMENT\n",
       "4     PAYMENT\n",
       "Name: type, dtype: category\n",
       "Categories (5, object): [CASH_IN, CASH_OUT, DEBIT, PAYMENT, TRANSFER]"
      ]
     },
     "execution_count": 55,
     "metadata": {},
     "output_type": "execute_result"
    }
   ],
   "source": [
    "paysim['type'] = pd.Categorical(paysim['type'])\n",
    "paysim['type'].head()"
   ]
  },
  {
   "cell_type": "code",
   "execution_count": 56,
   "metadata": {},
   "outputs": [
    {
     "data": {
      "text/plain": [
       "0    1\n",
       "1    4\n",
       "2    4\n",
       "3    3\n",
       "4    3\n",
       "Name: type, dtype: int8"
      ]
     },
     "execution_count": 56,
     "metadata": {},
     "output_type": "execute_result"
    }
   ],
   "source": [
    "paysim['type'] = paysim['type'].cat.codes\n",
    "paysim['type'].head()"
   ]
  },
  {
   "cell_type": "code",
   "execution_count": 59,
   "metadata": {},
   "outputs": [
    {
     "name": "stdout",
     "output_type": "stream",
     "text": [
      "   type_1  type_2  type_3  type_4\n",
      "0       1       0       0       0\n",
      "1       0       0       0       1\n",
      "2       0       0       0       1\n",
      "3       0       0       1       0\n",
      "4       0       0       1       0\n"
     ]
    }
   ],
   "source": [
    "colname = pd.get_dummies(paysim['type'], \n",
    "                         prefix = 'type',\n",
    "                         drop_first = True)\n",
    "print(colname.head())"
   ]
  },
  {
   "cell_type": "code",
   "execution_count": 60,
   "metadata": {},
   "outputs": [
    {
     "data": {
      "text/html": [
       "<div>\n",
       "<style scoped>\n",
       "    .dataframe tbody tr th:only-of-type {\n",
       "        vertical-align: middle;\n",
       "    }\n",
       "\n",
       "    .dataframe tbody tr th {\n",
       "        vertical-align: top;\n",
       "    }\n",
       "\n",
       "    .dataframe thead th {\n",
       "        text-align: right;\n",
       "    }\n",
       "</style>\n",
       "<table border=\"1\" class=\"dataframe\">\n",
       "  <thead>\n",
       "    <tr style=\"text-align: right;\">\n",
       "      <th></th>\n",
       "      <th>type</th>\n",
       "      <th>amount</th>\n",
       "      <th>oldbalanceOrg</th>\n",
       "      <th>newbalanceOrig</th>\n",
       "      <th>oldbalanceDest</th>\n",
       "      <th>newbalanceDest</th>\n",
       "      <th>isFraud</th>\n",
       "      <th>type_1</th>\n",
       "      <th>type_2</th>\n",
       "      <th>type_3</th>\n",
       "      <th>type_4</th>\n",
       "    </tr>\n",
       "  </thead>\n",
       "  <tbody>\n",
       "    <tr>\n",
       "      <th>0</th>\n",
       "      <td>1</td>\n",
       "      <td>94270.99</td>\n",
       "      <td>0.0</td>\n",
       "      <td>0.0</td>\n",
       "      <td>392411.08</td>\n",
       "      <td>486682.07</td>\n",
       "      <td>0</td>\n",
       "      <td>1</td>\n",
       "      <td>0</td>\n",
       "      <td>0</td>\n",
       "      <td>0</td>\n",
       "    </tr>\n",
       "    <tr>\n",
       "      <th>1</th>\n",
       "      <td>4</td>\n",
       "      <td>1068883.00</td>\n",
       "      <td>227.3</td>\n",
       "      <td>0.0</td>\n",
       "      <td>4096905.34</td>\n",
       "      <td>5165788.35</td>\n",
       "      <td>0</td>\n",
       "      <td>0</td>\n",
       "      <td>0</td>\n",
       "      <td>0</td>\n",
       "      <td>1</td>\n",
       "    </tr>\n",
       "    <tr>\n",
       "      <th>2</th>\n",
       "      <td>4</td>\n",
       "      <td>2485281.21</td>\n",
       "      <td>54940.0</td>\n",
       "      <td>0.0</td>\n",
       "      <td>177829.59</td>\n",
       "      <td>2663110.80</td>\n",
       "      <td>0</td>\n",
       "      <td>0</td>\n",
       "      <td>0</td>\n",
       "      <td>0</td>\n",
       "      <td>1</td>\n",
       "    </tr>\n",
       "    <tr>\n",
       "      <th>3</th>\n",
       "      <td>3</td>\n",
       "      <td>2243.36</td>\n",
       "      <td>0.0</td>\n",
       "      <td>0.0</td>\n",
       "      <td>0.00</td>\n",
       "      <td>0.00</td>\n",
       "      <td>0</td>\n",
       "      <td>0</td>\n",
       "      <td>0</td>\n",
       "      <td>1</td>\n",
       "      <td>0</td>\n",
       "    </tr>\n",
       "    <tr>\n",
       "      <th>4</th>\n",
       "      <td>3</td>\n",
       "      <td>5845.82</td>\n",
       "      <td>0.0</td>\n",
       "      <td>0.0</td>\n",
       "      <td>0.00</td>\n",
       "      <td>0.00</td>\n",
       "      <td>0</td>\n",
       "      <td>0</td>\n",
       "      <td>0</td>\n",
       "      <td>1</td>\n",
       "      <td>0</td>\n",
       "    </tr>\n",
       "  </tbody>\n",
       "</table>\n",
       "</div>"
      ],
      "text/plain": [
       "   type      amount  oldbalanceOrg  newbalanceOrig  oldbalanceDest  \\\n",
       "0     1    94270.99            0.0             0.0       392411.08   \n",
       "1     4  1068883.00          227.3             0.0      4096905.34   \n",
       "2     4  2485281.21        54940.0             0.0       177829.59   \n",
       "3     3     2243.36            0.0             0.0            0.00   \n",
       "4     3     5845.82            0.0             0.0            0.00   \n",
       "\n",
       "   newbalanceDest  isFraud  type_1  type_2  type_3  type_4  \n",
       "0       486682.07        0       1       0       0       0  \n",
       "1      5165788.35        0       0       0       0       1  \n",
       "2      2663110.80        0       0       0       0       1  \n",
       "3            0.00        0       0       0       1       0  \n",
       "4            0.00        0       0       0       1       0  "
      ]
     },
     "execution_count": 60,
     "metadata": {},
     "output_type": "execute_result"
    }
   ],
   "source": [
    "paysim = pd.concat([paysim, colname], axis = 1)\n",
    "paysim.head()"
   ]
  },
  {
   "cell_type": "code",
   "execution_count": 61,
   "metadata": {},
   "outputs": [
    {
     "data": {
      "text/plain": [
       "LogisticRegression(C=1.0, class_weight=None, dual=False, fit_intercept=True,\n",
       "                   intercept_scaling=1, l1_ratio=None, max_iter=100,\n",
       "                   multi_class='warn', n_jobs=None, penalty='l2',\n",
       "                   random_state=None, solver='warn', tol=0.0001, verbose=0,\n",
       "                   warm_start=False)"
      ]
     },
     "execution_count": 61,
     "metadata": {},
     "output_type": "execute_result"
    }
   ],
   "source": [
    "#=================================================-\n",
    "#### Slide 24: Logistic regression  ####\n",
    "\n",
    "# Select predictors and target.\n",
    "y = paysim['isFraud']\n",
    "X = paysim.drop(['isFraud'], axis = 1)\n",
    "\n",
    "# Build a logistic regression model.\n",
    "np.random.seed(1)\n",
    "X_train, X_test, y_train, y_test = train_test_split(X, y, test_size = 0.30)\n",
    "logreg = LogisticRegression()\n",
    "logreg.fit(X_train, y_train)\n",
    "\n"
   ]
  },
  {
   "cell_type": "code",
   "execution_count": 62,
   "metadata": {},
   "outputs": [
    {
     "name": "stdout",
     "output_type": "stream",
     "text": [
      "Accuracy of test data:\t 0.985492911308935\n"
     ]
    },
    {
     "data": {
      "text/plain": [
       "0.8819753541013055"
      ]
     },
     "execution_count": 62,
     "metadata": {},
     "output_type": "execute_result"
    }
   ],
   "source": [
    "#=================================================-\n",
    "#### Slide 25: Predict the target  ####\n",
    "\n",
    "log_y_train_pred = logreg.predict(X_train)\n",
    "log_y_test_pred = logreg.predict(X_test)\n",
    "log_accuracy = metrics.accuracy_score(y_test, log_y_test_pred)\n",
    "print(\"Accuracy of test data:\\t\", log_accuracy)\n",
    "# ROC AUC value.\n",
    "roc_auc_score(y_test, log_y_test_pred)\n",
    "\n"
   ]
  },
  {
   "cell_type": "code",
   "execution_count": 64,
   "metadata": {},
   "outputs": [
    {
     "name": "stdout",
     "output_type": "stream",
     "text": [
      "Confusion Matrix - Training Dataset\n",
      "Predicted      0    1    All\n",
      "True                        \n",
      "0          13781  220  14001\n",
      "1             30  123    153\n",
      "All        13811  343  14154\n",
      "Percentage of accurate fraud cases is  0.869281045751634\n"
     ]
    }
   ],
   "source": [
    "#=================================================-\n",
    "#### Slide 26: Confusion matrix of training data  ####\n",
    "\n",
    "print('Confusion Matrix - Training Dataset')\n",
    "print(pd.crosstab(y_train,\n",
    "                  log_y_train_pred, \n",
    "                  rownames = ['True'],\n",
    "                  colnames = ['Predicted'],\n",
    "                  margins = True))\n",
    "print('Percentage of accurate fraud cases is ', 133/153)\n",
    "\n"
   ]
  },
  {
   "cell_type": "code",
   "execution_count": 65,
   "metadata": {},
   "outputs": [
    {
     "name": "stdout",
     "output_type": "stream",
     "text": [
      "Confusion Matrix - Testing Dataset\n",
      "Predicted     0    1   All\n",
      "True                      \n",
      "0          5926   73  5999\n",
      "1            15   52    67\n",
      "All        5941  125  6066\n",
      "Percentage of accurate fraud cases is 0.8208955223880597\n"
     ]
    }
   ],
   "source": [
    "#=================================================-\n",
    "#### Slide 27: Confusion matrix of test data  ####\n",
    "\n",
    "print('Confusion Matrix - Testing Dataset')\n",
    "print(pd.crosstab(y_test,\n",
    "                  log_y_test_pred, \n",
    "                  rownames = ['True'], \n",
    "                  colnames = ['Predicted'],\n",
    "                  margins = True))\n",
    "print('Percentage of accurate fraud cases is', 55/67)\n",
    "\n"
   ]
  },
  {
   "cell_type": "code",
   "execution_count": 67,
   "metadata": {},
   "outputs": [
    {
     "name": "stdout",
     "output_type": "stream",
     "text": [
      "0.9878313052175363\n",
      "0.7761194029850746\n"
     ]
    }
   ],
   "source": [
    "#=================================================-\n",
    "#### Slide 30: Find TPR and TNR  ####\n",
    "\n",
    "tn, fp, fn, tp = confusion_matrix(y_test, \n",
    "                                  log_y_test_pred).ravel()\n",
    "\n",
    "# Find the TNR.\n",
    "non_fraud_eval = tn / (tn + fp)\n",
    "print(non_fraud_eval)\n",
    "# Find the TPR.\n",
    "fraud_eval = tp / (tp + fn)\n",
    "print(fraud_eval)\n",
    "\n"
   ]
  },
  {
   "cell_type": "code",
   "execution_count": 68,
   "metadata": {},
   "outputs": [
    {
     "data": {
      "text/html": [
       "<div>\n",
       "<style scoped>\n",
       "    .dataframe tbody tr th:only-of-type {\n",
       "        vertical-align: middle;\n",
       "    }\n",
       "\n",
       "    .dataframe tbody tr th {\n",
       "        vertical-align: top;\n",
       "    }\n",
       "\n",
       "    .dataframe thead th {\n",
       "        text-align: right;\n",
       "    }\n",
       "</style>\n",
       "<table border=\"1\" class=\"dataframe\">\n",
       "  <thead>\n",
       "    <tr style=\"text-align: right;\">\n",
       "      <th></th>\n",
       "      <th>model_name</th>\n",
       "      <th>TPR</th>\n",
       "      <th>TNR</th>\n",
       "    </tr>\n",
       "  </thead>\n",
       "  <tbody>\n",
       "    <tr>\n",
       "      <th>0</th>\n",
       "      <td>Logistic_regression_baseline</td>\n",
       "      <td>0.776119</td>\n",
       "      <td>0.987831</td>\n",
       "    </tr>\n",
       "  </tbody>\n",
       "</table>\n",
       "</div>"
      ],
      "text/plain": [
       "                     model_name       TPR       TNR\n",
       "0  Logistic_regression_baseline  0.776119  0.987831"
      ]
     },
     "execution_count": 68,
     "metadata": {},
     "output_type": "execute_result"
    }
   ],
   "source": [
    "#=================================================-\n",
    "#### Slide 31: Save the metric  ####\n",
    "\n",
    "performance_df = pd.DataFrame(columns = ['model_name',\n",
    "                                         'TPR',\n",
    "                                         'TNR'])\n",
    "\n",
    "s = pd.Series(['Logistic_regression_baseline',\n",
    "               fraud_eval,\n",
    "               non_fraud_eval],\n",
    "               index=['model_name', 'TPR', 'TNR'])\n",
    "\n",
    "performance_df = performance_df.append(s, ignore_index = True)\n",
    "performance_df\n",
    "\n"
   ]
  },
  {
   "cell_type": "code",
   "execution_count": 19,
   "metadata": {},
   "outputs": [],
   "source": [
    "#=================================================-\n",
    "#### Slide 44: Exercise 2  ####\n",
    "\n",
    "\n",
    "\n"
   ]
  },
  {
   "cell_type": "code",
   "execution_count": 70,
   "metadata": {},
   "outputs": [
    {
     "name": "stdout",
     "output_type": "stream",
     "text": [
      "(14154, 10)\n",
      "(28002, 10)\n"
     ]
    },
    {
     "data": {
      "text/plain": [
       "<matplotlib.axes._subplots.AxesSubplot at 0x1a19e5def0>"
      ]
     },
     "execution_count": 70,
     "metadata": {},
     "output_type": "execute_result"
    },
    {
     "data": {
      "image/png": "[encoded data removed]",
      "text/plain": [
       "<Figure size 432x288 with 1 Axes>"
      ]
     },
     "metadata": {
      "needs_background": "light"
     },
     "output_type": "display_data"
    }
   ],
   "source": [
    "#=================================================-\n",
    "#### Slide 52: SMOTE in fraud dataset  ####\n",
    "\n",
    "sm = SMOTE(random_state = 1)\n",
    "X_train_new, y_train_new = sm.fit_sample(X_train, y_train)\n",
    "# Shape of X_train.\n",
    "print(X_train.shape)\n",
    "# Print shape of X_train_new.\n",
    "print(X_train_new.shape)\n",
    "# Double check that the data has been balanced.\n",
    "pd.Series(y_train_new).value_counts().plot.bar()\n",
    "\n"
   ]
  },
  {
   "cell_type": "code",
   "execution_count": 71,
   "metadata": {},
   "outputs": [],
   "source": [
    "#=================================================-\n",
    "#### Slide 53: Fit the model and predict  ####\n",
    "\n",
    "# Fit the model.\n",
    "logreg.fit(X_train_new, y_train_new)\n",
    "\n",
    "# Prediction for training data.\n",
    "train_pred_sm = logreg.predict(X_train_new)\n",
    "\n",
    "# Prediction for the test data.\n",
    "test_pred_sm = logreg.predict(X_test)\n",
    "train_pred_sm = logreg.predict(X_train_new)\n",
    "\n"
   ]
  },
  {
   "cell_type": "code",
   "execution_count": 72,
   "metadata": {},
   "outputs": [
    {
     "name": "stdout",
     "output_type": "stream",
     "text": [
      "Confusion Matrix - Training Dataset\n",
      "Predicted      0      1    All\n",
      "True                          \n",
      "0          13485    516  14001\n",
      "1            163  13838  14001\n",
      "All        13648  14354  28002\n",
      "Percentage of accurate fraud cases:  0.9883579744303979\n"
     ]
    }
   ],
   "source": [
    "#=================================================-\n",
    "#### Slide 54: Confusion matrix of training data  ####\n",
    "\n",
    "print('Confusion Matrix - Training Dataset')\n",
    "print(pd.crosstab(y_train_new, \n",
    "                  train_pred_sm,\n",
    "                  rownames = ['True'],\n",
    "                  colnames = ['Predicted'], \n",
    "                  margins = True))\n",
    "print('Percentage of accurate fraud cases: ', 13838/14001)\n",
    "\n"
   ]
  },
  {
   "cell_type": "code",
   "execution_count": 73,
   "metadata": {},
   "outputs": [
    {
     "name": "stdout",
     "output_type": "stream",
     "text": [
      "Confusion Matrix - Testing Dataset\n",
      "Predicted     0    1   All\n",
      "True                      \n",
      "0          5770  229  5999\n",
      "1             1   66    67\n",
      "All        5771  295  6066\n",
      "Percentage of accurate fraud cases  0.9850746268656716\n"
     ]
    }
   ],
   "source": [
    "#=================================================-\n",
    "#### Slide 55: Confusion matrix of test data  ####\n",
    "\n",
    "print('Confusion Matrix - Testing Dataset')\n",
    "print(pd.crosstab(y_test, \n",
    "                  test_pred_sm, \n",
    "                  rownames = ['True'], \n",
    "                  colnames = ['Predicted'],\n",
    "                  margins = True))\n",
    "print('Percentage of accurate fraud cases ', 66/67)\n",
    "\n"
   ]
  },
  {
   "cell_type": "code",
   "execution_count": 24,
   "metadata": {},
   "outputs": [
    {
     "name": "stdout",
     "output_type": "stream",
     "text": [
      "0.9618269711618603\n",
      "0.9850746268656716\n"
     ]
    },
    {
     "data": {
      "text/html": [
       "<div>\n",
       "<style scoped>\n",
       "    .dataframe tbody tr th:only-of-type {\n",
       "        vertical-align: middle;\n",
       "    }\n",
       "\n",
       "    .dataframe tbody tr th {\n",
       "        vertical-align: top;\n",
       "    }\n",
       "\n",
       "    .dataframe thead th {\n",
       "        text-align: right;\n",
       "    }\n",
       "</style>\n",
       "<table border=\"1\" class=\"dataframe\">\n",
       "  <thead>\n",
       "    <tr style=\"text-align: right;\">\n",
       "      <th></th>\n",
       "      <th>model_name</th>\n",
       "      <th>TPR</th>\n",
       "      <th>TNR</th>\n",
       "    </tr>\n",
       "  </thead>\n",
       "  <tbody>\n",
       "    <tr>\n",
       "      <th>0</th>\n",
       "      <td>Logistic_regression_baseline</td>\n",
       "      <td>0.820896</td>\n",
       "      <td>0.989332</td>\n",
       "    </tr>\n",
       "    <tr>\n",
       "      <th>1</th>\n",
       "      <td>SMOTE</td>\n",
       "      <td>0.985075</td>\n",
       "      <td>0.961827</td>\n",
       "    </tr>\n",
       "  </tbody>\n",
       "</table>\n",
       "</div>"
      ],
      "text/plain": [
       "                     model_name       TPR       TNR\n",
       "0  Logistic_regression_baseline  0.820896  0.989332\n",
       "1                         SMOTE  0.985075  0.961827"
      ]
     },
     "execution_count": 24,
     "metadata": {},
     "output_type": "execute_result"
    }
   ],
   "source": [
    "#=================================================-\n",
    "#### Slide 56: Find TPR and TNR and save  ####\n",
    "\n",
    "# Find TPR and TNR and save the result.\n",
    "tn, fp, fn, tp = confusion_matrix(y_test, \n",
    "                                  test_pred_sm).ravel()\n",
    "non_fraud_eval = tn / (tn + fp)\n",
    "print(non_fraud_eval)\n",
    "fraud_eval = tp / (tp + fn)\n",
    "print(fraud_eval)\n",
    "\n",
    "s = pd.Series(['SMOTE',\n",
    "               fraud_eval,\n",
    "               non_fraud_eval],\n",
    "index=['model_name', \n",
    "       'TPR', \n",
    "       'TNR'])\n",
    "performance_df = performance_df.append(s, \n",
    "                                       ignore_index = True)\n",
    "performance_df\n",
    "\n"
   ]
  },
  {
   "cell_type": "code",
   "execution_count": 25,
   "metadata": {},
   "outputs": [],
   "source": [
    "#=================================================-\n",
    "#### Slide 58: Exercise 3  ####\n",
    "\n",
    "\n",
    "\n"
   ]
  },
  {
   "cell_type": "code",
   "execution_count": 79,
   "metadata": {},
   "outputs": [],
   "source": [
    "#================================================= -\n",
    "#### Slide 68: Isolation forest on fraud dataset  ####\n",
    "\n",
    "# Split fraud vs non fraud.\n",
    "non_fraud = paysim[paysim['isFraud'] == 0]\n",
    "fraud = paysim[paysim['isFraud'] == 1]\n",
    "\n",
    "# Drop isFraud column from fraud dataframe.\n",
    "fraud = fraud.drop(['isFraud'],\n",
    "                   axis = 1)\n",
    "\n",
    "non_fraud_X = non_fraud.drop(['isFraud'], \n",
    "                             axis = 1)\n",
    "non_fraud_y = non_fraud['isFraud']\n",
    "\n"
   ]
  },
  {
   "cell_type": "code",
   "execution_count": 80,
   "metadata": {},
   "outputs": [
    {
     "name": "stdout",
     "output_type": "stream",
     "text": [
      "(14000, 10)\n",
      "(6000, 10)\n"
     ]
    }
   ],
   "source": [
    "#================================================= -\n",
    "#### Slide 69: Train and test split  ####\n",
    "\n",
    "non_fraud_X_train, non_fraud_X_test, non_fraud_y_train, non_fraud_y_test = train_test_split(non_fraud_X, \n",
    "                                                                                            non_fraud_y, \n",
    "                                                                                            test_size = 0.30)\n",
    "\n",
    "print(non_fraud_X_train.shape)\n",
    "print(non_fraud_X_test.shape)\n",
    "\n"
   ]
  },
  {
   "cell_type": "code",
   "execution_count": 81,
   "metadata": {},
   "outputs": [
    {
     "data": {
      "text/plain": [
       "IsolationForest(behaviour='old', bootstrap=False, contamination='legacy',\n",
       "                max_features=1.0, max_samples='auto', n_estimators=100,\n",
       "                n_jobs=None, random_state=100, verbose=0, warm_start=False)"
      ]
     },
     "execution_count": 81,
     "metadata": {},
     "output_type": "execute_result"
    }
   ],
   "source": [
    "#================================================= -\n",
    "#### Slide 70: Create and fit the model  ####\n",
    "\n",
    "iforest = IsolationForest(random_state = 100)\n",
    "iforest.fit(non_fraud_X_train)\n",
    "\n"
   ]
  },
  {
   "cell_type": "code",
   "execution_count": 29,
   "metadata": {},
   "outputs": [],
   "source": [
    "#================================================= -\n",
    "#### Slide 71: Function to find metric  ####\n",
    "\n",
    "def nonfraud_TNR(Mat):\n",
    "    Sum = 0\n",
    "    for i in Mat:\n",
    "        if(i == 1):\n",
    "            Sum += 1.0\n",
    "    return(Sum/len(Mat))\n",
    "\n",
    "def fraud_TPR(Mat):\n",
    "    Sum=0\n",
    "    for i in Mat:\n",
    "        if(i==-1):\n",
    "            Sum+=1.0\n",
    "    return(Sum/len(Mat))\n",
    "\n"
   ]
  },
  {
   "cell_type": "code",
   "execution_count": 30,
   "metadata": {},
   "outputs": [
    {
     "name": "stdout",
     "output_type": "stream",
     "text": [
      "[1 1 1 ... 1 1 1]\n",
      "[-1  1]\n",
      "Accuracy of non fraud cases:\t 0.8968333333333334\n"
     ]
    }
   ],
   "source": [
    "#================================================= -\n",
    "#### Slide 72: Prediction on non fraud cases  ####\n",
    "\n",
    "nonfraud_test_pred = iforest.predict(non_fraud_X_test)\n",
    "print(nonfraud_test_pred)\n",
    "print(np.unique(nonfraud_test_pred))\n",
    "non_fraud_eval = nonfraud_TNR(nonfraud_test_pred)\n",
    "print('Accuracy of non fraud cases:\\t', non_fraud_eval)\n",
    "\n"
   ]
  },
  {
   "cell_type": "code",
   "execution_count": 31,
   "metadata": {},
   "outputs": [
    {
     "name": "stdout",
     "output_type": "stream",
     "text": [
      "[-1  1 -1 -1 -1 -1 -1  1 -1  1 -1 -1 -1 -1 -1  1  1  1 -1 -1  1 -1  1  1\n",
      "  1  1  1 -1  1 -1  1  1 -1 -1  1  1 -1 -1  1 -1 -1  1 -1 -1 -1 -1 -1 -1\n",
      " -1 -1  1 -1 -1 -1 -1 -1  1  1 -1 -1 -1 -1  1 -1 -1  1 -1  1 -1  1 -1 -1\n",
      "  1  1  1 -1 -1 -1 -1  1 -1 -1 -1 -1  1 -1  1  1 -1  1  1 -1  1 -1 -1 -1\n",
      "  1 -1 -1  1 -1 -1 -1 -1  1 -1 -1  1  1  1 -1 -1 -1 -1 -1  1 -1 -1  1  1\n",
      "  1 -1 -1  1 -1  1 -1 -1 -1 -1 -1  1  1 -1 -1 -1 -1 -1  1  1  1  1 -1  1\n",
      "  1 -1  1 -1  1 -1 -1 -1  1 -1 -1 -1  1 -1  1 -1  1 -1 -1  1  1 -1  1 -1\n",
      " -1  1  1 -1 -1  1 -1 -1 -1 -1 -1 -1 -1  1  1  1  1 -1 -1  1 -1  1  1 -1\n",
      " -1 -1 -1  1  1  1  1 -1  1 -1 -1  1  1 -1  1 -1  1 -1 -1  1  1  1 -1  1\n",
      " -1 -1 -1  1]\n",
      "[-1  1]\n",
      "Accuracy of fraud cases:\t 0.5954545454545455\n"
     ]
    }
   ],
   "source": [
    "#================================================= -\n",
    "#### Slide 73: Prediction on fraud cases  ####\n",
    "\n",
    "fraud_pred = iforest.predict(fraud)\n",
    "print(fraud_pred)\n",
    "print(np.unique(fraud_pred))\n",
    "fraud_eval = fraud_TPR(fraud_pred)\n",
    "print('Accuracy of fraud cases:\\t', fraud_eval)\n",
    "\n"
   ]
  },
  {
   "cell_type": "code",
   "execution_count": 32,
   "metadata": {},
   "outputs": [
    {
     "data": {
      "text/html": [
       "<div>\n",
       "<style scoped>\n",
       "    .dataframe tbody tr th:only-of-type {\n",
       "        vertical-align: middle;\n",
       "    }\n",
       "\n",
       "    .dataframe tbody tr th {\n",
       "        vertical-align: top;\n",
       "    }\n",
       "\n",
       "    .dataframe thead th {\n",
       "        text-align: right;\n",
       "    }\n",
       "</style>\n",
       "<table border=\"1\" class=\"dataframe\">\n",
       "  <thead>\n",
       "    <tr style=\"text-align: right;\">\n",
       "      <th></th>\n",
       "      <th>model_name</th>\n",
       "      <th>TPR</th>\n",
       "      <th>TNR</th>\n",
       "    </tr>\n",
       "  </thead>\n",
       "  <tbody>\n",
       "    <tr>\n",
       "      <th>0</th>\n",
       "      <td>Logistic_regression_baseline</td>\n",
       "      <td>0.820896</td>\n",
       "      <td>0.989332</td>\n",
       "    </tr>\n",
       "    <tr>\n",
       "      <th>1</th>\n",
       "      <td>SMOTE</td>\n",
       "      <td>0.985075</td>\n",
       "      <td>0.961827</td>\n",
       "    </tr>\n",
       "    <tr>\n",
       "      <th>2</th>\n",
       "      <td>Isolation forest</td>\n",
       "      <td>0.595455</td>\n",
       "      <td>0.896833</td>\n",
       "    </tr>\n",
       "  </tbody>\n",
       "</table>\n",
       "</div>"
      ],
      "text/plain": [
       "                     model_name       TPR       TNR\n",
       "0  Logistic_regression_baseline  0.820896  0.989332\n",
       "1                         SMOTE  0.985075  0.961827\n",
       "2              Isolation forest  0.595455  0.896833"
      ]
     },
     "execution_count": 32,
     "metadata": {},
     "output_type": "execute_result"
    }
   ],
   "source": [
    "#================================================= -\n",
    "#### Slide 74: Compare the results  ####\n",
    "\n",
    "s = pd.Series(['Isolation forest', fraud_eval, non_fraud_eval],\n",
    "index=['model_name', 'TPR', 'TNR'])\n",
    "performance_df = performance_df.append(s, ignore_index = True)\n",
    "performance_df\n",
    "\n"
   ]
  }
 ],
 "metadata": {
  "kernelspec": {
   "display_name": "Python 3",
   "language": "python",
   "name": "python3"
  },
  "language": "python",
  "language_info": {
   "codemirror_mode": {
    "name": "ipython",
    "version": 3
   },
   "file_extension": ".py",
   "mimetype": "text/x-python",
   "name": "python",
   "nbconvert_exporter": "python",
   "pygments_lexer": "ipython3",
   "version": "3.7.1"
  }
 },
 "nbformat": 4,
 "nbformat_minor": 2
}
