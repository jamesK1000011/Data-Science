{
 "cells": [
  {
   "cell_type": "markdown",
   "metadata": {},
   "source": [
    "# Advanced Classification Day 3 - Exercises"
   ]
  },
  {
   "cell_type": "markdown",
   "metadata": {},
   "source": [
    "## Exercise 1"
   ]
  },
  {
   "cell_type": "markdown",
   "metadata": {},
   "source": [
    "#### Question 1 \n",
    "##### Load libraries that are used in this module.\n"
   ]
  },
  {
   "cell_type": "code",
   "execution_count": 40,
   "metadata": {},
   "outputs": [],
   "source": [
    "import os\n",
    "import pickle\n",
    "import numpy as np\n",
    "import pandas as pd\n",
    "import matplotlib.pyplot as plt\n",
    "from sklearn.model_selection import train_test_split\n",
    "from sklearn.svm import SVC\n",
    "from sklearn import metrics\n",
    "from sklearn.metrics import accuracy_score, classification_report, confusion_matrix\n",
    "from sklearn.model_selection import GridSearchCV\n",
    "# up, up, down, down, left, right, left, right, a, b,\n",
    "import konami as konami"
   ]
  },
  {
   "cell_type": "markdown",
   "metadata": {},
   "source": [
    "#### Question 2\n",
    "##### Set `main_dir` to the location of your `af-werx` folder.\n",
    "##### Make `data_dir`  from the `main_dir` and concatenate remainder of the path to data directory."
   ]
  },
  {
   "cell_type": "code",
   "execution_count": 2,
   "metadata": {},
   "outputs": [],
   "source": [
    "# just for safety capture the original main path - when you re-run the book we will always start from the original folder\n",
    "# this is similar to here() in R which captures the project root.\n",
    "# https://github.com/ipython/ipython/issues/10123\n",
    "nb_root = globals()['_dh']\n",
    "os.chdir(nb_root[0])\n",
    " \n",
    "main_dir = os.path.abspath(os.path.join (\"..\",))\n",
    "\n",
    "# Make `data_dir` and 'path_dir' from the `main_dir` and\n",
    "data_dir = os.path.join(main_dir, \"data\")\n",
    "plot_dir = os.path.join(main_dir, \"plot\")"
   ]
  },
  {
   "cell_type": "markdown",
   "metadata": {},
   "source": [
    "#### Question 3\n",
    "##### Set the working directory to `data_dir`.\n",
    "##### Check if the working directory is updated to `data_dir`."
   ]
  },
  {
   "cell_type": "code",
   "execution_count": 3,
   "metadata": {},
   "outputs": [
    {
     "name": "stdout",
     "output_type": "stream",
     "text": [
      "/Users/datasociety/Desktop/af-werx/data\n"
     ]
    }
   ],
   "source": [
    "# Set working directory.\n",
    "os.chdir(data_dir)\n",
    "# Check working directory.\n",
    "print(os.getcwd())"
   ]
  },
  {
   "cell_type": "markdown",
   "metadata": {},
   "source": [
    "#### Question 4\n",
    "##### Load the clean pickled dataset `chicago_no_hc` and save as `census`.\n",
    "##### View the column names of `census`."
   ]
  },
  {
   "cell_type": "code",
   "execution_count": 5,
   "metadata": {},
   "outputs": [
    {
     "data": {
      "text/plain": [
       "Index(['percent_house_crowded', 'percent_house_below_poverty',\n",
       "       'percent_16_unemployed', 'percent_dependent', 'hardship_index',\n",
       "       'income'],\n",
       "      dtype='object')"
      ]
     },
     "execution_count": 5,
     "metadata": {},
     "output_type": "execute_result"
    }
   ],
   "source": [
    "census = pickle.load(open('chicago_census.sav', 'rb'))\n",
    "census.columns"
   ]
  },
  {
   "cell_type": "markdown",
   "metadata": {},
   "source": [
    "#### Question 5\n",
    "##### Select the predictors by dropping variable `income` and save the result to a dataframe `X_ex`.\n",
    "##### Save the target variable `income` column to `y_ex` variable.\n",
    "##### Set seed as 1.\n",
    "##### Split the data into train and test sets and save respective variables to `X_train_ex`, `X_test_ex`,  `y_train_ex`,  `y_test_ex`."
   ]
  },
  {
   "cell_type": "code",
   "execution_count": 41,
   "metadata": {},
   "outputs": [],
   "source": [
    "ex_x_train, ex_x_test, ex_y_train, ex_y_test = konami.df_target_split(census, 'income', 1)"
   ]
  },
  {
   "cell_type": "markdown",
   "metadata": {},
   "source": [
    "#### Question 6\n",
    "##### Create an SVC classifier and save as `ex_svclassifier`.\n",
    "##### Train the model using `X_train_ex` and `y_train_ex`."
   ]
  },
  {
   "cell_type": "code",
   "execution_count": 42,
   "metadata": {},
   "outputs": [
    {
     "data": {
      "text/plain": [
       "SVC(C=1.0, cache_size=200, class_weight=None, coef0=0.0,\n",
       "  decision_function_shape='ovr', degree=3, gamma='auto_deprecated',\n",
       "  kernel='linear', max_iter=-1, probability=False, random_state=None,\n",
       "  shrinking=True, tol=0.001, verbose=False)"
      ]
     },
     "execution_count": 42,
     "metadata": {},
     "output_type": "execute_result"
    }
   ],
   "source": [
    "# Create an SVC classifier.\n",
    "ex_svclassifier = SVC(kernel = 'linear')\n",
    "\n",
    "# Fit the model.\n",
    "svclassifier.fit(ex_x_train, ex_y_train)"
   ]
  },
  {
   "cell_type": "markdown",
   "metadata": {},
   "source": [
    "#### Question 7\n",
    "##### Using the trained model, predict on the test dataset. \n",
    "##### Save the prediction as `ex_svc_y_pred`.\n",
    "##### Print the first five rows of the prediction. "
   ]
  },
  {
   "cell_type": "code",
   "execution_count": 36,
   "metadata": {},
   "outputs": [],
   "source": []
  },
  {
   "cell_type": "code",
   "execution_count": 37,
   "metadata": {},
   "outputs": [
    {
     "data": {
      "text/plain": [
       "array([0, 0, 0, 1, 1])"
      ]
     },
     "execution_count": 37,
     "metadata": {},
     "output_type": "execute_result"
    }
   ],
   "source": [
    "# Predict on the test dataset.\n",
    "ex_svc_y_pred = svclassifier.predict(ex_x_test)\n",
    "ex_svc_y_pred[0:5]"
   ]
  },
  {
   "cell_type": "markdown",
   "metadata": {},
   "source": [
    "#### Question 8\n",
    "##### Get the accuracy score of the prediction and save as `ex_svc_accuracy`.\n",
    "##### Also, create a confusion matrix with the prediction. "
   ]
  },
  {
   "cell_type": "code",
   "execution_count": 43,
   "metadata": {},
   "outputs": [
    {
     "data": {
      "image/png": "[encoded data removed]",
      "text/plain": [
       "<Figure size 432x288 with 1 Axes>"
      ]
     },
     "metadata": {
      "needs_background": "light"
     },
     "output_type": "display_data"
    },
    {
     "name": "stdout",
     "output_type": "stream",
     "text": [
      "Accuracy for the model on test data:  0.8333333333333334\n"
     ]
    }
   ],
   "source": [
    "ex_svc_accuracy = konami.plt_cm(ex_y_test, ex_svc_y_pred)"
   ]
  },
  {
   "cell_type": "markdown",
   "metadata": {},
   "source": [
    "#### Question 9\n",
    "##### Now create an entire classification report and save as `ex_class_report`. \n",
    "##### Take a look at the classification report. \n",
    "##### Also, plot the ROC curve to better see how our model performed. "
   ]
  },
  {
   "cell_type": "code",
   "execution_count": 44,
   "metadata": {},
   "outputs": [
    {
     "name": "stdout",
     "output_type": "stream",
     "text": [
      "              precision    recall  f1-score   support\n",
      "\n",
      "           0       0.81      0.93      0.87        14\n",
      "           1       0.88      0.70      0.78        10\n",
      "\n",
      "   micro avg       0.83      0.83      0.83        24\n",
      "   macro avg       0.84      0.81      0.82        24\n",
      "weighted avg       0.84      0.83      0.83        24\n",
      "\n"
     ]
    },
    {
     "data": {
      "image/png": "[encoded data removed]",
      "text/plain": [
       "<Figure size 432x288 with 1 Axes>"
      ]
     },
     "metadata": {
      "needs_background": "light"
     },
     "output_type": "display_data"
    }
   ],
   "source": [
    "konami.accuracy_ROKs(ex_y_test, ex_svc_y_pred, 'SVM')"
   ]
  },
  {
   "cell_type": "markdown",
   "metadata": {},
   "source": [
    "#### Question 10\n",
    "##### Load the pickled dataframe `ex_model_final_optimized.sav` we created in the last class and save as `ex_model_final_svc`.\n",
    "##### Append the accuracy score as `svc_model` obtained above to the dataframe."
   ]
  },
  {
   "cell_type": "code",
   "execution_count": 56,
   "metadata": {},
   "outputs": [],
   "source": [
    "ex_model_final_svc = pickle.load(open(\"ex_model_final_optimized.sav\",\"rb\"))"
   ]
  },
  {
   "cell_type": "code",
   "execution_count": 57,
   "metadata": {},
   "outputs": [
    {
     "name": "stdout",
     "output_type": "stream",
     "text": [
      "     metrics  values                                 model\n",
      "0   accuracy  0.8333                                 knn_5\n",
      "1   accuracy  0.9359                      knn_GridSearchCV\n",
      "2   accuracy  0.9583                                knn_27\n",
      "3   accuracy  1.0000                              logistic\n",
      "4   accuracy  1.0000                  logistic_withdummies\n",
      "5   accuracy  1.0000                        logistic_tuned\n",
      "6   accuracy  0.9167                    tree_simple_subset\n",
      "7   accuracy  0.9583               full_tree_simple_subset\n",
      "8   accuracy  0.9583            full_tree_optimized_subset\n",
      "9   accuracy  0.8750                         random forest\n",
      "10  accuracy  0.8750                      gradient_booster\n",
      "11  accuracy  0.8750  optimized_accuracy_forest_cv_shuffle\n",
      "12  accuracy  0.8750          optimized_accuracy_forest_cv\n",
      "13  accuracy  0.8750                optimized_accuracy_gbm\n",
      "14  accuracy  0.8750                optimized_accuracy_gbm\n",
      "15  accuracy  0.8333                             svc_model\n"
     ]
    }
   ],
   "source": [
    "ex_model_final_svc = konami.update_model_score(ex_model_final_svc, ex_svc_accuracy, 'svc_model')"
   ]
  },
  {
   "cell_type": "markdown",
   "metadata": {},
   "source": [
    "## Exercise 2"
   ]
  },
  {
   "cell_type": "markdown",
   "metadata": {},
   "source": [
    "#### Question 1\n",
    "\n",
    "##### Create an SVM model and save as `ex_sv_machine`. \n",
    "##### Set the kernel as `rbf` and gamma as 0.011\n",
    "\n",
    "##### Fit `ex_sv_machine` with `X_train_ex` and `y_train_ex`. "
   ]
  },
  {
   "cell_type": "code",
   "execution_count": 58,
   "metadata": {},
   "outputs": [
    {
     "data": {
      "text/plain": [
       "SVC(C=1.0, cache_size=200, class_weight=None, coef0=0.0,\n",
       "  decision_function_shape='ovr', degree=3, gamma=0.011, kernel='rbf',\n",
       "  max_iter=-1, probability=False, random_state=None, shrinking=True,\n",
       "  tol=0.001, verbose=False)"
      ]
     },
     "execution_count": 58,
     "metadata": {},
     "output_type": "execute_result"
    }
   ],
   "source": [
    "# Note here that the kernel rbf means radial kernel.\n",
    "ex_sv_machine = SVC(kernel = 'rbf', gamma = 0.011)\n",
    "ex_sv_machine.fit(ex_x_train, ex_y_train)"
   ]
  },
  {
   "cell_type": "markdown",
   "metadata": {},
   "source": [
    "#### Question 2\n",
    "\n",
    "##### Using the trained `ex_sv_machine`, predict on the test data. \n",
    "##### Save the prediction as `ex_y_pred` and print the first five rows of the prediction. "
   ]
  },
  {
   "cell_type": "code",
   "execution_count": 59,
   "metadata": {},
   "outputs": [
    {
     "data": {
      "text/plain": [
       "array([0, 0, 0, 1, 1])"
      ]
     },
     "execution_count": 59,
     "metadata": {},
     "output_type": "execute_result"
    }
   ],
   "source": [
    "# Predict on the test data.\n",
    "ex_y_pred = ex_sv_machine.predict(ex_x_test)\n",
    "ex_y_pred[0:5]"
   ]
  },
  {
   "cell_type": "markdown",
   "metadata": {},
   "source": [
    "#### Question 3\n",
    "\n",
    "##### Get the accuracy score of the prediction and save as `ex_svm_accuracy`. \n",
    "##### Also, create a confusion matrix with `y_test_ex` and `ex_y_pred`."
   ]
  },
  {
   "cell_type": "code",
   "execution_count": 60,
   "metadata": {},
   "outputs": [
    {
     "data": {
      "image/png": "[encoded data removed]",
      "text/plain": [
       "<Figure size 432x288 with 1 Axes>"
      ]
     },
     "metadata": {
      "needs_background": "light"
     },
     "output_type": "display_data"
    },
    {
     "name": "stdout",
     "output_type": "stream",
     "text": [
      "Accuracy for the model on test data:  0.8333333333333334\n"
     ]
    }
   ],
   "source": [
    "ex_svm_accuracy = konami.plt_cm(ex_y_test, ex_y_pred)"
   ]
  },
  {
   "cell_type": "markdown",
   "metadata": {},
   "source": [
    "#### Question 4\n",
    "\n",
    "##### Now create an entire classification report and save as `ex_class_report`. \n",
    "##### Take a look at the classification report. \n",
    "##### Also, plot the ROC curve to better see how our model performed. "
   ]
  },
  {
   "cell_type": "code",
   "execution_count": 61,
   "metadata": {},
   "outputs": [
    {
     "name": "stdout",
     "output_type": "stream",
     "text": [
      "              precision    recall  f1-score   support\n",
      "\n",
      "           0       0.81      0.93      0.87        14\n",
      "           1       0.88      0.70      0.78        10\n",
      "\n",
      "   micro avg       0.83      0.83      0.83        24\n",
      "   macro avg       0.84      0.81      0.82        24\n",
      "weighted avg       0.84      0.83      0.83        24\n",
      "\n"
     ]
    },
    {
     "data": {
      "image/png": "[encoded data removed]",
      "text/plain": [
       "<Figure size 432x288 with 1 Axes>"
      ]
     },
     "metadata": {
      "needs_background": "light"
     },
     "output_type": "display_data"
    }
   ],
   "source": [
    "konami.accuracy_ROKs(ex_y_test, ex_y_pred, 'SVM')"
   ]
  },
  {
   "cell_type": "markdown",
   "metadata": {},
   "source": [
    "#### Question 5\n",
    "\n",
    "##### Save the accuracy score as `svm_model` to `ex_model_final_svc`."
   ]
  },
  {
   "cell_type": "code",
   "execution_count": 62,
   "metadata": {},
   "outputs": [
    {
     "name": "stdout",
     "output_type": "stream",
     "text": [
      "     metrics  values                                 model\n",
      "0   accuracy  0.8333                                 knn_5\n",
      "1   accuracy  0.9359                      knn_GridSearchCV\n",
      "2   accuracy  0.9583                                knn_27\n",
      "3   accuracy  1.0000                              logistic\n",
      "4   accuracy  1.0000                  logistic_withdummies\n",
      "5   accuracy  1.0000                        logistic_tuned\n",
      "6   accuracy  0.9167                    tree_simple_subset\n",
      "7   accuracy  0.9583               full_tree_simple_subset\n",
      "8   accuracy  0.9583            full_tree_optimized_subset\n",
      "9   accuracy  0.8750                         random forest\n",
      "10  accuracy  0.8750                      gradient_booster\n",
      "11  accuracy  0.8750  optimized_accuracy_forest_cv_shuffle\n",
      "12  accuracy  0.8750          optimized_accuracy_forest_cv\n",
      "13  accuracy  0.8750                optimized_accuracy_gbm\n",
      "14  accuracy  0.8750                optimized_accuracy_gbm\n",
      "15  accuracy  0.8333                             svc_model\n",
      "16  accuracy  0.8333                             svm_model\n"
     ]
    }
   ],
   "source": [
    "ex_model_final_svc = konami.update_model_score(ex_model_final_svc, ex_svm_accuracy, 'svm_model')"
   ]
  },
  {
   "cell_type": "markdown",
   "metadata": {},
   "source": [
    "## Exercise 3"
   ]
  },
  {
   "cell_type": "markdown",
   "metadata": {},
   "source": [
    "#### Question 1\n",
    "\n",
    "##### Set the range parameters for cross-validation and save as `ex_tuned_parameters`.\n",
    "##### Fit the tuned parameters for grid search to svm and save as `ex_svm_cv`.\n",
    "##### Train the model with `X_train_ex` and `y_train_ex`."
   ]
  },
  {
   "cell_type": "code",
   "execution_count": 70,
   "metadata": {},
   "outputs": [
    {
     "data": {
      "text/plain": [
       "(54, 5)"
      ]
     },
     "execution_count": 70,
     "metadata": {},
     "output_type": "execute_result"
    }
   ],
   "source": [
    "ex_x_train.shape"
   ]
  },
  {
   "cell_type": "code",
   "execution_count": 71,
   "metadata": {},
   "outputs": [
    {
     "name": "stdout",
     "output_type": "stream",
     "text": [
      "[1, 2, 3, 4, 5, 6, 7, 8, 9, 10, 11, 12, 13, 14, 15, 16, 17, 18, 19, 20, 21, 22, 23, 24, 25, 26, 27, 28, 29, 30, 31, 32, 33, 34, 35, 36, 37, 38, 39, 40, 41, 42, 43, 44, 45, 46, 47, 48, 49, 50, 51, 52, 53]\n"
     ]
    }
   ],
   "source": [
    "c_range = list(range(1, ex_x_train.shape[0], 1))\n",
    "print(c_range)"
   ]
  },
  {
   "cell_type": "code",
   "execution_count": 78,
   "metadata": {},
   "outputs": [
    {
     "name": "stderr",
     "output_type": "stream",
     "text": [
      "/anaconda3/lib/python3.7/site-packages/sklearn/model_selection/_search.py:841: DeprecationWarning: The default of the `iid` parameter will change from True to False in version 0.22 and will be removed in 0.24. This will change numeric results when test-set sizes are unequal.\n",
      "  DeprecationWarning)\n"
     ]
    },
    {
     "data": {
      "text/plain": [
       "GridSearchCV(cv=5, error_score='raise-deprecating',\n",
       "       estimator=SVC(C=1.0, cache_size=200, class_weight=None, coef0=0.0,\n",
       "  decision_function_shape='ovr', degree=3, gamma='auto_deprecated',\n",
       "  kernel='rbf', max_iter=-1, probability=False, random_state=None,\n",
       "  shrinking=True, tol=0.001, verbose=False),\n",
       "       fit_params=None, iid='warn', n_jobs=None,\n",
       "       param_grid=[{'kernel': ['rbf'], 'gamma': [0.001, 0.0001], 'C': [1, 2, 3, 4, 5, 6, 7, 8, 9, 10, 11, 12, 13, 14, 15, 16, 17, 18, 19, 20, 21, 22, 23, 24, 25, 26, 27, 28, 29, 30, 31, 32, 33, 34, 35, 36, 37, 38, 39, 40, 41, 42, 43, 44, 45, 46, 47, 48, 49, 50, 51, 52, 53]}],\n",
       "       pre_dispatch='2*n_jobs', refit=True, return_train_score='warn',\n",
       "       scoring=None, verbose=0)"
      ]
     },
     "execution_count": 78,
     "metadata": {},
     "output_type": "execute_result"
    }
   ],
   "source": [
    "# Set the parameters by cross-validation.\n",
    "ex_tuned_parameters = [{'kernel': ['rbf'], \n",
    "                        'gamma': [1e-3, 1e-4],\n",
    "                        'C': c_range}]\n",
    "\n",
    "# Fit the tuned parameters for grid search to SVM.\n",
    "ex_svm_cv = GridSearchCV(SVC(),\n",
    "                      ex_tuned_parameters, \n",
    "                      cv = 5)\n",
    "\n",
    "ex_svm_cv.fit(ex_x_train, ex_y_train)"
   ]
  },
  {
   "cell_type": "markdown",
   "metadata": {},
   "source": [
    "#### Question 2\n",
    "\n",
    "##### Find the best tuned parameters for `svm_cv`.\n",
    "##### Save each of the best parameters as `ex_optimized_c`, `ex_optimized_gamma`, and `ex_optimized_kernel`."
   ]
  },
  {
   "cell_type": "code",
   "execution_count": 81,
   "metadata": {},
   "outputs": [
    {
     "data": {
      "text/plain": [
       "{'C': 1, 'gamma': 0.0001, 'kernel': 'rbf'}"
      ]
     },
     "execution_count": 81,
     "metadata": {},
     "output_type": "execute_result"
    }
   ],
   "source": [
    "ex_svm_cv.best_params_"
   ]
  },
  {
   "cell_type": "code",
   "execution_count": 80,
   "metadata": {},
   "outputs": [
    {
     "data": {
      "text/plain": [
       "SVC(C=1, cache_size=200, class_weight=None, coef0=0.0,\n",
       "  decision_function_shape='ovr', degree=3, gamma=0.0001, kernel='rbf',\n",
       "  max_iter=-1, probability=False, random_state=None, shrinking=True,\n",
       "  tol=0.001, verbose=False)"
      ]
     },
     "execution_count": 80,
     "metadata": {},
     "output_type": "execute_result"
    }
   ],
   "source": [
    "# Run the model with optimized hyperparameters.\n",
    "ex_sv_cv_optimized = SVC(**ex_svm_cv.best_params_)\n",
    "\n",
    "ex_sv_cv_optimized.fit(ex_x_train, ex_y_train)\n"
   ]
  },
  {
   "cell_type": "markdown",
   "metadata": {},
   "source": [
    "#### Question 3\n",
    "\n",
    "##### Using the optimized parameters as hyperparameters, create a SVM model and save as `ex_sv_cv_optimized`.\n",
    "##### Train `ex_sv_cv_optimized` with `X_train_ex` and `y_train_ex`."
   ]
  },
  {
   "cell_type": "code",
   "execution_count": 82,
   "metadata": {},
   "outputs": [
    {
     "name": "stdout",
     "output_type": "stream",
     "text": [
      "see above\n"
     ]
    }
   ],
   "source": [
    "print('see above')"
   ]
  },
  {
   "cell_type": "markdown",
   "metadata": {},
   "source": [
    "#### Question 4\n",
    "##### Using `ex_sv_cv_optimized`, predict on the test data and save as `ex_y_pred`.\n",
    "##### Print the first five rows of `ex_y_pred`. "
   ]
  },
  {
   "cell_type": "code",
   "execution_count": 84,
   "metadata": {},
   "outputs": [
    {
     "data": {
      "text/plain": [
       "array([0, 0, 0, 1, 1])"
      ]
     },
     "execution_count": 84,
     "metadata": {},
     "output_type": "execute_result"
    }
   ],
   "source": [
    "# Predict on the test data.\n",
    "ex_y_pred = ex_sv_cv_optimized.predict(ex_x_test)\n",
    "ex_y_pred[0:5]"
   ]
  },
  {
   "cell_type": "markdown",
   "metadata": {},
   "source": [
    "#### Question 5\n",
    "\n",
    "##### Get the accuracy score for the `ex_sv_cv_optimized` model and save as `ex_svm_cv_accuracy`.\n",
    "##### Also, create a confusion matrix for this model."
   ]
  },
  {
   "cell_type": "code",
   "execution_count": 85,
   "metadata": {},
   "outputs": [
    {
     "data": {
      "image/png": "[encoded data removed]",
      "text/plain": [
       "<Figure size 432x288 with 1 Axes>"
      ]
     },
     "metadata": {
      "needs_background": "light"
     },
     "output_type": "display_data"
    },
    {
     "name": "stdout",
     "output_type": "stream",
     "text": [
      "Accuracy for the model on test data:  0.8333333333333334\n"
     ]
    }
   ],
   "source": [
    "ex_svm_cv_accuracy = konami.plt_cm(ex_y_test, ex_y_pred)"
   ]
  },
  {
   "cell_type": "markdown",
   "metadata": {},
   "source": [
    "#### Question 6\n",
    "##### Now create an entire classification report and save as `ex_class_report`. \n",
    "##### Take a look at the classification report. \n",
    "##### Also, plot the ROC curve to better see how our model performed. "
   ]
  },
  {
   "cell_type": "code",
   "execution_count": 86,
   "metadata": {},
   "outputs": [
    {
     "name": "stdout",
     "output_type": "stream",
     "text": [
      "              precision    recall  f1-score   support\n",
      "\n",
      "           0       0.81      0.93      0.87        14\n",
      "           1       0.88      0.70      0.78        10\n",
      "\n",
      "   micro avg       0.83      0.83      0.83        24\n",
      "   macro avg       0.84      0.81      0.82        24\n",
      "weighted avg       0.84      0.83      0.83        24\n",
      "\n"
     ]
    },
    {
     "data": {
      "image/png": "[encoded data removed]",
      "text/plain": [
       "<Figure size 432x288 with 1 Axes>"
      ]
     },
     "metadata": {
      "needs_background": "light"
     },
     "output_type": "display_data"
    }
   ],
   "source": [
    "konami.accuracy_ROKs(ex_y_test, ex_y_pred, 'SVM_CV')"
   ]
  },
  {
   "cell_type": "markdown",
   "metadata": {},
   "source": [
    "#### Question 7\n",
    "##### Save the accuracy score as `svm_optimized` to `ex_model_final_svc`.\n",
    "##### Pickle the dataframe as `ex_model_final_svc` for future use. "
   ]
  },
  {
   "cell_type": "code",
   "execution_count": 87,
   "metadata": {},
   "outputs": [
    {
     "name": "stdout",
     "output_type": "stream",
     "text": [
      "     metrics  values                                 model\n",
      "0   accuracy  0.8333                                 knn_5\n",
      "1   accuracy  0.9359                      knn_GridSearchCV\n",
      "2   accuracy  0.9583                                knn_27\n",
      "3   accuracy  1.0000                              logistic\n",
      "4   accuracy  1.0000                  logistic_withdummies\n",
      "5   accuracy  1.0000                        logistic_tuned\n",
      "6   accuracy  0.9167                    tree_simple_subset\n",
      "7   accuracy  0.9583               full_tree_simple_subset\n",
      "8   accuracy  0.9583            full_tree_optimized_subset\n",
      "9   accuracy  0.8750                         random forest\n",
      "10  accuracy  0.8750                      gradient_booster\n",
      "11  accuracy  0.8750  optimized_accuracy_forest_cv_shuffle\n",
      "12  accuracy  0.8750          optimized_accuracy_forest_cv\n",
      "13  accuracy  0.8750                optimized_accuracy_gbm\n",
      "14  accuracy  0.8750                optimized_accuracy_gbm\n",
      "15  accuracy  0.8333                             svc_model\n",
      "16  accuracy  0.8333                             svm_model\n",
      "17  accuracy  0.8333                          svm_cv_model\n"
     ]
    }
   ],
   "source": [
    "ex_model_final_svc = konami.update_model_score(ex_model_final_svc, ex_svm_cv_accuracy, 'svm_cv_model')\n"
   ]
  },
  {
   "cell_type": "code",
   "execution_count": 88,
   "metadata": {},
   "outputs": [],
   "source": [
    "pickle.dump(ex_model_final_svc, open('ex_model_final_svc.sav', 'wb'))"
   ]
  }
 ],
 "metadata": {
  "kernelspec": {
   "display_name": "Python 3",
   "language": "python",
   "name": "python3"
  },
  "language_info": {
   "codemirror_mode": {
    "name": "ipython",
    "version": 3
   },
   "file_extension": ".py",
   "mimetype": "text/x-python",
   "name": "python",
   "nbconvert_exporter": "python",
   "pygments_lexer": "ipython3",
   "version": "3.7.1"
  }
 },
 "nbformat": 4,
 "nbformat_minor": 2
}
