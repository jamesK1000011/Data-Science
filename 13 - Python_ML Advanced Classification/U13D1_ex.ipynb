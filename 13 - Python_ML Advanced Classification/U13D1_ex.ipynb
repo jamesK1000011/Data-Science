{
 "cells": [
  {
   "cell_type": "markdown",
   "metadata": {},
   "source": [
    "# Advanced Classification Day 1 - Exercises"
   ]
  },
  {
   "cell_type": "markdown",
   "metadata": {},
   "source": [
    "## Exercise 1"
   ]
  },
  {
   "cell_type": "markdown",
   "metadata": {},
   "source": [
    "#### Question 1 \n",
    "##### Load libraries that are used in this module\n"
   ]
  },
  {
   "cell_type": "code",
   "execution_count": 2,
   "metadata": {},
   "outputs": [],
   "source": [
    "main_dir = '/Users/datasociety/Desktop/af-werx'\n",
    "data_dir = main_dir + \"/data\"\n",
    "plot_dir = main_dir + \"/plots\""
   ]
  },
  {
   "cell_type": "code",
   "execution_count": 3,
   "metadata": {},
   "outputs": [],
   "source": [
    "import os\n",
    "import pickle\n",
    "import matplotlib.pyplot as plt\n",
    "import numpy as np\n",
    "import pandas as pd\n",
    "from textwrap import wrap\n",
    "from sklearn.model_selection import train_test_split\n",
    "from sklearn import metrics\n",
    "from sklearn import tree\n",
    "from sklearn.metrics import accuracy_score\n",
    "\n",
    "# New today - random forest and boosting packages\n",
    "from sklearn.ensemble import RandomForestClassifier\n",
    "from sklearn.ensemble import GradientBoostingClassifier\n",
    "from matplotlib.legend_handler import HandlerLine2D"
   ]
  },
  {
   "cell_type": "markdown",
   "metadata": {},
   "source": [
    "#### Question 2\n",
    "##### Set `main_dir` to the location of your `af-werx` folder.\n",
    "##### Make `data_dir` and `plot_dir` from the `main_dir` and concatenate remainder of the path to data directory."
   ]
  },
  {
   "cell_type": "code",
   "execution_count": 4,
   "metadata": {},
   "outputs": [
    {
     "name": "stdout",
     "output_type": "stream",
     "text": [
      "/Users/datasociety/Desktop/af-werx/data\n"
     ]
    }
   ],
   "source": [
    "# Set working directory.\n",
    "os.chdir(data_dir)\n",
    "# Check working directory.\n",
    "print(os.getcwd())"
   ]
  },
  {
   "cell_type": "markdown",
   "metadata": {},
   "source": [
    "#### Question 3\n",
    "##### Set the working directory to `data_dir`.\n",
    "##### Check if the working directory is updated to `data_dir`.\n"
   ]
  },
  {
   "cell_type": "code",
   "execution_count": 5,
   "metadata": {},
   "outputs": [
    {
     "name": "stdout",
     "output_type": "stream",
     "text": [
      "see above\n"
     ]
    }
   ],
   "source": [
    "print('see above')"
   ]
  },
  {
   "cell_type": "markdown",
   "metadata": {},
   "source": [
    "#### Question 4\n",
    "##### Load the clean pickled dataset `chicago_no_hc` and save as `census`."
   ]
  },
  {
   "cell_type": "code",
   "execution_count": 6,
   "metadata": {},
   "outputs": [],
   "source": [
    "census = pickle.load(open('chicago_census.sav', 'rb'))"
   ]
  },
  {
   "cell_type": "markdown",
   "metadata": {},
   "source": [
    "#### Question 5\n",
    "##### Select the predictors by dropping variable `income` and save the result to a dataframe `X_ex`.\n",
    "##### Save the target variable `income` column to `y_ex` variable.\n",
    "##### Set seed as 1.\n",
    "##### Split the data into train and test sets and save respective variables to `X_train_ex`, `X_test_ex`, `y_train_ex`, `y_test_ex`.\n"
   ]
  },
  {
   "cell_type": "code",
   "execution_count": 7,
   "metadata": {},
   "outputs": [],
   "source": [
    "def df_target_split(df, target, s = 2, ts = .3):\n",
    "    \"\"\"\"\"\"\n",
    "    # Separate target from data.\n",
    "    ex_y = np.array(df[f'{target}'])\n",
    "    # Split the predictors from data.\n",
    "    ex_x = df.drop(f'{target}', axis = 1)\n",
    "\n",
    "    # Set the seed.\n",
    "    np.random.seed(s)\n",
    "    \n",
    "    # Split data into training and test set\n",
    "    ex_X_train, ex_X_test, ex_y_train, ex_y_test = train_test_split(ex_x, ex_y, test_size = ts)\n",
    "    \n",
    "    return ex_X_train, ex_X_test, ex_y_train, ex_y_test"
   ]
  },
  {
   "cell_type": "code",
   "execution_count": 8,
   "metadata": {},
   "outputs": [],
   "source": [
    "ex_X_train, ex_X_test, ex_y_train, ex_y_test = df_target_split(census, 'income', 1)"
   ]
  },
  {
   "cell_type": "markdown",
   "metadata": {},
   "source": [
    "#### Question 6\n",
    "##### Create a random forest classifier and save it to `forest_ex` variable.\n",
    "##### Set random state to 1, number of estimators to 100 and `gini` as the criterion in the model.\n",
    "##### Fit the classifier to our training data."
   ]
  },
  {
   "cell_type": "code",
   "execution_count": 9,
   "metadata": {},
   "outputs": [],
   "source": [
    "# define function to optimize model\n",
    "def model_random_forest(df, target, params):\n",
    "\n",
    "    # call function to split train and test data, specify income\n",
    "    X_train, X_test, Y_train, Y_test = df_target_split(df, target, 1)\n",
    "    \n",
    "        \n",
    "    # pass and unpack params dictionary as specified parameter\n",
    "    forest = RandomForestClassifier(**params)\n",
    "    \n",
    "    # fit data\n",
    "    forest.fit(X_train, Y_train)\n",
    "    print(forest)\n",
    "    # predict\n",
    "    y_pred = forest.predict(X_test)\n",
    "    print(y_pred[0:5,])\n",
    "    # return predictions.\n",
    "    return y_pred, Y_test, forest"
   ]
  },
  {
   "cell_type": "code",
   "execution_count": 10,
   "metadata": {},
   "outputs": [],
   "source": [
    "params = {'criterion' : 'gini',\n",
    "          'n_estimators' : 100,\n",
    "          'random_state' : 1}"
   ]
  },
  {
   "cell_type": "code",
   "execution_count": 11,
   "metadata": {},
   "outputs": [
    {
     "name": "stdout",
     "output_type": "stream",
     "text": [
      "RandomForestClassifier(bootstrap=True, class_weight=None, criterion='gini',\n",
      "            max_depth=None, max_features='auto', max_leaf_nodes=None,\n",
      "            min_impurity_decrease=0.0, min_impurity_split=None,\n",
      "            min_samples_leaf=1, min_samples_split=2,\n",
      "            min_weight_fraction_leaf=0.0, n_estimators=100, n_jobs=None,\n",
      "            oob_score=False, random_state=1, verbose=0, warm_start=False)\n",
      "[0 0 0 1 1]\n"
     ]
    },
    {
     "ename": "ValueError",
     "evalue": "too many values to unpack (expected 2)",
     "output_type": "error",
     "traceback": [
      "\u001b[0;31m---------------------------------------------------------------------------\u001b[0m",
      "\u001b[0;31mValueError\u001b[0m                                Traceback (most recent call last)",
      "\u001b[0;32m<ipython-input-11-896919fed8b2>\u001b[0m in \u001b[0;36m<module>\u001b[0;34m\u001b[0m\n\u001b[0;32m----> 1\u001b[0;31m \u001b[0mex_y_predict_forest\u001b[0m\u001b[0;34m,\u001b[0m \u001b[0mex_y_test\u001b[0m \u001b[0;34m=\u001b[0m \u001b[0mmodel_random_forest\u001b[0m\u001b[0;34m(\u001b[0m\u001b[0mcensus\u001b[0m\u001b[0;34m,\u001b[0m \u001b[0;34m'income'\u001b[0m\u001b[0;34m,\u001b[0m \u001b[0mparams\u001b[0m\u001b[0;34m)\u001b[0m\u001b[0;34m\u001b[0m\u001b[0;34m\u001b[0m\u001b[0m\n\u001b[0m",
      "\u001b[0;31mValueError\u001b[0m: too many values to unpack (expected 2)"
     ]
    }
   ],
   "source": [
    "ex_y_predict_forest, ex_y_test = model_random_forest(census, 'income', params)"
   ]
  },
  {
   "cell_type": "markdown",
   "metadata": {},
   "source": [
    "#### Question 7\n",
    "##### Predict on the test data and print the first 5 predictions on the test data.\n"
   ]
  },
  {
   "cell_type": "code",
   "execution_count": 12,
   "metadata": {},
   "outputs": [
    {
     "name": "stdout",
     "output_type": "stream",
     "text": [
      "RandomForestClassifier(bootstrap=True, class_weight=None, criterion='gini',\n",
      "            max_depth=None, max_features='auto', max_leaf_nodes=None,\n",
      "            min_impurity_decrease=0.0, min_impurity_split=None,\n",
      "            min_samples_leaf=1, min_samples_split=2,\n",
      "            min_weight_fraction_leaf=0.0, n_estimators=100, n_jobs=None,\n",
      "            oob_score=False, random_state=1, verbose=0, warm_start=False)\n",
      "[0 0 0 1 1]\n"
     ]
    }
   ],
   "source": [
    "ex_y_predict_forest, ex_y_test, ex_forest = model_random_forest(census, 'income', params)"
   ]
  },
  {
   "cell_type": "markdown",
   "metadata": {},
   "source": [
    "#### Question 8\n",
    "##### Print the confusion matrix and save it as `conf_matrix_forest_ex`.\n",
    "##### Print the accuracy score as `accuracy_forest_ex`.\n",
    "##### Compute the accuracy on the training data."
   ]
  },
  {
   "cell_type": "code",
   "execution_count": 13,
   "metadata": {},
   "outputs": [],
   "source": [
    "def plt_cm(y_test, y_predict):\n",
    "    \n",
    "    #Take a look at test data confusion matrix and get accuracy\n",
    "    conf_matrix = metrics.confusion_matrix(y_test, y_predict)\n",
    "    accuracy = metrics.accuracy_score(y_test, y_predict)\n",
    "    \n",
    "    # make pretty and plot\n",
    "    plt.clf()\n",
    "    plt.imshow(conf_matrix, \n",
    "               interpolation='nearest', \n",
    "               cmap=plt.cm.Wistia)\n",
    "    classNames = ['Negative','Positive']\n",
    "    plt.title('Confusion Matrix - Test Data')\n",
    "    plt.ylabel('True label')\n",
    "    plt.xlabel('Predicted label')\n",
    "    tick_marks = np.arange(len(classNames))\n",
    "    plt.xticks(tick_marks, classNames, rotation=45)\n",
    "    plt.yticks(tick_marks, classNames)\n",
    "    s = [['TN','FP'], ['FN', 'TP']]\n",
    "    for i in range(2):\n",
    "        for j in range(2):\n",
    "            plt.text(j,i, str(s[i][j]) + \" = \" + str(conf_matrix[i][j]))\n",
    "    plt.show()\n",
    "    # print accuracy\n",
    "    print(\"Accuracy for the model on test data: \", accuracy)\n",
    "    return accuracy"
   ]
  },
  {
   "cell_type": "code",
   "execution_count": 14,
   "metadata": {},
   "outputs": [
    {
     "data": {
      "image/png": "[encoded data removed]",
      "text/plain": [
       "<Figure size 432x288 with 1 Axes>"
      ]
     },
     "metadata": {
      "needs_background": "light"
     },
     "output_type": "display_data"
    },
    {
     "name": "stdout",
     "output_type": "stream",
     "text": [
      "Accuracy for the model on test data:  0.875\n"
     ]
    }
   ],
   "source": [
    "accuracy_forest_ex = plt_cm(ex_y_test, ex_y_predict_forest)"
   ]
  },
  {
   "cell_type": "markdown",
   "metadata": {},
   "source": [
    "#### Question 9\n",
    "##### Load the pickled dataframe `ex_model_final_tree.sav` we created in the last class and save as `ex_model_final_rf_gbm`.\n",
    "##### Append the accuracy `accuracy_forest_ex` obtained above to the dataframe."
   ]
  },
  {
   "cell_type": "code",
   "execution_count": 15,
   "metadata": {},
   "outputs": [],
   "source": [
    "ex_model_final_rf_gbm = pickle.load(open('ex_model_final.sav', 'rb'))"
   ]
  },
  {
   "cell_type": "code",
   "execution_count": 16,
   "metadata": {},
   "outputs": [],
   "source": [
    "def update_model_score(model_df, model_accuracy, m_name):\n",
    "    model_df = model_df.append(\n",
    "    {'metrics' : \"accuracy\" ,\n",
    "     'values' : round(model_accuracy,4),\n",
    "     'model': m_name\n",
    "    },\n",
    "    ignore_index = True\n",
    "    )\n",
    "    \n",
    "    print(model_df)\n",
    "    return model_df"
   ]
  },
  {
   "cell_type": "code",
   "execution_count": 17,
   "metadata": {},
   "outputs": [
    {
     "name": "stdout",
     "output_type": "stream",
     "text": [
      "    metrics  values                       model\n",
      "0  accuracy  0.8333                       knn_5\n",
      "1  accuracy  0.9359            knn_GridSearchCV\n",
      "2  accuracy  0.9583                      knn_27\n",
      "3  accuracy  1.0000                    logistic\n",
      "4  accuracy  1.0000        logistic_withdummies\n",
      "5  accuracy  1.0000              logistic_tuned\n",
      "6  accuracy  0.9167          tree_simple_subset\n",
      "7  accuracy  0.9583     full_tree_simple_subset\n",
      "8  accuracy  0.9583  full_tree_optimized_subset\n",
      "9  accuracy  0.8750               random forest\n"
     ]
    }
   ],
   "source": [
    "ex_model_final_rf_gbm = update_model_score(ex_model_final_rf_gbm, accuracy_forest_ex, 'random forest')"
   ]
  },
  {
   "cell_type": "markdown",
   "metadata": {},
   "source": [
    "#### Question 10\n",
    "##### Print the feature importance graph and print the top 10 important features in our random forest model.\n"
   ]
  },
  {
   "cell_type": "code",
   "execution_count": 18,
   "metadata": {},
   "outputs": [],
   "source": [
    "def plot_importance(df, target, f_model):\n",
    "    \n",
    "    df_features = df.drop(f'{target}', axis = 1)\n",
    "    features = df_features.columns\n",
    "    importances = f_model.feature_importances_\n",
    "    indices = np.argsort(importances)[::-1]\n",
    "    top_indices = indices[0:10][::-1]\n",
    "\n",
    "    plt.figure(1)\n",
    "    plt.title('Feature Importance')\n",
    "    plt.barh(range(len(top_indices)), \n",
    "             importances[top_indices], \n",
    "             color = 'b', \n",
    "             align = 'center')\n",
    "    labels = features[top_indices]\n",
    "    plt.yticks(range(len(top_indices)), \n",
    "               labels)\n",
    "    plt.xlabel('Relative Importance')"
   ]
  },
  {
   "cell_type": "code",
   "execution_count": 19,
   "metadata": {},
   "outputs": [
    {
     "data": {
      "image/png": "[encoded data removed]",
      "text/plain": [
       "<Figure size 432x288 with 1 Axes>"
      ]
     },
     "metadata": {
      "needs_background": "light"
     },
     "output_type": "display_data"
    }
   ],
   "source": [
    "plot_importance(census, 'income', ex_forest)"
   ]
  },
  {
   "cell_type": "markdown",
   "metadata": {},
   "source": [
    "#### Question 11\n",
    "##### Pickle your random forest model `forest_ex` for use in the next class.\n",
    "##### Save as `ex_model_forest.sav`."
   ]
  },
  {
   "cell_type": "code",
   "execution_count": 20,
   "metadata": {},
   "outputs": [
    {
     "ename": "NameError",
     "evalue": "name 'forest_ex' is not defined",
     "output_type": "error",
     "traceback": [
      "\u001b[0;31m---------------------------------------------------------------------------\u001b[0m",
      "\u001b[0;31mNameError\u001b[0m                                 Traceback (most recent call last)",
      "\u001b[0;32m<ipython-input-20-ae319d44a5ee>\u001b[0m in \u001b[0;36m<module>\u001b[0;34m\u001b[0m\n\u001b[0;32m----> 1\u001b[0;31m \u001b[0mpickle\u001b[0m\u001b[0;34m.\u001b[0m\u001b[0mdump\u001b[0m\u001b[0;34m(\u001b[0m\u001b[0mforest_ex\u001b[0m\u001b[0;34m,\u001b[0m \u001b[0mopen\u001b[0m\u001b[0;34m(\u001b[0m\u001b[0;34m\"ex_model_forest.sav\"\u001b[0m\u001b[0;34m,\u001b[0m\u001b[0;34m\"wb\"\u001b[0m \u001b[0;34m)\u001b[0m\u001b[0;34m)\u001b[0m\u001b[0;34m\u001b[0m\u001b[0;34m\u001b[0m\u001b[0m\n\u001b[0m",
      "\u001b[0;31mNameError\u001b[0m: name 'forest_ex' is not defined"
     ]
    }
   ],
   "source": [
    "pickle.dump(forest_ex, open(\"ex_model_forest.sav\",\"wb\" ))"
   ]
  },
  {
   "cell_type": "markdown",
   "metadata": {},
   "source": [
    "## Exercise 2\n",
    "\n",
    "#### Question 1\n",
    "\n",
    "##### Create a gradient boosting classifier as `gbm_ex` with number of estimators set to 100, learning rate set to 1, max depth set to 1, and random state set to 1.\n",
    "##### Fit the model to our training data.\n"
   ]
  },
  {
   "cell_type": "code",
   "execution_count": 21,
   "metadata": {},
   "outputs": [],
   "source": [
    "# define function to gradient boosting model \n",
    "def model_gradient_boosting(df, target, params):\n",
    "\n",
    "    # call function to split train and test data, specify income\n",
    "    X_train, X_test, Y_train, Y_test = df_target_split(df, target, 1)\n",
    "    \n",
    "        \n",
    "    # pass and unpack params dictionary as specified parameter\n",
    "    gbm = GradientBoostingClassifier(**params)\n",
    "    \n",
    "    # fit data\n",
    "    gbm.fit(X_train, Y_train)\n",
    "    print(gbm)\n",
    "    # predict\n",
    "    y_pred = gbm.predict(X_test)\n",
    "    print(y_pred[0:5,])\n",
    "    # return predictions.\n",
    "    return y_pred, Y_test, gbm"
   ]
  },
  {
   "cell_type": "code",
   "execution_count": 22,
   "metadata": {},
   "outputs": [],
   "source": [
    "params_g = {'n_estimators' : 100, \n",
    "            'learning_rate' : 1, \n",
    "            'max_depth' : 1, \n",
    "            'random_state' : 1}"
   ]
  },
  {
   "cell_type": "markdown",
   "metadata": {},
   "source": [
    "#### Question 2\n",
    "##### Predict on the test data using our gbm classifier.\n",
    "##### Print the first 5 predicted values.\n"
   ]
  },
  {
   "cell_type": "code",
   "execution_count": 23,
   "metadata": {},
   "outputs": [
    {
     "name": "stdout",
     "output_type": "stream",
     "text": [
      "GradientBoostingClassifier(criterion='friedman_mse', init=None,\n",
      "              learning_rate=1, loss='deviance', max_depth=1,\n",
      "              max_features=None, max_leaf_nodes=None,\n",
      "              min_impurity_decrease=0.0, min_impurity_split=None,\n",
      "              min_samples_leaf=1, min_samples_split=2,\n",
      "              min_weight_fraction_leaf=0.0, n_estimators=100,\n",
      "              n_iter_no_change=None, presort='auto', random_state=1,\n",
      "              subsample=1.0, tol=0.0001, validation_fraction=0.1,\n",
      "              verbose=0, warm_start=False)\n",
      "[0 0 0 1 1]\n"
     ]
    }
   ],
   "source": [
    "ex_y_predict_gbm, ex_y_test_gbm, gbm_ex = model_gradient_boosting(census, 'income', params_g)"
   ]
  },
  {
   "cell_type": "markdown",
   "metadata": {},
   "source": [
    "#### Question 3\n",
    "##### Print the confusion matrix and accuracy score on the test data.\n",
    "##### Print the training accuracy of gbm model.\n"
   ]
  },
  {
   "cell_type": "code",
   "execution_count": 24,
   "metadata": {},
   "outputs": [
    {
     "data": {
      "image/png": "[encoded data removed]",
      "text/plain": [
       "<Figure size 432x288 with 1 Axes>"
      ]
     },
     "metadata": {
      "needs_background": "light"
     },
     "output_type": "display_data"
    },
    {
     "name": "stdout",
     "output_type": "stream",
     "text": [
      "Accuracy for the model on test data:  0.875\n"
     ]
    }
   ],
   "source": [
    "gbm_accuracy = plt_cm(ex_y_test_gbm, ex_y_predict_gbm)"
   ]
  },
  {
   "cell_type": "markdown",
   "metadata": {},
   "source": [
    "#### Question 4\n",
    "##### Print the feature importance graph and print top 10 important predictors.\n"
   ]
  },
  {
   "cell_type": "code",
   "execution_count": 25,
   "metadata": {},
   "outputs": [
    {
     "data": {
      "image/png": "[encoded data removed]",
      "text/plain": [
       "<Figure size 432x288 with 1 Axes>"
      ]
     },
     "metadata": {
      "needs_background": "light"
     },
     "output_type": "display_data"
    }
   ],
   "source": [
    "plot_importance(census, 'income', gbm_ex)"
   ]
  },
  {
   "cell_type": "markdown",
   "metadata": {},
   "source": [
    "#### Question 5 \n",
    "##### Add the gbm accuracy score in the dataset. \n",
    "##### Remember to pickle the dataframe as `ex_model_final_rf_gbm.sav` for later use."
   ]
  },
  {
   "cell_type": "code",
   "execution_count": 26,
   "metadata": {},
   "outputs": [
    {
     "name": "stdout",
     "output_type": "stream",
     "text": [
      "     metrics  values                       model\n",
      "0   accuracy  0.8333                       knn_5\n",
      "1   accuracy  0.9359            knn_GridSearchCV\n",
      "2   accuracy  0.9583                      knn_27\n",
      "3   accuracy  1.0000                    logistic\n",
      "4   accuracy  1.0000        logistic_withdummies\n",
      "5   accuracy  1.0000              logistic_tuned\n",
      "6   accuracy  0.9167          tree_simple_subset\n",
      "7   accuracy  0.9583     full_tree_simple_subset\n",
      "8   accuracy  0.9583  full_tree_optimized_subset\n",
      "9   accuracy  0.8750               random forest\n",
      "10  accuracy  0.8750            gradient_booster\n"
     ]
    }
   ],
   "source": [
    "ex_model_final_rf_gbm = update_model_score(ex_model_final_rf_gbm, gbm_accuracy, 'gradient_booster')"
   ]
  },
  {
   "cell_type": "code",
   "execution_count": 27,
   "metadata": {},
   "outputs": [],
   "source": [
    "pickle.dump(ex_model_final_rf_gbm, open('ex_model_final.sav', 'wb'))"
   ]
  },
  {
   "cell_type": "code",
   "execution_count": null,
   "metadata": {},
   "outputs": [],
   "source": []
  },
  {
   "cell_type": "code",
   "execution_count": 28,
   "metadata": {},
   "outputs": [],
   "source": [
    "# define function for plotting\n",
    "def plot_results(optimizer, train_results, test_results, o_param):\n",
    "    line1, = plt.plot(optimizer,\n",
    "                      train_results, \n",
    "                      'b', \n",
    "                      label = \"Train accuracy\")\n",
    "    line2, = plt.plot(optimizer, \n",
    "                      test_results, \n",
    "                      'r', \n",
    "                      label = \"Test accuracy\")\n",
    "    plt.legend(handler_map={line1: HandlerLine2D(numpoints = 2)})\n",
    "    plt.ylabel('Accuracy')\n",
    "    plt.xlabel(o_param)\n",
    "    plt.show()"
   ]
  },
  {
   "cell_type": "code",
   "execution_count": 29,
   "metadata": {},
   "outputs": [],
   "source": [
    "# Define function that will determine the optimal number for each parameter.\n",
    "def optimal_parameter(values,test_results):\n",
    "    best_test_value = max(test_results)\n",
    "    best_test_index = test_results.index(best_test_value)\n",
    "    ex_best_value = values[best_test_index]\n",
    "    return(ex_best_value)"
   ]
  },
  {
   "cell_type": "code",
   "execution_count": 30,
   "metadata": {},
   "outputs": [],
   "source": [
    "# define function to optimize model\n",
    "def model_optimizer(df, target, model, optimizer, o_param):\n",
    "    # intiate empty lists\n",
    "    train_results = []\n",
    "    test_results = []\n",
    "    \n",
    "    # call function to split train and test data, specify income\n",
    "    X_train, X_test, Y_train, Y_test = df_target_split(df, target)\n",
    "    \n",
    "    for i in optimizer:\n",
    "        \n",
    "        # pass o_param as dictionary key and i as value\n",
    "        params = { o_param : i}\n",
    "        \n",
    "        # pass and unpack params dictionary as specified parameter\n",
    "        model = model.set_params(**params)\n",
    "        \n",
    "        # fit data\n",
    "        model.fit(X_train, Y_train)\n",
    "        train_pred = model.predict(X_train)\n",
    "        acc_train = accuracy_score(Y_train, train_pred)\n",
    "\n",
    "        # Add AUC score to previous train results\n",
    "        train_results.append(acc_train)\n",
    "        y_pred = model.predict(X_test)\n",
    "        acc_test = accuracy_score(Y_test, y_pred)\n",
    "\n",
    "        # Add AUC score to previous test results\n",
    "        test_results.append(acc_test)\n",
    "\n",
    "    #plot the results\n",
    "    plot_results(optimizer, train_results, test_results, o_param)\n",
    "\n",
    "    # return optimal parameter.\n",
    "    return optimal_parameter(optimizer, test_results)"
   ]
  },
  {
   "cell_type": "code",
   "execution_count": 31,
   "metadata": {},
   "outputs": [],
   "source": [
    "gbm_o = GradientBoostingClassifier()"
   ]
  },
  {
   "cell_type": "code",
   "execution_count": 32,
   "metadata": {},
   "outputs": [],
   "source": [
    "rndm_f = RandomForestClassifier()"
   ]
  },
  {
   "cell_type": "code",
   "execution_count": 33,
   "metadata": {},
   "outputs": [
    {
     "name": "stderr",
     "output_type": "stream",
     "text": [
      "/anaconda3/lib/python3.7/site-packages/sklearn/ensemble/forest.py:246: FutureWarning: The default value of n_estimators will change from 10 in version 0.20 to 100 in 0.22.\n",
      "  \"10 in version 0.20 to 100 in 0.22.\", FutureWarning)\n"
     ]
    },
    {
     "data": {
      "image/png": "[encoded data removed]",
      "text/plain": [
       "<Figure size 432x288 with 1 Axes>"
      ]
     },
     "metadata": {
      "needs_background": "light"
     },
     "output_type": "display_data"
    },
    {
     "data": {
      "text/plain": [
       "29.0"
      ]
     },
     "execution_count": 33,
     "metadata": {},
     "output_type": "execute_result"
    }
   ],
   "source": [
    "max_depths = np.linspace(1, census.shape[0], census.shape[0], endpoint = True)\n",
    "optimal_max_depth = model_optimizer(census, 'income', rndm_f, max_depths, 'max_depth')\n",
    "optimal_max_depth"
   ]
  },
  {
   "cell_type": "code",
   "execution_count": 34,
   "metadata": {},
   "outputs": [
    {
     "data": {
      "image/png": "[encoded data removed]",
      "text/plain": [
       "<Figure size 432x288 with 1 Axes>"
      ]
     },
     "metadata": {
      "needs_background": "light"
     },
     "output_type": "display_data"
    },
    {
     "data": {
      "text/plain": [
       "0.1"
      ]
     },
     "execution_count": 34,
     "metadata": {},
     "output_type": "execute_result"
    }
   ],
   "source": [
    "min_samples_splits = np.linspace(0.1, 0.5, 5, endpoint = True)\n",
    "\n",
    "optimal_min_samples_split = model_optimizer(census, 'income', rndm_f, min_samples_splits, 'min_samples_split')\n",
    "optimal_min_samples_split"
   ]
  },
  {
   "cell_type": "code",
   "execution_count": 35,
   "metadata": {},
   "outputs": [
    {
     "data": {
      "image/png": "[encoded data removed]",
      "text/plain": [
       "<Figure size 432x288 with 1 Axes>"
      ]
     },
     "metadata": {
      "needs_background": "light"
     },
     "output_type": "display_data"
    },
    {
     "data": {
      "text/plain": [
       "0.1"
      ]
     },
     "execution_count": 35,
     "metadata": {},
     "output_type": "execute_result"
    }
   ],
   "source": [
    "min_samples_leafs = np.linspace(0.1, 0.5, 5, endpoint = True)\n",
    "\n",
    "optimal_min_samples_leafs = model_optimizer(census, 'income', rndm_f, min_samples_leafs, 'min_samples_leaf')\n",
    "optimal_min_samples_leafs"
   ]
  },
  {
   "cell_type": "code",
   "execution_count": 142,
   "metadata": {},
   "outputs": [
    {
     "data": {
      "image/png": "[encoded data removed]",
      "text/plain": [
       "<Figure size 432x288 with 1 Axes>"
      ]
     },
     "metadata": {
      "needs_background": "light"
     },
     "output_type": "display_data"
    },
    {
     "data": {
      "text/plain": [
       "1"
      ]
     },
     "execution_count": 142,
     "metadata": {},
     "output_type": "execute_result"
    }
   ],
   "source": [
    "max_features = list(range(1, census.shape[1]))\n",
    "optimal_max_features = model_optimizer(census, 'income', rndm_f, max_features, 'max_features')\n",
    "optimal_max_features"
   ]
  },
  {
   "cell_type": "code",
   "execution_count": 143,
   "metadata": {},
   "outputs": [
    {
     "name": "stdout",
     "output_type": "stream",
     "text": [
      "The optimal max depth is: 29.0\n",
      "The optimal min samples split is: 0.1\n",
      "The optimal min samples leaf is: 0.1\n",
      "The optimal max features is: 1\n"
     ]
    }
   ],
   "source": [
    "print(\"The optimal max depth is:\", optimal_max_depth)\n",
    "print(\"The optimal min samples split is:\", optimal_min_samples_split)\n",
    "print(\"The optimal min samples leaf is:\", optimal_min_samples_leafs)\n",
    "print(\"The optimal max features is:\", optimal_max_features)"
   ]
  },
  {
   "cell_type": "code",
   "execution_count": 145,
   "metadata": {},
   "outputs": [
    {
     "name": "stdout",
     "output_type": "stream",
     "text": [
      "RandomForestClassifier(bootstrap=True, class_weight=None, criterion='gini',\n",
      "            max_depth=29.0, max_features=1, max_leaf_nodes=None,\n",
      "            min_impurity_decrease=0.0, min_impurity_split=None,\n",
      "            min_samples_leaf=0.1, min_samples_split=0.1,\n",
      "            min_weight_fraction_leaf=0.0, n_estimators='warn', n_jobs=None,\n",
      "            oob_score=False, random_state=None, verbose=0,\n",
      "            warm_start=False)\n"
     ]
    },
    {
     "name": "stderr",
     "output_type": "stream",
     "text": [
      "/anaconda3/lib/python3.7/site-packages/sklearn/ensemble/forest.py:246: FutureWarning: The default value of n_estimators will change from 10 in version 0.20 to 100 in 0.22.\n",
      "  \"10 in version 0.20 to 100 in 0.22.\", FutureWarning)\n"
     ]
    }
   ],
   "source": [
    "X_train, X_test, Y_train, Y_test = df_target_split(census, 'income')\n",
    "# Set the seed.\n",
    "np.random.seed(1)\n",
    "\n",
    "# Implement the decision tree on X_train.\n",
    "gbm_optimized = RandomForestClassifier(max_depth = optimal_max_depth,\n",
    "                                            min_samples_split = optimal_min_samples_split,\n",
    "                                            min_samples_leaf = optimal_min_samples_leafs,\n",
    "                                            max_features = optimal_max_features)\n",
    "\n",
    "# We can now see our optimized features where before they were just default:\n",
    "print(gbm_optimized)\n",
    "\n",
    "gbm_optimized_fit = gbm_optimized.fit(X_train, Y_train)\n"
   ]
  },
  {
   "cell_type": "code",
   "execution_count": 146,
   "metadata": {},
   "outputs": [
    {
     "name": "stdout",
     "output_type": "stream",
     "text": [
      "0.9583333333333334\n"
     ]
    }
   ],
   "source": [
    "# Predict on X_test.\n",
    "ex_y_predict_optimized = gbm_optimized_fit.predict(X_test)\n",
    " \n",
    "# Get the accuracy score.\n",
    "ex_acc_score_tree_optimized = accuracy_score(Y_test, ex_y_predict_optimized)\n",
    "\n",
    "print(ex_acc_score_tree_optimized)"
   ]
  },
  {
   "cell_type": "code",
   "execution_count": null,
   "metadata": {},
   "outputs": [],
   "source": []
  }
 ],
 "metadata": {
  "kernelspec": {
   "display_name": "Python 3",
   "language": "python",
   "name": "python3"
  },
  "language_info": {
   "codemirror_mode": {
    "name": "ipython",
    "version": 3
   },
   "file_extension": ".py",
   "mimetype": "text/x-python",
   "name": "python",
   "nbconvert_exporter": "python",
   "pygments_lexer": "ipython3",
   "version": "3.7.1"
  }
 },
 "nbformat": 4,
 "nbformat_minor": 4
}
