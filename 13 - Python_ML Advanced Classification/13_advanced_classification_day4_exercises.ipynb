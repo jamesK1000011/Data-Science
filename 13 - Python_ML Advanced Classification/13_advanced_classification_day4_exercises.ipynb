{
 "cells": [
  {
   "cell_type": "markdown",
   "metadata": {},
   "source": [
    "# Advanced Classification Day 4 - Exercises"
   ]
  },
  {
   "cell_type": "markdown",
   "metadata": {},
   "source": [
    "## Exercise 1"
   ]
  },
  {
   "cell_type": "markdown",
   "metadata": {},
   "source": [
    "#### Question 1 \n",
    "##### Load libraries that are used in this module."
   ]
  },
  {
   "cell_type": "code",
   "execution_count": 1,
   "metadata": {},
   "outputs": [],
   "source": [
    "import os\n",
    "import pandas as pd\n",
    "import numpy as np\n",
    "import matplotlib.pyplot as plt\n",
    "from sklearn.linear_model import LinearRegression\n",
    "from sklearn.linear_model import LogisticRegression\n",
    "from sklearn import metrics\n",
    "from sklearn.model_selection import train_test_split\n",
    "import warnings\n",
    "import datetime as dt\n",
    "\n",
    "# up, up, down, down, left, right, left, right, a, b\n",
    "import konami\n",
    "\n",
    "warnings.simplefilter(action='ignore', category=FutureWarning)\n",
    "\n"
   ]
  },
  {
   "cell_type": "markdown",
   "metadata": {},
   "source": [
    "#### Question 2\n",
    "##### Set `main_dir` to the location of your `af-werx` folder.\n",
    "##### Make `data_dir`  from the `main_dir` and concatenate remainder of the path to data directory.\n"
   ]
  },
  {
   "cell_type": "code",
   "execution_count": 2,
   "metadata": {},
   "outputs": [],
   "source": [
    "nb_root = globals()['_dh']\n",
    "os.chdir(nb_root[0])\n",
    " \n",
    "main_dir = os.path.abspath(os.path.join (\"..\",))\n",
    "\n",
    "# Make `data_dir` and 'path_dir' from the `main_dir` and\n",
    "data_dir = os.path.join(main_dir, \"data\")\n",
    "plot_dir = os.path.join(main_dir, \"plot\")"
   ]
  },
  {
   "cell_type": "markdown",
   "metadata": {},
   "source": [
    "#### Question 3\n",
    "##### Set the working directory to `data_dir`.\n",
    "##### Check if the working directory is updated to `data_dir`.\n"
   ]
  },
  {
   "cell_type": "code",
   "execution_count": 3,
   "metadata": {},
   "outputs": [
    {
     "name": "stdout",
     "output_type": "stream",
     "text": [
      "/Users/datasociety/Desktop/af-werx/data\n"
     ]
    }
   ],
   "source": [
    "# Set working directory.\n",
    "os.chdir(data_dir)\n",
    "# Check working directory.\n",
    "print(os.getcwd())"
   ]
  },
  {
   "cell_type": "markdown",
   "metadata": {},
   "source": [
    "#### Question 4\n",
    "##### Load `communities-and-crimes.csv` and save as `ex_data`.\n",
    "\n",
    "##### This is a dataset that predicts the violent crime rates per population(`ViolentCrimesPerPop`) using the rest of the variables as predictors. \n",
    "##### More information on the data can be found here. (http://archive.ics.uci.edu/ml/datasets/communities+and+crime)\n",
    "##### Check the shape of `ex_data`.\n",
    "##### Check for NAs in the dataframe."
   ]
  },
  {
   "cell_type": "code",
   "execution_count": 4,
   "metadata": {},
   "outputs": [
    {
     "data": {
      "text/html": [
       "<div>\n",
       "<style scoped>\n",
       "    .dataframe tbody tr th:only-of-type {\n",
       "        vertical-align: middle;\n",
       "    }\n",
       "\n",
       "    .dataframe tbody tr th {\n",
       "        vertical-align: top;\n",
       "    }\n",
       "\n",
       "    .dataframe thead th {\n",
       "        text-align: right;\n",
       "    }\n",
       "</style>\n",
       "<table border=\"1\" class=\"dataframe\">\n",
       "  <thead>\n",
       "    <tr style=\"text-align: right;\">\n",
       "      <th></th>\n",
       "      <th>population</th>\n",
       "      <th>householdsize</th>\n",
       "      <th>racepctblack</th>\n",
       "      <th>racePctWhite</th>\n",
       "      <th>racePctAsian</th>\n",
       "      <th>racePctHisp</th>\n",
       "      <th>agePct12t21</th>\n",
       "      <th>agePct12t29</th>\n",
       "      <th>agePct16t24</th>\n",
       "      <th>agePct65up</th>\n",
       "      <th>...</th>\n",
       "      <th>LandArea</th>\n",
       "      <th>PopDens</th>\n",
       "      <th>PctUsePubTrans</th>\n",
       "      <th>PolicCars</th>\n",
       "      <th>PolicOperBudg</th>\n",
       "      <th>LemasPctPolicOnPatr</th>\n",
       "      <th>LemasGangUnitDeploy</th>\n",
       "      <th>LemasPctOfficDrugUn</th>\n",
       "      <th>PolicBudgPerPop</th>\n",
       "      <th>ViolentCrimesPerPop</th>\n",
       "    </tr>\n",
       "  </thead>\n",
       "  <tbody>\n",
       "    <tr>\n",
       "      <th>0</th>\n",
       "      <td>0.19</td>\n",
       "      <td>0.33</td>\n",
       "      <td>0.02</td>\n",
       "      <td>0.90</td>\n",
       "      <td>0.12</td>\n",
       "      <td>0.17</td>\n",
       "      <td>0.34</td>\n",
       "      <td>0.47</td>\n",
       "      <td>0.29</td>\n",
       "      <td>0.32</td>\n",
       "      <td>...</td>\n",
       "      <td>0.12</td>\n",
       "      <td>0.26</td>\n",
       "      <td>0.20</td>\n",
       "      <td>0.06</td>\n",
       "      <td>0.04</td>\n",
       "      <td>0.9</td>\n",
       "      <td>0.5</td>\n",
       "      <td>0.32</td>\n",
       "      <td>0.14</td>\n",
       "      <td>0.20</td>\n",
       "    </tr>\n",
       "    <tr>\n",
       "      <th>1</th>\n",
       "      <td>0.00</td>\n",
       "      <td>0.16</td>\n",
       "      <td>0.12</td>\n",
       "      <td>0.74</td>\n",
       "      <td>0.45</td>\n",
       "      <td>0.07</td>\n",
       "      <td>0.26</td>\n",
       "      <td>0.59</td>\n",
       "      <td>0.35</td>\n",
       "      <td>0.27</td>\n",
       "      <td>...</td>\n",
       "      <td>0.02</td>\n",
       "      <td>0.12</td>\n",
       "      <td>0.45</td>\n",
       "      <td>NaN</td>\n",
       "      <td>NaN</td>\n",
       "      <td>NaN</td>\n",
       "      <td>NaN</td>\n",
       "      <td>0.00</td>\n",
       "      <td>NaN</td>\n",
       "      <td>0.67</td>\n",
       "    </tr>\n",
       "    <tr>\n",
       "      <th>2</th>\n",
       "      <td>0.00</td>\n",
       "      <td>0.42</td>\n",
       "      <td>0.49</td>\n",
       "      <td>0.56</td>\n",
       "      <td>0.17</td>\n",
       "      <td>0.04</td>\n",
       "      <td>0.39</td>\n",
       "      <td>0.47</td>\n",
       "      <td>0.28</td>\n",
       "      <td>0.32</td>\n",
       "      <td>...</td>\n",
       "      <td>0.01</td>\n",
       "      <td>0.21</td>\n",
       "      <td>0.02</td>\n",
       "      <td>NaN</td>\n",
       "      <td>NaN</td>\n",
       "      <td>NaN</td>\n",
       "      <td>NaN</td>\n",
       "      <td>0.00</td>\n",
       "      <td>NaN</td>\n",
       "      <td>0.43</td>\n",
       "    </tr>\n",
       "    <tr>\n",
       "      <th>3</th>\n",
       "      <td>0.04</td>\n",
       "      <td>0.77</td>\n",
       "      <td>1.00</td>\n",
       "      <td>0.08</td>\n",
       "      <td>0.12</td>\n",
       "      <td>0.10</td>\n",
       "      <td>0.51</td>\n",
       "      <td>0.50</td>\n",
       "      <td>0.34</td>\n",
       "      <td>0.21</td>\n",
       "      <td>...</td>\n",
       "      <td>0.02</td>\n",
       "      <td>0.39</td>\n",
       "      <td>0.28</td>\n",
       "      <td>NaN</td>\n",
       "      <td>NaN</td>\n",
       "      <td>NaN</td>\n",
       "      <td>NaN</td>\n",
       "      <td>0.00</td>\n",
       "      <td>NaN</td>\n",
       "      <td>0.12</td>\n",
       "    </tr>\n",
       "    <tr>\n",
       "      <th>4</th>\n",
       "      <td>0.01</td>\n",
       "      <td>0.55</td>\n",
       "      <td>0.02</td>\n",
       "      <td>0.95</td>\n",
       "      <td>0.09</td>\n",
       "      <td>0.05</td>\n",
       "      <td>0.38</td>\n",
       "      <td>0.38</td>\n",
       "      <td>0.23</td>\n",
       "      <td>0.36</td>\n",
       "      <td>...</td>\n",
       "      <td>0.04</td>\n",
       "      <td>0.09</td>\n",
       "      <td>0.02</td>\n",
       "      <td>NaN</td>\n",
       "      <td>NaN</td>\n",
       "      <td>NaN</td>\n",
       "      <td>NaN</td>\n",
       "      <td>0.00</td>\n",
       "      <td>NaN</td>\n",
       "      <td>0.03</td>\n",
       "    </tr>\n",
       "  </tbody>\n",
       "</table>\n",
       "<p>5 rows × 123 columns</p>\n",
       "</div>"
      ],
      "text/plain": [
       "   population  householdsize  racepctblack  racePctWhite  racePctAsian  \\\n",
       "0        0.19           0.33          0.02          0.90          0.12   \n",
       "1        0.00           0.16          0.12          0.74          0.45   \n",
       "2        0.00           0.42          0.49          0.56          0.17   \n",
       "3        0.04           0.77          1.00          0.08          0.12   \n",
       "4        0.01           0.55          0.02          0.95          0.09   \n",
       "\n",
       "   racePctHisp  agePct12t21  agePct12t29  agePct16t24  agePct65up  \\\n",
       "0         0.17         0.34         0.47         0.29        0.32   \n",
       "1         0.07         0.26         0.59         0.35        0.27   \n",
       "2         0.04         0.39         0.47         0.28        0.32   \n",
       "3         0.10         0.51         0.50         0.34        0.21   \n",
       "4         0.05         0.38         0.38         0.23        0.36   \n",
       "\n",
       "          ...           LandArea  PopDens  PctUsePubTrans  PolicCars  \\\n",
       "0         ...               0.12     0.26            0.20       0.06   \n",
       "1         ...               0.02     0.12            0.45        NaN   \n",
       "2         ...               0.01     0.21            0.02        NaN   \n",
       "3         ...               0.02     0.39            0.28        NaN   \n",
       "4         ...               0.04     0.09            0.02        NaN   \n",
       "\n",
       "   PolicOperBudg  LemasPctPolicOnPatr  LemasGangUnitDeploy  \\\n",
       "0           0.04                  0.9                  0.5   \n",
       "1            NaN                  NaN                  NaN   \n",
       "2            NaN                  NaN                  NaN   \n",
       "3            NaN                  NaN                  NaN   \n",
       "4            NaN                  NaN                  NaN   \n",
       "\n",
       "   LemasPctOfficDrugUn  PolicBudgPerPop  ViolentCrimesPerPop  \n",
       "0                 0.32             0.14                 0.20  \n",
       "1                 0.00              NaN                 0.67  \n",
       "2                 0.00              NaN                 0.43  \n",
       "3                 0.00              NaN                 0.12  \n",
       "4                 0.00              NaN                 0.03  \n",
       "\n",
       "[5 rows x 123 columns]"
      ]
     },
     "execution_count": 4,
     "metadata": {},
     "output_type": "execute_result"
    }
   ],
   "source": [
    "ex_data = pd.read_csv('communities-and-crimes.csv')\n",
    "ex_data.head()"
   ]
  },
  {
   "cell_type": "code",
   "execution_count": 5,
   "metadata": {},
   "outputs": [
    {
     "data": {
      "text/plain": [
       "(1994, 123)"
      ]
     },
     "execution_count": 5,
     "metadata": {},
     "output_type": "execute_result"
    }
   ],
   "source": [
    "ex_data.shape"
   ]
  },
  {
   "cell_type": "code",
   "execution_count": 6,
   "metadata": {},
   "outputs": [
    {
     "data": {
      "text/plain": [
       "population                 0\n",
       "householdsize              0\n",
       "racepctblack               0\n",
       "racePctWhite               0\n",
       "racePctAsian               0\n",
       "racePctHisp                0\n",
       "agePct12t21                0\n",
       "agePct12t29                0\n",
       "agePct16t24                0\n",
       "agePct65up                 0\n",
       "numbUrban                  0\n",
       "pctUrban                   0\n",
       "medIncome                  0\n",
       "pctWWage                   0\n",
       "pctWFarmSelf               0\n",
       "pctWInvInc                 0\n",
       "pctWSocSec                 0\n",
       "pctWPubAsst                0\n",
       "pctWRetire                 0\n",
       "medFamInc                  0\n",
       "perCapInc                  0\n",
       "whitePerCap                0\n",
       "blackPerCap                0\n",
       "indianPerCap               0\n",
       "AsianPerCap                0\n",
       "OtherPerCap                1\n",
       "HispPerCap                 0\n",
       "NumUnderPov                0\n",
       "PctPopUnderPov             0\n",
       "PctLess9thGrade            0\n",
       "                        ... \n",
       "PctSameHouse85             0\n",
       "PctSameCity85              0\n",
       "PctSameState85             0\n",
       "LemasSwornFT            1675\n",
       "LemasSwFTPerPop         1675\n",
       "LemasSwFTFieldOps       1675\n",
       "LemasSwFTFieldPerPop    1675\n",
       "LemasTotalReq           1675\n",
       "LemasTotReqPerPop       1675\n",
       "PolicReqPerOffic        1675\n",
       "PolicPerPop             1675\n",
       "RacialMatchCommPol      1675\n",
       "PctPolicWhite           1675\n",
       "PctPolicBlack           1675\n",
       "PctPolicHisp            1675\n",
       "PctPolicAsian           1675\n",
       "PctPolicMinor           1675\n",
       "OfficAssgnDrugUnits     1675\n",
       "NumKindsDrugsSeiz       1675\n",
       "PolicAveOTWorked        1675\n",
       "LandArea                   0\n",
       "PopDens                    0\n",
       "PctUsePubTrans             0\n",
       "PolicCars               1675\n",
       "PolicOperBudg           1675\n",
       "LemasPctPolicOnPatr     1675\n",
       "LemasGangUnitDeploy     1675\n",
       "LemasPctOfficDrugUn        0\n",
       "PolicBudgPerPop         1675\n",
       "ViolentCrimesPerPop        0\n",
       "Length: 123, dtype: int64"
      ]
     },
     "execution_count": 6,
     "metadata": {},
     "output_type": "execute_result"
    }
   ],
   "source": [
    "ex_data.isnull().sum()"
   ]
  },
  {
   "cell_type": "markdown",
   "metadata": {},
   "source": [
    "#### Question 5\n",
    "\n",
    "##### We can see that our target variable, `ViolentCrimesPerPop` is currently a numerical variable. \n",
    "##### In order to transform the target variable into a categorical variable, let's firstly see the summary of this column to get the value of the median.\n",
    "##### Create a new column called `ViolentCrimesPerPop_cat`, where any values of `ViolentCrimesPerPop` higher than the median is `1`, and lower is `0`. \n",
    "##### Drop the original `ViolentCrimesPerPop` column and see the `value_counts` of `ViolentCrimesPerPop_cat` column.\n",
    "\n",
    "#### Hint:"
   ]
  },
  {
   "cell_type": "markdown",
   "metadata": {},
   "source": [
    "```\n",
    "df[col_name].describe()  #<- To find median\n",
    "df['new_colname'] = np.where(df['old_colname'] > median_value, 1,0)  #<- To form new column\n",
    "```"
   ]
  },
  {
   "cell_type": "code",
   "execution_count": 7,
   "metadata": {},
   "outputs": [
    {
     "data": {
      "text/plain": [
       "count    1994.000000\n",
       "mean        0.237979\n",
       "std         0.232985\n",
       "min         0.000000\n",
       "25%         0.070000\n",
       "50%         0.150000\n",
       "75%         0.330000\n",
       "max         1.000000\n",
       "Name: ViolentCrimesPerPop, dtype: float64"
      ]
     },
     "execution_count": 7,
     "metadata": {},
     "output_type": "execute_result"
    }
   ],
   "source": [
    "ex_data['ViolentCrimesPerPop'].describe()"
   ]
  },
  {
   "cell_type": "code",
   "execution_count": 8,
   "metadata": {},
   "outputs": [],
   "source": [
    "ex_data['ViolentCrimesPerPop_cat'] = np.where(ex_data['ViolentCrimesPerPop'] > ex_data['ViolentCrimesPerPop'].median(), 1,0) "
   ]
  },
  {
   "cell_type": "code",
   "execution_count": 9,
   "metadata": {},
   "outputs": [],
   "source": [
    "ex_data = ex_data.drop(columns = 'ViolentCrimesPerPop')"
   ]
  },
  {
   "cell_type": "code",
   "execution_count": 10,
   "metadata": {},
   "outputs": [
    {
     "data": {
      "text/html": [
       "<div>\n",
       "<style scoped>\n",
       "    .dataframe tbody tr th:only-of-type {\n",
       "        vertical-align: middle;\n",
       "    }\n",
       "\n",
       "    .dataframe tbody tr th {\n",
       "        vertical-align: top;\n",
       "    }\n",
       "\n",
       "    .dataframe thead th {\n",
       "        text-align: right;\n",
       "    }\n",
       "</style>\n",
       "<table border=\"1\" class=\"dataframe\">\n",
       "  <thead>\n",
       "    <tr style=\"text-align: right;\">\n",
       "      <th></th>\n",
       "      <th>population</th>\n",
       "      <th>householdsize</th>\n",
       "      <th>racepctblack</th>\n",
       "      <th>racePctWhite</th>\n",
       "      <th>racePctAsian</th>\n",
       "      <th>racePctHisp</th>\n",
       "      <th>agePct12t21</th>\n",
       "      <th>agePct12t29</th>\n",
       "      <th>agePct16t24</th>\n",
       "      <th>agePct65up</th>\n",
       "      <th>...</th>\n",
       "      <th>LandArea</th>\n",
       "      <th>PopDens</th>\n",
       "      <th>PctUsePubTrans</th>\n",
       "      <th>PolicCars</th>\n",
       "      <th>PolicOperBudg</th>\n",
       "      <th>LemasPctPolicOnPatr</th>\n",
       "      <th>LemasGangUnitDeploy</th>\n",
       "      <th>LemasPctOfficDrugUn</th>\n",
       "      <th>PolicBudgPerPop</th>\n",
       "      <th>ViolentCrimesPerPop_cat</th>\n",
       "    </tr>\n",
       "  </thead>\n",
       "  <tbody>\n",
       "    <tr>\n",
       "      <th>0</th>\n",
       "      <td>0.19</td>\n",
       "      <td>0.33</td>\n",
       "      <td>0.02</td>\n",
       "      <td>0.90</td>\n",
       "      <td>0.12</td>\n",
       "      <td>0.17</td>\n",
       "      <td>0.34</td>\n",
       "      <td>0.47</td>\n",
       "      <td>0.29</td>\n",
       "      <td>0.32</td>\n",
       "      <td>...</td>\n",
       "      <td>0.12</td>\n",
       "      <td>0.26</td>\n",
       "      <td>0.20</td>\n",
       "      <td>0.06</td>\n",
       "      <td>0.04</td>\n",
       "      <td>0.9</td>\n",
       "      <td>0.5</td>\n",
       "      <td>0.32</td>\n",
       "      <td>0.14</td>\n",
       "      <td>1</td>\n",
       "    </tr>\n",
       "    <tr>\n",
       "      <th>1</th>\n",
       "      <td>0.00</td>\n",
       "      <td>0.16</td>\n",
       "      <td>0.12</td>\n",
       "      <td>0.74</td>\n",
       "      <td>0.45</td>\n",
       "      <td>0.07</td>\n",
       "      <td>0.26</td>\n",
       "      <td>0.59</td>\n",
       "      <td>0.35</td>\n",
       "      <td>0.27</td>\n",
       "      <td>...</td>\n",
       "      <td>0.02</td>\n",
       "      <td>0.12</td>\n",
       "      <td>0.45</td>\n",
       "      <td>NaN</td>\n",
       "      <td>NaN</td>\n",
       "      <td>NaN</td>\n",
       "      <td>NaN</td>\n",
       "      <td>0.00</td>\n",
       "      <td>NaN</td>\n",
       "      <td>1</td>\n",
       "    </tr>\n",
       "    <tr>\n",
       "      <th>2</th>\n",
       "      <td>0.00</td>\n",
       "      <td>0.42</td>\n",
       "      <td>0.49</td>\n",
       "      <td>0.56</td>\n",
       "      <td>0.17</td>\n",
       "      <td>0.04</td>\n",
       "      <td>0.39</td>\n",
       "      <td>0.47</td>\n",
       "      <td>0.28</td>\n",
       "      <td>0.32</td>\n",
       "      <td>...</td>\n",
       "      <td>0.01</td>\n",
       "      <td>0.21</td>\n",
       "      <td>0.02</td>\n",
       "      <td>NaN</td>\n",
       "      <td>NaN</td>\n",
       "      <td>NaN</td>\n",
       "      <td>NaN</td>\n",
       "      <td>0.00</td>\n",
       "      <td>NaN</td>\n",
       "      <td>1</td>\n",
       "    </tr>\n",
       "    <tr>\n",
       "      <th>3</th>\n",
       "      <td>0.04</td>\n",
       "      <td>0.77</td>\n",
       "      <td>1.00</td>\n",
       "      <td>0.08</td>\n",
       "      <td>0.12</td>\n",
       "      <td>0.10</td>\n",
       "      <td>0.51</td>\n",
       "      <td>0.50</td>\n",
       "      <td>0.34</td>\n",
       "      <td>0.21</td>\n",
       "      <td>...</td>\n",
       "      <td>0.02</td>\n",
       "      <td>0.39</td>\n",
       "      <td>0.28</td>\n",
       "      <td>NaN</td>\n",
       "      <td>NaN</td>\n",
       "      <td>NaN</td>\n",
       "      <td>NaN</td>\n",
       "      <td>0.00</td>\n",
       "      <td>NaN</td>\n",
       "      <td>0</td>\n",
       "    </tr>\n",
       "    <tr>\n",
       "      <th>4</th>\n",
       "      <td>0.01</td>\n",
       "      <td>0.55</td>\n",
       "      <td>0.02</td>\n",
       "      <td>0.95</td>\n",
       "      <td>0.09</td>\n",
       "      <td>0.05</td>\n",
       "      <td>0.38</td>\n",
       "      <td>0.38</td>\n",
       "      <td>0.23</td>\n",
       "      <td>0.36</td>\n",
       "      <td>...</td>\n",
       "      <td>0.04</td>\n",
       "      <td>0.09</td>\n",
       "      <td>0.02</td>\n",
       "      <td>NaN</td>\n",
       "      <td>NaN</td>\n",
       "      <td>NaN</td>\n",
       "      <td>NaN</td>\n",
       "      <td>0.00</td>\n",
       "      <td>NaN</td>\n",
       "      <td>0</td>\n",
       "    </tr>\n",
       "  </tbody>\n",
       "</table>\n",
       "<p>5 rows × 123 columns</p>\n",
       "</div>"
      ],
      "text/plain": [
       "   population  householdsize  racepctblack  racePctWhite  racePctAsian  \\\n",
       "0        0.19           0.33          0.02          0.90          0.12   \n",
       "1        0.00           0.16          0.12          0.74          0.45   \n",
       "2        0.00           0.42          0.49          0.56          0.17   \n",
       "3        0.04           0.77          1.00          0.08          0.12   \n",
       "4        0.01           0.55          0.02          0.95          0.09   \n",
       "\n",
       "   racePctHisp  agePct12t21  agePct12t29  agePct16t24  agePct65up  \\\n",
       "0         0.17         0.34         0.47         0.29        0.32   \n",
       "1         0.07         0.26         0.59         0.35        0.27   \n",
       "2         0.04         0.39         0.47         0.28        0.32   \n",
       "3         0.10         0.51         0.50         0.34        0.21   \n",
       "4         0.05         0.38         0.38         0.23        0.36   \n",
       "\n",
       "            ...             LandArea  PopDens  PctUsePubTrans  PolicCars  \\\n",
       "0           ...                 0.12     0.26            0.20       0.06   \n",
       "1           ...                 0.02     0.12            0.45        NaN   \n",
       "2           ...                 0.01     0.21            0.02        NaN   \n",
       "3           ...                 0.02     0.39            0.28        NaN   \n",
       "4           ...                 0.04     0.09            0.02        NaN   \n",
       "\n",
       "   PolicOperBudg  LemasPctPolicOnPatr  LemasGangUnitDeploy  \\\n",
       "0           0.04                  0.9                  0.5   \n",
       "1            NaN                  NaN                  NaN   \n",
       "2            NaN                  NaN                  NaN   \n",
       "3            NaN                  NaN                  NaN   \n",
       "4            NaN                  NaN                  NaN   \n",
       "\n",
       "   LemasPctOfficDrugUn  PolicBudgPerPop  ViolentCrimesPerPop_cat  \n",
       "0                 0.32             0.14                        1  \n",
       "1                 0.00              NaN                        1  \n",
       "2                 0.00              NaN                        1  \n",
       "3                 0.00              NaN                        0  \n",
       "4                 0.00              NaN                        0  \n",
       "\n",
       "[5 rows x 123 columns]"
      ]
     },
     "execution_count": 10,
     "metadata": {},
     "output_type": "execute_result"
    }
   ],
   "source": [
    "ex_data.head()"
   ]
  },
  {
   "cell_type": "code",
   "execution_count": 11,
   "metadata": {},
   "outputs": [
    {
     "data": {
      "text/plain": [
       "0    1001\n",
       "1     993\n",
       "Name: ViolentCrimesPerPop_cat, dtype: int64"
      ]
     },
     "execution_count": 11,
     "metadata": {},
     "output_type": "execute_result"
    }
   ],
   "source": [
    "ex_data['ViolentCrimesPerPop_cat'].value_counts()"
   ]
  },
  {
   "cell_type": "markdown",
   "metadata": {},
   "source": [
    "#### Question 6\n",
    "\n",
    "##### Since there are NAs in some columns, let's try dropping rows that has NA in one of those columns and see how the dataset looks like. \n",
    "\n",
    "##### Drop all the rows where there are NAs in a column named `LemasSwornFT`. \n",
    "##### Name the dropped dataset as `ex_data_dropped`. \n",
    "##### Check the NAs for `ex_data_dropped`. \n",
    "##### *Hint: Since there are too many columns, use the following function to see if there are any columns with NAs in `ex_data_dropped`. \n"
   ]
  },
  {
   "cell_type": "code",
   "execution_count": 12,
   "metadata": {},
   "outputs": [],
   "source": [
    "ex_data_dropped = ex_data.dropna(subset=['LemasSwornFT'])"
   ]
  },
  {
   "cell_type": "code",
   "execution_count": 13,
   "metadata": {},
   "outputs": [
    {
     "name": "stdout",
     "output_type": "stream",
     "text": [
      "Index([], dtype='object')\n"
     ]
    }
   ],
   "source": [
    "print(ex_data_dropped.columns[ex_data_dropped.isna().any()])"
   ]
  },
  {
   "cell_type": "markdown",
   "metadata": {},
   "source": [
    "```print(ex_data_dropped.columns[ex_data_dropped.isna().any()])```"
   ]
  },
  {
   "cell_type": "markdown",
   "metadata": {},
   "source": [
    "#### Question 7\n",
    "\n",
    "##### Create our target as `y_1` using `ViolentCrimesPerPop_cat`  and the predictors as `X_1` using the rest of the variables from `ex_data_dropped`."
   ]
  },
  {
   "cell_type": "code",
   "execution_count": 14,
   "metadata": {},
   "outputs": [],
   "source": [
    "x = ex_data_dropped.drop(['ViolentCrimesPerPop_cat'], axis = 1)\n",
    "y = ex_data_dropped['ViolentCrimesPerPop_cat']"
   ]
  },
  {
   "cell_type": "markdown",
   "metadata": {},
   "source": [
    "#### Question 8 \n",
    "\n",
    "##### Using the following codes that defines a function to perform a logistic regression, save the accuracy score from `X_1` and `y_1` as `accuracy1`. \n",
    "##### We will use `accuracy1` as a comparison value for our upcoming models. \n",
    "##### Create a performance dataframe named `ex_performance_df` to save the accuracy values."
   ]
  },
  {
   "cell_type": "code",
   "execution_count": 15,
   "metadata": {},
   "outputs": [],
   "source": [
    "logreg = LogisticRegression()"
   ]
  },
  {
   "cell_type": "code",
   "execution_count": 16,
   "metadata": {},
   "outputs": [
    {
     "data": {
      "image/png": "[encoded data removed]",
      "text/plain": [
       "<Figure size 432x288 with 1 Axes>"
      ]
     },
     "metadata": {
      "needs_background": "light"
     },
     "output_type": "display_data"
    },
    {
     "name": "stdout",
     "output_type": "stream",
     "text": [
      "Accuracy for the model on test data:  0.8229166666666666\n"
     ]
    }
   ],
   "source": [
    "accuracy1, baseline_model = konami.quick_model(ex_data_dropped, \n",
    "                               'ViolentCrimesPerPop_cat', \n",
    "                               logreg, \n",
    "                               seed = 22)"
   ]
  },
  {
   "cell_type": "code",
   "execution_count": 17,
   "metadata": {},
   "outputs": [
    {
     "data": {
      "text/plain": [
       "0.8229166666666666"
      ]
     },
     "execution_count": 17,
     "metadata": {},
     "output_type": "execute_result"
    }
   ],
   "source": [
    "accuracy1"
   ]
  },
  {
   "cell_type": "code",
   "execution_count": 18,
   "metadata": {},
   "outputs": [
    {
     "name": "stdout",
     "output_type": "stream",
     "text": [
      "  dataset_name      model_name model_metric  metric_value\n",
      "0   crime_rate  baseline_model     accuracy      0.822917\n"
     ]
    }
   ],
   "source": [
    "\n",
    "performance_df = pd.DataFrame(columns = ['dataset_name', \n",
    "                                         'model_name',\n",
    "                                         'model_metric',\n",
    "                                         'metric_value'])\n",
    "\n",
    "s = pd.Series(['crime_rate', \n",
    "               'baseline_model', \n",
    "               'accuracy', \n",
    "               accuracy1],\n",
    "              index = ['dataset_name', \n",
    "                       'model_name',\n",
    "                       'model_metric',\n",
    "                       'metric_value'])\n",
    "performance_df = performance_df.append(s, ignore_index = True)\n",
    "print(performance_df)\n"
   ]
  },
  {
   "cell_type": "markdown",
   "metadata": {},
   "source": [
    "## Exercise 2\n",
    "\n",
    "#### Question 1\n",
    "\n",
    "##### Recall that we created a new dataframe called `ex_data_dropped` from `ex_data` by dropping all the rows that has NAs. \n",
    "##### Instead of dropping the rows with NAs, let's try imputing the missing values using the median value from `ex_data` for each column. \n",
    "##### Create a new dataframe names `ex_data_median` that is equal to `ex_data`. \n",
    "##### Fill the NAs with median in `ex_data_median` with median. Use the following function to do it. \n",
    "##### Check to make sure that there are no NAs in the dataframe anymore. "
   ]
  },
  {
   "cell_type": "code",
   "execution_count": 19,
   "metadata": {},
   "outputs": [],
   "source": [
    "def fillna_median(dataset):\n",
    "    col_list = dataset.columns.tolist()\n",
    "    for i in range(0, dataset.shape[1]):\n",
    "        dataset.iloc[:,i].fillna(dataset.iloc[:,i].median(), inplace = True)"
   ]
  },
  {
   "cell_type": "code",
   "execution_count": 20,
   "metadata": {},
   "outputs": [],
   "source": [
    "ex_data_median = ex_data"
   ]
  },
  {
   "cell_type": "code",
   "execution_count": 21,
   "metadata": {},
   "outputs": [],
   "source": [
    "konami.fillna_median(ex_data_median)"
   ]
  },
  {
   "cell_type": "code",
   "execution_count": 22,
   "metadata": {},
   "outputs": [
    {
     "name": "stdout",
     "output_type": "stream",
     "text": [
      "Index([], dtype='object')\n"
     ]
    }
   ],
   "source": [
    "print(ex_data_dropped.columns[ex_data_dropped.isna().any()])"
   ]
  },
  {
   "cell_type": "markdown",
   "metadata": {},
   "source": [
    "#### Question 2\n",
    "\n",
    "##### Create the target as y_2 and the predictors as X_2 using ex_data_median.\n"
   ]
  },
  {
   "cell_type": "code",
   "execution_count": 23,
   "metadata": {},
   "outputs": [
    {
     "name": "stdout",
     "output_type": "stream",
     "text": [
      "see below\n"
     ]
    }
   ],
   "source": [
    "print('see below')"
   ]
  },
  {
   "cell_type": "markdown",
   "metadata": {},
   "source": [
    "#### Question 3\n",
    "\n",
    "##### Using `logistic_model` function, save the accuracy score from X_2 and y_2 as accuracy2.\n",
    "##### Save `accuracy2` in `ex_performance_df`. \n",
    "##### Save `model_name` as `imputed-with-median`.\n",
    "##### How did the accuracy score change from the base model?\n"
   ]
  },
  {
   "cell_type": "code",
   "execution_count": 24,
   "metadata": {},
   "outputs": [
    {
     "data": {
      "image/png": "[encoded data removed]",
      "text/plain": [
       "<Figure size 432x288 with 1 Axes>"
      ]
     },
     "metadata": {
      "needs_background": "light"
     },
     "output_type": "display_data"
    },
    {
     "name": "stdout",
     "output_type": "stream",
     "text": [
      "Accuracy for the model on test data:  0.8230383973288815\n"
     ]
    }
   ],
   "source": [
    "accuracy2, imputed_with_median = konami.quick_model(ex_data_median, \n",
    "                               'ViolentCrimesPerPop_cat', \n",
    "                               logreg, \n",
    "                               seed = 22)"
   ]
  },
  {
   "cell_type": "code",
   "execution_count": 25,
   "metadata": {},
   "outputs": [
    {
     "name": "stdout",
     "output_type": "stream",
     "text": [
      "  dataset_name            model_name model_metric  metric_value\n",
      "0   crime_rate        baseline_model     accuracy      0.822917\n",
      "1   crime_rate  imputed_median_model     accuracy      0.823000\n"
     ]
    }
   ],
   "source": [
    "s = pd.Series(['crime_rate', \n",
    "               'imputed_median_model', \n",
    "               'accuracy', \n",
    "               round(accuracy2, 4)],\n",
    "              index = ['dataset_name', \n",
    "                       'model_name',\n",
    "                       'model_metric',\n",
    "                       'metric_value'])\n",
    "performance_df = performance_df.append(s, ignore_index = True)\n",
    "print(performance_df)"
   ]
  },
  {
   "cell_type": "markdown",
   "metadata": {},
   "source": [
    "## Exercise 3"
   ]
  },
  {
   "cell_type": "markdown",
   "metadata": {},
   "source": [
    "* In our class we added a lot of different variable by manipulating existing columns\n",
    "* All datasets will not perform better by following the technique we did in class\n",
    "* Try following the techniques we did in our class on crime dataset during workshop session and see how it performs on your own.\n",
    "* For this exercise, we are going to run PCA to add new features instead of manipulating the existing columns"
   ]
  },
  {
   "cell_type": "markdown",
   "metadata": {},
   "source": [
    "#### Question 1 \n",
    "\n",
    "##### Let's see the correlation of all of the variables. \n",
    "##### Using the `ex_data_dropped` dataframe, create a heatmap that shows the correlations of all the variables. \n",
    "##### Make sure to import the `seaborn` package. \n",
    "\n",
    "##### What can you interpret from the outcome?\n"
   ]
  },
  {
   "cell_type": "code",
   "execution_count": 26,
   "metadata": {},
   "outputs": [
    {
     "data": {
      "image/png": "[encoded data removed]",
      "text/plain": [
       "<Figure size 1152x864 with 2 Axes>"
      ]
     },
     "metadata": {
      "needs_background": "light"
     },
     "output_type": "display_data"
    }
   ],
   "source": [
    "import seaborn as sns\n",
    "\n",
    "ex_corrmat = ex_data_dropped.corr()\n",
    "fig = plt.figure(figsize = (16, 12))\n",
    "\n",
    "sns.heatmap(ex_corrmat, vmax = 0.8)\n",
    "plt.show()"
   ]
  },
  {
   "cell_type": "markdown",
   "metadata": {},
   "source": [
    "```\n",
    "import seaborn as sns\n",
    "\n",
    "corrmat = dataframe.corr()\n",
    "fig = plt.figure(figsize = (16, 12))\n",
    "\n",
    "sns.heatmap(corrmat, vmax = 0.8)\n",
    "plt.show()\n",
    "```"
   ]
  },
  {
   "cell_type": "markdown",
   "metadata": {},
   "source": [
    "##### We can see that most of the variables are highly correlated. "
   ]
  },
  {
   "cell_type": "markdown",
   "metadata": {},
   "source": [
    "#### Question 2 \n",
    "\n",
    "##### Since the variables seem to be highly correlated in general, let's try to reduce the dimensionality using the PCA method. \n",
    "##### Hopefully this will reduce multicolinearity in the model. \n",
    "\n",
    "##### Scale `X_1`, which are the predictors from the `ex_data_dropped` dataframe, and save as `X_1_scaled`. \n",
    "##### Make sure to import the `StandardScaler` using the following code."
   ]
  },
  {
   "cell_type": "code",
   "execution_count": 27,
   "metadata": {},
   "outputs": [],
   "source": [
    "from sklearn.preprocessing import StandardScaler\n",
    "\n",
    "sc = StandardScaler()\n",
    "x_scaled = sc.fit_transform(x)"
   ]
  },
  {
   "cell_type": "markdown",
   "metadata": {},
   "source": [
    "#### Hint:\n",
    "```\n",
    "from sklearn.preprocessing import StandardScaler\n",
    "\n",
    "sc=StandardScaler()\n",
    "df_scaled =sc.fit_transform(dataframe)\n",
    "```"
   ]
  },
  {
   "cell_type": "markdown",
   "metadata": {},
   "source": [
    "#### Question3 \n",
    "\n",
    "##### Run PCA on the scaled predictors `X_1_scaled` and name is `ex_pca`.\n",
    "##### Calculate the cumulative percent variance explained and name it `cum_percent_var_explained`.\n"
   ]
  },
  {
   "cell_type": "code",
   "execution_count": 28,
   "metadata": {},
   "outputs": [
    {
     "name": "stdout",
     "output_type": "stream",
     "text": [
      "[21.38 37.71 47.6  54.98 61.2  65.43 68.99 72.01 74.8  76.74 78.52 79.91\n",
      " 81.29 82.45 83.47 84.37 85.23 86.05 86.83 87.59 88.31 88.98 89.62 90.25\n",
      " 90.84 91.39 91.89 92.35 92.79 93.21 93.61 94.   94.35 94.69 95.   95.28\n",
      " 95.55 95.79 96.01 96.22 96.43 96.62 96.8  96.97 97.13 97.29 97.45 97.6\n",
      " 97.74 97.87 98.   98.12 98.24 98.35 98.45 98.55 98.64 98.73 98.81 98.89\n",
      " 98.96 99.02 99.08 99.14 99.19 99.24 99.29 99.34 99.38 99.42 99.46 99.5\n",
      " 99.53 99.56 99.59 99.62 99.65 99.68 99.7  99.72 99.74 99.76 99.78 99.8\n",
      " 99.82 99.83 99.84 99.85 99.86 99.87 99.88 99.89 99.9  99.91 99.92 99.93\n",
      " 99.94 99.95 99.96 99.97 99.98 99.99 99.99 99.99 99.99 99.99 99.99 99.99\n",
      " 99.99 99.99 99.99 99.99 99.99 99.99 99.99 99.99 99.99 99.99 99.99 99.99\n",
      " 99.99 99.99]\n"
     ]
    }
   ],
   "source": [
    "from sklearn.decomposition import PCA\n",
    "\n",
    "pca=PCA()\n",
    "\n",
    "ex_pca=pca.fit_transform(x_scaled)\n",
    "\n",
    "cum_percent_var_explained = np.cumsum(np.round(pca.explained_variance_ratio_, decimals=4)*100)\n",
    "print(cum_percent_var_explained)"
   ]
  },
  {
   "cell_type": "markdown",
   "metadata": {},
   "source": [
    "```\n",
    "from sklearn.decomposition import PCA\n",
    "pca=PCA()\n",
    "ex_pca=pca.fit_transform(dataframe_scaled)\n",
    "cum_percent_var_explained = np.cumsum(np.round(pca.explained_variance_ratio_, decimals=4)*100)\n",
    "print(cum_percent_var_explained)\n",
    "```"
   ]
  },
  {
   "cell_type": "markdown",
   "metadata": {},
   "source": [
    "#### Question 4\n",
    "##### Choose the dimensions to retain so that the PCA could explain around 90% of the variance which is 22 components\n",
    "##### Using `fit_transform()` function transform `X_1_scaled` into PCs and save as `X_1_pca`. \n",
    "##### Convert `X_1_pca` as a DataFrame and save as `x_3`."
   ]
  },
  {
   "cell_type": "code",
   "execution_count": 29,
   "metadata": {},
   "outputs": [
    {
     "name": "stdout",
     "output_type": "stream",
     "text": [
      "[21.38 37.71 47.6  54.98 61.2  65.43 68.99 72.01 74.8  76.74 78.52 79.91\n",
      " 81.29 82.45 83.47 84.37 85.23 86.05 86.83 87.59 88.31 88.98 89.62 90.25]\n"
     ]
    }
   ],
   "source": [
    "pca_24 = PCA(n_components = 24) \n",
    "\n",
    "X_1_pca=pca_24.fit_transform(x_scaled)\n",
    "cum_percent_var_explained_24 = np.cumsum(np.round(pca_24.explained_variance_ratio_, decimals=4)*100)\n",
    "print(cum_percent_var_explained_24)\n",
    "x_3 = pd.DataFrame(X_1_pca)"
   ]
  },
  {
   "cell_type": "markdown",
   "metadata": {},
   "source": [
    "```\n",
    "pca_n = PCA(n_components = n)  \n",
    "X_1_pca=pca_n.fit_transform(dataframe_scaled)\n",
    "cum_percent_var_explained_22 = np.cumsum(np.round(pca_22.explained_variance_ratio_, decimals=4)*100)\n",
    "print(cum_percent_var_explained_22)\n",
    "x_3=pd.DataFrame(X_1_pca)\n",
    "```"
   ]
  },
  {
   "cell_type": "markdown",
   "metadata": {},
   "source": [
    "#### Question 5\n",
    "\n",
    "##### Run logistic regression using `x_3` and `y_1`.\n",
    "##### Save the accuracy score as `accuracy3`.\n"
   ]
  },
  {
   "cell_type": "code",
   "execution_count": 30,
   "metadata": {},
   "outputs": [],
   "source": [
    "accuracy3 = konami.logistic_model(x_3,y)"
   ]
  },
  {
   "cell_type": "markdown",
   "metadata": {},
   "source": [
    "#### Question 6\n",
    "\n",
    "##### Save `accuracy3` in `ex_performance_df`. \n",
    "##### Interpret the results. \n"
   ]
  },
  {
   "cell_type": "code",
   "execution_count": 31,
   "metadata": {},
   "outputs": [
    {
     "name": "stdout",
     "output_type": "stream",
     "text": [
      "  dataset_name            model_name model_metric  metric_value\n",
      "0   crime_rate        baseline_model     accuracy      0.822917\n",
      "1   crime_rate  imputed_median_model     accuracy      0.823000\n",
      "2   crime_rate             PCA_model     accuracy      0.854200\n"
     ]
    }
   ],
   "source": [
    "s = pd.Series(['crime_rate', \n",
    "               'PCA_model', \n",
    "               'accuracy', \n",
    "               round(accuracy3, 4)],\n",
    "              index = ['dataset_name', \n",
    "                       'model_name',\n",
    "                       'model_metric',\n",
    "                       'metric_value'])\n",
    "performance_df = performance_df.append(s, ignore_index = True)\n",
    "print(performance_df)"
   ]
  },
  {
   "cell_type": "code",
   "execution_count": 32,
   "metadata": {},
   "outputs": [
    {
     "data": {
      "text/plain": [
       "(24, 122)"
      ]
     },
     "execution_count": 32,
     "metadata": {},
     "output_type": "execute_result"
    }
   ],
   "source": [
    "pca_24.components_.shape"
   ]
  },
  {
   "cell_type": "code",
   "execution_count": 33,
   "metadata": {},
   "outputs": [
    {
     "data": {
      "text/plain": [
       "(319, 123)"
      ]
     },
     "execution_count": 33,
     "metadata": {},
     "output_type": "execute_result"
    }
   ],
   "source": [
    "ex_data_dropped.shape"
   ]
  },
  {
   "cell_type": "code",
   "execution_count": 34,
   "metadata": {},
   "outputs": [],
   "source": [
    "PCA_DF = pd.DataFrame(pca_24.components_, columns = x.columns)"
   ]
  },
  {
   "cell_type": "code",
   "execution_count": 35,
   "metadata": {},
   "outputs": [
    {
     "data": {
      "text/html": [
       "<div>\n",
       "<style scoped>\n",
       "    .dataframe tbody tr th:only-of-type {\n",
       "        vertical-align: middle;\n",
       "    }\n",
       "\n",
       "    .dataframe tbody tr th {\n",
       "        vertical-align: top;\n",
       "    }\n",
       "\n",
       "    .dataframe thead th {\n",
       "        text-align: right;\n",
       "    }\n",
       "</style>\n",
       "<table border=\"1\" class=\"dataframe\">\n",
       "  <thead>\n",
       "    <tr style=\"text-align: right;\">\n",
       "      <th></th>\n",
       "      <th>population</th>\n",
       "      <th>householdsize</th>\n",
       "      <th>racepctblack</th>\n",
       "      <th>racePctWhite</th>\n",
       "      <th>racePctAsian</th>\n",
       "      <th>racePctHisp</th>\n",
       "      <th>agePct12t21</th>\n",
       "      <th>agePct12t29</th>\n",
       "      <th>agePct16t24</th>\n",
       "      <th>agePct65up</th>\n",
       "      <th>...</th>\n",
       "      <th>PolicAveOTWorked</th>\n",
       "      <th>LandArea</th>\n",
       "      <th>PopDens</th>\n",
       "      <th>PctUsePubTrans</th>\n",
       "      <th>PolicCars</th>\n",
       "      <th>PolicOperBudg</th>\n",
       "      <th>LemasPctPolicOnPatr</th>\n",
       "      <th>LemasGangUnitDeploy</th>\n",
       "      <th>LemasPctOfficDrugUn</th>\n",
       "      <th>PolicBudgPerPop</th>\n",
       "    </tr>\n",
       "  </thead>\n",
       "  <tbody>\n",
       "    <tr>\n",
       "      <th>0</th>\n",
       "      <td>-0.076206</td>\n",
       "      <td>-0.045178</td>\n",
       "      <td>-0.126066</td>\n",
       "      <td>0.134775</td>\n",
       "      <td>0.051752</td>\n",
       "      <td>-0.050999</td>\n",
       "      <td>-0.081371</td>\n",
       "      <td>-0.060613</td>\n",
       "      <td>-0.053931</td>\n",
       "      <td>0.015412</td>\n",
       "      <td>...</td>\n",
       "      <td>-0.011074</td>\n",
       "      <td>-0.040736</td>\n",
       "      <td>-0.046952</td>\n",
       "      <td>-0.036798</td>\n",
       "      <td>-0.079172</td>\n",
       "      <td>-0.070854</td>\n",
       "      <td>0.024308</td>\n",
       "      <td>-0.004402</td>\n",
       "      <td>-0.016908</td>\n",
       "      <td>0.002326</td>\n",
       "    </tr>\n",
       "    <tr>\n",
       "      <th>1</th>\n",
       "      <td>0.052069</td>\n",
       "      <td>0.116538</td>\n",
       "      <td>-0.037003</td>\n",
       "      <td>-0.064450</td>\n",
       "      <td>0.149312</td>\n",
       "      <td>0.160858</td>\n",
       "      <td>0.010541</td>\n",
       "      <td>0.059146</td>\n",
       "      <td>0.025554</td>\n",
       "      <td>-0.096795</td>\n",
       "      <td>...</td>\n",
       "      <td>0.061623</td>\n",
       "      <td>-0.000919</td>\n",
       "      <td>0.133309</td>\n",
       "      <td>0.082937</td>\n",
       "      <td>0.019706</td>\n",
       "      <td>0.067440</td>\n",
       "      <td>0.015416</td>\n",
       "      <td>0.011789</td>\n",
       "      <td>-0.012921</td>\n",
       "      <td>0.012332</td>\n",
       "    </tr>\n",
       "    <tr>\n",
       "      <th>2</th>\n",
       "      <td>0.180485</td>\n",
       "      <td>-0.161188</td>\n",
       "      <td>0.054478</td>\n",
       "      <td>-0.025701</td>\n",
       "      <td>0.024755</td>\n",
       "      <td>-0.092746</td>\n",
       "      <td>-0.061160</td>\n",
       "      <td>-0.000214</td>\n",
       "      <td>0.010775</td>\n",
       "      <td>0.017537</td>\n",
       "      <td>...</td>\n",
       "      <td>-0.000222</td>\n",
       "      <td>0.137794</td>\n",
       "      <td>0.004661</td>\n",
       "      <td>0.089969</td>\n",
       "      <td>0.196272</td>\n",
       "      <td>0.190971</td>\n",
       "      <td>-0.020946</td>\n",
       "      <td>0.029448</td>\n",
       "      <td>-0.030446</td>\n",
       "      <td>0.081654</td>\n",
       "    </tr>\n",
       "    <tr>\n",
       "      <th>3</th>\n",
       "      <td>-0.072921</td>\n",
       "      <td>-0.092216</td>\n",
       "      <td>0.026500</td>\n",
       "      <td>-0.007692</td>\n",
       "      <td>-0.031736</td>\n",
       "      <td>-0.000616</td>\n",
       "      <td>-0.171193</td>\n",
       "      <td>-0.181063</td>\n",
       "      <td>-0.146891</td>\n",
       "      <td>0.233518</td>\n",
       "      <td>...</td>\n",
       "      <td>0.018529</td>\n",
       "      <td>-0.138335</td>\n",
       "      <td>0.143767</td>\n",
       "      <td>0.148048</td>\n",
       "      <td>-0.027731</td>\n",
       "      <td>0.020785</td>\n",
       "      <td>-0.012362</td>\n",
       "      <td>-0.089376</td>\n",
       "      <td>-0.001927</td>\n",
       "      <td>0.159741</td>\n",
       "    </tr>\n",
       "    <tr>\n",
       "      <th>4</th>\n",
       "      <td>0.175937</td>\n",
       "      <td>0.085692</td>\n",
       "      <td>-0.085003</td>\n",
       "      <td>0.058425</td>\n",
       "      <td>-0.001073</td>\n",
       "      <td>0.054739</td>\n",
       "      <td>-0.096026</td>\n",
       "      <td>-0.159149</td>\n",
       "      <td>-0.181351</td>\n",
       "      <td>0.007213</td>\n",
       "      <td>...</td>\n",
       "      <td>0.022230</td>\n",
       "      <td>0.176379</td>\n",
       "      <td>-0.065104</td>\n",
       "      <td>-0.055838</td>\n",
       "      <td>0.145099</td>\n",
       "      <td>0.157913</td>\n",
       "      <td>-0.003574</td>\n",
       "      <td>0.000009</td>\n",
       "      <td>-0.079915</td>\n",
       "      <td>-0.031345</td>\n",
       "    </tr>\n",
       "    <tr>\n",
       "      <th>5</th>\n",
       "      <td>-0.048026</td>\n",
       "      <td>-0.074084</td>\n",
       "      <td>-0.131702</td>\n",
       "      <td>0.100931</td>\n",
       "      <td>-0.007481</td>\n",
       "      <td>0.121726</td>\n",
       "      <td>-0.116365</td>\n",
       "      <td>-0.093912</td>\n",
       "      <td>-0.103716</td>\n",
       "      <td>0.087388</td>\n",
       "      <td>...</td>\n",
       "      <td>0.020951</td>\n",
       "      <td>-0.015211</td>\n",
       "      <td>-0.051523</td>\n",
       "      <td>-0.169489</td>\n",
       "      <td>0.042723</td>\n",
       "      <td>-0.005170</td>\n",
       "      <td>0.008707</td>\n",
       "      <td>0.096919</td>\n",
       "      <td>0.115648</td>\n",
       "      <td>0.154571</td>\n",
       "    </tr>\n",
       "    <tr>\n",
       "      <th>6</th>\n",
       "      <td>-0.072600</td>\n",
       "      <td>0.149282</td>\n",
       "      <td>0.207165</td>\n",
       "      <td>-0.189713</td>\n",
       "      <td>-0.043307</td>\n",
       "      <td>-0.011731</td>\n",
       "      <td>0.028123</td>\n",
       "      <td>-0.053649</td>\n",
       "      <td>-0.057702</td>\n",
       "      <td>-0.106056</td>\n",
       "      <td>...</td>\n",
       "      <td>-0.063095</td>\n",
       "      <td>-0.002343</td>\n",
       "      <td>-0.130145</td>\n",
       "      <td>-0.062613</td>\n",
       "      <td>0.023921</td>\n",
       "      <td>-0.023255</td>\n",
       "      <td>-0.128813</td>\n",
       "      <td>0.051229</td>\n",
       "      <td>0.026967</td>\n",
       "      <td>0.194625</td>\n",
       "    </tr>\n",
       "    <tr>\n",
       "      <th>7</th>\n",
       "      <td>-0.017169</td>\n",
       "      <td>0.100490</td>\n",
       "      <td>-0.125214</td>\n",
       "      <td>0.148099</td>\n",
       "      <td>-0.112848</td>\n",
       "      <td>0.043983</td>\n",
       "      <td>0.192329</td>\n",
       "      <td>0.178864</td>\n",
       "      <td>0.214728</td>\n",
       "      <td>-0.035109</td>\n",
       "      <td>...</td>\n",
       "      <td>-0.062416</td>\n",
       "      <td>-0.016629</td>\n",
       "      <td>0.019101</td>\n",
       "      <td>0.021105</td>\n",
       "      <td>0.076326</td>\n",
       "      <td>0.092749</td>\n",
       "      <td>-0.042412</td>\n",
       "      <td>-0.125326</td>\n",
       "      <td>0.005551</td>\n",
       "      <td>0.196879</td>\n",
       "    </tr>\n",
       "    <tr>\n",
       "      <th>8</th>\n",
       "      <td>-0.007063</td>\n",
       "      <td>0.000530</td>\n",
       "      <td>-0.054334</td>\n",
       "      <td>0.021890</td>\n",
       "      <td>0.008227</td>\n",
       "      <td>0.091010</td>\n",
       "      <td>0.126330</td>\n",
       "      <td>-0.013645</td>\n",
       "      <td>0.080318</td>\n",
       "      <td>0.114258</td>\n",
       "      <td>...</td>\n",
       "      <td>0.049654</td>\n",
       "      <td>0.025773</td>\n",
       "      <td>-0.117315</td>\n",
       "      <td>-0.058569</td>\n",
       "      <td>-0.017075</td>\n",
       "      <td>-0.055873</td>\n",
       "      <td>0.019744</td>\n",
       "      <td>0.052736</td>\n",
       "      <td>-0.026216</td>\n",
       "      <td>-0.081384</td>\n",
       "    </tr>\n",
       "    <tr>\n",
       "      <th>9</th>\n",
       "      <td>0.001215</td>\n",
       "      <td>0.049406</td>\n",
       "      <td>-0.018360</td>\n",
       "      <td>-0.014266</td>\n",
       "      <td>0.214091</td>\n",
       "      <td>-0.131042</td>\n",
       "      <td>0.040677</td>\n",
       "      <td>-0.053346</td>\n",
       "      <td>0.023478</td>\n",
       "      <td>0.124695</td>\n",
       "      <td>...</td>\n",
       "      <td>0.166370</td>\n",
       "      <td>-0.065835</td>\n",
       "      <td>-0.066854</td>\n",
       "      <td>-0.113945</td>\n",
       "      <td>0.001231</td>\n",
       "      <td>0.054606</td>\n",
       "      <td>-0.082457</td>\n",
       "      <td>0.138366</td>\n",
       "      <td>0.085792</td>\n",
       "      <td>0.106136</td>\n",
       "    </tr>\n",
       "    <tr>\n",
       "      <th>10</th>\n",
       "      <td>-0.009269</td>\n",
       "      <td>-0.069076</td>\n",
       "      <td>-0.030624</td>\n",
       "      <td>0.022933</td>\n",
       "      <td>-0.061131</td>\n",
       "      <td>0.065612</td>\n",
       "      <td>-0.144084</td>\n",
       "      <td>-0.190921</td>\n",
       "      <td>-0.202304</td>\n",
       "      <td>0.044958</td>\n",
       "      <td>...</td>\n",
       "      <td>0.005119</td>\n",
       "      <td>0.036670</td>\n",
       "      <td>-0.043540</td>\n",
       "      <td>-0.024820</td>\n",
       "      <td>0.022971</td>\n",
       "      <td>-0.014394</td>\n",
       "      <td>-0.139109</td>\n",
       "      <td>0.046565</td>\n",
       "      <td>-0.171448</td>\n",
       "      <td>0.042684</td>\n",
       "    </tr>\n",
       "    <tr>\n",
       "      <th>11</th>\n",
       "      <td>0.015037</td>\n",
       "      <td>0.057845</td>\n",
       "      <td>0.108314</td>\n",
       "      <td>-0.048823</td>\n",
       "      <td>-0.111102</td>\n",
       "      <td>-0.041048</td>\n",
       "      <td>-0.019282</td>\n",
       "      <td>-0.069069</td>\n",
       "      <td>-0.016393</td>\n",
       "      <td>0.169358</td>\n",
       "      <td>...</td>\n",
       "      <td>-0.164067</td>\n",
       "      <td>0.079008</td>\n",
       "      <td>-0.032488</td>\n",
       "      <td>-0.019765</td>\n",
       "      <td>0.042557</td>\n",
       "      <td>0.009543</td>\n",
       "      <td>-0.016491</td>\n",
       "      <td>-0.064293</td>\n",
       "      <td>0.116367</td>\n",
       "      <td>-0.152722</td>\n",
       "    </tr>\n",
       "    <tr>\n",
       "      <th>12</th>\n",
       "      <td>0.031000</td>\n",
       "      <td>0.027456</td>\n",
       "      <td>-0.078636</td>\n",
       "      <td>0.078337</td>\n",
       "      <td>0.039342</td>\n",
       "      <td>-0.036831</td>\n",
       "      <td>0.011613</td>\n",
       "      <td>0.047594</td>\n",
       "      <td>0.005273</td>\n",
       "      <td>-0.147009</td>\n",
       "      <td>...</td>\n",
       "      <td>0.082688</td>\n",
       "      <td>0.007935</td>\n",
       "      <td>-0.009534</td>\n",
       "      <td>0.031511</td>\n",
       "      <td>0.010951</td>\n",
       "      <td>-0.002733</td>\n",
       "      <td>-0.099828</td>\n",
       "      <td>0.024346</td>\n",
       "      <td>-0.142127</td>\n",
       "      <td>0.053070</td>\n",
       "    </tr>\n",
       "    <tr>\n",
       "      <th>13</th>\n",
       "      <td>0.083408</td>\n",
       "      <td>-0.004661</td>\n",
       "      <td>0.004894</td>\n",
       "      <td>-0.027490</td>\n",
       "      <td>0.007236</td>\n",
       "      <td>0.027028</td>\n",
       "      <td>0.030127</td>\n",
       "      <td>0.053619</td>\n",
       "      <td>0.056311</td>\n",
       "      <td>0.040842</td>\n",
       "      <td>...</td>\n",
       "      <td>0.265228</td>\n",
       "      <td>0.072108</td>\n",
       "      <td>-0.057046</td>\n",
       "      <td>-0.064963</td>\n",
       "      <td>0.029114</td>\n",
       "      <td>-0.009117</td>\n",
       "      <td>-0.403395</td>\n",
       "      <td>0.025902</td>\n",
       "      <td>-0.197226</td>\n",
       "      <td>0.087022</td>\n",
       "    </tr>\n",
       "    <tr>\n",
       "      <th>14</th>\n",
       "      <td>-0.045148</td>\n",
       "      <td>-0.007768</td>\n",
       "      <td>0.040048</td>\n",
       "      <td>-0.073036</td>\n",
       "      <td>0.168124</td>\n",
       "      <td>-0.043865</td>\n",
       "      <td>0.052245</td>\n",
       "      <td>0.047658</td>\n",
       "      <td>0.057436</td>\n",
       "      <td>-0.024769</td>\n",
       "      <td>...</td>\n",
       "      <td>-0.118643</td>\n",
       "      <td>-0.012764</td>\n",
       "      <td>-0.031946</td>\n",
       "      <td>-0.108973</td>\n",
       "      <td>0.019141</td>\n",
       "      <td>0.093579</td>\n",
       "      <td>-0.096917</td>\n",
       "      <td>-0.233604</td>\n",
       "      <td>0.260739</td>\n",
       "      <td>0.007128</td>\n",
       "    </tr>\n",
       "    <tr>\n",
       "      <th>15</th>\n",
       "      <td>0.033699</td>\n",
       "      <td>0.018802</td>\n",
       "      <td>-0.015695</td>\n",
       "      <td>0.047093</td>\n",
       "      <td>-0.121629</td>\n",
       "      <td>0.057989</td>\n",
       "      <td>0.165631</td>\n",
       "      <td>0.128698</td>\n",
       "      <td>0.187119</td>\n",
       "      <td>0.056576</td>\n",
       "      <td>...</td>\n",
       "      <td>0.256632</td>\n",
       "      <td>0.070471</td>\n",
       "      <td>-0.100113</td>\n",
       "      <td>-0.194011</td>\n",
       "      <td>0.064627</td>\n",
       "      <td>-0.001507</td>\n",
       "      <td>0.216738</td>\n",
       "      <td>0.170663</td>\n",
       "      <td>-0.157654</td>\n",
       "      <td>0.006421</td>\n",
       "    </tr>\n",
       "    <tr>\n",
       "      <th>16</th>\n",
       "      <td>-0.041237</td>\n",
       "      <td>0.010668</td>\n",
       "      <td>0.052887</td>\n",
       "      <td>-0.086415</td>\n",
       "      <td>0.002594</td>\n",
       "      <td>0.010990</td>\n",
       "      <td>0.063925</td>\n",
       "      <td>0.025137</td>\n",
       "      <td>0.046216</td>\n",
       "      <td>0.028065</td>\n",
       "      <td>...</td>\n",
       "      <td>0.235039</td>\n",
       "      <td>0.004595</td>\n",
       "      <td>-0.022063</td>\n",
       "      <td>-0.052353</td>\n",
       "      <td>-0.018768</td>\n",
       "      <td>0.042590</td>\n",
       "      <td>0.436370</td>\n",
       "      <td>-0.008691</td>\n",
       "      <td>0.316629</td>\n",
       "      <td>-0.081285</td>\n",
       "    </tr>\n",
       "    <tr>\n",
       "      <th>17</th>\n",
       "      <td>0.017874</td>\n",
       "      <td>0.032332</td>\n",
       "      <td>-0.042069</td>\n",
       "      <td>0.004211</td>\n",
       "      <td>0.110737</td>\n",
       "      <td>0.033572</td>\n",
       "      <td>0.020375</td>\n",
       "      <td>0.029810</td>\n",
       "      <td>0.045079</td>\n",
       "      <td>0.001105</td>\n",
       "      <td>...</td>\n",
       "      <td>-0.161869</td>\n",
       "      <td>-0.042695</td>\n",
       "      <td>0.057410</td>\n",
       "      <td>0.054541</td>\n",
       "      <td>0.014535</td>\n",
       "      <td>-0.045043</td>\n",
       "      <td>0.038539</td>\n",
       "      <td>0.128526</td>\n",
       "      <td>-0.061903</td>\n",
       "      <td>0.110488</td>\n",
       "    </tr>\n",
       "    <tr>\n",
       "      <th>18</th>\n",
       "      <td>-0.046000</td>\n",
       "      <td>-0.033320</td>\n",
       "      <td>-0.024262</td>\n",
       "      <td>0.002407</td>\n",
       "      <td>0.042353</td>\n",
       "      <td>0.034625</td>\n",
       "      <td>-0.052266</td>\n",
       "      <td>-0.049603</td>\n",
       "      <td>-0.061541</td>\n",
       "      <td>-0.035455</td>\n",
       "      <td>...</td>\n",
       "      <td>-0.177337</td>\n",
       "      <td>-0.131702</td>\n",
       "      <td>0.150786</td>\n",
       "      <td>0.136193</td>\n",
       "      <td>-0.062715</td>\n",
       "      <td>0.032271</td>\n",
       "      <td>0.226817</td>\n",
       "      <td>0.201365</td>\n",
       "      <td>-0.118577</td>\n",
       "      <td>-0.034138</td>\n",
       "    </tr>\n",
       "    <tr>\n",
       "      <th>19</th>\n",
       "      <td>0.030468</td>\n",
       "      <td>-0.055683</td>\n",
       "      <td>-0.049717</td>\n",
       "      <td>0.066259</td>\n",
       "      <td>-0.093397</td>\n",
       "      <td>0.039230</td>\n",
       "      <td>-0.043684</td>\n",
       "      <td>0.016018</td>\n",
       "      <td>-0.022287</td>\n",
       "      <td>-0.023946</td>\n",
       "      <td>...</td>\n",
       "      <td>-0.189567</td>\n",
       "      <td>0.096894</td>\n",
       "      <td>-0.088618</td>\n",
       "      <td>-0.151022</td>\n",
       "      <td>-0.009191</td>\n",
       "      <td>-0.027947</td>\n",
       "      <td>-0.346386</td>\n",
       "      <td>-0.147913</td>\n",
       "      <td>0.445901</td>\n",
       "      <td>-0.046584</td>\n",
       "    </tr>\n",
       "    <tr>\n",
       "      <th>20</th>\n",
       "      <td>0.067655</td>\n",
       "      <td>-0.025212</td>\n",
       "      <td>0.094406</td>\n",
       "      <td>-0.111340</td>\n",
       "      <td>0.163426</td>\n",
       "      <td>-0.060543</td>\n",
       "      <td>0.030373</td>\n",
       "      <td>0.072415</td>\n",
       "      <td>0.073847</td>\n",
       "      <td>0.024049</td>\n",
       "      <td>...</td>\n",
       "      <td>-0.069397</td>\n",
       "      <td>0.169637</td>\n",
       "      <td>-0.053846</td>\n",
       "      <td>0.022442</td>\n",
       "      <td>0.018030</td>\n",
       "      <td>-0.082878</td>\n",
       "      <td>-0.045714</td>\n",
       "      <td>0.265109</td>\n",
       "      <td>0.044643</td>\n",
       "      <td>-0.055117</td>\n",
       "    </tr>\n",
       "    <tr>\n",
       "      <th>21</th>\n",
       "      <td>0.022023</td>\n",
       "      <td>-0.045444</td>\n",
       "      <td>-0.031484</td>\n",
       "      <td>0.062677</td>\n",
       "      <td>-0.009210</td>\n",
       "      <td>0.030556</td>\n",
       "      <td>-0.044380</td>\n",
       "      <td>-0.075020</td>\n",
       "      <td>-0.092133</td>\n",
       "      <td>-0.020095</td>\n",
       "      <td>...</td>\n",
       "      <td>0.460109</td>\n",
       "      <td>-0.054873</td>\n",
       "      <td>0.103748</td>\n",
       "      <td>0.167343</td>\n",
       "      <td>-0.028947</td>\n",
       "      <td>-0.018366</td>\n",
       "      <td>-0.027631</td>\n",
       "      <td>0.220502</td>\n",
       "      <td>0.301480</td>\n",
       "      <td>-0.000533</td>\n",
       "    </tr>\n",
       "    <tr>\n",
       "      <th>22</th>\n",
       "      <td>-0.040292</td>\n",
       "      <td>0.010110</td>\n",
       "      <td>-0.070939</td>\n",
       "      <td>0.118951</td>\n",
       "      <td>-0.156617</td>\n",
       "      <td>0.028333</td>\n",
       "      <td>0.055972</td>\n",
       "      <td>0.029964</td>\n",
       "      <td>0.059419</td>\n",
       "      <td>0.056363</td>\n",
       "      <td>...</td>\n",
       "      <td>-0.190384</td>\n",
       "      <td>-0.044511</td>\n",
       "      <td>-0.004723</td>\n",
       "      <td>-0.042714</td>\n",
       "      <td>0.043625</td>\n",
       "      <td>0.065779</td>\n",
       "      <td>0.166814</td>\n",
       "      <td>-0.272124</td>\n",
       "      <td>-0.152358</td>\n",
       "      <td>-0.061324</td>\n",
       "    </tr>\n",
       "    <tr>\n",
       "      <th>23</th>\n",
       "      <td>0.108862</td>\n",
       "      <td>0.024913</td>\n",
       "      <td>-0.033902</td>\n",
       "      <td>-0.006749</td>\n",
       "      <td>0.085453</td>\n",
       "      <td>0.004196</td>\n",
       "      <td>-0.035278</td>\n",
       "      <td>-0.036568</td>\n",
       "      <td>-0.026047</td>\n",
       "      <td>0.008816</td>\n",
       "      <td>...</td>\n",
       "      <td>0.334237</td>\n",
       "      <td>0.055061</td>\n",
       "      <td>0.008290</td>\n",
       "      <td>0.094266</td>\n",
       "      <td>0.014013</td>\n",
       "      <td>-0.127423</td>\n",
       "      <td>0.097988</td>\n",
       "      <td>-0.650133</td>\n",
       "      <td>-0.015468</td>\n",
       "      <td>0.025837</td>\n",
       "    </tr>\n",
       "  </tbody>\n",
       "</table>\n",
       "<p>24 rows × 122 columns</p>\n",
       "</div>"
      ],
      "text/plain": [
       "    population  householdsize  racepctblack  racePctWhite  racePctAsian  \\\n",
       "0    -0.076206      -0.045178     -0.126066      0.134775      0.051752   \n",
       "1     0.052069       0.116538     -0.037003     -0.064450      0.149312   \n",
       "2     0.180485      -0.161188      0.054478     -0.025701      0.024755   \n",
       "3    -0.072921      -0.092216      0.026500     -0.007692     -0.031736   \n",
       "4     0.175937       0.085692     -0.085003      0.058425     -0.001073   \n",
       "5    -0.048026      -0.074084     -0.131702      0.100931     -0.007481   \n",
       "6    -0.072600       0.149282      0.207165     -0.189713     -0.043307   \n",
       "7    -0.017169       0.100490     -0.125214      0.148099     -0.112848   \n",
       "8    -0.007063       0.000530     -0.054334      0.021890      0.008227   \n",
       "9     0.001215       0.049406     -0.018360     -0.014266      0.214091   \n",
       "10   -0.009269      -0.069076     -0.030624      0.022933     -0.061131   \n",
       "11    0.015037       0.057845      0.108314     -0.048823     -0.111102   \n",
       "12    0.031000       0.027456     -0.078636      0.078337      0.039342   \n",
       "13    0.083408      -0.004661      0.004894     -0.027490      0.007236   \n",
       "14   -0.045148      -0.007768      0.040048     -0.073036      0.168124   \n",
       "15    0.033699       0.018802     -0.015695      0.047093     -0.121629   \n",
       "16   -0.041237       0.010668      0.052887     -0.086415      0.002594   \n",
       "17    0.017874       0.032332     -0.042069      0.004211      0.110737   \n",
       "18   -0.046000      -0.033320     -0.024262      0.002407      0.042353   \n",
       "19    0.030468      -0.055683     -0.049717      0.066259     -0.093397   \n",
       "20    0.067655      -0.025212      0.094406     -0.111340      0.163426   \n",
       "21    0.022023      -0.045444     -0.031484      0.062677     -0.009210   \n",
       "22   -0.040292       0.010110     -0.070939      0.118951     -0.156617   \n",
       "23    0.108862       0.024913     -0.033902     -0.006749      0.085453   \n",
       "\n",
       "    racePctHisp  agePct12t21  agePct12t29  agePct16t24  agePct65up  \\\n",
       "0     -0.050999    -0.081371    -0.060613    -0.053931    0.015412   \n",
       "1      0.160858     0.010541     0.059146     0.025554   -0.096795   \n",
       "2     -0.092746    -0.061160    -0.000214     0.010775    0.017537   \n",
       "3     -0.000616    -0.171193    -0.181063    -0.146891    0.233518   \n",
       "4      0.054739    -0.096026    -0.159149    -0.181351    0.007213   \n",
       "5      0.121726    -0.116365    -0.093912    -0.103716    0.087388   \n",
       "6     -0.011731     0.028123    -0.053649    -0.057702   -0.106056   \n",
       "7      0.043983     0.192329     0.178864     0.214728   -0.035109   \n",
       "8      0.091010     0.126330    -0.013645     0.080318    0.114258   \n",
       "9     -0.131042     0.040677    -0.053346     0.023478    0.124695   \n",
       "10     0.065612    -0.144084    -0.190921    -0.202304    0.044958   \n",
       "11    -0.041048    -0.019282    -0.069069    -0.016393    0.169358   \n",
       "12    -0.036831     0.011613     0.047594     0.005273   -0.147009   \n",
       "13     0.027028     0.030127     0.053619     0.056311    0.040842   \n",
       "14    -0.043865     0.052245     0.047658     0.057436   -0.024769   \n",
       "15     0.057989     0.165631     0.128698     0.187119    0.056576   \n",
       "16     0.010990     0.063925     0.025137     0.046216    0.028065   \n",
       "17     0.033572     0.020375     0.029810     0.045079    0.001105   \n",
       "18     0.034625    -0.052266    -0.049603    -0.061541   -0.035455   \n",
       "19     0.039230    -0.043684     0.016018    -0.022287   -0.023946   \n",
       "20    -0.060543     0.030373     0.072415     0.073847    0.024049   \n",
       "21     0.030556    -0.044380    -0.075020    -0.092133   -0.020095   \n",
       "22     0.028333     0.055972     0.029964     0.059419    0.056363   \n",
       "23     0.004196    -0.035278    -0.036568    -0.026047    0.008816   \n",
       "\n",
       "         ...         PolicAveOTWorked  LandArea   PopDens  PctUsePubTrans  \\\n",
       "0        ...                -0.011074 -0.040736 -0.046952       -0.036798   \n",
       "1        ...                 0.061623 -0.000919  0.133309        0.082937   \n",
       "2        ...                -0.000222  0.137794  0.004661        0.089969   \n",
       "3        ...                 0.018529 -0.138335  0.143767        0.148048   \n",
       "4        ...                 0.022230  0.176379 -0.065104       -0.055838   \n",
       "5        ...                 0.020951 -0.015211 -0.051523       -0.169489   \n",
       "6        ...                -0.063095 -0.002343 -0.130145       -0.062613   \n",
       "7        ...                -0.062416 -0.016629  0.019101        0.021105   \n",
       "8        ...                 0.049654  0.025773 -0.117315       -0.058569   \n",
       "9        ...                 0.166370 -0.065835 -0.066854       -0.113945   \n",
       "10       ...                 0.005119  0.036670 -0.043540       -0.024820   \n",
       "11       ...                -0.164067  0.079008 -0.032488       -0.019765   \n",
       "12       ...                 0.082688  0.007935 -0.009534        0.031511   \n",
       "13       ...                 0.265228  0.072108 -0.057046       -0.064963   \n",
       "14       ...                -0.118643 -0.012764 -0.031946       -0.108973   \n",
       "15       ...                 0.256632  0.070471 -0.100113       -0.194011   \n",
       "16       ...                 0.235039  0.004595 -0.022063       -0.052353   \n",
       "17       ...                -0.161869 -0.042695  0.057410        0.054541   \n",
       "18       ...                -0.177337 -0.131702  0.150786        0.136193   \n",
       "19       ...                -0.189567  0.096894 -0.088618       -0.151022   \n",
       "20       ...                -0.069397  0.169637 -0.053846        0.022442   \n",
       "21       ...                 0.460109 -0.054873  0.103748        0.167343   \n",
       "22       ...                -0.190384 -0.044511 -0.004723       -0.042714   \n",
       "23       ...                 0.334237  0.055061  0.008290        0.094266   \n",
       "\n",
       "    PolicCars  PolicOperBudg  LemasPctPolicOnPatr  LemasGangUnitDeploy  \\\n",
       "0   -0.079172      -0.070854             0.024308            -0.004402   \n",
       "1    0.019706       0.067440             0.015416             0.011789   \n",
       "2    0.196272       0.190971            -0.020946             0.029448   \n",
       "3   -0.027731       0.020785            -0.012362            -0.089376   \n",
       "4    0.145099       0.157913            -0.003574             0.000009   \n",
       "5    0.042723      -0.005170             0.008707             0.096919   \n",
       "6    0.023921      -0.023255            -0.128813             0.051229   \n",
       "7    0.076326       0.092749            -0.042412            -0.125326   \n",
       "8   -0.017075      -0.055873             0.019744             0.052736   \n",
       "9    0.001231       0.054606            -0.082457             0.138366   \n",
       "10   0.022971      -0.014394            -0.139109             0.046565   \n",
       "11   0.042557       0.009543            -0.016491            -0.064293   \n",
       "12   0.010951      -0.002733            -0.099828             0.024346   \n",
       "13   0.029114      -0.009117            -0.403395             0.025902   \n",
       "14   0.019141       0.093579            -0.096917            -0.233604   \n",
       "15   0.064627      -0.001507             0.216738             0.170663   \n",
       "16  -0.018768       0.042590             0.436370            -0.008691   \n",
       "17   0.014535      -0.045043             0.038539             0.128526   \n",
       "18  -0.062715       0.032271             0.226817             0.201365   \n",
       "19  -0.009191      -0.027947            -0.346386            -0.147913   \n",
       "20   0.018030      -0.082878            -0.045714             0.265109   \n",
       "21  -0.028947      -0.018366            -0.027631             0.220502   \n",
       "22   0.043625       0.065779             0.166814            -0.272124   \n",
       "23   0.014013      -0.127423             0.097988            -0.650133   \n",
       "\n",
       "    LemasPctOfficDrugUn  PolicBudgPerPop  \n",
       "0             -0.016908         0.002326  \n",
       "1             -0.012921         0.012332  \n",
       "2             -0.030446         0.081654  \n",
       "3             -0.001927         0.159741  \n",
       "4             -0.079915        -0.031345  \n",
       "5              0.115648         0.154571  \n",
       "6              0.026967         0.194625  \n",
       "7              0.005551         0.196879  \n",
       "8             -0.026216        -0.081384  \n",
       "9              0.085792         0.106136  \n",
       "10            -0.171448         0.042684  \n",
       "11             0.116367        -0.152722  \n",
       "12            -0.142127         0.053070  \n",
       "13            -0.197226         0.087022  \n",
       "14             0.260739         0.007128  \n",
       "15            -0.157654         0.006421  \n",
       "16             0.316629        -0.081285  \n",
       "17            -0.061903         0.110488  \n",
       "18            -0.118577        -0.034138  \n",
       "19             0.445901        -0.046584  \n",
       "20             0.044643        -0.055117  \n",
       "21             0.301480        -0.000533  \n",
       "22            -0.152358        -0.061324  \n",
       "23            -0.015468         0.025837  \n",
       "\n",
       "[24 rows x 122 columns]"
      ]
     },
     "execution_count": 35,
     "metadata": {},
     "output_type": "execute_result"
    }
   ],
   "source": [
    "PCA_DF"
   ]
  },
  {
   "cell_type": "code",
   "execution_count": 36,
   "metadata": {},
   "outputs": [],
   "source": [
    "PCA_DF_T = PCA_DF.T"
   ]
  },
  {
   "cell_type": "code",
   "execution_count": 37,
   "metadata": {},
   "outputs": [
    {
     "data": {
      "image/png": "[encoded data removed]",
      "text/plain": [
       "<Figure size 1152x864 with 2 Axes>"
      ]
     },
     "metadata": {
      "needs_background": "light"
     },
     "output_type": "display_data"
    }
   ],
   "source": [
    "PCA_DF_Corr = PCA_DF.corr()\n",
    "fig = plt.figure(figsize = (16, 12))\n",
    "\n",
    "sns.heatmap(PCA_DF_T, cmap = 'PiYG', vmax = 0.8)\n",
    "plt.show()"
   ]
  },
  {
   "cell_type": "markdown",
   "metadata": {},
   "source": [
    "## Exercise 4\n",
    "\n",
    "#### Question 1 \n",
    "\n",
    "##### In this exercise, we will be importing a new dataset called `invoice-payment.csv` as `ex_data2`. \n",
    "##### This dataset predicts `invoice_risk_decision` using the rest of the variables as predictors.\n",
    "##### Take a look at the first few rows of the dataset. \n"
   ]
  },
  {
   "cell_type": "code",
   "execution_count": 38,
   "metadata": {},
   "outputs": [
    {
     "data": {
      "text/html": [
       "<div>\n",
       "<style scoped>\n",
       "    .dataframe tbody tr th:only-of-type {\n",
       "        vertical-align: middle;\n",
       "    }\n",
       "\n",
       "    .dataframe tbody tr th {\n",
       "        vertical-align: top;\n",
       "    }\n",
       "\n",
       "    .dataframe thead th {\n",
       "        text-align: right;\n",
       "    }\n",
       "</style>\n",
       "<table border=\"1\" class=\"dataframe\">\n",
       "  <thead>\n",
       "    <tr style=\"text-align: right;\">\n",
       "      <th></th>\n",
       "      <th>invoice_risk_decision</th>\n",
       "      <th>invoice</th>\n",
       "      <th>payment_due</th>\n",
       "      <th>payment</th>\n",
       "      <th>grand_total</th>\n",
       "    </tr>\n",
       "  </thead>\n",
       "  <tbody>\n",
       "    <tr>\n",
       "      <th>0</th>\n",
       "      <td>0</td>\n",
       "      <td>2017/11/14</td>\n",
       "      <td>2017/11/16</td>\n",
       "      <td>2017/11/16</td>\n",
       "      <td>64.25</td>\n",
       "    </tr>\n",
       "    <tr>\n",
       "      <th>1</th>\n",
       "      <td>0</td>\n",
       "      <td>2017/11/14</td>\n",
       "      <td>2017/11/17</td>\n",
       "      <td>2017/11/17</td>\n",
       "      <td>50.34</td>\n",
       "    </tr>\n",
       "    <tr>\n",
       "      <th>2</th>\n",
       "      <td>0</td>\n",
       "      <td>2017/12/4</td>\n",
       "      <td>2017/12/8</td>\n",
       "      <td>2017/12/8</td>\n",
       "      <td>40.03</td>\n",
       "    </tr>\n",
       "    <tr>\n",
       "      <th>3</th>\n",
       "      <td>0</td>\n",
       "      <td>2017/12/4</td>\n",
       "      <td>2017/12/8</td>\n",
       "      <td>2017/12/6</td>\n",
       "      <td>94.86</td>\n",
       "    </tr>\n",
       "    <tr>\n",
       "      <th>4</th>\n",
       "      <td>0</td>\n",
       "      <td>2017/12/6</td>\n",
       "      <td>2017/12/8</td>\n",
       "      <td>2017/12/14</td>\n",
       "      <td>65.15</td>\n",
       "    </tr>\n",
       "  </tbody>\n",
       "</table>\n",
       "</div>"
      ],
      "text/plain": [
       "   invoice_risk_decision     invoice payment_due     payment  grand_total\n",
       "0                      0  2017/11/14  2017/11/16  2017/11/16        64.25\n",
       "1                      0  2017/11/14  2017/11/17  2017/11/17        50.34\n",
       "2                      0   2017/12/4   2017/12/8   2017/12/8        40.03\n",
       "3                      0   2017/12/4   2017/12/8   2017/12/6        94.86\n",
       "4                      0   2017/12/6   2017/12/8  2017/12/14        65.15"
      ]
     },
     "execution_count": 38,
     "metadata": {},
     "output_type": "execute_result"
    }
   ],
   "source": [
    "ex_data2 = pd.read_csv('invoice-payment.csv')\n",
    "ex_data2.head()"
   ]
  },
  {
   "cell_type": "markdown",
   "metadata": {},
   "source": [
    "#### Question 2 \n",
    "\n",
    "##### Using the `invoice_risk_decision` as the target `y_4` and the non-date variable as a predictor `X_4`, get the accuracy score of this model using the `logistic_model` package. \n",
    "\n",
    "##### Save the accuracy score as `accuracy4`. \n",
    "##### Save `accuracy4` in `ex_performance_df` with `baseline model` as the model name. \n"
   ]
  },
  {
   "cell_type": "code",
   "execution_count": 39,
   "metadata": {},
   "outputs": [],
   "source": [
    "x_4 = ex_data2['grand_total']\n",
    "y_4 = ex_data2.invoice_risk_decision"
   ]
  },
  {
   "cell_type": "code",
   "execution_count": 40,
   "metadata": {},
   "outputs": [
    {
     "data": {
      "text/plain": [
       "pandas.core.series.Series"
      ]
     },
     "execution_count": 40,
     "metadata": {},
     "output_type": "execute_result"
    }
   ],
   "source": [
    "type(x_4)"
   ]
  },
  {
   "cell_type": "code",
   "execution_count": 41,
   "metadata": {},
   "outputs": [],
   "source": [
    "x_4 = pd.DataFrame(x_4)"
   ]
  },
  {
   "cell_type": "code",
   "execution_count": 42,
   "metadata": {},
   "outputs": [
    {
     "data": {
      "text/plain": [
       "pandas.core.frame.DataFrame"
      ]
     },
     "execution_count": 42,
     "metadata": {},
     "output_type": "execute_result"
    }
   ],
   "source": [
    "type(x_4)"
   ]
  },
  {
   "cell_type": "code",
   "execution_count": 43,
   "metadata": {},
   "outputs": [],
   "source": [
    "accuracy4 = konami.logistic_model(x_4,y_4)"
   ]
  },
  {
   "cell_type": "code",
   "execution_count": 44,
   "metadata": {},
   "outputs": [
    {
     "name": "stdout",
     "output_type": "stream",
     "text": [
      "    dataset_name            model_name model_metric  metric_value\n",
      "0     crime_rate        baseline_model     accuracy      0.822917\n",
      "1     crime_rate  imputed_median_model     accuracy      0.823000\n",
      "2     crime_rate             PCA_model     accuracy      0.854200\n",
      "3  invoices_risk        baseline_model     accuracy      0.623500\n"
     ]
    }
   ],
   "source": [
    "s = pd.Series(['invoices_risk', \n",
    "               'baseline_model', \n",
    "               'accuracy', \n",
    "               round(accuracy4, 4)],\n",
    "              index = ['dataset_name', \n",
    "                       'model_name',\n",
    "                       'model_metric',\n",
    "                       'metric_value'])\n",
    "performance_df = performance_df.append(s, ignore_index = True)\n",
    "print(performance_df)"
   ]
  },
  {
   "cell_type": "markdown",
   "metadata": {},
   "source": [
    "#### Question 3\n",
    "\n",
    "##### Convert all the date variables into a `datetime` object using the `pd.to_datetime` function.\n",
    "##### Let's create a new column named `payment_delta`, which calculates how many days the person had between the payment due date and the actual payment date. \n",
    "##### You can create the `payment_delta` column by subtracting `payment` column and the `payment_due` column. \n",
    "\n",
    "##### *Hint: make sure to use `.dt.days` function on `payment_delta` column to remove the `days` unit."
   ]
  },
  {
   "cell_type": "code",
   "execution_count": 45,
   "metadata": {},
   "outputs": [
    {
     "data": {
      "text/plain": [
       "array(['invoice_risk_decision', 'invoice', 'payment_due', 'payment',\n",
       "       'grand_total'], dtype=object)"
      ]
     },
     "execution_count": 45,
     "metadata": {},
     "output_type": "execute_result"
    }
   ],
   "source": [
    "ex_data2.columns.values"
   ]
  },
  {
   "cell_type": "code",
   "execution_count": 46,
   "metadata": {},
   "outputs": [],
   "source": [
    "#ex_data2[['invoice','payment_due','payment']] = pd.to_datetime(ex_data2['invoice','payment_due','payment'], format = '%Y/%m/%d')\n",
    "\n",
    "ex_data2[['invoice','payment_due','payment']] = ex_data2[['invoice','payment_due','payment']].apply(pd.to_datetime, format = '%Y/%m/%d')\n"
   ]
  },
  {
   "cell_type": "code",
   "execution_count": 47,
   "metadata": {},
   "outputs": [],
   "source": [
    "ex_data2['payment_delta'] = ex_data2['payment'].dt.day - ex_data2['payment_due'].dt.day\n"
   ]
  },
  {
   "cell_type": "code",
   "execution_count": 48,
   "metadata": {},
   "outputs": [
    {
     "data": {
      "text/html": [
       "<div>\n",
       "<style scoped>\n",
       "    .dataframe tbody tr th:only-of-type {\n",
       "        vertical-align: middle;\n",
       "    }\n",
       "\n",
       "    .dataframe tbody tr th {\n",
       "        vertical-align: top;\n",
       "    }\n",
       "\n",
       "    .dataframe thead th {\n",
       "        text-align: right;\n",
       "    }\n",
       "</style>\n",
       "<table border=\"1\" class=\"dataframe\">\n",
       "  <thead>\n",
       "    <tr style=\"text-align: right;\">\n",
       "      <th></th>\n",
       "      <th>invoice_risk_decision</th>\n",
       "      <th>invoice</th>\n",
       "      <th>payment_due</th>\n",
       "      <th>payment</th>\n",
       "      <th>grand_total</th>\n",
       "      <th>payment_delta</th>\n",
       "    </tr>\n",
       "  </thead>\n",
       "  <tbody>\n",
       "    <tr>\n",
       "      <th>0</th>\n",
       "      <td>0</td>\n",
       "      <td>2017-11-14</td>\n",
       "      <td>2017-11-16</td>\n",
       "      <td>2017-11-16</td>\n",
       "      <td>64.25</td>\n",
       "      <td>0</td>\n",
       "    </tr>\n",
       "    <tr>\n",
       "      <th>1</th>\n",
       "      <td>0</td>\n",
       "      <td>2017-11-14</td>\n",
       "      <td>2017-11-17</td>\n",
       "      <td>2017-11-17</td>\n",
       "      <td>50.34</td>\n",
       "      <td>0</td>\n",
       "    </tr>\n",
       "    <tr>\n",
       "      <th>2</th>\n",
       "      <td>0</td>\n",
       "      <td>2017-12-04</td>\n",
       "      <td>2017-12-08</td>\n",
       "      <td>2017-12-08</td>\n",
       "      <td>40.03</td>\n",
       "      <td>0</td>\n",
       "    </tr>\n",
       "    <tr>\n",
       "      <th>3</th>\n",
       "      <td>0</td>\n",
       "      <td>2017-12-04</td>\n",
       "      <td>2017-12-08</td>\n",
       "      <td>2017-12-06</td>\n",
       "      <td>94.86</td>\n",
       "      <td>-2</td>\n",
       "    </tr>\n",
       "    <tr>\n",
       "      <th>4</th>\n",
       "      <td>0</td>\n",
       "      <td>2017-12-06</td>\n",
       "      <td>2017-12-08</td>\n",
       "      <td>2017-12-14</td>\n",
       "      <td>65.15</td>\n",
       "      <td>6</td>\n",
       "    </tr>\n",
       "  </tbody>\n",
       "</table>\n",
       "</div>"
      ],
      "text/plain": [
       "   invoice_risk_decision    invoice payment_due    payment  grand_total  \\\n",
       "0                      0 2017-11-14  2017-11-16 2017-11-16        64.25   \n",
       "1                      0 2017-11-14  2017-11-17 2017-11-17        50.34   \n",
       "2                      0 2017-12-04  2017-12-08 2017-12-08        40.03   \n",
       "3                      0 2017-12-04  2017-12-08 2017-12-06        94.86   \n",
       "4                      0 2017-12-06  2017-12-08 2017-12-14        65.15   \n",
       "\n",
       "   payment_delta  \n",
       "0              0  \n",
       "1              0  \n",
       "2              0  \n",
       "3             -2  \n",
       "4              6  "
      ]
     },
     "execution_count": 48,
     "metadata": {},
     "output_type": "execute_result"
    }
   ],
   "source": [
    "ex_data2.head()"
   ]
  },
  {
   "cell_type": "markdown",
   "metadata": {},
   "source": [
    "#### Question 4\n",
    "##### Create a new logistic regression model using `grand_total` and `payment_delta` as the predictors called `X_5`, and using `y4` as the target. \n",
    "##### Save the accuracy score of this model as `accuracy5`."
   ]
  },
  {
   "cell_type": "code",
   "execution_count": 61,
   "metadata": {},
   "outputs": [],
   "source": [
    "x_5 = ex_data2[['grand_total', 'payment_delta']]\n",
    "y_5 = ex_data2.invoice_risk_decision"
   ]
  },
  {
   "cell_type": "code",
   "execution_count": 62,
   "metadata": {},
   "outputs": [],
   "source": [
    "accuracy5 = konami.logistic_model(x_5,y_5)"
   ]
  },
  {
   "cell_type": "code",
   "execution_count": 63,
   "metadata": {},
   "outputs": [
    {
     "data": {
      "text/plain": [
       "0.6235294117647059"
      ]
     },
     "execution_count": 63,
     "metadata": {},
     "output_type": "execute_result"
    }
   ],
   "source": [
    "accuracy5"
   ]
  },
  {
   "cell_type": "markdown",
   "metadata": {},
   "source": [
    "#### Question 5 \n",
    "##### Save `accuracy5` in `ex_performance_df` with `payment-delta` as the model name. \n",
    "##### How does the accuracy score look like compared to the baseline model?"
   ]
  },
  {
   "cell_type": "code",
   "execution_count": 52,
   "metadata": {},
   "outputs": [
    {
     "name": "stdout",
     "output_type": "stream",
     "text": [
      "    dataset_name            model_name model_metric  metric_value\n",
      "0     crime_rate        baseline_model     accuracy      0.822917\n",
      "1     crime_rate  imputed_median_model     accuracy      0.823000\n",
      "2     crime_rate             PCA_model     accuracy      0.854200\n",
      "3  invoices_risk        baseline_model     accuracy      0.623500\n",
      "4  invoices_risk         p_delta_model     accuracy      0.623500\n"
     ]
    }
   ],
   "source": [
    "s = pd.Series(['invoices_risk', \n",
    "               'p_delta_model', \n",
    "               'accuracy', \n",
    "               round(accuracy5, 4)],\n",
    "              index = ['dataset_name', \n",
    "                       'model_name',\n",
    "                       'model_metric',\n",
    "                       'metric_value'])\n",
    "performance_df = performance_df.append(s, ignore_index = True)\n",
    "print(performance_df)"
   ]
  },
  {
   "cell_type": "markdown",
   "metadata": {},
   "source": [
    "#### Question 6\n",
    "\n",
    "##### Let's see if creating a column that indicates whether the person was late or on time for the payment helps with the prediction.\n",
    "##### Create a new column called `payment_on_time_or_late`, where the values are `On Time` if the values in the `payment_delta` column are equal to or larger than 0, and `Late` if less than 0.\n",
    "\n",
    "##### Make `payment_on_time_or_late` column into a dummy variable using the `pd.get_dummies()` function.\n",
    "##### Concatenate those dummy variables back into `ex_data2`. "
   ]
  },
  {
   "cell_type": "code",
   "execution_count": 53,
   "metadata": {},
   "outputs": [],
   "source": [
    "ex_data2['payment_on_time_or_late'] = np.where(ex_data2['payment_delta'] > 0, 'Late','On_Time') \n"
   ]
  },
  {
   "cell_type": "code",
   "execution_count": 54,
   "metadata": {},
   "outputs": [],
   "source": [
    "dummy_columns = ['payment_on_time','payment_late']"
   ]
  },
  {
   "cell_type": "code",
   "execution_count": 55,
   "metadata": {},
   "outputs": [
    {
     "data": {
      "text/plain": [
       "2"
      ]
     },
     "execution_count": 55,
     "metadata": {},
     "output_type": "execute_result"
    }
   ],
   "source": [
    "type(dummy_columns)\n",
    "len(dummy_columns)"
   ]
  },
  {
   "cell_type": "code",
   "execution_count": 64,
   "metadata": {},
   "outputs": [],
   "source": [
    "ex_data2_d = pd.get_dummies(ex_data2, \n",
    "                            prefix = ['payment_on_time_or_late'] )"
   ]
  },
  {
   "cell_type": "code",
   "execution_count": 65,
   "metadata": {},
   "outputs": [
    {
     "data": {
      "text/html": [
       "<div>\n",
       "<style scoped>\n",
       "    .dataframe tbody tr th:only-of-type {\n",
       "        vertical-align: middle;\n",
       "    }\n",
       "\n",
       "    .dataframe tbody tr th {\n",
       "        vertical-align: top;\n",
       "    }\n",
       "\n",
       "    .dataframe thead th {\n",
       "        text-align: right;\n",
       "    }\n",
       "</style>\n",
       "<table border=\"1\" class=\"dataframe\">\n",
       "  <thead>\n",
       "    <tr style=\"text-align: right;\">\n",
       "      <th></th>\n",
       "      <th>Late</th>\n",
       "      <th>On_Time</th>\n",
       "    </tr>\n",
       "  </thead>\n",
       "  <tbody>\n",
       "    <tr>\n",
       "      <th>0</th>\n",
       "      <td>0</td>\n",
       "      <td>1</td>\n",
       "    </tr>\n",
       "    <tr>\n",
       "      <th>1</th>\n",
       "      <td>0</td>\n",
       "      <td>1</td>\n",
       "    </tr>\n",
       "    <tr>\n",
       "      <th>2</th>\n",
       "      <td>0</td>\n",
       "      <td>1</td>\n",
       "    </tr>\n",
       "    <tr>\n",
       "      <th>3</th>\n",
       "      <td>0</td>\n",
       "      <td>1</td>\n",
       "    </tr>\n",
       "    <tr>\n",
       "      <th>4</th>\n",
       "      <td>1</td>\n",
       "      <td>0</td>\n",
       "    </tr>\n",
       "    <tr>\n",
       "      <th>5</th>\n",
       "      <td>0</td>\n",
       "      <td>1</td>\n",
       "    </tr>\n",
       "    <tr>\n",
       "      <th>6</th>\n",
       "      <td>0</td>\n",
       "      <td>1</td>\n",
       "    </tr>\n",
       "    <tr>\n",
       "      <th>7</th>\n",
       "      <td>0</td>\n",
       "      <td>1</td>\n",
       "    </tr>\n",
       "    <tr>\n",
       "      <th>8</th>\n",
       "      <td>1</td>\n",
       "      <td>0</td>\n",
       "    </tr>\n",
       "    <tr>\n",
       "      <th>9</th>\n",
       "      <td>0</td>\n",
       "      <td>1</td>\n",
       "    </tr>\n",
       "    <tr>\n",
       "      <th>10</th>\n",
       "      <td>0</td>\n",
       "      <td>1</td>\n",
       "    </tr>\n",
       "    <tr>\n",
       "      <th>11</th>\n",
       "      <td>1</td>\n",
       "      <td>0</td>\n",
       "    </tr>\n",
       "    <tr>\n",
       "      <th>12</th>\n",
       "      <td>0</td>\n",
       "      <td>1</td>\n",
       "    </tr>\n",
       "    <tr>\n",
       "      <th>13</th>\n",
       "      <td>0</td>\n",
       "      <td>1</td>\n",
       "    </tr>\n",
       "    <tr>\n",
       "      <th>14</th>\n",
       "      <td>1</td>\n",
       "      <td>0</td>\n",
       "    </tr>\n",
       "    <tr>\n",
       "      <th>15</th>\n",
       "      <td>1</td>\n",
       "      <td>0</td>\n",
       "    </tr>\n",
       "    <tr>\n",
       "      <th>16</th>\n",
       "      <td>0</td>\n",
       "      <td>1</td>\n",
       "    </tr>\n",
       "    <tr>\n",
       "      <th>17</th>\n",
       "      <td>1</td>\n",
       "      <td>0</td>\n",
       "    </tr>\n",
       "    <tr>\n",
       "      <th>18</th>\n",
       "      <td>0</td>\n",
       "      <td>1</td>\n",
       "    </tr>\n",
       "    <tr>\n",
       "      <th>19</th>\n",
       "      <td>0</td>\n",
       "      <td>1</td>\n",
       "    </tr>\n",
       "    <tr>\n",
       "      <th>20</th>\n",
       "      <td>0</td>\n",
       "      <td>1</td>\n",
       "    </tr>\n",
       "    <tr>\n",
       "      <th>21</th>\n",
       "      <td>1</td>\n",
       "      <td>0</td>\n",
       "    </tr>\n",
       "    <tr>\n",
       "      <th>22</th>\n",
       "      <td>0</td>\n",
       "      <td>1</td>\n",
       "    </tr>\n",
       "    <tr>\n",
       "      <th>23</th>\n",
       "      <td>0</td>\n",
       "      <td>1</td>\n",
       "    </tr>\n",
       "    <tr>\n",
       "      <th>24</th>\n",
       "      <td>0</td>\n",
       "      <td>1</td>\n",
       "    </tr>\n",
       "    <tr>\n",
       "      <th>25</th>\n",
       "      <td>1</td>\n",
       "      <td>0</td>\n",
       "    </tr>\n",
       "    <tr>\n",
       "      <th>26</th>\n",
       "      <td>1</td>\n",
       "      <td>0</td>\n",
       "    </tr>\n",
       "    <tr>\n",
       "      <th>27</th>\n",
       "      <td>1</td>\n",
       "      <td>0</td>\n",
       "    </tr>\n",
       "    <tr>\n",
       "      <th>28</th>\n",
       "      <td>0</td>\n",
       "      <td>1</td>\n",
       "    </tr>\n",
       "    <tr>\n",
       "      <th>29</th>\n",
       "      <td>0</td>\n",
       "      <td>1</td>\n",
       "    </tr>\n",
       "    <tr>\n",
       "      <th>...</th>\n",
       "      <td>...</td>\n",
       "      <td>...</td>\n",
       "    </tr>\n",
       "    <tr>\n",
       "      <th>251</th>\n",
       "      <td>1</td>\n",
       "      <td>0</td>\n",
       "    </tr>\n",
       "    <tr>\n",
       "      <th>252</th>\n",
       "      <td>0</td>\n",
       "      <td>1</td>\n",
       "    </tr>\n",
       "    <tr>\n",
       "      <th>253</th>\n",
       "      <td>1</td>\n",
       "      <td>0</td>\n",
       "    </tr>\n",
       "    <tr>\n",
       "      <th>254</th>\n",
       "      <td>0</td>\n",
       "      <td>1</td>\n",
       "    </tr>\n",
       "    <tr>\n",
       "      <th>255</th>\n",
       "      <td>1</td>\n",
       "      <td>0</td>\n",
       "    </tr>\n",
       "    <tr>\n",
       "      <th>256</th>\n",
       "      <td>0</td>\n",
       "      <td>1</td>\n",
       "    </tr>\n",
       "    <tr>\n",
       "      <th>257</th>\n",
       "      <td>0</td>\n",
       "      <td>1</td>\n",
       "    </tr>\n",
       "    <tr>\n",
       "      <th>258</th>\n",
       "      <td>1</td>\n",
       "      <td>0</td>\n",
       "    </tr>\n",
       "    <tr>\n",
       "      <th>259</th>\n",
       "      <td>1</td>\n",
       "      <td>0</td>\n",
       "    </tr>\n",
       "    <tr>\n",
       "      <th>260</th>\n",
       "      <td>1</td>\n",
       "      <td>0</td>\n",
       "    </tr>\n",
       "    <tr>\n",
       "      <th>261</th>\n",
       "      <td>1</td>\n",
       "      <td>0</td>\n",
       "    </tr>\n",
       "    <tr>\n",
       "      <th>262</th>\n",
       "      <td>0</td>\n",
       "      <td>1</td>\n",
       "    </tr>\n",
       "    <tr>\n",
       "      <th>263</th>\n",
       "      <td>0</td>\n",
       "      <td>1</td>\n",
       "    </tr>\n",
       "    <tr>\n",
       "      <th>264</th>\n",
       "      <td>0</td>\n",
       "      <td>1</td>\n",
       "    </tr>\n",
       "    <tr>\n",
       "      <th>265</th>\n",
       "      <td>1</td>\n",
       "      <td>0</td>\n",
       "    </tr>\n",
       "    <tr>\n",
       "      <th>266</th>\n",
       "      <td>0</td>\n",
       "      <td>1</td>\n",
       "    </tr>\n",
       "    <tr>\n",
       "      <th>267</th>\n",
       "      <td>0</td>\n",
       "      <td>1</td>\n",
       "    </tr>\n",
       "    <tr>\n",
       "      <th>268</th>\n",
       "      <td>0</td>\n",
       "      <td>1</td>\n",
       "    </tr>\n",
       "    <tr>\n",
       "      <th>269</th>\n",
       "      <td>1</td>\n",
       "      <td>0</td>\n",
       "    </tr>\n",
       "    <tr>\n",
       "      <th>270</th>\n",
       "      <td>0</td>\n",
       "      <td>1</td>\n",
       "    </tr>\n",
       "    <tr>\n",
       "      <th>271</th>\n",
       "      <td>1</td>\n",
       "      <td>0</td>\n",
       "    </tr>\n",
       "    <tr>\n",
       "      <th>272</th>\n",
       "      <td>0</td>\n",
       "      <td>1</td>\n",
       "    </tr>\n",
       "    <tr>\n",
       "      <th>273</th>\n",
       "      <td>1</td>\n",
       "      <td>0</td>\n",
       "    </tr>\n",
       "    <tr>\n",
       "      <th>274</th>\n",
       "      <td>1</td>\n",
       "      <td>0</td>\n",
       "    </tr>\n",
       "    <tr>\n",
       "      <th>275</th>\n",
       "      <td>1</td>\n",
       "      <td>0</td>\n",
       "    </tr>\n",
       "    <tr>\n",
       "      <th>276</th>\n",
       "      <td>0</td>\n",
       "      <td>1</td>\n",
       "    </tr>\n",
       "    <tr>\n",
       "      <th>277</th>\n",
       "      <td>0</td>\n",
       "      <td>1</td>\n",
       "    </tr>\n",
       "    <tr>\n",
       "      <th>278</th>\n",
       "      <td>1</td>\n",
       "      <td>0</td>\n",
       "    </tr>\n",
       "    <tr>\n",
       "      <th>279</th>\n",
       "      <td>0</td>\n",
       "      <td>1</td>\n",
       "    </tr>\n",
       "    <tr>\n",
       "      <th>280</th>\n",
       "      <td>0</td>\n",
       "      <td>1</td>\n",
       "    </tr>\n",
       "  </tbody>\n",
       "</table>\n",
       "<p>281 rows × 2 columns</p>\n",
       "</div>"
      ],
      "text/plain": [
       "     Late  On_Time\n",
       "0       0        1\n",
       "1       0        1\n",
       "2       0        1\n",
       "3       0        1\n",
       "4       1        0\n",
       "5       0        1\n",
       "6       0        1\n",
       "7       0        1\n",
       "8       1        0\n",
       "9       0        1\n",
       "10      0        1\n",
       "11      1        0\n",
       "12      0        1\n",
       "13      0        1\n",
       "14      1        0\n",
       "15      1        0\n",
       "16      0        1\n",
       "17      1        0\n",
       "18      0        1\n",
       "19      0        1\n",
       "20      0        1\n",
       "21      1        0\n",
       "22      0        1\n",
       "23      0        1\n",
       "24      0        1\n",
       "25      1        0\n",
       "26      1        0\n",
       "27      1        0\n",
       "28      0        1\n",
       "29      0        1\n",
       "..    ...      ...\n",
       "251     1        0\n",
       "252     0        1\n",
       "253     1        0\n",
       "254     0        1\n",
       "255     1        0\n",
       "256     0        1\n",
       "257     0        1\n",
       "258     1        0\n",
       "259     1        0\n",
       "260     1        0\n",
       "261     1        0\n",
       "262     0        1\n",
       "263     0        1\n",
       "264     0        1\n",
       "265     1        0\n",
       "266     0        1\n",
       "267     0        1\n",
       "268     0        1\n",
       "269     1        0\n",
       "270     0        1\n",
       "271     1        0\n",
       "272     0        1\n",
       "273     1        0\n",
       "274     1        0\n",
       "275     1        0\n",
       "276     0        1\n",
       "277     0        1\n",
       "278     1        0\n",
       "279     0        1\n",
       "280     0        1\n",
       "\n",
       "[281 rows x 2 columns]"
      ]
     },
     "execution_count": 65,
     "metadata": {},
     "output_type": "execute_result"
    }
   ],
   "source": [
    "ex_data2_d"
   ]
  },
  {
   "cell_type": "markdown",
   "metadata": {},
   "source": [
    "#### Question 7\n",
    "\n",
    "##### Create a new logistic regression model using `grand_total` and `payment_delta` and `On Time` as the predictors called `X_6`, and using `y4` as the target. \n",
    "##### Save the accuracy score of this model as `accuracy6`."
   ]
  },
  {
   "cell_type": "code",
   "execution_count": 58,
   "metadata": {},
   "outputs": [],
   "source": [
    "x_6 = ex_data2_d[['grand_total', \n",
    "                  'payment_delta',\n",
    "                  'payment_on_time_or_late_On_Time']]\n",
    "y_4 = ex_data2_d.invoice_risk_decision"
   ]
  },
  {
   "cell_type": "code",
   "execution_count": 59,
   "metadata": {},
   "outputs": [],
   "source": [
    "accuracy6 = konami.logistic_model(x_6,y_4)"
   ]
  },
  {
   "cell_type": "markdown",
   "metadata": {},
   "source": [
    "#### Question 8\n",
    "##### Save `accuracy6` in `ex_performance_df` with `payment-ontime` as the model name. \n",
    "##### How does the accuracy score compare to the baseline model?"
   ]
  },
  {
   "cell_type": "code",
   "execution_count": 60,
   "metadata": {},
   "outputs": [
    {
     "name": "stdout",
     "output_type": "stream",
     "text": [
      "    dataset_name            model_name model_metric  metric_value\n",
      "0     crime_rate        baseline_model     accuracy      0.822917\n",
      "1     crime_rate  imputed_median_model     accuracy      0.823000\n",
      "2     crime_rate             PCA_model     accuracy      0.854200\n",
      "3  invoices_risk        baseline_model     accuracy      0.623500\n",
      "4  invoices_risk         p_delta_model     accuracy      0.623500\n",
      "5  invoices_risk         on_time_model     accuracy      0.600000\n"
     ]
    }
   ],
   "source": [
    "s = pd.Series(['invoices_risk', \n",
    "               'on_time_model', \n",
    "               'accuracy', \n",
    "               round(accuracy6, 4)],\n",
    "              index = ['dataset_name', \n",
    "                       'model_name',\n",
    "                       'model_metric',\n",
    "                       'metric_value'])\n",
    "performance_df = performance_df.append(s, ignore_index = True)\n",
    "print(performance_df)"
   ]
  },
  {
   "cell_type": "code",
   "execution_count": null,
   "metadata": {},
   "outputs": [],
   "source": []
  }
 ],
 "metadata": {
  "kernelspec": {
   "display_name": "Python 3",
   "language": "python",
   "name": "python3"
  },
  "language_info": {
   "codemirror_mode": {
    "name": "ipython",
    "version": 3
   },
   "file_extension": ".py",
   "mimetype": "text/x-python",
   "name": "python",
   "nbconvert_exporter": "python",
   "pygments_lexer": "ipython3",
   "version": "3.7.1"
  }
 },
 "nbformat": 4,
 "nbformat_minor": 2
}
