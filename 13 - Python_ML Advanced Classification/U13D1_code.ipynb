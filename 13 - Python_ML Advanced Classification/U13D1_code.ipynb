{
 "cells": [
  {
   "cell_type": "code",
   "execution_count": null,
   "metadata": {},
   "outputs": [],
   "source": [
    "\n",
    "#######################################################\n",
    "#######################################################\n",
    "############    COPYRIGHT - DATA SOCIETY   ############\n",
    "#######################################################\n",
    "#######################################################\n",
    "\n",
    "## 13 ADVANCED CLASSIFICATION DAY1 ##\n",
    "\n",
    "## NOTE: To run individual pieces of code, select the line of code and\n",
    "##       press ctrl + enter for PCs or command + enter for Macs\n",
    "\n"
   ]
  },
  {
   "cell_type": "code",
   "execution_count": 1,
   "metadata": {},
   "outputs": [],
   "source": [
    "#=================================================-\n",
    "#### Slide 2: Directory settings  ####\n",
    "\n",
    "# Set `main_dir` to the location of your `af-werx` folder (for Linux).\n",
    "main_dir = \"/home/Datasociety/Desktop/af-werx\"\n",
    "# Set `main_dir` to the location of your `af-werx` folder (for Mac).\n",
    "main_dir = '/Users/Datasociety/Desktop/af-werx'\n",
    "# Set `main_dir` to the location of your `af-werx` folder (for Windows).\n",
    "#main_dir = \"C:\\\\Users\\\\Datasociety\\\\Desktop\\\\af-werx\"\n",
    "# Make `data_dir` from the `main_dir` and\n",
    "# remainder of the path to data directory.\n",
    "data_dir = main_dir + \"/data\"\n",
    "\n"
   ]
  },
  {
   "cell_type": "code",
   "execution_count": null,
   "metadata": {},
   "outputs": [],
   "source": [
    "# Set `main_dir` to the location of your `af-werx` folder (for Mac).\n",
    "main_dir = '/Users/Datasociety/Desktop/af-werx'\n",
    "data_dir = main_dir + \"/data\""
   ]
  },
  {
   "cell_type": "code",
   "execution_count": 2,
   "metadata": {},
   "outputs": [],
   "source": [
    "#=================================================-\n",
    "#### Slide 3: Loading packages  ####\n",
    "\n",
    "import os\n",
    "import pickle\n",
    "import matplotlib.pyplot as plt\n",
    "import numpy as np\n",
    "import pandas as pd\n",
    "from textwrap import wrap\n",
    "from sklearn.model_selection import train_test_split\n",
    "from sklearn import metrics\n",
    "from sklearn import tree\n",
    "from sklearn.metrics import accuracy_score\n",
    "\n",
    "# New today - random forest and boosting packages\n",
    "from sklearn.ensemble import RandomForestClassifier\n",
    "from sklearn.ensemble import GradientBoostingClassifier\n",
    "from matplotlib.legend_handler import HandlerLine2D"
   ]
  },
  {
   "cell_type": "code",
   "execution_count": 3,
   "metadata": {},
   "outputs": [
    {
     "data": {
      "text/plain": [
       "'/Users/datasociety/Desktop/af-werx/data'"
      ]
     },
     "execution_count": 3,
     "metadata": {},
     "output_type": "execute_result"
    }
   ],
   "source": [
    "# <<on my machine>>\n",
    "# I would like to use relative paths but the class has been using absoulute paths so lets not change too much now\n",
    "#data_dir = '/Users/user/Dropbox/Teaching_folders/_Current teaching/data_society_data_science/data'\n",
    "# <<on my machine>>\n",
    "# I would like to use relative paths but the class has been using absoulute paths so lets not change too much now\n",
    "#plot_dir = '/Users/user/Dropbox/Teaching_folders/_Current teaching/data_society_data_science/plots'\n",
    "\n",
    "os.chdir(data_dir)\n",
    "os.getcwd()"
   ]
  },
  {
   "cell_type": "code",
   "execution_count": 4,
   "metadata": {},
   "outputs": [
    {
     "name": "stdout",
     "output_type": "stream",
     "text": [
      "/Users/datasociety/Desktop/af-werx/data\n"
     ]
    }
   ],
   "source": [
    "#=================================================-\n",
    "#### Slide 4: Working directory  ####\n",
    "\n",
    "# Set working directory.\n",
    "os.chdir(data_dir)\n",
    "# Check working directory.\n",
    "print(os.getcwd())"
   ]
  },
  {
   "cell_type": "code",
   "execution_count": 7,
   "metadata": {},
   "outputs": [
    {
     "data": {
      "text/html": [
       "<div>\n",
       "<style scoped>\n",
       "    .dataframe tbody tr th:only-of-type {\n",
       "        vertical-align: middle;\n",
       "    }\n",
       "\n",
       "    .dataframe tbody tr th {\n",
       "        vertical-align: top;\n",
       "    }\n",
       "\n",
       "    .dataframe thead th {\n",
       "        text-align: right;\n",
       "    }\n",
       "</style>\n",
       "<table border=\"1\" class=\"dataframe\">\n",
       "  <thead>\n",
       "    <tr style=\"text-align: right;\">\n",
       "      <th></th>\n",
       "      <th>rooms</th>\n",
       "      <th>tablet</th>\n",
       "      <th>males_under_12</th>\n",
       "      <th>males_over_12</th>\n",
       "      <th>females_under_12</th>\n",
       "      <th>females_over_12</th>\n",
       "      <th>years_of_schooling</th>\n",
       "      <th>wall_block_brick</th>\n",
       "      <th>wall_socket</th>\n",
       "      <th>wall_prefab_cement</th>\n",
       "      <th>...</th>\n",
       "      <th>num_mobilephones</th>\n",
       "      <th>region_central</th>\n",
       "      <th>region_Chorotega</th>\n",
       "      <th>region_pacifico</th>\n",
       "      <th>region_brunca</th>\n",
       "      <th>region_antlantica</th>\n",
       "      <th>region_huetar</th>\n",
       "      <th>urban_zone</th>\n",
       "      <th>age</th>\n",
       "      <th>Target</th>\n",
       "    </tr>\n",
       "  </thead>\n",
       "  <tbody>\n",
       "    <tr>\n",
       "      <th>0</th>\n",
       "      <td>3</td>\n",
       "      <td>0</td>\n",
       "      <td>0</td>\n",
       "      <td>1</td>\n",
       "      <td>0</td>\n",
       "      <td>0</td>\n",
       "      <td>10</td>\n",
       "      <td>1</td>\n",
       "      <td>0</td>\n",
       "      <td>0</td>\n",
       "      <td>...</td>\n",
       "      <td>1</td>\n",
       "      <td>1</td>\n",
       "      <td>0</td>\n",
       "      <td>0</td>\n",
       "      <td>0</td>\n",
       "      <td>0</td>\n",
       "      <td>0</td>\n",
       "      <td>1</td>\n",
       "      <td>43</td>\n",
       "      <td>True</td>\n",
       "    </tr>\n",
       "    <tr>\n",
       "      <th>1</th>\n",
       "      <td>4</td>\n",
       "      <td>1</td>\n",
       "      <td>0</td>\n",
       "      <td>1</td>\n",
       "      <td>0</td>\n",
       "      <td>0</td>\n",
       "      <td>12</td>\n",
       "      <td>0</td>\n",
       "      <td>0</td>\n",
       "      <td>0</td>\n",
       "      <td>...</td>\n",
       "      <td>1</td>\n",
       "      <td>1</td>\n",
       "      <td>0</td>\n",
       "      <td>0</td>\n",
       "      <td>0</td>\n",
       "      <td>0</td>\n",
       "      <td>0</td>\n",
       "      <td>1</td>\n",
       "      <td>67</td>\n",
       "      <td>True</td>\n",
       "    </tr>\n",
       "    <tr>\n",
       "      <th>2</th>\n",
       "      <td>8</td>\n",
       "      <td>0</td>\n",
       "      <td>0</td>\n",
       "      <td>0</td>\n",
       "      <td>0</td>\n",
       "      <td>1</td>\n",
       "      <td>11</td>\n",
       "      <td>0</td>\n",
       "      <td>0</td>\n",
       "      <td>0</td>\n",
       "      <td>...</td>\n",
       "      <td>0</td>\n",
       "      <td>1</td>\n",
       "      <td>0</td>\n",
       "      <td>0</td>\n",
       "      <td>0</td>\n",
       "      <td>0</td>\n",
       "      <td>0</td>\n",
       "      <td>1</td>\n",
       "      <td>92</td>\n",
       "      <td>True</td>\n",
       "    </tr>\n",
       "    <tr>\n",
       "      <th>3</th>\n",
       "      <td>5</td>\n",
       "      <td>1</td>\n",
       "      <td>0</td>\n",
       "      <td>2</td>\n",
       "      <td>1</td>\n",
       "      <td>1</td>\n",
       "      <td>9</td>\n",
       "      <td>1</td>\n",
       "      <td>0</td>\n",
       "      <td>0</td>\n",
       "      <td>...</td>\n",
       "      <td>3</td>\n",
       "      <td>1</td>\n",
       "      <td>0</td>\n",
       "      <td>0</td>\n",
       "      <td>0</td>\n",
       "      <td>0</td>\n",
       "      <td>0</td>\n",
       "      <td>1</td>\n",
       "      <td>17</td>\n",
       "      <td>True</td>\n",
       "    </tr>\n",
       "    <tr>\n",
       "      <th>4</th>\n",
       "      <td>5</td>\n",
       "      <td>1</td>\n",
       "      <td>0</td>\n",
       "      <td>2</td>\n",
       "      <td>1</td>\n",
       "      <td>1</td>\n",
       "      <td>11</td>\n",
       "      <td>1</td>\n",
       "      <td>0</td>\n",
       "      <td>0</td>\n",
       "      <td>...</td>\n",
       "      <td>3</td>\n",
       "      <td>1</td>\n",
       "      <td>0</td>\n",
       "      <td>0</td>\n",
       "      <td>0</td>\n",
       "      <td>0</td>\n",
       "      <td>0</td>\n",
       "      <td>1</td>\n",
       "      <td>37</td>\n",
       "      <td>True</td>\n",
       "    </tr>\n",
       "  </tbody>\n",
       "</table>\n",
       "<p>5 rows × 61 columns</p>\n",
       "</div>"
      ],
      "text/plain": [
       "   rooms  tablet  males_under_12  males_over_12  females_under_12  \\\n",
       "0      3       0               0              1                 0   \n",
       "1      4       1               0              1                 0   \n",
       "2      8       0               0              0                 0   \n",
       "3      5       1               0              2                 1   \n",
       "4      5       1               0              2                 1   \n",
       "\n",
       "   females_over_12  years_of_schooling  wall_block_brick  wall_socket  \\\n",
       "0                0                  10                 1            0   \n",
       "1                0                  12                 0            0   \n",
       "2                1                  11                 0            0   \n",
       "3                1                   9                 1            0   \n",
       "4                1                  11                 1            0   \n",
       "\n",
       "   wall_prefab_cement   ...    num_mobilephones  region_central  \\\n",
       "0                   0   ...                   1               1   \n",
       "1                   0   ...                   1               1   \n",
       "2                   0   ...                   0               1   \n",
       "3                   0   ...                   3               1   \n",
       "4                   0   ...                   3               1   \n",
       "\n",
       "   region_Chorotega  region_pacifico  region_brunca  region_antlantica  \\\n",
       "0                 0                0              0                  0   \n",
       "1                 0                0              0                  0   \n",
       "2                 0                0              0                  0   \n",
       "3                 0                0              0                  0   \n",
       "4                 0                0              0                  0   \n",
       "\n",
       "   region_huetar  urban_zone  age  Target  \n",
       "0              0           1   43    True  \n",
       "1              0           1   67    True  \n",
       "2              0           1   92    True  \n",
       "3              0           1   17    True  \n",
       "4              0           1   37    True  \n",
       "\n",
       "[5 rows x 61 columns]"
      ]
     },
     "execution_count": 7,
     "metadata": {},
     "output_type": "execute_result"
    }
   ],
   "source": [
    "#=================================================-\n",
    "#### Slide 27: Load the cleaned dataset  ####\n",
    "\n",
    "os.chdir(data_dir)\n",
    "costa_clean = pickle.load(open(\"costa_no_hc.sav\",\"rb\"))\n",
    "costa_clean.head()\n",
    "\n",
    "\n",
    "#– RemovehouseholdIDandindividualID \n",
    "#– Removevariableswithover50%NAs\n",
    "#– Transformtargetvariabletobinary\n",
    "#– Removehighlycorrelatedvariables\n"
   ]
  },
  {
   "cell_type": "code",
   "execution_count": null,
   "metadata": {},
   "outputs": [],
   "source": []
  },
  {
   "cell_type": "code",
   "execution_count": 8,
   "metadata": {},
   "outputs": [
    {
     "data": {
      "text/plain": [
       "Index(['rooms', 'tablet', 'males_under_12', 'males_over_12',\n",
       "       'females_under_12', 'females_over_12', 'years_of_schooling',\n",
       "       'wall_block_brick', 'wall_socket', 'wall_prefab_cement', 'wall_wood',\n",
       "       'floor_mos_cer_terr', 'floor_wood', 'ceiling', 'electric_public',\n",
       "       'toilet_sewer', 'cookenergy_elec', 'trash_truck', 'wall_bad',\n",
       "       'wall_reg', 'roof_bad', 'roof_reg', 'floor_bad', 'floor_reg',\n",
       "       'disabled_ppl', 'male', 'under10', 'free', 'married', 'separated',\n",
       "       'single', 'hh_head', 'hh_spouse', 'hh_child', 'num_65plus',\n",
       "       'dependency_rate', 'male_hh_head_educ', 'female_hh_head_educ',\n",
       "       'meaneduc', 'educ_primary_inc', 'educ_primary', 'educ_secondary_inc',\n",
       "       'educ_secondary', 'educ_undergrad', 'ppl_per_room', 'house_owned_full',\n",
       "       'house_owned_paying', 'house_rented', 'house_other', 'computer',\n",
       "       'television', 'num_mobilephones', 'region_central', 'region_Chorotega',\n",
       "       'region_pacifico', 'region_brunca', 'region_antlantica',\n",
       "       'region_huetar', 'urban_zone', 'age', 'Target'],\n",
       "      dtype='object')"
      ]
     },
     "execution_count": 8,
     "metadata": {},
     "output_type": "execute_result"
    }
   ],
   "source": [
    "#=================================================-\n",
    "#### Slide 28: Print info on data  ####\n",
    "\n",
    "costa_clean.columns\n",
    "\n"
   ]
  },
  {
   "cell_type": "code",
   "execution_count": 9,
   "metadata": {},
   "outputs": [],
   "source": [
    "#=================================================-\n",
    "#### Slide 29: Split into training and test sets  ####\n",
    "\n",
    "# Select the predictors and target.\n",
    "X = costa_clean.drop(['Target'], axis = 1)\n",
    "y = np.array(costa_clean['Target'])\n",
    "\n",
    "# Set the seed to 1.\n",
    "np.random.seed(1)\n",
    "\n",
    "# Split into the training and test sets.\n",
    "X_train, X_test, y_train, y_test = train_test_split(X, y, test_size = 0.3)\n",
    "\n"
   ]
  },
  {
   "cell_type": "code",
   "execution_count": 10,
   "metadata": {},
   "outputs": [],
   "source": [
    "#=================================================-\n",
    "#### Slide 31: Building our model  ####\n",
    "\n",
    "forest = RandomForestClassifier(criterion = 'gini', n_estimators = 100,\n",
    "random_state = 1)\n",
    "\n"
   ]
  },
  {
   "cell_type": "code",
   "execution_count": 11,
   "metadata": {},
   "outputs": [
    {
     "data": {
      "text/plain": [
       "RandomForestClassifier(bootstrap=True, class_weight=None, criterion='gini',\n",
       "            max_depth=None, max_features='auto', max_leaf_nodes=None,\n",
       "            min_impurity_decrease=0.0, min_impurity_split=None,\n",
       "            min_samples_leaf=1, min_samples_split=2,\n",
       "            min_weight_fraction_leaf=0.0, n_estimators=100, n_jobs=None,\n",
       "            oob_score=False, random_state=1, verbose=0, warm_start=False)"
      ]
     },
     "execution_count": 11,
     "metadata": {},
     "output_type": "execute_result"
    }
   ],
   "source": [
    "#=================================================-\n",
    "#### Slide 32: Fitting our model  ####\n",
    "\n",
    "# Fit the saved model to your training data.\n",
    "forest.fit(X_train, y_train)\n",
    "\n"
   ]
  },
  {
   "cell_type": "code",
   "execution_count": 12,
   "metadata": {},
   "outputs": [
    {
     "name": "stdout",
     "output_type": "stream",
     "text": [
      "[ True  True  True  True  True]\n"
     ]
    }
   ],
   "source": [
    "#=================================================-\n",
    "#### Slide 33: Predicting with our data  ####\n",
    "\n",
    "# Predict on test data.\n",
    "y_predict_forest = forest.predict(X_test)\n",
    "\n",
    "# Look at the first few predictions.\n",
    "print(y_predict_forest[0:5,])\n",
    "\n"
   ]
  },
  {
   "cell_type": "code",
   "execution_count": 13,
   "metadata": {},
   "outputs": [
    {
     "name": "stdout",
     "output_type": "stream",
     "text": [
      "[[ 932  130]\n",
      " [  50 1756]]\n",
      "Accuracy for random forest on test data:  0.9372384937238494\n"
     ]
    }
   ],
   "source": [
    "#=================================================-\n",
    "#### Slide 34: Confusion matrix and accuracy  ####\n",
    "\n",
    "# Take a look at test data confusion matrix.\n",
    "conf_matrix_forest = metrics.confusion_matrix(y_test, y_predict_forest)\n",
    "print(conf_matrix_forest)\n",
    "accuracy_forest = metrics.accuracy_score(y_test, y_predict_forest)\n",
    "print(\"Accuracy for random forest on test data: \", accuracy_forest)\n",
    "\n"
   ]
  },
  {
   "cell_type": "code",
   "execution_count": 14,
   "metadata": {},
   "outputs": [
    {
     "name": "stdout",
     "output_type": "stream",
     "text": [
      "Train Accuracy: 1.0\n"
     ]
    }
   ],
   "source": [
    "#=================================================-\n",
    "#### Slide 35: Accuracy of the training dataset  ####\n",
    "\n",
    "# Compute accuracy using training data.\n",
    "acc_train_forest = forest.score(X_train, y_train)\n",
    "\n",
    "print (\"Train Accuracy:\", acc_train_forest)\n",
    "\n"
   ]
  },
  {
   "cell_type": "code",
   "execution_count": 16,
   "metadata": {},
   "outputs": [],
   "source": [
    "#=================================================-\n",
    "#### Slide 36: Save final accuracy  ####\n",
    "\n",
    "model_final_forest_gbm = pickle.load(open(\"model_final_tree_all.sav\",\"rb\"))"
   ]
  },
  {
   "cell_type": "code",
   "execution_count": 17,
   "metadata": {},
   "outputs": [
    {
     "name": "stdout",
     "output_type": "stream",
     "text": [
      "    metrics  values                   model\n",
      "0  accuracy  0.6046                   knn_5\n",
      "1  accuracy  0.6188        knn_GridSearchCV\n",
      "2  accuracy  0.6287                  knn_29\n",
      "3  accuracy  0.6287                  knn_29\n",
      "4  accuracy  0.6356                logistic\n",
      "5  accuracy  0.7845  logistic_whole_dataset\n",
      "6  accuracy  0.7859          logistic_tuned\n",
      "7  accuracy  0.6611      tree_simple_subset\n",
      "8  accuracy  0.9407      tree_all_variables\n",
      "9  accuracy  0.9372           random forest\n"
     ]
    }
   ],
   "source": [
    "#=================================================-\n",
    "#### Slide 37: Save final accuracy  ####\n",
    "\n",
    "# Add the model to our dataframe.\n",
    "model_final_forest_gbm = model_final_forest_gbm.append({'metrics' : \"accuracy\" ,\n",
    "'values' : round(accuracy_forest,4),\n",
    "'model':'random forest' } ,\n",
    "ignore_index = True)\n",
    "print(model_final_forest_gbm)"
   ]
  },
  {
   "cell_type": "code",
   "execution_count": 18,
   "metadata": {},
   "outputs": [
    {
     "data": {
      "text/plain": [
       "Text(0.5, 0, 'Relative Importance')"
      ]
     },
     "execution_count": 18,
     "metadata": {},
     "output_type": "execute_result"
    },
    {
     "data": {
      "image/png": "[encoded data removed]",
      "text/plain": [
       "<Figure size 432x288 with 1 Axes>"
      ]
     },
     "metadata": {
      "needs_background": "light"
     },
     "output_type": "display_data"
    }
   ],
   "source": [
    "#=================================================-\n",
    "#### Slide 40: Subsetting our features  ####\n",
    "\n",
    "costarica_features = costa_clean.drop('Target', axis = 1)\n",
    "features = costarica_features.columns\n",
    "importances = forest.feature_importances_\n",
    "indices = np. argsort(importances)[::-1]\n",
    "top_indices = indices[0:10][::-1]\n",
    "\n",
    "plt.figure(1)\n",
    "plt.title('Feature Importance')\n",
    "plt.barh(range(len(top_indices)), importances[top_indices], color = 'b', align = 'center')\n",
    "labels = features[top_indices]\n",
    "labels = [ '\\n'.join(wrap(l,13)) for l in labels ]\n",
    "plt.yticks(range(len(top_indices)), labels)\n",
    "plt.xlabel('Relative Importance')\n",
    "\n"
   ]
  },
  {
   "cell_type": "code",
   "execution_count": 20,
   "metadata": {},
   "outputs": [],
   "source": [
    "#=================================================-\n",
    "#### Slide 42: Save the random forest model  ####\n",
    "\n",
    "pickle.dump(forest, open(\"model_forest.sav\",\"wb\" ))"
   ]
  },
  {
   "cell_type": "code",
   "execution_count": null,
   "metadata": {},
   "outputs": [],
   "source": [
    "#=================================================-\n",
    "#### Slide 44: Exercise 1  ####\n",
    "\n",
    "\n",
    "\n"
   ]
  },
  {
   "cell_type": "code",
   "execution_count": 21,
   "metadata": {},
   "outputs": [],
   "source": [
    "#=================================================-\n",
    "#### Slide 56: Boosting: build model  ####\n",
    "\n",
    "# Save the parameters we will be using for our gradient boosting classifier.\n",
    "gbm = GradientBoostingClassifier(n_estimators = 200,\n",
    "                                 learning_rate = 1,\n",
    "                                 max_depth = 2,\n",
    "                                 random_state = 1)\n",
    "\n"
   ]
  },
  {
   "cell_type": "code",
   "execution_count": 22,
   "metadata": {},
   "outputs": [
    {
     "data": {
      "text/plain": [
       "GradientBoostingClassifier(criterion='friedman_mse', init=None,\n",
       "              learning_rate=1, loss='deviance', max_depth=2,\n",
       "              max_features=None, max_leaf_nodes=None,\n",
       "              min_impurity_decrease=0.0, min_impurity_split=None,\n",
       "              min_samples_leaf=1, min_samples_split=2,\n",
       "              min_weight_fraction_leaf=0.0, n_estimators=200,\n",
       "              n_iter_no_change=None, presort='auto', random_state=1,\n",
       "              subsample=1.0, tol=0.0001, validation_fraction=0.1,\n",
       "              verbose=0, warm_start=False)"
      ]
     },
     "execution_count": 22,
     "metadata": {},
     "output_type": "execute_result"
    }
   ],
   "source": [
    "#=================================================-\n",
    "#### Slide 57: Boosting: fit model  ####\n",
    "\n",
    "# Fit the saved model to your training data.\n",
    "gbm.fit(X_train, y_train)\n",
    "\n"
   ]
  },
  {
   "cell_type": "code",
   "execution_count": 23,
   "metadata": {},
   "outputs": [
    {
     "name": "stdout",
     "output_type": "stream",
     "text": [
      "[ True  True  True ...  True False False]\n"
     ]
    }
   ],
   "source": [
    "#=================================================-\n",
    "#### Slide 58: Boosting: predict  ####\n",
    "\n",
    "# Predict on test data.\n",
    "predicted_values_gbm = gbm.predict(X_test)\n",
    "print(predicted_values_gbm)\n",
    "\n"
   ]
  },
  {
   "cell_type": "code",
   "execution_count": 24,
   "metadata": {},
   "outputs": [
    {
     "name": "stdout",
     "output_type": "stream",
     "text": [
      "[[ 833  229]\n",
      " [ 160 1646]]\n",
      "Accuracy of gbm on test data:  0.8643654114365411\n"
     ]
    }
   ],
   "source": [
    "#=================================================-\n",
    "#### Slide 59: Confusion matrix and accuracy  ####\n",
    "\n",
    "# Take a look at test data confusion matrix.\n",
    "conf_matrix_boosting = metrics.confusion_matrix(y_test, predicted_values_gbm)\n",
    "print(conf_matrix_boosting)\n",
    "# Compute test model accuracy score.\n",
    "accuracy_gbm = metrics.accuracy_score(y_test, predicted_values_gbm)\n",
    "print('Accuracy of gbm on test data: ', accuracy_gbm)\n",
    "\n"
   ]
  },
  {
   "cell_type": "code",
   "execution_count": 25,
   "metadata": {},
   "outputs": [
    {
     "name": "stdout",
     "output_type": "stream",
     "text": [
      "Train Accuracy: 0.902975033637315\n"
     ]
    }
   ],
   "source": [
    "#=================================================-\n",
    "#### Slide 60: Accuracy of training model  ####\n",
    "\n",
    "# Compute accuracy using training data.\n",
    "train_accuracy_gbm = gbm.score(X_train, y_train)\n",
    "\n",
    "print (\"Train Accuracy:\", train_accuracy_gbm)\n",
    "\n"
   ]
  },
  {
   "cell_type": "code",
   "execution_count": 26,
   "metadata": {},
   "outputs": [
    {
     "name": "stdout",
     "output_type": "stream",
     "text": [
      "     metrics  values                   model\n",
      "0   accuracy  0.6046                   knn_5\n",
      "1   accuracy  0.6188        knn_GridSearchCV\n",
      "2   accuracy  0.6287                  knn_29\n",
      "3   accuracy  0.6287                  knn_29\n",
      "4   accuracy  0.6356                logistic\n",
      "5   accuracy  0.7845  logistic_whole_dataset\n",
      "6   accuracy  0.7859          logistic_tuned\n",
      "7   accuracy  0.6611      tree_simple_subset\n",
      "8   accuracy  0.9407      tree_all_variables\n",
      "9   accuracy  0.9372           random forest\n",
      "10  accuracy  0.8644                boosting\n"
     ]
    }
   ],
   "source": [
    "#=================================================-\n",
    "#### Slide 61: Pickle final accuracy  ####\n",
    "\n",
    "# Add the model to our dataframe.\n",
    "model_final_forest_gbm = model_final_forest_gbm.append({'metrics' : \"accuracy\" ,\n",
    "'values' : round(accuracy_gbm,4),\n",
    "'model': 'boosting' } ,\n",
    "ignore_index = True)\n",
    "print(model_final_forest_gbm)\n",
    "pickle.dump(model_final_forest_gbm, open(\"model_final_forest_gbm.sav\", \"wb\" ))\n",
    "\n"
   ]
  },
  {
   "cell_type": "code",
   "execution_count": 27,
   "metadata": {},
   "outputs": [
    {
     "data": {
      "text/plain": [
       "Text(0.5, 0, 'Relative Importance')"
      ]
     },
     "execution_count": 27,
     "metadata": {},
     "output_type": "execute_result"
    },
    {
     "data": {
      "image/png": "[encoded data removed]",
      "text/plain": [
       "<Figure size 432x288 with 1 Axes>"
      ]
     },
     "metadata": {
      "needs_background": "light"
     },
     "output_type": "display_data"
    }
   ],
   "source": [
    "#=================================================-\n",
    "#### Slide 62: Our top 10 features  ####\n",
    "\n",
    "features = costarica_features.columns\n",
    "importances = gbm.feature_importances_\n",
    "indices = np. argsort(importances)[::-1]\n",
    "top_indices = indices[0:10][::-1]\n",
    "\n",
    "plt.figure(1)\n",
    "plt.title('Feature Importance')\n",
    "plt.barh(range(len(top_indices)), importances[top_indices], color = 'b', align = 'center')\n",
    "labels = features[top_indices]\n",
    "labels = [ '\\n'.join(wrap(l,13)) for l in labels ]\n",
    "plt.yticks(range(len(top_indices)), features[top_indices])\n",
    "plt.xlabel('Relative Importance')\n",
    "\n"
   ]
  },
  {
   "cell_type": "code",
   "execution_count": null,
   "metadata": {},
   "outputs": [],
   "source": []
  }
 ],
 "metadata": {
  "kernelspec": {
   "display_name": "Python 3",
   "language": "python",
   "name": "python3"
  },
  "language": "python",
  "language_info": {
   "codemirror_mode": {
    "name": "ipython",
    "version": 3
   },
   "file_extension": ".py",
   "mimetype": "text/x-python",
   "name": "python",
   "nbconvert_exporter": "python",
   "pygments_lexer": "ipython3",
   "version": "3.7.1"
  }
 },
 "nbformat": 4,
 "nbformat_minor": 4
}
