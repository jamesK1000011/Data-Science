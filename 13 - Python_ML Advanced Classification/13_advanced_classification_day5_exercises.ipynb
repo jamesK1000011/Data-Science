{
 "cells": [
  {
   "cell_type": "markdown",
   "metadata": {},
   "source": [
    "# Advanced Classification Day 5 - Exercises"
   ]
  },
  {
   "cell_type": "markdown",
   "metadata": {},
   "source": [
    "## Exercise 1"
   ]
  },
  {
   "cell_type": "markdown",
   "metadata": {},
   "source": [
    "#### Question 1 \n",
    "##### Load libraries that are used in this module."
   ]
  },
  {
   "cell_type": "code",
   "execution_count": 1,
   "metadata": {},
   "outputs": [],
   "source": [
    "import os\n",
    "import pandas as pd\n",
    "import numpy as np\n",
    "import matplotlib.pyplot as plt\n",
    "from sklearn.linear_model import LogisticRegression\n",
    "from sklearn.ensemble import IsolationForest\n",
    "from sklearn import metrics\n",
    "from sklearn.model_selection import train_test_split\n",
    "from sklearn.metrics import confusion_matrix, roc_auc_score\n",
    "from imblearn.over_sampling import SMOTE\n",
    "import warnings\n",
    "\n",
    "# up, up, down, down, left, right, left, right, a, b\n",
    "import konami\n",
    "\n",
    "warnings.simplefilter(action='ignore', category=FutureWarning)\n",
    "warnings.filterwarnings(\"ignore\")"
   ]
  },
  {
   "cell_type": "code",
   "execution_count": 2,
   "metadata": {},
   "outputs": [],
   "source": [
    "nb_root = globals()['_dh']\n",
    "os.chdir(nb_root[0])\n",
    " \n",
    "main_dir = os.path.abspath(os.path.join (\"..\",))\n",
    "\n",
    "# Make `data_dir` and 'path_dir' from the `main_dir` and\n",
    "data_dir = os.path.join(main_dir, \"data\")\n",
    "plot_dir = os.path.join(main_dir, \"plot\")"
   ]
  },
  {
   "cell_type": "markdown",
   "metadata": {},
   "source": [
    "#### Question 2\n",
    "##### Set `main_dir` to the location of your `af-werx` folder.\n",
    "##### Make `data_dir`  from the `main_dir` and concatenate remainder of the path to data directory."
   ]
  },
  {
   "cell_type": "code",
   "execution_count": 3,
   "metadata": {},
   "outputs": [
    {
     "name": "stdout",
     "output_type": "stream",
     "text": [
      "/Users/datasociety/Desktop/af-werx/data\n"
     ]
    }
   ],
   "source": [
    "# Set working directory.\n",
    "os.chdir(data_dir)\n",
    "# Check working directory.\n",
    "print(os.getcwd())"
   ]
  },
  {
   "cell_type": "markdown",
   "metadata": {},
   "source": [
    "#### Question 3\n",
    "##### Set the working directory to `data_dir`.\n",
    "##### Check if the working directory is updated to `data_dir`."
   ]
  },
  {
   "cell_type": "code",
   "execution_count": 4,
   "metadata": {},
   "outputs": [
    {
     "name": "stdout",
     "output_type": "stream",
     "text": [
      "see above\n"
     ]
    }
   ],
   "source": [
    "print('see above')"
   ]
  },
  {
   "cell_type": "markdown",
   "metadata": {},
   "source": [
    "#### Question 4\n",
    "##### Read in `seismic-hazards.csv` to a new dataframe `hazard`.\n",
    "##### Read the documentation to understand the variables https://archive.ics.uci.edu/ml/datasets/seismic-bumps#\n",
    "##### Understand the dataset by printing its head, info and shape."
   ]
  },
  {
   "cell_type": "code",
   "execution_count": 127,
   "metadata": {},
   "outputs": [
    {
     "data": {
      "text/html": [
       "<div>\n",
       "<style scoped>\n",
       "    .dataframe tbody tr th:only-of-type {\n",
       "        vertical-align: middle;\n",
       "    }\n",
       "\n",
       "    .dataframe tbody tr th {\n",
       "        vertical-align: top;\n",
       "    }\n",
       "\n",
       "    .dataframe thead th {\n",
       "        text-align: right;\n",
       "    }\n",
       "</style>\n",
       "<table border=\"1\" class=\"dataframe\">\n",
       "  <thead>\n",
       "    <tr style=\"text-align: right;\">\n",
       "      <th></th>\n",
       "      <th>id</th>\n",
       "      <th>seismic</th>\n",
       "      <th>seismoacoustic</th>\n",
       "      <th>shift</th>\n",
       "      <th>genergy</th>\n",
       "      <th>gpuls</th>\n",
       "      <th>gdenergy</th>\n",
       "      <th>gdpuls</th>\n",
       "      <th>ghazard</th>\n",
       "      <th>nbumps</th>\n",
       "      <th>nbumps2</th>\n",
       "      <th>nbumps3</th>\n",
       "      <th>nbumps4</th>\n",
       "      <th>nbumps5</th>\n",
       "      <th>nbumps6</th>\n",
       "      <th>nbumps7</th>\n",
       "      <th>nbumps89</th>\n",
       "      <th>energy</th>\n",
       "      <th>maxenergy</th>\n",
       "      <th>class</th>\n",
       "    </tr>\n",
       "  </thead>\n",
       "  <tbody>\n",
       "    <tr>\n",
       "      <th>0</th>\n",
       "      <td>1</td>\n",
       "      <td>a</td>\n",
       "      <td>a</td>\n",
       "      <td>N</td>\n",
       "      <td>15180</td>\n",
       "      <td>48</td>\n",
       "      <td>-72</td>\n",
       "      <td>-72</td>\n",
       "      <td>a</td>\n",
       "      <td>0</td>\n",
       "      <td>0</td>\n",
       "      <td>0</td>\n",
       "      <td>0</td>\n",
       "      <td>0</td>\n",
       "      <td>0</td>\n",
       "      <td>0</td>\n",
       "      <td>0</td>\n",
       "      <td>0</td>\n",
       "      <td>0</td>\n",
       "      <td>0</td>\n",
       "    </tr>\n",
       "    <tr>\n",
       "      <th>1</th>\n",
       "      <td>2</td>\n",
       "      <td>a</td>\n",
       "      <td>a</td>\n",
       "      <td>N</td>\n",
       "      <td>14720</td>\n",
       "      <td>33</td>\n",
       "      <td>-70</td>\n",
       "      <td>-79</td>\n",
       "      <td>a</td>\n",
       "      <td>1</td>\n",
       "      <td>0</td>\n",
       "      <td>1</td>\n",
       "      <td>0</td>\n",
       "      <td>0</td>\n",
       "      <td>0</td>\n",
       "      <td>0</td>\n",
       "      <td>0</td>\n",
       "      <td>2000</td>\n",
       "      <td>2000</td>\n",
       "      <td>0</td>\n",
       "    </tr>\n",
       "    <tr>\n",
       "      <th>2</th>\n",
       "      <td>3</td>\n",
       "      <td>a</td>\n",
       "      <td>a</td>\n",
       "      <td>N</td>\n",
       "      <td>8050</td>\n",
       "      <td>30</td>\n",
       "      <td>-81</td>\n",
       "      <td>-78</td>\n",
       "      <td>a</td>\n",
       "      <td>0</td>\n",
       "      <td>0</td>\n",
       "      <td>0</td>\n",
       "      <td>0</td>\n",
       "      <td>0</td>\n",
       "      <td>0</td>\n",
       "      <td>0</td>\n",
       "      <td>0</td>\n",
       "      <td>0</td>\n",
       "      <td>0</td>\n",
       "      <td>0</td>\n",
       "    </tr>\n",
       "    <tr>\n",
       "      <th>3</th>\n",
       "      <td>4</td>\n",
       "      <td>a</td>\n",
       "      <td>a</td>\n",
       "      <td>N</td>\n",
       "      <td>28820</td>\n",
       "      <td>171</td>\n",
       "      <td>-23</td>\n",
       "      <td>40</td>\n",
       "      <td>a</td>\n",
       "      <td>1</td>\n",
       "      <td>0</td>\n",
       "      <td>1</td>\n",
       "      <td>0</td>\n",
       "      <td>0</td>\n",
       "      <td>0</td>\n",
       "      <td>0</td>\n",
       "      <td>0</td>\n",
       "      <td>3000</td>\n",
       "      <td>3000</td>\n",
       "      <td>0</td>\n",
       "    </tr>\n",
       "    <tr>\n",
       "      <th>4</th>\n",
       "      <td>5</td>\n",
       "      <td>a</td>\n",
       "      <td>a</td>\n",
       "      <td>N</td>\n",
       "      <td>12640</td>\n",
       "      <td>57</td>\n",
       "      <td>-63</td>\n",
       "      <td>-52</td>\n",
       "      <td>a</td>\n",
       "      <td>0</td>\n",
       "      <td>0</td>\n",
       "      <td>0</td>\n",
       "      <td>0</td>\n",
       "      <td>0</td>\n",
       "      <td>0</td>\n",
       "      <td>0</td>\n",
       "      <td>0</td>\n",
       "      <td>0</td>\n",
       "      <td>0</td>\n",
       "      <td>0</td>\n",
       "    </tr>\n",
       "  </tbody>\n",
       "</table>\n",
       "</div>"
      ],
      "text/plain": [
       "   id seismic seismoacoustic shift  genergy  gpuls  gdenergy  gdpuls ghazard  \\\n",
       "0   1       a              a     N    15180     48       -72     -72       a   \n",
       "1   2       a              a     N    14720     33       -70     -79       a   \n",
       "2   3       a              a     N     8050     30       -81     -78       a   \n",
       "3   4       a              a     N    28820    171       -23      40       a   \n",
       "4   5       a              a     N    12640     57       -63     -52       a   \n",
       "\n",
       "   nbumps  nbumps2  nbumps3  nbumps4  nbumps5  nbumps6  nbumps7  nbumps89  \\\n",
       "0       0        0        0        0        0        0        0         0   \n",
       "1       1        0        1        0        0        0        0         0   \n",
       "2       0        0        0        0        0        0        0         0   \n",
       "3       1        0        1        0        0        0        0         0   \n",
       "4       0        0        0        0        0        0        0         0   \n",
       "\n",
       "   energy  maxenergy  class  \n",
       "0       0          0      0  \n",
       "1    2000       2000      0  \n",
       "2       0          0      0  \n",
       "3    3000       3000      0  \n",
       "4       0          0      0  "
      ]
     },
     "execution_count": 127,
     "metadata": {},
     "output_type": "execute_result"
    }
   ],
   "source": [
    "hazard = pd.read_csv(\"seismic-hazard.csv\")\n",
    "hazard.head()"
   ]
  },
  {
   "cell_type": "code",
   "execution_count": 128,
   "metadata": {},
   "outputs": [
    {
     "name": "stdout",
     "output_type": "stream",
     "text": [
      "<class 'pandas.core.frame.DataFrame'>\n",
      "RangeIndex: 2584 entries, 0 to 2583\n",
      "Data columns (total 20 columns):\n",
      "id                2584 non-null int64\n",
      "seismic           2584 non-null object\n",
      "seismoacoustic    2584 non-null object\n",
      "shift             2584 non-null object\n",
      "genergy           2584 non-null int64\n",
      "gpuls             2584 non-null int64\n",
      "gdenergy          2584 non-null int64\n",
      "gdpuls            2584 non-null int64\n",
      "ghazard           2584 non-null object\n",
      "nbumps            2584 non-null int64\n",
      "nbumps2           2584 non-null int64\n",
      "nbumps3           2584 non-null int64\n",
      "nbumps4           2584 non-null int64\n",
      "nbumps5           2584 non-null int64\n",
      "nbumps6           2584 non-null int64\n",
      "nbumps7           2584 non-null int64\n",
      "nbumps89          2584 non-null int64\n",
      "energy            2584 non-null int64\n",
      "maxenergy         2584 non-null int64\n",
      "class             2584 non-null int64\n",
      "dtypes: int64(16), object(4)\n",
      "memory usage: 403.8+ KB\n",
      "None\n"
     ]
    }
   ],
   "source": [
    "print(hazard.info())"
   ]
  },
  {
   "cell_type": "code",
   "execution_count": 129,
   "metadata": {},
   "outputs": [
    {
     "data": {
      "text/plain": [
       "Index(['id', 'seismic', 'seismoacoustic', 'shift', 'genergy', 'gpuls',\n",
       "       'gdenergy', 'gdpuls', 'ghazard', 'nbumps', 'nbumps2', 'nbumps3',\n",
       "       'nbumps4', 'nbumps5', 'nbumps6', 'nbumps7', 'nbumps89', 'energy',\n",
       "       'maxenergy', 'class'],\n",
       "      dtype='object')"
      ]
     },
     "execution_count": 129,
     "metadata": {},
     "output_type": "execute_result"
    }
   ],
   "source": [
    "hazard.columns"
   ]
  },
  {
   "cell_type": "markdown",
   "metadata": {},
   "source": [
    "#### Question 5\n",
    "##### `class` variable is the target\n",
    "##### Print the value counts of the target and also check the percentage of the outlier class.\n",
    "##### Plot the distribution of the target."
   ]
  },
  {
   "cell_type": "code",
   "execution_count": 130,
   "metadata": {},
   "outputs": [
    {
     "name": "stdout",
     "output_type": "stream",
     "text": [
      "0    0.934211\n",
      "1    0.065789\n",
      "Name: class, dtype: float64\n"
     ]
    },
    {
     "data": {
      "text/plain": [
       "<matplotlib.axes._subplots.AxesSubplot at 0x1a23e08630>"
      ]
     },
     "execution_count": 130,
     "metadata": {},
     "output_type": "execute_result"
    },
    {
     "data": {
      "image/png": "[encoded data removed]",
      "text/plain": [
       "<Figure size 432x288 with 1 Axes>"
      ]
     },
     "metadata": {
      "needs_background": "light"
     },
     "output_type": "display_data"
    }
   ],
   "source": [
    "hazard['class'].value_counts()\n",
    "\n",
    "print(hazard['class'].value_counts() / len(hazard))\n",
    "hazard['class'].value_counts().plot('bar')\n"
   ]
  },
  {
   "cell_type": "markdown",
   "metadata": {},
   "source": [
    "#### Question 6\n",
    "##### Let's do some EDA on our dataset.\n",
    "##### Check for null values in the columns."
   ]
  },
  {
   "cell_type": "code",
   "execution_count": 131,
   "metadata": {},
   "outputs": [
    {
     "name": "stdout",
     "output_type": "stream",
     "text": [
      "id                0\n",
      "seismic           0\n",
      "seismoacoustic    0\n",
      "shift             0\n",
      "genergy           0\n",
      "gpuls             0\n",
      "gdenergy          0\n",
      "gdpuls            0\n",
      "ghazard           0\n",
      "nbumps            0\n",
      "nbumps2           0\n",
      "nbumps3           0\n",
      "nbumps4           0\n",
      "nbumps5           0\n",
      "nbumps6           0\n",
      "nbumps7           0\n",
      "nbumps89          0\n",
      "energy            0\n",
      "maxenergy         0\n",
      "class             0\n",
      "dtype: int64\n"
     ]
    }
   ],
   "source": [
    "print(hazard.isnull().sum())"
   ]
  },
  {
   "cell_type": "markdown",
   "metadata": {},
   "source": [
    "#### Question 7\n",
    "##### We have 4 categorical variables in our data - `seismic`, `seismoacoustic`, `shift`, and `ghazard`.\n",
    "##### Plot bar graphs to check the distribution of all 4 variables."
   ]
  },
  {
   "cell_type": "code",
   "execution_count": 132,
   "metadata": {},
   "outputs": [
    {
     "data": {
      "text/plain": [
       "<matplotlib.axes._subplots.AxesSubplot at 0x1a23e61ac8>"
      ]
     },
     "execution_count": 132,
     "metadata": {},
     "output_type": "execute_result"
    },
    {
     "data": {
      "image/png": "[encoded data removed]",
      "text/plain": [
       "<Figure size 432x288 with 1 Axes>"
      ]
     },
     "metadata": {
      "needs_background": "light"
     },
     "output_type": "display_data"
    }
   ],
   "source": [
    "hazard['seismic'].value_counts().plot('bar')"
   ]
  },
  {
   "cell_type": "code",
   "execution_count": 133,
   "metadata": {},
   "outputs": [
    {
     "data": {
      "text/plain": [
       "<matplotlib.axes._subplots.AxesSubplot at 0x1a24253fd0>"
      ]
     },
     "execution_count": 133,
     "metadata": {},
     "output_type": "execute_result"
    },
    {
     "data": {
      "image/png": "[encoded data removed]",
      "text/plain": [
       "<Figure size 432x288 with 1 Axes>"
      ]
     },
     "metadata": {
      "needs_background": "light"
     },
     "output_type": "display_data"
    }
   ],
   "source": [
    "hazard['seismoacoustic'].value_counts().plot('bar')"
   ]
  },
  {
   "cell_type": "code",
   "execution_count": 134,
   "metadata": {},
   "outputs": [
    {
     "data": {
      "text/plain": [
       "<matplotlib.axes._subplots.AxesSubplot at 0x1a2428c518>"
      ]
     },
     "execution_count": 134,
     "metadata": {},
     "output_type": "execute_result"
    },
    {
     "data": {
      "image/png": "[encoded data removed]",
      "text/plain": [
       "<Figure size 432x288 with 1 Axes>"
      ]
     },
     "metadata": {
      "needs_background": "light"
     },
     "output_type": "display_data"
    }
   ],
   "source": [
    "hazard['shift'].value_counts().plot('bar')"
   ]
  },
  {
   "cell_type": "code",
   "execution_count": 135,
   "metadata": {},
   "outputs": [
    {
     "data": {
      "text/plain": [
       "<matplotlib.axes._subplots.AxesSubplot at 0x1a243ce588>"
      ]
     },
     "execution_count": 135,
     "metadata": {},
     "output_type": "execute_result"
    },
    {
     "data": {
      "image/png": "[encoded data removed]",
      "text/plain": [
       "<Figure size 432x288 with 1 Axes>"
      ]
     },
     "metadata": {
      "needs_background": "light"
     },
     "output_type": "display_data"
    }
   ],
   "source": [
    "hazard['ghazard'].value_counts().plot('bar')"
   ]
  },
  {
   "cell_type": "markdown",
   "metadata": {},
   "source": [
    "## Exercise 2"
   ]
  },
  {
   "cell_type": "markdown",
   "metadata": {},
   "source": [
    "#### Question 1\n",
    "##### Convert the categorical variables to dummies and append them to the original dataframe.\n",
    "##### Variables are: seismic, seismoacoustic, shift, and ghazard"
   ]
  },
  {
   "cell_type": "code",
   "execution_count": 136,
   "metadata": {},
   "outputs": [
    {
     "data": {
      "text/plain": [
       "2579    b\n",
       "2580    b\n",
       "2581    b\n",
       "2582    a\n",
       "2583    a\n",
       "Name: seismic, dtype: category\n",
       "Categories (2, object): [a, b]"
      ]
     },
     "execution_count": 136,
     "metadata": {},
     "output_type": "execute_result"
    }
   ],
   "source": [
    "hazard['seismic'] = pd.Categorical(hazard['seismic'])\n",
    "hazard['seismic'].tail()"
   ]
  },
  {
   "cell_type": "code",
   "execution_count": 137,
   "metadata": {},
   "outputs": [
    {
     "data": {
      "text/plain": [
       "2579    1\n",
       "2580    1\n",
       "2581    1\n",
       "2582    0\n",
       "2583    0\n",
       "Name: seismic, dtype: int8"
      ]
     },
     "execution_count": 137,
     "metadata": {},
     "output_type": "execute_result"
    }
   ],
   "source": [
    "hazard['seismic'] = hazard['seismic'].cat.codes\n",
    "hazard['seismic'].tail()"
   ]
  },
  {
   "cell_type": "code",
   "execution_count": 138,
   "metadata": {},
   "outputs": [
    {
     "data": {
      "text/html": [
       "<div>\n",
       "<style scoped>\n",
       "    .dataframe tbody tr th:only-of-type {\n",
       "        vertical-align: middle;\n",
       "    }\n",
       "\n",
       "    .dataframe tbody tr th {\n",
       "        vertical-align: top;\n",
       "    }\n",
       "\n",
       "    .dataframe thead th {\n",
       "        text-align: right;\n",
       "    }\n",
       "</style>\n",
       "<table border=\"1\" class=\"dataframe\">\n",
       "  <thead>\n",
       "    <tr style=\"text-align: right;\">\n",
       "      <th></th>\n",
       "      <th>seismic_0</th>\n",
       "      <th>seismic_1</th>\n",
       "    </tr>\n",
       "  </thead>\n",
       "  <tbody>\n",
       "    <tr>\n",
       "      <th>0</th>\n",
       "      <td>1</td>\n",
       "      <td>0</td>\n",
       "    </tr>\n",
       "    <tr>\n",
       "      <th>1</th>\n",
       "      <td>1</td>\n",
       "      <td>0</td>\n",
       "    </tr>\n",
       "    <tr>\n",
       "      <th>2</th>\n",
       "      <td>1</td>\n",
       "      <td>0</td>\n",
       "    </tr>\n",
       "    <tr>\n",
       "      <th>3</th>\n",
       "      <td>1</td>\n",
       "      <td>0</td>\n",
       "    </tr>\n",
       "    <tr>\n",
       "      <th>4</th>\n",
       "      <td>1</td>\n",
       "      <td>0</td>\n",
       "    </tr>\n",
       "  </tbody>\n",
       "</table>\n",
       "</div>"
      ],
      "text/plain": [
       "   seismic_0  seismic_1\n",
       "0          1          0\n",
       "1          1          0\n",
       "2          1          0\n",
       "3          1          0\n",
       "4          1          0"
      ]
     },
     "execution_count": 138,
     "metadata": {},
     "output_type": "execute_result"
    }
   ],
   "source": [
    "ex_colname = pd.get_dummies(hazard['seismic'], \n",
    "                         prefix = 'seismic',\n",
    "                         drop_first = False\n",
    "                         #drop_first = False\n",
    "                        )\n",
    "ex_colname.head()"
   ]
  },
  {
   "cell_type": "code",
   "execution_count": 139,
   "metadata": {},
   "outputs": [
    {
     "data": {
      "text/html": [
       "<div>\n",
       "<style scoped>\n",
       "    .dataframe tbody tr th:only-of-type {\n",
       "        vertical-align: middle;\n",
       "    }\n",
       "\n",
       "    .dataframe tbody tr th {\n",
       "        vertical-align: top;\n",
       "    }\n",
       "\n",
       "    .dataframe thead th {\n",
       "        text-align: right;\n",
       "    }\n",
       "</style>\n",
       "<table border=\"1\" class=\"dataframe\">\n",
       "  <thead>\n",
       "    <tr style=\"text-align: right;\">\n",
       "      <th></th>\n",
       "      <th>id</th>\n",
       "      <th>seismic</th>\n",
       "      <th>seismoacoustic</th>\n",
       "      <th>shift</th>\n",
       "      <th>genergy</th>\n",
       "      <th>gpuls</th>\n",
       "      <th>gdenergy</th>\n",
       "      <th>gdpuls</th>\n",
       "      <th>ghazard</th>\n",
       "      <th>nbumps</th>\n",
       "      <th>...</th>\n",
       "      <th>nbumps4</th>\n",
       "      <th>nbumps5</th>\n",
       "      <th>nbumps6</th>\n",
       "      <th>nbumps7</th>\n",
       "      <th>nbumps89</th>\n",
       "      <th>energy</th>\n",
       "      <th>maxenergy</th>\n",
       "      <th>class</th>\n",
       "      <th>seismic_0</th>\n",
       "      <th>seismic_1</th>\n",
       "    </tr>\n",
       "  </thead>\n",
       "  <tbody>\n",
       "    <tr>\n",
       "      <th>0</th>\n",
       "      <td>1</td>\n",
       "      <td>0</td>\n",
       "      <td>a</td>\n",
       "      <td>N</td>\n",
       "      <td>15180</td>\n",
       "      <td>48</td>\n",
       "      <td>-72</td>\n",
       "      <td>-72</td>\n",
       "      <td>a</td>\n",
       "      <td>0</td>\n",
       "      <td>...</td>\n",
       "      <td>0</td>\n",
       "      <td>0</td>\n",
       "      <td>0</td>\n",
       "      <td>0</td>\n",
       "      <td>0</td>\n",
       "      <td>0</td>\n",
       "      <td>0</td>\n",
       "      <td>0</td>\n",
       "      <td>1</td>\n",
       "      <td>0</td>\n",
       "    </tr>\n",
       "    <tr>\n",
       "      <th>1</th>\n",
       "      <td>2</td>\n",
       "      <td>0</td>\n",
       "      <td>a</td>\n",
       "      <td>N</td>\n",
       "      <td>14720</td>\n",
       "      <td>33</td>\n",
       "      <td>-70</td>\n",
       "      <td>-79</td>\n",
       "      <td>a</td>\n",
       "      <td>1</td>\n",
       "      <td>...</td>\n",
       "      <td>0</td>\n",
       "      <td>0</td>\n",
       "      <td>0</td>\n",
       "      <td>0</td>\n",
       "      <td>0</td>\n",
       "      <td>2000</td>\n",
       "      <td>2000</td>\n",
       "      <td>0</td>\n",
       "      <td>1</td>\n",
       "      <td>0</td>\n",
       "    </tr>\n",
       "    <tr>\n",
       "      <th>2</th>\n",
       "      <td>3</td>\n",
       "      <td>0</td>\n",
       "      <td>a</td>\n",
       "      <td>N</td>\n",
       "      <td>8050</td>\n",
       "      <td>30</td>\n",
       "      <td>-81</td>\n",
       "      <td>-78</td>\n",
       "      <td>a</td>\n",
       "      <td>0</td>\n",
       "      <td>...</td>\n",
       "      <td>0</td>\n",
       "      <td>0</td>\n",
       "      <td>0</td>\n",
       "      <td>0</td>\n",
       "      <td>0</td>\n",
       "      <td>0</td>\n",
       "      <td>0</td>\n",
       "      <td>0</td>\n",
       "      <td>1</td>\n",
       "      <td>0</td>\n",
       "    </tr>\n",
       "    <tr>\n",
       "      <th>3</th>\n",
       "      <td>4</td>\n",
       "      <td>0</td>\n",
       "      <td>a</td>\n",
       "      <td>N</td>\n",
       "      <td>28820</td>\n",
       "      <td>171</td>\n",
       "      <td>-23</td>\n",
       "      <td>40</td>\n",
       "      <td>a</td>\n",
       "      <td>1</td>\n",
       "      <td>...</td>\n",
       "      <td>0</td>\n",
       "      <td>0</td>\n",
       "      <td>0</td>\n",
       "      <td>0</td>\n",
       "      <td>0</td>\n",
       "      <td>3000</td>\n",
       "      <td>3000</td>\n",
       "      <td>0</td>\n",
       "      <td>1</td>\n",
       "      <td>0</td>\n",
       "    </tr>\n",
       "    <tr>\n",
       "      <th>4</th>\n",
       "      <td>5</td>\n",
       "      <td>0</td>\n",
       "      <td>a</td>\n",
       "      <td>N</td>\n",
       "      <td>12640</td>\n",
       "      <td>57</td>\n",
       "      <td>-63</td>\n",
       "      <td>-52</td>\n",
       "      <td>a</td>\n",
       "      <td>0</td>\n",
       "      <td>...</td>\n",
       "      <td>0</td>\n",
       "      <td>0</td>\n",
       "      <td>0</td>\n",
       "      <td>0</td>\n",
       "      <td>0</td>\n",
       "      <td>0</td>\n",
       "      <td>0</td>\n",
       "      <td>0</td>\n",
       "      <td>1</td>\n",
       "      <td>0</td>\n",
       "    </tr>\n",
       "  </tbody>\n",
       "</table>\n",
       "<p>5 rows × 22 columns</p>\n",
       "</div>"
      ],
      "text/plain": [
       "   id  seismic seismoacoustic shift  genergy  gpuls  gdenergy  gdpuls ghazard  \\\n",
       "0   1        0              a     N    15180     48       -72     -72       a   \n",
       "1   2        0              a     N    14720     33       -70     -79       a   \n",
       "2   3        0              a     N     8050     30       -81     -78       a   \n",
       "3   4        0              a     N    28820    171       -23      40       a   \n",
       "4   5        0              a     N    12640     57       -63     -52       a   \n",
       "\n",
       "   nbumps    ...      nbumps4  nbumps5  nbumps6  nbumps7  nbumps89  energy  \\\n",
       "0       0    ...            0        0        0        0         0       0   \n",
       "1       1    ...            0        0        0        0         0    2000   \n",
       "2       0    ...            0        0        0        0         0       0   \n",
       "3       1    ...            0        0        0        0         0    3000   \n",
       "4       0    ...            0        0        0        0         0       0   \n",
       "\n",
       "   maxenergy  class  seismic_0  seismic_1  \n",
       "0          0      0          1          0  \n",
       "1       2000      0          1          0  \n",
       "2          0      0          1          0  \n",
       "3       3000      0          1          0  \n",
       "4          0      0          1          0  \n",
       "\n",
       "[5 rows x 22 columns]"
      ]
     },
     "execution_count": 139,
     "metadata": {},
     "output_type": "execute_result"
    }
   ],
   "source": [
    "hazard = pd.concat([hazard, ex_colname], axis = 1)\n",
    "hazard.head()"
   ]
  },
  {
   "cell_type": "code",
   "execution_count": 140,
   "metadata": {},
   "outputs": [
    {
     "data": {
      "text/plain": [
       "Index(['id', 'seismoacoustic', 'shift', 'genergy', 'gpuls', 'gdenergy',\n",
       "       'gdpuls', 'ghazard', 'nbumps', 'nbumps2', 'nbumps3', 'nbumps4',\n",
       "       'nbumps5', 'nbumps6', 'nbumps7', 'nbumps89', 'energy', 'maxenergy',\n",
       "       'class', 'seismic_0', 'seismic_1'],\n",
       "      dtype='object')"
      ]
     },
     "execution_count": 140,
     "metadata": {},
     "output_type": "execute_result"
    }
   ],
   "source": [
    "hazard.drop(['seismic'], axis = 1, inplace = True)\n",
    "hazard.columns"
   ]
  },
  {
   "cell_type": "code",
   "execution_count": 141,
   "metadata": {},
   "outputs": [
    {
     "name": "stdout",
     "output_type": "stream",
     "text": [
      "Index(['id', 'shift', 'genergy', 'gpuls', 'gdenergy', 'gdpuls', 'ghazard',\n",
      "       'nbumps', 'nbumps2', 'nbumps3', 'nbumps4', 'nbumps5', 'nbumps6',\n",
      "       'nbumps7', 'nbumps89', 'energy', 'maxenergy', 'class', 'seismic_0',\n",
      "       'seismic_1', 'seismoacoustic_0', 'seismoacoustic_1',\n",
      "       'seismoacoustic_2'],\n",
      "      dtype='object')\n"
     ]
    },
    {
     "data": {
      "text/html": [
       "<div>\n",
       "<style scoped>\n",
       "    .dataframe tbody tr th:only-of-type {\n",
       "        vertical-align: middle;\n",
       "    }\n",
       "\n",
       "    .dataframe tbody tr th {\n",
       "        vertical-align: top;\n",
       "    }\n",
       "\n",
       "    .dataframe thead th {\n",
       "        text-align: right;\n",
       "    }\n",
       "</style>\n",
       "<table border=\"1\" class=\"dataframe\">\n",
       "  <thead>\n",
       "    <tr style=\"text-align: right;\">\n",
       "      <th></th>\n",
       "      <th>id</th>\n",
       "      <th>shift</th>\n",
       "      <th>genergy</th>\n",
       "      <th>gpuls</th>\n",
       "      <th>gdenergy</th>\n",
       "      <th>gdpuls</th>\n",
       "      <th>ghazard</th>\n",
       "      <th>nbumps</th>\n",
       "      <th>nbumps2</th>\n",
       "      <th>nbumps3</th>\n",
       "      <th>...</th>\n",
       "      <th>nbumps7</th>\n",
       "      <th>nbumps89</th>\n",
       "      <th>energy</th>\n",
       "      <th>maxenergy</th>\n",
       "      <th>class</th>\n",
       "      <th>seismic_0</th>\n",
       "      <th>seismic_1</th>\n",
       "      <th>seismoacoustic_0</th>\n",
       "      <th>seismoacoustic_1</th>\n",
       "      <th>seismoacoustic_2</th>\n",
       "    </tr>\n",
       "  </thead>\n",
       "  <tbody>\n",
       "    <tr>\n",
       "      <th>0</th>\n",
       "      <td>1</td>\n",
       "      <td>N</td>\n",
       "      <td>15180</td>\n",
       "      <td>48</td>\n",
       "      <td>-72</td>\n",
       "      <td>-72</td>\n",
       "      <td>a</td>\n",
       "      <td>0</td>\n",
       "      <td>0</td>\n",
       "      <td>0</td>\n",
       "      <td>...</td>\n",
       "      <td>0</td>\n",
       "      <td>0</td>\n",
       "      <td>0</td>\n",
       "      <td>0</td>\n",
       "      <td>0</td>\n",
       "      <td>1</td>\n",
       "      <td>0</td>\n",
       "      <td>1</td>\n",
       "      <td>0</td>\n",
       "      <td>0</td>\n",
       "    </tr>\n",
       "    <tr>\n",
       "      <th>1</th>\n",
       "      <td>2</td>\n",
       "      <td>N</td>\n",
       "      <td>14720</td>\n",
       "      <td>33</td>\n",
       "      <td>-70</td>\n",
       "      <td>-79</td>\n",
       "      <td>a</td>\n",
       "      <td>1</td>\n",
       "      <td>0</td>\n",
       "      <td>1</td>\n",
       "      <td>...</td>\n",
       "      <td>0</td>\n",
       "      <td>0</td>\n",
       "      <td>2000</td>\n",
       "      <td>2000</td>\n",
       "      <td>0</td>\n",
       "      <td>1</td>\n",
       "      <td>0</td>\n",
       "      <td>1</td>\n",
       "      <td>0</td>\n",
       "      <td>0</td>\n",
       "    </tr>\n",
       "    <tr>\n",
       "      <th>2</th>\n",
       "      <td>3</td>\n",
       "      <td>N</td>\n",
       "      <td>8050</td>\n",
       "      <td>30</td>\n",
       "      <td>-81</td>\n",
       "      <td>-78</td>\n",
       "      <td>a</td>\n",
       "      <td>0</td>\n",
       "      <td>0</td>\n",
       "      <td>0</td>\n",
       "      <td>...</td>\n",
       "      <td>0</td>\n",
       "      <td>0</td>\n",
       "      <td>0</td>\n",
       "      <td>0</td>\n",
       "      <td>0</td>\n",
       "      <td>1</td>\n",
       "      <td>0</td>\n",
       "      <td>1</td>\n",
       "      <td>0</td>\n",
       "      <td>0</td>\n",
       "    </tr>\n",
       "    <tr>\n",
       "      <th>3</th>\n",
       "      <td>4</td>\n",
       "      <td>N</td>\n",
       "      <td>28820</td>\n",
       "      <td>171</td>\n",
       "      <td>-23</td>\n",
       "      <td>40</td>\n",
       "      <td>a</td>\n",
       "      <td>1</td>\n",
       "      <td>0</td>\n",
       "      <td>1</td>\n",
       "      <td>...</td>\n",
       "      <td>0</td>\n",
       "      <td>0</td>\n",
       "      <td>3000</td>\n",
       "      <td>3000</td>\n",
       "      <td>0</td>\n",
       "      <td>1</td>\n",
       "      <td>0</td>\n",
       "      <td>1</td>\n",
       "      <td>0</td>\n",
       "      <td>0</td>\n",
       "    </tr>\n",
       "    <tr>\n",
       "      <th>4</th>\n",
       "      <td>5</td>\n",
       "      <td>N</td>\n",
       "      <td>12640</td>\n",
       "      <td>57</td>\n",
       "      <td>-63</td>\n",
       "      <td>-52</td>\n",
       "      <td>a</td>\n",
       "      <td>0</td>\n",
       "      <td>0</td>\n",
       "      <td>0</td>\n",
       "      <td>...</td>\n",
       "      <td>0</td>\n",
       "      <td>0</td>\n",
       "      <td>0</td>\n",
       "      <td>0</td>\n",
       "      <td>0</td>\n",
       "      <td>1</td>\n",
       "      <td>0</td>\n",
       "      <td>1</td>\n",
       "      <td>0</td>\n",
       "      <td>0</td>\n",
       "    </tr>\n",
       "  </tbody>\n",
       "</table>\n",
       "<p>5 rows × 23 columns</p>\n",
       "</div>"
      ],
      "text/plain": [
       "   id shift  genergy  gpuls  gdenergy  gdpuls ghazard  nbumps  nbumps2  \\\n",
       "0   1     N    15180     48       -72     -72       a       0        0   \n",
       "1   2     N    14720     33       -70     -79       a       1        0   \n",
       "2   3     N     8050     30       -81     -78       a       0        0   \n",
       "3   4     N    28820    171       -23      40       a       1        0   \n",
       "4   5     N    12640     57       -63     -52       a       0        0   \n",
       "\n",
       "   nbumps3        ...         nbumps7  nbumps89  energy  maxenergy  class  \\\n",
       "0        0        ...               0         0       0          0      0   \n",
       "1        1        ...               0         0    2000       2000      0   \n",
       "2        0        ...               0         0       0          0      0   \n",
       "3        1        ...               0         0    3000       3000      0   \n",
       "4        0        ...               0         0       0          0      0   \n",
       "\n",
       "   seismic_0  seismic_1  seismoacoustic_0  seismoacoustic_1  seismoacoustic_2  \n",
       "0          1          0                 1                 0                 0  \n",
       "1          1          0                 1                 0                 0  \n",
       "2          1          0                 1                 0                 0  \n",
       "3          1          0                 1                 0                 0  \n",
       "4          1          0                 1                 0                 0  \n",
       "\n",
       "[5 rows x 23 columns]"
      ]
     },
     "execution_count": 141,
     "metadata": {},
     "output_type": "execute_result"
    }
   ],
   "source": [
    "hazard['seismoacoustic'] = pd.Categorical(hazard['seismoacoustic'])\n",
    "hazard['seismoacoustic'] = hazard['seismoacoustic'].cat.codes\n",
    "ex_colname = pd.get_dummies(hazard['seismoacoustic'], \n",
    "                         prefix = 'seismoacoustic',\n",
    "                         drop_first = False\n",
    "                         #drop_first = False\n",
    "                        )\n",
    "hazard = pd.concat([hazard, ex_colname], axis = 1)\n",
    "hazard.drop(['seismoacoustic'], axis = 1, inplace = True)\n",
    "print(hazard.columns)\n",
    "hazard.head()"
   ]
  },
  {
   "cell_type": "code",
   "execution_count": 142,
   "metadata": {},
   "outputs": [
    {
     "name": "stdout",
     "output_type": "stream",
     "text": [
      "Index(['id', 'genergy', 'gpuls', 'gdenergy', 'gdpuls', 'ghazard', 'nbumps',\n",
      "       'nbumps2', 'nbumps3', 'nbumps4', 'nbumps5', 'nbumps6', 'nbumps7',\n",
      "       'nbumps89', 'energy', 'maxenergy', 'class', 'seismic_0', 'seismic_1',\n",
      "       'seismoacoustic_0', 'seismoacoustic_1', 'seismoacoustic_2', 'shift_0',\n",
      "       'shift_1'],\n",
      "      dtype='object')\n"
     ]
    },
    {
     "data": {
      "text/html": [
       "<div>\n",
       "<style scoped>\n",
       "    .dataframe tbody tr th:only-of-type {\n",
       "        vertical-align: middle;\n",
       "    }\n",
       "\n",
       "    .dataframe tbody tr th {\n",
       "        vertical-align: top;\n",
       "    }\n",
       "\n",
       "    .dataframe thead th {\n",
       "        text-align: right;\n",
       "    }\n",
       "</style>\n",
       "<table border=\"1\" class=\"dataframe\">\n",
       "  <thead>\n",
       "    <tr style=\"text-align: right;\">\n",
       "      <th></th>\n",
       "      <th>id</th>\n",
       "      <th>genergy</th>\n",
       "      <th>gpuls</th>\n",
       "      <th>gdenergy</th>\n",
       "      <th>gdpuls</th>\n",
       "      <th>ghazard</th>\n",
       "      <th>nbumps</th>\n",
       "      <th>nbumps2</th>\n",
       "      <th>nbumps3</th>\n",
       "      <th>nbumps4</th>\n",
       "      <th>...</th>\n",
       "      <th>energy</th>\n",
       "      <th>maxenergy</th>\n",
       "      <th>class</th>\n",
       "      <th>seismic_0</th>\n",
       "      <th>seismic_1</th>\n",
       "      <th>seismoacoustic_0</th>\n",
       "      <th>seismoacoustic_1</th>\n",
       "      <th>seismoacoustic_2</th>\n",
       "      <th>shift_0</th>\n",
       "      <th>shift_1</th>\n",
       "    </tr>\n",
       "  </thead>\n",
       "  <tbody>\n",
       "    <tr>\n",
       "      <th>0</th>\n",
       "      <td>1</td>\n",
       "      <td>15180</td>\n",
       "      <td>48</td>\n",
       "      <td>-72</td>\n",
       "      <td>-72</td>\n",
       "      <td>a</td>\n",
       "      <td>0</td>\n",
       "      <td>0</td>\n",
       "      <td>0</td>\n",
       "      <td>0</td>\n",
       "      <td>...</td>\n",
       "      <td>0</td>\n",
       "      <td>0</td>\n",
       "      <td>0</td>\n",
       "      <td>1</td>\n",
       "      <td>0</td>\n",
       "      <td>1</td>\n",
       "      <td>0</td>\n",
       "      <td>0</td>\n",
       "      <td>1</td>\n",
       "      <td>0</td>\n",
       "    </tr>\n",
       "    <tr>\n",
       "      <th>1</th>\n",
       "      <td>2</td>\n",
       "      <td>14720</td>\n",
       "      <td>33</td>\n",
       "      <td>-70</td>\n",
       "      <td>-79</td>\n",
       "      <td>a</td>\n",
       "      <td>1</td>\n",
       "      <td>0</td>\n",
       "      <td>1</td>\n",
       "      <td>0</td>\n",
       "      <td>...</td>\n",
       "      <td>2000</td>\n",
       "      <td>2000</td>\n",
       "      <td>0</td>\n",
       "      <td>1</td>\n",
       "      <td>0</td>\n",
       "      <td>1</td>\n",
       "      <td>0</td>\n",
       "      <td>0</td>\n",
       "      <td>1</td>\n",
       "      <td>0</td>\n",
       "    </tr>\n",
       "    <tr>\n",
       "      <th>2</th>\n",
       "      <td>3</td>\n",
       "      <td>8050</td>\n",
       "      <td>30</td>\n",
       "      <td>-81</td>\n",
       "      <td>-78</td>\n",
       "      <td>a</td>\n",
       "      <td>0</td>\n",
       "      <td>0</td>\n",
       "      <td>0</td>\n",
       "      <td>0</td>\n",
       "      <td>...</td>\n",
       "      <td>0</td>\n",
       "      <td>0</td>\n",
       "      <td>0</td>\n",
       "      <td>1</td>\n",
       "      <td>0</td>\n",
       "      <td>1</td>\n",
       "      <td>0</td>\n",
       "      <td>0</td>\n",
       "      <td>1</td>\n",
       "      <td>0</td>\n",
       "    </tr>\n",
       "    <tr>\n",
       "      <th>3</th>\n",
       "      <td>4</td>\n",
       "      <td>28820</td>\n",
       "      <td>171</td>\n",
       "      <td>-23</td>\n",
       "      <td>40</td>\n",
       "      <td>a</td>\n",
       "      <td>1</td>\n",
       "      <td>0</td>\n",
       "      <td>1</td>\n",
       "      <td>0</td>\n",
       "      <td>...</td>\n",
       "      <td>3000</td>\n",
       "      <td>3000</td>\n",
       "      <td>0</td>\n",
       "      <td>1</td>\n",
       "      <td>0</td>\n",
       "      <td>1</td>\n",
       "      <td>0</td>\n",
       "      <td>0</td>\n",
       "      <td>1</td>\n",
       "      <td>0</td>\n",
       "    </tr>\n",
       "    <tr>\n",
       "      <th>4</th>\n",
       "      <td>5</td>\n",
       "      <td>12640</td>\n",
       "      <td>57</td>\n",
       "      <td>-63</td>\n",
       "      <td>-52</td>\n",
       "      <td>a</td>\n",
       "      <td>0</td>\n",
       "      <td>0</td>\n",
       "      <td>0</td>\n",
       "      <td>0</td>\n",
       "      <td>...</td>\n",
       "      <td>0</td>\n",
       "      <td>0</td>\n",
       "      <td>0</td>\n",
       "      <td>1</td>\n",
       "      <td>0</td>\n",
       "      <td>1</td>\n",
       "      <td>0</td>\n",
       "      <td>0</td>\n",
       "      <td>1</td>\n",
       "      <td>0</td>\n",
       "    </tr>\n",
       "  </tbody>\n",
       "</table>\n",
       "<p>5 rows × 24 columns</p>\n",
       "</div>"
      ],
      "text/plain": [
       "   id  genergy  gpuls  gdenergy  gdpuls ghazard  nbumps  nbumps2  nbumps3  \\\n",
       "0   1    15180     48       -72     -72       a       0        0        0   \n",
       "1   2    14720     33       -70     -79       a       1        0        1   \n",
       "2   3     8050     30       -81     -78       a       0        0        0   \n",
       "3   4    28820    171       -23      40       a       1        0        1   \n",
       "4   5    12640     57       -63     -52       a       0        0        0   \n",
       "\n",
       "   nbumps4   ...     energy  maxenergy  class  seismic_0  seismic_1  \\\n",
       "0        0   ...          0          0      0          1          0   \n",
       "1        0   ...       2000       2000      0          1          0   \n",
       "2        0   ...          0          0      0          1          0   \n",
       "3        0   ...       3000       3000      0          1          0   \n",
       "4        0   ...          0          0      0          1          0   \n",
       "\n",
       "   seismoacoustic_0  seismoacoustic_1  seismoacoustic_2  shift_0  shift_1  \n",
       "0                 1                 0                 0        1        0  \n",
       "1                 1                 0                 0        1        0  \n",
       "2                 1                 0                 0        1        0  \n",
       "3                 1                 0                 0        1        0  \n",
       "4                 1                 0                 0        1        0  \n",
       "\n",
       "[5 rows x 24 columns]"
      ]
     },
     "execution_count": 142,
     "metadata": {},
     "output_type": "execute_result"
    }
   ],
   "source": [
    "hazard['shift'] = pd.Categorical(hazard['shift'])\n",
    "hazard['shift'] = hazard['shift'].cat.codes\n",
    "ex_colname = pd.get_dummies(hazard['shift'], \n",
    "                         prefix = 'shift',\n",
    "                         drop_first = False\n",
    "                         #drop_first = False\n",
    "                        )\n",
    "hazard = pd.concat([hazard, ex_colname], axis = 1)\n",
    "hazard.drop(['shift'], axis = 1, inplace = True)\n",
    "print(hazard.columns)\n",
    "hazard.head()"
   ]
  },
  {
   "cell_type": "code",
   "execution_count": 143,
   "metadata": {},
   "outputs": [
    {
     "name": "stdout",
     "output_type": "stream",
     "text": [
      "Index(['id', 'genergy', 'gpuls', 'gdenergy', 'gdpuls', 'nbumps', 'nbumps2',\n",
      "       'nbumps3', 'nbumps4', 'nbumps5', 'nbumps6', 'nbumps7', 'nbumps89',\n",
      "       'energy', 'maxenergy', 'class', 'seismic_0', 'seismic_1',\n",
      "       'seismoacoustic_0', 'seismoacoustic_1', 'seismoacoustic_2', 'shift_0',\n",
      "       'shift_1', 'ghazard_0', 'ghazard_1', 'ghazard_2'],\n",
      "      dtype='object')\n"
     ]
    },
    {
     "data": {
      "text/html": [
       "<div>\n",
       "<style scoped>\n",
       "    .dataframe tbody tr th:only-of-type {\n",
       "        vertical-align: middle;\n",
       "    }\n",
       "\n",
       "    .dataframe tbody tr th {\n",
       "        vertical-align: top;\n",
       "    }\n",
       "\n",
       "    .dataframe thead th {\n",
       "        text-align: right;\n",
       "    }\n",
       "</style>\n",
       "<table border=\"1\" class=\"dataframe\">\n",
       "  <thead>\n",
       "    <tr style=\"text-align: right;\">\n",
       "      <th></th>\n",
       "      <th>id</th>\n",
       "      <th>genergy</th>\n",
       "      <th>gpuls</th>\n",
       "      <th>gdenergy</th>\n",
       "      <th>gdpuls</th>\n",
       "      <th>nbumps</th>\n",
       "      <th>nbumps2</th>\n",
       "      <th>nbumps3</th>\n",
       "      <th>nbumps4</th>\n",
       "      <th>nbumps5</th>\n",
       "      <th>...</th>\n",
       "      <th>seismic_0</th>\n",
       "      <th>seismic_1</th>\n",
       "      <th>seismoacoustic_0</th>\n",
       "      <th>seismoacoustic_1</th>\n",
       "      <th>seismoacoustic_2</th>\n",
       "      <th>shift_0</th>\n",
       "      <th>shift_1</th>\n",
       "      <th>ghazard_0</th>\n",
       "      <th>ghazard_1</th>\n",
       "      <th>ghazard_2</th>\n",
       "    </tr>\n",
       "  </thead>\n",
       "  <tbody>\n",
       "    <tr>\n",
       "      <th>0</th>\n",
       "      <td>1</td>\n",
       "      <td>15180</td>\n",
       "      <td>48</td>\n",
       "      <td>-72</td>\n",
       "      <td>-72</td>\n",
       "      <td>0</td>\n",
       "      <td>0</td>\n",
       "      <td>0</td>\n",
       "      <td>0</td>\n",
       "      <td>0</td>\n",
       "      <td>...</td>\n",
       "      <td>1</td>\n",
       "      <td>0</td>\n",
       "      <td>1</td>\n",
       "      <td>0</td>\n",
       "      <td>0</td>\n",
       "      <td>1</td>\n",
       "      <td>0</td>\n",
       "      <td>1</td>\n",
       "      <td>0</td>\n",
       "      <td>0</td>\n",
       "    </tr>\n",
       "    <tr>\n",
       "      <th>1</th>\n",
       "      <td>2</td>\n",
       "      <td>14720</td>\n",
       "      <td>33</td>\n",
       "      <td>-70</td>\n",
       "      <td>-79</td>\n",
       "      <td>1</td>\n",
       "      <td>0</td>\n",
       "      <td>1</td>\n",
       "      <td>0</td>\n",
       "      <td>0</td>\n",
       "      <td>...</td>\n",
       "      <td>1</td>\n",
       "      <td>0</td>\n",
       "      <td>1</td>\n",
       "      <td>0</td>\n",
       "      <td>0</td>\n",
       "      <td>1</td>\n",
       "      <td>0</td>\n",
       "      <td>1</td>\n",
       "      <td>0</td>\n",
       "      <td>0</td>\n",
       "    </tr>\n",
       "    <tr>\n",
       "      <th>2</th>\n",
       "      <td>3</td>\n",
       "      <td>8050</td>\n",
       "      <td>30</td>\n",
       "      <td>-81</td>\n",
       "      <td>-78</td>\n",
       "      <td>0</td>\n",
       "      <td>0</td>\n",
       "      <td>0</td>\n",
       "      <td>0</td>\n",
       "      <td>0</td>\n",
       "      <td>...</td>\n",
       "      <td>1</td>\n",
       "      <td>0</td>\n",
       "      <td>1</td>\n",
       "      <td>0</td>\n",
       "      <td>0</td>\n",
       "      <td>1</td>\n",
       "      <td>0</td>\n",
       "      <td>1</td>\n",
       "      <td>0</td>\n",
       "      <td>0</td>\n",
       "    </tr>\n",
       "    <tr>\n",
       "      <th>3</th>\n",
       "      <td>4</td>\n",
       "      <td>28820</td>\n",
       "      <td>171</td>\n",
       "      <td>-23</td>\n",
       "      <td>40</td>\n",
       "      <td>1</td>\n",
       "      <td>0</td>\n",
       "      <td>1</td>\n",
       "      <td>0</td>\n",
       "      <td>0</td>\n",
       "      <td>...</td>\n",
       "      <td>1</td>\n",
       "      <td>0</td>\n",
       "      <td>1</td>\n",
       "      <td>0</td>\n",
       "      <td>0</td>\n",
       "      <td>1</td>\n",
       "      <td>0</td>\n",
       "      <td>1</td>\n",
       "      <td>0</td>\n",
       "      <td>0</td>\n",
       "    </tr>\n",
       "    <tr>\n",
       "      <th>4</th>\n",
       "      <td>5</td>\n",
       "      <td>12640</td>\n",
       "      <td>57</td>\n",
       "      <td>-63</td>\n",
       "      <td>-52</td>\n",
       "      <td>0</td>\n",
       "      <td>0</td>\n",
       "      <td>0</td>\n",
       "      <td>0</td>\n",
       "      <td>0</td>\n",
       "      <td>...</td>\n",
       "      <td>1</td>\n",
       "      <td>0</td>\n",
       "      <td>1</td>\n",
       "      <td>0</td>\n",
       "      <td>0</td>\n",
       "      <td>1</td>\n",
       "      <td>0</td>\n",
       "      <td>1</td>\n",
       "      <td>0</td>\n",
       "      <td>0</td>\n",
       "    </tr>\n",
       "  </tbody>\n",
       "</table>\n",
       "<p>5 rows × 26 columns</p>\n",
       "</div>"
      ],
      "text/plain": [
       "   id  genergy  gpuls  gdenergy  gdpuls  nbumps  nbumps2  nbumps3  nbumps4  \\\n",
       "0   1    15180     48       -72     -72       0        0        0        0   \n",
       "1   2    14720     33       -70     -79       1        0        1        0   \n",
       "2   3     8050     30       -81     -78       0        0        0        0   \n",
       "3   4    28820    171       -23      40       1        0        1        0   \n",
       "4   5    12640     57       -63     -52       0        0        0        0   \n",
       "\n",
       "   nbumps5    ...      seismic_0  seismic_1  seismoacoustic_0  \\\n",
       "0        0    ...              1          0                 1   \n",
       "1        0    ...              1          0                 1   \n",
       "2        0    ...              1          0                 1   \n",
       "3        0    ...              1          0                 1   \n",
       "4        0    ...              1          0                 1   \n",
       "\n",
       "   seismoacoustic_1  seismoacoustic_2  shift_0  shift_1  ghazard_0  ghazard_1  \\\n",
       "0                 0                 0        1        0          1          0   \n",
       "1                 0                 0        1        0          1          0   \n",
       "2                 0                 0        1        0          1          0   \n",
       "3                 0                 0        1        0          1          0   \n",
       "4                 0                 0        1        0          1          0   \n",
       "\n",
       "   ghazard_2  \n",
       "0          0  \n",
       "1          0  \n",
       "2          0  \n",
       "3          0  \n",
       "4          0  \n",
       "\n",
       "[5 rows x 26 columns]"
      ]
     },
     "execution_count": 143,
     "metadata": {},
     "output_type": "execute_result"
    }
   ],
   "source": [
    "hazard['ghazard'] = pd.Categorical(hazard['ghazard'])\n",
    "hazard['ghazard'] = hazard['ghazard'].cat.codes\n",
    "ex_colname = pd.get_dummies(hazard['ghazard'], \n",
    "                         prefix = 'ghazard',\n",
    "                         drop_first = False\n",
    "                         #drop_first = False\n",
    "                        )\n",
    "hazard = pd.concat([hazard, ex_colname], axis = 1)\n",
    "hazard.drop(['ghazard'], axis = 1, inplace = True)\n",
    "print(hazard.columns)\n",
    "hazard.head()"
   ]
  },
  {
   "cell_type": "markdown",
   "metadata": {},
   "source": [
    "#### Question 3\n",
    "##### Drop the variable `id` and print the columns.\n",
    "##### Separate the target as `y_ex` and other columns as `X_ex`."
   ]
  },
  {
   "cell_type": "code",
   "execution_count": 144,
   "metadata": {},
   "outputs": [
    {
     "data": {
      "text/plain": [
       "Index(['genergy', 'gpuls', 'gdenergy', 'gdpuls', 'nbumps', 'nbumps2',\n",
       "       'nbumps3', 'nbumps4', 'nbumps5', 'nbumps6', 'nbumps7', 'nbumps89',\n",
       "       'energy', 'maxenergy', 'class', 'seismic_0', 'seismic_1',\n",
       "       'seismoacoustic_0', 'seismoacoustic_1', 'seismoacoustic_2', 'shift_0',\n",
       "       'shift_1', 'ghazard_0', 'ghazard_1', 'ghazard_2'],\n",
       "      dtype='object')"
      ]
     },
     "execution_count": 144,
     "metadata": {},
     "output_type": "execute_result"
    }
   ],
   "source": [
    "hazard = hazard.drop(['id'], \n",
    "                     axis = 1)\n",
    "hazard.columns"
   ]
  },
  {
   "cell_type": "code",
   "execution_count": 145,
   "metadata": {},
   "outputs": [],
   "source": [
    "# Select predictors and target.\n",
    "ex_y = hazard['class']\n",
    "ex_x = hazard.drop(['class'], axis = 1)"
   ]
  },
  {
   "cell_type": "markdown",
   "metadata": {},
   "source": [
    "#### Question 4\n",
    "##### Separate training and test data as `X_train_ex`, `X_test_ex`, `y_train_ex`, `y_test_ex` with 70:30 partition and fit a logistic regression model.\n",
    "##### Set random seed to 1"
   ]
  },
  {
   "cell_type": "code",
   "execution_count": 146,
   "metadata": {},
   "outputs": [
    {
     "data": {
      "text/plain": [
       "LogisticRegression(C=1.0, class_weight=None, dual=False, fit_intercept=True,\n",
       "                   intercept_scaling=1, l1_ratio=None, max_iter=100,\n",
       "                   multi_class='warn', n_jobs=None, penalty='l2',\n",
       "                   random_state=None, solver='warn', tol=0.0001, verbose=0,\n",
       "                   warm_start=False)"
      ]
     },
     "execution_count": 146,
     "metadata": {},
     "output_type": "execute_result"
    }
   ],
   "source": [
    "# Build a logistic regression model.\n",
    "np.random.seed(1)\n",
    "ex_x_train, ex_x_test, ex_y_train, ex_y_test = train_test_split(ex_x, ex_y, test_size = 0.30)\n",
    "logreg = LogisticRegression()\n",
    "logreg.fit(ex_x_train, ex_y_train)"
   ]
  },
  {
   "cell_type": "markdown",
   "metadata": {},
   "source": [
    "#### Question 5\n",
    "##### Predict on training and test dataset.\n",
    "##### Print the testing accuracy.\n",
    "##### Print confusion matrix of training and test data.\n",
    "##### Find the percentage of accurate hazards case (1) found."
   ]
  },
  {
   "cell_type": "code",
   "execution_count": 147,
   "metadata": {},
   "outputs": [],
   "source": [
    "ex_log_y_train_pred = logreg.predict(ex_x_train)\n",
    "ex_log_y_test_pred = logreg.predict(ex_x_test)"
   ]
  },
  {
   "cell_type": "code",
   "execution_count": 148,
   "metadata": {},
   "outputs": [
    {
     "data": {
      "image/png": "[encoded data removed]",
      "text/plain": [
       "<Figure size 432x288 with 1 Axes>"
      ]
     },
     "metadata": {
      "needs_background": "light"
     },
     "output_type": "display_data"
    },
    {
     "name": "stdout",
     "output_type": "stream",
     "text": [
      "Accuracy for the model on test data:  0.9352876106194691\n"
     ]
    }
   ],
   "source": [
    "train_accuracy = konami.plt_cm(ex_y_train, ex_log_y_train_pred)"
   ]
  },
  {
   "cell_type": "code",
   "execution_count": 149,
   "metadata": {},
   "outputs": [
    {
     "name": "stderr",
     "output_type": "stream",
     "text": [
      "No handles with labels found to put in legend.\n"
     ]
    },
    {
     "name": "stdout",
     "output_type": "stream",
     "text": [
      "              precision    recall  f1-score   support\n",
      "\n",
      "           0       0.94      1.00      0.97      1692\n",
      "           1       0.43      0.03      0.05       116\n",
      "\n",
      "    accuracy                           0.94      1808\n",
      "   macro avg       0.68      0.51      0.51      1808\n",
      "weighted avg       0.90      0.94      0.91      1808\n",
      "\n"
     ]
    },
    {
     "data": {
      "image/png": "[encoded data removed]",
      "text/plain": [
       "<Figure size 432x288 with 1 Axes>"
      ]
     },
     "metadata": {
      "needs_background": "light"
     },
     "output_type": "display_data"
    }
   ],
   "source": [
    "konami.accuracy_ROKs(ex_y_train, ex_log_y_train_pred)"
   ]
  },
  {
   "cell_type": "code",
   "execution_count": 150,
   "metadata": {},
   "outputs": [
    {
     "data": {
      "image/png": "[encoded data removed]",
      "text/plain": [
       "<Figure size 432x288 with 1 Axes>"
      ]
     },
     "metadata": {
      "needs_background": "light"
     },
     "output_type": "display_data"
    },
    {
     "name": "stdout",
     "output_type": "stream",
     "text": [
      "Accuracy for the model on test data:  0.9278350515463918\n"
     ]
    }
   ],
   "source": [
    "test_accuracy = konami.plt_cm(ex_y_test, ex_log_y_test_pred)"
   ]
  },
  {
   "cell_type": "code",
   "execution_count": 151,
   "metadata": {},
   "outputs": [
    {
     "name": "stderr",
     "output_type": "stream",
     "text": [
      "No handles with labels found to put in legend.\n"
     ]
    },
    {
     "name": "stdout",
     "output_type": "stream",
     "text": [
      "              precision    recall  f1-score   support\n",
      "\n",
      "           0       0.93      1.00      0.96       722\n",
      "           1       0.00      0.00      0.00        54\n",
      "\n",
      "    accuracy                           0.93       776\n",
      "   macro avg       0.47      0.50      0.48       776\n",
      "weighted avg       0.87      0.93      0.90       776\n",
      "\n"
     ]
    },
    {
     "data": {
      "image/png": "[encoded data removed]",
      "text/plain": [
       "<Figure size 432x288 with 1 Axes>"
      ]
     },
     "metadata": {
      "needs_background": "light"
     },
     "output_type": "display_data"
    }
   ],
   "source": [
    "konami.accuracy_ROKs(ex_y_test, ex_log_y_test_pred)"
   ]
  },
  {
   "cell_type": "markdown",
   "metadata": {},
   "source": [
    "#### Question 6\n",
    "##### Find TPR and TNR.\n",
    "##### Save the metric to a new performance df for exercise named `performance_df_ex`.\n",
    "##### Interpret the results."
   ]
  },
  {
   "cell_type": "code",
   "execution_count": 152,
   "metadata": {},
   "outputs": [],
   "source": [
    "def find_anomaly_accuracy(y_val, y_pred):\n",
    "    tn, fp, fn, tp = confusion_matrix(y_val,y_pred).ravel()\n",
    "    print(tn_train, fp_train, fn_train, tp_train)\n",
    "    print('Confusion Matrix - Dataset')\n",
    "    print(pd.crosstab(y_val,\n",
    "                      y_pred, \n",
    "                      rownames = ['True'],\n",
    "                      colnames = ['Predicted'],\n",
    "                      margins = True))\n",
    "    print('Percentage of anomaly accuracy is ',\n",
    "          tp/np.count_nonzero(y_val == 1))"
   ]
  },
  {
   "cell_type": "code",
   "execution_count": 153,
   "metadata": {},
   "outputs": [
    {
     "name": "stdout",
     "output_type": "stream",
     "text": [
      "1688 4 113 3\n",
      "Confusion Matrix - Dataset\n",
      "Predicted     0  1   All\n",
      "True                    \n",
      "0          1688  4  1692\n",
      "1           113  3   116\n",
      "All        1801  7  1808\n",
      "Percentage of anomaly accuracy is  0.02586206896551724\n"
     ]
    }
   ],
   "source": [
    "find_anomaly_accuracy(ex_y_train, ex_log_y_train_pred)"
   ]
  },
  {
   "cell_type": "code",
   "execution_count": 154,
   "metadata": {},
   "outputs": [
    {
     "name": "stdout",
     "output_type": "stream",
     "text": [
      "1688 4 113 3\n",
      "Confusion Matrix - Dataset\n",
      "Predicted    0  1  All\n",
      "True                  \n",
      "0          720  2  722\n",
      "1           54  0   54\n",
      "All        774  2  776\n",
      "Percentage of anomaly accuracy is  0.0\n"
     ]
    }
   ],
   "source": [
    "find_anomaly_accuracy(ex_y_test, ex_log_y_test_pred)"
   ]
  },
  {
   "cell_type": "code",
   "execution_count": 181,
   "metadata": {},
   "outputs": [],
   "source": [
    "def update_TPR_FPR_score(df, y_val, y_pred, name = ''):\n",
    "    tn, fp, fn, tp = confusion_matrix(y_val, \n",
    "                                      y_pred).ravel()\n",
    "    # Find the TNR.\n",
    "    non_anomaly_eval = tn / (tn + fp)\n",
    "    # Find the TPR.\n",
    "    anomaly_eval = tp / (tp + fn)\n",
    "    \n",
    "    s = pd.Series([name,\n",
    "               anomaly_eval,\n",
    "               non_anomaly_eval],\n",
    "               index=['model_name', 'TPR', 'TNR'])\n",
    "    \n",
    "    df = df.append(s, ignore_index = True)\n",
    "    return df"
   ]
  },
  {
   "cell_type": "code",
   "execution_count": 189,
   "metadata": {},
   "outputs": [],
   "source": [
    "performance_df = pd.DataFrame(columns = ['model_name',\n",
    "                                         'TPR',\n",
    "                                         'TNR'])"
   ]
  },
  {
   "cell_type": "code",
   "execution_count": 190,
   "metadata": {},
   "outputs": [
    {
     "data": {
      "text/html": [
       "<div>\n",
       "<style scoped>\n",
       "    .dataframe tbody tr th:only-of-type {\n",
       "        vertical-align: middle;\n",
       "    }\n",
       "\n",
       "    .dataframe tbody tr th {\n",
       "        vertical-align: top;\n",
       "    }\n",
       "\n",
       "    .dataframe thead th {\n",
       "        text-align: right;\n",
       "    }\n",
       "</style>\n",
       "<table border=\"1\" class=\"dataframe\">\n",
       "  <thead>\n",
       "    <tr style=\"text-align: right;\">\n",
       "      <th></th>\n",
       "      <th>model_name</th>\n",
       "      <th>TPR</th>\n",
       "      <th>TNR</th>\n",
       "    </tr>\n",
       "  </thead>\n",
       "  <tbody>\n",
       "    <tr>\n",
       "      <th>0</th>\n",
       "      <td>Logistic_regression_baseline</td>\n",
       "      <td>0.0</td>\n",
       "      <td>0.99723</td>\n",
       "    </tr>\n",
       "  </tbody>\n",
       "</table>\n",
       "</div>"
      ],
      "text/plain": [
       "                     model_name  TPR      TNR\n",
       "0  Logistic_regression_baseline  0.0  0.99723"
      ]
     },
     "execution_count": 190,
     "metadata": {},
     "output_type": "execute_result"
    }
   ],
   "source": [
    "performance_df = update_TPR_FPR_score(performance_df, \n",
    "                                      ex_y_test, \n",
    "                                      ex_log_y_test_pred,\n",
    "                                      'Logistic_regression_baseline')\n",
    "performance_df"
   ]
  },
  {
   "cell_type": "code",
   "execution_count": 191,
   "metadata": {},
   "outputs": [
    {
     "name": "stdout",
     "output_type": "stream",
     "text": [
      "our model is terrible at predicting anomalies (TPR)\n"
     ]
    }
   ],
   "source": [
    "print('our model is terrible at predicting anomalies (TPR)')"
   ]
  },
  {
   "cell_type": "markdown",
   "metadata": {},
   "source": [
    "## Exercise 3"
   ]
  },
  {
   "cell_type": "markdown",
   "metadata": {},
   "source": [
    "#### Question 1\n",
    "##### Set random_state as 1 and create a SMOTE samples to training dataset as `X_train_new_ex` and `y_train_new_ex` to balance the classes.\n",
    "##### Print the shape of the training data before resampling and after resampling.\n"
   ]
  },
  {
   "cell_type": "code",
   "execution_count": 192,
   "metadata": {},
   "outputs": [
    {
     "name": "stdout",
     "output_type": "stream",
     "text": [
      "(1808, 24)\n",
      "(3384, 24)\n"
     ]
    }
   ],
   "source": [
    "sm = SMOTE(random_state = 1)\n",
    "ex_x_train_new, ex_y_train_new = sm.fit_sample(ex_x_train, ex_y_train)\n",
    "# Shape of X_train.\n",
    "print(ex_x_train.shape)\n",
    "# Print shape of X_train_new.\n",
    "print(ex_x_train_new.shape)\n"
   ]
  },
  {
   "cell_type": "markdown",
   "metadata": {},
   "source": [
    "#### Question 2\n",
    "##### Plot the target variable of the resampled dataset (`y_train_new_ex`)\n",
    "##### How are the datapoints distributed?"
   ]
  },
  {
   "cell_type": "code",
   "execution_count": 193,
   "metadata": {},
   "outputs": [
    {
     "name": "stdout",
     "output_type": "stream",
     "text": [
      "even distribution\n"
     ]
    },
    {
     "data": {
      "image/png": "[encoded data removed]",
      "text/plain": [
       "<Figure size 432x288 with 1 Axes>"
      ]
     },
     "metadata": {
      "needs_background": "light"
     },
     "output_type": "display_data"
    }
   ],
   "source": [
    "# Double check that the data has been balanced.\n",
    "pd.Series(ex_y_train_new).value_counts().plot.bar()\n",
    "print('even distribution')"
   ]
  },
  {
   "cell_type": "markdown",
   "metadata": {},
   "source": [
    "#### Question 3\n",
    "##### Fit the logistic regression model to the resampled dataset and predict on train and test data."
   ]
  },
  {
   "cell_type": "code",
   "execution_count": 194,
   "metadata": {},
   "outputs": [],
   "source": [
    "# Fit the model.\n",
    "logreg.fit(ex_x_train_new, ex_y_train_new)\n",
    "\n",
    "# Prediction for training data.\n",
    "train_pred_sm = logreg.predict(ex_x_train_new)\n",
    "\n",
    "# Prediction for the test data.\n",
    "test_pred_sm = logreg.predict(ex_x_test)\n",
    "train_pred_sm = logreg.predict(ex_x_train_new)"
   ]
  },
  {
   "cell_type": "markdown",
   "metadata": {},
   "source": [
    "#### Question 4\n",
    "##### Print the confusion matrix for training and test data.\n",
    "##### Analyze the result."
   ]
  },
  {
   "cell_type": "code",
   "execution_count": 195,
   "metadata": {},
   "outputs": [
    {
     "name": "stdout",
     "output_type": "stream",
     "text": [
      "1688 4 113 3\n",
      "Confusion Matrix - Dataset\n",
      "Predicted    0     1   All\n",
      "True                      \n",
      "0           86  1606  1692\n",
      "1           26  1666  1692\n",
      "All        112  3272  3384\n",
      "Percentage of anomaly accuracy is  0.9846335697399528\n"
     ]
    }
   ],
   "source": [
    "find_anomaly_accuracy(ex_y_train_new, train_pred_sm)"
   ]
  },
  {
   "cell_type": "code",
   "execution_count": 196,
   "metadata": {},
   "outputs": [
    {
     "name": "stdout",
     "output_type": "stream",
     "text": [
      "1688 4 113 3\n",
      "Confusion Matrix - Dataset\n",
      "Predicted   0    1  All\n",
      "True                   \n",
      "0          26  696  722\n",
      "1           1   53   54\n",
      "All        27  749  776\n",
      "Percentage of anomaly accuracy is  0.9814814814814815\n"
     ]
    }
   ],
   "source": [
    "find_anomaly_accuracy(ex_y_test, test_pred_sm)"
   ]
  },
  {
   "cell_type": "code",
   "execution_count": 197,
   "metadata": {},
   "outputs": [
    {
     "name": "stdout",
     "output_type": "stream",
     "text": [
      "by using informed oversampling, we are able to greatly improve the anomaly accuracy dectection\n"
     ]
    }
   ],
   "source": [
    "print('by using informed oversampling, we are able to greatly improve the anomaly accuracy dectection')"
   ]
  },
  {
   "cell_type": "markdown",
   "metadata": {},
   "source": [
    "#### Question 5\n",
    "##### Find the TPR and TNR and save the result.\n",
    "##### Compare the result to our baseline logistic regression and interpret."
   ]
  },
  {
   "cell_type": "code",
   "execution_count": 198,
   "metadata": {},
   "outputs": [
    {
     "data": {
      "text/html": [
       "<div>\n",
       "<style scoped>\n",
       "    .dataframe tbody tr th:only-of-type {\n",
       "        vertical-align: middle;\n",
       "    }\n",
       "\n",
       "    .dataframe tbody tr th {\n",
       "        vertical-align: top;\n",
       "    }\n",
       "\n",
       "    .dataframe thead th {\n",
       "        text-align: right;\n",
       "    }\n",
       "</style>\n",
       "<table border=\"1\" class=\"dataframe\">\n",
       "  <thead>\n",
       "    <tr style=\"text-align: right;\">\n",
       "      <th></th>\n",
       "      <th>model_name</th>\n",
       "      <th>TPR</th>\n",
       "      <th>TNR</th>\n",
       "    </tr>\n",
       "  </thead>\n",
       "  <tbody>\n",
       "    <tr>\n",
       "      <th>0</th>\n",
       "      <td>Logistic_regression_baseline</td>\n",
       "      <td>0.000000</td>\n",
       "      <td>0.997230</td>\n",
       "    </tr>\n",
       "    <tr>\n",
       "      <th>1</th>\n",
       "      <td>Log_regression_SMOTE</td>\n",
       "      <td>0.981481</td>\n",
       "      <td>0.036011</td>\n",
       "    </tr>\n",
       "  </tbody>\n",
       "</table>\n",
       "</div>"
      ],
      "text/plain": [
       "                     model_name       TPR       TNR\n",
       "0  Logistic_regression_baseline  0.000000  0.997230\n",
       "1          Log_regression_SMOTE  0.981481  0.036011"
      ]
     },
     "execution_count": 198,
     "metadata": {},
     "output_type": "execute_result"
    }
   ],
   "source": [
    "performance_df = update_TPR_FPR_score(performance_df, \n",
    "                                      ex_y_test, \n",
    "                                      test_pred_sm,\n",
    "                                      'Log_regression_SMOTE')\n",
    "performance_df"
   ]
  },
  {
   "cell_type": "code",
   "execution_count": 199,
   "metadata": {},
   "outputs": [
    {
     "name": "stdout",
     "output_type": "stream",
     "text": [
      "our model now detects anomalies better than normalities\n"
     ]
    }
   ],
   "source": [
    "print('our model now detects anomalies better than normalities')"
   ]
  },
  {
   "cell_type": "markdown",
   "metadata": {},
   "source": [
    "## Exercise 4"
   ]
  },
  {
   "cell_type": "markdown",
   "metadata": {},
   "source": [
    "#### Question 1\n",
    "##### Split the hazard dataset to `hazardous` which has all outlier data and `non_hazardous` which has all regular observations.\n",
    "##### Drop `class` variable from `hazardous` dataframe.\n",
    "##### Remove `class` variable from `non_hazardous` dataframe and save as `non_hazardous_X` and `non_hazardous_y` which has class variable."
   ]
  },
  {
   "cell_type": "code",
   "execution_count": 200,
   "metadata": {},
   "outputs": [],
   "source": [
    "# Split hazardous vs non hazardous.\n",
    "non_hazardous = hazard[hazard['class'] == 0]\n",
    "hazardous = hazard[hazard['class'] == 1]\n",
    "\n",
    "# Drop is hazardous column from hazardous dataframe.\n",
    "hazardous = hazardous.drop(['class'], axis = 1)\n",
    "\n",
    "non_hazardous_x = non_hazardous.drop(['class'], axis = 1)\n",
    "non_hazardous_y = non_hazardous['class']"
   ]
  },
  {
   "cell_type": "markdown",
   "metadata": {},
   "source": [
    "#### Question 2\n",
    "##### Split `non_hazard_X` and `non_hazard_y` to train and test and print the shape.\n",
    "##### Fit an isolation forest with random state 100 to non_hazardous_X_train."
   ]
  },
  {
   "cell_type": "code",
   "execution_count": 212,
   "metadata": {},
   "outputs": [
    {
     "name": "stdout",
     "output_type": "stream",
     "text": [
      "(1689, 24)\n",
      "(725, 24)\n"
     ]
    }
   ],
   "source": [
    "non_hazardous_x_train, non_hazardous_x_test, non_hazardous_y_train, non_hazardous_y_test = train_test_split(non_hazardous_x, \n",
    "                                                                                            non_hazardous_y, \n",
    "                                                                                            test_size = 0.30)\n",
    "\n",
    "print(non_hazardous_x_train.shape)\n",
    "print(non_hazardous_x_test.shape)"
   ]
  },
  {
   "cell_type": "code",
   "execution_count": 213,
   "metadata": {},
   "outputs": [
    {
     "data": {
      "text/plain": [
       "IsolationForest(behaviour='old', bootstrap=False, contamination='legacy',\n",
       "                max_features=1.0, max_samples='auto', n_estimators=100,\n",
       "                n_jobs=None, random_state=100, verbose=0, warm_start=False)"
      ]
     },
     "execution_count": 213,
     "metadata": {},
     "output_type": "execute_result"
    }
   ],
   "source": [
    "ex_iforest = IsolationForest(random_state = 100)\n",
    "ex_iforest.fit(non_hazardous_x_train)"
   ]
  },
  {
   "cell_type": "markdown",
   "metadata": {},
   "source": [
    "#### Question 3\n",
    "##### Create two functions named `nonhazard_TNR` and `hazard_TPR` which is same as we did in class."
   ]
  },
  {
   "cell_type": "code",
   "execution_count": 214,
   "metadata": {},
   "outputs": [],
   "source": [
    "def nonhazardous_TNR(Mat):\n",
    "    Sum = 0\n",
    "    for i in Mat:\n",
    "        if(i == 1):\n",
    "            Sum += 1.0\n",
    "    return(Sum/len(Mat))\n",
    "\n",
    "def hazardous_TPR(Mat):\n",
    "    Sum=0\n",
    "    for i in Mat:\n",
    "        if(i==-1):\n",
    "            Sum+=1.0\n",
    "    return(Sum/len(Mat))"
   ]
  },
  {
   "cell_type": "markdown",
   "metadata": {},
   "source": [
    "#### Question 4\n",
    "##### Predict on non_hazard_X_test and find the accuracy using the function `nonhazard_TNR`."
   ]
  },
  {
   "cell_type": "code",
   "execution_count": 216,
   "metadata": {},
   "outputs": [
    {
     "name": "stdout",
     "output_type": "stream",
     "text": [
      "[1 1 1 1 1 1 1 1 1 1]\n",
      "[-1  1]\n",
      "Accuracy of non-hazardous cases:\t 0.8813793103448276\n"
     ]
    }
   ],
   "source": [
    "nonhazardous_test_pred = ex_iforest.predict(non_hazardous_x_test)\n",
    "print(nonhazardous_test_pred[0:10])\n",
    "print(np.unique(nonhazardous_test_pred))\n",
    "non_hazardous_eval = nonhazardous_TNR(nonhazardous_test_pred)\n",
    "print('Accuracy of non-hazardous cases:\\t', non_hazardous_eval)\n"
   ]
  },
  {
   "cell_type": "markdown",
   "metadata": {},
   "source": [
    "#### Question 5\n",
    "##### Predict on hazardous (anomaly dataset) and find the accuracy of the prediction using `hazard_TPR`."
   ]
  },
  {
   "cell_type": "code",
   "execution_count": 219,
   "metadata": {},
   "outputs": [
    {
     "name": "stdout",
     "output_type": "stream",
     "text": [
      "[ 1  1 -1  1  1  1  1 -1 -1 -1]\n",
      "[-1  1]\n",
      "Accuracy of hazardous cases:\t 0.2647058823529412\n"
     ]
    }
   ],
   "source": [
    "hazardous_pred = ex_iforest.predict(hazardous)\n",
    "print(hazardous_pred[0:10])\n",
    "print(np.unique(hazardous_pred))\n",
    "hazardous_eval = hazardous_TPR(hazardous_pred)\n",
    "print('Accuracy of hazardous cases:\\t', hazardous_eval)"
   ]
  },
  {
   "cell_type": "markdown",
   "metadata": {},
   "source": [
    "#### Question 6\n",
    "##### Interpret the results after saving the metrics to performance dataframe\n",
    "##### Why do you think our results are extremely skewed for each technique?"
   ]
  },
  {
   "cell_type": "code",
   "execution_count": 220,
   "metadata": {},
   "outputs": [
    {
     "data": {
      "text/html": [
       "<div>\n",
       "<style scoped>\n",
       "    .dataframe tbody tr th:only-of-type {\n",
       "        vertical-align: middle;\n",
       "    }\n",
       "\n",
       "    .dataframe tbody tr th {\n",
       "        vertical-align: top;\n",
       "    }\n",
       "\n",
       "    .dataframe thead th {\n",
       "        text-align: right;\n",
       "    }\n",
       "</style>\n",
       "<table border=\"1\" class=\"dataframe\">\n",
       "  <thead>\n",
       "    <tr style=\"text-align: right;\">\n",
       "      <th></th>\n",
       "      <th>model_name</th>\n",
       "      <th>TPR</th>\n",
       "      <th>TNR</th>\n",
       "    </tr>\n",
       "  </thead>\n",
       "  <tbody>\n",
       "    <tr>\n",
       "      <th>0</th>\n",
       "      <td>Logistic_regression_baseline</td>\n",
       "      <td>0.000000</td>\n",
       "      <td>0.997230</td>\n",
       "    </tr>\n",
       "    <tr>\n",
       "      <th>1</th>\n",
       "      <td>Log_regression_SMOTE</td>\n",
       "      <td>0.981481</td>\n",
       "      <td>0.036011</td>\n",
       "    </tr>\n",
       "    <tr>\n",
       "      <th>2</th>\n",
       "      <td>Isolation forest</td>\n",
       "      <td>0.264706</td>\n",
       "      <td>0.881379</td>\n",
       "    </tr>\n",
       "  </tbody>\n",
       "</table>\n",
       "</div>"
      ],
      "text/plain": [
       "                     model_name       TPR       TNR\n",
       "0  Logistic_regression_baseline  0.000000  0.997230\n",
       "1          Log_regression_SMOTE  0.981481  0.036011\n",
       "2              Isolation forest  0.264706  0.881379"
      ]
     },
     "execution_count": 220,
     "metadata": {},
     "output_type": "execute_result"
    }
   ],
   "source": [
    "s = pd.Series(['Isolation forest',\n",
    "               hazardous_eval, \n",
    "               non_hazardous_eval],\n",
    "               index=['model_name', 'TPR', 'TNR'])\n",
    "performance_df = performance_df.append(s, ignore_index = True)\n",
    "performance_df"
   ]
  },
  {
   "cell_type": "code",
   "execution_count": 221,
   "metadata": {},
   "outputs": [
    {
     "name": "stdout",
     "output_type": "stream",
     "text": [
      "this model is not as good at predicting anomalies as the previous as it relies on the variance of the normalities to determine decisions\n"
     ]
    }
   ],
   "source": [
    "print('this model is not as good at predicting anomalies as the previous as it relies on the variance of the normalities to determine decisions')"
   ]
  },
  {
   "cell_type": "code",
   "execution_count": null,
   "metadata": {},
   "outputs": [],
   "source": []
  }
 ],
 "metadata": {
  "kernelspec": {
   "display_name": "Python 3",
   "language": "python",
   "name": "python3"
  },
  "language_info": {
   "codemirror_mode": {
    "name": "ipython",
    "version": 3
   },
   "file_extension": ".py",
   "mimetype": "text/x-python",
   "name": "python",
   "nbconvert_exporter": "python",
   "pygments_lexer": "ipython3",
   "version": "3.7.1"
  }
 },
 "nbformat": 4,
 "nbformat_minor": 2
}
