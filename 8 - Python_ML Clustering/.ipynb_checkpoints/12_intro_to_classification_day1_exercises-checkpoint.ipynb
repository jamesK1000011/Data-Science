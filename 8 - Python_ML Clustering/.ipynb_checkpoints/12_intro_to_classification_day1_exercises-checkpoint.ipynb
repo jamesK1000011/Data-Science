{
 "cells": [
  {
   "cell_type": "markdown",
   "metadata": {},
   "source": [
    "# Intro to Classification Day 1 - exercises"
   ]
  },
  {
   "cell_type": "markdown",
   "metadata": {},
   "source": [
    "## Exercise 1"
   ]
  },
  {
   "cell_type": "markdown",
   "metadata": {},
   "source": [
    "#### Question 1 \n",
    "##### Load libraries that are used in this module."
   ]
  },
  {
   "cell_type": "code",
   "execution_count": 46,
   "metadata": {},
   "outputs": [],
   "source": [
    "main_dir = '/Users/datasociety/Desktop/af-werx'\n",
    "data_dir = main_dir + \"/data\""
   ]
  },
  {
   "cell_type": "code",
   "execution_count": 47,
   "metadata": {},
   "outputs": [],
   "source": [
    "import os\n",
    "import pandas as pd\n",
    "import numpy as np\n",
    "import matplotlib.pyplot as plt\n",
    "\n",
    "\n",
    "# New today - we will introduce it when we use it\n",
    "import pickle\n",
    "from sklearn.model_selection import train_test_split\n",
    "from sklearn.neighbors import KNeighborsClassifier\n",
    "from sklearn.preprocessing import scale\n",
    "from sklearn.model_selection import cross_val_score\n",
    "from sklearn.model_selection import GridSearchCV\n",
    "from sklearn.metrics import accuracy_score, classification_report, confusion_matrix\n",
    "from sklearn import metrics"
   ]
  },
  {
   "cell_type": "markdown",
   "metadata": {},
   "source": [
    "#### Question 2 \n",
    "##### Set `main_dir` to the location of your `af-werx` folder.\n",
    "##### Make `data_dir` from the `main_dir` and concatenate remainder of the path to data directory."
   ]
  },
  {
   "cell_type": "code",
   "execution_count": 48,
   "metadata": {},
   "outputs": [
    {
     "name": "stdout",
     "output_type": "stream",
     "text": [
      "/Users/datasociety/Desktop/af-werx/data\n"
     ]
    }
   ],
   "source": [
    "# Set working directory.\n",
    "os.chdir(data_dir)\n",
    "# Check working directory.\n",
    "print(os.getcwd())"
   ]
  },
  {
   "cell_type": "markdown",
   "metadata": {},
   "source": [
    "#### Question 3 \n",
    "##### Set the working directory to `data_dir`.\n",
    "##### Check if the working directory is updated to `data_dir'."
   ]
  },
  {
   "cell_type": "code",
   "execution_count": 49,
   "metadata": {},
   "outputs": [
    {
     "ename": "SyntaxError",
     "evalue": "invalid syntax (<ipython-input-49-af4a78287434>, line 1)",
     "output_type": "error",
     "traceback": [
      "\u001b[0;36m  File \u001b[0;32m\"<ipython-input-49-af4a78287434>\"\u001b[0;36m, line \u001b[0;32m1\u001b[0m\n\u001b[0;31m    see above\u001b[0m\n\u001b[0m            ^\u001b[0m\n\u001b[0;31mSyntaxError\u001b[0m\u001b[0;31m:\u001b[0m invalid syntax\n"
     ]
    }
   ],
   "source": [
    "see above"
   ]
  },
  {
   "cell_type": "markdown",
   "metadata": {},
   "source": [
    "#### Question 4 \n",
    "##### Load the `chicago_census.csv` dataset. \n",
    "##### Save it as `chicago_census`."
   ]
  },
  {
   "cell_type": "code",
   "execution_count": 50,
   "metadata": {},
   "outputs": [
    {
     "data": {
      "text/html": [
       "<div>\n",
       "<style scoped>\n",
       "    .dataframe tbody tr th:only-of-type {\n",
       "        vertical-align: middle;\n",
       "    }\n",
       "\n",
       "    .dataframe tbody tr th {\n",
       "        vertical-align: top;\n",
       "    }\n",
       "\n",
       "    .dataframe thead th {\n",
       "        text-align: right;\n",
       "    }\n",
       "</style>\n",
       "<table border=\"1\" class=\"dataframe\">\n",
       "  <thead>\n",
       "    <tr style=\"text-align: right;\">\n",
       "      <th></th>\n",
       "      <th>Community Area Number</th>\n",
       "      <th>COMMUNITY AREA NAME</th>\n",
       "      <th>PERCENT OF HOUSING CROWDED</th>\n",
       "      <th>PERCENT HOUSEHOLDS BELOW POVERTY</th>\n",
       "      <th>PERCENT AGED 16+ UNEMPLOYED</th>\n",
       "      <th>PERCENT AGED 25+ WITHOUT HIGH SCHOOL DIPLOMA</th>\n",
       "      <th>PERCENT AGED UNDER 18 OR OVER 64</th>\n",
       "      <th>PER CAPITA INCOME</th>\n",
       "      <th>HARDSHIP INDEX</th>\n",
       "    </tr>\n",
       "  </thead>\n",
       "  <tbody>\n",
       "    <tr>\n",
       "      <th>0</th>\n",
       "      <td>1.0</td>\n",
       "      <td>Rogers Park</td>\n",
       "      <td>7.7</td>\n",
       "      <td>23.6</td>\n",
       "      <td>8.7</td>\n",
       "      <td>18.2</td>\n",
       "      <td>27.5</td>\n",
       "      <td>23939</td>\n",
       "      <td>39.0</td>\n",
       "    </tr>\n",
       "    <tr>\n",
       "      <th>1</th>\n",
       "      <td>2.0</td>\n",
       "      <td>West Ridge</td>\n",
       "      <td>7.8</td>\n",
       "      <td>17.2</td>\n",
       "      <td>8.8</td>\n",
       "      <td>20.8</td>\n",
       "      <td>38.5</td>\n",
       "      <td>23040</td>\n",
       "      <td>46.0</td>\n",
       "    </tr>\n",
       "    <tr>\n",
       "      <th>2</th>\n",
       "      <td>3.0</td>\n",
       "      <td>Uptown</td>\n",
       "      <td>3.8</td>\n",
       "      <td>24.0</td>\n",
       "      <td>8.9</td>\n",
       "      <td>11.8</td>\n",
       "      <td>22.2</td>\n",
       "      <td>35787</td>\n",
       "      <td>20.0</td>\n",
       "    </tr>\n",
       "    <tr>\n",
       "      <th>3</th>\n",
       "      <td>4.0</td>\n",
       "      <td>Lincoln Square</td>\n",
       "      <td>3.4</td>\n",
       "      <td>10.9</td>\n",
       "      <td>8.2</td>\n",
       "      <td>13.4</td>\n",
       "      <td>25.5</td>\n",
       "      <td>37524</td>\n",
       "      <td>17.0</td>\n",
       "    </tr>\n",
       "    <tr>\n",
       "      <th>4</th>\n",
       "      <td>5.0</td>\n",
       "      <td>North Center</td>\n",
       "      <td>0.3</td>\n",
       "      <td>7.5</td>\n",
       "      <td>5.2</td>\n",
       "      <td>4.5</td>\n",
       "      <td>26.2</td>\n",
       "      <td>57123</td>\n",
       "      <td>6.0</td>\n",
       "    </tr>\n",
       "  </tbody>\n",
       "</table>\n",
       "</div>"
      ],
      "text/plain": [
       "   Community Area Number COMMUNITY AREA NAME  PERCENT OF HOUSING CROWDED  \\\n",
       "0                    1.0         Rogers Park                         7.7   \n",
       "1                    2.0          West Ridge                         7.8   \n",
       "2                    3.0              Uptown                         3.8   \n",
       "3                    4.0      Lincoln Square                         3.4   \n",
       "4                    5.0        North Center                         0.3   \n",
       "\n",
       "   PERCENT HOUSEHOLDS BELOW POVERTY  PERCENT AGED 16+ UNEMPLOYED  \\\n",
       "0                              23.6                          8.7   \n",
       "1                              17.2                          8.8   \n",
       "2                              24.0                          8.9   \n",
       "3                              10.9                          8.2   \n",
       "4                               7.5                          5.2   \n",
       "\n",
       "   PERCENT AGED 25+ WITHOUT HIGH SCHOOL DIPLOMA  \\\n",
       "0                                          18.2   \n",
       "1                                          20.8   \n",
       "2                                          11.8   \n",
       "3                                          13.4   \n",
       "4                                           4.5   \n",
       "\n",
       "   PERCENT AGED UNDER 18 OR OVER 64  PER CAPITA INCOME   HARDSHIP INDEX  \n",
       "0                              27.5               23939            39.0  \n",
       "1                              38.5               23040            46.0  \n",
       "2                              22.2               35787            20.0  \n",
       "3                              25.5               37524            17.0  \n",
       "4                              26.2               57123             6.0  "
      ]
     },
     "execution_count": 50,
     "metadata": {},
     "output_type": "execute_result"
    }
   ],
   "source": [
    "chicago_census = pd.read_csv(\"chicago_census.csv\")\n",
    "chicago_census.head()"
   ]
  },
  {
   "cell_type": "markdown",
   "metadata": {},
   "source": [
    "#### Question 5 \n",
    "###### Rename the column names as the following (and double check they are renamed by looking at `.columns`):\n",
    "###### c(\"community_number\", \"community_area\", \"percent_house_crowded\", \"percent_house_below_poverty\",\n",
    "###### \"percent_16_unemployed\", \"percent_25_without_diploma\", \"percent_dependent\", \"per_capita_income\",\n",
    "###### \"hardship_index\")"
   ]
  },
  {
   "cell_type": "code",
   "execution_count": 51,
   "metadata": {},
   "outputs": [
    {
     "data": {
      "text/plain": [
       "{'Community Area Number': 'community_number',\n",
       " 'COMMUNITY AREA NAME': 'community_area',\n",
       " 'PERCENT OF HOUSING CROWDED': 'percent_house_crowded',\n",
       " 'PERCENT HOUSEHOLDS BELOW POVERTY': 'percent_house_below_poverty',\n",
       " 'PERCENT AGED 16+ UNEMPLOYED': 'percent_16_unemployed',\n",
       " 'PERCENT AGED 25+ WITHOUT HIGH SCHOOL DIPLOMA': 'percent_25_without_diploma',\n",
       " 'PERCENT AGED UNDER 18 OR OVER 64': 'percent_dependent',\n",
       " 'PER CAPITA INCOME ': 'per_capita_income',\n",
       " 'HARDSHIP INDEX': 'hardship_index'}"
      ]
     },
     "execution_count": 51,
     "metadata": {},
     "output_type": "execute_result"
    }
   ],
   "source": [
    "# create new list of column names\n",
    "new_columns = [\"community_number\", \"community_area\", \"percent_house_crowded\", \"percent_house_below_poverty\",\n",
    "\"percent_16_unemployed\", \"percent_25_without_diploma\", \"percent_dependent\", \"per_capita_income\",\n",
    "\"hardship_index\"]\n",
    "\n",
    "# get old list of column names\n",
    "old_columns = list(chicago_census.columns.values)\n",
    "\n",
    "# zip together\n",
    "zipped_columns_names = dict(zip(old_columns,new_columns))\n",
    "zipped_columns_names"
   ]
  },
  {
   "cell_type": "code",
   "execution_count": 52,
   "metadata": {},
   "outputs": [
    {
     "data": {
      "text/html": [
       "<div>\n",
       "<style scoped>\n",
       "    .dataframe tbody tr th:only-of-type {\n",
       "        vertical-align: middle;\n",
       "    }\n",
       "\n",
       "    .dataframe tbody tr th {\n",
       "        vertical-align: top;\n",
       "    }\n",
       "\n",
       "    .dataframe thead th {\n",
       "        text-align: right;\n",
       "    }\n",
       "</style>\n",
       "<table border=\"1\" class=\"dataframe\">\n",
       "  <thead>\n",
       "    <tr style=\"text-align: right;\">\n",
       "      <th></th>\n",
       "      <th>community_number</th>\n",
       "      <th>community_area</th>\n",
       "      <th>percent_house_crowded</th>\n",
       "      <th>percent_house_below_poverty</th>\n",
       "      <th>percent_16_unemployed</th>\n",
       "      <th>percent_25_without_diploma</th>\n",
       "      <th>percent_dependent</th>\n",
       "      <th>per_capita_income</th>\n",
       "      <th>hardship_index</th>\n",
       "    </tr>\n",
       "  </thead>\n",
       "  <tbody>\n",
       "    <tr>\n",
       "      <th>0</th>\n",
       "      <td>1.0</td>\n",
       "      <td>Rogers Park</td>\n",
       "      <td>7.7</td>\n",
       "      <td>23.6</td>\n",
       "      <td>8.7</td>\n",
       "      <td>18.2</td>\n",
       "      <td>27.5</td>\n",
       "      <td>23939</td>\n",
       "      <td>39.0</td>\n",
       "    </tr>\n",
       "    <tr>\n",
       "      <th>1</th>\n",
       "      <td>2.0</td>\n",
       "      <td>West Ridge</td>\n",
       "      <td>7.8</td>\n",
       "      <td>17.2</td>\n",
       "      <td>8.8</td>\n",
       "      <td>20.8</td>\n",
       "      <td>38.5</td>\n",
       "      <td>23040</td>\n",
       "      <td>46.0</td>\n",
       "    </tr>\n",
       "    <tr>\n",
       "      <th>2</th>\n",
       "      <td>3.0</td>\n",
       "      <td>Uptown</td>\n",
       "      <td>3.8</td>\n",
       "      <td>24.0</td>\n",
       "      <td>8.9</td>\n",
       "      <td>11.8</td>\n",
       "      <td>22.2</td>\n",
       "      <td>35787</td>\n",
       "      <td>20.0</td>\n",
       "    </tr>\n",
       "    <tr>\n",
       "      <th>3</th>\n",
       "      <td>4.0</td>\n",
       "      <td>Lincoln Square</td>\n",
       "      <td>3.4</td>\n",
       "      <td>10.9</td>\n",
       "      <td>8.2</td>\n",
       "      <td>13.4</td>\n",
       "      <td>25.5</td>\n",
       "      <td>37524</td>\n",
       "      <td>17.0</td>\n",
       "    </tr>\n",
       "    <tr>\n",
       "      <th>4</th>\n",
       "      <td>5.0</td>\n",
       "      <td>North Center</td>\n",
       "      <td>0.3</td>\n",
       "      <td>7.5</td>\n",
       "      <td>5.2</td>\n",
       "      <td>4.5</td>\n",
       "      <td>26.2</td>\n",
       "      <td>57123</td>\n",
       "      <td>6.0</td>\n",
       "    </tr>\n",
       "  </tbody>\n",
       "</table>\n",
       "</div>"
      ],
      "text/plain": [
       "   community_number  community_area  percent_house_crowded  \\\n",
       "0               1.0     Rogers Park                    7.7   \n",
       "1               2.0      West Ridge                    7.8   \n",
       "2               3.0          Uptown                    3.8   \n",
       "3               4.0  Lincoln Square                    3.4   \n",
       "4               5.0    North Center                    0.3   \n",
       "\n",
       "   percent_house_below_poverty  percent_16_unemployed  \\\n",
       "0                         23.6                    8.7   \n",
       "1                         17.2                    8.8   \n",
       "2                         24.0                    8.9   \n",
       "3                         10.9                    8.2   \n",
       "4                          7.5                    5.2   \n",
       "\n",
       "   percent_25_without_diploma  percent_dependent  per_capita_income  \\\n",
       "0                        18.2               27.5              23939   \n",
       "1                        20.8               38.5              23040   \n",
       "2                        11.8               22.2              35787   \n",
       "3                        13.4               25.5              37524   \n",
       "4                         4.5               26.2              57123   \n",
       "\n",
       "   hardship_index  \n",
       "0            39.0  \n",
       "1            46.0  \n",
       "2            20.0  \n",
       "3            17.0  \n",
       "4             6.0  "
      ]
     },
     "execution_count": 52,
     "metadata": {},
     "output_type": "execute_result"
    }
   ],
   "source": [
    "chicago_census = chicago_census.rename(columns = zipped_columns_names)\n",
    "\n",
    "chicago_census.head()"
   ]
  },
  {
   "cell_type": "markdown",
   "metadata": {},
   "source": [
    "#### Question 6 \n",
    "###### Add a new variable to the dataframe called \"income\".\n",
    "###### `income` is set to 0 if per_capita_income of the row is less than \n",
    "###### the mean per_capita_income, otherwise set `income` to 1.\n",
    "###### Make a new duplicate dataframe called \"chicago_knn\"."
   ]
  },
  {
   "cell_type": "code",
   "execution_count": 53,
   "metadata": {},
   "outputs": [
    {
     "data": {
      "text/html": [
       "<div>\n",
       "<style scoped>\n",
       "    .dataframe tbody tr th:only-of-type {\n",
       "        vertical-align: middle;\n",
       "    }\n",
       "\n",
       "    .dataframe tbody tr th {\n",
       "        vertical-align: top;\n",
       "    }\n",
       "\n",
       "    .dataframe thead th {\n",
       "        text-align: right;\n",
       "    }\n",
       "</style>\n",
       "<table border=\"1\" class=\"dataframe\">\n",
       "  <thead>\n",
       "    <tr style=\"text-align: right;\">\n",
       "      <th></th>\n",
       "      <th>community_number</th>\n",
       "      <th>community_area</th>\n",
       "      <th>percent_house_crowded</th>\n",
       "      <th>percent_house_below_poverty</th>\n",
       "      <th>percent_16_unemployed</th>\n",
       "      <th>percent_25_without_diploma</th>\n",
       "      <th>percent_dependent</th>\n",
       "      <th>per_capita_income</th>\n",
       "      <th>hardship_index</th>\n",
       "      <th>income</th>\n",
       "    </tr>\n",
       "  </thead>\n",
       "  <tbody>\n",
       "    <tr>\n",
       "      <th>0</th>\n",
       "      <td>1.0</td>\n",
       "      <td>Rogers Park</td>\n",
       "      <td>7.7</td>\n",
       "      <td>23.6</td>\n",
       "      <td>8.7</td>\n",
       "      <td>18.2</td>\n",
       "      <td>27.5</td>\n",
       "      <td>23939</td>\n",
       "      <td>39.0</td>\n",
       "      <td>0</td>\n",
       "    </tr>\n",
       "    <tr>\n",
       "      <th>1</th>\n",
       "      <td>2.0</td>\n",
       "      <td>West Ridge</td>\n",
       "      <td>7.8</td>\n",
       "      <td>17.2</td>\n",
       "      <td>8.8</td>\n",
       "      <td>20.8</td>\n",
       "      <td>38.5</td>\n",
       "      <td>23040</td>\n",
       "      <td>46.0</td>\n",
       "      <td>0</td>\n",
       "    </tr>\n",
       "    <tr>\n",
       "      <th>2</th>\n",
       "      <td>3.0</td>\n",
       "      <td>Uptown</td>\n",
       "      <td>3.8</td>\n",
       "      <td>24.0</td>\n",
       "      <td>8.9</td>\n",
       "      <td>11.8</td>\n",
       "      <td>22.2</td>\n",
       "      <td>35787</td>\n",
       "      <td>20.0</td>\n",
       "      <td>1</td>\n",
       "    </tr>\n",
       "    <tr>\n",
       "      <th>3</th>\n",
       "      <td>4.0</td>\n",
       "      <td>Lincoln Square</td>\n",
       "      <td>3.4</td>\n",
       "      <td>10.9</td>\n",
       "      <td>8.2</td>\n",
       "      <td>13.4</td>\n",
       "      <td>25.5</td>\n",
       "      <td>37524</td>\n",
       "      <td>17.0</td>\n",
       "      <td>1</td>\n",
       "    </tr>\n",
       "    <tr>\n",
       "      <th>4</th>\n",
       "      <td>5.0</td>\n",
       "      <td>North Center</td>\n",
       "      <td>0.3</td>\n",
       "      <td>7.5</td>\n",
       "      <td>5.2</td>\n",
       "      <td>4.5</td>\n",
       "      <td>26.2</td>\n",
       "      <td>57123</td>\n",
       "      <td>6.0</td>\n",
       "      <td>1</td>\n",
       "    </tr>\n",
       "  </tbody>\n",
       "</table>\n",
       "</div>"
      ],
      "text/plain": [
       "   community_number  community_area  percent_house_crowded  \\\n",
       "0               1.0     Rogers Park                    7.7   \n",
       "1               2.0      West Ridge                    7.8   \n",
       "2               3.0          Uptown                    3.8   \n",
       "3               4.0  Lincoln Square                    3.4   \n",
       "4               5.0    North Center                    0.3   \n",
       "\n",
       "   percent_house_below_poverty  percent_16_unemployed  \\\n",
       "0                         23.6                    8.7   \n",
       "1                         17.2                    8.8   \n",
       "2                         24.0                    8.9   \n",
       "3                         10.9                    8.2   \n",
       "4                          7.5                    5.2   \n",
       "\n",
       "   percent_25_without_diploma  percent_dependent  per_capita_income  \\\n",
       "0                        18.2               27.5              23939   \n",
       "1                        20.8               38.5              23040   \n",
       "2                        11.8               22.2              35787   \n",
       "3                        13.4               25.5              37524   \n",
       "4                         4.5               26.2              57123   \n",
       "\n",
       "   hardship_index  income  \n",
       "0            39.0       0  \n",
       "1            46.0       0  \n",
       "2            20.0       1  \n",
       "3            17.0       1  \n",
       "4             6.0       1  "
      ]
     },
     "execution_count": 53,
     "metadata": {},
     "output_type": "execute_result"
    }
   ],
   "source": [
    "chicago_census['income'] = np.where(chicago_census['per_capita_income'] < (chicago_census['per_capita_income'].mean()), 0, 1)\n",
    "chicago_knn = chicago_census\n",
    "chicago_knn.head()\n"
   ]
  },
  {
   "cell_type": "markdown",
   "metadata": {},
   "source": [
    "#### Question 7\n",
    "###### Look for NAs in `chicago_knn` and impute with either a 0 or the mean.\n",
    "###### Check for NAs after again to make sure the data looks good."
   ]
  },
  {
   "cell_type": "code",
   "execution_count": 54,
   "metadata": {},
   "outputs": [
    {
     "data": {
      "text/plain": [
       "community_number               1\n",
       "community_area                 0\n",
       "percent_house_crowded          0\n",
       "percent_house_below_poverty    0\n",
       "percent_16_unemployed          0\n",
       "percent_25_without_diploma     0\n",
       "percent_dependent              0\n",
       "per_capita_income              0\n",
       "hardship_index                 1\n",
       "income                         0\n",
       "dtype: int64"
      ]
     },
     "execution_count": 54,
     "metadata": {},
     "output_type": "execute_result"
    }
   ],
   "source": [
    "chicago_knn.isna().sum()\n"
   ]
  },
  {
   "cell_type": "code",
   "execution_count": 55,
   "metadata": {},
   "outputs": [],
   "source": [
    "chicago_knn['community_number'] = chicago_knn['community_number'].fillna(0.0)\n",
    "chicago_knn = chicago_knn.fillna(chicago_knn.mean())"
   ]
  },
  {
   "cell_type": "code",
   "execution_count": 56,
   "metadata": {},
   "outputs": [
    {
     "data": {
      "text/plain": [
       "community_number               0\n",
       "community_area                 0\n",
       "percent_house_crowded          0\n",
       "percent_house_below_poverty    0\n",
       "percent_16_unemployed          0\n",
       "percent_25_without_diploma     0\n",
       "percent_dependent              0\n",
       "per_capita_income              0\n",
       "hardship_index                 0\n",
       "income                         0\n",
       "dtype: int64"
      ]
     },
     "execution_count": 56,
     "metadata": {},
     "output_type": "execute_result"
    }
   ],
   "source": [
    "chicago_knn.head()\n",
    "chicago_knn.isna().sum()"
   ]
  },
  {
   "cell_type": "markdown",
   "metadata": {},
   "source": [
    "#### Question 8\n",
    "##### Check the data types of the columns. \n",
    "##### Make sure to only keep numeric columns for kNN. Also, drop `community_number` as it is an ID and we do not want to scale it.\n",
    "##### Once you ensure that all variables are numeric, transform the target variable `income` to boolean.\n",
    "##### After you are done, pickle `chicago_numeric` as `ex_classification_cleaned` for later use."
   ]
  },
  {
   "cell_type": "code",
   "execution_count": 57,
   "metadata": {},
   "outputs": [],
   "source": [
    "chicago_numeric = chicago_knn.select_dtypes(['number'])\n",
    "chicago_numeric = chicago_numeric.drop(columns = 'community_number')"
   ]
  },
  {
   "cell_type": "code",
   "execution_count": 58,
   "metadata": {},
   "outputs": [
    {
     "data": {
      "text/plain": [
       "percent_house_crowded          float64\n",
       "percent_house_below_poverty    float64\n",
       "percent_16_unemployed          float64\n",
       "percent_25_without_diploma     float64\n",
       "percent_dependent              float64\n",
       "per_capita_income                int64\n",
       "hardship_index                 float64\n",
       "income                           int64\n",
       "dtype: object"
      ]
     },
     "execution_count": 58,
     "metadata": {},
     "output_type": "execute_result"
    }
   ],
   "source": [
    "chicago_numeric.dtypes"
   ]
  },
  {
   "cell_type": "code",
   "execution_count": 59,
   "metadata": {},
   "outputs": [],
   "source": [
    "chicago_numeric[\"income\"] = np.where(chicago_numeric[\"income\"] == 1, True, False)"
   ]
  },
  {
   "cell_type": "code",
   "execution_count": 60,
   "metadata": {},
   "outputs": [],
   "source": [
    "pickle.dump(chicago_numeric, \n",
    "            open(\"ex_classification_cleaned.sav\", \"wb\" ))"
   ]
  },
  {
   "cell_type": "markdown",
   "metadata": {},
   "source": [
    "#### Question 9\n",
    "###### Once you ensure that all variables are numeric and that the target variable is Boolean, scale the variables using `scale()`.\n",
    "###### When using `scale()`, remember that you first have to split your predictors from your target.\n",
    "###### Label your scaled data `ex_X_scaled` (predictors) and `ex_y` (target).\n",
    "###### Use `.head()` to ensure variables are scaled."
   ]
  },
  {
   "cell_type": "code",
   "execution_count": 61,
   "metadata": {},
   "outputs": [
    {
     "data": {
      "text/html": [
       "<div>\n",
       "<style scoped>\n",
       "    .dataframe tbody tr th:only-of-type {\n",
       "        vertical-align: middle;\n",
       "    }\n",
       "\n",
       "    .dataframe tbody tr th {\n",
       "        vertical-align: top;\n",
       "    }\n",
       "\n",
       "    .dataframe thead th {\n",
       "        text-align: right;\n",
       "    }\n",
       "</style>\n",
       "<table border=\"1\" class=\"dataframe\">\n",
       "  <thead>\n",
       "    <tr style=\"text-align: right;\">\n",
       "      <th></th>\n",
       "      <th>percent_house_crowded</th>\n",
       "      <th>percent_house_below_poverty</th>\n",
       "      <th>percent_16_unemployed</th>\n",
       "      <th>percent_25_without_diploma</th>\n",
       "      <th>percent_dependent</th>\n",
       "      <th>per_capita_income</th>\n",
       "      <th>hardship_index</th>\n",
       "    </tr>\n",
       "  </thead>\n",
       "  <tbody>\n",
       "    <tr>\n",
       "      <th>0</th>\n",
       "      <td>7.7</td>\n",
       "      <td>23.6</td>\n",
       "      <td>8.7</td>\n",
       "      <td>18.2</td>\n",
       "      <td>27.5</td>\n",
       "      <td>23939</td>\n",
       "      <td>39.0</td>\n",
       "    </tr>\n",
       "    <tr>\n",
       "      <th>1</th>\n",
       "      <td>7.8</td>\n",
       "      <td>17.2</td>\n",
       "      <td>8.8</td>\n",
       "      <td>20.8</td>\n",
       "      <td>38.5</td>\n",
       "      <td>23040</td>\n",
       "      <td>46.0</td>\n",
       "    </tr>\n",
       "    <tr>\n",
       "      <th>2</th>\n",
       "      <td>3.8</td>\n",
       "      <td>24.0</td>\n",
       "      <td>8.9</td>\n",
       "      <td>11.8</td>\n",
       "      <td>22.2</td>\n",
       "      <td>35787</td>\n",
       "      <td>20.0</td>\n",
       "    </tr>\n",
       "    <tr>\n",
       "      <th>3</th>\n",
       "      <td>3.4</td>\n",
       "      <td>10.9</td>\n",
       "      <td>8.2</td>\n",
       "      <td>13.4</td>\n",
       "      <td>25.5</td>\n",
       "      <td>37524</td>\n",
       "      <td>17.0</td>\n",
       "    </tr>\n",
       "    <tr>\n",
       "      <th>4</th>\n",
       "      <td>0.3</td>\n",
       "      <td>7.5</td>\n",
       "      <td>5.2</td>\n",
       "      <td>4.5</td>\n",
       "      <td>26.2</td>\n",
       "      <td>57123</td>\n",
       "      <td>6.0</td>\n",
       "    </tr>\n",
       "  </tbody>\n",
       "</table>\n",
       "</div>"
      ],
      "text/plain": [
       "   percent_house_crowded  percent_house_below_poverty  percent_16_unemployed  \\\n",
       "0                    7.7                         23.6                    8.7   \n",
       "1                    7.8                         17.2                    8.8   \n",
       "2                    3.8                         24.0                    8.9   \n",
       "3                    3.4                         10.9                    8.2   \n",
       "4                    0.3                          7.5                    5.2   \n",
       "\n",
       "   percent_25_without_diploma  percent_dependent  per_capita_income  \\\n",
       "0                        18.2               27.5              23939   \n",
       "1                        20.8               38.5              23040   \n",
       "2                        11.8               22.2              35787   \n",
       "3                        13.4               25.5              37524   \n",
       "4                         4.5               26.2              57123   \n",
       "\n",
       "   hardship_index  \n",
       "0            39.0  \n",
       "1            46.0  \n",
       "2            20.0  \n",
       "3            17.0  \n",
       "4             6.0  "
      ]
     },
     "execution_count": 61,
     "metadata": {},
     "output_type": "execute_result"
    }
   ],
   "source": [
    "ex_y = np.array(chicago_numeric['income'])\n",
    "ex_X = chicago_numeric.drop(columns = 'income')\n",
    "ex_X.head()"
   ]
  },
  {
   "cell_type": "code",
   "execution_count": 62,
   "metadata": {},
   "outputs": [
    {
     "name": "stdout",
     "output_type": "stream",
     "text": [
      "[[ 0.76455091  0.16341619 -0.89126115 -0.18256997 -1.13545603 -0.10981094\n",
      "  -0.37098756]\n",
      " [ 0.79205781 -0.39879857 -0.87784062  0.04020494  0.38438995 -0.16935257\n",
      "  -0.12381538]\n",
      " [-0.3082184   0.19855461 -0.86442008 -0.73093897 -1.86774546  0.6748935\n",
      "  -1.04188347]\n",
      " [-0.41824602 -0.95222873 -0.95836383 -0.59384672 -1.41179167  0.78993668\n",
      "  -1.1478144 ]\n",
      " [-1.27096009 -1.25090533 -1.36097987 -1.35642237 -1.3150742   2.08799731\n",
      "  -1.53622783]]\n"
     ]
    },
    {
     "name": "stderr",
     "output_type": "stream",
     "text": [
      "/anaconda3/lib/python3.7/site-packages/ipykernel_launcher.py:6: DataConversionWarning: Data with input dtype int64, float64 were all converted to float64 by the scale function.\n",
      "  \n"
     ]
    }
   ],
   "source": [
    "ex_y = np.array(chicago_numeric['income'])\n",
    "ex_X = chicago_numeric.drop(columns = 'income')\n",
    "\n",
    "\n",
    "# Scale X.\n",
    "ex_X_scaled = scale(ex_X)\n",
    "print(ex_X_scaled[0:5])"
   ]
  },
  {
   "cell_type": "markdown",
   "metadata": {},
   "source": [
    "## Exercise 2"
   ]
  },
  {
   "cell_type": "markdown",
   "metadata": {},
   "source": [
    "#### Question 1\n",
    "###### Split the scaled data into train and test, use a 70 train - 30 test split. \n",
    "###### Name your train `ex_X_train` and `ex_y_train` and your test in the same convention.\n",
    "###### Don't forget to set the seed as `np.random.seed(2)`.\n",
    "\n"
   ]
  },
  {
   "cell_type": "code",
   "execution_count": 63,
   "metadata": {},
   "outputs": [],
   "source": [
    "np.random.seed(2)\n",
    "\n",
    "# Split into train and test.\n",
    "ex_X_train, ex_X_test, ex_y_train, ex_y_test = train_test_split(ex_X_scaled, ex_y, test_size = 0.3)"
   ]
  },
  {
   "cell_type": "markdown",
   "metadata": {},
   "source": [
    "#### Question 2\n",
    "###### Instantiate a kNN model that uses 5 nearest neighbors.\n",
    "###### Name it `ex_knn`.\n",
    "###### Fit the classifier to the data."
   ]
  },
  {
   "cell_type": "code",
   "execution_count": 64,
   "metadata": {},
   "outputs": [
    {
     "data": {
      "text/plain": [
       "KNeighborsClassifier(algorithm='auto', leaf_size=30, metric='minkowski',\n",
       "           metric_params=None, n_jobs=None, n_neighbors=5, p=2,\n",
       "           weights='uniform')"
      ]
     },
     "execution_count": 64,
     "metadata": {},
     "output_type": "execute_result"
    }
   ],
   "source": [
    "# Create KNN classifier.\n",
    "ex_knn = KNeighborsClassifier(n_neighbors = 5)\n",
    "# Fit the classifier to the data.\n",
    "ex_knn.fit(ex_X_train, ex_y_train)"
   ]
  },
  {
   "cell_type": "markdown",
   "metadata": {},
   "source": [
    "#### Question 3\n",
    "###### Predict on the test data. Save as `ex_predictions`.\n",
    "###### Print out your first 5 predictions, then look at the first 5 actual vs. predicted observations.\n",
    "###### Name actual vs predicted object as `ex_actual_v_predicted`."
   ]
  },
  {
   "cell_type": "code",
   "execution_count": 65,
   "metadata": {},
   "outputs": [
    {
     "name": "stdout",
     "output_type": "stream",
     "text": [
      "[False False  True False  True]\n"
     ]
    }
   ],
   "source": [
    "ex_predictions = ex_knn.predict(ex_X_test)\n",
    "print(ex_predictions[0:5])"
   ]
  },
  {
   "cell_type": "code",
   "execution_count": 66,
   "metadata": {},
   "outputs": [
    {
     "name": "stdout",
     "output_type": "stream",
     "text": [
      "[[False False]\n",
      " [False False]\n",
      " [ True  True]\n",
      " [False False]\n",
      " [ True  True]]\n"
     ]
    }
   ],
   "source": [
    "ex_actual_v_predicted = np.column_stack((ex_y_test, ex_predictions))\n",
    "print(ex_actual_v_predicted[0:5])"
   ]
  },
  {
   "cell_type": "markdown",
   "metadata": {},
   "source": [
    "## Exercise 3"
   ]
  },
  {
   "cell_type": "markdown",
   "metadata": {},
   "source": [
    "#### Question 1\n",
    "###### Now, let's analyze our model.\n",
    "###### Build a confusion matrix. Name it ex_cm_knn5."
   ]
  },
  {
   "cell_type": "code",
   "execution_count": 67,
   "metadata": {},
   "outputs": [
    {
     "name": "stdout",
     "output_type": "stream",
     "text": [
      "[[13  4]\n",
      " [ 0  7]]\n",
      "0.8333\n"
     ]
    }
   ],
   "source": [
    "# Confusion matrix for knn.\n",
    "ex_cm_knn5 = confusion_matrix(ex_y_test, ex_predictions)\n",
    "print(ex_cm_knn5)\n",
    "print(round(accuracy_score(ex_y_test, ex_predictions),\n",
    "4))\n"
   ]
  },
  {
   "cell_type": "markdown",
   "metadata": {},
   "source": [
    "#### Question 2\n",
    "###### Now calculate accuracy of our model by comparing our predictions to our actual values. "
   ]
  },
  {
   "cell_type": "code",
   "execution_count": 68,
   "metadata": {},
   "outputs": [
    {
     "data": {
      "text/plain": [
       "array([[13,  4],\n",
       "       [ 0,  7]])"
      ]
     },
     "execution_count": 68,
     "metadata": {},
     "output_type": "execute_result"
    }
   ],
   "source": [
    "ex_cm_knn5"
   ]
  },
  {
   "cell_type": "code",
   "execution_count": 69,
   "metadata": {},
   "outputs": [
    {
     "name": "stdout",
     "output_type": "stream",
     "text": [
      " = 13\n",
      " = 4\n",
      " = 0\n",
      " = 7\n"
     ]
    }
   ],
   "source": [
    "for i in range(2):\n",
    "    for j in range(2):\n",
    "        print(\" = \" + str(ex_cm_knn5[i][j]))"
   ]
  },
  {
   "cell_type": "code",
   "execution_count": 70,
   "metadata": {},
   "outputs": [
    {
     "data": {
      "image/png": "[encoded data removed]",
      "text/plain": [
       "<Figure size 432x288 with 1 Axes>"
      ]
     },
     "metadata": {
      "needs_background": "light"
     },
     "output_type": "display_data"
    }
   ],
   "source": [
    "plt.imshow(ex_cm_knn5, \n",
    "           interpolation = 'nearest', \n",
    "           cmap = plt.cm.Wistia)\n",
    "classNames = ['Negative', 'Positive']\n",
    "plt.title('Confusion Matrix - Test Data')\n",
    "plt.ylabel('True label')\n",
    "plt.xlabel('Predicted label')\n",
    "tick_marks = np.arange(len(classNames))\n",
    "plt.xticks(tick_marks,\n",
    "           classNames, \n",
    "           rotation = 45)\n",
    "plt.yticks(tick_marks, classNames)\n",
    "s = [['TN', 'FP'], ['FN', 'TP']]\n",
    "for i in range(2):\n",
    "    for j in range(2):\n",
    "        plt.text(j,i, str(s[i][j]) + \" = \" + str(ex_cm_knn5[i][j]))\n",
    "\n",
    "plt.show()\n"
   ]
  },
  {
   "cell_type": "markdown",
   "metadata": {},
   "source": [
    "#### Question 3\n",
    "###### Create a dictionary similar to what we created in class, where you will store final accuracy scores of all your classification models.\n",
    "###### Name it `ex_model_final_dict`. Print it."
   ]
  },
  {
   "cell_type": "code",
   "execution_count": 71,
   "metadata": {},
   "outputs": [
    {
     "name": "stdout",
     "output_type": "stream",
     "text": [
      "    metrics  values  model\n",
      "0  accuracy  0.8333  knn_5\n"
     ]
    }
   ],
   "source": [
    "# Create a dictionary with accuracy values for our knn model with k = 5.\n",
    "ex_model_final_dict = {'metrics': [\"accuracy\"],\n",
    "                    'values':[round(accuracy_score(ex_y_test, ex_predictions), 4)],\n",
    "                    'model':['knn_5']}\n",
    "ex_model_final = pd.DataFrame(data = ex_model_final_dict)\n",
    "print(ex_model_final)"
   ]
  },
  {
   "cell_type": "code",
   "execution_count": 72,
   "metadata": {},
   "outputs": [
    {
     "data": {
      "image/png": "[encoded data removed]",
      "text/plain": [
       "<Figure size 432x288 with 1 Axes>"
      ]
     },
     "metadata": {
      "needs_background": "light"
     },
     "output_type": "display_data"
    }
   ],
   "source": [
    "# Store FPR, TPR, and threshold as variables.\n",
    "ex_fpr, ex_tpr, ex_threshold = metrics.roc_curve(ex_y_test,ex_predictions)\n",
    "# Store the AUC.\n",
    "ex_roc_auc = metrics.auc(ex_fpr, ex_tpr)\n",
    "plt.title('Receiver Operating Characteristic')\n",
    "plt.plot(ex_fpr, \n",
    "         ex_tpr, \n",
    "         'b', \n",
    "         label = 'AUC = %0.2f' % ex_roc_auc)\n",
    "plt.legend(loc = 'lower right')\n",
    "plt.plot([0, 1], \n",
    "         [0, 1],\n",
    "         'r--')\n",
    "plt.xlim([0, 1])\n",
    "plt.ylim([0, 1])\n",
    "plt.ylabel('True Positive Rate')\n",
    "plt.xlabel('False Positive Rate')\n",
    "plt.show()\n",
    "\n"
   ]
  },
  {
   "cell_type": "markdown",
   "metadata": {},
   "source": [
    "## Exercise 4"
   ]
  },
  {
   "cell_type": "markdown",
   "metadata": {},
   "source": [
    "#### Question 1\n",
    "###### Create a parameter grid so that we can optimize our parameters for the model.\n",
    "###### `ex_k_range` should be 1-31.\n",
    "###### `ex_param_grid` should be a dictionary that consists of key = parameter name and values = list of values that should be searched, for that parameter.\n",
    "###### Instantiate the grid using the original model `ex_knn`. Use `GridSearchCV` with a 10 fold cv and scoring = accuracy."
   ]
  },
  {
   "cell_type": "code",
   "execution_count": 73,
   "metadata": {},
   "outputs": [
    {
     "name": "stdout",
     "output_type": "stream",
     "text": [
      "{'n_neighbors': [1, 2, 3, 4, 5, 6, 7, 8, 9, 10, 11, 12, 13, 14, 15, 16, 17, 18, 19, 20, 21, 22, 23, 24, 25, 26, 27, 28, 29, 30, 31, 32, 33, 34, 35, 36, 37, 38, 39, 40, 41, 42, 43, 44, 45, 46, 47, 48, 49, 50, 51, 52, 53, 54, 55, 56, 57, 58, 59, 60]}\n"
     ]
    }
   ],
   "source": [
    "# Define the parameter values that should be searched.\n",
    "ex_k_range = list(range(1, 61))\n",
    "\n",
    "# Create a parameter grid: map the parameter names to the values that should be searched by building a Python dictionary.\n",
    "# key: parameter name\n",
    "# value: list of values that should be searched for that parameter\n",
    "# single key-value pair for param_grid\n",
    "ex_param_grid = dict(n_neighbors = ex_k_range)\n",
    "print(ex_param_grid)\n",
    "\n",
    "# Instantiate the grid using our original model - knn with k = 3.\n",
    "ex_grid = GridSearchCV(ex_knn, \n",
    "                    ex_param_grid, \n",
    "                    cv = 10, \n",
    "                    scoring = 'accuracy')"
   ]
  },
  {
   "cell_type": "markdown",
   "metadata": {},
   "source": [
    "#### Question 2\n",
    "###### Fit the grid with data. View the complete results.\n",
    "###### Create a list of the mean scores, using `ex_grid.cv_results_`. Name the list `ex_grid_mean_scores`.\n"
   ]
  },
  {
   "cell_type": "code",
   "execution_count": 74,
   "metadata": {},
   "outputs": [
    {
     "name": "stderr",
     "output_type": "stream",
     "text": [
      "/anaconda3/lib/python3.7/site-packages/sklearn/model_selection/_search.py:841: DeprecationWarning: The default of the `iid` parameter will change from True to False in version 0.22 and will be removed in 0.24. This will change numeric results when test-set sizes are unequal.\n",
      "  DeprecationWarning)\n"
     ]
    },
    {
     "data": {
      "text/plain": [
       "GridSearchCV(cv=10, error_score='raise-deprecating',\n",
       "       estimator=KNeighborsClassifier(algorithm='auto', leaf_size=30, metric='minkowski',\n",
       "           metric_params=None, n_jobs=None, n_neighbors=5, p=2,\n",
       "           weights='uniform'),\n",
       "       fit_params=None, iid='warn', n_jobs=None,\n",
       "       param_grid={'n_neighbors': [1, 2, 3, 4, 5, 6, 7, 8, 9, 10, 11, 12, 13, 14, 15, 16, 17, 18, 19, 20, 21, 22, 23, 24, 25, 26, 27, 28, 29, 30, 31, 32, 33, 34, 35, 36, 37, 38, 39, 40, 41, 42, 43, 44, 45, 46, 47, 48, 49, 50, 51, 52, 53, 54, 55, 56, 57, 58, 59, 60]},\n",
       "       pre_dispatch='2*n_jobs', refit=True, return_train_score='warn',\n",
       "       scoring='accuracy', verbose=0)"
      ]
     },
     "execution_count": 74,
     "metadata": {},
     "output_type": "execute_result"
    }
   ],
   "source": [
    "# Fit the grid with data.\n",
    "ex_grid.fit(ex_X_scaled, ex_y)"
   ]
  },
  {
   "cell_type": "code",
   "execution_count": 75,
   "metadata": {},
   "outputs": [
    {
     "name": "stdout",
     "output_type": "stream",
     "text": [
      "[0.85897436 0.8974359  0.85897436 0.8974359  0.85897436 0.85897436\n",
      " 0.88461538 0.88461538 0.91025641 0.92307692 0.91025641 0.88461538\n",
      " 0.91025641 0.88461538 0.91025641 0.88461538 0.8974359  0.88461538\n",
      " 0.8974359  0.88461538 0.91025641 0.8974359  0.91025641 0.91025641\n",
      " 0.91025641 0.92307692 0.93589744 0.91025641 0.92307692 0.91025641\n",
      " 0.91025641 0.91025641 0.8974359  0.92307692 0.92307692 0.91025641\n",
      " 0.8974359  0.88461538 0.88461538 0.88461538 0.88461538 0.87179487\n",
      " 0.87179487 0.85897436 0.87179487 0.85897436 0.85897436 0.84615385\n",
      " 0.84615385 0.65384615 0.65384615 0.64102564 0.64102564 0.64102564\n",
      " 0.64102564 0.64102564 0.64102564 0.64102564 0.64102564 0.64102564]\n"
     ]
    }
   ],
   "source": [
    "# View the complete results (list of named tuples).\n",
    "print(ex_grid.cv_results_['mean_test_score'])\n"
   ]
  },
  {
   "cell_type": "code",
   "execution_count": 76,
   "metadata": {},
   "outputs": [
    {
     "name": "stdout",
     "output_type": "stream",
     "text": [
      "[0.8589743589743589, 0.8974358974358975, 0.8589743589743589, 0.8974358974358975, 0.8589743589743589, 0.8589743589743589, 0.8846153846153846, 0.8846153846153846, 0.9102564102564102, 0.9230769230769231, 0.9102564102564102, 0.8846153846153846, 0.9102564102564102, 0.8846153846153846, 0.9102564102564102, 0.8846153846153846, 0.8974358974358975, 0.8846153846153846, 0.8974358974358975, 0.8846153846153846, 0.9102564102564102, 0.8974358974358975, 0.9102564102564102, 0.9102564102564102, 0.9102564102564102, 0.9230769230769231, 0.9358974358974359, 0.9102564102564102, 0.9230769230769231, 0.9102564102564102, 0.9102564102564102, 0.9102564102564102, 0.8974358974358975, 0.9230769230769231, 0.9230769230769231, 0.9102564102564102, 0.8974358974358975, 0.8846153846153846, 0.8846153846153846, 0.8846153846153846, 0.8846153846153846, 0.8717948717948718, 0.8717948717948718, 0.8589743589743589, 0.8717948717948718, 0.8589743589743589, 0.8589743589743589, 0.8461538461538461, 0.8461538461538461, 0.6538461538461539, 0.6538461538461539, 0.6410256410256411, 0.6410256410256411, 0.6410256410256411, 0.6410256410256411, 0.6410256410256411, 0.6410256410256411, 0.6410256410256411, 0.6410256410256411, 0.6410256410256411]\n"
     ]
    }
   ],
   "source": [
    "# Create a list of the mean scores only by using a list comprehension to loop through grid.cv_results_.\n",
    "ex_grid_mean_scores = [result for result in ex_grid.cv_results_['mean_test_score']]\n",
    "print(ex_grid_mean_scores)"
   ]
  },
  {
   "cell_type": "markdown",
   "metadata": {},
   "source": [
    "#### Question 3\n",
    "###### Plot your grid search results (grid_mean_scores) so that you can discover optimal `k` visually.\n",
    "###### What would optimal k be from just looking at this graph?\n"
   ]
  },
  {
   "cell_type": "code",
   "execution_count": 77,
   "metadata": {},
   "outputs": [
    {
     "data": {
      "text/plain": [
       "Text(0, 0.5, 'Cross-Validated Accuracy')"
      ]
     },
     "execution_count": 77,
     "metadata": {},
     "output_type": "execute_result"
    },
    {
     "data": {
      "image/png": "[encoded data removed]",
      "text/plain": [
       "<Figure size 432x288 with 1 Axes>"
      ]
     },
     "metadata": {
      "needs_background": "light"
     },
     "output_type": "display_data"
    }
   ],
   "source": [
    "# Plot the results.\n",
    "plt.plot(ex_k_range, ex_grid_mean_scores)\n",
    "plt.xlabel('Value of K for KNN')\n",
    "plt.ylabel('Cross-Validated Accuracy')"
   ]
  },
  {
   "cell_type": "markdown",
   "metadata": {},
   "source": [
    "- Optimal k is hard to define from this graph because of the ups and down. It could be at 3, 10, 27."
   ]
  },
  {
   "cell_type": "markdown",
   "metadata": {},
   "source": [
    "#### Question 4\n",
    "###### Define the best parameters as found through grid search.\n",
    "###### Define the best score and the dictionary containing the best parameters.\n",
    "###### Then, print out the best model from the best parameters (`best_estimator_`)"
   ]
  },
  {
   "cell_type": "code",
   "execution_count": 78,
   "metadata": {},
   "outputs": [
    {
     "name": "stdout",
     "output_type": "stream",
     "text": [
      "0.9358974358974359\n",
      "{'n_neighbors': 27}\n",
      "KNeighborsClassifier(algorithm='auto', leaf_size=30, metric='minkowski',\n",
      "           metric_params=None, n_jobs=None, n_neighbors=27, p=2,\n",
      "           weights='uniform')\n"
     ]
    }
   ],
   "source": [
    "# Single best score achieved across all params (k).\n",
    "print(ex_grid.best_score_)\n",
    "ex_grid_score = ex_grid.best_score_\n",
    "\n",
    "# Dictionary containing the parameters (k) used to generate that score.\n",
    "print(ex_grid.best_params_)\n",
    "\n",
    "# Actual model object fit with those best parameters.\n",
    "# Shows default parameters that we did not specify.\n",
    "print(ex_grid.best_estimator_)\n"
   ]
  },
  {
   "cell_type": "code",
   "execution_count": 79,
   "metadata": {},
   "outputs": [
    {
     "name": "stdout",
     "output_type": "stream",
     "text": [
      "    metrics  values             model\n",
      "0  accuracy  0.8333             knn_5\n",
      "1  accuracy  0.9359  knn_GridSearchCV\n"
     ]
    }
   ],
   "source": [
    "ex_model_final = ex_model_final.append({'metrics' : \"accuracy\" ,\n",
    "'values' : round(ex_grid_score, 4),\n",
    "'model':'knn_GridSearchCV' } ,\n",
    "ignore_index = True)\n",
    "print(ex_model_final)"
   ]
  },
  {
   "cell_type": "markdown",
   "metadata": {},
   "source": [
    "#### Question 5\n",
    "###### Add the final, optimized model to your `ex_model_final` dataframe.\n",
    "###### Pickle the dataframe so that you can add new classification methods to it in the next classes."
   ]
  },
  {
   "cell_type": "code",
   "execution_count": 80,
   "metadata": {},
   "outputs": [
    {
     "name": "stdout",
     "output_type": "stream",
     "text": [
      "0.9583333333333334\n"
     ]
    }
   ],
   "source": [
    "ex_knn_best = ex_grid.best_estimator_\n",
    "# Check accuracy of our model on the test data.\n",
    "print(ex_knn_best.score(ex_X_test, ex_y_test))\n",
    "ex_knn_champ = ex_knn_best.score(ex_X_test, ex_y_test)"
   ]
  },
  {
   "cell_type": "code",
   "execution_count": 81,
   "metadata": {},
   "outputs": [
    {
     "name": "stdout",
     "output_type": "stream",
     "text": [
      "    metrics  values             model\n",
      "0  accuracy  0.8333             knn_5\n",
      "1  accuracy  0.9359  knn_GridSearchCV\n",
      "2  accuracy  0.9583            knn_27\n"
     ]
    }
   ],
   "source": [
    "# Add this final model champion to our dataframe.\n",
    "ex_model_final = ex_model_final.append({'metrics' : \"accuracy\" ,\n",
    "'values' : round(ex_knn_champ, 4),\n",
    "'model':'knn_27' } ,\n",
    "ignore_index = True)\n",
    "print(ex_model_final)\n",
    "\n",
    "pickle.dump(ex_model_final, open(\"ex_model_final.sav\",\"wb\" ))"
   ]
  },
  {
   "cell_type": "code",
   "execution_count": 94,
   "metadata": {},
   "outputs": [
    {
     "name": "stdout",
     "output_type": "stream",
     "text": [
      "27\n"
     ]
    }
   ],
   "source": [
    "n_neighbor_v = ex_grid.best_params_['n_neighbors']\n",
    "print(n_neighbor_v)"
   ]
  },
  {
   "cell_type": "code",
   "execution_count": 95,
   "metadata": {},
   "outputs": [
    {
     "data": {
      "text/plain": [
       "KNeighborsClassifier(algorithm='auto', leaf_size=30, metric='minkowski',\n",
       "           metric_params=None, n_jobs=None, n_neighbors=27, p=2,\n",
       "           weights='uniform')"
      ]
     },
     "execution_count": 95,
     "metadata": {},
     "output_type": "execute_result"
    }
   ],
   "source": [
    "# Create best KNN classifier.\n",
    "ex_knn_f = KNeighborsClassifier(n_neighbors = n_neighbor_v)\n",
    "# Fit the classifier to the data.\n",
    "ex_knn_f.fit(ex_X_train, ex_y_train)"
   ]
  },
  {
   "cell_type": "code",
   "execution_count": 96,
   "metadata": {},
   "outputs": [],
   "source": [
    "ex_predictions_f = ex_knn_f.predict(ex_X_test)"
   ]
  },
  {
   "cell_type": "code",
   "execution_count": 97,
   "metadata": {},
   "outputs": [
    {
     "data": {
      "image/png": "[encoded data removed]",
      "text/plain": [
       "<Figure size 432x288 with 1 Axes>"
      ]
     },
     "metadata": {
      "needs_background": "light"
     },
     "output_type": "display_data"
    }
   ],
   "source": [
    "ex_fpr_f, ex_tpr_f, ex_threshold_f = metrics.roc_curve(ex_y_test,ex_predictions_f)\n",
    "# Store the AUC.\n",
    "ex_roc_auc_f = metrics.auc(ex_fpr_f, ex_tpr_f)\n",
    "plt.title('Receiver Operating Characteristic')\n",
    "plt.plot(ex_fpr, \n",
    "         ex_tpr, \n",
    "         'b', \n",
    "         label = 'AUC = %0.2f' % ex_roc_auc)\n",
    "plt.plot(ex_fpr_f, \n",
    "         ex_tpr_f, \n",
    "         'g', \n",
    "         label = 'AUC_f = %0.2f' % ex_roc_auc_f)\n",
    "plt.legend(loc = 'lower right')\n",
    "plt.plot([0, 1], \n",
    "         [0, 1],\n",
    "         'r--')\n",
    "plt.xlim([0, 1])\n",
    "plt.ylim([0, 1])\n",
    "plt.ylabel('True Positive Rate')\n",
    "plt.xlabel('False Positive Rate')\n",
    "plt.show()\n"
   ]
  },
  {
   "cell_type": "code",
   "execution_count": null,
   "metadata": {},
   "outputs": [],
   "source": []
  }
 ],
 "metadata": {
  "kernelspec": {
   "display_name": "Python 3",
   "language": "python",
   "name": "python3"
  },
  "language_info": {
   "codemirror_mode": {
    "name": "ipython",
    "version": 3
   },
   "file_extension": ".py",
   "mimetype": "text/x-python",
   "name": "python",
   "nbconvert_exporter": "python",
   "pygments_lexer": "ipython3",
   "version": "3.7.1"
  }
 },
 "nbformat": 4,
 "nbformat_minor": 2
}
