{
 "cells": [
  {
   "cell_type": "code",
   "execution_count": 1,
   "metadata": {},
   "outputs": [],
   "source": [
    "\n",
    "#######################################################\n",
    "#######################################################\n",
    "############    COPYRIGHT - DATA SOCIETY   ############\n",
    "#######################################################\n",
    "#######################################################\n",
    "\n",
    "## 8 CLUSTERING DAY2 ##\n",
    "\n",
    "## NOTE: To run individual pieces of code, select the line of code and\n",
    "##       press ctrl + enter for PCs or command + enter for Macs\n",
    "\n"
   ]
  },
  {
   "cell_type": "markdown",
   "metadata": {},
   "source": [
    "Comparing different Clustering Algorithms\n",
    "\n",
    "<img src=\"https://scikit-learn.org/0.17/_images/plot_cluster_comparison_001.png\" />\n",
    "\n"
   ]
  },
  {
   "cell_type": "code",
   "execution_count": 2,
   "metadata": {},
   "outputs": [
    {
     "data": {
      "text/plain": [
       "'/Users/datasociety/Desktop/af-werx/data'"
      ]
     },
     "execution_count": 2,
     "metadata": {},
     "output_type": "execute_result"
    }
   ],
   "source": [
    "main_dir = '/Users/datasociety/Desktop/af-werx'\n",
    "data_dir = main_dir + \"/data\"\n",
    "data_dir"
   ]
  },
  {
   "cell_type": "code",
   "execution_count": 3,
   "metadata": {},
   "outputs": [],
   "source": [
    "import os\n",
    "import pandas as pd\n",
    "import numpy as np\n",
    "import matplotlib.pyplot as plt\n",
    "from sklearn.cluster import DBSCAN\n",
    "from sklearn.preprocessing import StandardScaler, MinMaxScaler\n",
    "from sklearn.neighbors import NearestNeighbors\n",
    "from sklearn.model_selection import train_test_split\n",
    "from sklearn.decomposition import PCA\n",
    "np.set_printoptions(suppress=True) #<- suppress scientific notations"
   ]
  },
  {
   "cell_type": "code",
   "execution_count": 4,
   "metadata": {},
   "outputs": [
    {
     "data": {
      "text/plain": [
       "'/Users/datasociety/Desktop/af-werx/data'"
      ]
     },
     "execution_count": 4,
     "metadata": {},
     "output_type": "execute_result"
    }
   ],
   "source": [
    "# Set working directory.\n",
    "os.chdir(data_dir)\n",
    "# Check working directory.\n",
    "os.getcwd()"
   ]
  },
  {
   "cell_type": "code",
   "execution_count": 5,
   "metadata": {},
   "outputs": [
    {
     "data": {
      "text/html": [
       "<div>\n",
       "<style scoped>\n",
       "    .dataframe tbody tr th:only-of-type {\n",
       "        vertical-align: middle;\n",
       "    }\n",
       "\n",
       "    .dataframe tbody tr th {\n",
       "        vertical-align: top;\n",
       "    }\n",
       "\n",
       "    .dataframe thead th {\n",
       "        text-align: right;\n",
       "    }\n",
       "</style>\n",
       "<table border=\"1\" class=\"dataframe\">\n",
       "  <thead>\n",
       "    <tr style=\"text-align: right;\">\n",
       "      <th></th>\n",
       "      <th>Yield</th>\n",
       "      <th>BiologicalMaterial01</th>\n",
       "      <th>BiologicalMaterial02</th>\n",
       "      <th>BiologicalMaterial03</th>\n",
       "      <th>BiologicalMaterial04</th>\n",
       "      <th>BiologicalMaterial05</th>\n",
       "      <th>BiologicalMaterial06</th>\n",
       "      <th>BiologicalMaterial07</th>\n",
       "      <th>BiologicalMaterial08</th>\n",
       "      <th>BiologicalMaterial09</th>\n",
       "      <th>...</th>\n",
       "      <th>ManufacturingProcess36</th>\n",
       "      <th>ManufacturingProcess37</th>\n",
       "      <th>ManufacturingProcess38</th>\n",
       "      <th>ManufacturingProcess39</th>\n",
       "      <th>ManufacturingProcess40</th>\n",
       "      <th>ManufacturingProcess41</th>\n",
       "      <th>ManufacturingProcess42</th>\n",
       "      <th>ManufacturingProcess43</th>\n",
       "      <th>ManufacturingProcess44</th>\n",
       "      <th>ManufacturingProcess45</th>\n",
       "    </tr>\n",
       "  </thead>\n",
       "  <tbody>\n",
       "    <tr>\n",
       "      <th>0</th>\n",
       "      <td>38.00</td>\n",
       "      <td>6.25</td>\n",
       "      <td>49.58</td>\n",
       "      <td>56.97</td>\n",
       "      <td>12.74</td>\n",
       "      <td>19.51</td>\n",
       "      <td>43.73</td>\n",
       "      <td>100.0</td>\n",
       "      <td>16.66</td>\n",
       "      <td>11.44</td>\n",
       "      <td>...</td>\n",
       "      <td>0.019</td>\n",
       "      <td>0.5</td>\n",
       "      <td>3</td>\n",
       "      <td>7.2</td>\n",
       "      <td>NaN</td>\n",
       "      <td>NaN</td>\n",
       "      <td>11.6</td>\n",
       "      <td>3.0</td>\n",
       "      <td>1.8</td>\n",
       "      <td>2.4</td>\n",
       "    </tr>\n",
       "    <tr>\n",
       "      <th>1</th>\n",
       "      <td>42.44</td>\n",
       "      <td>8.01</td>\n",
       "      <td>60.97</td>\n",
       "      <td>67.48</td>\n",
       "      <td>14.65</td>\n",
       "      <td>19.36</td>\n",
       "      <td>53.14</td>\n",
       "      <td>100.0</td>\n",
       "      <td>19.04</td>\n",
       "      <td>12.55</td>\n",
       "      <td>...</td>\n",
       "      <td>0.019</td>\n",
       "      <td>2.0</td>\n",
       "      <td>2</td>\n",
       "      <td>7.2</td>\n",
       "      <td>0.1</td>\n",
       "      <td>0.15</td>\n",
       "      <td>11.1</td>\n",
       "      <td>0.9</td>\n",
       "      <td>1.9</td>\n",
       "      <td>2.2</td>\n",
       "    </tr>\n",
       "    <tr>\n",
       "      <th>2</th>\n",
       "      <td>42.03</td>\n",
       "      <td>8.01</td>\n",
       "      <td>60.97</td>\n",
       "      <td>67.48</td>\n",
       "      <td>14.65</td>\n",
       "      <td>19.36</td>\n",
       "      <td>53.14</td>\n",
       "      <td>100.0</td>\n",
       "      <td>19.04</td>\n",
       "      <td>12.55</td>\n",
       "      <td>...</td>\n",
       "      <td>0.018</td>\n",
       "      <td>0.7</td>\n",
       "      <td>2</td>\n",
       "      <td>7.2</td>\n",
       "      <td>0.0</td>\n",
       "      <td>0.00</td>\n",
       "      <td>12.0</td>\n",
       "      <td>1.0</td>\n",
       "      <td>1.8</td>\n",
       "      <td>2.3</td>\n",
       "    </tr>\n",
       "    <tr>\n",
       "      <th>3</th>\n",
       "      <td>41.42</td>\n",
       "      <td>8.01</td>\n",
       "      <td>60.97</td>\n",
       "      <td>67.48</td>\n",
       "      <td>14.65</td>\n",
       "      <td>19.36</td>\n",
       "      <td>53.14</td>\n",
       "      <td>100.0</td>\n",
       "      <td>19.04</td>\n",
       "      <td>12.55</td>\n",
       "      <td>...</td>\n",
       "      <td>0.018</td>\n",
       "      <td>1.2</td>\n",
       "      <td>2</td>\n",
       "      <td>7.2</td>\n",
       "      <td>0.0</td>\n",
       "      <td>0.00</td>\n",
       "      <td>10.6</td>\n",
       "      <td>1.1</td>\n",
       "      <td>1.8</td>\n",
       "      <td>2.1</td>\n",
       "    </tr>\n",
       "    <tr>\n",
       "      <th>4</th>\n",
       "      <td>42.49</td>\n",
       "      <td>7.47</td>\n",
       "      <td>63.33</td>\n",
       "      <td>72.25</td>\n",
       "      <td>14.02</td>\n",
       "      <td>17.91</td>\n",
       "      <td>54.66</td>\n",
       "      <td>100.0</td>\n",
       "      <td>18.22</td>\n",
       "      <td>12.80</td>\n",
       "      <td>...</td>\n",
       "      <td>0.017</td>\n",
       "      <td>0.2</td>\n",
       "      <td>2</td>\n",
       "      <td>7.3</td>\n",
       "      <td>0.0</td>\n",
       "      <td>0.00</td>\n",
       "      <td>11.0</td>\n",
       "      <td>1.1</td>\n",
       "      <td>1.7</td>\n",
       "      <td>2.1</td>\n",
       "    </tr>\n",
       "  </tbody>\n",
       "</table>\n",
       "<p>5 rows × 58 columns</p>\n",
       "</div>"
      ],
      "text/plain": [
       "   Yield  BiologicalMaterial01  BiologicalMaterial02  BiologicalMaterial03  \\\n",
       "0  38.00                  6.25                 49.58                 56.97   \n",
       "1  42.44                  8.01                 60.97                 67.48   \n",
       "2  42.03                  8.01                 60.97                 67.48   \n",
       "3  41.42                  8.01                 60.97                 67.48   \n",
       "4  42.49                  7.47                 63.33                 72.25   \n",
       "\n",
       "   BiologicalMaterial04  BiologicalMaterial05  BiologicalMaterial06  \\\n",
       "0                 12.74                 19.51                 43.73   \n",
       "1                 14.65                 19.36                 53.14   \n",
       "2                 14.65                 19.36                 53.14   \n",
       "3                 14.65                 19.36                 53.14   \n",
       "4                 14.02                 17.91                 54.66   \n",
       "\n",
       "   BiologicalMaterial07  BiologicalMaterial08  BiologicalMaterial09  \\\n",
       "0                 100.0                 16.66                 11.44   \n",
       "1                 100.0                 19.04                 12.55   \n",
       "2                 100.0                 19.04                 12.55   \n",
       "3                 100.0                 19.04                 12.55   \n",
       "4                 100.0                 18.22                 12.80   \n",
       "\n",
       "            ...            ManufacturingProcess36  ManufacturingProcess37  \\\n",
       "0           ...                             0.019                     0.5   \n",
       "1           ...                             0.019                     2.0   \n",
       "2           ...                             0.018                     0.7   \n",
       "3           ...                             0.018                     1.2   \n",
       "4           ...                             0.017                     0.2   \n",
       "\n",
       "   ManufacturingProcess38  ManufacturingProcess39  ManufacturingProcess40  \\\n",
       "0                       3                     7.2                     NaN   \n",
       "1                       2                     7.2                     0.1   \n",
       "2                       2                     7.2                     0.0   \n",
       "3                       2                     7.2                     0.0   \n",
       "4                       2                     7.3                     0.0   \n",
       "\n",
       "   ManufacturingProcess41  ManufacturingProcess42  ManufacturingProcess43  \\\n",
       "0                     NaN                    11.6                     3.0   \n",
       "1                    0.15                    11.1                     0.9   \n",
       "2                    0.00                    12.0                     1.0   \n",
       "3                    0.00                    10.6                     1.1   \n",
       "4                    0.00                    11.0                     1.1   \n",
       "\n",
       "   ManufacturingProcess44  ManufacturingProcess45  \n",
       "0                     1.8                     2.4  \n",
       "1                     1.9                     2.2  \n",
       "2                     1.8                     2.3  \n",
       "3                     1.8                     2.1  \n",
       "4                     1.7                     2.1  \n",
       "\n",
       "[5 rows x 58 columns]"
      ]
     },
     "execution_count": 5,
     "metadata": {},
     "output_type": "execute_result"
    }
   ],
   "source": [
    "#### Slide 19: Load the dataset  ####\n",
    "CMP = pd.read_csv(\"ChemicalManufacturingProcess.csv\")\n",
    "CMP.head()"
   ]
  },
  {
   "cell_type": "code",
   "execution_count": 6,
   "metadata": {},
   "outputs": [
    {
     "data": {
      "text/html": [
       "<div>\n",
       "<style scoped>\n",
       "    .dataframe tbody tr th:only-of-type {\n",
       "        vertical-align: middle;\n",
       "    }\n",
       "\n",
       "    .dataframe tbody tr th {\n",
       "        vertical-align: top;\n",
       "    }\n",
       "\n",
       "    .dataframe thead th {\n",
       "        text-align: right;\n",
       "    }\n",
       "</style>\n",
       "<table border=\"1\" class=\"dataframe\">\n",
       "  <thead>\n",
       "    <tr style=\"text-align: right;\">\n",
       "      <th></th>\n",
       "      <th>BiologicalMaterial01</th>\n",
       "      <th>BiologicalMaterial10</th>\n",
       "    </tr>\n",
       "  </thead>\n",
       "  <tbody>\n",
       "    <tr>\n",
       "      <th>0</th>\n",
       "      <td>6.25</td>\n",
       "      <td>3.46</td>\n",
       "    </tr>\n",
       "    <tr>\n",
       "      <th>1</th>\n",
       "      <td>8.01</td>\n",
       "      <td>3.46</td>\n",
       "    </tr>\n",
       "    <tr>\n",
       "      <th>2</th>\n",
       "      <td>8.01</td>\n",
       "      <td>3.46</td>\n",
       "    </tr>\n",
       "    <tr>\n",
       "      <th>3</th>\n",
       "      <td>8.01</td>\n",
       "      <td>3.46</td>\n",
       "    </tr>\n",
       "    <tr>\n",
       "      <th>4</th>\n",
       "      <td>7.47</td>\n",
       "      <td>3.05</td>\n",
       "    </tr>\n",
       "  </tbody>\n",
       "</table>\n",
       "</div>"
      ],
      "text/plain": [
       "   BiologicalMaterial01  BiologicalMaterial10\n",
       "0                  6.25                  3.46\n",
       "1                  8.01                  3.46\n",
       "2                  8.01                  3.46\n",
       "3                  8.01                  3.46\n",
       "4                  7.47                  3.05"
      ]
     },
     "execution_count": 6,
     "metadata": {},
     "output_type": "execute_result"
    }
   ],
   "source": [
    "#### Slide 20: Subset the data  ####\n",
    "\n",
    "# Subset two variables from CMP dataset\n",
    "CMP_subset = CMP[['BiologicalMaterial01', 'BiologicalMaterial10']]\n",
    "CMP_subset.head()"
   ]
  },
  {
   "cell_type": "code",
   "execution_count": 7,
   "metadata": {},
   "outputs": [
    {
     "data": {
      "text/plain": [
       "BiologicalMaterial01    0\n",
       "BiologicalMaterial10    0\n",
       "dtype: int64"
      ]
     },
     "execution_count": 7,
     "metadata": {},
     "output_type": "execute_result"
    }
   ],
   "source": [
    "#### Slide 21: Data cleaning: NAs  ####\n",
    "CMP_subset.isnull().sum()"
   ]
  },
  {
   "cell_type": "code",
   "execution_count": 8,
   "metadata": {},
   "outputs": [
    {
     "data": {
      "text/plain": [
       "BiologicalMaterial01    float64\n",
       "BiologicalMaterial10    float64\n",
       "dtype: object"
      ]
     },
     "execution_count": 8,
     "metadata": {},
     "output_type": "execute_result"
    }
   ],
   "source": [
    "#### Slide 22: Numeric variables  ####\n",
    "\n",
    "# Check data type of our variables.\n",
    "CMP_subset.dtypes"
   ]
  },
  {
   "cell_type": "code",
   "execution_count": 9,
   "metadata": {},
   "outputs": [
    {
     "data": {
      "text/html": [
       "<div>\n",
       "<style scoped>\n",
       "    .dataframe tbody tr th:only-of-type {\n",
       "        vertical-align: middle;\n",
       "    }\n",
       "\n",
       "    .dataframe tbody tr th {\n",
       "        vertical-align: top;\n",
       "    }\n",
       "\n",
       "    .dataframe thead th {\n",
       "        text-align: right;\n",
       "    }\n",
       "</style>\n",
       "<table border=\"1\" class=\"dataframe\">\n",
       "  <thead>\n",
       "    <tr style=\"text-align: right;\">\n",
       "      <th></th>\n",
       "      <th>BiologicalMaterial01</th>\n",
       "      <th>BiologicalMaterial10</th>\n",
       "    </tr>\n",
       "  </thead>\n",
       "  <tbody>\n",
       "    <tr>\n",
       "      <th>0</th>\n",
       "      <td>6.25</td>\n",
       "      <td>3.46</td>\n",
       "    </tr>\n",
       "    <tr>\n",
       "      <th>1</th>\n",
       "      <td>8.01</td>\n",
       "      <td>3.46</td>\n",
       "    </tr>\n",
       "    <tr>\n",
       "      <th>2</th>\n",
       "      <td>8.01</td>\n",
       "      <td>3.46</td>\n",
       "    </tr>\n",
       "    <tr>\n",
       "      <th>3</th>\n",
       "      <td>8.01</td>\n",
       "      <td>3.46</td>\n",
       "    </tr>\n",
       "    <tr>\n",
       "      <th>4</th>\n",
       "      <td>7.47</td>\n",
       "      <td>3.05</td>\n",
       "    </tr>\n",
       "  </tbody>\n",
       "</table>\n",
       "</div>"
      ],
      "text/plain": [
       "   BiologicalMaterial01  BiologicalMaterial10\n",
       "0                  6.25                  3.46\n",
       "1                  8.01                  3.46\n",
       "2                  8.01                  3.46\n",
       "3                  8.01                  3.46\n",
       "4                  7.47                  3.05"
      ]
     },
     "execution_count": 9,
     "metadata": {},
     "output_type": "execute_result"
    }
   ],
   "source": [
    "#### Slide 24: StandardScalar  ####\n",
    "\n",
    "# Instantiate Scaler.\n",
    "scaler = StandardScaler()\n",
    "\n",
    "# Scale the dataframe.\n",
    "CMP_subset_scaled = scaler.fit_transform(CMP_subset)\n",
    "# Convert back to dataframe, making sure to name the columns again.\n",
    "CMP_subset_scaled = pd.DataFrame(CMP_subset, columns = CMP_subset.columns)\n",
    "CMP_subset.head()"
   ]
  },
  {
   "cell_type": "code",
   "execution_count": 10,
   "metadata": {},
   "outputs": [
    {
     "data": {
      "text/plain": [
       "Text(0, 0.5, 'BiologicalMaterial10')"
      ]
     },
     "execution_count": 10,
     "metadata": {},
     "output_type": "execute_result"
    },
    {
     "data": {
      "image/png": "[encoded data removed]",
      "text/plain": [
       "<Figure size 432x288 with 1 Axes>"
      ]
     },
     "metadata": {
      "needs_background": "light"
     },
     "output_type": "display_data"
    }
   ],
   "source": [
    "#### Slide 25: Visualize data  ####\n",
    "\n",
    "plt.scatter(\n",
    "    CMP_subset_scaled['BiologicalMaterial01'],\n",
    "    CMP_subset_scaled['BiologicalMaterial10'],\n",
    "    label='True Position'\n",
    ")\n",
    "plt.title('BiologicalMaterial01 vs BiologicalMaterial10')\n",
    "plt.xlabel('BiologicalMaterial01')\n",
    "plt.ylabel('BiologicalMaterial10')\n",
    "\n"
   ]
  },
  {
   "cell_type": "code",
   "execution_count": 11,
   "metadata": {},
   "outputs": [],
   "source": [
    "#### Slide 27: Exercise 1  ####"
   ]
  },
  {
   "cell_type": "markdown",
   "metadata": {},
   "source": [
    "DBSCAN Algorithm\n",
    "\n",
    "<img src=\"https://media.giphy.com/media/OVJBPIB6oL3a0/giphy.gif\" />\n",
    "\n",
    "<img src=\"https://media0.giphy.com/media/lCL2GQewp7fkk/giphy.gif\" />\n"
   ]
  },
  {
   "cell_type": "code",
   "execution_count": 12,
   "metadata": {},
   "outputs": [],
   "source": [
    "#### Slide 30: DBSCAN: model   ####\n",
    "\n",
    "# Let's run DBSCAN.\n",
    "dbscan = DBSCAN(eps=0.4, min_samples = 3)\n",
    "clusters = dbscan.fit_predict(CMP_subset_scaled)"
   ]
  },
  {
   "cell_type": "code",
   "execution_count": 13,
   "metadata": {},
   "outputs": [
    {
     "data": {
      "text/plain": [
       "Text(0, 0.5, 'BiologicalMaterial10')"
      ]
     },
     "execution_count": 13,
     "metadata": {},
     "output_type": "execute_result"
    },
    {
     "data": {
      "image/png": "[encoded data removed]",
      "text/plain": [
       "<Figure size 432x288 with 1 Axes>"
      ]
     },
     "metadata": {
      "needs_background": "light"
     },
     "output_type": "display_data"
    }
   ],
   "source": [
    "#=================================================-\n",
    "#### Slide 31: DBSCAN: plot  ####\n",
    "\n",
    "# Plot the cluster assignments.\n",
    "plt.scatter(\n",
    "    CMP_subset_scaled['BiologicalMaterial01'],\n",
    "    CMP_subset_scaled['BiologicalMaterial10'],\n",
    "    c = clusters,\n",
    "    cmap = \"brg\",\n",
    "    label='True Position'\n",
    ")\n",
    "\n",
    "plt.title('BiologicalMaterial01 vs BiologicalMaterial10')\n",
    "plt.xlabel('BiologicalMaterial01')\n",
    "plt.ylabel('BiologicalMaterial10')"
   ]
  },
  {
   "cell_type": "code",
   "execution_count": 14,
   "metadata": {},
   "outputs": [],
   "source": [
    "#=================================================-\n",
    "#### Slide 33: DBSCAN: optimizing eps  ####\n",
    "\n",
    "# Let's define the parameters needed for the functions.\n",
    "n_trainingData = 0          # amount of training data evaluated using KNNdistPlot\n",
    "labels = 0                  # array containing the labels of every point on the plane\n",
    "n_clusters = 0              # number of clusters\n",
    "\n",
    "\n",
    "def Get_distanceMean(points,minPts,previous_distanceMean):\n",
    "    \"\"\"\n",
    "        points: list containing the training points you want to use\n",
    "        minPts: minimum number of points to be considered a cluster\n",
    "        previous_distanceMean: the previous mean of the distances\n",
    "        return: average distance between the points\n",
    "    \"\"\"        \n",
    "    if (minPts < len(points)):\n",
    "        nbrs = NearestNeighbors(n_neighbors=minPts).fit(points)\n",
    "        distances, indices = nbrs.kneighbors(points)\n",
    "        d_mean = distances.mean()\n",
    "        return d_mean\n",
    "    else:\n",
    "        return previous_distanceMean\n"
   ]
  },
  {
   "cell_type": "code",
   "execution_count": 15,
   "metadata": {},
   "outputs": [],
   "source": [
    "#### Slide 34: DBSCAN: k-distance graph  ####\n",
    "\n",
    "def KNNdist_plot(points,minPts):\n",
    "        # set trace for dubugging\n",
    "        #import pdb; pdb.set_trace() \n",
    "        epsPlot = []\n",
    "        current_distanceMean = previous_distanceMean = 0\n",
    "        knee_value = knee_found = 0\n",
    "    \n",
    "        for i in range (0,len(points),5):\n",
    "            current_distanceMean = Get_distanceMean(points[i:],minPts,previous_distanceMean)\n",
    "            df = current_distanceMean - previous_distanceMean\n",
    "            \n",
    "            if ((df > 0.02) & (i > 1) & (knee_found == 0)):\n",
    "                knee_value = current_distanceMean\n",
    "                knee_found = 1\n",
    "                n_trainingData = i\n",
    "                \n",
    "            epsPlot.append( [i,current_distanceMean] )\n",
    "            previous_distanceMean = current_distanceMean\n",
    "        \n",
    "        # Plot the kNNdistPlot.\n",
    "        for i in range(0, len(epsPlot)):\n",
    "                    plt.scatter(epsPlot[i][0],epsPlot[i][1],c='r',s=3,marker='o')\n",
    "        plt.axhline(y=knee_value, color='g', linestyle='-')\n",
    "        plt.axvline(x=n_trainingData , color='g', linestyle='-')\n",
    "        plt.title(\"kNN distance\")\n",
    "        plt.show()\n",
    "        print(\"Knee value: x=\" + str(n_trainingData) + \" , y=\" + str(knee_value))\n",
    "        print(\"Optimal eps value:\" + str(knee_value))\n",
    "        return knee_value"
   ]
  },
  {
   "cell_type": "code",
   "execution_count": 16,
   "metadata": {},
   "outputs": [],
   "source": [
    "# set trace for dubugging\n",
    "#import pdb; pdb.set_trace() # goes inside a def"
   ]
  },
  {
   "cell_type": "code",
   "execution_count": 17,
   "metadata": {},
   "outputs": [
    {
     "data": {
      "image/png": "[encoded data removed]",
      "text/plain": [
       "<Figure size 432x288 with 1 Axes>"
      ]
     },
     "metadata": {
      "needs_background": "light"
     },
     "output_type": "display_data"
    },
    {
     "name": "stdout",
     "output_type": "stream",
     "text": [
      "Knee value: x=155 , y=0.11982332963547687\n",
      "Optimal eps value:0.11982332963547687\n"
     ]
    }
   ],
   "source": [
    "#### Slide 35: DBSCAN: k-distance graph  ####\n",
    "knee_v = KNNdist_plot(CMP_subset_scaled, 3)"
   ]
  },
  {
   "cell_type": "code",
   "execution_count": 29,
   "metadata": {},
   "outputs": [],
   "source": [
    "#### Slide 36: DBSCAN: optimized model  ####\n",
    "\n",
    "# DBSCAN\n",
    "dbscan = DBSCAN(eps=knee_v, min_samples = 3)\n",
    "optimized_clusters = dbscan.fit_predict(CMP_subset_scaled)"
   ]
  },
  {
   "cell_type": "code",
   "execution_count": 30,
   "metadata": {},
   "outputs": [
    {
     "data": {
      "text/plain": [
       "Text(0, 0.5, 'BiologicalMaterial10')"
      ]
     },
     "execution_count": 30,
     "metadata": {},
     "output_type": "execute_result"
    },
    {
     "data": {
      "image/png": "[encoded data removed]",
      "text/plain": [
       "<Figure size 432x288 with 1 Axes>"
      ]
     },
     "metadata": {
      "needs_background": "light"
     },
     "output_type": "display_data"
    }
   ],
   "source": [
    "#### Slide 37: DBSCAN: plot optimized scatterplot  ####\n",
    "\n",
    "# Plot the cluster assignments.\n",
    "plt.scatter(\n",
    "    CMP_subset_scaled['BiologicalMaterial01'],\n",
    "    CMP_subset_scaled['BiologicalMaterial10'],\n",
    "    c = optimized_clusters,\n",
    "    cmap=\"inferno\",\n",
    "    label='True Position'\n",
    ")\n",
    "\n",
    "plt.title('BiologicalMaterial01 vs BiologicalMaterial10')\n",
    "plt.xlabel('BiologicalMaterial01')\n",
    "plt.ylabel('BiologicalMaterial10')"
   ]
  },
  {
   "cell_type": "code",
   "execution_count": 20,
   "metadata": {},
   "outputs": [],
   "source": [
    "#### Slide 40: Exercise 2  ####"
   ]
  },
  {
   "cell_type": "code",
   "execution_count": 31,
   "metadata": {},
   "outputs": [
    {
     "data": {
      "text/plain": [
       "Yield                     0\n",
       "BiologicalMaterial01      0\n",
       "BiologicalMaterial02      0\n",
       "BiologicalMaterial03      0\n",
       "BiologicalMaterial04      0\n",
       "BiologicalMaterial05      0\n",
       "BiologicalMaterial06      0\n",
       "BiologicalMaterial07      0\n",
       "BiologicalMaterial08      0\n",
       "BiologicalMaterial09      0\n",
       "BiologicalMaterial10      0\n",
       "BiologicalMaterial11      0\n",
       "BiologicalMaterial12      0\n",
       "ManufacturingProcess01    0\n",
       "ManufacturingProcess02    0\n",
       "ManufacturingProcess03    0\n",
       "ManufacturingProcess04    0\n",
       "ManufacturingProcess05    0\n",
       "ManufacturingProcess06    0\n",
       "ManufacturingProcess07    0\n",
       "ManufacturingProcess08    0\n",
       "ManufacturingProcess09    0\n",
       "ManufacturingProcess10    0\n",
       "ManufacturingProcess11    0\n",
       "ManufacturingProcess12    0\n",
       "ManufacturingProcess13    0\n",
       "ManufacturingProcess14    0\n",
       "ManufacturingProcess15    0\n",
       "ManufacturingProcess16    0\n",
       "ManufacturingProcess17    0\n",
       "ManufacturingProcess18    0\n",
       "ManufacturingProcess19    0\n",
       "ManufacturingProcess20    0\n",
       "ManufacturingProcess21    0\n",
       "ManufacturingProcess22    0\n",
       "ManufacturingProcess23    0\n",
       "ManufacturingProcess24    0\n",
       "ManufacturingProcess25    0\n",
       "ManufacturingProcess26    0\n",
       "ManufacturingProcess27    0\n",
       "ManufacturingProcess28    0\n",
       "ManufacturingProcess29    0\n",
       "ManufacturingProcess30    0\n",
       "ManufacturingProcess31    0\n",
       "ManufacturingProcess32    0\n",
       "ManufacturingProcess33    0\n",
       "ManufacturingProcess34    0\n",
       "ManufacturingProcess35    0\n",
       "ManufacturingProcess36    0\n",
       "ManufacturingProcess37    0\n",
       "ManufacturingProcess38    0\n",
       "ManufacturingProcess39    0\n",
       "ManufacturingProcess40    0\n",
       "ManufacturingProcess41    0\n",
       "ManufacturingProcess42    0\n",
       "ManufacturingProcess43    0\n",
       "ManufacturingProcess44    0\n",
       "ManufacturingProcess45    0\n",
       "dtype: int64"
      ]
     },
     "execution_count": 31,
     "metadata": {},
     "output_type": "execute_result"
    }
   ],
   "source": [
    "CMP.isnull().sum()"
   ]
  },
  {
   "cell_type": "code",
   "execution_count": 32,
   "metadata": {},
   "outputs": [],
   "source": [
    "#### Slide 63: Data cleaning: NAs  ####\n",
    "\n",
    "def ImputeNAwithMean(dataset):\n",
    "    for i in range(0, dataset.shape[1]):\n",
    "        CMP.iloc[:, i].fillna(CMP.iloc[:, i].mean(), inplace = True)\n",
    "\n",
    "ImputeNAwithMean(CMP)"
   ]
  },
  {
   "cell_type": "code",
   "execution_count": 33,
   "metadata": {},
   "outputs": [],
   "source": [
    "#### Slide 64: Running PCA: outcome variable  ####\n",
    "\n",
    "y = CMP[['Yield']]\n",
    "X = CMP.drop(['Yield'], axis = 1)"
   ]
  },
  {
   "cell_type": "code",
   "execution_count": 34,
   "metadata": {},
   "outputs": [
    {
     "name": "stderr",
     "output_type": "stream",
     "text": [
      "/anaconda3/lib/python3.7/site-packages/sklearn/preprocessing/data.py:625: DataConversionWarning: Data with input dtype int64, float64 were all converted to float64 by StandardScaler.\n",
      "  return self.partial_fit(X, y)\n",
      "/anaconda3/lib/python3.7/site-packages/sklearn/base.py:462: DataConversionWarning: Data with input dtype int64, float64 were all converted to float64 by StandardScaler.\n",
      "  return self.fit(X, **fit_params).transform(X)\n"
     ]
    }
   ],
   "source": [
    "#### Slide 65: PCA: scaling our data  ####\n",
    "\n",
    "sc = StandardScaler()\n",
    "X = sc.fit_transform(X) # <- fits the data, then transforms it"
   ]
  },
  {
   "cell_type": "code",
   "execution_count": 37,
   "metadata": {},
   "outputs": [
    {
     "data": {
      "text/plain": [
       "array([[ 1.8103035 , -0.16068295, -2.55010525, ..., -0.01909473,\n",
       "        -0.01961089,  0.        ],\n",
       "       [-6.30850362,  0.14408354, -0.416486  , ..., -0.03131058,\n",
       "         0.0000835 , -0.        ],\n",
       "       [-6.33284024,  1.46192552, -1.07694984, ...,  0.02203391,\n",
       "         0.00079282,  0.        ],\n",
       "       ...,\n",
       "       [-1.97470716, -7.35401416,  7.08545549, ..., -0.02450514,\n",
       "         0.01711104, -0.        ],\n",
       "       [-2.52387545, -7.62398094,  7.04741544, ..., -0.00764151,\n",
       "        -0.02465447,  0.        ],\n",
       "       [-2.86349627, -7.03039762,  6.73177619, ...,  0.02191039,\n",
       "        -0.02866175,  0.        ]])"
      ]
     },
     "execution_count": 37,
     "metadata": {},
     "output_type": "execute_result"
    }
   ],
   "source": [
    "#### Slide 67: Running PCA  ####\n",
    "\n",
    "pca = PCA()\n",
    "X_pca = pca.fit_transform(X)\n",
    "X_pca"
   ]
  },
  {
   "cell_type": "code",
   "execution_count": 38,
   "metadata": {},
   "outputs": [
    {
     "data": {
      "text/plain": [
       "array([0.18103851, 0.09834738, 0.09457927, 0.07409538, 0.0532337 ,\n",
       "       0.04600286, 0.04347031, 0.04148782, 0.03658387, 0.03346445,\n",
       "       0.02865301, 0.02527776, 0.02198857, 0.02145875, 0.02037568,\n",
       "       0.01862916, 0.01809444, 0.01487389, 0.01347901, 0.01166374,\n",
       "       0.01113735, 0.00986294, 0.00922804, 0.00912082, 0.00833892,\n",
       "       0.00739484, 0.00704992, 0.0058547 , 0.0048006 , 0.0047724 ,\n",
       "       0.00343182, 0.00283547, 0.0026427 , 0.00241197, 0.00195101,\n",
       "       0.00183364, 0.00166188, 0.001547  , 0.00129235, 0.00120568,\n",
       "       0.00090652, 0.00074499, 0.00061195, 0.0005471 , 0.00041759,\n",
       "       0.00039766, 0.0003221 , 0.00026719, 0.00023839, 0.00016623,\n",
       "       0.00008855, 0.00004313, 0.0000396 , 0.00002632, 0.00000865,\n",
       "       0.00000239, 0.        ])"
      ]
     },
     "execution_count": 38,
     "metadata": {},
     "output_type": "execute_result"
    }
   ],
   "source": [
    "#### Slide 69: PCA: explained variance  ####\n",
    "\n",
    "# The amount of variance that each PC explains.\n",
    "explained_variance = pca.explained_variance_ratio_\n",
    "explained_variance"
   ]
  },
  {
   "cell_type": "code",
   "execution_count": 39,
   "metadata": {},
   "outputs": [
    {
     "data": {
      "text/plain": [
       "array([18.1 , 27.93, 37.39, 44.8 , 50.12, 54.72, 59.07, 63.22, 66.88,\n",
       "       70.23, 73.1 , 75.63, 77.83, 79.98, 82.02, 83.88, 85.69, 87.18,\n",
       "       88.53, 89.7 , 90.81, 91.8 , 92.72, 93.63, 94.46, 95.2 , 95.9 ,\n",
       "       96.49, 96.97, 97.45, 97.79, 98.07, 98.33, 98.57, 98.77, 98.95,\n",
       "       99.12, 99.27, 99.4 , 99.52, 99.61, 99.68, 99.74, 99.79, 99.83,\n",
       "       99.87, 99.9 , 99.93, 99.95, 99.97, 99.98, 99.98, 99.98, 99.98,\n",
       "       99.98, 99.98, 99.98])"
      ]
     },
     "execution_count": 39,
     "metadata": {},
     "output_type": "execute_result"
    }
   ],
   "source": [
    "#### Slide 70: Computing cumulative variance explained  ####\n",
    "\n",
    "cum_percent_var_explained = np.cumsum(np.round(pca.explained_variance_ratio_, decimals=4)*100)\n",
    "cum_percent_var_explained"
   ]
  },
  {
   "cell_type": "code",
   "execution_count": 40,
   "metadata": {},
   "outputs": [
    {
     "data": {
      "text/plain": [
       "array([18.1 , 27.93, 37.39, 44.8 , 50.12, 54.72, 59.07, 63.22, 66.88,\n",
       "       70.23])"
      ]
     },
     "execution_count": 40,
     "metadata": {},
     "output_type": "execute_result"
    }
   ],
   "source": [
    "#### Slide 71: PCA: choosing the dimensions to retain  ####\n",
    "\n",
    "pca_10 = PCA(n_components = 10)\n",
    "X_10_pca = pca_10.fit_transform(X)\n",
    "\n",
    "pca_10.explained_variance_ratio_\n",
    "cum_percent_var_explained_10 = np.cumsum(np.round(pca_10.explained_variance_ratio_, decimals=4)*100)\n",
    "cum_percent_var_explained_10"
   ]
  },
  {
   "cell_type": "code",
   "execution_count": null,
   "metadata": {},
   "outputs": [],
   "source": []
  }
 ],
 "metadata": {
  "kernelspec": {
   "display_name": "Python 3",
   "language": "python",
   "name": "python3"
  },
  "language_info": {
   "codemirror_mode": {
    "name": "ipython",
    "version": 3
   },
   "file_extension": ".py",
   "mimetype": "text/x-python",
   "name": "python",
   "nbconvert_exporter": "python",
   "pygments_lexer": "ipython3",
   "version": "3.7.1"
  }
 },
 "nbformat": 4,
 "nbformat_minor": 2
}
