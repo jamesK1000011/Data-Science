{
 "cells": [
  {
   "cell_type": "markdown",
   "metadata": {},
   "source": [
    "# Clustering Day 1 - Exercises"
   ]
  },
  {
   "cell_type": "markdown",
   "metadata": {},
   "source": [
    "## Exercise 1"
   ]
  },
  {
   "cell_type": "markdown",
   "metadata": {},
   "source": [
    "#### Question 1\n",
    "##### Import the required packages.\n",
    "##### Set the working directory to data directory.\n",
    "##### Print the working directory and the plot directory."
   ]
  },
  {
   "cell_type": "code",
   "execution_count": 62,
   "metadata": {},
   "outputs": [],
   "source": [
    "main_dir = '/Users/datasociety/desktop/af-werx'\n",
    "data_dir = main_dir + \"/data\"\n",
    "plot_dir = main_dir + \"/plot\""
   ]
  },
  {
   "cell_type": "code",
   "execution_count": 63,
   "metadata": {},
   "outputs": [],
   "source": [
    "import os\n",
    "import pandas as pd\n",
    "import numpy as np\n",
    "import matplotlib.pyplot as plt\n",
    "from mpl_toolkits.mplot3d import Axes3D\n",
    "from sklearn.cluster import KMeans\n",
    "from sklearn.preprocessing import MinMaxScaler\n",
    "from scipy.cluster.vq import kmeans\n",
    "from scipy.spatial.distance import cdist,pdist\n",
    "from matplotlib import cm\n",
    "from scipy import cluster\n",
    "from scipy.spatial.distance import pdist\n",
    "from scipy.cluster.hierarchy import dendrogram, linkage\n",
    "from sklearn.preprocessing import MinMaxScaler\n",
    "from sklearn.cluster import AgglomerativeClustering"
   ]
  },
  {
   "cell_type": "code",
   "execution_count": 64,
   "metadata": {},
   "outputs": [
    {
     "name": "stdout",
     "output_type": "stream",
     "text": [
      "/Users/datasociety/Desktop/af-werx/data\n",
      "/Users/datasociety/desktop/af-werx/plot\n"
     ]
    }
   ],
   "source": [
    "# Set working directory.\n",
    "os.chdir(data_dir)\n",
    "print(os.getcwd())\n",
    "print(plot_dir)"
   ]
  },
  {
   "cell_type": "markdown",
   "metadata": {},
   "source": [
    "#### Question 2\n",
    "\n",
    "##### Load the dataset `fast_food_data.csv` and save it as `ex_subset`.\n",
    "\n",
    "##### Print the first few rows of `ex_subset` and its summary.\n",
    "\n",
    "##### Drop all the non-numerical columns from `ex_subset` and print the few rows again to see what the dataframe looks like."
   ]
  },
  {
   "cell_type": "code",
   "execution_count": 65,
   "metadata": {},
   "outputs": [],
   "source": [
    "ex_subset = pd.read_csv('fast_food_data.csv')"
   ]
  },
  {
   "cell_type": "code",
   "execution_count": 66,
   "metadata": {},
   "outputs": [
    {
     "data": {
      "text/html": [
       "<div>\n",
       "<style scoped>\n",
       "    .dataframe tbody tr th:only-of-type {\n",
       "        vertical-align: middle;\n",
       "    }\n",
       "\n",
       "    .dataframe tbody tr th {\n",
       "        vertical-align: top;\n",
       "    }\n",
       "\n",
       "    .dataframe thead th {\n",
       "        text-align: right;\n",
       "    }\n",
       "</style>\n",
       "<table border=\"1\" class=\"dataframe\">\n",
       "  <thead>\n",
       "    <tr style=\"text-align: right;\">\n",
       "      <th></th>\n",
       "      <th>Fast Food Restaurant</th>\n",
       "      <th>Item</th>\n",
       "      <th>Type</th>\n",
       "      <th>Serving Size (g)</th>\n",
       "      <th>Calories</th>\n",
       "      <th>Total Fat (g)</th>\n",
       "      <th>Saturated Fat (g)</th>\n",
       "      <th>Trans Fat (g)</th>\n",
       "      <th>Sodium (mg)</th>\n",
       "      <th>Carbs (g)</th>\n",
       "      <th>Sugars (g)</th>\n",
       "      <th>Protein (g)</th>\n",
       "      <th>Revenue 2016 (billion dollars)</th>\n",
       "    </tr>\n",
       "  </thead>\n",
       "  <tbody>\n",
       "    <tr>\n",
       "      <th>0</th>\n",
       "      <td>McDonald's</td>\n",
       "      <td>Hamburger</td>\n",
       "      <td>Burger</td>\n",
       "      <td>98</td>\n",
       "      <td>240</td>\n",
       "      <td>8.0</td>\n",
       "      <td>3.0</td>\n",
       "      <td>0.0</td>\n",
       "      <td>480</td>\n",
       "      <td>32.0</td>\n",
       "      <td>6.0</td>\n",
       "      <td>12.0</td>\n",
       "      <td>36.4</td>\n",
       "    </tr>\n",
       "    <tr>\n",
       "      <th>1</th>\n",
       "      <td>McDonald's</td>\n",
       "      <td>Cheeseburger</td>\n",
       "      <td>Burger</td>\n",
       "      <td>113</td>\n",
       "      <td>290</td>\n",
       "      <td>11.0</td>\n",
       "      <td>5.0</td>\n",
       "      <td>0.5</td>\n",
       "      <td>680</td>\n",
       "      <td>33.0</td>\n",
       "      <td>7.0</td>\n",
       "      <td>15.0</td>\n",
       "      <td>36.4</td>\n",
       "    </tr>\n",
       "    <tr>\n",
       "      <th>2</th>\n",
       "      <td>McDonald's</td>\n",
       "      <td>Big Mac</td>\n",
       "      <td>Burger</td>\n",
       "      <td>211</td>\n",
       "      <td>530</td>\n",
       "      <td>27.0</td>\n",
       "      <td>10.0</td>\n",
       "      <td>1.0</td>\n",
       "      <td>960</td>\n",
       "      <td>47.0</td>\n",
       "      <td>9.0</td>\n",
       "      <td>24.0</td>\n",
       "      <td>36.4</td>\n",
       "    </tr>\n",
       "    <tr>\n",
       "      <th>3</th>\n",
       "      <td>McDonald's</td>\n",
       "      <td>Quarter Pounder with Cheese</td>\n",
       "      <td>Burger</td>\n",
       "      <td>202</td>\n",
       "      <td>520</td>\n",
       "      <td>26.0</td>\n",
       "      <td>12.0</td>\n",
       "      <td>1.5</td>\n",
       "      <td>1100</td>\n",
       "      <td>41.0</td>\n",
       "      <td>10.0</td>\n",
       "      <td>30.0</td>\n",
       "      <td>36.4</td>\n",
       "    </tr>\n",
       "    <tr>\n",
       "      <th>4</th>\n",
       "      <td>McDonald's</td>\n",
       "      <td>Bacon Clubhouse Burger</td>\n",
       "      <td>Burger</td>\n",
       "      <td>270</td>\n",
       "      <td>720</td>\n",
       "      <td>40.0</td>\n",
       "      <td>15.0</td>\n",
       "      <td>1.5</td>\n",
       "      <td>1470</td>\n",
       "      <td>51.0</td>\n",
       "      <td>14.0</td>\n",
       "      <td>39.0</td>\n",
       "      <td>36.4</td>\n",
       "    </tr>\n",
       "  </tbody>\n",
       "</table>\n",
       "</div>"
      ],
      "text/plain": [
       "  Fast Food Restaurant                         Item    Type  Serving Size (g)  \\\n",
       "0           McDonald's                    Hamburger  Burger                98   \n",
       "1           McDonald's                 Cheeseburger  Burger               113   \n",
       "2           McDonald's                      Big Mac  Burger               211   \n",
       "3           McDonald's  Quarter Pounder with Cheese  Burger               202   \n",
       "4           McDonald's       Bacon Clubhouse Burger  Burger               270   \n",
       "\n",
       "   Calories  Total Fat (g)  Saturated Fat (g)  Trans Fat (g)  Sodium (mg)  \\\n",
       "0       240            8.0                3.0            0.0          480   \n",
       "1       290           11.0                5.0            0.5          680   \n",
       "2       530           27.0               10.0            1.0          960   \n",
       "3       520           26.0               12.0            1.5         1100   \n",
       "4       720           40.0               15.0            1.5         1470   \n",
       "\n",
       "   Carbs (g)  Sugars (g)  Protein (g)  Revenue 2016 (billion dollars)  \n",
       "0       32.0         6.0         12.0                            36.4  \n",
       "1       33.0         7.0         15.0                            36.4  \n",
       "2       47.0         9.0         24.0                            36.4  \n",
       "3       41.0        10.0         30.0                            36.4  \n",
       "4       51.0        14.0         39.0                            36.4  "
      ]
     },
     "execution_count": 66,
     "metadata": {},
     "output_type": "execute_result"
    }
   ],
   "source": [
    "ex_subset.head()"
   ]
  },
  {
   "cell_type": "code",
   "execution_count": 67,
   "metadata": {},
   "outputs": [],
   "source": [
    "ex_subset = ex_subset.select_dtypes(['number'])"
   ]
  },
  {
   "cell_type": "code",
   "execution_count": 68,
   "metadata": {},
   "outputs": [
    {
     "name": "stdout",
     "output_type": "stream",
     "text": [
      "Serving Size (g)                    int64\n",
      "Calories                            int64\n",
      "Total Fat (g)                     float64\n",
      "Saturated Fat (g)                 float64\n",
      "Trans Fat (g)                     float64\n",
      "Sodium (mg)                         int64\n",
      "Carbs (g)                         float64\n",
      "Sugars (g)                        float64\n",
      "Protein (g)                       float64\n",
      "Revenue 2016 (billion dollars)    float64\n",
      "dtype: object\n"
     ]
    }
   ],
   "source": [
    "ex_subset.head()\n",
    "print(ex_subset.dtypes)"
   ]
  },
  {
   "cell_type": "code",
   "execution_count": null,
   "metadata": {},
   "outputs": [],
   "source": []
  },
  {
   "cell_type": "markdown",
   "metadata": {},
   "source": [
    "#### Question 3\n",
    "\n",
    "##### Check how many NAs are in each column and impute them with mean. \n",
    "\n",
    "##### For clustering, we will be using just the `Calories` and `Sodium (mg)` columns. Drop all the other columns from `ex_subset` and name the new dataset as `ex_cluster`. \n",
    "\n",
    "##### Print the first few rows of `ex_cluster` to make sure we have the correct dataset."
   ]
  },
  {
   "cell_type": "code",
   "execution_count": 69,
   "metadata": {},
   "outputs": [
    {
     "name": "stdout",
     "output_type": "stream",
     "text": [
      "Serving Size (g)                   0\n",
      "Calories                           0\n",
      "Total Fat (g)                      0\n",
      "Saturated Fat (g)                  0\n",
      "Trans Fat (g)                     12\n",
      "Sodium (mg)                        0\n",
      "Carbs (g)                          0\n",
      "Sugars (g)                         0\n",
      "Protein (g)                        0\n",
      "Revenue 2016 (billion dollars)     0\n",
      "dtype: int64\n",
      "Serving Size (g)                  0\n",
      "Calories                          0\n",
      "Total Fat (g)                     0\n",
      "Saturated Fat (g)                 0\n",
      "Trans Fat (g)                     0\n",
      "Sodium (mg)                       0\n",
      "Carbs (g)                         0\n",
      "Sugars (g)                        0\n",
      "Protein (g)                       0\n",
      "Revenue 2016 (billion dollars)    0\n",
      "dtype: int64\n"
     ]
    }
   ],
   "source": [
    "print(ex_subset.isnull().sum())\n",
    "ex_subset = ex_subset.fillna(ex_subset.mean())\n",
    "print(ex_subset.isnull().sum())"
   ]
  },
  {
   "cell_type": "code",
   "execution_count": 70,
   "metadata": {},
   "outputs": [
    {
     "data": {
      "text/html": [
       "<div>\n",
       "<style scoped>\n",
       "    .dataframe tbody tr th:only-of-type {\n",
       "        vertical-align: middle;\n",
       "    }\n",
       "\n",
       "    .dataframe tbody tr th {\n",
       "        vertical-align: top;\n",
       "    }\n",
       "\n",
       "    .dataframe thead th {\n",
       "        text-align: right;\n",
       "    }\n",
       "</style>\n",
       "<table border=\"1\" class=\"dataframe\">\n",
       "  <thead>\n",
       "    <tr style=\"text-align: right;\">\n",
       "      <th></th>\n",
       "      <th>Calories</th>\n",
       "      <th>Sodium (mg)</th>\n",
       "    </tr>\n",
       "  </thead>\n",
       "  <tbody>\n",
       "    <tr>\n",
       "      <th>0</th>\n",
       "      <td>240</td>\n",
       "      <td>480</td>\n",
       "    </tr>\n",
       "    <tr>\n",
       "      <th>1</th>\n",
       "      <td>290</td>\n",
       "      <td>680</td>\n",
       "    </tr>\n",
       "    <tr>\n",
       "      <th>2</th>\n",
       "      <td>530</td>\n",
       "      <td>960</td>\n",
       "    </tr>\n",
       "    <tr>\n",
       "      <th>3</th>\n",
       "      <td>520</td>\n",
       "      <td>1100</td>\n",
       "    </tr>\n",
       "    <tr>\n",
       "      <th>4</th>\n",
       "      <td>720</td>\n",
       "      <td>1470</td>\n",
       "    </tr>\n",
       "  </tbody>\n",
       "</table>\n",
       "</div>"
      ],
      "text/plain": [
       "   Calories  Sodium (mg)\n",
       "0       240          480\n",
       "1       290          680\n",
       "2       530          960\n",
       "3       520         1100\n",
       "4       720         1470"
      ]
     },
     "execution_count": 70,
     "metadata": {},
     "output_type": "execute_result"
    }
   ],
   "source": [
    "ex_cluster = ex_subset[['Calories','Sodium (mg)']]\n",
    "ex_cluster.head()"
   ]
  },
  {
   "cell_type": "markdown",
   "metadata": {},
   "source": [
    "#### Question 4\n",
    "\n",
    "##### In the dataset `ex_cluster`, check the data types for all of the columns. \n",
    "##### After making sure that all the data is numeric, scale the dataset and name it `ex_cluster_scaled`.\n",
    "##### When the dataset is scaled, convert `ex_cluster_scaled` back to a pandas dataframe and make sure to name the columns again. \n",
    "\n",
    "##### Print out the first few rows of `ex_cluster_scaled` to make sure the column names are correct and are ready for clustering."
   ]
  },
  {
   "cell_type": "code",
   "execution_count": 71,
   "metadata": {},
   "outputs": [
    {
     "name": "stderr",
     "output_type": "stream",
     "text": [
      "/anaconda3/lib/python3.7/site-packages/sklearn/preprocessing/data.py:323: DataConversionWarning: Data with input dtype int64 were all converted to float64 by MinMaxScaler.\n",
      "  return self.partial_fit(X, y)\n"
     ]
    },
    {
     "data": {
      "text/html": [
       "<div>\n",
       "<style scoped>\n",
       "    .dataframe tbody tr th:only-of-type {\n",
       "        vertical-align: middle;\n",
       "    }\n",
       "\n",
       "    .dataframe tbody tr th {\n",
       "        vertical-align: top;\n",
       "    }\n",
       "\n",
       "    .dataframe thead th {\n",
       "        text-align: right;\n",
       "    }\n",
       "</style>\n",
       "<table border=\"1\" class=\"dataframe\">\n",
       "  <thead>\n",
       "    <tr style=\"text-align: right;\">\n",
       "      <th></th>\n",
       "      <th>Calories</th>\n",
       "      <th>Sodium (mg)</th>\n",
       "    </tr>\n",
       "  </thead>\n",
       "  <tbody>\n",
       "    <tr>\n",
       "      <th>0</th>\n",
       "      <td>0.099099</td>\n",
       "      <td>0.178423</td>\n",
       "    </tr>\n",
       "    <tr>\n",
       "      <th>1</th>\n",
       "      <td>0.144144</td>\n",
       "      <td>0.261411</td>\n",
       "    </tr>\n",
       "    <tr>\n",
       "      <th>2</th>\n",
       "      <td>0.360360</td>\n",
       "      <td>0.377593</td>\n",
       "    </tr>\n",
       "    <tr>\n",
       "      <th>3</th>\n",
       "      <td>0.351351</td>\n",
       "      <td>0.435685</td>\n",
       "    </tr>\n",
       "    <tr>\n",
       "      <th>4</th>\n",
       "      <td>0.531532</td>\n",
       "      <td>0.589212</td>\n",
       "    </tr>\n",
       "  </tbody>\n",
       "</table>\n",
       "</div>"
      ],
      "text/plain": [
       "   Calories  Sodium (mg)\n",
       "0  0.099099     0.178423\n",
       "1  0.144144     0.261411\n",
       "2  0.360360     0.377593\n",
       "3  0.351351     0.435685\n",
       "4  0.531532     0.589212"
      ]
     },
     "execution_count": 71,
     "metadata": {},
     "output_type": "execute_result"
    }
   ],
   "source": [
    "\n",
    "scaler_ex = MinMaxScaler()\n",
    "\n",
    "# Scale the dataframe.\n",
    "ex_cluster_scaled = scaler_ex.fit_transform(ex_cluster)\n",
    "# Convert back to dataframe, making sure to name the columns again.\n",
    "ex_cluster_scaled = pd.DataFrame(ex_cluster_scaled, \n",
    "                                 columns = ex_cluster.columns)\n",
    "ex_cluster_scaled.head()"
   ]
  },
  {
   "cell_type": "markdown",
   "metadata": {},
   "source": [
    "#### Question 5\n",
    "\n",
    "#####  Rename `ex_cluster_scaled` as `ex_kmeans`.\n",
    "##### We will be using `ex_cluster_scaled` in other clustering models as well.\n",
    "##### Plot the two variables from `ex_kmeans` to see their interactions. \n",
    "##### Plot `Sodium (mg)` as `y` and `Calories` as `x`."
   ]
  },
  {
   "cell_type": "code",
   "execution_count": 72,
   "metadata": {},
   "outputs": [],
   "source": [
    "ex_kmeans = ex_cluster_scaled"
   ]
  },
  {
   "cell_type": "code",
   "execution_count": 73,
   "metadata": {},
   "outputs": [
    {
     "data": {
      "text/plain": [
       "Text(0.5, 0, 'Sodium (mg)')"
      ]
     },
     "execution_count": 73,
     "metadata": {},
     "output_type": "execute_result"
    },
    {
     "data": {
      "image/png": "[encoded data removed]",
      "text/plain": [
       "<Figure size 432x288 with 1 Axes>"
      ]
     },
     "metadata": {
      "needs_background": "light"
     },
     "output_type": "display_data"
    }
   ],
   "source": [
    "plt.scatter(ex_kmeans['Sodium (mg)'],\n",
    "           )\n",
    "\n",
    "plt.title('Calories vs Heart Rate')\n",
    "plt.ylabel('Calories')\n",
    "plt.xlabel('Sodium (mg)')"
   ]
  },
  {
   "cell_type": "markdown",
   "metadata": {},
   "source": [
    "#### Question 6\n",
    "\n",
    "##### Let's find an optimal K. \n",
    "##### Initialize the k-means with 2 clusters and name it `ex_kmeans_2`. \n",
    "##### Fit `ex_kmeans_2` with `ex_kmeans`. \n",
    "##### Predict the clusters with `ex_kmeans_2` and name the outputs as `labels`. \n",
    "##### Get the cluster centers and name it as `C`. \n",
    "##### Print `C`to see what it looks like. \n"
   ]
  },
  {
   "cell_type": "code",
   "execution_count": 74,
   "metadata": {},
   "outputs": [],
   "source": [
    "ex_kmeans_2 = KMeans(n_clusters = 2)"
   ]
  },
  {
   "cell_type": "code",
   "execution_count": 75,
   "metadata": {},
   "outputs": [],
   "source": [
    "ex_kmeans_2 = ex_kmeans_2.fit(ex_kmeans)"
   ]
  },
  {
   "cell_type": "code",
   "execution_count": 76,
   "metadata": {},
   "outputs": [],
   "source": [
    "labels = ex_kmeans_2.predict(ex_kmeans)"
   ]
  },
  {
   "cell_type": "code",
   "execution_count": 77,
   "metadata": {},
   "outputs": [
    {
     "name": "stdout",
     "output_type": "stream",
     "text": [
      "[[0.25338085 0.28157403]\n",
      " [0.64658945 0.64777712]]\n"
     ]
    }
   ],
   "source": [
    "C = ex_kmeans_2.cluster_centers_\n",
    "print(C)"
   ]
  },
  {
   "cell_type": "markdown",
   "metadata": {},
   "source": [
    "#### Question 7\n",
    "\n",
    "##### Plot the data with clusters colored in and each centroid plotted."
   ]
  },
  {
   "cell_type": "code",
   "execution_count": 78,
   "metadata": {},
   "outputs": [
    {
     "data": {
      "text/plain": [
       "<matplotlib.collections.PathCollection at 0x1a257b32b0>"
      ]
     },
     "execution_count": 78,
     "metadata": {},
     "output_type": "execute_result"
    },
    {
     "data": {
      "image/png": "[encoded data removed]",
      "text/plain": [
       "<Figure size 432x288 with 1 Axes>"
      ]
     },
     "metadata": {
      "needs_background": "light"
     },
     "output_type": "display_data"
    }
   ],
   "source": [
    "plt.scatter(\n",
    "    ex_kmeans.iloc[:,0],\n",
    "    ex_kmeans.iloc[:,1],\n",
    "    c=ex_kmeans_2.labels_,\n",
    "    cmap='rainbow'\n",
    ")\n",
    "# Second, we plot the optimized centroids over the clusters.\n",
    "plt.scatter(\n",
    "    C[:, 0],\n",
    "    C[:, 1],\n",
    "    c='black',\n",
    "    s=200,\n",
    "    alpha=0.5\n",
    ")"
   ]
  },
  {
   "cell_type": "markdown",
   "metadata": {},
   "source": [
    "## Exercise 2"
   ]
  },
  {
   "cell_type": "markdown",
   "metadata": {},
   "source": [
    "#### Question 1\n",
    "\n",
    "#####  Get the metrics we need for building an elbow plot.\n",
    "##### The range for K should be from 1 to 20. "
   ]
  },
  {
   "cell_type": "code",
   "execution_count": 79,
   "metadata": {},
   "outputs": [],
   "source": [
    "# Set the range of k.\n",
    "Ex_K_MAX = 20\n",
    "Ex_KK = range(1,Ex_K_MAX+1)\n",
    "\n",
    "# Run `kmeans` for values in the range i = 1-20.\n",
    "Ex_KM = [kmeans(ex_kmeans,i) for i in Ex_KK]\n",
    "\n",
    "# Find the centroids for each KM output.\n",
    "Ex_centroids = [cent for (cent,var) in Ex_KM]\n",
    "\n",
    "# Calculate centroids for each iteration of k.\n",
    "ex_D_k = [cdist(ex_kmeans, cent, 'euclidean') for cent in Ex_centroids]\n",
    "ex_cIdx = [np.argmin(D,axis=1) for D in ex_D_k]\n",
    "ex_dist = [np.min(D,axis=1) for D in ex_D_k]\n",
    "\n",
    "# WSS\n",
    "WSS = [sum(d**2) for d in ex_dist]       # Total within-cluster sum of squares\n",
    "#TSS\n",
    "TSS = sum(pdist(ex_kmeans)**2)/ex_kmeans.shape[0]   # The total sum of squares\n",
    "#BSS\n",
    "BSS = TSS - WSS                               # The between-cluster sum of squares\n"
   ]
  },
  {
   "cell_type": "code",
   "execution_count": 82,
   "metadata": {},
   "outputs": [
    {
     "name": "stdout",
     "output_type": "stream",
     "text": [
      "[(array([[0.36260546, 0.38329711]]), 0.26834037615973727), (array([[0.23817432, 0.2633055 ],\n",
      "       [0.60278651, 0.61490881]]), 0.17946219344283323), (array([[0.75770507, 0.73269273],\n",
      "       [0.19883952, 0.2043463 ],\n",
      "       [0.40750751, 0.46495505]]), 0.13951645568316326), (array([[0.42411642, 0.11777849],\n",
      "       [0.14379162, 0.22213603],\n",
      "       [0.38177247, 0.45658593],\n",
      "       [0.71433934, 0.70470263]]), 0.11681862807261277), (array([[0.56470106, 0.56940777],\n",
      "       [0.13936727, 0.20781627],\n",
      "       [0.81981982, 0.79564315],\n",
      "       [0.32948624, 0.42969609],\n",
      "       [0.43693694, 0.11549101]]), 0.09990943843469054), (array([[0.8037323 , 0.77445169],\n",
      "       [0.35082825, 0.44018204],\n",
      "       [0.1079955 , 0.14408714],\n",
      "       [0.55045045, 0.56161826],\n",
      "       [0.42411642, 0.11777849],\n",
      "       [0.18524775, 0.31607884]]), 0.08698858476617015), (array([[0.19148649, 0.32991701],\n",
      "       [0.42411642, 0.11777849],\n",
      "       [0.55045045, 0.56161826],\n",
      "       [0.35082825, 0.44018204],\n",
      "       [0.8037323 , 0.77445169],\n",
      "       [0.12083333, 0.21431535],\n",
      "       [0.10623123, 0.08471646]]), 0.0814016950721673), (array([[0.17167167, 0.07837713],\n",
      "       [0.58708709, 0.58137391],\n",
      "       [0.43693694, 0.11549101],\n",
      "       [0.81981982, 0.79564315],\n",
      "       [0.40995086, 0.45082988],\n",
      "       [0.27573574, 0.44102351],\n",
      "       [0.18284193, 0.30728027],\n",
      "       [0.08231982, 0.18112033]]), 0.07718519439005506), (array([[0.60022523, 0.58169087],\n",
      "       [0.06898327, 0.18150563],\n",
      "       [0.43693694, 0.11549101],\n",
      "       [0.36798337, 0.38014682],\n",
      "       [0.25144144, 0.46858921],\n",
      "       [0.18284193, 0.30728027],\n",
      "       [0.42629505, 0.50396784],\n",
      "       [0.81981982, 0.79564315],\n",
      "       [0.17239967, 0.09656733]]), 0.07206268893248369), (array([[0.20651421, 0.34982445],\n",
      "       [0.36798337, 0.38014682],\n",
      "       [0.43693694, 0.11549101],\n",
      "       [0.60022523, 0.58169087],\n",
      "       [0.43189189, 0.5057538 ],\n",
      "       [0.81981982, 0.79564315],\n",
      "       [0.04404404, 0.15698479],\n",
      "       [0.14566441, 0.26039938],\n",
      "       [0.17239967, 0.09656733],\n",
      "       [0.27037037, 0.48192716]]), 0.068407462826773), (array([[0.57207207, 0.50622407],\n",
      "       [0.25970516, 0.46937005],\n",
      "       [0.43693694, 0.11549101],\n",
      "       [0.43843844, 0.55705394],\n",
      "       [0.82800983, 0.80347039],\n",
      "       [0.18923924, 0.32070078],\n",
      "       [0.66103604, 0.63537344],\n",
      "       [0.14993565, 0.05572021],\n",
      "       [0.15225225, 0.211885  ],\n",
      "       [0.03716216, 0.15430498],\n",
      "       [0.38055114, 0.39572858]]), 0.06585916130276803), (array([[0.52252252, 0.35684647],\n",
      "       [0.20050676, 0.32113589],\n",
      "       [0.37637638, 0.12540341],\n",
      "       [0.83671171, 0.83713693],\n",
      "       [0.10623123, 0.08471646],\n",
      "       [0.35135135, 0.39079593],\n",
      "       [0.4043758 , 0.4982217 ],\n",
      "       [0.24304304, 0.46362379],\n",
      "       [0.53153153, 0.10062241],\n",
      "       [0.75289575, 0.67101363],\n",
      "       [0.55662806, 0.59128631],\n",
      "       [0.11841842, 0.22574919]]), 0.06254263277424961), (array([[0.13642214, 0.33129816],\n",
      "       [0.82800983, 0.80347039],\n",
      "       [0.51051051, 0.61180267],\n",
      "       [0.44389844, 0.10486609],\n",
      "       [0.22285012, 0.313957  ],\n",
      "       [0.04404404, 0.15698479],\n",
      "       [0.15634096, 0.21445898],\n",
      "       [0.38704955, 0.47510373],\n",
      "       [0.24304304, 0.46362379],\n",
      "       [0.37207207, 0.34564315],\n",
      "       [0.14993565, 0.05572021],\n",
      "       [0.67567568, 0.63129816],\n",
      "       [0.56456456, 0.46403873]]), 0.0594179943605048), (array([[0.82800983, 0.80347039],\n",
      "       [0.04404404, 0.15698479],\n",
      "       [0.14993565, 0.05572021],\n",
      "       [0.18532819, 0.37818613],\n",
      "       [0.39444444, 0.5055325 ],\n",
      "       [0.12317772, 0.26401358],\n",
      "       [0.196997  , 0.18665284],\n",
      "       [0.53153153, 0.10062241],\n",
      "       [0.66103604, 0.63537344],\n",
      "       [0.37387387, 0.38322466],\n",
      "       [0.53915454, 0.54005745],\n",
      "       [0.25199485, 0.47812685],\n",
      "       [0.38963964, 0.12292531],\n",
      "       [0.22532533, 0.30165975]]), 0.05795825670594787), (array([[0.4008316 , 0.50398979],\n",
      "       [0.33423423, 0.40082988],\n",
      "       [0.37637638, 0.12540341],\n",
      "       [0.43243243, 0.35352697],\n",
      "       [0.13000693, 0.25783594],\n",
      "       [0.22532533, 0.30165975],\n",
      "       [0.55036855, 0.61486232],\n",
      "       [0.16261261, 0.09170124],\n",
      "       [0.53153153, 0.10062241],\n",
      "       [0.24894895, 0.48934993],\n",
      "       [0.80292793, 0.84751037],\n",
      "       [0.04404404, 0.15698479],\n",
      "       [0.79150579, 0.65915827],\n",
      "       [0.58198198, 0.45975104],\n",
      "       [0.18532819, 0.37818613]]), 0.05570348534712859), (array([[0.50225225, 0.61773859],\n",
      "       [0.26010296, 0.49276823],\n",
      "       [0.63153153, 0.57883817],\n",
      "       [0.7954955 , 0.81991701],\n",
      "       [0.50810811, 0.37012448],\n",
      "       [0.20795796, 0.14488243],\n",
      "       [0.0731982 , 0.21239627],\n",
      "       [0.18532819, 0.37818613],\n",
      "       [0.22532533, 0.30165975],\n",
      "       [0.53153153, 0.10062241],\n",
      "       [0.14174174, 0.27100046],\n",
      "       [0.08738739, 0.08195021],\n",
      "       [0.94144144, 0.67427386],\n",
      "       [0.40630631, 0.4938891 ],\n",
      "       [0.38963964, 0.12292531],\n",
      "       [0.34459459, 0.39246196]]), 0.0539795433426836), (array([[0.39382239, 0.10729105],\n",
      "       [0.14993565, 0.05572021],\n",
      "       [0.25525526, 0.20746888],\n",
      "       [0.34459459, 0.39246196],\n",
      "       [0.17867868, 0.38105118],\n",
      "       [0.82625483, 0.81387078],\n",
      "       [0.43005733, 0.47502829],\n",
      "       [0.58378378, 0.57925311],\n",
      "       [0.21970721, 0.31965768],\n",
      "       [0.04404404, 0.15698479],\n",
      "       [0.45645646, 0.61479945],\n",
      "       [0.52252252, 0.32780083],\n",
      "       [0.27038288, 0.4908195 ],\n",
      "       [0.90990991, 1.        ],\n",
      "       [0.13294723, 0.2521636 ],\n",
      "       [0.75289575, 0.67101363],\n",
      "       [0.53153153, 0.10062241]]), 0.05229536743587652), (array([[0.89489489, 0.68603043],\n",
      "       [0.34877735, 0.36870184],\n",
      "       [0.52252252, 0.35684647],\n",
      "       [0.53153153, 0.10062241],\n",
      "       [0.39339339, 0.18533887],\n",
      "       [0.22285012, 0.313957  ],\n",
      "       [0.13173173, 0.23508529],\n",
      "       [0.38348348, 0.44227755],\n",
      "       [0.13642214, 0.33129816],\n",
      "       [0.24304304, 0.46362379],\n",
      "       [0.38738739, 0.08547718],\n",
      "       [0.7012012 , 0.66459198],\n",
      "       [0.4037037 , 0.52360535],\n",
      "       [0.81338481, 0.85951393],\n",
      "       [0.20795796, 0.14488243],\n",
      "       [0.12972973, 0.03858921],\n",
      "       [0.55162855, 0.58538142],\n",
      "       [0.04404404, 0.15698479]]), 0.05063106105325425), (array([[0.54279279, 0.66493776],\n",
      "       [0.53153153, 0.10062241],\n",
      "       [0.41441441, 0.3153527 ],\n",
      "       [0.03716216, 0.15430498],\n",
      "       [0.33033033, 0.38450899],\n",
      "       [0.58198198, 0.45975104],\n",
      "       [0.7972973 , 0.83609959],\n",
      "       [0.60510511, 0.58298755],\n",
      "       [0.14317394, 0.21701245],\n",
      "       [0.14993565, 0.05572021],\n",
      "       [0.13642214, 0.33129816],\n",
      "       [0.22532533, 0.30165975],\n",
      "       [0.79407979, 0.68938945],\n",
      "       [0.44444444, 0.56224066],\n",
      "       [0.90990991, 1.        ],\n",
      "       [0.22672673, 0.40456432],\n",
      "       [0.26291291, 0.49951591],\n",
      "       [0.37837838, 0.1120332 ],\n",
      "       [0.39346847, 0.46137621]]), 0.048605792389008765), (array([[0.04404404, 0.15698479],\n",
      "       [0.45495495, 0.57261411],\n",
      "       [0.58198198, 0.45975104],\n",
      "       [0.53153153, 0.10062241],\n",
      "       [0.37637638, 0.12540341],\n",
      "       [0.24894895, 0.48934993],\n",
      "       [0.35825826, 0.54315353],\n",
      "       [0.67567568, 0.63129816],\n",
      "       [0.53603604, 0.62378976],\n",
      "       [0.22277992, 0.28944873],\n",
      "       [0.13642214, 0.33129816],\n",
      "       [0.44144144, 0.33195021],\n",
      "       [0.22651223, 0.3805572 ],\n",
      "       [0.14993565, 0.05572021],\n",
      "       [0.35315315, 0.43900415],\n",
      "       [0.89489489, 0.68603043],\n",
      "       [0.42353604, 0.46696058],\n",
      "       [0.33933934, 0.37136929],\n",
      "       [0.80292793, 0.84751037],\n",
      "       [0.14684685, 0.22022822]]), 0.046915416832879794)]\n"
     ]
    }
   ],
   "source": [
    "print(Ex_KM)"
   ]
  },
  {
   "cell_type": "markdown",
   "metadata": {},
   "source": [
    "#### Question 2\n",
    "##### Build an elbow curve plot for KMeans clustering and find the optimal K. "
   ]
  },
  {
   "cell_type": "code",
   "execution_count": 88,
   "metadata": {},
   "outputs": [
    {
     "data": {
      "text/plain": [
       "Text(0.5, 1.0, 'Elbow for KMeans clustering')"
      ]
     },
     "execution_count": 88,
     "metadata": {},
     "output_type": "execute_result"
    },
    {
     "data": {
      "image/png": "[encoded data removed]",
      "text/plain": [
       "<Figure size 432x288 with 1 Axes>"
      ]
     },
     "metadata": {
      "needs_background": "light"
     },
     "output_type": "display_data"
    }
   ],
   "source": [
    "kIdx = 3        # K=4\n",
    "clr = cm.Spectral( np.linspace(0,1,10) ).tolist()\n",
    "mrk = 'os^p<dvh8>+x.'\n",
    "\n",
    "# Elbow curve - explained variance.\n",
    "fig = plt.figure()\n",
    "ax = fig.add_subplot(111)\n",
    "ax.plot(Ex_KK, BSS/TSS*100, 'b*-')\n",
    "ax.plot(Ex_KK[kIdx], \n",
    "        BSS[kIdx]/TSS*100, \n",
    "        marker='o', \n",
    "        markersize=12,\n",
    "        markeredgewidth=2, \n",
    "        markeredgecolor='r', \n",
    "        markerfacecolor='None')\n",
    "ax.set_ylim((0,100))\n",
    "plt.grid(True)\n",
    "plt.xlabel('Number of clusters')\n",
    "plt.ylabel('Percentage of variance explained (%)')\n",
    "plt.title('Elbow for KMeans clustering')\n"
   ]
  },
  {
   "cell_type": "markdown",
   "metadata": {},
   "source": [
    "#### Question 3\n",
    "##### Print the explained variance for both k = 2 and the optimal k and compare."
   ]
  },
  {
   "cell_type": "code",
   "execution_count": 89,
   "metadata": {},
   "outputs": [
    {
     "name": "stdout",
     "output_type": "stream",
     "text": [
      "87.32797021105098\n",
      "74.70826354234069\n"
     ]
    }
   ],
   "source": [
    "# k = 5\n",
    "print(BSS[4]/TSS * 100)\n",
    "# k = 2\n",
    "print(BSS[2]/TSS * 100)"
   ]
  },
  {
   "cell_type": "markdown",
   "metadata": {},
   "source": [
    "#### Question 4\n",
    "##### Initiate a new k-means cluster classifier and name it `ex_kmeans_K`, with K being the optimal number of clusters found from question 3. \n",
    "##### Fit `ex_kmeans_K` and use the model to predict clusters and store them in a list called `labels`. \n",
    "\n",
    "##### Plot a scatterplot with the optimal number of clusters shown in different colors.\n",
    "##### Plot the optimized centroids over the clusters.\n"
   ]
  },
  {
   "cell_type": "code",
   "execution_count": 90,
   "metadata": {},
   "outputs": [],
   "source": [
    "ex_kmeans_K = KMeans(n_clusters = 4)"
   ]
  },
  {
   "cell_type": "code",
   "execution_count": 91,
   "metadata": {},
   "outputs": [],
   "source": [
    "ex_kmeans_K = ex_kmeans_K.fit(ex_kmeans)"
   ]
  },
  {
   "cell_type": "code",
   "execution_count": 92,
   "metadata": {},
   "outputs": [],
   "source": [
    "labels = ex_kmeans_K.predict(ex_kmeans)"
   ]
  },
  {
   "cell_type": "code",
   "execution_count": 93,
   "metadata": {},
   "outputs": [
    {
     "name": "stdout",
     "output_type": "stream",
     "text": [
      "[[0.14914506 0.22835126]\n",
      " [0.75770507 0.73269273]\n",
      " [0.43693694 0.11549101]\n",
      " [0.40740306 0.473895  ]]\n"
     ]
    }
   ],
   "source": [
    "C = ex_kmeans_K.cluster_centers_\n",
    "print(C)"
   ]
  },
  {
   "cell_type": "code",
   "execution_count": 94,
   "metadata": {},
   "outputs": [
    {
     "data": {
      "text/plain": [
       "<matplotlib.collections.PathCollection at 0x1a25b51d68>"
      ]
     },
     "execution_count": 94,
     "metadata": {},
     "output_type": "execute_result"
    },
    {
     "data": {
      "image/png": "[encoded data removed]",
      "text/plain": [
       "<Figure size 432x288 with 1 Axes>"
      ]
     },
     "metadata": {
      "needs_background": "light"
     },
     "output_type": "display_data"
    }
   ],
   "source": [
    "plt.scatter(\n",
    "    ex_kmeans.iloc[:,0],\n",
    "    ex_kmeans.iloc[:,1],\n",
    "    c=ex_kmeans_K.labels_,\n",
    "    cmap='rainbow'\n",
    ")\n",
    "# Second, we plot the optimized centroids over the clusters.\n",
    "plt.scatter(\n",
    "    C[:, 0],\n",
    "    C[:, 1],\n",
    "    c='black',\n",
    "    s=200,\n",
    "    alpha=0.5\n",
    ")"
   ]
  },
  {
   "cell_type": "markdown",
   "metadata": {},
   "source": [
    "#### Question 5\n",
    "##### Create a new dataframe named `clustered_ex` and populate with all the columns from `ex_cluster_scaled`. \n",
    "##### Append the list of predicted cluster, `labels`, to the `clustered_ex` dataframe. \n",
    "##### Print the `clustered_ex` dataframe to inspect the clusters."
   ]
  },
  {
   "cell_type": "code",
   "execution_count": 95,
   "metadata": {},
   "outputs": [],
   "source": [
    "clustered_ex = ex_cluster_scaled"
   ]
  },
  {
   "cell_type": "code",
   "execution_count": 96,
   "metadata": {},
   "outputs": [
    {
     "data": {
      "text/html": [
       "<div>\n",
       "<style scoped>\n",
       "    .dataframe tbody tr th:only-of-type {\n",
       "        vertical-align: middle;\n",
       "    }\n",
       "\n",
       "    .dataframe tbody tr th {\n",
       "        vertical-align: top;\n",
       "    }\n",
       "\n",
       "    .dataframe thead th {\n",
       "        text-align: right;\n",
       "    }\n",
       "</style>\n",
       "<table border=\"1\" class=\"dataframe\">\n",
       "  <thead>\n",
       "    <tr style=\"text-align: right;\">\n",
       "      <th></th>\n",
       "      <th>Calories</th>\n",
       "      <th>Sodium (mg)</th>\n",
       "      <th>clusters</th>\n",
       "    </tr>\n",
       "  </thead>\n",
       "  <tbody>\n",
       "    <tr>\n",
       "      <th>0</th>\n",
       "      <td>0.099099</td>\n",
       "      <td>0.178423</td>\n",
       "      <td>0</td>\n",
       "    </tr>\n",
       "    <tr>\n",
       "      <th>1</th>\n",
       "      <td>0.144144</td>\n",
       "      <td>0.261411</td>\n",
       "      <td>0</td>\n",
       "    </tr>\n",
       "    <tr>\n",
       "      <th>2</th>\n",
       "      <td>0.360360</td>\n",
       "      <td>0.377593</td>\n",
       "      <td>3</td>\n",
       "    </tr>\n",
       "    <tr>\n",
       "      <th>3</th>\n",
       "      <td>0.351351</td>\n",
       "      <td>0.435685</td>\n",
       "      <td>3</td>\n",
       "    </tr>\n",
       "    <tr>\n",
       "      <th>4</th>\n",
       "      <td>0.531532</td>\n",
       "      <td>0.589212</td>\n",
       "      <td>3</td>\n",
       "    </tr>\n",
       "  </tbody>\n",
       "</table>\n",
       "</div>"
      ],
      "text/plain": [
       "   Calories  Sodium (mg)  clusters\n",
       "0  0.099099     0.178423         0\n",
       "1  0.144144     0.261411         0\n",
       "2  0.360360     0.377593         3\n",
       "3  0.351351     0.435685         3\n",
       "4  0.531532     0.589212         3"
      ]
     },
     "execution_count": 96,
     "metadata": {},
     "output_type": "execute_result"
    }
   ],
   "source": [
    "clustered_ex['clusters'] = pd.Series(labels)\n",
    "clustered_ex.head()"
   ]
  },
  {
   "cell_type": "markdown",
   "metadata": {},
   "source": [
    "#### Question 6\n",
    "##### Group the `clustered_ex` dataframe by `cluster` to see the group mean of each variable.\n",
    "##### Name the new dataframe as `ex_cluster_groups_means`. \n",
    "##### Print `ex_cluster_groups_means` to inspect each clusters.\n"
   ]
  },
  {
   "cell_type": "code",
   "execution_count": 97,
   "metadata": {},
   "outputs": [
    {
     "name": "stdout",
     "output_type": "stream",
     "text": [
      "          Calories  Sodium (mg)\n",
      "clusters                       \n",
      "0         0.149145     0.228351\n",
      "1         0.757705     0.732693\n",
      "2         0.436937     0.115491\n",
      "3         0.407403     0.473895\n"
     ]
    }
   ],
   "source": [
    "ex_cluster_groups_means = clustered_ex.groupby('clusters').mean()\n",
    "print(ex_cluster_groups_means)\n"
   ]
  },
  {
   "cell_type": "markdown",
   "metadata": {},
   "source": [
    "## Exercise 3"
   ]
  },
  {
   "cell_type": "markdown",
   "metadata": {},
   "source": [
    "#### Question 1\n",
    "\n",
    "#### Let's use the `ex_cluster_scaled` for hierarchical clustering in this exercise. \n",
    "#### Compute the distance matrix of `ex_cluster_scaled` using `pdist()` function.\n",
    "#### Save  as `ex_dist`."
   ]
  },
  {
   "cell_type": "code",
   "execution_count": 120,
   "metadata": {},
   "outputs": [
    {
     "data": {
      "text/plain": [
       "array([0.09442452, 3.01793409, 3.02155831, ..., 3.05077806, 1.10506499,\n",
       "       2.00794184])"
      ]
     },
     "execution_count": 120,
     "metadata": {},
     "output_type": "execute_result"
    }
   ],
   "source": [
    "ex_scaled_subset = ex_cluster_scaled\n",
    "# Calculate the distance matrix.\n",
    "ex_dist = pdist(ex_cluster_scaled, 'euclidean')\n",
    "ex_dist"
   ]
  },
  {
   "cell_type": "markdown",
   "metadata": {},
   "source": [
    "#### Question 2\n",
    "##### Perform hierarchical clustering using the `linkage()` function on the distance matrix `ex_dist`.\n",
    "##### Save as `ex_linked` and print the first 5 results."
   ]
  },
  {
   "cell_type": "code",
   "execution_count": 115,
   "metadata": {},
   "outputs": [
    {
     "data": {
      "text/plain": [
       "array([[8.40000000e+01, 1.03000000e+02, 2.44974759e-03, 2.00000000e+00],\n",
       "       [3.00000000e+00, 6.40000000e+01, 4.14937759e-03, 2.00000000e+00],\n",
       "       [7.50000000e+01, 9.70000000e+01, 8.20310778e-03, 2.00000000e+00],\n",
       "       [5.00000000e+00, 1.40000000e+01, 8.29875519e-03, 2.00000000e+00],\n",
       "       [2.40000000e+01, 6.70000000e+01, 8.29875519e-03, 2.00000000e+00]])"
      ]
     },
     "execution_count": 115,
     "metadata": {},
     "output_type": "execute_result"
    }
   ],
   "source": [
    "ex_linked = linkage(ex_dist, 'ward')\n",
    "ex_linked[:5]"
   ]
  },
  {
   "cell_type": "markdown",
   "metadata": {},
   "source": [
    "#### Question 3\n",
    "\n",
    "##### Let's use the linkage matrix `ex_linked` to visualize our dendrogram. Set the figure size to 12 and 10, respectively, and name the plot \"Dendrogram\"."
   ]
  },
  {
   "cell_type": "code",
   "execution_count": 116,
   "metadata": {},
   "outputs": [
    {
     "data": {
      "image/png": "[encoded data removed]",
      "text/plain": [
       "<Figure size 864x720 with 1 Axes>"
      ]
     },
     "metadata": {
      "needs_background": "light"
     },
     "output_type": "display_data"
    }
   ],
   "source": [
    "plt.figure(figsize = (12, 10))\n",
    "plt.title('Hambugers Dendrogram')\n",
    "ex_dendo = dendrogram(ex_linked)\n",
    "plt.show()"
   ]
  },
  {
   "cell_type": "markdown",
   "metadata": {},
   "source": [
    "#### Question 4 \n",
    "##### Prune the dendrogram created above to view the last 10 merges / leaf nodes.\n",
    "##### Set the `truncate_mode` as `lastp` in the `dendrogram()` function. Name the plot \"Hierarchical Clustering Dendrogram (pruned)\". Set show_leaf_counts to False, leaf_rotation to 90, leaf_font_size to 12, and show_contracted to True."
   ]
  },
  {
   "cell_type": "code",
   "execution_count": 117,
   "metadata": {},
   "outputs": [
    {
     "data": {
      "image/png": "[encoded data removed]",
      "text/plain": [
       "<Figure size 864x720 with 1 Axes>"
      ]
     },
     "metadata": {
      "needs_background": "light"
     },
     "output_type": "display_data"
    }
   ],
   "source": [
    "plt.figure(figsize=(12,10))\n",
    "plt.title('Hamburgers! get in my belly! (pruned)')\n",
    "dendrogram(ex_linked,\n",
    "           truncate_mode='lastp',   \n",
    "           p = 10,                 \n",
    "           leaf_rotation=45,\n",
    "           leaf_font_size=20,\n",
    "           show_contracted=True,   \n",
    ")\n",
    "plt.show()\n"
   ]
  },
  {
   "cell_type": "markdown",
   "metadata": {},
   "source": [
    "#### Question 5\n",
    "##### Cut the above dendrogram by drawing a horizontal line to view 3 clusters. Set the color to 'grey', line width to 1, and line style to 'dashed'. \n",
    "##### Use `plt.axhline()` to draw the line across the dendrogram.\n",
    "##### At what distance on the y-axis should the line be drawn to get 3 clusters?"
   ]
  },
  {
   "cell_type": "code",
   "execution_count": 124,
   "metadata": {},
   "outputs": [
    {
     "data": {
      "image/png": "[encoded data removed]",
      "text/plain": [
       "<Figure size 864x720 with 1 Axes>"
      ]
     },
     "metadata": {
      "needs_background": "light"
     },
     "output_type": "display_data"
    }
   ],
   "source": [
    "plt.figure(figsize=(12,10))\n",
    "plt.title('Hamburgers! get in my belly! (pruned)')\n",
    "dendrogram(ex_linked,\n",
    "           truncate_mode='lastp',   \n",
    "           p = 10,\n",
    "           show_leaf_counts = False,\n",
    "           leaf_rotation=45,\n",
    "           leaf_font_size=20,\n",
    "           show_contracted=True,\n",
    "           color_threshold = 2\n",
    ")\n",
    "plt.axhline(y=3, c='grey', lw=1, linestyle = 'dashed')\n",
    "plt.show()\n"
   ]
  },
  {
   "cell_type": "markdown",
   "metadata": {},
   "source": [
    "##### We should set the distance around 4 on the y-axis to get 3 clusters."
   ]
  },
  {
   "cell_type": "markdown",
   "metadata": {},
   "source": [
    "#### Question 6\n",
    "##### Now let's use the second method for hierarchical clustering using the `AgglomerativeClustering()` function.\n",
    "##### Instantiate the function and save it to `ex_clusters`. Set the number of clusters as 3.\n",
    "##### Fit and predict with `ex_scaled_subset`.\n",
    "##### Print the labels of `ex_clusters`."
   ]
  },
  {
   "cell_type": "code",
   "execution_count": 121,
   "metadata": {},
   "outputs": [
    {
     "name": "stdout",
     "output_type": "stream",
     "text": [
      "[1 1 0 0 0 0 0 0 1 1 1 1 1 0 0 0 2 0 0 1 1 1 1 1 0 2 2 2 0 0 0 1 1 1 1 0 1\n",
      " 1 0 1 1 0 2 0 0 2 0 0 1 0 1 1 1 1 0 2 0 0 0 0 0 0 1 1 0 0 0 0 0 0 0 1 1 1\n",
      " 1 1 0 2 2 0 2 2 0 0 0 1 1 0 0 2 2 0 2 2 0 0 1 1 0 1 1 1 1 0 1 1 0 1 0 1 0\n",
      " 0 2 2 2 2 0 0 1 1 1 1 0 0 1 0]\n"
     ]
    }
   ],
   "source": [
    "ex_clusters = AgglomerativeClustering(n_clusters = 3,   \n",
    "                                              affinity = 'euclidean',\n",
    "                                              linkage = 'ward')\n",
    "\n",
    "ex_clusters.fit_predict(ex_scaled_subset)\n",
    "print(ex_clusters.labels_)"
   ]
  },
  {
   "cell_type": "markdown",
   "metadata": {},
   "source": [
    "#### Question 7\n",
    "##### Now create the scatterplot and set `c` as the labels of `ex_clusters`.\n",
    "##### in the `scatterplot()` function. Plot `Sodium (mg)` on the x axis, and '`Calories` on the y axis, and name them accordingly. Set the cmap argument to 'rainbow'."
   ]
  },
  {
   "cell_type": "code",
   "execution_count": 123,
   "metadata": {},
   "outputs": [
    {
     "data": {
      "text/plain": [
       "<matplotlib.collections.PathCollection at 0x10ffbdcf8>"
      ]
     },
     "execution_count": 123,
     "metadata": {},
     "output_type": "execute_result"
    },
    {
     "data": {
      "image/png": "[encoded data removed]",
      "text/plain": [
       "<Figure size 864x720 with 1 Axes>"
      ]
     },
     "metadata": {
      "needs_background": "light"
     },
     "output_type": "display_data"
    }
   ],
   "source": [
    "plt.figure(figsize = (12,10))\n",
    "plt.xlabel('Sodium (mg)')\n",
    "plt.xlabel('Calories')\n",
    "plt.scatter(ex_scaled_subset['Sodium (mg)'],\n",
    "            ex_scaled_subset['Calories'],\n",
    "            c = ex_clusters.labels_, cmap = 'rainbow') "
   ]
  },
  {
   "cell_type": "code",
   "execution_count": null,
   "metadata": {},
   "outputs": [],
   "source": []
  }
 ],
 "metadata": {
  "kernelspec": {
   "display_name": "Python 3",
   "language": "python",
   "name": "python3"
  },
  "language_info": {
   "codemirror_mode": {
    "name": "ipython",
    "version": 3
   },
   "file_extension": ".py",
   "mimetype": "text/x-python",
   "name": "python",
   "nbconvert_exporter": "python",
   "pygments_lexer": "ipython3",
   "version": "3.7.1"
  }
 },
 "nbformat": 4,
 "nbformat_minor": 2
}
