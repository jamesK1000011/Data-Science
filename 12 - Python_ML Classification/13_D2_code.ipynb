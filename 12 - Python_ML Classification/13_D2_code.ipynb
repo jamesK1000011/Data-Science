{
 "cells": [
  {
   "cell_type": "code",
   "execution_count": 1,
   "metadata": {},
   "outputs": [],
   "source": [
    "\n",
    "#######################################################\n",
    "#######################################################\n",
    "############    COPYRIGHT - DATA SOCIETY   ############\n",
    "#######################################################\n",
    "#######################################################\n",
    "\n",
    "## 13 ADVANCED CLASSIFICATION DAY2 ##\n",
    "\n",
    "## NOTE: To run individual pieces of code, select the line of code and\n",
    "##       press ctrl + enter for PCs or command + enter for Macs\n",
    "\n"
   ]
  },
  {
   "cell_type": "code",
   "execution_count": 2,
   "metadata": {},
   "outputs": [
    {
     "ename": "ModuleNotFoundError",
     "evalue": "No module named 'matplotlib'",
     "output_type": "error",
     "traceback": [
      "\u001b[0;31m---------------------------------------------------------------------------\u001b[0m",
      "\u001b[0;31mModuleNotFoundError\u001b[0m                       Traceback (most recent call last)",
      "\u001b[0;32m<ipython-input-2-d9ac40f8efac>\u001b[0m in \u001b[0;36m<module>\u001b[0;34m\u001b[0m\n\u001b[1;32m      4\u001b[0m \u001b[0;32mimport\u001b[0m \u001b[0mos\u001b[0m\u001b[0;34m\u001b[0m\u001b[0;34m\u001b[0m\u001b[0m\n\u001b[1;32m      5\u001b[0m \u001b[0;32mimport\u001b[0m \u001b[0mpickle\u001b[0m\u001b[0;34m\u001b[0m\u001b[0;34m\u001b[0m\u001b[0m\n\u001b[0;32m----> 6\u001b[0;31m \u001b[0;32mimport\u001b[0m \u001b[0mmatplotlib\u001b[0m\u001b[0;34m.\u001b[0m\u001b[0mpyplot\u001b[0m \u001b[0;32mas\u001b[0m \u001b[0mplt\u001b[0m\u001b[0;34m\u001b[0m\u001b[0;34m\u001b[0m\u001b[0m\n\u001b[0m\u001b[1;32m      7\u001b[0m \u001b[0;32mimport\u001b[0m \u001b[0mnumpy\u001b[0m \u001b[0;32mas\u001b[0m \u001b[0mnp\u001b[0m\u001b[0;34m\u001b[0m\u001b[0;34m\u001b[0m\u001b[0m\n\u001b[1;32m      8\u001b[0m \u001b[0;32mimport\u001b[0m \u001b[0mpandas\u001b[0m \u001b[0;32mas\u001b[0m \u001b[0mpd\u001b[0m\u001b[0;34m\u001b[0m\u001b[0;34m\u001b[0m\u001b[0m\n",
      "\u001b[0;31mModuleNotFoundError\u001b[0m: No module named 'matplotlib'"
     ]
    }
   ],
   "source": [
    "#=================================================-\n",
    "#### Slide 3: Loading packages  ####\n",
    "\n",
    "import os\n",
    "import pickle\n",
    "import matplotlib.pyplot as plt\n",
    "import numpy as np\n",
    "import pandas as pd\n",
    "from textwrap import wrap\n",
    "from sklearn.model_selection import train_test_split\n",
    "from sklearn import metrics\n",
    "from sklearn import tree\n",
    "from sklearn.ensemble import RandomForestClassifier\n",
    "from sklearn.metrics import accuracy_score\n",
    "from sklearn.ensemble import GradientBoostingClassifier\n",
    "from matplotlib.legend_handler import HandlerLine2D\n",
    "\n",
    "# New today\n",
    "from sklearn.model_selection import RandomizedSearchCV\n"
   ]
  },
  {
   "cell_type": "code",
   "execution_count": 3,
   "metadata": {},
   "outputs": [],
   "source": [
    "#=================================================-\n",
    "#### Slide 2: Directory settings  ####\n",
    "# Set `main_dir` to the location of your `af-werx` folder (for Linux).\n",
    "#main_dir = \"/home/[username]/Desktop/af-werx\"\n",
    "# Set `main_dir` to the location of your `af-werx` folder (for Mac).\n",
    "#main_dir = '/Users/[username]/Desktop/af-werx'\n",
    "# Set `main_dir` to the location of your `af-werx` folder (for Windows).\n",
    "#main_dir = \"C:\\\\Users\\\\[username]\\\\Desktop\\\\af-werx\"\n",
    "\n",
    "##Coud we introduce relative paths this week?\n",
    "## https://medium.com/@ageitgey/python-3-quick-tip-the-easy-way-to-deal-with-file-paths-on-windows-mac-and-linux-11a072b58d5f\n",
    "\n",
    "#Perhaps introduce os.path.join \n",
    "#and/or pathlib as a python 3 way of handling paths? \n",
    "# in this example I am introducing \"..\" (one folder up) and system specific separators with os.path.join\n",
    "\n",
    "# just for safety capture the original main path - when you re-run the book we will always start from the original folder\n",
    "# this is similar to here() in R which captures the project root.\n",
    "# https://github.com/ipython/ipython/issues/10123\n",
    "nb_root=globals()['_dh']\n",
    "os.chdir(nb_root[0])\n",
    "\n",
    "main_dir = os.path.abspath(os.path.join (\"..\",\"..\"))\n",
    "\n",
    "# Make `data_dir` and 'path_dir' from the `main_dir` and\n",
    "data_dir = os.path.join(main_dir, \"data\")\n",
    "plot_dir = os.path.join(main_dir, \"plot\")\n",
    "\n",
    "# the new relative path is specifying go two folders up to main then open data or plot\n",
    "# this makes he path \n",
    "#    1- easier to read\n",
    "#    2- portable to any machine given that you run the code from the two folders above the data / plot dirs"
   ]
  },
  {
   "cell_type": "code",
   "execution_count": 4,
   "metadata": {},
   "outputs": [
    {
     "name": "stdout",
     "output_type": "stream",
     "text": [
      "/Users/user/Dropbox/Teaching_folders/_Current teaching/data_society_data_science\n",
      "/Users/user/Dropbox/Teaching_folders/_Current teaching/data_society_data_science/data\n",
      "/Users/user/Dropbox/Teaching_folders/_Current teaching/data_society_data_science/plot\n"
     ]
    }
   ],
   "source": [
    "# check that the new paths were composed correctly\n",
    "print(main_dir)\n",
    "print(data_dir)\n",
    "print(plot_dir)\n"
   ]
  },
  {
   "cell_type": "code",
   "execution_count": null,
   "metadata": {},
   "outputs": [],
   "source": []
  },
  {
   "cell_type": "code",
   "execution_count": 5,
   "metadata": {},
   "outputs": [
    {
     "name": "stdout",
     "output_type": "stream",
     "text": [
      "/Users/user/Dropbox/Teaching_folders/_Current teaching/data_society_data_science/data\n"
     ]
    }
   ],
   "source": [
    "#=================================================-\n",
    "#### Slide 4: Working directory  ####\n",
    "# Set working directory.\n",
    "os.chdir(data_dir)\n",
    "# Check working directory.\n",
    "print(os.getcwd())\n",
    "\n"
   ]
  },
  {
   "cell_type": "code",
   "execution_count": 6,
   "metadata": {},
   "outputs": [
    {
     "name": "stdout",
     "output_type": "stream",
     "text": [
      "   rooms  tablet  males_under_12  males_over_12  females_under_12  \\\n",
      "0      3       0               0              1                 0   \n",
      "1      4       1               0              1                 0   \n",
      "2      8       0               0              0                 0   \n",
      "3      5       1               0              2                 1   \n",
      "4      5       1               0              2                 1   \n",
      "\n",
      "   females_over_12  years_of_schooling  wall_block_brick  wall_socket  \\\n",
      "0                0                  10                 1            0   \n",
      "1                0                  12                 0            0   \n",
      "2                1                  11                 0            0   \n",
      "3                1                   9                 1            0   \n",
      "4                1                  11                 1            0   \n",
      "\n",
      "   wall_prefab_cement  ...  num_mobilephones  region_central  \\\n",
      "0                   0  ...                 1               1   \n",
      "1                   0  ...                 1               1   \n",
      "2                   0  ...                 0               1   \n",
      "3                   0  ...                 3               1   \n",
      "4                   0  ...                 3               1   \n",
      "\n",
      "   region_Chorotega  region_pacifico  region_brunca  region_antlantica  \\\n",
      "0                 0                0              0                  0   \n",
      "1                 0                0              0                  0   \n",
      "2                 0                0              0                  0   \n",
      "3                 0                0              0                  0   \n",
      "4                 0                0              0                  0   \n",
      "\n",
      "   region_huetar  urban_zone  age  Target  \n",
      "0              0           1   43    True  \n",
      "1              0           1   67    True  \n",
      "2              0           1   92    True  \n",
      "3              0           1   17    True  \n",
      "4              0           1   37    True  \n",
      "\n",
      "[5 rows x 61 columns]\n"
     ]
    }
   ],
   "source": [
    "#=================================================-\n",
    "#### Slide 10: Load the cleaned dataset  ####\n",
    "\n",
    "os.chdir(data_dir)\n",
    "costa_clean = pickle.load(open(\"costa_no_hc.sav\",\"rb\"))\n",
    "print(costa_clean.head())\n",
    "\n"
   ]
  },
  {
   "cell_type": "code",
   "execution_count": 7,
   "metadata": {},
   "outputs": [
    {
     "data": {
      "text/plain": [
       "Index(['rooms', 'tablet', 'males_under_12', 'males_over_12',\n",
       "       'females_under_12', 'females_over_12', 'years_of_schooling',\n",
       "       'wall_block_brick', 'wall_socket', 'wall_prefab_cement', 'wall_wood',\n",
       "       'floor_mos_cer_terr', 'floor_wood', 'ceiling', 'electric_public',\n",
       "       'toilet_sewer', 'cookenergy_elec', 'trash_truck', 'wall_bad',\n",
       "       'wall_reg', 'roof_bad', 'roof_reg', 'floor_bad', 'floor_reg',\n",
       "       'disabled_ppl', 'male', 'under10', 'free', 'married', 'separated',\n",
       "       'single', 'hh_head', 'hh_spouse', 'hh_child', 'num_65plus',\n",
       "       'dependency_rate', 'male_hh_head_educ', 'female_hh_head_educ',\n",
       "       'meaneduc', 'educ_primary_inc', 'educ_primary', 'educ_secondary_inc',\n",
       "       'educ_secondary', 'educ_undergrad', 'ppl_per_room', 'house_owned_full',\n",
       "       'house_owned_paying', 'house_rented', 'house_other', 'computer',\n",
       "       'television', 'num_mobilephones', 'region_central', 'region_Chorotega',\n",
       "       'region_pacifico', 'region_brunca', 'region_antlantica',\n",
       "       'region_huetar', 'urban_zone', 'age', 'Target'],\n",
       "      dtype='object')"
      ]
     },
     "execution_count": 7,
     "metadata": {},
     "output_type": "execute_result"
    }
   ],
   "source": [
    "#=================================================-\n",
    "#### Slide 11: Print info on data  ####\n",
    "\n",
    "costa_clean.columns\n",
    "\n"
   ]
  },
  {
   "cell_type": "code",
   "execution_count": 8,
   "metadata": {},
   "outputs": [],
   "source": [
    "#=================================================-\n",
    "#### Slide 12: Split into training and test sets  ####\n",
    "\n",
    "# Select the predictors and target.\n",
    "X = costa_clean.drop(['Target'], axis = 1)\n",
    "y = np.array(costa_clean['Target'])\n",
    "\n",
    "# Set the seed to 1.\n",
    "np.random.seed(1)\n",
    "\n",
    "# Split into training and test sets.\n",
    "X_train, X_test, y_train, y_test = train_test_split(X, y, test_size = 0.3)\n",
    "\n"
   ]
  },
  {
   "cell_type": "code",
   "execution_count": 9,
   "metadata": {},
   "outputs": [
    {
     "data": {
      "text/plain": [
       "{'bootstrap': True,\n",
       " 'class_weight': None,\n",
       " 'criterion': 'gini',\n",
       " 'max_depth': None,\n",
       " 'max_features': 'auto',\n",
       " 'max_leaf_nodes': None,\n",
       " 'min_impurity_decrease': 0.0,\n",
       " 'min_impurity_split': None,\n",
       " 'min_samples_leaf': 1,\n",
       " 'min_samples_split': 2,\n",
       " 'min_weight_fraction_leaf': 0.0,\n",
       " 'n_estimators': 100,\n",
       " 'n_jobs': None,\n",
       " 'oob_score': False,\n",
       " 'random_state': 1,\n",
       " 'verbose': 0,\n",
       " 'warm_start': False}"
      ]
     },
     "execution_count": 9,
     "metadata": {},
     "output_type": "execute_result"
    }
   ],
   "source": [
    "#=================================================-\n",
    "#### Slide 13: Tuning random forest model  ####\n",
    "\n",
    "forest = pickle.load(open(\"model_forest.sav\",\"rb\"))\n",
    "forest.get_params()\n",
    "\n"
   ]
  },
  {
   "cell_type": "code",
   "execution_count": 10,
   "metadata": {},
   "outputs": [
    {
     "data": {
      "text/plain": [
       "sklearn.ensemble.forest.RandomForestClassifier"
      ]
     },
     "execution_count": 10,
     "metadata": {},
     "output_type": "execute_result"
    }
   ],
   "source": [
    "type(forest)\n"
   ]
  },
  {
   "cell_type": "code",
   "execution_count": null,
   "metadata": {},
   "outputs": [],
   "source": []
  },
  {
   "cell_type": "code",
   "execution_count": 11,
   "metadata": {},
   "outputs": [
    {
     "name": "stdout",
     "output_type": "stream",
     "text": [
      "{'n_estimators': [200, 400, 600, 800, 1000, 1200, 1400, 1600, 1800, 2000], 'max_features': ['auto', 'sqrt'], 'max_depth': [10, 20, 30, 40, 50, 60, 70, 80, 90, 100, 110, None], 'min_samples_split': [2, 5, 10], 'min_samples_leaf': [1, 2, 4]}\n"
     ]
    }
   ],
   "source": [
    "#=================================================-\n",
    "#### Slide 16: Parameter grid  ####\n",
    "\n",
    "# Number of trees in random forest.\n",
    "n_estimators = [int(x) for x in np.linspace(start = 200, stop = 2000, num = 10)]\n",
    "\n",
    "# Number of features to consider at every split.\n",
    "max_features = ['auto', 'sqrt']\n",
    "\n",
    "# Maximum number of levels in tree.\n",
    "max_depth = [int(x) for x in np.linspace(10, 110, num = 11)]\n",
    "max_depth.append(None)\n",
    "\n",
    "# Minimum number of samples required to split a node.\n",
    "min_samples_split = [2, 5, 10]\n",
    "\n",
    "# Minimum number of samples required at each leaf node.\n",
    "min_samples_leaf = [1, 2, 4]\n",
    "\n",
    "\n",
    "# Create the random grid.\n",
    "random_grid = {'n_estimators': n_estimators,\n",
    "'max_features': max_features,\n",
    "'max_depth': max_depth,\n",
    "'min_samples_split': min_samples_split,\n",
    "'min_samples_leaf': min_samples_leaf}\n",
    "print(random_grid)\n",
    "\n"
   ]
  },
  {
   "cell_type": "code",
   "execution_count": 13,
   "metadata": {},
   "outputs": [
    {
     "name": "stderr",
     "output_type": "stream",
     "text": [
      "/Users/user/anaconda3/lib/python3.7/site-packages/joblib/externals/loky/process_executor.py:706: UserWarning: A worker stopped while some jobs were given to the executor. This can be caused by a too short worker timeout or by a memory leak.\n",
      "  \"timeout or by a memory leak.\", UserWarning\n"
     ]
    },
    {
     "data": {
      "text/plain": [
       "{'n_estimators': 600,\n",
       " 'min_samples_split': 2,\n",
       " 'min_samples_leaf': 1,\n",
       " 'max_features': 'auto',\n",
       " 'max_depth': None}"
      ]
     },
     "execution_count": 13,
     "metadata": {},
     "output_type": "execute_result"
    }
   ],
   "source": [
    "#=================================================-\n",
    "#### Slide 17: Set up cross-validation function  ####\n",
    "\n",
    "rf_random = RandomizedSearchCV(estimator = forest, param_distributions = random_grid, n_iter = 100,\n",
    "                               cv = 3, verbose = 0, random_state = 1, n_jobs = -1)\n",
    "\n",
    "# Fit the random search model.\n",
    "rf_random.fit(X_train, y_train)\n",
    "rf_random.best_params_"
   ]
  },
  {
   "cell_type": "markdown",
   "metadata": {},
   "source": [
    "## Aside - Notice that this takes some time timing and profiling code \n",
    "\n",
    "#### this is for process level profiling\n",
    "https://docs.python.org/3/library/profile.html\n",
    "\n",
    "```{python}\n",
    "import cProfile\n",
    "import re\n",
    "cProfile.run('re.compile(\"foo|bar\")', 'restats')\n",
    "\n",
    "```\n",
    "\n",
    "#### this is for timing\n",
    "\n",
    "```{python}\n",
    "from timeit import default_timer as timer\n",
    "\n",
    "start = timer()\n",
    "# ...\n",
    "end = timer()\n",
    "print(end - start)\n",
    "```"
   ]
  },
  {
   "cell_type": "code",
   "execution_count": null,
   "metadata": {},
   "outputs": [],
   "source": []
  },
  {
   "cell_type": "code",
   "execution_count": 16,
   "metadata": {},
   "outputs": [
    {
     "name": "stderr",
     "output_type": "stream",
     "text": [
      "/Users/user/anaconda3/lib/python3.7/site-packages/joblib/externals/loky/process_executor.py:706: UserWarning: A worker stopped while some jobs were given to the executor. This can be caused by a too short worker timeout or by a memory leak.\n",
      "  \"timeout or by a memory leak.\", UserWarning\n"
     ]
    },
    {
     "name": "stdout",
     "output_type": "stream",
     "text": [
      "The job took 6.931103924449993 min with -1 jobs\n"
     ]
    },
    {
     "data": {
      "text/plain": [
       "{'n_estimators': 600,\n",
       " 'min_samples_split': 2,\n",
       " 'min_samples_leaf': 1,\n",
       " 'max_features': 'auto',\n",
       " 'max_depth': None}"
      ]
     },
     "execution_count": 16,
     "metadata": {},
     "output_type": "execute_result"
    }
   ],
   "source": [
    "#=================================================-\n",
    "#### run the timer \n",
    "import cProfile\n",
    "from timeit import default_timer as timer\n",
    "\n",
    "n_jobs=-1\n",
    "\n",
    "rf_random = RandomizedSearchCV(estimator = forest,\n",
    "                               param_distributions = random_grid, \n",
    "                               n_iter = 100,\n",
    "                               cv = 3,\n",
    "                               verbose = 0, \n",
    "                               random_state = 1, \n",
    "                               n_jobs = n_jobs)\n",
    "\n",
    "start = timer()\n",
    "# Fit the random search model. \n",
    "cProfile.run('rf_random.fit(X_train, y_train)', 'restats_{}_njobs_randgrid'.format(str(n_jobs)))\n",
    "end = timer()\n",
    "print('The job took {} min with {} jobs'.format((end - start)/60, n_jobs))\n",
    "\n",
    "rf_random.best_params_"
   ]
  },
  {
   "cell_type": "code",
   "execution_count": 17,
   "metadata": {},
   "outputs": [
    {
     "name": "stdout",
     "output_type": "stream",
     "text": [
      "\u001b[31mChemicalManufacturingProcess.csv\u001b[m\u001b[m   \u001b[31mhousehold_poverty.csv\u001b[m\u001b[m\n",
      "\u001b[31mGSPC_data.csv\u001b[m\u001b[m                      \u001b[31minteraction-data.csv\u001b[m\u001b[m\n",
      "\u001b[31mIAI.csv\u001b[m\u001b[m                            \u001b[31mloglin.csv\u001b[m\u001b[m\n",
      "\u001b[31mTB_data.csv\u001b[m\u001b[m                        model_final.sav\n",
      "\u001b[31mTB_data_dictionary.csv\u001b[m\u001b[m             model_final_forest_gbm.sav\n",
      "\u001b[31mbeer-sold-by-price.csv\u001b[m\u001b[m             model_final_logistic.sav\n",
      "\u001b[31mchicago_census.csv\u001b[m\u001b[m                 model_final_optimized_ensemble.sav\n",
      "chicago_no_hc.sav                  model_final_tree_all.sav\n",
      "costa_no_hc.sav                    model_forest.sav\n",
      "\u001b[31mcosta_rica_poverty.csv\u001b[m\u001b[m             occupancy_data.csv\n",
      "costa_tree_no_hc.sav               \u001b[31mpoly-data.csv\u001b[m\u001b[m\n",
      "\u001b[31mcustom_functions.R\u001b[m\u001b[m                 \u001b[31mpoly2.csv\u001b[m\u001b[m\n",
      "\u001b[31memployee.sql\u001b[m\u001b[m                       \u001b[31mpoly3.csv\u001b[m\u001b[m\n",
      "ex_classification_cleaned.sav      restats\n",
      "ex_classification_dummies.sav      restats_-1_njobs_randgrid\n",
      "ex_model_final.sav                 \u001b[31mshipping.sql\u001b[m\u001b[m\n",
      "ex_model_final_optimized.sav       \u001b[31mstate_data.csv\u001b[m\u001b[m\n",
      "ex_model_final_rf_gbm.sav          \u001b[31mtemp_heart_rate.csv\u001b[m\u001b[m\n",
      "ex_model_final_svc.sav             \u001b[31mtidyr_tables.RData\u001b[m\u001b[m\n",
      "ex_model_final_tree.sav            trained_tree\n",
      "ex_model_forest.sav                trained_tree.pdf\n",
      "ex_model_log_penalty.sav           \u001b[31mtransaction.sql\u001b[m\u001b[m\n",
      "\u001b[31mfast_food_data.csv\u001b[m\u001b[m                 \u001b[31mworld.sql\u001b[m\u001b[m\n",
      "\u001b[31mgrocery.csv\u001b[m\u001b[m\n"
     ]
    }
   ],
   "source": [
    "!ls"
   ]
  },
  {
   "cell_type": "code",
   "execution_count": 18,
   "metadata": {},
   "outputs": [
    {
     "name": "stdout",
     "output_type": "stream",
     "text": [
      "The job took 30.500343928933336 min with 1 jobs\n"
     ]
    },
    {
     "data": {
      "text/plain": [
       "{'n_estimators': 600,\n",
       " 'min_samples_split': 2,\n",
       " 'min_samples_leaf': 1,\n",
       " 'max_features': 'auto',\n",
       " 'max_depth': None}"
      ]
     },
     "execution_count": 18,
     "metadata": {},
     "output_type": "execute_result"
    }
   ],
   "source": [
    "# To aviod the likelihood of failure, reduce the number of cores used with the n_jobs parameter,\n",
    "# My machine has 4 cores according to the system report so I'll go with 3 n_jobs\n",
    "# Removing n_jobs defaults to using 1 and will take a lot longer.\n",
    "\n",
    "n_jobs=1\n",
    "\n",
    "rf_random = RandomizedSearchCV(estimator = forest, param_distributions = random_grid, n_iter = 100,\n",
    "                               cv = 3, verbose = 0, random_state = 1, n_jobs = n_jobs)\n",
    "\n",
    "start = timer()\n",
    "# Fit the random search model. \n",
    "# Fit the random search model. \n",
    "cProfile.run('rf_random.fit(X_train, y_train)', 'restats_{}_njobs_randgrid'.format(str(n_jobs)))\n",
    "end = timer()\n",
    "print('The job took {} min with {} jobs'.format((end - start)/60, n_jobs))\n",
    "\n",
    "rf_random.best_params_"
   ]
  },
  {
   "cell_type": "code",
   "execution_count": 59,
   "metadata": {},
   "outputs": [
    {
     "data": {
      "text/plain": [
       "RandomForestClassifier(bootstrap=True, class_weight=None, criterion='gini',\n",
       "                       max_depth=10, max_features='sqrt', max_leaf_nodes=None,\n",
       "                       min_impurity_decrease=0.0, min_impurity_split=None,\n",
       "                       min_samples_leaf=2, min_samples_split=5,\n",
       "                       min_weight_fraction_leaf=0.0, n_estimators=1000,\n",
       "                       n_jobs=None, oob_score=False, random_state=1, verbose=0,\n",
       "                       warm_start=False)"
      ]
     },
     "execution_count": 59,
     "metadata": {},
     "output_type": "execute_result"
    }
   ],
   "source": [
    "#=================================================-\n",
    "#### Slide 18: Optimized random forest model  ####\n",
    "\n",
    "optimized_forest = RandomForestClassifier(criterion = 'gini',\n",
    "n_estimators = 1000,\n",
    "min_samples_split = 5,\n",
    "min_samples_leaf = 2,\n",
    "max_features = 'sqrt',\n",
    "max_depth = 10,\n",
    "random_state = 1)\n",
    "optimized_forest.fit(X_train, y_train)"
   ]
  },
  {
   "cell_type": "code",
   "execution_count": 34,
   "metadata": {},
   "outputs": [],
   "source": [
    "#=================================================-\n",
    "#### Slide 20: Exercise 1  ####\n",
    "\n",
    "\n",
    "\n"
   ]
  },
  {
   "cell_type": "code",
   "execution_count": 35,
   "metadata": {},
   "outputs": [
    {
     "name": "stdout",
     "output_type": "stream",
     "text": [
      "[ True  True  True  True  True]\n",
      "Accuracy on test data (best model):  0.8535564853556485\n"
     ]
    }
   ],
   "source": [
    "#=================================================-\n",
    "#### Slide 22: Predict using the best model parameters  ####\n",
    "\n",
    "optimized_forest_y_predict = optimized_forest.predict(X_test)\n",
    "# Look at the first few predictions.\n",
    "print(optimized_forest_y_predict[0:5, ])\n",
    "optimized_forest_accuracy = metrics.accuracy_score(y_test, optimized_forest_y_predict)\n",
    "print (\"Accuracy on test data (best model): \", optimized_forest_accuracy)"
   ]
  },
  {
   "cell_type": "code",
   "execution_count": 36,
   "metadata": {},
   "outputs": [],
   "source": [
    "#=================================================-\n",
    "#### Slide 23: Optimized random forest: save final accuracy  ####\n",
    "\n",
    "model_final_optimized = pickle.load(open(\"model_final_forest_gbm.sav\",\"rb\"))"
   ]
  },
  {
   "cell_type": "code",
   "execution_count": 37,
   "metadata": {},
   "outputs": [
    {
     "name": "stdout",
     "output_type": "stream",
     "text": [
      "     metrics  values                         model\n",
      "0   accuracy  0.6046                         knn_5\n",
      "1   accuracy  0.6188              knn_GridSearchCV\n",
      "2   accuracy  0.6287                        knn_29\n",
      "3   accuracy  0.6356                      logistic\n",
      "4   accuracy  0.7845        logistic_whole_dataset\n",
      "5   accuracy  0.7859                logistic_tuned\n",
      "6   accuracy  0.6611            tree_simple_subset\n",
      "7   accuracy  0.9407            tree_all_variables\n",
      "8   accuracy  0.7183  tree_all_variables_optimized\n",
      "9   accuracy  0.7183  tree_all_variables_optimized\n",
      "10  accuracy  0.9372                 random forest\n",
      "11  accuracy  0.8644                      boosting\n",
      "12  accuracy  0.8536              optimized forest\n"
     ]
    }
   ],
   "source": [
    "#=================================================-\n",
    "#### Slide 24: Optimized random forest: save final accuracy  ####\n",
    "\n",
    "# Add the model to our dataframe.\n",
    "model_final_optimized = model_final_optimized.append({'metrics' : \"accuracy\" ,\n",
    "'values' : round(optimized_forest_accuracy, 4),\n",
    "'model':'optimized forest' } ,\n",
    "ignore_index = True)\n",
    "print(model_final_optimized)"
   ]
  },
  {
   "cell_type": "code",
   "execution_count": 38,
   "metadata": {},
   "outputs": [],
   "source": [
    "#=================================================-\n",
    "#### Slide 26: Exercise 2  ####\n"
   ]
  },
  {
   "cell_type": "code",
   "execution_count": 39,
   "metadata": {},
   "outputs": [],
   "source": [
    "#=================================================-\n",
    "#### Slide 32: Define an optimal number function  ####\n",
    "\n",
    "# Define function that will determine the optimal number for each parameter.\n",
    "def optimal_parameter(values,test_results):\n",
    "    best_test_value = max(test_results)\n",
    "    best_test_index = test_results.index(best_test_value)\n",
    "    best_value = values[best_test_index]\n",
    "    return(best_value)"
   ]
  },
  {
   "cell_type": "code",
   "execution_count": 40,
   "metadata": {},
   "outputs": [],
   "source": [
    "#=================================================-\n",
    "#### Slide 33: Optimize: learning rate  ####\n",
    "\n",
    "# Learning Rate\n",
    "learning_rates = [1, 0.5, 0.25, 0.1, 0.05, 0.01]\n",
    "train_results = []\n",
    "test_results = []\n",
    "\n",
    "for eta in learning_rates:\n",
    "    model = GradientBoostingClassifier(learning_rate=eta)\n",
    "    model.fit(X_train, y_train)\n",
    "    train_pred = model.predict(X_train)\n",
    "    acc_train = accuracy_score(y_train, train_pred)\n",
    "    train_results.append(acc_train)\n",
    "    y_pred = model.predict(X_test)\n",
    "    acc_test = accuracy_score(y_test, y_pred)\n",
    "    test_results.append(acc_test)\n",
    "\n",
    "optimal_learning_rate = optimal_parameter(learning_rates, test_results)\n",
    "\n"
   ]
  },
  {
   "cell_type": "code",
   "execution_count": 41,
   "metadata": {},
   "outputs": [
    {
     "data": {
      "image/png": "[encoded data removed]",
      "text/plain": [
       "<Figure size 432x288 with 1 Axes>"
      ]
     },
     "metadata": {
      "needs_background": "light"
     },
     "output_type": "display_data"
    }
   ],
   "source": [
    "#=================================================-\n",
    "#### Slide 34: Plot: learning rate  ####\n",
    "\n",
    "from matplotlib.legend_handler import HandlerLine2D\n",
    "line1, = plt.plot(learning_rates, train_results,'b', label= \"Train accuracy\")\n",
    "line2, = plt.plot(learning_rates, test_results, 'r', label= \"Test accuracy\")\n",
    "plt.legend(handler_map={line1: HandlerLine2D(numpoints=2)})\n",
    "plt.ylabel(\"Accuracy\")\n",
    "plt.xlabel(\"Learning rate\")\n",
    "plt.show()"
   ]
  },
  {
   "cell_type": "code",
   "execution_count": 42,
   "metadata": {},
   "outputs": [],
   "source": [
    "#=================================================-\n",
    "#### Slide 35: Optimize: n estimators  ####\n",
    "\n",
    "n_estimators = [1, 2, 4, 8, 16, 32, 64, 100, 200]\n",
    "train_results = []\n",
    "test_results = []\n",
    "\n",
    "for estimator in n_estimators:\n",
    "    model = GradientBoostingClassifier(n_estimators=estimator)\n",
    "    model.fit(X_train, y_train)\n",
    "    train_pred = model.predict(X_train)\n",
    "    acc_train = accuracy_score(y_train, train_pred)\n",
    "    train_results.append(acc_train)\n",
    "    y_pred = model.predict(X_test)\n",
    "    acc_test = accuracy_score(y_test, y_pred)\n",
    "    test_results.append(acc_test)\n",
    "\n",
    "optimal_n_estimators = optimal_parameter(n_estimators, test_results)"
   ]
  },
  {
   "cell_type": "code",
   "execution_count": 43,
   "metadata": {},
   "outputs": [
    {
     "data": {
      "image/png": "[encoded data removed]",
      "text/plain": [
       "<Figure size 432x288 with 1 Axes>"
      ]
     },
     "metadata": {
      "needs_background": "light"
     },
     "output_type": "display_data"
    }
   ],
   "source": [
    "#=================================================-\n",
    "#### Slide 36: Plot: n estimators  ####\n",
    "\n",
    "from matplotlib.legend_handler import HandlerLine2D\n",
    "line1, = plt.plot(n_estimators, train_results, 'b', label= \"Train accuracy\")\n",
    "line2, = plt.plot(n_estimators, test_results, 'r', label= \"Test accuracy\")\n",
    "plt.legend(handler_map={line1: HandlerLine2D(numpoints=2)})\n",
    "plt.ylabel('Accuracy')\n",
    "plt.xlabel('n_estimators')\n",
    "plt.show()\n",
    "\n"
   ]
  },
  {
   "cell_type": "code",
   "execution_count": 44,
   "metadata": {},
   "outputs": [],
   "source": [
    "#=================================================-\n",
    "#### Slide 37: Optimize: max depth  ####\n",
    "\n",
    "# Max depth:\n",
    "max_depths = np.linspace(1, 32, 32, endpoint=True)\n",
    "train_results = []\n",
    "test_results = []\n",
    "\n",
    "for max_depth in max_depths:\n",
    "    model = GradientBoostingClassifier(max_depth=max_depth)\n",
    "    model.fit(X_train, y_train)\n",
    "    train_pred = model.predict(X_train)\n",
    "    acc_train = accuracy_score(y_train, train_pred)\n",
    "    train_results.append(acc_train)\n",
    "    y_pred = model.predict(X_test)\n",
    "    acc_test = accuracy_score(y_test, y_pred)\n",
    "    test_results.append(acc_test)\n",
    "\n",
    "# Store optimal max_depth.\n",
    "optimal_max_depth = optimal_parameter(max_depths, test_results)\n",
    "\n"
   ]
  },
  {
   "cell_type": "code",
   "execution_count": 45,
   "metadata": {},
   "outputs": [
    {
     "data": {
      "image/png": "[encoded data removed]",
      "text/plain": [
       "<Figure size 432x288 with 1 Axes>"
      ]
     },
     "metadata": {
      "needs_background": "light"
     },
     "output_type": "display_data"
    }
   ],
   "source": [
    "#=================================================-\n",
    "#### Slide 38: Plot: max depth  ####\n",
    "\n",
    "# Plot max depth over 1-32.\n",
    "line1, = plt.plot(max_depths, train_results, 'b', label= \"Train accuracy\")\n",
    "line2, = plt.plot(max_depths, test_results, 'r', label= \"Test accuracy\")\n",
    "plt.legend(handler_map={line1: HandlerLine2D(numpoints=2)})\n",
    "plt.ylabel('Accuracy')\n",
    "plt.xlabel('Tree depth')\n",
    "plt.show()\n",
    "\n"
   ]
  },
  {
   "cell_type": "code",
   "execution_count": 46,
   "metadata": {},
   "outputs": [],
   "source": [
    "#=================================================-\n",
    "#### Slide 39: Optimize: min samples split  ####\n",
    "\n",
    "min_samples_splits = np.linspace(0.1, 1.0, 10, endpoint = True)\n",
    "train_results = []\n",
    "test_results = []\n",
    "\n",
    "for min_samples_split in min_samples_splits:\n",
    "    model = GradientBoostingClassifier(min_samples_split = min_samples_split)\n",
    "    model.fit(X_train, y_train)\n",
    "    train_pred = model.predict(X_train)\n",
    "    acc_train = accuracy_score(y_train, train_pred)\n",
    "    train_results.append(acc_train)\n",
    "    y_pred = model.predict(X_test)\n",
    "    acc_test = accuracy_score(y_test, y_pred)\n",
    "    test_results.append(acc_test)\n",
    "\n",
    "    # Store optimal min_samples_split.\n",
    "optimal_min_samples_split = optimal_parameter(min_samples_splits, test_results)\n",
    "\n"
   ]
  },
  {
   "cell_type": "code",
   "execution_count": 47,
   "metadata": {},
   "outputs": [
    {
     "data": {
      "image/png": "[encoded data removed]",
      "text/plain": [
       "<Figure size 432x288 with 1 Axes>"
      ]
     },
     "metadata": {
      "needs_background": "light"
     },
     "output_type": "display_data"
    }
   ],
   "source": [
    "#=================================================-\n",
    "#### Slide 40: Plot: min samples split  ####\n",
    "\n",
    "line1, = plt.plot(min_samples_splits, train_results, 'b', label = \"Train accuracy\")\n",
    "line2, = plt.plot(min_samples_splits, test_results, 'r', label = \"Test accuracy\")\n",
    "plt.legend(handler_map = {line1: HandlerLine2D(numpoints = 2)})\n",
    "plt.ylabel('Accuracy')\n",
    "plt.xlabel('min samples split')\n",
    "plt.show()\n",
    "\n"
   ]
  },
  {
   "cell_type": "code",
   "execution_count": 48,
   "metadata": {},
   "outputs": [],
   "source": [
    "#=================================================-\n",
    "#### Slide 41: Optimize: min samples leaf  ####\n",
    "\n",
    "# Min_samples_leaf:\n",
    "min_samples_leafs = np.linspace(0.1, 0.5, 5, endpoint = True)\n",
    "train_results = []\n",
    "test_results = []\n",
    "\n",
    "for min_samples_leaf in min_samples_leafs:\n",
    "    model = GradientBoostingClassifier(min_samples_leaf = min_samples_leaf)\n",
    "    model.fit(X_train, y_train)\n",
    "    train_pred = model.predict(X_train)\n",
    "    acc_train = accuracy_score(y_train, train_pred)\n",
    "    train_results.append(acc_train)\n",
    "    y_pred = model.predict(X_test)\n",
    "    acc_test = accuracy_score(y_test, y_pred)\n",
    "    test_results.append(acc_test)\n",
    "\n",
    "\n",
    "optimal_min_samples_leafs = optimal_parameter(min_samples_leafs, test_results)\n",
    "\n"
   ]
  },
  {
   "cell_type": "code",
   "execution_count": 49,
   "metadata": {},
   "outputs": [
    {
     "data": {
      "image/png": "[encoded data removed]",
      "text/plain": [
       "<Figure size 432x288 with 1 Axes>"
      ]
     },
     "metadata": {
      "needs_background": "light"
     },
     "output_type": "display_data"
    }
   ],
   "source": [
    "#=================================================-\n",
    "#### Slide 42: Plot: min samples leaf  ####\n",
    "\n",
    "line1, = plt.plot(min_samples_leafs, train_results, 'b', label = \"Train accuracy\")\n",
    "line2, = plt.plot(min_samples_leafs, test_results, 'r', label = \"Test accuracy\")\n",
    "plt.legend(handler_map = {line1: HandlerLine2D(numpoints = 2)})\n",
    "plt.ylabel('Accuracy')\n",
    "plt.xlabel('min samples leafs')\n",
    "plt.show()\n",
    "\n"
   ]
  },
  {
   "cell_type": "code",
   "execution_count": 50,
   "metadata": {},
   "outputs": [],
   "source": [
    "#=================================================-\n",
    "#### Slide 43: Optimize: max features  ####\n",
    "\n",
    "# Max_features:\n",
    "max_features = list(range(1,X.shape[1]))\n",
    "train_results = []\n",
    "test_results = []\n",
    "\n",
    "for max_feature in max_features:\n",
    "    model = GradientBoostingClassifier(max_features = max_feature)\n",
    "    model.fit(X_train, y_train)\n",
    "    train_pred = model.predict(X_train)\n",
    "    acc_train = accuracy_score(y_train, train_pred)\n",
    "    # Add acc score to previous train results.\n",
    "    train_results.append(acc_train)\n",
    "    y_pred = model.predict(X_test)\n",
    "    acc_test = accuracy_score(y_test, y_pred)\n",
    "    # Add acc score to previous test results.\n",
    "    test_results.append(acc_test)\n",
    "\n",
    "optimal_max_features = optimal_parameter(max_features, test_results)\n",
    "\n"
   ]
  },
  {
   "cell_type": "code",
   "execution_count": 51,
   "metadata": {},
   "outputs": [
    {
     "data": {
      "image/png": "[encoded data removed]",
      "text/plain": [
       "<Figure size 432x288 with 1 Axes>"
      ]
     },
     "metadata": {
      "needs_background": "light"
     },
     "output_type": "display_data"
    }
   ],
   "source": [
    "#=================================================-\n",
    "#### Slide 44: Plot: max features  ####\n",
    "\n",
    "line1, = plt.plot(max_features, train_results, 'b', label = \"Train accuracy\")\n",
    "line2, = plt.plot(max_features, test_results, 'r', label = \"Test accuracy\")\n",
    "plt.legend(handler_map = {line1: HandlerLine2D(numpoints = 2)})\n",
    "plt.ylabel('Accuracy')\n",
    "plt.xlabel('max features')\n",
    "plt.show()\n",
    "\n"
   ]
  },
  {
   "cell_type": "code",
   "execution_count": 52,
   "metadata": {},
   "outputs": [
    {
     "name": "stdout",
     "output_type": "stream",
     "text": [
      "The optimal learning rate is: 1\n",
      "The optimal number of estimators is: 200\n",
      "The optimal max depth is: 12.0\n",
      "The optimal min samples split is: 0.1\n",
      "The optimal min samples leaf is: 0.1\n",
      "The optimal max features is: 59\n"
     ]
    }
   ],
   "source": [
    "#=================================================-\n",
    "#### Slide 45: Optimized model  ####\n",
    "\n",
    "print(\"The optimal learning rate is:\", optimal_learning_rate)\n",
    "print(\"The optimal number of estimators is:\", optimal_n_estimators)\n",
    "print(\"The optimal max depth is:\", optimal_max_depth)\n",
    "print(\"The optimal min samples split is:\", optimal_min_samples_split)\n",
    "print(\"The optimal min samples leaf is:\", optimal_min_samples_leafs)\n",
    "print(\"The optimal max features is:\", optimal_max_features)\n",
    "\n"
   ]
  },
  {
   "cell_type": "code",
   "execution_count": 53,
   "metadata": {},
   "outputs": [],
   "source": [
    "#=================================================-\n",
    "#### Slide 47: Exercise 3  ####\n",
    "\n",
    "\n",
    "\n"
   ]
  },
  {
   "cell_type": "code",
   "execution_count": 54,
   "metadata": {},
   "outputs": [
    {
     "name": "stdout",
     "output_type": "stream",
     "text": [
      "GradientBoostingClassifier(criterion='friedman_mse', init=None, learning_rate=1,\n",
      "                           loss='deviance', max_depth=12.0, max_features=59,\n",
      "                           max_leaf_nodes=None, min_impurity_decrease=0.0,\n",
      "                           min_impurity_split=None, min_samples_leaf=0.1,\n",
      "                           min_samples_split=0.1, min_weight_fraction_leaf=0.0,\n",
      "                           n_estimators=200, n_iter_no_change=None,\n",
      "                           presort='auto', random_state=None, subsample=1.0,\n",
      "                           tol=0.0001, validation_fraction=0.1, verbose=0,\n",
      "                           warm_start=False)\n"
     ]
    }
   ],
   "source": [
    "#=================================================-\n",
    "#### Slide 49: Build optimized model  ####\n",
    "\n",
    "# Set the seed.\n",
    "np.random.seed(1)\n",
    "\n",
    "# Implement the decision tree on X_train.\n",
    "gbm_optimized = GradientBoostingClassifier(learning_rate = optimal_learning_rate,\n",
    "n_estimators = optimal_n_estimators,\n",
    "max_depth = optimal_max_depth,\n",
    "min_samples_split = optimal_min_samples_split,\n",
    "min_samples_leaf = optimal_min_samples_leafs,\n",
    "max_features = optimal_max_features)\n",
    "\n",
    "# We can now see our optimized features where before they were just default:\n",
    "print(gbm_optimized)\n",
    "\n",
    "gbm_optimized_fit = gbm_optimized.fit(X_train, y_train)\n",
    "\n"
   ]
  },
  {
   "cell_type": "code",
   "execution_count": 55,
   "metadata": {},
   "outputs": [
    {
     "name": "stdout",
     "output_type": "stream",
     "text": [
      "0.8797071129707112\n"
     ]
    }
   ],
   "source": [
    "#=================================================-\n",
    "#### Slide 50: Predict with optimized model  ####\n",
    "\n",
    "# Predict on X_test.\n",
    "y_predict_gbm_optimized = gbm_optimized.predict(X_test)\n",
    "\n",
    "# Accuracy score.\n",
    "acc_score_gbm_optimized = accuracy_score(y_test, y_predict_gbm_optimized)\n",
    "\n",
    "print(acc_score_gbm_optimized)\n",
    "\n"
   ]
  },
  {
   "cell_type": "code",
   "execution_count": 56,
   "metadata": {},
   "outputs": [
    {
     "name": "stdout",
     "output_type": "stream",
     "text": [
      "     metrics  values                         model\n",
      "0   accuracy  0.6046                         knn_5\n",
      "1   accuracy  0.6188              knn_GridSearchCV\n",
      "2   accuracy  0.6287                        knn_29\n",
      "3   accuracy  0.6356                      logistic\n",
      "4   accuracy  0.7845        logistic_whole_dataset\n",
      "5   accuracy  0.7859                logistic_tuned\n",
      "6   accuracy  0.6611            tree_simple_subset\n",
      "7   accuracy  0.9407            tree_all_variables\n",
      "8   accuracy  0.7183  tree_all_variables_optimized\n",
      "9   accuracy  0.7183  tree_all_variables_optimized\n",
      "10  accuracy  0.9372                 random forest\n",
      "11  accuracy  0.8644                      boosting\n",
      "12  accuracy  0.8536              optimized forest\n",
      "13  accuracy  0.8797                 gbm_optimized\n"
     ]
    }
   ],
   "source": [
    "#=================================================-\n",
    "#### Slide 51: Add accuracy score to the final scores  ####\n",
    "\n",
    "model_final_optimized = model_final_optimized.append({'metrics' : \"accuracy\" ,\n",
    "'values' : round(acc_score_gbm_optimized,4),\n",
    "'model':'gbm_optimized'} ,\n",
    "ignore_index = True)\n",
    "print(model_final_optimized)\n",
    "\n"
   ]
  },
  {
   "cell_type": "code",
   "execution_count": 57,
   "metadata": {},
   "outputs": [
    {
     "name": "stdout",
     "output_type": "stream",
     "text": [
      "     metrics  values                         model\n",
      "0   accuracy  0.6046                         knn_5\n",
      "1   accuracy  0.6188              knn_GridSearchCV\n",
      "2   accuracy  0.6287                        knn_29\n",
      "3   accuracy  0.6356                      logistic\n",
      "4   accuracy  0.7845        logistic_whole_dataset\n",
      "5   accuracy  0.7859                logistic_tuned\n",
      "6   accuracy  0.6611            tree_simple_subset\n",
      "7   accuracy  0.9407            tree_all_variables\n",
      "8   accuracy  0.7183  tree_all_variables_optimized\n",
      "9   accuracy  0.7183  tree_all_variables_optimized\n",
      "10  accuracy  0.9372                 random forest\n",
      "11  accuracy  0.8644                      boosting\n",
      "12  accuracy  0.8536              optimized forest\n",
      "13  accuracy  0.8797                 gbm_optimized\n"
     ]
    }
   ],
   "source": [
    "#=================================================-\n",
    "#### Slide 53: Final scores  ####\n",
    "\n",
    "print(model_final_optimized)\n",
    "pickle.dump(model_final_optimized, open(\"model_final_optimized_ensemble.sav\", \"wb\" ))\n",
    "\n"
   ]
  },
  {
   "cell_type": "code",
   "execution_count": null,
   "metadata": {},
   "outputs": [],
   "source": []
  }
 ],
 "metadata": {
  "kernelspec": {
   "display_name": "Python 3",
   "language": "python",
   "name": "python3"
  },
  "language": "python",
  "language_info": {
   "codemirror_mode": {
    "name": "ipython",
    "version": 3
   },
   "file_extension": ".py",
   "mimetype": "text/x-python",
   "name": "python",
   "nbconvert_exporter": "python",
   "pygments_lexer": "ipython3",
   "version": "3.7.1"
  }
 },
 "nbformat": 4,
 "nbformat_minor": 4
}
