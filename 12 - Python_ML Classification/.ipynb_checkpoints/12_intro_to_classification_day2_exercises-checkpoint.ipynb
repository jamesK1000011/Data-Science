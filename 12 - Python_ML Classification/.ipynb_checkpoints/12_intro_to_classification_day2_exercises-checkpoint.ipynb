{
 "cells": [
  {
   "cell_type": "markdown",
   "metadata": {},
   "source": [
    "# Introduction to Classification Day 2 Exercises"
   ]
  },
  {
   "cell_type": "markdown",
   "metadata": {},
   "source": [
    "## Exercise 1"
   ]
  },
  {
   "cell_type": "markdown",
   "metadata": {},
   "source": [
    "#### Question 1\n",
    "##### Import the required packages.\n",
    "##### Set the working directory to data directory.\n",
    "##### Print the working directory."
   ]
  },
  {
   "cell_type": "code",
   "execution_count": 85,
   "metadata": {},
   "outputs": [],
   "source": [
    "# Set `main_dir` to the location of your `af-werx` folder (for Mac).\n",
    "main_dir = '/Users/datasociety/Desktop/af-werx'\n",
    "data_dir = main_dir + \"/data\""
   ]
  },
  {
   "cell_type": "code",
   "execution_count": 86,
   "metadata": {},
   "outputs": [],
   "source": [
    "# Helper packages.\n",
    "import os\n",
    "import numpy as np\n",
    "import pandas as pd\n",
    "import matplotlib.pyplot as plt\n",
    "import pickle\n",
    "# Scikit-learn package for logistic regression.\n",
    "from sklearn import linear_model\n",
    "# Model set up and tuning packages from scikit-learn.\n",
    "from sklearn.model_selection import train_test_split\n",
    "from sklearn.model_selection import GridSearchCV\n",
    "# Scikit-learn packages for evaluating model performance.\n",
    "from sklearn import metrics\n",
    "# Scikit-learn package for data preprocessing.\n",
    "from sklearn import preprocessing\n",
    "\n",
    "import warnings\n",
    "warnings.simplefilter(action='ignore', category=FutureWarning)"
   ]
  },
  {
   "cell_type": "code",
   "execution_count": 87,
   "metadata": {},
   "outputs": [
    {
     "name": "stdout",
     "output_type": "stream",
     "text": [
      "/Users/datasociety/Desktop/af-werx/data\n"
     ]
    }
   ],
   "source": [
    "# Set working directory.\n",
    "os.chdir(data_dir)\n",
    "# Check working directory.\n",
    "print(os.getcwd())"
   ]
  },
  {
   "cell_type": "markdown",
   "metadata": {},
   "source": [
    "#### Question 2\n",
    "##### Load the pickled dataset `ex_classification_cleaned.sav` and save it to `ex_classification`.\n",
    "##### Print the first few rows of `ex_classification`.\n",
    "##### We don't need to do additional data preparation because we've done it during last session's exercise. \n",
    "##### Check the data types for all of the variables just in case.\n",
    "##### Look at the count of each class in `income`."
   ]
  },
  {
   "cell_type": "code",
   "execution_count": 111,
   "metadata": {},
   "outputs": [
    {
     "name": "stdout",
     "output_type": "stream",
     "text": [
      "percent_house_crowded          float64\n",
      "percent_house_below_poverty    float64\n",
      "percent_16_unemployed          float64\n",
      "percent_25_without_diploma     float64\n",
      "percent_dependent              float64\n",
      "per_capita_income                int64\n",
      "hardship_index                 float64\n",
      "income                            bool\n",
      "dtype: object\n"
     ]
    },
    {
     "data": {
      "text/html": [
       "<div>\n",
       "<style scoped>\n",
       "    .dataframe tbody tr th:only-of-type {\n",
       "        vertical-align: middle;\n",
       "    }\n",
       "\n",
       "    .dataframe tbody tr th {\n",
       "        vertical-align: top;\n",
       "    }\n",
       "\n",
       "    .dataframe thead th {\n",
       "        text-align: right;\n",
       "    }\n",
       "</style>\n",
       "<table border=\"1\" class=\"dataframe\">\n",
       "  <thead>\n",
       "    <tr style=\"text-align: right;\">\n",
       "      <th></th>\n",
       "      <th>percent_house_crowded</th>\n",
       "      <th>percent_house_below_poverty</th>\n",
       "      <th>percent_16_unemployed</th>\n",
       "      <th>percent_25_without_diploma</th>\n",
       "      <th>percent_dependent</th>\n",
       "      <th>per_capita_income</th>\n",
       "      <th>hardship_index</th>\n",
       "      <th>income</th>\n",
       "    </tr>\n",
       "  </thead>\n",
       "  <tbody>\n",
       "    <tr>\n",
       "      <th>0</th>\n",
       "      <td>7.7</td>\n",
       "      <td>23.6</td>\n",
       "      <td>8.7</td>\n",
       "      <td>18.2</td>\n",
       "      <td>27.5</td>\n",
       "      <td>23939</td>\n",
       "      <td>39.000000</td>\n",
       "      <td>False</td>\n",
       "    </tr>\n",
       "    <tr>\n",
       "      <th>1</th>\n",
       "      <td>7.8</td>\n",
       "      <td>17.2</td>\n",
       "      <td>8.8</td>\n",
       "      <td>20.8</td>\n",
       "      <td>38.5</td>\n",
       "      <td>23040</td>\n",
       "      <td>46.000000</td>\n",
       "      <td>False</td>\n",
       "    </tr>\n",
       "    <tr>\n",
       "      <th>2</th>\n",
       "      <td>3.8</td>\n",
       "      <td>24.0</td>\n",
       "      <td>8.9</td>\n",
       "      <td>11.8</td>\n",
       "      <td>22.2</td>\n",
       "      <td>35787</td>\n",
       "      <td>20.000000</td>\n",
       "      <td>True</td>\n",
       "    </tr>\n",
       "    <tr>\n",
       "      <th>3</th>\n",
       "      <td>3.4</td>\n",
       "      <td>10.9</td>\n",
       "      <td>8.2</td>\n",
       "      <td>13.4</td>\n",
       "      <td>25.5</td>\n",
       "      <td>37524</td>\n",
       "      <td>17.000000</td>\n",
       "      <td>True</td>\n",
       "    </tr>\n",
       "    <tr>\n",
       "      <th>4</th>\n",
       "      <td>0.3</td>\n",
       "      <td>7.5</td>\n",
       "      <td>5.2</td>\n",
       "      <td>4.5</td>\n",
       "      <td>26.2</td>\n",
       "      <td>57123</td>\n",
       "      <td>6.000000</td>\n",
       "      <td>True</td>\n",
       "    </tr>\n",
       "    <tr>\n",
       "      <th>5</th>\n",
       "      <td>1.1</td>\n",
       "      <td>11.4</td>\n",
       "      <td>4.7</td>\n",
       "      <td>2.6</td>\n",
       "      <td>17.0</td>\n",
       "      <td>60058</td>\n",
       "      <td>5.000000</td>\n",
       "      <td>True</td>\n",
       "    </tr>\n",
       "    <tr>\n",
       "      <th>6</th>\n",
       "      <td>0.8</td>\n",
       "      <td>12.3</td>\n",
       "      <td>5.1</td>\n",
       "      <td>3.6</td>\n",
       "      <td>21.5</td>\n",
       "      <td>71551</td>\n",
       "      <td>2.000000</td>\n",
       "      <td>True</td>\n",
       "    </tr>\n",
       "    <tr>\n",
       "      <th>7</th>\n",
       "      <td>1.9</td>\n",
       "      <td>12.9</td>\n",
       "      <td>7.0</td>\n",
       "      <td>2.5</td>\n",
       "      <td>22.6</td>\n",
       "      <td>88669</td>\n",
       "      <td>1.000000</td>\n",
       "      <td>True</td>\n",
       "    </tr>\n",
       "    <tr>\n",
       "      <th>8</th>\n",
       "      <td>1.1</td>\n",
       "      <td>3.3</td>\n",
       "      <td>6.5</td>\n",
       "      <td>7.4</td>\n",
       "      <td>35.3</td>\n",
       "      <td>40959</td>\n",
       "      <td>8.000000</td>\n",
       "      <td>True</td>\n",
       "    </tr>\n",
       "    <tr>\n",
       "      <th>9</th>\n",
       "      <td>2.0</td>\n",
       "      <td>5.4</td>\n",
       "      <td>9.0</td>\n",
       "      <td>11.5</td>\n",
       "      <td>39.5</td>\n",
       "      <td>32875</td>\n",
       "      <td>21.000000</td>\n",
       "      <td>True</td>\n",
       "    </tr>\n",
       "    <tr>\n",
       "      <th>10</th>\n",
       "      <td>2.7</td>\n",
       "      <td>8.6</td>\n",
       "      <td>12.4</td>\n",
       "      <td>13.4</td>\n",
       "      <td>35.5</td>\n",
       "      <td>27751</td>\n",
       "      <td>25.000000</td>\n",
       "      <td>True</td>\n",
       "    </tr>\n",
       "    <tr>\n",
       "      <th>11</th>\n",
       "      <td>1.1</td>\n",
       "      <td>7.5</td>\n",
       "      <td>6.8</td>\n",
       "      <td>4.9</td>\n",
       "      <td>40.5</td>\n",
       "      <td>44164</td>\n",
       "      <td>11.000000</td>\n",
       "      <td>True</td>\n",
       "    </tr>\n",
       "    <tr>\n",
       "      <th>12</th>\n",
       "      <td>3.9</td>\n",
       "      <td>13.2</td>\n",
       "      <td>9.9</td>\n",
       "      <td>14.4</td>\n",
       "      <td>39.0</td>\n",
       "      <td>26576</td>\n",
       "      <td>33.000000</td>\n",
       "      <td>True</td>\n",
       "    </tr>\n",
       "    <tr>\n",
       "      <th>13</th>\n",
       "      <td>11.3</td>\n",
       "      <td>19.2</td>\n",
       "      <td>10.0</td>\n",
       "      <td>32.9</td>\n",
       "      <td>32.0</td>\n",
       "      <td>21323</td>\n",
       "      <td>53.000000</td>\n",
       "      <td>False</td>\n",
       "    </tr>\n",
       "    <tr>\n",
       "      <th>14</th>\n",
       "      <td>4.1</td>\n",
       "      <td>11.6</td>\n",
       "      <td>12.6</td>\n",
       "      <td>19.3</td>\n",
       "      <td>34.0</td>\n",
       "      <td>24336</td>\n",
       "      <td>35.000000</td>\n",
       "      <td>False</td>\n",
       "    </tr>\n",
       "    <tr>\n",
       "      <th>15</th>\n",
       "      <td>6.3</td>\n",
       "      <td>13.1</td>\n",
       "      <td>10.0</td>\n",
       "      <td>22.4</td>\n",
       "      <td>31.6</td>\n",
       "      <td>27249</td>\n",
       "      <td>34.000000</td>\n",
       "      <td>True</td>\n",
       "    </tr>\n",
       "    <tr>\n",
       "      <th>16</th>\n",
       "      <td>5.2</td>\n",
       "      <td>10.6</td>\n",
       "      <td>10.0</td>\n",
       "      <td>16.2</td>\n",
       "      <td>33.6</td>\n",
       "      <td>26282</td>\n",
       "      <td>28.000000</td>\n",
       "      <td>True</td>\n",
       "    </tr>\n",
       "    <tr>\n",
       "      <th>17</th>\n",
       "      <td>8.1</td>\n",
       "      <td>15.3</td>\n",
       "      <td>13.8</td>\n",
       "      <td>23.5</td>\n",
       "      <td>38.6</td>\n",
       "      <td>22014</td>\n",
       "      <td>50.000000</td>\n",
       "      <td>False</td>\n",
       "    </tr>\n",
       "    <tr>\n",
       "      <th>18</th>\n",
       "      <td>10.8</td>\n",
       "      <td>18.7</td>\n",
       "      <td>14.6</td>\n",
       "      <td>37.3</td>\n",
       "      <td>37.3</td>\n",
       "      <td>15461</td>\n",
       "      <td>70.000000</td>\n",
       "      <td>False</td>\n",
       "    </tr>\n",
       "    <tr>\n",
       "      <th>19</th>\n",
       "      <td>6.9</td>\n",
       "      <td>20.5</td>\n",
       "      <td>13.1</td>\n",
       "      <td>41.6</td>\n",
       "      <td>36.4</td>\n",
       "      <td>15089</td>\n",
       "      <td>71.000000</td>\n",
       "      <td>False</td>\n",
       "    </tr>\n",
       "    <tr>\n",
       "      <th>20</th>\n",
       "      <td>6.0</td>\n",
       "      <td>15.3</td>\n",
       "      <td>9.2</td>\n",
       "      <td>24.7</td>\n",
       "      <td>31.0</td>\n",
       "      <td>20039</td>\n",
       "      <td>42.000000</td>\n",
       "      <td>False</td>\n",
       "    </tr>\n",
       "    <tr>\n",
       "      <th>21</th>\n",
       "      <td>3.2</td>\n",
       "      <td>16.8</td>\n",
       "      <td>8.2</td>\n",
       "      <td>14.8</td>\n",
       "      <td>26.2</td>\n",
       "      <td>31908</td>\n",
       "      <td>23.000000</td>\n",
       "      <td>True</td>\n",
       "    </tr>\n",
       "    <tr>\n",
       "      <th>22</th>\n",
       "      <td>14.8</td>\n",
       "      <td>33.9</td>\n",
       "      <td>17.3</td>\n",
       "      <td>35.4</td>\n",
       "      <td>38.0</td>\n",
       "      <td>13781</td>\n",
       "      <td>85.000000</td>\n",
       "      <td>False</td>\n",
       "    </tr>\n",
       "    <tr>\n",
       "      <th>23</th>\n",
       "      <td>2.3</td>\n",
       "      <td>14.7</td>\n",
       "      <td>6.6</td>\n",
       "      <td>12.9</td>\n",
       "      <td>21.7</td>\n",
       "      <td>43198</td>\n",
       "      <td>10.000000</td>\n",
       "      <td>True</td>\n",
       "    </tr>\n",
       "    <tr>\n",
       "      <th>24</th>\n",
       "      <td>6.3</td>\n",
       "      <td>28.6</td>\n",
       "      <td>22.6</td>\n",
       "      <td>24.4</td>\n",
       "      <td>37.9</td>\n",
       "      <td>15957</td>\n",
       "      <td>73.000000</td>\n",
       "      <td>False</td>\n",
       "    </tr>\n",
       "    <tr>\n",
       "      <th>25</th>\n",
       "      <td>9.4</td>\n",
       "      <td>41.7</td>\n",
       "      <td>25.8</td>\n",
       "      <td>24.5</td>\n",
       "      <td>43.6</td>\n",
       "      <td>10934</td>\n",
       "      <td>92.000000</td>\n",
       "      <td>False</td>\n",
       "    </tr>\n",
       "    <tr>\n",
       "      <th>26</th>\n",
       "      <td>8.2</td>\n",
       "      <td>42.4</td>\n",
       "      <td>19.6</td>\n",
       "      <td>21.3</td>\n",
       "      <td>43.2</td>\n",
       "      <td>12961</td>\n",
       "      <td>83.000000</td>\n",
       "      <td>False</td>\n",
       "    </tr>\n",
       "    <tr>\n",
       "      <th>27</th>\n",
       "      <td>3.8</td>\n",
       "      <td>20.6</td>\n",
       "      <td>10.7</td>\n",
       "      <td>9.6</td>\n",
       "      <td>22.2</td>\n",
       "      <td>44689</td>\n",
       "      <td>15.000000</td>\n",
       "      <td>True</td>\n",
       "    </tr>\n",
       "    <tr>\n",
       "      <th>28</th>\n",
       "      <td>7.4</td>\n",
       "      <td>43.1</td>\n",
       "      <td>21.2</td>\n",
       "      <td>27.6</td>\n",
       "      <td>42.7</td>\n",
       "      <td>12034</td>\n",
       "      <td>87.000000</td>\n",
       "      <td>False</td>\n",
       "    </tr>\n",
       "    <tr>\n",
       "      <th>29</th>\n",
       "      <td>15.2</td>\n",
       "      <td>30.7</td>\n",
       "      <td>15.8</td>\n",
       "      <td>54.8</td>\n",
       "      <td>33.8</td>\n",
       "      <td>10402</td>\n",
       "      <td>96.000000</td>\n",
       "      <td>False</td>\n",
       "    </tr>\n",
       "    <tr>\n",
       "      <th>...</th>\n",
       "      <td>...</td>\n",
       "      <td>...</td>\n",
       "      <td>...</td>\n",
       "      <td>...</td>\n",
       "      <td>...</td>\n",
       "      <td>...</td>\n",
       "      <td>...</td>\n",
       "      <td>...</td>\n",
       "    </tr>\n",
       "    <tr>\n",
       "      <th>48</th>\n",
       "      <td>2.5</td>\n",
       "      <td>19.8</td>\n",
       "      <td>20.3</td>\n",
       "      <td>16.9</td>\n",
       "      <td>41.2</td>\n",
       "      <td>17949</td>\n",
       "      <td>52.000000</td>\n",
       "      <td>False</td>\n",
       "    </tr>\n",
       "    <tr>\n",
       "      <th>49</th>\n",
       "      <td>1.5</td>\n",
       "      <td>21.6</td>\n",
       "      <td>22.8</td>\n",
       "      <td>13.1</td>\n",
       "      <td>38.6</td>\n",
       "      <td>20588</td>\n",
       "      <td>51.000000</td>\n",
       "      <td>False</td>\n",
       "    </tr>\n",
       "    <tr>\n",
       "      <th>50</th>\n",
       "      <td>4.0</td>\n",
       "      <td>29.2</td>\n",
       "      <td>16.3</td>\n",
       "      <td>21.0</td>\n",
       "      <td>39.5</td>\n",
       "      <td>14685</td>\n",
       "      <td>65.000000</td>\n",
       "      <td>False</td>\n",
       "    </tr>\n",
       "    <tr>\n",
       "      <th>51</th>\n",
       "      <td>6.8</td>\n",
       "      <td>19.2</td>\n",
       "      <td>12.1</td>\n",
       "      <td>31.9</td>\n",
       "      <td>42.8</td>\n",
       "      <td>17104</td>\n",
       "      <td>64.000000</td>\n",
       "      <td>False</td>\n",
       "    </tr>\n",
       "    <tr>\n",
       "      <th>52</th>\n",
       "      <td>3.3</td>\n",
       "      <td>25.9</td>\n",
       "      <td>19.4</td>\n",
       "      <td>20.5</td>\n",
       "      <td>42.1</td>\n",
       "      <td>16563</td>\n",
       "      <td>62.000000</td>\n",
       "      <td>False</td>\n",
       "    </tr>\n",
       "    <tr>\n",
       "      <th>53</th>\n",
       "      <td>5.8</td>\n",
       "      <td>56.5</td>\n",
       "      <td>34.6</td>\n",
       "      <td>27.5</td>\n",
       "      <td>51.5</td>\n",
       "      <td>8201</td>\n",
       "      <td>98.000000</td>\n",
       "      <td>False</td>\n",
       "    </tr>\n",
       "    <tr>\n",
       "      <th>54</th>\n",
       "      <td>3.3</td>\n",
       "      <td>17.1</td>\n",
       "      <td>9.6</td>\n",
       "      <td>19.2</td>\n",
       "      <td>42.9</td>\n",
       "      <td>22677</td>\n",
       "      <td>44.000000</td>\n",
       "      <td>False</td>\n",
       "    </tr>\n",
       "    <tr>\n",
       "      <th>55</th>\n",
       "      <td>2.6</td>\n",
       "      <td>8.8</td>\n",
       "      <td>11.3</td>\n",
       "      <td>19.3</td>\n",
       "      <td>38.1</td>\n",
       "      <td>26353</td>\n",
       "      <td>32.000000</td>\n",
       "      <td>True</td>\n",
       "    </tr>\n",
       "    <tr>\n",
       "      <th>56</th>\n",
       "      <td>8.5</td>\n",
       "      <td>14.1</td>\n",
       "      <td>16.5</td>\n",
       "      <td>35.9</td>\n",
       "      <td>39.2</td>\n",
       "      <td>16134</td>\n",
       "      <td>67.000000</td>\n",
       "      <td>False</td>\n",
       "    </tr>\n",
       "    <tr>\n",
       "      <th>57</th>\n",
       "      <td>14.4</td>\n",
       "      <td>23.6</td>\n",
       "      <td>13.9</td>\n",
       "      <td>45.1</td>\n",
       "      <td>39.3</td>\n",
       "      <td>13089</td>\n",
       "      <td>84.000000</td>\n",
       "      <td>False</td>\n",
       "    </tr>\n",
       "    <tr>\n",
       "      <th>58</th>\n",
       "      <td>7.2</td>\n",
       "      <td>18.7</td>\n",
       "      <td>13.4</td>\n",
       "      <td>32.9</td>\n",
       "      <td>35.6</td>\n",
       "      <td>16954</td>\n",
       "      <td>61.000000</td>\n",
       "      <td>False</td>\n",
       "    </tr>\n",
       "    <tr>\n",
       "      <th>59</th>\n",
       "      <td>4.5</td>\n",
       "      <td>18.9</td>\n",
       "      <td>13.7</td>\n",
       "      <td>22.2</td>\n",
       "      <td>31.3</td>\n",
       "      <td>22694</td>\n",
       "      <td>43.000000</td>\n",
       "      <td>False</td>\n",
       "    </tr>\n",
       "    <tr>\n",
       "      <th>60</th>\n",
       "      <td>11.9</td>\n",
       "      <td>29.0</td>\n",
       "      <td>23.0</td>\n",
       "      <td>41.5</td>\n",
       "      <td>38.9</td>\n",
       "      <td>12765</td>\n",
       "      <td>91.000000</td>\n",
       "      <td>False</td>\n",
       "    </tr>\n",
       "    <tr>\n",
       "      <th>61</th>\n",
       "      <td>11.1</td>\n",
       "      <td>15.6</td>\n",
       "      <td>16.7</td>\n",
       "      <td>37.0</td>\n",
       "      <td>37.7</td>\n",
       "      <td>15754</td>\n",
       "      <td>69.000000</td>\n",
       "      <td>False</td>\n",
       "    </tr>\n",
       "    <tr>\n",
       "      <th>62</th>\n",
       "      <td>15.8</td>\n",
       "      <td>23.4</td>\n",
       "      <td>18.2</td>\n",
       "      <td>51.5</td>\n",
       "      <td>38.8</td>\n",
       "      <td>12171</td>\n",
       "      <td>93.000000</td>\n",
       "      <td>False</td>\n",
       "    </tr>\n",
       "    <tr>\n",
       "      <th>63</th>\n",
       "      <td>2.7</td>\n",
       "      <td>8.9</td>\n",
       "      <td>9.5</td>\n",
       "      <td>18.8</td>\n",
       "      <td>37.6</td>\n",
       "      <td>25113</td>\n",
       "      <td>29.000000</td>\n",
       "      <td>False</td>\n",
       "    </tr>\n",
       "    <tr>\n",
       "      <th>64</th>\n",
       "      <td>5.8</td>\n",
       "      <td>14.9</td>\n",
       "      <td>9.6</td>\n",
       "      <td>33.6</td>\n",
       "      <td>39.6</td>\n",
       "      <td>16907</td>\n",
       "      <td>56.000000</td>\n",
       "      <td>False</td>\n",
       "    </tr>\n",
       "    <tr>\n",
       "      <th>65</th>\n",
       "      <td>7.6</td>\n",
       "      <td>27.9</td>\n",
       "      <td>17.1</td>\n",
       "      <td>31.2</td>\n",
       "      <td>40.6</td>\n",
       "      <td>13231</td>\n",
       "      <td>80.000000</td>\n",
       "      <td>False</td>\n",
       "    </tr>\n",
       "    <tr>\n",
       "      <th>66</th>\n",
       "      <td>4.8</td>\n",
       "      <td>34.4</td>\n",
       "      <td>35.9</td>\n",
       "      <td>26.3</td>\n",
       "      <td>40.7</td>\n",
       "      <td>11317</td>\n",
       "      <td>89.000000</td>\n",
       "      <td>False</td>\n",
       "    </tr>\n",
       "    <tr>\n",
       "      <th>67</th>\n",
       "      <td>3.8</td>\n",
       "      <td>46.6</td>\n",
       "      <td>28.0</td>\n",
       "      <td>28.5</td>\n",
       "      <td>42.5</td>\n",
       "      <td>11888</td>\n",
       "      <td>94.000000</td>\n",
       "      <td>False</td>\n",
       "    </tr>\n",
       "    <tr>\n",
       "      <th>68</th>\n",
       "      <td>3.6</td>\n",
       "      <td>29.6</td>\n",
       "      <td>23.0</td>\n",
       "      <td>16.5</td>\n",
       "      <td>41.0</td>\n",
       "      <td>17285</td>\n",
       "      <td>66.000000</td>\n",
       "      <td>False</td>\n",
       "    </tr>\n",
       "    <tr>\n",
       "      <th>69</th>\n",
       "      <td>4.0</td>\n",
       "      <td>10.4</td>\n",
       "      <td>11.7</td>\n",
       "      <td>17.7</td>\n",
       "      <td>36.9</td>\n",
       "      <td>23482</td>\n",
       "      <td>37.000000</td>\n",
       "      <td>False</td>\n",
       "    </tr>\n",
       "    <tr>\n",
       "      <th>70</th>\n",
       "      <td>4.0</td>\n",
       "      <td>27.6</td>\n",
       "      <td>28.3</td>\n",
       "      <td>18.5</td>\n",
       "      <td>41.9</td>\n",
       "      <td>15528</td>\n",
       "      <td>74.000000</td>\n",
       "      <td>False</td>\n",
       "    </tr>\n",
       "    <tr>\n",
       "      <th>71</th>\n",
       "      <td>0.9</td>\n",
       "      <td>5.1</td>\n",
       "      <td>8.0</td>\n",
       "      <td>3.7</td>\n",
       "      <td>40.5</td>\n",
       "      <td>39523</td>\n",
       "      <td>12.000000</td>\n",
       "      <td>True</td>\n",
       "    </tr>\n",
       "    <tr>\n",
       "      <th>72</th>\n",
       "      <td>1.1</td>\n",
       "      <td>16.9</td>\n",
       "      <td>20.8</td>\n",
       "      <td>13.7</td>\n",
       "      <td>42.6</td>\n",
       "      <td>19713</td>\n",
       "      <td>48.000000</td>\n",
       "      <td>False</td>\n",
       "    </tr>\n",
       "    <tr>\n",
       "      <th>73</th>\n",
       "      <td>1.0</td>\n",
       "      <td>3.4</td>\n",
       "      <td>8.7</td>\n",
       "      <td>4.3</td>\n",
       "      <td>36.8</td>\n",
       "      <td>34381</td>\n",
       "      <td>16.000000</td>\n",
       "      <td>True</td>\n",
       "    </tr>\n",
       "    <tr>\n",
       "      <th>74</th>\n",
       "      <td>0.8</td>\n",
       "      <td>13.2</td>\n",
       "      <td>15.0</td>\n",
       "      <td>10.8</td>\n",
       "      <td>40.3</td>\n",
       "      <td>27149</td>\n",
       "      <td>30.000000</td>\n",
       "      <td>True</td>\n",
       "    </tr>\n",
       "    <tr>\n",
       "      <th>75</th>\n",
       "      <td>3.6</td>\n",
       "      <td>15.4</td>\n",
       "      <td>7.1</td>\n",
       "      <td>10.9</td>\n",
       "      <td>30.3</td>\n",
       "      <td>25828</td>\n",
       "      <td>24.000000</td>\n",
       "      <td>True</td>\n",
       "    </tr>\n",
       "    <tr>\n",
       "      <th>76</th>\n",
       "      <td>4.1</td>\n",
       "      <td>18.2</td>\n",
       "      <td>9.2</td>\n",
       "      <td>9.7</td>\n",
       "      <td>23.8</td>\n",
       "      <td>33385</td>\n",
       "      <td>19.000000</td>\n",
       "      <td>True</td>\n",
       "    </tr>\n",
       "    <tr>\n",
       "      <th>77</th>\n",
       "      <td>4.7</td>\n",
       "      <td>19.7</td>\n",
       "      <td>12.9</td>\n",
       "      <td>19.5</td>\n",
       "      <td>33.5</td>\n",
       "      <td>28202</td>\n",
       "      <td>49.506494</td>\n",
       "      <td>True</td>\n",
       "    </tr>\n",
       "  </tbody>\n",
       "</table>\n",
       "<p>78 rows × 8 columns</p>\n",
       "</div>"
      ],
      "text/plain": [
       "    percent_house_crowded  percent_house_below_poverty  percent_16_unemployed  \\\n",
       "0                     7.7                         23.6                    8.7   \n",
       "1                     7.8                         17.2                    8.8   \n",
       "2                     3.8                         24.0                    8.9   \n",
       "3                     3.4                         10.9                    8.2   \n",
       "4                     0.3                          7.5                    5.2   \n",
       "5                     1.1                         11.4                    4.7   \n",
       "6                     0.8                         12.3                    5.1   \n",
       "7                     1.9                         12.9                    7.0   \n",
       "8                     1.1                          3.3                    6.5   \n",
       "9                     2.0                          5.4                    9.0   \n",
       "10                    2.7                          8.6                   12.4   \n",
       "11                    1.1                          7.5                    6.8   \n",
       "12                    3.9                         13.2                    9.9   \n",
       "13                   11.3                         19.2                   10.0   \n",
       "14                    4.1                         11.6                   12.6   \n",
       "15                    6.3                         13.1                   10.0   \n",
       "16                    5.2                         10.6                   10.0   \n",
       "17                    8.1                         15.3                   13.8   \n",
       "18                   10.8                         18.7                   14.6   \n",
       "19                    6.9                         20.5                   13.1   \n",
       "20                    6.0                         15.3                    9.2   \n",
       "21                    3.2                         16.8                    8.2   \n",
       "22                   14.8                         33.9                   17.3   \n",
       "23                    2.3                         14.7                    6.6   \n",
       "24                    6.3                         28.6                   22.6   \n",
       "25                    9.4                         41.7                   25.8   \n",
       "26                    8.2                         42.4                   19.6   \n",
       "27                    3.8                         20.6                   10.7   \n",
       "28                    7.4                         43.1                   21.2   \n",
       "29                   15.2                         30.7                   15.8   \n",
       "..                    ...                          ...                    ...   \n",
       "48                    2.5                         19.8                   20.3   \n",
       "49                    1.5                         21.6                   22.8   \n",
       "50                    4.0                         29.2                   16.3   \n",
       "51                    6.8                         19.2                   12.1   \n",
       "52                    3.3                         25.9                   19.4   \n",
       "53                    5.8                         56.5                   34.6   \n",
       "54                    3.3                         17.1                    9.6   \n",
       "55                    2.6                          8.8                   11.3   \n",
       "56                    8.5                         14.1                   16.5   \n",
       "57                   14.4                         23.6                   13.9   \n",
       "58                    7.2                         18.7                   13.4   \n",
       "59                    4.5                         18.9                   13.7   \n",
       "60                   11.9                         29.0                   23.0   \n",
       "61                   11.1                         15.6                   16.7   \n",
       "62                   15.8                         23.4                   18.2   \n",
       "63                    2.7                          8.9                    9.5   \n",
       "64                    5.8                         14.9                    9.6   \n",
       "65                    7.6                         27.9                   17.1   \n",
       "66                    4.8                         34.4                   35.9   \n",
       "67                    3.8                         46.6                   28.0   \n",
       "68                    3.6                         29.6                   23.0   \n",
       "69                    4.0                         10.4                   11.7   \n",
       "70                    4.0                         27.6                   28.3   \n",
       "71                    0.9                          5.1                    8.0   \n",
       "72                    1.1                         16.9                   20.8   \n",
       "73                    1.0                          3.4                    8.7   \n",
       "74                    0.8                         13.2                   15.0   \n",
       "75                    3.6                         15.4                    7.1   \n",
       "76                    4.1                         18.2                    9.2   \n",
       "77                    4.7                         19.7                   12.9   \n",
       "\n",
       "    percent_25_without_diploma  percent_dependent  per_capita_income  \\\n",
       "0                         18.2               27.5              23939   \n",
       "1                         20.8               38.5              23040   \n",
       "2                         11.8               22.2              35787   \n",
       "3                         13.4               25.5              37524   \n",
       "4                          4.5               26.2              57123   \n",
       "5                          2.6               17.0              60058   \n",
       "6                          3.6               21.5              71551   \n",
       "7                          2.5               22.6              88669   \n",
       "8                          7.4               35.3              40959   \n",
       "9                         11.5               39.5              32875   \n",
       "10                        13.4               35.5              27751   \n",
       "11                         4.9               40.5              44164   \n",
       "12                        14.4               39.0              26576   \n",
       "13                        32.9               32.0              21323   \n",
       "14                        19.3               34.0              24336   \n",
       "15                        22.4               31.6              27249   \n",
       "16                        16.2               33.6              26282   \n",
       "17                        23.5               38.6              22014   \n",
       "18                        37.3               37.3              15461   \n",
       "19                        41.6               36.4              15089   \n",
       "20                        24.7               31.0              20039   \n",
       "21                        14.8               26.2              31908   \n",
       "22                        35.4               38.0              13781   \n",
       "23                        12.9               21.7              43198   \n",
       "24                        24.4               37.9              15957   \n",
       "25                        24.5               43.6              10934   \n",
       "26                        21.3               43.2              12961   \n",
       "27                         9.6               22.2              44689   \n",
       "28                        27.6               42.7              12034   \n",
       "29                        54.8               33.8              10402   \n",
       "..                         ...                ...                ...   \n",
       "48                        16.9               41.2              17949   \n",
       "49                        13.1               38.6              20588   \n",
       "50                        21.0               39.5              14685   \n",
       "51                        31.9               42.8              17104   \n",
       "52                        20.5               42.1              16563   \n",
       "53                        27.5               51.5               8201   \n",
       "54                        19.2               42.9              22677   \n",
       "55                        19.3               38.1              26353   \n",
       "56                        35.9               39.2              16134   \n",
       "57                        45.1               39.3              13089   \n",
       "58                        32.9               35.6              16954   \n",
       "59                        22.2               31.3              22694   \n",
       "60                        41.5               38.9              12765   \n",
       "61                        37.0               37.7              15754   \n",
       "62                        51.5               38.8              12171   \n",
       "63                        18.8               37.6              25113   \n",
       "64                        33.6               39.6              16907   \n",
       "65                        31.2               40.6              13231   \n",
       "66                        26.3               40.7              11317   \n",
       "67                        28.5               42.5              11888   \n",
       "68                        16.5               41.0              17285   \n",
       "69                        17.7               36.9              23482   \n",
       "70                        18.5               41.9              15528   \n",
       "71                         3.7               40.5              39523   \n",
       "72                        13.7               42.6              19713   \n",
       "73                         4.3               36.8              34381   \n",
       "74                        10.8               40.3              27149   \n",
       "75                        10.9               30.3              25828   \n",
       "76                         9.7               23.8              33385   \n",
       "77                        19.5               33.5              28202   \n",
       "\n",
       "    hardship_index  income  \n",
       "0        39.000000   False  \n",
       "1        46.000000   False  \n",
       "2        20.000000    True  \n",
       "3        17.000000    True  \n",
       "4         6.000000    True  \n",
       "5         5.000000    True  \n",
       "6         2.000000    True  \n",
       "7         1.000000    True  \n",
       "8         8.000000    True  \n",
       "9        21.000000    True  \n",
       "10       25.000000    True  \n",
       "11       11.000000    True  \n",
       "12       33.000000    True  \n",
       "13       53.000000   False  \n",
       "14       35.000000   False  \n",
       "15       34.000000    True  \n",
       "16       28.000000    True  \n",
       "17       50.000000   False  \n",
       "18       70.000000   False  \n",
       "19       71.000000   False  \n",
       "20       42.000000   False  \n",
       "21       23.000000    True  \n",
       "22       85.000000   False  \n",
       "23       10.000000    True  \n",
       "24       73.000000   False  \n",
       "25       92.000000   False  \n",
       "26       83.000000   False  \n",
       "27       15.000000    True  \n",
       "28       87.000000   False  \n",
       "29       96.000000   False  \n",
       "..             ...     ...  \n",
       "48       52.000000   False  \n",
       "49       51.000000   False  \n",
       "50       65.000000   False  \n",
       "51       64.000000   False  \n",
       "52       62.000000   False  \n",
       "53       98.000000   False  \n",
       "54       44.000000   False  \n",
       "55       32.000000    True  \n",
       "56       67.000000   False  \n",
       "57       84.000000   False  \n",
       "58       61.000000   False  \n",
       "59       43.000000   False  \n",
       "60       91.000000   False  \n",
       "61       69.000000   False  \n",
       "62       93.000000   False  \n",
       "63       29.000000   False  \n",
       "64       56.000000   False  \n",
       "65       80.000000   False  \n",
       "66       89.000000   False  \n",
       "67       94.000000   False  \n",
       "68       66.000000   False  \n",
       "69       37.000000   False  \n",
       "70       74.000000   False  \n",
       "71       12.000000    True  \n",
       "72       48.000000   False  \n",
       "73       16.000000    True  \n",
       "74       30.000000    True  \n",
       "75       24.000000    True  \n",
       "76       19.000000    True  \n",
       "77       49.506494    True  \n",
       "\n",
       "[78 rows x 8 columns]"
      ]
     },
     "execution_count": 111,
     "metadata": {},
     "output_type": "execute_result"
    }
   ],
   "source": [
    "ex_classification = pickle.load(open('ex_classification_cleaned.sav', 'rb'))\n",
    "print(ex_classification.dtypes)\n",
    "ex_classification"
   ]
  },
  {
   "cell_type": "code",
   "execution_count": 112,
   "metadata": {},
   "outputs": [
    {
     "name": "stdout",
     "output_type": "stream",
     "text": [
      "False    50\n",
      "True     28\n",
      "Name: income, dtype: int64\n"
     ]
    }
   ],
   "source": [
    "print(ex_classification['income'].value_counts())"
   ]
  },
  {
   "cell_type": "markdown",
   "metadata": {},
   "source": [
    "#### Question 3\n",
    "##### Set the random seed to 2.\n",
    "##### Separate the predictors from the data by dropping the target variable `income` and save as `ex_X`.\n",
    "##### Save target variable `income` as an np array to `ex_y`."
   ]
  },
  {
   "cell_type": "code",
   "execution_count": 113,
   "metadata": {},
   "outputs": [],
   "source": [
    "\n",
    "# Separate target from data.\n",
    "ex_y = np.array(ex_classification['income'])\n",
    "# Separate predictors from data.\n",
    "ex_X = ex_classification.drop(['income'], axis = 1)\n",
    "\n",
    "np.random.seed(2)"
   ]
  },
  {
   "cell_type": "markdown",
   "metadata": {},
   "source": [
    "#### Question 4\n",
    "##### Split our data `ex_X` and `ex_y` into training and test sets. Split 70% into the training set and remaining 30% into the test set.\n",
    "##### Save them as `ex_X_train`, `ex_X_test`, `ex_y_train` and `ex_y_test` respectively."
   ]
  },
  {
   "cell_type": "code",
   "execution_count": 114,
   "metadata": {},
   "outputs": [],
   "source": [
    "# Split data into training and test sets, use a 70 test - 30 train split.\n",
    "ex_X_train, ex_X_test, ex_y_train, ex_y_test = train_test_split(ex_X,\n",
    "                                                    ex_y,\n",
    "                                                    test_size = .3\n",
    "                                                   )"
   ]
  },
  {
   "cell_type": "markdown",
   "metadata": {},
   "source": [
    "#### Question 5\n",
    "##### Instantiate the logistic regression model and save it to `ex_logistic_regression_model`. Print it.\n",
    "##### Fit the model with our training sets `ex_X_train` and `ex_y_train`."
   ]
  },
  {
   "cell_type": "code",
   "execution_count": 115,
   "metadata": {},
   "outputs": [
    {
     "name": "stdout",
     "output_type": "stream",
     "text": [
      "LogisticRegression(C=1.0, class_weight=None, dual=False, fit_intercept=True,\n",
      "          intercept_scaling=1, max_iter=100, multi_class='warn',\n",
      "          n_jobs=None, penalty='l2', random_state=None, solver='warn',\n",
      "          tol=0.0001, verbose=0, warm_start=False)\n"
     ]
    }
   ],
   "source": [
    "ex_logistic_regression_model = linear_model.LogisticRegression()\n",
    "print(ex_logistic_regression_model)"
   ]
  },
  {
   "cell_type": "code",
   "execution_count": 116,
   "metadata": {},
   "outputs": [
    {
     "data": {
      "text/plain": [
       "LogisticRegression(C=1.0, class_weight=None, dual=False, fit_intercept=True,\n",
       "          intercept_scaling=1, max_iter=100, multi_class='warn',\n",
       "          n_jobs=None, penalty='l2', random_state=None, solver='warn',\n",
       "          tol=0.0001, verbose=0, warm_start=False)"
      ]
     },
     "execution_count": 116,
     "metadata": {},
     "output_type": "execute_result"
    }
   ],
   "source": [
    "# Fit the model.\n",
    "ex_logistic_regression_model.fit(ex_X_train,ex_y_train)"
   ]
  },
  {
   "cell_type": "markdown",
   "metadata": {},
   "source": [
    "#### Question 6\n",
    "##### Now use the trained model to predict on our test set `ex_X_test`. Save as `ex_predicted_values`.\n",
    "##### Print the vector of predictions obtained."
   ]
  },
  {
   "cell_type": "code",
   "execution_count": 117,
   "metadata": {},
   "outputs": [
    {
     "name": "stdout",
     "output_type": "stream",
     "text": [
      "[False False  True False  True  True False False False  True False False\n",
      " False False  True False False False False False False False  True  True]\n"
     ]
    }
   ],
   "source": [
    "# Predict on test data.\n",
    "ex_predicted_values = ex_logistic_regression_model.predict(ex_X_test)\n",
    "print(ex_predicted_values)"
   ]
  },
  {
   "cell_type": "markdown",
   "metadata": {},
   "source": [
    "## Exercise 2"
   ]
  },
  {
   "cell_type": "markdown",
   "metadata": {},
   "source": [
    "#### Question 1\n",
    "##### Create a confusion matrix using the `metrics.confusion_matrix()` function.\n",
    "##### Save as `ex_conf_matrix` and print.\n",
    "##### What can you determine by looking at the confusion matrix?"
   ]
  },
  {
   "cell_type": "code",
   "execution_count": 118,
   "metadata": {},
   "outputs": [
    {
     "name": "stdout",
     "output_type": "stream",
     "text": [
      "[[17  0]\n",
      " [ 0  7]]\n",
      "Accuracy on test data:  1.0\n",
      "it accuractly predicted are acurate possitive and negative values\n"
     ]
    }
   ],
   "source": [
    "# Take a look at test data confusion matrix.\n",
    "ex_conf_matrix_test = metrics.confusion_matrix(ex_y_test,\n",
    "                                               ex_predicted_values)\n",
    "print(ex_conf_matrix_test)\n",
    "\n",
    "# Compute test model accuracy score.\n",
    "ex_test_accuracy_score = metrics.accuracy_score(ex_y_test, \n",
    "                                                ex_predicted_values)\n",
    "print(\"Accuracy on test data: \", ex_test_accuracy_score)\n",
    "print('it accuractly predicted are acurate possitive and negative values')\n",
    "\n"
   ]
  },
  {
   "cell_type": "markdown",
   "metadata": {},
   "source": [
    "#### Question 2\n",
    "##### Calculate the accuracy of our model by comparing our predicted values against our test set `ex_y_test`.\n",
    "##### Save as `ex_test_accuracy` and print."
   ]
  },
  {
   "cell_type": "code",
   "execution_count": 119,
   "metadata": {},
   "outputs": [
    {
     "name": "stdout",
     "output_type": "stream",
     "text": [
      "              precision    recall  f1-score   support\n",
      "\n",
      "        poor       1.00      1.00      1.00        17\n",
      "        rich       1.00      1.00      1.00         7\n",
      "\n",
      "   micro avg       1.00      1.00      1.00        24\n",
      "   macro avg       1.00      1.00      1.00        24\n",
      "weighted avg       1.00      1.00      1.00        24\n",
      "\n"
     ]
    }
   ],
   "source": [
    "# Create a list of target names to interpret class assignments.\n",
    "ex_target_names = ['poor', 'rich']\n",
    "# Print an entire classification report.\n",
    "ex_class_report = metrics.classification_report(\n",
    "    ex_y_test,\n",
    "    ex_predicted_values,\n",
    "    target_names = ex_target_names\n",
    ")\n",
    "print(ex_class_report)"
   ]
  },
  {
   "cell_type": "code",
   "execution_count": 120,
   "metadata": {},
   "outputs": [
    {
     "name": "stdout",
     "output_type": "stream",
     "text": [
      "    metrics  values             model\n",
      "0  accuracy  0.8333             knn_5\n",
      "1  accuracy  0.9359  knn_GridSearchCV\n",
      "2  accuracy  0.9583            knn_27\n",
      "3  accuracy  1.0000          logistic\n"
     ]
    }
   ],
   "source": [
    "ex_model_final = pickle.load(open(\"ex_model_final.sav\",\"rb\"))\n",
    "ex_model_final = ex_model_final.append({'metrics' : \"accuracy\" ,\n",
    "'values' : round(ex_test_accuracy_score,4),\n",
    "'model':'logistic' } ,\n",
    "ignore_index = True)\n",
    "print(ex_model_final)"
   ]
  },
  {
   "cell_type": "markdown",
   "metadata": {},
   "source": [
    "#### Question 3\n",
    "##### Load the pickled dataset `ex_model_final.sav` which we saved earlier.\n",
    "##### Add the above accuracy score `ex_test_accuracy` calculated above to the dataframe `ex_model_final` which we created earlier and view the output."
   ]
  },
  {
   "cell_type": "code",
   "execution_count": 121,
   "metadata": {},
   "outputs": [
    {
     "name": "stdout",
     "output_type": "stream",
     "text": [
      "see above\n"
     ]
    }
   ],
   "source": [
    "print('see above')"
   ]
  },
  {
   "cell_type": "markdown",
   "metadata": {},
   "source": [
    "#### Question 4\n",
    "##### Create a list named `target_names` with the class names, `Low Income` and `High Income`.\n",
    "##### Create a report `ex_class_report` using our test values `ex_y_test` and predicted values `ex_predicted_values` with the following columns:\n",
    "- precision\n",
    "- recall\n",
    "- f1-score\n",
    "- target_names\n"
   ]
  },
  {
   "cell_type": "markdown",
   "metadata": {},
   "source": [
    "#### Question 5\n",
    "##### Get the probabilities of predicted values `ex_X_test` and save as `ex_test_probabilities`.\n",
    "##### Then, calculate the probabilities of test predictions only."
   ]
  },
  {
   "cell_type": "code",
   "execution_count": 122,
   "metadata": {},
   "outputs": [
    {
     "name": "stdout",
     "output_type": "stream",
     "text": [
      "[[1.00000000e+00 5.50830938e-17]\n",
      " [1.00000000e+00 1.54851521e-14]\n",
      " [2.22044605e-16 1.00000000e+00]\n",
      " [9.99999516e-01 4.84215062e-07]\n",
      " [1.68305934e-03 9.98316941e-01]\n",
      " [2.70894418e-12 1.00000000e+00]\n",
      " [1.00000000e+00 7.22182142e-17]\n",
      " [1.00000000e+00 1.05269881e-11]\n",
      " [9.96225633e-01 3.77436656e-03]\n",
      " [1.11022302e-15 1.00000000e+00]\n",
      " [7.33179305e-01 2.66820695e-01]\n",
      " [9.99999128e-01 8.72050560e-07]\n",
      " [9.99793525e-01 2.06474641e-04]\n",
      " [1.00000000e+00 5.93667446e-15]\n",
      " [4.54257056e-07 9.99999546e-01]\n",
      " [1.00000000e+00 4.11708558e-23]\n",
      " [9.99999995e-01 4.72369240e-09]\n",
      " [9.99999626e-01 3.73843806e-07]\n",
      " [9.99999999e-01 5.86595716e-10]\n",
      " [9.99967823e-01 3.21765466e-05]\n",
      " [5.84655210e-01 4.15344790e-01]\n",
      " [1.00000000e+00 2.86087846e-10]\n",
      " [8.58011613e-04 9.99141988e-01]\n",
      " [4.38774880e-01 5.61225120e-01]]\n",
      "[5.50830938e-17 1.54851521e-14 1.00000000e+00 4.84215062e-07\n",
      " 9.98316941e-01 1.00000000e+00 7.22182142e-17 1.05269881e-11\n",
      " 3.77436656e-03 1.00000000e+00 2.66820695e-01 8.72050560e-07\n",
      " 2.06474641e-04 5.93667446e-15 9.99999546e-01 4.11708558e-23\n",
      " 4.72369240e-09 3.73843806e-07 5.86595716e-10 3.21765466e-05\n",
      " 4.15344790e-01 2.86087846e-10 9.99141988e-01 5.61225120e-01]\n"
     ]
    }
   ],
   "source": [
    "# Get probabilities instead of predicted values.\n",
    "ex_test_probabilities = ex_logistic_regression_model.predict_proba(ex_X_test)\n",
    "print(ex_test_probabilities[:, :])\n",
    "# Get probabilities of test predictions only.\n",
    "ex_test_predictions = ex_test_probabilities[:, 1]\n",
    "print(ex_test_predictions[:])"
   ]
  },
  {
   "cell_type": "markdown",
   "metadata": {},
   "source": [
    "#### Question 6\n",
    "##### Derive the `fpr`, `tpr`, and the `threshold` using our test set and predictions.\n",
    "##### Then, calculate the `auc` using the derived `fpr` and `tpr`."
   ]
  },
  {
   "cell_type": "code",
   "execution_count": 123,
   "metadata": {},
   "outputs": [
    {
     "name": "stdout",
     "output_type": "stream",
     "text": [
      "False positive:  [0. 0. 0. 1.]\n",
      "True positive:  [0.         0.14285714 1.         1.        ]\n",
      "Threshold:  [2.00000000e+00 1.00000000e+00 5.61225120e-01 4.11708558e-23]\n"
     ]
    }
   ],
   "source": [
    "# Get FPR, TPR, and threshold values.\n",
    "fpr, tpr, threshold = metrics.roc_curve(ex_y_test,            #<- test data labels\n",
    "                                        ex_test_predictions)  #<- predicted probabilities\n",
    "print(\"False positive: \", fpr[:5])\n",
    "print(\"True positive: \", tpr[:5])\n",
    "print(\"Threshold: \", threshold)"
   ]
  },
  {
   "cell_type": "markdown",
   "metadata": {},
   "source": [
    "#### Question 7\n",
    "##### Plot and ROC curve plot using the values derived above."
   ]
  },
  {
   "cell_type": "code",
   "execution_count": 124,
   "metadata": {},
   "outputs": [
    {
     "name": "stdout",
     "output_type": "stream",
     "text": [
      "Area under the ROC curve:  1.0\n"
     ]
    }
   ],
   "source": [
    "# Get AUC by providing the FPR and TPR.\n",
    "auc = metrics.auc(fpr, tpr)\n",
    "print(\"Area under the ROC curve: \", auc)"
   ]
  },
  {
   "cell_type": "code",
   "execution_count": 125,
   "metadata": {},
   "outputs": [
    {
     "data": {
      "image/png": "[encoded data removed]",
      "text/plain": [
       "<Figure size 432x288 with 1 Axes>"
      ]
     },
     "metadata": {
      "needs_background": "light"
     },
     "output_type": "display_data"
    }
   ],
   "source": [
    "# Make an ROC curve plot.\n",
    "plt.title('Receiver Operator Characteristic')\n",
    "plt.plot(fpr, \n",
    "         tpr, \n",
    "         'b', \n",
    "         label = 'AUC = %0.2f' % auc)\n",
    "plt.legend(loc = 'lower right')\n",
    "plt.plot([0, 1], [0, 1],'r--')\n",
    "\n",
    "plt.xlabel('False Positive Rate')\n",
    "plt.ylabel('True Positive Rate')\n",
    "plt.show()\n",
    "\n"
   ]
  },
  {
   "cell_type": "markdown",
   "metadata": {},
   "source": [
    "## Exercise 3"
   ]
  },
  {
   "cell_type": "markdown",
   "metadata": {},
   "source": [
    "#### Question 1\n",
    "\n",
    "##### For the purpose of demonstrating how to deal with categorical variables, we will convert `hardship_index` to a categorical variable with three variables.\n",
    "##### Take a look at the summary of `hardship_index` using .describe().\n",
    "##### To convert into categorical variable, for those rows where `hardship_index` is lower than the 25, convert to `25 or below`, for those higher than 25 but lower than 73, convert to `Between 25 and 73`, and the rest of the rows to `Higher than 73`.\n",
    "##### Print the value counts of the new `hardship_index` column."
   ]
  },
  {
   "cell_type": "code",
   "execution_count": 126,
   "metadata": {},
   "outputs": [
    {
     "data": {
      "text/plain": [
       "count    78.000000\n",
       "mean     49.506494\n",
       "std      28.503645\n",
       "min       1.000000\n",
       "25%      25.250000\n",
       "50%      49.753247\n",
       "75%      73.750000\n",
       "max      98.000000\n",
       "Name: hardship_index, dtype: float64"
      ]
     },
     "execution_count": 126,
     "metadata": {},
     "output_type": "execute_result"
    }
   ],
   "source": [
    "ex_classification['hardship_index'].describe()"
   ]
  },
  {
   "cell_type": "code",
   "execution_count": 127,
   "metadata": {},
   "outputs": [],
   "source": [
    "ex_classification['hardship_index'] = np.where(ex_classification['hardship_index'] <= 25, \"25 or Below\",\n",
    "                                     np.where(ex_classification['hardship_index'] < 73, 'Between 25 and 73', '73 and above'))\n"
   ]
  },
  {
   "cell_type": "code",
   "execution_count": 128,
   "metadata": {},
   "outputs": [
    {
     "data": {
      "text/plain": [
       "Between 25 and 73    37\n",
       "73 and above         21\n",
       "25 or Below          20\n",
       "Name: hardship_index, dtype: int64"
      ]
     },
     "execution_count": 128,
     "metadata": {},
     "output_type": "execute_result"
    }
   ],
   "source": [
    "ex_classification.hardship_index.value_counts()"
   ]
  },
  {
   "cell_type": "markdown",
   "metadata": {},
   "source": [
    "#### Question 2\n",
    "\n",
    "##### Transform `hardship_index` column into a dummy variable and save it into a dataframe named `hardship_dummy`.\n",
    "##### Make sure to set `drop_first` as `True`.\n",
    "##### Drop the original `hardship_index` variable from `ex_classification` and concatenate `hardship_dummy` into `ex_classification`."
   ]
  },
  {
   "cell_type": "code",
   "execution_count": 129,
   "metadata": {},
   "outputs": [
    {
     "data": {
      "text/html": [
       "<div>\n",
       "<style scoped>\n",
       "    .dataframe tbody tr th:only-of-type {\n",
       "        vertical-align: middle;\n",
       "    }\n",
       "\n",
       "    .dataframe tbody tr th {\n",
       "        vertical-align: top;\n",
       "    }\n",
       "\n",
       "    .dataframe thead th {\n",
       "        text-align: right;\n",
       "    }\n",
       "</style>\n",
       "<table border=\"1\" class=\"dataframe\">\n",
       "  <thead>\n",
       "    <tr style=\"text-align: right;\">\n",
       "      <th></th>\n",
       "      <th>73 and above</th>\n",
       "      <th>Between 25 and 73</th>\n",
       "    </tr>\n",
       "  </thead>\n",
       "  <tbody>\n",
       "    <tr>\n",
       "      <th>0</th>\n",
       "      <td>0</td>\n",
       "      <td>1</td>\n",
       "    </tr>\n",
       "    <tr>\n",
       "      <th>1</th>\n",
       "      <td>0</td>\n",
       "      <td>1</td>\n",
       "    </tr>\n",
       "    <tr>\n",
       "      <th>2</th>\n",
       "      <td>0</td>\n",
       "      <td>0</td>\n",
       "    </tr>\n",
       "    <tr>\n",
       "      <th>3</th>\n",
       "      <td>0</td>\n",
       "      <td>0</td>\n",
       "    </tr>\n",
       "    <tr>\n",
       "      <th>4</th>\n",
       "      <td>0</td>\n",
       "      <td>0</td>\n",
       "    </tr>\n",
       "  </tbody>\n",
       "</table>\n",
       "</div>"
      ],
      "text/plain": [
       "   73 and above  Between 25 and 73\n",
       "0             0                  1\n",
       "1             0                  1\n",
       "2             0                  0\n",
       "3             0                  0\n",
       "4             0                  0"
      ]
     },
     "execution_count": 129,
     "metadata": {},
     "output_type": "execute_result"
    }
   ],
   "source": [
    "# Convert into dummy variables.\n",
    "hardhsip_dummy = pd.get_dummies(ex_classification['hardship_index'], drop_first = True)\n",
    "hardhsip_dummy.head()"
   ]
  },
  {
   "cell_type": "code",
   "execution_count": 130,
   "metadata": {},
   "outputs": [
    {
     "data": {
      "text/plain": [
       "0    Between 25 and 73\n",
       "1    Between 25 and 73\n",
       "2          25 or Below\n",
       "3          25 or Below\n",
       "4          25 or Below\n",
       "Name: hardship_index, dtype: object"
      ]
     },
     "execution_count": 130,
     "metadata": {},
     "output_type": "execute_result"
    }
   ],
   "source": [
    "ex_classification['hardship_index'].head()"
   ]
  },
  {
   "cell_type": "code",
   "execution_count": 131,
   "metadata": {},
   "outputs": [
    {
     "data": {
      "text/html": [
       "<div>\n",
       "<style scoped>\n",
       "    .dataframe tbody tr th:only-of-type {\n",
       "        vertical-align: middle;\n",
       "    }\n",
       "\n",
       "    .dataframe tbody tr th {\n",
       "        vertical-align: top;\n",
       "    }\n",
       "\n",
       "    .dataframe thead th {\n",
       "        text-align: right;\n",
       "    }\n",
       "</style>\n",
       "<table border=\"1\" class=\"dataframe\">\n",
       "  <thead>\n",
       "    <tr style=\"text-align: right;\">\n",
       "      <th></th>\n",
       "      <th>percent_house_crowded</th>\n",
       "      <th>percent_house_below_poverty</th>\n",
       "      <th>percent_16_unemployed</th>\n",
       "      <th>percent_25_without_diploma</th>\n",
       "      <th>percent_dependent</th>\n",
       "      <th>per_capita_income</th>\n",
       "      <th>income</th>\n",
       "      <th>73 and above</th>\n",
       "      <th>Between 25 and 73</th>\n",
       "    </tr>\n",
       "  </thead>\n",
       "  <tbody>\n",
       "    <tr>\n",
       "      <th>0</th>\n",
       "      <td>7.7</td>\n",
       "      <td>23.6</td>\n",
       "      <td>8.7</td>\n",
       "      <td>18.2</td>\n",
       "      <td>27.5</td>\n",
       "      <td>23939</td>\n",
       "      <td>False</td>\n",
       "      <td>0</td>\n",
       "      <td>1</td>\n",
       "    </tr>\n",
       "    <tr>\n",
       "      <th>1</th>\n",
       "      <td>7.8</td>\n",
       "      <td>17.2</td>\n",
       "      <td>8.8</td>\n",
       "      <td>20.8</td>\n",
       "      <td>38.5</td>\n",
       "      <td>23040</td>\n",
       "      <td>False</td>\n",
       "      <td>0</td>\n",
       "      <td>1</td>\n",
       "    </tr>\n",
       "    <tr>\n",
       "      <th>2</th>\n",
       "      <td>3.8</td>\n",
       "      <td>24.0</td>\n",
       "      <td>8.9</td>\n",
       "      <td>11.8</td>\n",
       "      <td>22.2</td>\n",
       "      <td>35787</td>\n",
       "      <td>True</td>\n",
       "      <td>0</td>\n",
       "      <td>0</td>\n",
       "    </tr>\n",
       "    <tr>\n",
       "      <th>3</th>\n",
       "      <td>3.4</td>\n",
       "      <td>10.9</td>\n",
       "      <td>8.2</td>\n",
       "      <td>13.4</td>\n",
       "      <td>25.5</td>\n",
       "      <td>37524</td>\n",
       "      <td>True</td>\n",
       "      <td>0</td>\n",
       "      <td>0</td>\n",
       "    </tr>\n",
       "    <tr>\n",
       "      <th>4</th>\n",
       "      <td>0.3</td>\n",
       "      <td>7.5</td>\n",
       "      <td>5.2</td>\n",
       "      <td>4.5</td>\n",
       "      <td>26.2</td>\n",
       "      <td>57123</td>\n",
       "      <td>True</td>\n",
       "      <td>0</td>\n",
       "      <td>0</td>\n",
       "    </tr>\n",
       "  </tbody>\n",
       "</table>\n",
       "</div>"
      ],
      "text/plain": [
       "   percent_house_crowded  percent_house_below_poverty  percent_16_unemployed  \\\n",
       "0                    7.7                         23.6                    8.7   \n",
       "1                    7.8                         17.2                    8.8   \n",
       "2                    3.8                         24.0                    8.9   \n",
       "3                    3.4                         10.9                    8.2   \n",
       "4                    0.3                          7.5                    5.2   \n",
       "\n",
       "   percent_25_without_diploma  percent_dependent  per_capita_income  income  \\\n",
       "0                        18.2               27.5              23939   False   \n",
       "1                        20.8               38.5              23040   False   \n",
       "2                        11.8               22.2              35787    True   \n",
       "3                        13.4               25.5              37524    True   \n",
       "4                         4.5               26.2              57123    True   \n",
       "\n",
       "   73 and above  Between 25 and 73  \n",
       "0             0                  1  \n",
       "1             0                  1  \n",
       "2             0                  0  \n",
       "3             0                  0  \n",
       "4             0                  0  "
      ]
     },
     "execution_count": 131,
     "metadata": {},
     "output_type": "execute_result"
    }
   ],
   "source": [
    "# Drop `age` from the data.\n",
    "ex_classification.drop(['hardship_index'], axis = 1, inplace = True)\n",
    "# Concatenate `age_dummy` to our dataset.\n",
    "ex_classification2 = pd.concat([ex_classification,hardhsip_dummy],axis=1)\n",
    "ex_classification2.head()"
   ]
  },
  {
   "cell_type": "markdown",
   "metadata": {},
   "source": [
    "#### Question 3\n",
    "##### Pickle `ex_classification` as `ex_classification_dummies.sav` for later use."
   ]
  },
  {
   "cell_type": "code",
   "execution_count": 132,
   "metadata": {},
   "outputs": [],
   "source": [
    "pickle.dump(ex_classification2, open(\"ex_classification_dummies.sav\",\"wb\" ))"
   ]
  },
  {
   "cell_type": "markdown",
   "metadata": {},
   "source": [
    "#### Question 4\n",
    "##### As we did before, split the dataset into predictors `ex_X` and target `ex_y`.\n",
    "##### Save target variable `income` as an np array to `ex_y`.\n",
    "##### Save the rest of the variables to `ex_X`."
   ]
  },
  {
   "cell_type": "code",
   "execution_count": 133,
   "metadata": {},
   "outputs": [],
   "source": [
    "# Separate target from data.\n",
    "ex_y2 = np.array(ex_classification2['income'])\n",
    "# Separate predictors from data.\n",
    "ex_X2 = ex_classification2.drop(['income'], axis = 1)"
   ]
  },
  {
   "cell_type": "markdown",
   "metadata": {},
   "source": [
    "#### Question 5\n",
    "##### Split our data `ex_X` and `ex_y` into training and test sets. Split 70% into the training set and remaining 30% into the test set.\n",
    "##### Save them as `ex_X_train`, `ex_X_test`, `ex_y_train` and `ex_y_test` respectively.\n",
    "##### Make sure to set the seed to 2 so you can replicate the results."
   ]
  },
  {
   "cell_type": "code",
   "execution_count": 134,
   "metadata": {},
   "outputs": [],
   "source": [
    "np.random.seed(2)"
   ]
  },
  {
   "cell_type": "code",
   "execution_count": 135,
   "metadata": {},
   "outputs": [],
   "source": [
    "# Split data into training and test sets, use a 70 test - 30 train split.\n",
    "ex_X_train2, ex_X_test2, ex_y_train2, ex_y_test2 = train_test_split(ex_X2,\n",
    "                                                    ex_y2,\n",
    "                                                    test_size = .3\n",
    "                                                   )"
   ]
  },
  {
   "cell_type": "markdown",
   "metadata": {},
   "source": [
    "#### Question 6\n",
    "##### Instantiate the logistic regression model and save it to `ex_logistic_regression_model`. Print it.\n",
    "##### Fit the model with our training sets `ex_X_train` and `ex_y_train`."
   ]
  },
  {
   "cell_type": "code",
   "execution_count": 136,
   "metadata": {},
   "outputs": [
    {
     "name": "stdout",
     "output_type": "stream",
     "text": [
      "LogisticRegression(C=1.0, class_weight=None, dual=False, fit_intercept=True,\n",
      "          intercept_scaling=1, max_iter=100, multi_class='warn',\n",
      "          n_jobs=None, penalty='l2', random_state=None, solver='warn',\n",
      "          tol=0.0001, verbose=0, warm_start=False)\n"
     ]
    }
   ],
   "source": [
    "ex_logistic_regression_model2 = linear_model.LogisticRegression()\n",
    "print(ex_logistic_regression_model2)"
   ]
  },
  {
   "cell_type": "code",
   "execution_count": 137,
   "metadata": {},
   "outputs": [
    {
     "data": {
      "text/plain": [
       "LogisticRegression(C=1.0, class_weight=None, dual=False, fit_intercept=True,\n",
       "          intercept_scaling=1, max_iter=100, multi_class='warn',\n",
       "          n_jobs=None, penalty='l2', random_state=None, solver='warn',\n",
       "          tol=0.0001, verbose=0, warm_start=False)"
      ]
     },
     "execution_count": 137,
     "metadata": {},
     "output_type": "execute_result"
    }
   ],
   "source": [
    "# Fit the model.\n",
    "ex_logistic_regression_model2.fit(ex_X_train2,ex_y_train2)"
   ]
  },
  {
   "cell_type": "markdown",
   "metadata": {},
   "source": [
    "#### Question 7\n",
    "##### Now use the trained model to predict on our test set `ex_X_test`. Save as `ex_predicted_values`.\n",
    "##### Print the vector of predictions obtained.\n",
    "##### Create a confusion matrix using the `metrics.confusion_matrix()` function.\n",
    "##### Save as `ex_conf_matrix` and print.\n",
    "##### Calculate the accuracy of our model by comparing our predicted values against our test set `ex_y_test`."
   ]
  },
  {
   "cell_type": "code",
   "execution_count": 138,
   "metadata": {},
   "outputs": [
    {
     "name": "stdout",
     "output_type": "stream",
     "text": [
      "[False False  True False  True  True False False False  True False False\n",
      " False False  True False False False False False False False  True  True]\n"
     ]
    }
   ],
   "source": [
    "# Predict on test data.\n",
    "ex_predicted_values2 = ex_logistic_regression_model2.predict(ex_X_test2)\n",
    "print(ex_predicted_values2)"
   ]
  },
  {
   "cell_type": "code",
   "execution_count": 139,
   "metadata": {},
   "outputs": [
    {
     "name": "stdout",
     "output_type": "stream",
     "text": [
      "[[17  0]\n",
      " [ 0  7]]\n",
      "Accuracy on test data:  1.0\n",
      "it accuractly predicted are acurate possitive and negative values\n"
     ]
    }
   ],
   "source": [
    "# Take a look at test data confusion matrix.\n",
    "ex_conf_matrix_test2 = metrics.confusion_matrix(ex_y_test2,\n",
    "                                               ex_predicted_values2)\n",
    "print(ex_conf_matrix_test2)\n",
    "\n",
    "# Compute test model accuracy score.\n",
    "ex_test_accuracy_score2 = metrics.accuracy_score(ex_y_test2, \n",
    "                                                ex_predicted_values2)\n",
    "print(\"Accuracy on test data: \", ex_test_accuracy_score2)\n",
    "print('it accuractly predicted are acurate possitive and negative values')"
   ]
  },
  {
   "cell_type": "markdown",
   "metadata": {},
   "source": [
    "#### Question 8\n",
    "##### Add the accuracy score `ex_test_accuracy` calculated above with the model name as `logistic_withdummies` to the dataframe `ex_model_final` which we created earlier and view the output."
   ]
  },
  {
   "cell_type": "code",
   "execution_count": 140,
   "metadata": {},
   "outputs": [
    {
     "name": "stdout",
     "output_type": "stream",
     "text": [
      "    metrics  values                 model\n",
      "0  accuracy  0.8333                 knn_5\n",
      "1  accuracy  0.9359      knn_GridSearchCV\n",
      "2  accuracy  0.9583                knn_27\n",
      "3  accuracy  1.0000              logistic\n",
      "4  accuracy  1.0000  logistic_withdummies\n"
     ]
    }
   ],
   "source": [
    "ex_model_final = ex_model_final.append({'metrics' : \"accuracy\" ,\n",
    "                                        'values' : round(ex_test_accuracy_score2,4),\n",
    "                                        'model':'logistic_withdummies' } ,\n",
    "                                       ignore_index = True)\n",
    "print(ex_model_final)"
   ]
  },
  {
   "cell_type": "markdown",
   "metadata": {},
   "source": [
    "#### Question 9\n",
    "##### Create a list named `target_names` with the class names as `Low Income` and `High Income`.\n",
    "##### Create a report `ex_class_report` using our test values `ex_y_test` and predicted values `ex_predicted_values` with the following columns:\n",
    "- precision\n",
    "- recall\n",
    "- f1-score\n",
    "- target_names\n"
   ]
  },
  {
   "cell_type": "code",
   "execution_count": 143,
   "metadata": {},
   "outputs": [
    {
     "name": "stdout",
     "output_type": "stream",
     "text": [
      "              precision    recall  f1-score   support\n",
      "\n",
      "    Poor SOB       1.00      1.00      1.00        17\n",
      "    Rich SOB       1.00      1.00      1.00         7\n",
      "\n",
      "   micro avg       1.00      1.00      1.00        24\n",
      "   macro avg       1.00      1.00      1.00        24\n",
      "weighted avg       1.00      1.00      1.00        24\n",
      "\n"
     ]
    }
   ],
   "source": [
    "# Create a list of target names to interpret class assignments.\n",
    "ex_target_names2 = ['Poor SOB', 'Rich SOB']\n",
    "# Print an entire classification report.\n",
    "ex_class_report2 = metrics.classification_report(\n",
    "    ex_y_test2,\n",
    "    ex_predicted_values2,\n",
    "    target_names = ex_target_names2\n",
    ")\n",
    "print(ex_class_report2)"
   ]
  },
  {
   "cell_type": "markdown",
   "metadata": {},
   "source": [
    "#### Question 10\n",
    "##### Get the probabilities of predicted values `ex_X_test` and save as `ex_test_probabilities`.\n",
    "##### Then calculate the probabilities of test predictions named `ex_test_predictions`  only. "
   ]
  },
  {
   "cell_type": "code",
   "execution_count": 144,
   "metadata": {},
   "outputs": [
    {
     "name": "stdout",
     "output_type": "stream",
     "text": [
      "[[1.00000000e+00 1.89363387e-10]\n",
      " [9.99999991e-01 9.23609528e-09]\n",
      " [2.76535639e-09 9.99999997e-01]\n",
      " [9.99753716e-01 2.46283556e-04]\n",
      " [1.86915590e-02 9.81308441e-01]\n",
      " [9.66260165e-08 9.99999903e-01]\n",
      " [1.00000000e+00 1.45253358e-10]\n",
      " [9.99999711e-01 2.89491248e-07]\n",
      " [9.71318528e-01 2.86814722e-02]\n",
      " [4.14686308e-09 9.99999996e-01]\n",
      " [6.11915205e-01 3.88084795e-01]\n",
      " [9.99904769e-01 9.52313685e-05]\n",
      " [9.86717616e-01 1.32823845e-02]\n",
      " [9.99999999e-01 7.53974422e-10]\n",
      " [2.77184521e-04 9.99722815e-01]\n",
      " [1.00000000e+00 2.20930904e-14]\n",
      " [9.99997215e-01 2.78538746e-06]\n",
      " [9.99848945e-01 1.51055324e-04]\n",
      " [9.99996335e-01 3.66528252e-06]\n",
      " [9.93855949e-01 6.14405096e-03]\n",
      " [6.79961113e-01 3.20038887e-01]\n",
      " [9.99996474e-01 3.52611935e-06]\n",
      " [1.29695222e-02 9.87030478e-01]\n",
      " [3.26756869e-01 6.73243131e-01]]\n",
      "[1.89363387e-10 9.23609528e-09 9.99999997e-01 2.46283556e-04\n",
      " 9.81308441e-01 9.99999903e-01 1.45253358e-10 2.89491248e-07\n",
      " 2.86814722e-02 9.99999996e-01 3.88084795e-01 9.52313685e-05\n",
      " 1.32823845e-02 7.53974422e-10 9.99722815e-01 2.20930904e-14\n",
      " 2.78538746e-06 1.51055324e-04 3.66528252e-06 6.14405096e-03\n",
      " 3.20038887e-01 3.52611935e-06 9.87030478e-01 6.73243131e-01]\n"
     ]
    }
   ],
   "source": [
    "# Get probabilities instead of predicted values.\n",
    "ex_test_probabilities2 = ex_logistic_regression_model2.predict_proba(ex_X_test2)\n",
    "print(ex_test_probabilities2[:, :])\n",
    "# Get probabilities of test predictions only.\n",
    "ex_test_predictions2 = ex_test_probabilities2[:, 1]\n",
    "print(ex_test_predictions2[:])"
   ]
  },
  {
   "cell_type": "markdown",
   "metadata": {},
   "source": [
    "#### Question 11\n",
    "##### Derive the `fpr`, `tpr`, and the `threshold` using our test set and predictions.\n",
    "##### Then calculate the `auc` using the derived `fpr` and `tpr`."
   ]
  },
  {
   "cell_type": "code",
   "execution_count": 145,
   "metadata": {},
   "outputs": [
    {
     "name": "stdout",
     "output_type": "stream",
     "text": [
      "False positive:  [0. 0. 0. 1.]\n",
      "True positive:  [0.         0.14285714 1.         1.        ]\n",
      "Threshold:  [2.00000000e+00 9.99999997e-01 6.73243131e-01 2.20930904e-14]\n"
     ]
    }
   ],
   "source": [
    "# Get FPR, TPR, and threshold values.\n",
    "fpr2, tpr2, threshold2 = metrics.roc_curve(ex_y_test2,            #<- test data labels\n",
    "                                        ex_test_predictions2)  #<- predicted probabilities\n",
    "print(\"False positive: \", fpr2[:5])\n",
    "print(\"True positive: \", tpr2[:5])\n",
    "print(\"Threshold: \", threshold2)"
   ]
  },
  {
   "cell_type": "code",
   "execution_count": 146,
   "metadata": {},
   "outputs": [
    {
     "name": "stdout",
     "output_type": "stream",
     "text": [
      "Area under the ROC curve:  1.0\n"
     ]
    }
   ],
   "source": [
    "# Get AUC by providing the FPR and TPR.\n",
    "auc2 = metrics.auc(fpr2, tpr2)\n",
    "print(\"Area under the ROC curve: \", auc2)"
   ]
  },
  {
   "cell_type": "markdown",
   "metadata": {},
   "source": [
    "#### Question 12\n",
    "##### Plot and ROC curve plot using the values derived above."
   ]
  },
  {
   "cell_type": "code",
   "execution_count": 150,
   "metadata": {},
   "outputs": [
    {
     "data": {
      "image/png": "[encoded data removed]",
      "text/plain": [
       "<Figure size 432x288 with 1 Axes>"
      ]
     },
     "metadata": {
      "needs_background": "light"
     },
     "output_type": "display_data"
    }
   ],
   "source": [
    "# Make an ROC curve plot.\n",
    "plt.title('Receiver Operator Characteristic')\n",
    "plt.plot(fpr, \n",
    "         tpr, \n",
    "         'b', \n",
    "         label = 'AUC = %0.2f' % auc,\n",
    "         alpha = .2)\n",
    "plt.plot(fpr2, \n",
    "         tpr2, \n",
    "         'r', \n",
    "         label = 'AUC2 = %0.2f' % auc2,\n",
    "         alpha = .2)\n",
    "plt.legend(loc = 'lower right')\n",
    "plt.plot([0, 1], [0, 1],'r--')\n",
    "\n",
    "plt.xlabel('False Positive Rate')\n",
    "plt.ylabel('True Positive Rate')\n",
    "plt.show()"
   ]
  },
  {
   "cell_type": "markdown",
   "metadata": {},
   "source": [
    "## Exercise 4"
   ]
  },
  {
   "cell_type": "markdown",
   "metadata": {},
   "source": [
    "#### Question 1\n",
    "##### Create regularization penalty space named `penalty` and regularization constant space `C` as in slides.\n",
    "##### Then create the hyperparameter dictionary named `hyperparameters`."
   ]
  },
  {
   "cell_type": "code",
   "execution_count": 152,
   "metadata": {},
   "outputs": [
    {
     "name": "stdout",
     "output_type": "stream",
     "text": [
      "Regularization constant:  [1.00000000e+00 1.29154967e+01 1.66810054e+02 2.15443469e+03\n",
      " 2.78255940e+04 3.59381366e+05 4.64158883e+06 5.99484250e+07\n",
      " 7.74263683e+08 1.00000000e+10]\n",
      "{'C': array([1.00000000e+00, 1.29154967e+01, 1.66810054e+02, 2.15443469e+03,\n",
      "       2.78255940e+04, 3.59381366e+05, 4.64158883e+06, 5.99484250e+07,\n",
      "       7.74263683e+08, 1.00000000e+10]), 'penalty': ['l1', 'l2']}\n"
     ]
    }
   ],
   "source": [
    "# Create regularization penalty space.\n",
    "ex_penalty = ['l1', 'l2']\n",
    "# Create regularization constant space.\n",
    "ex_C = np.logspace(0, 10, 10)\n",
    "print(\"Regularization constant: \", ex_C)\n",
    "# Create hyperparameter options dictionary.\n",
    "ex_hyperparameters = dict(C = ex_C, penalty = ex_penalty)\n",
    "print(ex_hyperparameters)"
   ]
  },
  {
   "cell_type": "markdown",
   "metadata": {},
   "source": [
    "#### Question 2\n",
    "##### Set up the 5-fold cross-validation function named `ex_clf`  with the parameters created above.\n",
    "##### Fit the function with our training set. Save as `ex_best_model`."
   ]
  },
  {
   "cell_type": "code",
   "execution_count": 155,
   "metadata": {},
   "outputs": [
    {
     "name": "stderr",
     "output_type": "stream",
     "text": [
      "/anaconda3/lib/python3.7/site-packages/sklearn/svm/base.py:922: ConvergenceWarning: Liblinear failed to converge, increase the number of iterations.\n",
      "  \"the number of iterations.\", ConvergenceWarning)\n",
      "/anaconda3/lib/python3.7/site-packages/sklearn/svm/base.py:922: ConvergenceWarning: Liblinear failed to converge, increase the number of iterations.\n",
      "  \"the number of iterations.\", ConvergenceWarning)\n",
      "/anaconda3/lib/python3.7/site-packages/sklearn/svm/base.py:922: ConvergenceWarning: Liblinear failed to converge, increase the number of iterations.\n",
      "  \"the number of iterations.\", ConvergenceWarning)\n",
      "/anaconda3/lib/python3.7/site-packages/sklearn/model_selection/_search.py:841: DeprecationWarning: The default of the `iid` parameter will change from True to False in version 0.22 and will be removed in 0.24. This will change numeric results when test-set sizes are unequal.\n",
      "  DeprecationWarning)\n"
     ]
    },
    {
     "data": {
      "text/plain": [
       "GridSearchCV(cv=10, error_score='raise-deprecating',\n",
       "       estimator=LogisticRegression(C=1.0, class_weight=None, dual=False, fit_intercept=True,\n",
       "          intercept_scaling=1, max_iter=100, multi_class='warn',\n",
       "          n_jobs=None, penalty='l2', random_state=None, solver='warn',\n",
       "          tol=0.0001, verbose=0, warm_start=False),\n",
       "       fit_params=None, iid='warn', n_jobs=None,\n",
       "       param_grid={'C': array([1.00000e+00, 1.29155e+01, 1.66810e+02, 2.15443e+03, 2.78256e+04,\n",
       "       3.59381e+05, 4.64159e+06, 5.99484e+07, 7.74264e+08, 1.00000e+10]), 'penalty': ['l1', 'l2']},\n",
       "       pre_dispatch='2*n_jobs', refit=True, return_train_score='warn',\n",
       "       scoring=None, verbose=0)"
      ]
     },
     "execution_count": 155,
     "metadata": {},
     "output_type": "execute_result"
    }
   ],
   "source": [
    "# Grid search 10-fold cross-validation with above parameters.\n",
    "ex_clf = GridSearchCV(\n",
    "    linear_model.LogisticRegression(), #<- function to optimize\n",
    "    ex_hyperparameters,                   #<- grid search parameters\n",
    "    cv = 10,                           #<- 10-fold cv\n",
    "    verbose = 0)                       #<- no messages to show\n",
    "# Fit CV grid search.\n",
    "ex_best_model = ex_clf.fit(ex_X_train2, ex_y_train2)\n",
    "ex_best_model"
   ]
  },
  {
   "cell_type": "markdown",
   "metadata": {},
   "source": [
    "#### Question 3\n",
    "##### Derive the best penalty and constant parameters. Print them."
   ]
  },
  {
   "cell_type": "code",
   "execution_count": 156,
   "metadata": {},
   "outputs": [
    {
     "name": "stdout",
     "output_type": "stream",
     "text": [
      "Best penalty:  l1\n",
      "Best C:  1.0\n"
     ]
    }
   ],
   "source": [
    "# Get best penalty and constant parameters.\n",
    "ex_penalty = ex_best_model.best_estimator_.get_params()['penalty']\n",
    "ex_constant = ex_best_model.best_estimator_.get_params()['C']\n",
    "print('Best penalty: ', ex_penalty)\n",
    "print('Best C: ', ex_constant)"
   ]
  },
  {
   "cell_type": "code",
   "execution_count": 158,
   "metadata": {},
   "outputs": [
    {
     "data": {
      "text/plain": [
       "LogisticRegression(C=1.0, class_weight=None, dual=False, fit_intercept=True,\n",
       "          intercept_scaling=1, max_iter=100, multi_class='warn',\n",
       "          n_jobs=None, penalty='l1', random_state=None, solver='warn',\n",
       "          tol=0.0001, verbose=0, warm_start=False)"
      ]
     },
     "execution_count": 158,
     "metadata": {},
     "output_type": "execute_result"
    }
   ],
   "source": [
    "ex_best_model.best_estimator_"
   ]
  },
  {
   "cell_type": "markdown",
   "metadata": {},
   "source": [
    "#### Question 4\n",
    "##### Print the vector of predicted values named `ex_best_predicted_values`.\n",
    "##### Also find the accuracy score `ex_best_accuracy_score` and print."
   ]
  },
  {
   "cell_type": "code",
   "execution_count": 163,
   "metadata": {},
   "outputs": [
    {
     "name": "stdout",
     "output_type": "stream",
     "text": [
      "[False False  True False  True  True False False False  True False False\n",
      " False False  True False False False False False False False  True  True]\n",
      "Accuracy on test data (best model):  1.0\n"
     ]
    }
   ],
   "source": [
    "# Predict on test data using best model.\n",
    "ex_best_predicted_values = ex_best_model.predict(ex_X_test2)\n",
    "print(ex_best_predicted_values)\n",
    "# Compute best model accuracy score.\n",
    "ex_best_accuracy_score = metrics.accuracy_score(ex_y_test2, ex_best_predicted_values)\n",
    "print(\"Accuracy on test data (best model): \", ex_best_accuracy_score)"
   ]
  },
  {
   "cell_type": "markdown",
   "metadata": {},
   "source": [
    "#### Question 5\n",
    "##### Compute the confusion matrix and classification report as above. Save as `ex_best_confusion_matrix` and `ex_best_class_report` respectively."
   ]
  },
  {
   "cell_type": "code",
   "execution_count": 167,
   "metadata": {},
   "outputs": [
    {
     "name": "stdout",
     "output_type": "stream",
     "text": [
      "[[17  0]\n",
      " [ 0  7]]\n",
      "              precision    recall  f1-score   support\n",
      "\n",
      "   Low value       1.00      1.00      1.00        17\n",
      "  High value       1.00      1.00      1.00         7\n",
      "\n",
      "   micro avg       1.00      1.00      1.00        24\n",
      "   macro avg       1.00      1.00      1.00        24\n",
      "weighted avg       1.00      1.00      1.00        24\n",
      "\n"
     ]
    }
   ],
   "source": [
    "# Compute confusion matrix for best model.\n",
    "ex_best_confusion_matrix = metrics.confusion_matrix(ex_y_test2, ex_best_predicted_values)\n",
    "print(ex_best_confusion_matrix)\n",
    "# Create a list of target names to interpret class assignments.\n",
    "target_names = ['Low value', 'High value']\n",
    "# Compute classification report for best model.\n",
    "ex_best_class_report = metrics.classification_report(ex_y_test2, ex_best_predicted_values,\n",
    "target_names = target_names)\n",
    "print(ex_best_class_report)"
   ]
  },
  {
   "cell_type": "markdown",
   "metadata": {},
   "source": [
    "#### Question 6\n",
    "##### Add this accuracy score with the model name as `logistic_tuned` to our `ex_model_final` dataframe.\n",
    "##### Pickle this dataset as `ex_model_log_penalty.sav`."
   ]
  },
  {
   "cell_type": "code",
   "execution_count": 170,
   "metadata": {},
   "outputs": [
    {
     "name": "stdout",
     "output_type": "stream",
     "text": [
      "    metrics  values                 model\n",
      "0  accuracy  0.8333                 knn_5\n",
      "1  accuracy  0.9359      knn_GridSearchCV\n",
      "2  accuracy  0.9583                knn_27\n",
      "3  accuracy  1.0000              logistic\n",
      "4  accuracy  1.0000  logistic_withdummies\n",
      "5  accuracy  1.0000        logistic_tuned\n"
     ]
    }
   ],
   "source": [
    "ex_model_final = ex_model_final.append({'metrics' : \"accuracy\" ,\n",
    "                                        'values' : round(ex_best_accuracy_score,4),\n",
    "                                        'model':'logistic_tuned' } ,\n",
    "                                       ignore_index = True)\n",
    "print(ex_model_final)"
   ]
  },
  {
   "cell_type": "code",
   "execution_count": 173,
   "metadata": {},
   "outputs": [],
   "source": [
    "pickle.dump(ex_model_final, open('ex_model_log_penalty.sav', 'wb'))"
   ]
  },
  {
   "cell_type": "markdown",
   "metadata": {},
   "source": [
    "#### Question 7\n",
    "##### Same as before, compute the test probabilities `ex_best_test_probabilities` and \n",
    "##### test predictions `ex_best_test_predictions`.\n",
    "##### Derive the metrics `fpr`, `tpr`, and `threshold` to plot the ROC curve. Also derive the AUC."
   ]
  },
  {
   "cell_type": "code",
   "execution_count": 176,
   "metadata": {},
   "outputs": [
    {
     "name": "stdout",
     "output_type": "stream",
     "text": [
      "[[1.00000000e+00 1.44381691e-13]\n",
      " [1.00000000e+00 1.25780264e-11]\n",
      " [1.22835075e-12 1.00000000e+00]\n",
      " [9.99991225e-01 8.77509176e-06]\n",
      " [5.19467086e-03 9.94805329e-01]]\n",
      "[1.44381691e-13 1.25780264e-11 1.00000000e+00 8.77509176e-06\n",
      " 9.94805329e-01]\n"
     ]
    }
   ],
   "source": [
    "# Get probabilities instead of predicted values.\n",
    "ex_best_test_probabilities = ex_best_model.predict_proba(ex_X_test2)\n",
    "print(ex_best_test_probabilities[0:5, ])\n",
    "# Get probabilities of test predictions only.\n",
    "ex_best_test_predictions = ex_best_test_probabilities[:, 1]\n",
    "print(ex_best_test_predictions[0:5])"
   ]
  },
  {
   "cell_type": "code",
   "execution_count": 178,
   "metadata": {},
   "outputs": [
    {
     "name": "stdout",
     "output_type": "stream",
     "text": [
      "1.0\n"
     ]
    }
   ],
   "source": [
    "# Get ROC curve metrics.\n",
    "best_fpr, best_tpr, best_threshold = metrics.roc_curve(ex_y_test2, ex_best_test_predictions)\n",
    "best_auc = metrics.auc(best_fpr, best_tpr)\n",
    "print(best_auc)"
   ]
  },
  {
   "cell_type": "markdown",
   "metadata": {},
   "source": [
    "#### Question 8\n",
    "##### Plot the ROC curve for both models."
   ]
  },
  {
   "cell_type": "code",
   "execution_count": 181,
   "metadata": {},
   "outputs": [
    {
     "data": {
      "image/png": "[encoded data removed]",
      "text/plain": [
       "<Figure size 432x288 with 1 Axes>"
      ]
     },
     "metadata": {
      "needs_background": "light"
     },
     "output_type": "display_data"
    }
   ],
   "source": [
    "# Make an ROC curve plot.\n",
    "plt.title('Receiver Operator Characteristic')\n",
    "plt.plot(fpr, \n",
    "         tpr, \n",
    "         'm', \n",
    "         label = 'AUC = %0.2f' % auc,\n",
    "         alpha = .2)\n",
    "plt.plot(best_fpr, \n",
    "         best_tpr, \n",
    "         'r', \n",
    "         label = 'Best_AUC = %0.2f' % best_auc,\n",
    "         alpha = .2)\n",
    "plt.plot(fpr, \n",
    "         tpr, \n",
    "         'b', \n",
    "         label = 'AUC = %0.2f' % auc,\n",
    "         alpha = .2)\n",
    "plt.legend(loc = 'lower right')\n",
    "plt.plot([0, 1], [0, 1],'r--')\n",
    "\n",
    "plt.xlabel('False Positive Rate')\n",
    "plt.ylabel('True Positive Rate')\n",
    "plt.show()"
   ]
  },
  {
   "cell_type": "code",
   "execution_count": null,
   "metadata": {},
   "outputs": [],
   "source": []
  }
 ],
 "metadata": {
  "kernelspec": {
   "display_name": "Python 3",
   "language": "python",
   "name": "python3"
  },
  "language_info": {
   "codemirror_mode": {
    "name": "ipython",
    "version": 3
   },
   "file_extension": ".py",
   "mimetype": "text/x-python",
   "name": "python",
   "nbconvert_exporter": "python",
   "pygments_lexer": "ipython3",
   "version": "3.7.1"
  }
 },
 "nbformat": 4,
 "nbformat_minor": 2
}
