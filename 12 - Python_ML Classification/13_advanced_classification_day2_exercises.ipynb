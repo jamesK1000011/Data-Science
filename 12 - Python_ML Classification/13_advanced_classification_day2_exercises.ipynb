{
 "cells": [
  {
   "cell_type": "markdown",
   "metadata": {},
   "source": [
    "# Advanced Classification Day 2 - Exercises"
   ]
  },
  {
   "cell_type": "markdown",
   "metadata": {},
   "source": [
    "## Exercise 1"
   ]
  },
  {
   "cell_type": "markdown",
   "metadata": {},
   "source": [
    "#### Question 1 \n",
    "##### Load libraries that are used in this module."
   ]
  },
  {
   "cell_type": "code",
   "execution_count": 176,
   "metadata": {},
   "outputs": [],
   "source": [
    "main_dir = '/Users/datasociety/Desktop/af-werx'\n",
    "data_dir = main_dir + \"/data\"\n",
    "plot_dir = main_dir + \"/plots\""
   ]
  },
  {
   "cell_type": "code",
   "execution_count": null,
   "metadata": {},
   "outputs": [],
   "source": []
  },
  {
   "cell_type": "code",
   "execution_count": 177,
   "metadata": {},
   "outputs": [],
   "source": [
    "import os\n",
    "import pickle\n",
    "import matplotlib.pyplot as plt\n",
    "import numpy as np\n",
    "import pandas as pd\n",
    "from textwrap import wrap\n",
    "from sklearn.model_selection import train_test_split\n",
    "from sklearn import metrics\n",
    "from sklearn import tree\n",
    "from sklearn.ensemble import RandomForestClassifier\n",
    "from sklearn.metrics import accuracy_score\n",
    "from sklearn.ensemble import GradientBoostingClassifier\n",
    "from matplotlib.legend_handler import HandlerLine2D\n",
    "\n",
    "# New today\n",
    "from sklearn.model_selection import RandomizedSearchCV"
   ]
  },
  {
   "cell_type": "code",
   "execution_count": 178,
   "metadata": {},
   "outputs": [],
   "source": [
    "# just for safety capture the original main path - when you re-run the book we will always start from the original folder\n",
    "# this is similar to here() in R which captures the project root.\n",
    "# https://github.com/ipython/ipython/issues/10123\n",
    "nb_root=globals()['_dh']\n",
    "os.chdir(nb_root[0])\n",
    "\n",
    "main_dir = os.path.abspath(os.path.join (\"..\",))\n",
    "\n",
    "# Make `data_dir` and 'path_dir' from the `main_dir` and\n",
    "data_dir = os.path.join(main_dir, \"data\")\n",
    "plot_dir = os.path.join(main_dir, \"plot\")"
   ]
  },
  {
   "cell_type": "code",
   "execution_count": 179,
   "metadata": {},
   "outputs": [
    {
     "name": "stdout",
     "output_type": "stream",
     "text": [
      "/Users/datasociety/Desktop/af-werx\n",
      "/Users/datasociety/Desktop/af-werx/data\n",
      "/Users/datasociety/Desktop/af-werx/plot\n"
     ]
    }
   ],
   "source": [
    "print(main_dir)\n",
    "print(data_dir)\n",
    "print(plot_dir)"
   ]
  },
  {
   "cell_type": "markdown",
   "metadata": {},
   "source": [
    "#### Question 2\n",
    "##### Set `main_dir` to the location of your `af-werx` folder.\n",
    "##### Make `data_dir`  from the `main_dir` and concatenate remainder of the path to data directory."
   ]
  },
  {
   "cell_type": "code",
   "execution_count": 180,
   "metadata": {},
   "outputs": [
    {
     "name": "stdout",
     "output_type": "stream",
     "text": [
      "/Users/datasociety/Desktop/af-werx/data\n"
     ]
    }
   ],
   "source": [
    "# Set working directory.\n",
    "os.chdir(data_dir)\n",
    "# Check working directory.\n",
    "print(os.getcwd())"
   ]
  },
  {
   "cell_type": "markdown",
   "metadata": {},
   "source": [
    "#### Question 3\n",
    "##### Set the working directory to `data_dir`.\n",
    "##### Check if the working directory is updated to `data_dir`."
   ]
  },
  {
   "cell_type": "code",
   "execution_count": 181,
   "metadata": {},
   "outputs": [
    {
     "name": "stdout",
     "output_type": "stream",
     "text": [
      "see above\n"
     ]
    }
   ],
   "source": [
    "print('see above')"
   ]
  },
  {
   "cell_type": "markdown",
   "metadata": {},
   "source": [
    "#### Question 4\n",
    "##### Load the clean pickled dataset `chicago_no_hc` and save as `census`.\n",
    "##### Print the head of the census."
   ]
  },
  {
   "cell_type": "code",
   "execution_count": 265,
   "metadata": {},
   "outputs": [
    {
     "data": {
      "text/html": [
       "<div>\n",
       "<style scoped>\n",
       "    .dataframe tbody tr th:only-of-type {\n",
       "        vertical-align: middle;\n",
       "    }\n",
       "\n",
       "    .dataframe tbody tr th {\n",
       "        vertical-align: top;\n",
       "    }\n",
       "\n",
       "    .dataframe thead th {\n",
       "        text-align: right;\n",
       "    }\n",
       "</style>\n",
       "<table border=\"1\" class=\"dataframe\">\n",
       "  <thead>\n",
       "    <tr style=\"text-align: right;\">\n",
       "      <th></th>\n",
       "      <th>percent_house_crowded</th>\n",
       "      <th>percent_house_below_poverty</th>\n",
       "      <th>percent_16_unemployed</th>\n",
       "      <th>percent_dependent</th>\n",
       "      <th>hardship_index</th>\n",
       "      <th>income</th>\n",
       "    </tr>\n",
       "  </thead>\n",
       "  <tbody>\n",
       "    <tr>\n",
       "      <th>0</th>\n",
       "      <td>7.7</td>\n",
       "      <td>23.6</td>\n",
       "      <td>8.7</td>\n",
       "      <td>27.5</td>\n",
       "      <td>39.0</td>\n",
       "      <td>0</td>\n",
       "    </tr>\n",
       "    <tr>\n",
       "      <th>1</th>\n",
       "      <td>7.8</td>\n",
       "      <td>17.2</td>\n",
       "      <td>8.8</td>\n",
       "      <td>38.5</td>\n",
       "      <td>46.0</td>\n",
       "      <td>0</td>\n",
       "    </tr>\n",
       "    <tr>\n",
       "      <th>2</th>\n",
       "      <td>3.8</td>\n",
       "      <td>24.0</td>\n",
       "      <td>8.9</td>\n",
       "      <td>22.2</td>\n",
       "      <td>20.0</td>\n",
       "      <td>1</td>\n",
       "    </tr>\n",
       "    <tr>\n",
       "      <th>3</th>\n",
       "      <td>3.4</td>\n",
       "      <td>10.9</td>\n",
       "      <td>8.2</td>\n",
       "      <td>25.5</td>\n",
       "      <td>17.0</td>\n",
       "      <td>1</td>\n",
       "    </tr>\n",
       "    <tr>\n",
       "      <th>4</th>\n",
       "      <td>0.3</td>\n",
       "      <td>7.5</td>\n",
       "      <td>5.2</td>\n",
       "      <td>26.2</td>\n",
       "      <td>6.0</td>\n",
       "      <td>1</td>\n",
       "    </tr>\n",
       "  </tbody>\n",
       "</table>\n",
       "</div>"
      ],
      "text/plain": [
       "   percent_house_crowded  percent_house_below_poverty  percent_16_unemployed  \\\n",
       "0                    7.7                         23.6                    8.7   \n",
       "1                    7.8                         17.2                    8.8   \n",
       "2                    3.8                         24.0                    8.9   \n",
       "3                    3.4                         10.9                    8.2   \n",
       "4                    0.3                          7.5                    5.2   \n",
       "\n",
       "   percent_dependent  hardship_index  income  \n",
       "0               27.5            39.0       0  \n",
       "1               38.5            46.0       0  \n",
       "2               22.2            20.0       1  \n",
       "3               25.5            17.0       1  \n",
       "4               26.2             6.0       1  "
      ]
     },
     "execution_count": 265,
     "metadata": {},
     "output_type": "execute_result"
    }
   ],
   "source": [
    "census = pickle.load(open('chicago_census.sav', 'rb'))\n",
    "census.head()\n"
   ]
  },
  {
   "cell_type": "markdown",
   "metadata": {},
   "source": [
    "#### Question 5\n",
    "##### Select the predictors by dropping variable `income` and save the result to a dataframe `X_ex`.\n",
    "##### Save the target variable `income` column to `y_ex` variable.\n",
    "##### Set seed as 1.\n",
    "##### Split the data into training and test sets with 70:30 ratio and save respective variables to `X_train_ex`, `X_test_ex`, `y_train_ex`, `y_test_ex`."
   ]
  },
  {
   "cell_type": "code",
   "execution_count": 70,
   "metadata": {},
   "outputs": [],
   "source": [
    "def df_target_split(df, target, s = 1, ts = .3):\n",
    "    \"\"\"\"\"\"\n",
    "    # Separate target from data.\n",
    "    ex_y = np.array(df[f'{target}'])\n",
    "    # Split the predictors from data.\n",
    "    ex_x = df.drop(f'{target}', axis = 1)\n",
    "\n",
    "    # Set the seed.\n",
    "    np.random.seed(s)\n",
    "    \n",
    "    # Split data into training and test set\n",
    "    ex_X_train, ex_X_test, ex_y_train, ex_y_test = train_test_split(ex_x, ex_y, test_size = ts)\n",
    "    \n",
    "    return ex_X_train, ex_X_test, ex_y_train, ex_y_test"
   ]
  },
  {
   "cell_type": "code",
   "execution_count": 219,
   "metadata": {},
   "outputs": [],
   "source": [
    "ex_X_train, ex_X_test, ex_y_train, ex_y_test = df_target_split(census, 'income', 1)"
   ]
  },
  {
   "cell_type": "markdown",
   "metadata": {},
   "source": [
    "#### Question 6\n",
    "##### Load the random forest model `ex_model_forest.sav` we saved during last week's exercise.\n",
    "##### Save it as `forest_ex`.\n",
    "##### We will use this base model to optimize our random forest."
   ]
  },
  {
   "cell_type": "code",
   "execution_count": 72,
   "metadata": {},
   "outputs": [
    {
     "data": {
      "text/plain": [
       "{'bootstrap': True,\n",
       " 'class_weight': None,\n",
       " 'criterion': 'gini',\n",
       " 'max_depth': None,\n",
       " 'max_features': 'auto',\n",
       " 'max_leaf_nodes': None,\n",
       " 'min_impurity_decrease': 0.0,\n",
       " 'min_impurity_split': None,\n",
       " 'min_samples_leaf': 1,\n",
       " 'min_samples_split': 2,\n",
       " 'min_weight_fraction_leaf': 0.0,\n",
       " 'n_estimators': 100,\n",
       " 'n_jobs': None,\n",
       " 'oob_score': False,\n",
       " 'random_state': 1,\n",
       " 'verbose': 0,\n",
       " 'warm_start': False}"
      ]
     },
     "execution_count": 72,
     "metadata": {},
     "output_type": "execute_result"
    }
   ],
   "source": [
    "ex_forest = pickle.load(open(\"ex_model_forest.sav\",\"rb\"))\n",
    "ex_forest.get_params()"
   ]
  },
  {
   "cell_type": "markdown",
   "metadata": {},
   "source": [
    "#### Question 7\n",
    "##### Create a grid of parameter ranges as we did in class\n",
    "##### Call it `random_grid_ex`."
   ]
  },
  {
   "cell_type": "code",
   "execution_count": 73,
   "metadata": {},
   "outputs": [
    {
     "name": "stdout",
     "output_type": "stream",
     "text": [
      "{'n_estimators': [200, 400, 600, 800, 1000, 1200, 1400, 1600, 1800, 2000], 'max_features': ['auto', 'sqrt'], 'max_depth': [10, 20, 30, 40, 50, 60, 70, 80, 90, 100, 110, None], 'min_samples_split': [2, 5, 10], 'min_samples_leaf': [1, 2, 4]}\n"
     ]
    }
   ],
   "source": [
    "#=================================================-\n",
    "#### Slide 16: Parameter grid  ####\n",
    "\n",
    "# Number of trees in random forest.\n",
    "n_estimators = [int(x) for x in np.linspace(start = 200, \n",
    "                                            stop = 2000,\n",
    "                                            num = 10)]\n",
    "\n",
    "# Number of features to consider at every split.\n",
    "max_features = ['auto', 'sqrt']\n",
    "\n",
    "# Maximum number of levels in tree.\n",
    "max_depth = [int(x) for x in np.linspace(10, 110, num = 11)]\n",
    "max_depth.append(None)\n",
    "\n",
    "# Minimum number of samples required to split a node.\n",
    "min_samples_split = [2, 5, 10]\n",
    "\n",
    "# Minimum number of samples required at each leaf node.\n",
    "min_samples_leaf = [1, 2, 4]\n",
    "\n",
    "\n",
    "# Create the random grid.\n",
    "ex_random_grid = {'n_estimators': n_estimators,\n",
    "                  'max_features': max_features,\n",
    "                  'max_depth': max_depth,\n",
    "                  'min_samples_split': min_samples_split,\n",
    "                  'min_samples_leaf': min_samples_leaf}\n",
    "print(ex_random_grid)\n",
    "\n"
   ]
  },
  {
   "cell_type": "markdown",
   "metadata": {},
   "source": [
    "#### Question 8\n",
    "##### Instantiate the model, call it `rf_random_ex`.\n",
    "##### Use 3-fold cross-validation with 100 different combinations.\n",
    "##### Look at the `best_params_`."
   ]
  },
  {
   "cell_type": "code",
   "execution_count": null,
   "metadata": {},
   "outputs": [],
   "source": [
    "import cProfile\n",
    "from timeit import default_timer as timer\n",
    "\n",
    "n_jobs=-1\n",
    "\n",
    "rf_random = RandomizedSearchCV(estimator = forest,\n",
    "                               param_distributions = random_grid, \n",
    "                               n_iter = 100,\n",
    "                               cv = 3,\n",
    "                               verbose = 0, \n",
    "                               random_state = 1, \n",
    "                               n_jobs = n_jobs)\n",
    "\n",
    "start = timer()\n",
    "# Fit the random search model. \n",
    "cProfile.run('rf_random.fit(X_train, y_train)', 'restats_{}_njobs_randgrid'.format(str(n_jobs)))\n",
    "end = timer()\n",
    "print('The job took {} min with {} jobs'.format((end - start)/60, n_jobs))\n",
    "\n",
    "rf_random.best_params_"
   ]
  },
  {
   "cell_type": "code",
   "execution_count": 35,
   "metadata": {},
   "outputs": [
    {
     "name": "stdout",
     "output_type": "stream",
     "text": [
      "The job took 2.584101788766657 min with -1 jobs\n"
     ]
    },
    {
     "data": {
      "text/plain": [
       "{'n_estimators': 2000,\n",
       " 'min_samples_split': 10,\n",
       " 'min_samples_leaf': 1,\n",
       " 'max_features': 'auto',\n",
       " 'max_depth': 30}"
      ]
     },
     "execution_count": 35,
     "metadata": {},
     "output_type": "execute_result"
    }
   ],
   "source": [
    "import cProfile\n",
    "from timeit import default_timer as timer\n",
    "from sklearn.model_selection import ShuffleSplit\n",
    "n_jobs= -1\n",
    "\n",
    "ex_rf_random = RandomizedSearchCV(estimator = ex_forest, \n",
    "                               param_distributions = ex_random_grid,\n",
    "                               n_iter = 100,\n",
    "                               cv = ShuffleSplit(n_splits=3, test_size=0.3, random_state=0), \n",
    "                               verbose = 0,\n",
    "                               random_state = 1, \n",
    "                               n_jobs = -1)\n",
    "\n",
    "start = timer()\n",
    "# Fit the random search model. \n",
    "cProfile.run('ex_rf_random.fit(ex_X_train, ex_y_train)', 'restats_{}_njobs_randgrid'.format(str(n_jobs)))\n",
    "end = timer()\n",
    "print('The job took {} min with {} jobs'.format((end - start)/60, n_jobs))\n",
    "\n",
    "ex_rf_random.best_params_"
   ]
  },
  {
   "cell_type": "code",
   "execution_count": 36,
   "metadata": {},
   "outputs": [
    {
     "name": "stdout",
     "output_type": "stream",
     "text": [
      "The job took 2.608863882616667 min with -1 jobs\n",
      "{'n_estimators': 1400, 'min_samples_split': 10, 'min_samples_leaf': 4, 'max_features': 'auto', 'max_depth': 60}\n"
     ]
    }
   ],
   "source": [
    "ex_rf_random_CV = RandomizedSearchCV(estimator = ex_forest, \n",
    "                               param_distributions = ex_random_grid,\n",
    "                               n_iter = 100,\n",
    "                               cv = 3, \n",
    "                               verbose = 0,\n",
    "                               random_state = 1, \n",
    "                               n_jobs = -1)\n",
    "\n",
    "start = timer()\n",
    "# Fit the random search model. \n",
    "cProfile.run('ex_rf_random_CV.fit(ex_X_train, ex_y_train)', 'restats_{}_njobs_randgrid'.format(str(n_jobs)))\n",
    "end = timer()\n",
    "print('The job took {} min with {} jobs'.format((end - start)/60, n_jobs))\n",
    "\n",
    "print(ex_rf_random_CV.best_params_)"
   ]
  },
  {
   "cell_type": "markdown",
   "metadata": {},
   "source": [
    "#### Question 9\n",
    "##### Now use the optimized parameters to implement the optimized model on `X_train_ex`.\n",
    "##### Name it `optimized_forest_ex`."
   ]
  },
  {
   "cell_type": "code",
   "execution_count": 74,
   "metadata": {},
   "outputs": [
    {
     "name": "stdout",
     "output_type": "stream",
     "text": [
      "{'n_estimators': 2000, 'min_samples_split': 10, 'min_samples_leaf': 1, 'max_features': 'auto', 'max_depth': 30}\n"
     ]
    }
   ],
   "source": [
    "best_params = ex_rf_random.best_params_\n",
    "print(best_params)"
   ]
  },
  {
   "cell_type": "code",
   "execution_count": 75,
   "metadata": {},
   "outputs": [
    {
     "name": "stdout",
     "output_type": "stream",
     "text": [
      "{'n_estimators': 1400, 'min_samples_split': 10, 'min_samples_leaf': 4, 'max_features': 'auto', 'max_depth': 60}\n"
     ]
    }
   ],
   "source": [
    "best_params_CV = ex_rf_random_CV.best_params_\n",
    "print(best_params_CV)"
   ]
  },
  {
   "cell_type": "code",
   "execution_count": 76,
   "metadata": {},
   "outputs": [
    {
     "data": {
      "text/plain": [
       "RandomForestClassifier(bootstrap=True, class_weight=None, criterion='gini',\n",
       "            max_depth=30, max_features='auto', max_leaf_nodes=None,\n",
       "            min_impurity_decrease=0.0, min_impurity_split=None,\n",
       "            min_samples_leaf=1, min_samples_split=10,\n",
       "            min_weight_fraction_leaf=0.0, n_estimators=2000, n_jobs=None,\n",
       "            oob_score=False, random_state=None, verbose=0,\n",
       "            warm_start=False)"
      ]
     },
     "execution_count": 76,
     "metadata": {},
     "output_type": "execute_result"
    }
   ],
   "source": [
    "ex_optimized_forest = RandomForestClassifier(**best_params)\n",
    "ex_optimized_forest.fit(ex_X_train, ex_y_train)"
   ]
  },
  {
   "cell_type": "code",
   "execution_count": 77,
   "metadata": {},
   "outputs": [
    {
     "data": {
      "text/plain": [
       "RandomForestClassifier(bootstrap=True, class_weight=None, criterion='gini',\n",
       "            max_depth=60, max_features='auto', max_leaf_nodes=None,\n",
       "            min_impurity_decrease=0.0, min_impurity_split=None,\n",
       "            min_samples_leaf=4, min_samples_split=10,\n",
       "            min_weight_fraction_leaf=0.0, n_estimators=1400, n_jobs=None,\n",
       "            oob_score=False, random_state=None, verbose=0,\n",
       "            warm_start=False)"
      ]
     },
     "execution_count": 77,
     "metadata": {},
     "output_type": "execute_result"
    }
   ],
   "source": [
    "ex_optimized_forest_CV = RandomForestClassifier(**best_params_CV)\n",
    "ex_optimized_forest_CV.fit(ex_X_train, ex_y_train)"
   ]
  },
  {
   "cell_type": "markdown",
   "metadata": {},
   "source": [
    "## Exercise 2"
   ]
  },
  {
   "cell_type": "markdown",
   "metadata": {},
   "source": [
    "#### Question 1\n",
    "##### Predict and save the predictions as `optimized_forest_y_predict_ex`.\n",
    "##### Find the accuracy of the optimized forest."
   ]
  },
  {
   "cell_type": "code",
   "execution_count": 78,
   "metadata": {},
   "outputs": [],
   "source": [
    "def plt_cm(y_test, y_predict):\n",
    "    \n",
    "    #Take a look at test data confusion matrix and get accuracy\n",
    "    conf_matrix = metrics.confusion_matrix(y_test, y_predict)\n",
    "    accuracy = metrics.accuracy_score(y_test, y_predict)\n",
    "    \n",
    "    # make pretty and plot\n",
    "    plt.clf()\n",
    "    plt.imshow(conf_matrix, \n",
    "               interpolation='nearest', \n",
    "               cmap=plt.cm.Wistia)\n",
    "    classNames = ['Negative','Positive']\n",
    "    plt.title('Confusion Matrix - Test Data')\n",
    "    plt.ylabel('True label')\n",
    "    plt.xlabel('Predicted label')\n",
    "    tick_marks = np.arange(len(classNames))\n",
    "    plt.xticks(tick_marks, classNames, rotation=45)\n",
    "    plt.yticks(tick_marks, classNames)\n",
    "    s = [['TN','FP'], ['FN', 'TP']]\n",
    "    for i in range(2):\n",
    "        for j in range(2):\n",
    "            plt.text(j,i, str(s[i][j]) + \" = \" + str(conf_matrix[i][j]))\n",
    "    plt.show()\n",
    "    # print accuracy\n",
    "    print(\"Accuracy for the model on test data: \", accuracy)\n",
    "    return accuracy"
   ]
  },
  {
   "cell_type": "code",
   "execution_count": 79,
   "metadata": {},
   "outputs": [
    {
     "data": {
      "image/png": "[encoded data removed]",
      "text/plain": [
       "<Figure size 432x288 with 1 Axes>"
      ]
     },
     "metadata": {
      "needs_background": "light"
     },
     "output_type": "display_data"
    },
    {
     "name": "stdout",
     "output_type": "stream",
     "text": [
      "Accuracy for the model on test data:  0.875\n"
     ]
    }
   ],
   "source": [
    "ex_optimized_forest_y_predict = ex_optimized_forest.predict(ex_X_test)\n",
    "# Look at the first few predictions.\n",
    "optimized_accuracy_forest_ex = plt_cm(ex_y_test, ex_optimized_forest_y_predict)"
   ]
  },
  {
   "cell_type": "code",
   "execution_count": 80,
   "metadata": {},
   "outputs": [
    {
     "data": {
      "image/png": "[encoded data removed]",
      "text/plain": [
       "<Figure size 432x288 with 1 Axes>"
      ]
     },
     "metadata": {
      "needs_background": "light"
     },
     "output_type": "display_data"
    },
    {
     "name": "stdout",
     "output_type": "stream",
     "text": [
      "Accuracy for the model on test data:  0.875\n"
     ]
    }
   ],
   "source": [
    "ex_optimized_forest_y_predict_CV = ex_optimized_forest_CV.predict(ex_X_test)\n",
    "# Look at the first few predictions.\n",
    "optimized_accuracy_forest_ex_CV = plt_cm(ex_y_test, ex_optimized_forest_y_predict_CV)"
   ]
  },
  {
   "cell_type": "code",
   "execution_count": 54,
   "metadata": {},
   "outputs": [
    {
     "name": "stdout",
     "output_type": "stream",
     "text": [
      "[0 0 0 1 1 1 0 1 0 0 1 0 1 0 0 1 0 1 0 1 0 0 0 0]\n"
     ]
    }
   ],
   "source": [
    "print(ex_optimized_forest_y_predict_CV)"
   ]
  },
  {
   "cell_type": "code",
   "execution_count": 55,
   "metadata": {},
   "outputs": [
    {
     "name": "stdout",
     "output_type": "stream",
     "text": [
      "[0 0 0 1 1 1 0 1 0 0 1 0 1 0 0 1 0 1 0 1 0 0 0 0]\n"
     ]
    }
   ],
   "source": [
    "print(ex_optimized_forest_y_predict)"
   ]
  },
  {
   "cell_type": "markdown",
   "metadata": {},
   "source": [
    "#### Question 2\n",
    "##### Load the pickled dataframe `ex_model_final_rf_gbm.sav` we created in the last class and save as `ex_model_final_optimized`.\n",
    "##### Append the accuracy `optimized_forest_accuracy_ex` obtained above to the dataframe."
   ]
  },
  {
   "cell_type": "code",
   "execution_count": 85,
   "metadata": {},
   "outputs": [],
   "source": [
    "ex_model_final_optimized = pickle.load(open('ex_model_final.sav', 'rb'))"
   ]
  },
  {
   "cell_type": "code",
   "execution_count": 86,
   "metadata": {},
   "outputs": [],
   "source": [
    "def update_model_score(model_df, model_accuracy, m_name):\n",
    "    model_df = model_df.append(\n",
    "    {'metrics' : \"accuracy\" ,\n",
    "     'values' : round(model_accuracy,4),\n",
    "     'model': m_name\n",
    "    },\n",
    "    ignore_index = True\n",
    "    )\n",
    "    \n",
    "    print(model_df)\n",
    "    return model_df"
   ]
  },
  {
   "cell_type": "code",
   "execution_count": 87,
   "metadata": {},
   "outputs": [
    {
     "name": "stdout",
     "output_type": "stream",
     "text": [
      "     metrics  values                                 model\n",
      "0   accuracy  0.8333                                 knn_5\n",
      "1   accuracy  0.9359                      knn_GridSearchCV\n",
      "2   accuracy  0.9583                                knn_27\n",
      "3   accuracy  1.0000                              logistic\n",
      "4   accuracy  1.0000                  logistic_withdummies\n",
      "5   accuracy  1.0000                        logistic_tuned\n",
      "6   accuracy  0.9167                    tree_simple_subset\n",
      "7   accuracy  0.9583               full_tree_simple_subset\n",
      "8   accuracy  0.9583            full_tree_optimized_subset\n",
      "9   accuracy  0.8750                         random forest\n",
      "10  accuracy  0.8750                      gradient_booster\n",
      "11  accuracy  0.8750  optimized_accuracy_forest_cv_shuffle\n"
     ]
    }
   ],
   "source": [
    "ex_model_final_optimized = update_model_score(ex_model_final_optimized, optimized_accuracy_forest_ex, 'optimized_accuracy_forest_cv_shuffle')"
   ]
  },
  {
   "cell_type": "code",
   "execution_count": 88,
   "metadata": {},
   "outputs": [
    {
     "name": "stdout",
     "output_type": "stream",
     "text": [
      "     metrics  values                                 model\n",
      "0   accuracy  0.8333                                 knn_5\n",
      "1   accuracy  0.9359                      knn_GridSearchCV\n",
      "2   accuracy  0.9583                                knn_27\n",
      "3   accuracy  1.0000                              logistic\n",
      "4   accuracy  1.0000                  logistic_withdummies\n",
      "5   accuracy  1.0000                        logistic_tuned\n",
      "6   accuracy  0.9167                    tree_simple_subset\n",
      "7   accuracy  0.9583               full_tree_simple_subset\n",
      "8   accuracy  0.9583            full_tree_optimized_subset\n",
      "9   accuracy  0.8750                         random forest\n",
      "10  accuracy  0.8750                      gradient_booster\n",
      "11  accuracy  0.8750  optimized_accuracy_forest_cv_shuffle\n",
      "12  accuracy  0.8750          optimized_accuracy_forest_cv\n"
     ]
    }
   ],
   "source": [
    "ex_model_final_optimized = update_model_score(ex_model_final_optimized, optimized_accuracy_forest_ex_CV, 'optimized_accuracy_forest_cv')"
   ]
  },
  {
   "cell_type": "markdown",
   "metadata": {},
   "source": [
    "## Exercise 3"
   ]
  },
  {
   "cell_type": "markdown",
   "metadata": {},
   "source": [
    "#### Question 1\n",
    "\n",
    "##### Create a function named `optimal_parameter` that will help us store the parameters we will be using in our optimized gradient boosting classifier.\n",
    "\n",
    "##### The inputs to the function should be:\n",
    "\n",
    "* `values` : list of values for given parameter that we iterate through\n",
    "* `test_results` : predictions on test set for each parameter that we iterate over\n",
    "\n",
    "##### The output of the function should be:\n",
    "\n",
    "* `best_value` : the actual parameter value that performs best and that we will use in our final optimized boosting model"
   ]
  },
  {
   "cell_type": "code",
   "execution_count": 231,
   "metadata": {},
   "outputs": [
    {
     "data": {
      "text/plain": [
       "array([0, 1, 0, 1, 0, 1, 0, 1, 0, 0, 1, 0, 1, 0, 0, 1, 0, 1, 0, 1, 0, 1,\n",
       "       0, 0])"
      ]
     },
     "execution_count": 231,
     "metadata": {},
     "output_type": "execute_result"
    }
   ],
   "source": [
    "ex_y_test"
   ]
  },
  {
   "cell_type": "code",
   "execution_count": 232,
   "metadata": {},
   "outputs": [],
   "source": [
    "# define function for plotting\n",
    "def plot_results(optimizer, train_results, test_results, o_param):\n",
    "    line1, = plt.plot(optimizer,\n",
    "                      train_results, \n",
    "                      'b', \n",
    "                      label = \"Train accuracy\")\n",
    "    line2, = plt.plot(optimizer, \n",
    "                      test_results, \n",
    "                      'r', \n",
    "                      label = \"Test accuracy\")\n",
    "    plt.legend(handler_map={line1: HandlerLine2D(numpoints = 2)})\n",
    "    plt.ylabel('Accuracy')\n",
    "    plt.xlabel(o_param)\n",
    "    plt.show()"
   ]
  },
  {
   "cell_type": "code",
   "execution_count": 233,
   "metadata": {},
   "outputs": [],
   "source": [
    "# Define function that will determine the optimal number for each parameter.\n",
    "def optimal_parameter(values,test_results):\n",
    "    best_test_value = max(test_results)\n",
    "    best_test_index = test_results.index(best_test_value)\n",
    "    ex_best_value = values[best_test_index]\n",
    "    return(ex_best_value)"
   ]
  },
  {
   "cell_type": "code",
   "execution_count": 234,
   "metadata": {},
   "outputs": [],
   "source": [
    "# define function to optimize model\n",
    "def model_optimizer(df, target, model, optimizer, o_param, seed = 1):\n",
    "    # intiate empty lists\n",
    "    train_results = []\n",
    "    test_results = []\n",
    "    \n",
    "    # call function to split train and test data, specify income\n",
    "    X_train, X_test, Y_train, Y_test = df_target_split(df, target, seed)\n",
    "    \n",
    "    for i in optimizer:\n",
    "        \n",
    "        # pass o_param as dictionary key and i as value\n",
    "        params = { o_param : i}\n",
    "        \n",
    "        # pass and unpack params dictionary as specified parameter\n",
    "        model = model.set_params(**params)\n",
    "        \n",
    "        # fit data\n",
    "        model.fit(X_train, Y_train)\n",
    "        train_pred = model.predict(X_train)\n",
    "        acc_train = accuracy_score(Y_train, train_pred)\n",
    "\n",
    "        # Add AUC score to previous train results\n",
    "        train_results.append(acc_train)\n",
    "        y_pred = model.predict(X_test)\n",
    "        acc_test = accuracy_score(Y_test, y_pred)\n",
    "\n",
    "        # Add AUC score to previous test results\n",
    "        test_results.append(acc_test)\n",
    "\n",
    "    #plot the results\n",
    "    plot_results(optimizer, train_results, test_results, o_param)\n",
    "\n",
    "    # return optimal parameter.\n",
    "    return optimal_parameter(optimizer, test_results)"
   ]
  },
  {
   "cell_type": "markdown",
   "metadata": {},
   "source": [
    "#### Question 2\n",
    "\n",
    "##### Find the optimum learning rate for the gradient boosting model among a range of values. \n",
    "`learning_rates = [1, 0.5, 0.25, 0.1]`\n",
    "\n",
    "##### Save it as `optimal_learning_rate_ex` and print the value."
   ]
  },
  {
   "cell_type": "code",
   "execution_count": 235,
   "metadata": {},
   "outputs": [],
   "source": [
    "gbm_o = GradientBoostingClassifier()"
   ]
  },
  {
   "cell_type": "code",
   "execution_count": 236,
   "metadata": {},
   "outputs": [
    {
     "data": {
      "image/png": "[encoded data removed]",
      "text/plain": [
       "<Figure size 432x288 with 1 Axes>"
      ]
     },
     "metadata": {
      "needs_background": "light"
     },
     "output_type": "display_data"
    },
    {
     "data": {
      "text/plain": [
       "1"
      ]
     },
     "execution_count": 236,
     "metadata": {},
     "output_type": "execute_result"
    }
   ],
   "source": [
    "learning_rates = [1, 0.5, 0.25, 0.1, 0.05, 0.01]\n",
    "ex_optimal_learning_rate = model_optimizer(census, 'income', gbm_o, learning_rates, 'learning_rate', 1)\n",
    "ex_optimal_learning_rate"
   ]
  },
  {
   "cell_type": "markdown",
   "metadata": {},
   "source": [
    "#### Question 3\n",
    "\n",
    "##### Plot the learning rate against train_results_ex and test_results_ex."
   ]
  },
  {
   "cell_type": "code",
   "execution_count": 237,
   "metadata": {},
   "outputs": [
    {
     "name": "stdout",
     "output_type": "stream",
     "text": [
      "see above\n"
     ]
    }
   ],
   "source": [
    "print('see above')"
   ]
  },
  {
   "cell_type": "markdown",
   "metadata": {},
   "source": [
    "#### Question 4\n",
    "\n",
    "##### Find the optimum n_estimators for the gradient boosting model among a range of values.\n",
    "`n_estimators = [1, 2, 4, 8, 16, 32, 64, 100, 200]`\n",
    "\n",
    "##### Save it as `optimal_n_estimators_ex` and print the value."
   ]
  },
  {
   "cell_type": "code",
   "execution_count": 238,
   "metadata": {},
   "outputs": [
    {
     "data": {
      "image/png": "[encoded data removed]",
      "text/plain": [
       "<Figure size 432x288 with 1 Axes>"
      ]
     },
     "metadata": {
      "needs_background": "light"
     },
     "output_type": "display_data"
    },
    {
     "data": {
      "text/plain": [
       "32"
      ]
     },
     "execution_count": 238,
     "metadata": {},
     "output_type": "execute_result"
    }
   ],
   "source": [
    "n_estimators = [1, 2, 4, 8, 16, 32, 64, 100, 200]\n",
    "ex_optimal_n_estimators = model_optimizer(census, 'income', gbm_o, n_estimators, 'n_estimators', 1)\n",
    "ex_optimal_n_estimators"
   ]
  },
  {
   "cell_type": "markdown",
   "metadata": {},
   "source": [
    "#### Question 5\n",
    "\n",
    "##### Plot the n_estimators against  train_results_ex and test_results_ex."
   ]
  },
  {
   "cell_type": "code",
   "execution_count": 239,
   "metadata": {},
   "outputs": [
    {
     "data": {
      "text/plain": [
       "array(['percent_house_crowded', 'percent_house_below_poverty',\n",
       "       'percent_16_unemployed', 'percent_dependent', 'hardship_index',\n",
       "       'income'], dtype=object)"
      ]
     },
     "execution_count": 239,
     "metadata": {},
     "output_type": "execute_result"
    }
   ],
   "source": [
    "census.columns.values"
   ]
  },
  {
   "cell_type": "code",
   "execution_count": 240,
   "metadata": {},
   "outputs": [
    {
     "name": "stdout",
     "output_type": "stream",
     "text": [
      "see above\n"
     ]
    }
   ],
   "source": [
    "print('see above')"
   ]
  },
  {
   "cell_type": "markdown",
   "metadata": {},
   "source": [
    "#### Question 6\n",
    "\n",
    "##### Find the optimum max_depth for the gradient boosting model among the given values.\n",
    "`max_depths = np.linspace(1, 32, 32, endpoint = True)`\n",
    "\n",
    "##### Save it as `optimal_max_depth_ex` and print the value."
   ]
  },
  {
   "cell_type": "code",
   "execution_count": 253,
   "metadata": {},
   "outputs": [
    {
     "data": {
      "image/png": "[encoded data removed]",
      "text/plain": [
       "<Figure size 432x288 with 1 Axes>"
      ]
     },
     "metadata": {
      "needs_background": "light"
     },
     "output_type": "display_data"
    },
    {
     "data": {
      "text/plain": [
       "1.0"
      ]
     },
     "execution_count": 253,
     "metadata": {},
     "output_type": "execute_result"
    }
   ],
   "source": [
    "max_depths = np.linspace(1, 32, 32, endpoint = True)\n",
    "ex_optimal_max_depths = model_optimizer(census, 'income', gbm_o, max_depths, 'max_depth', 1)\n",
    "ex_optimal_max_depths"
   ]
  },
  {
   "cell_type": "markdown",
   "metadata": {},
   "source": [
    "#### Question 7\n",
    "\n",
    "##### Plot the max_depth against  train_results_ex and test_results_ex."
   ]
  },
  {
   "cell_type": "code",
   "execution_count": 242,
   "metadata": {},
   "outputs": [
    {
     "data": {
      "image/png": "[encoded data removed]",
      "text/plain": [
       "<Figure size 432x288 with 1 Axes>"
      ]
     },
     "metadata": {
      "needs_background": "light"
     },
     "output_type": "display_data"
    },
    {
     "data": {
      "text/plain": [
       "4.0"
      ]
     },
     "execution_count": 242,
     "metadata": {},
     "output_type": "execute_result"
    }
   ],
   "source": [
    "max_depths = np.linspace(1, 32, 32, endpoint = True)\n",
    "ex_optimal_max_depths2 = model_optimizer(census_droped_hardship, 'income', gbm_o, max_depths, 'max_depth', 1)\n",
    "ex_optimal_max_depths2"
   ]
  },
  {
   "cell_type": "code",
   "execution_count": 243,
   "metadata": {},
   "outputs": [
    {
     "name": "stdout",
     "output_type": "stream",
     "text": [
      "see above\n"
     ]
    }
   ],
   "source": [
    "print('see above')"
   ]
  },
  {
   "cell_type": "markdown",
   "metadata": {},
   "source": [
    "#### Question 8\n",
    "\n",
    "##### Find the optimum minimum number of samples required to split an internal node `min_samples_split` for the gradient boosting model among a range of values\n",
    "`min_samples_splits = np.linspace(0.1, 1.0, 10, endpoint = True)`\n",
    "\n",
    "##### Save it as `optimal_min_samples_split_ex` and print the value."
   ]
  },
  {
   "cell_type": "code",
   "execution_count": 244,
   "metadata": {},
   "outputs": [
    {
     "data": {
      "image/png": "[encoded data removed]",
      "text/plain": [
       "<Figure size 432x288 with 1 Axes>"
      ]
     },
     "metadata": {
      "needs_background": "light"
     },
     "output_type": "display_data"
    },
    {
     "data": {
      "text/plain": [
       "0.1"
      ]
     },
     "execution_count": 244,
     "metadata": {},
     "output_type": "execute_result"
    }
   ],
   "source": [
    "min_samples_splits = np.linspace(0.1, 1.0, 10, endpoint = True)\n",
    "ex_optimal_min_samples_splits = model_optimizer(census, 'income', gbm_o, min_samples_splits, 'min_samples_split', 1)\n",
    "ex_optimal_min_samples_splits"
   ]
  },
  {
   "cell_type": "markdown",
   "metadata": {},
   "source": [
    "#### Question 9\n",
    "\n",
    "##### Plot the min_samples_split against  train_results_ex and test_results_ex."
   ]
  },
  {
   "cell_type": "code",
   "execution_count": 245,
   "metadata": {},
   "outputs": [
    {
     "name": "stdout",
     "output_type": "stream",
     "text": [
      "see above \n"
     ]
    }
   ],
   "source": [
    "print('see above ')"
   ]
  },
  {
   "cell_type": "markdown",
   "metadata": {},
   "source": [
    "#### Question 10\n",
    "\n",
    "##### Find the optimum minimum number of samples required to be at a leaf node `min_samples_leaf` for the gradient boosting model among a range of values.\n",
    "`min_samples_leafs = np.linspace(0.1, 0.5, 5, endpoint = True)`\n",
    "\n",
    "##### Save it as `optimal_min_samples_leafs_ex` and print the value."
   ]
  },
  {
   "cell_type": "code",
   "execution_count": 246,
   "metadata": {},
   "outputs": [
    {
     "data": {
      "image/png": "[encoded data removed]",
      "text/plain": [
       "<Figure size 432x288 with 1 Axes>"
      ]
     },
     "metadata": {
      "needs_background": "light"
     },
     "output_type": "display_data"
    },
    {
     "data": {
      "text/plain": [
       "0.1"
      ]
     },
     "execution_count": 246,
     "metadata": {},
     "output_type": "execute_result"
    }
   ],
   "source": [
    "min_samples_leafs = np.linspace(0.1, 0.5, 5, endpoint = True)\n",
    "ex_optimal_min_samples_leafs = model_optimizer(census, 'income', gbm_o, min_samples_leafs, 'min_samples_leaf', 1)\n",
    "ex_optimal_min_samples_leafs"
   ]
  },
  {
   "cell_type": "markdown",
   "metadata": {},
   "source": [
    "#### Question 11\n",
    "\n",
    "##### Plot the min_samples_leaf against  train_results_ex and test_results_ex."
   ]
  },
  {
   "cell_type": "code",
   "execution_count": 247,
   "metadata": {},
   "outputs": [
    {
     "name": "stdout",
     "output_type": "stream",
     "text": [
      "see above\n"
     ]
    }
   ],
   "source": [
    "print('see above')"
   ]
  },
  {
   "cell_type": "markdown",
   "metadata": {},
   "source": [
    "#### Question 12\n",
    "\n",
    "##### Find the optimum number of features to consider when looking for the best split `max_features` for the gradient boosting model among a range of values.\n",
    "`max_features = list(range(1,X_ex.shape[1]))`\n",
    "\n",
    "##### Save it as `optimal_max_features_ex` and print the value."
   ]
  },
  {
   "cell_type": "code",
   "execution_count": 248,
   "metadata": {},
   "outputs": [
    {
     "data": {
      "image/png": "[encoded data removed]",
      "text/plain": [
       "<Figure size 432x288 with 1 Axes>"
      ]
     },
     "metadata": {
      "needs_background": "light"
     },
     "output_type": "display_data"
    },
    {
     "data": {
      "text/plain": [
       "1"
      ]
     },
     "execution_count": 248,
     "metadata": {},
     "output_type": "execute_result"
    }
   ],
   "source": [
    "max_features = list(range(1, ex_X_train.shape[1]))\n",
    "ex_optimal_max_features = model_optimizer(census, 'income', gbm_o, max_features, 'max_features', 1)\n",
    "ex_optimal_max_features"
   ]
  },
  {
   "cell_type": "markdown",
   "metadata": {},
   "source": [
    "#### Question 13\n",
    "\n",
    "##### Plot the max_features against  train_results_ex and test_results_ex."
   ]
  },
  {
   "cell_type": "code",
   "execution_count": 249,
   "metadata": {},
   "outputs": [
    {
     "name": "stdout",
     "output_type": "stream",
     "text": [
      "see above\n"
     ]
    }
   ],
   "source": [
    "print('see above')"
   ]
  },
  {
   "cell_type": "markdown",
   "metadata": {},
   "source": [
    "## Exercise 4"
   ]
  },
  {
   "cell_type": "markdown",
   "metadata": {},
   "source": [
    "#### Question 1\n",
    "\n",
    "##### Now use the optimized parameters to implement the optimized gradient boosting model on `X_train_ex`.\n",
    "##### Name it `optimized_gbm_ex`."
   ]
  },
  {
   "cell_type": "code",
   "execution_count": 252,
   "metadata": {},
   "outputs": [
    {
     "name": "stdout",
     "output_type": "stream",
     "text": [
      "The optimal learning rate is: 1\n",
      "The optimal number of estimators is: 32\n",
      "The optimal max depth is: 1.0\n",
      "The optimal min samples split is: 0.1\n",
      "The optimal min samples leaf is: 0.1\n",
      "The optimal max features is: 1\n"
     ]
    }
   ],
   "source": [
    "print(\"The optimal learning rate is:\", ex_optimal_learning_rate)\n",
    "print(\"The optimal number of estimators is:\", ex_optimal_n_estimators)\n",
    "print(\"The optimal max depth is:\", ex_optimal_max_depths)\n",
    "print(\"The optimal min samples split is:\", ex_optimal_min_samples_splits)\n",
    "print(\"The optimal min samples leaf is:\", ex_optimal_min_samples_leafs)\n",
    "print(\"The optimal max features is:\", ex_optimal_max_features)"
   ]
  },
  {
   "cell_type": "markdown",
   "metadata": {},
   "source": [
    "#### Question 2\n",
    "##### Predict on the test data using our optimized gbm classifier `optimized_gbm_ex`.\n",
    "##### Print the first 5 predicted values."
   ]
  },
  {
   "cell_type": "code",
   "execution_count": 260,
   "metadata": {},
   "outputs": [
    {
     "name": "stdout",
     "output_type": "stream",
     "text": [
      "GradientBoostingClassifier(criterion='friedman_mse', init=None,\n",
      "              learning_rate=1, loss='deviance', max_depth=1.0,\n",
      "              max_features=1, max_leaf_nodes=None,\n",
      "              min_impurity_decrease=0.0, min_impurity_split=None,\n",
      "              min_samples_leaf=0.1, min_samples_split=0.1,\n",
      "              min_weight_fraction_leaf=0.0, n_estimators=32,\n",
      "              n_iter_no_change=None, presort='auto', random_state=None,\n",
      "              subsample=1.0, tol=0.0001, validation_fraction=0.1,\n",
      "              verbose=0, warm_start=False)\n"
     ]
    }
   ],
   "source": [
    "# Set the seed.\n",
    "np.random.seed(1)\n",
    "\n",
    "# Implement the decision tree on X_train.\n",
    "ex_gbm_optimized = GradientBoostingClassifier(learning_rate = ex_optimal_learning_rate,\n",
    "                                              n_estimators = ex_optimal_n_estimators,\n",
    "                                              max_depth = ex_optimal_max_depths,\n",
    "                                              min_samples_split = ex_optimal_min_samples_splits,\n",
    "                                              min_samples_leaf = ex_optimal_min_samples_leafs,\n",
    "                                              max_features = ex_optimal_max_features)\n",
    "\n",
    "# We can now see our optimized features where before they were just default:\n",
    "print(ex_gbm_optimized)\n",
    "\n",
    "ex_gbm_optimized_fit = ex_gbm_optimized.fit(ex_X_train, ex_y_train)\n",
    "\n"
   ]
  },
  {
   "cell_type": "code",
   "execution_count": 261,
   "metadata": {},
   "outputs": [
    {
     "data": {
      "text/plain": [
       "array([0, 0, 0, 1, 1, 1, 0, 1, 0, 0, 1, 0, 1, 0, 0, 1, 0, 1, 0, 1, 0, 0,\n",
       "       0, 0])"
      ]
     },
     "execution_count": 261,
     "metadata": {},
     "output_type": "execute_result"
    }
   ],
   "source": [
    "ex_optimized_gbm_y_predict = ex_gbm_optimized_fit.predict(ex_X_test)\n",
    "ex_optimized_gbm_y_predict"
   ]
  },
  {
   "cell_type": "markdown",
   "metadata": {},
   "source": [
    "#### Question 3\n",
    "##### Print the confusion matrix and accuracy score on the test data.\n",
    "##### Save the optimized gbm test accuracy as `optimized_gbm_accuracy_ex`.\n",
    "##### Print the training accuracy of optimized gbm model.\n",
    "##### From the train and test accuracy values on our small dataset, what do we do observe about the performance of our ensemble methods? Which model might perform better on a small dataset like ours?"
   ]
  },
  {
   "cell_type": "code",
   "execution_count": 262,
   "metadata": {},
   "outputs": [
    {
     "data": {
      "image/png": "[encoded data removed]",
      "text/plain": [
       "<Figure size 432x288 with 1 Axes>"
      ]
     },
     "metadata": {
      "needs_background": "light"
     },
     "output_type": "display_data"
    },
    {
     "name": "stdout",
     "output_type": "stream",
     "text": [
      "Accuracy for the model on test data:  0.875\n"
     ]
    }
   ],
   "source": [
    "optimized_accuracy_gbm_ex = plt_cm(ex_y_test, ex_optimized_gbm_y_predict)\n"
   ]
  },
  {
   "cell_type": "markdown",
   "metadata": {},
   "source": [
    "#### Question 4\n",
    "\n",
    "##### Append the accuracy `optimized_gbm_accuracy_ex` obtained above to the `ex_model_final_optimized` dataframe.\n",
    "##### Pickle the dataframe as `ex_model_final_optimized` for later use."
   ]
  },
  {
   "cell_type": "code",
   "execution_count": 263,
   "metadata": {},
   "outputs": [
    {
     "name": "stdout",
     "output_type": "stream",
     "text": [
      "     metrics  values                                 model\n",
      "0   accuracy  0.8333                                 knn_5\n",
      "1   accuracy  0.9359                      knn_GridSearchCV\n",
      "2   accuracy  0.9583                                knn_27\n",
      "3   accuracy  1.0000                              logistic\n",
      "4   accuracy  1.0000                  logistic_withdummies\n",
      "5   accuracy  1.0000                        logistic_tuned\n",
      "6   accuracy  0.9167                    tree_simple_subset\n",
      "7   accuracy  0.9583               full_tree_simple_subset\n",
      "8   accuracy  0.9583            full_tree_optimized_subset\n",
      "9   accuracy  0.8750                         random forest\n",
      "10  accuracy  0.8750                      gradient_booster\n",
      "11  accuracy  0.8750  optimized_accuracy_forest_cv_shuffle\n",
      "12  accuracy  0.8750          optimized_accuracy_forest_cv\n",
      "13  accuracy  0.8750                optimized_accuracy_gbm\n",
      "14  accuracy  0.8750                optimized_accuracy_gbm\n"
     ]
    }
   ],
   "source": [
    "ex_model_final_optimized = update_model_score(ex_model_final_optimized, optimized_accuracy_gbm_ex, 'optimized_accuracy_gbm')"
   ]
  },
  {
   "cell_type": "code",
   "execution_count": 264,
   "metadata": {},
   "outputs": [],
   "source": [
    "\n",
    "pickle.dump(ex_model_final_optimized, open(\"ex_model_final_optimized.sav\", \"wb\" ))\n",
    "\n"
   ]
  },
  {
   "cell_type": "code",
   "execution_count": null,
   "metadata": {},
   "outputs": [],
   "source": []
  }
 ],
 "metadata": {
  "kernelspec": {
   "display_name": "Python 3",
   "language": "python",
   "name": "python3"
  },
  "language_info": {
   "codemirror_mode": {
    "name": "ipython",
    "version": 3
   },
   "file_extension": ".py",
   "mimetype": "text/x-python",
   "name": "python",
   "nbconvert_exporter": "python",
   "pygments_lexer": "ipython3",
   "version": "3.7.1"
  }
 },
 "nbformat": 4,
 "nbformat_minor": 2
}
