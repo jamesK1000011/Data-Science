{
 "cells": [
  {
   "cell_type": "markdown",
   "metadata": {},
   "source": [
    "# Introduction to Classification Day 3 - Exercises"
   ]
  },
  {
   "cell_type": "markdown",
   "metadata": {},
   "source": [
    "## Exercise 1"
   ]
  },
  {
   "cell_type": "markdown",
   "metadata": {},
   "source": [
    "#### Question 1\n",
    "##### Import the required packages.\n",
    "##### Set the working directory to data directory.\n",
    "##### Print the working directory.\n",
    "##### Set plot directory named `plot_dir` to save plots."
   ]
  },
  {
   "cell_type": "code",
   "execution_count": 196,
   "metadata": {},
   "outputs": [],
   "source": [
    "main_dir = '/Users/datasociety/Desktop/af-werx'\n",
    "data_dir = main_dir + \"/data\"\n",
    "plot_dir = main_dir + \"/plots\""
   ]
  },
  {
   "cell_type": "code",
   "execution_count": 197,
   "metadata": {},
   "outputs": [],
   "source": [
    "import os\n",
    "import pandas as pd\n",
    "import numpy as np\n",
    "import matplotlib.pyplot as plt\n",
    "import pickle\n",
    "from sklearn.model_selection import train_test_split\n",
    "from sklearn import metrics\n",
    "from sklearn.metrics import accuracy_score, classification_report, confusion_matrix\n",
    "from sklearn.model_selection import GridSearchCV\n",
    "\n",
    "import graphviz\n",
    "from sklearn import tree\n",
    "from sklearn.tree import DecisionTreeClassifier\n",
    "from sklearn.model_selection import cross_val_score\n",
    "from matplotlib.legend_handler import HandlerLine2D"
   ]
  },
  {
   "cell_type": "code",
   "execution_count": 198,
   "metadata": {},
   "outputs": [
    {
     "name": "stdout",
     "output_type": "stream",
     "text": [
      "/Users/datasociety/Desktop/af-werx/data\n"
     ]
    }
   ],
   "source": [
    "# Set working directory.\n",
    "os.chdir(data_dir)\n",
    "# Check working directory.\n",
    "print(os.getcwd())"
   ]
  },
  {
   "cell_type": "markdown",
   "metadata": {},
   "source": [
    "#### Question 2\n",
    "##### Load the `chicago_census.csv` dataset. \n",
    "##### Save it as `chicago_census` and print its head."
   ]
  },
  {
   "cell_type": "code",
   "execution_count": 199,
   "metadata": {},
   "outputs": [
    {
     "data": {
      "text/html": [
       "<div>\n",
       "<style scoped>\n",
       "    .dataframe tbody tr th:only-of-type {\n",
       "        vertical-align: middle;\n",
       "    }\n",
       "\n",
       "    .dataframe tbody tr th {\n",
       "        vertical-align: top;\n",
       "    }\n",
       "\n",
       "    .dataframe thead th {\n",
       "        text-align: right;\n",
       "    }\n",
       "</style>\n",
       "<table border=\"1\" class=\"dataframe\">\n",
       "  <thead>\n",
       "    <tr style=\"text-align: right;\">\n",
       "      <th></th>\n",
       "      <th>Community Area Number</th>\n",
       "      <th>COMMUNITY AREA NAME</th>\n",
       "      <th>PERCENT OF HOUSING CROWDED</th>\n",
       "      <th>PERCENT HOUSEHOLDS BELOW POVERTY</th>\n",
       "      <th>PERCENT AGED 16+ UNEMPLOYED</th>\n",
       "      <th>PERCENT AGED 25+ WITHOUT HIGH SCHOOL DIPLOMA</th>\n",
       "      <th>PERCENT AGED UNDER 18 OR OVER 64</th>\n",
       "      <th>PER CAPITA INCOME</th>\n",
       "      <th>HARDSHIP INDEX</th>\n",
       "    </tr>\n",
       "  </thead>\n",
       "  <tbody>\n",
       "    <tr>\n",
       "      <th>0</th>\n",
       "      <td>1.0</td>\n",
       "      <td>Rogers Park</td>\n",
       "      <td>7.7</td>\n",
       "      <td>23.6</td>\n",
       "      <td>8.7</td>\n",
       "      <td>18.2</td>\n",
       "      <td>27.5</td>\n",
       "      <td>23939</td>\n",
       "      <td>39.0</td>\n",
       "    </tr>\n",
       "    <tr>\n",
       "      <th>1</th>\n",
       "      <td>2.0</td>\n",
       "      <td>West Ridge</td>\n",
       "      <td>7.8</td>\n",
       "      <td>17.2</td>\n",
       "      <td>8.8</td>\n",
       "      <td>20.8</td>\n",
       "      <td>38.5</td>\n",
       "      <td>23040</td>\n",
       "      <td>46.0</td>\n",
       "    </tr>\n",
       "    <tr>\n",
       "      <th>2</th>\n",
       "      <td>3.0</td>\n",
       "      <td>Uptown</td>\n",
       "      <td>3.8</td>\n",
       "      <td>24.0</td>\n",
       "      <td>8.9</td>\n",
       "      <td>11.8</td>\n",
       "      <td>22.2</td>\n",
       "      <td>35787</td>\n",
       "      <td>20.0</td>\n",
       "    </tr>\n",
       "    <tr>\n",
       "      <th>3</th>\n",
       "      <td>4.0</td>\n",
       "      <td>Lincoln Square</td>\n",
       "      <td>3.4</td>\n",
       "      <td>10.9</td>\n",
       "      <td>8.2</td>\n",
       "      <td>13.4</td>\n",
       "      <td>25.5</td>\n",
       "      <td>37524</td>\n",
       "      <td>17.0</td>\n",
       "    </tr>\n",
       "    <tr>\n",
       "      <th>4</th>\n",
       "      <td>5.0</td>\n",
       "      <td>North Center</td>\n",
       "      <td>0.3</td>\n",
       "      <td>7.5</td>\n",
       "      <td>5.2</td>\n",
       "      <td>4.5</td>\n",
       "      <td>26.2</td>\n",
       "      <td>57123</td>\n",
       "      <td>6.0</td>\n",
       "    </tr>\n",
       "  </tbody>\n",
       "</table>\n",
       "</div>"
      ],
      "text/plain": [
       "   Community Area Number COMMUNITY AREA NAME  PERCENT OF HOUSING CROWDED  \\\n",
       "0                    1.0         Rogers Park                         7.7   \n",
       "1                    2.0          West Ridge                         7.8   \n",
       "2                    3.0              Uptown                         3.8   \n",
       "3                    4.0      Lincoln Square                         3.4   \n",
       "4                    5.0        North Center                         0.3   \n",
       "\n",
       "   PERCENT HOUSEHOLDS BELOW POVERTY  PERCENT AGED 16+ UNEMPLOYED  \\\n",
       "0                              23.6                          8.7   \n",
       "1                              17.2                          8.8   \n",
       "2                              24.0                          8.9   \n",
       "3                              10.9                          8.2   \n",
       "4                               7.5                          5.2   \n",
       "\n",
       "   PERCENT AGED 25+ WITHOUT HIGH SCHOOL DIPLOMA  \\\n",
       "0                                          18.2   \n",
       "1                                          20.8   \n",
       "2                                          11.8   \n",
       "3                                          13.4   \n",
       "4                                           4.5   \n",
       "\n",
       "   PERCENT AGED UNDER 18 OR OVER 64  PER CAPITA INCOME   HARDSHIP INDEX  \n",
       "0                              27.5               23939            39.0  \n",
       "1                              38.5               23040            46.0  \n",
       "2                              22.2               35787            20.0  \n",
       "3                              25.5               37524            17.0  \n",
       "4                              26.2               57123             6.0  "
      ]
     },
     "execution_count": 199,
     "metadata": {},
     "output_type": "execute_result"
    }
   ],
   "source": [
    "chicago_census = pd.read_csv('chicago_census.csv')\n",
    "chicago_census.head()"
   ]
  },
  {
   "cell_type": "markdown",
   "metadata": {},
   "source": [
    "#### Question 3\n",
    "###### Rename the column names as the following (and double check they are renamed by looking at `.columns`:\n",
    "###### c(\"community_number\", \"community_area\", \"percent_house_crowded\", \"percent_house_below_poverty\",\n",
    "###### \"percent_16_unemployed\", \"percent_25_without_diploma\", \"percent_dependent\", \"per_capita_income\",\n",
    "###### \"hardship_index\")"
   ]
  },
  {
   "cell_type": "code",
   "execution_count": 200,
   "metadata": {},
   "outputs": [
    {
     "data": {
      "text/plain": [
       "{'Community Area Number': 'community_number',\n",
       " 'COMMUNITY AREA NAME': 'community_area',\n",
       " 'PERCENT OF HOUSING CROWDED': 'percent_house_crowded',\n",
       " 'PERCENT HOUSEHOLDS BELOW POVERTY': 'percent_house_below_poverty',\n",
       " 'PERCENT AGED 16+ UNEMPLOYED': 'percent_16_unemployed',\n",
       " 'PERCENT AGED 25+ WITHOUT HIGH SCHOOL DIPLOMA': 'percent_25_without_diploma',\n",
       " 'PERCENT AGED UNDER 18 OR OVER 64': 'percent_dependent',\n",
       " 'PER CAPITA INCOME ': 'per_capita_income',\n",
       " 'HARDSHIP INDEX': 'hardship_index'}"
      ]
     },
     "execution_count": 200,
     "metadata": {},
     "output_type": "execute_result"
    }
   ],
   "source": [
    "# create new list of column names\n",
    "new_columns = [\"community_number\", \"community_area\", \"percent_house_crowded\", \"percent_house_below_poverty\",\n",
    "\"percent_16_unemployed\", \"percent_25_without_diploma\", \"percent_dependent\", \"per_capita_income\",\n",
    "\"hardship_index\"]\n",
    "\n",
    "# get old list of column names\n",
    "old_columns = list(chicago_census.columns.values)\n",
    "\n",
    "# zip together\n",
    "zipped_columns_names = dict(zip(old_columns,new_columns))\n",
    "zipped_columns_names"
   ]
  },
  {
   "cell_type": "code",
   "execution_count": 201,
   "metadata": {},
   "outputs": [
    {
     "data": {
      "text/html": [
       "<div>\n",
       "<style scoped>\n",
       "    .dataframe tbody tr th:only-of-type {\n",
       "        vertical-align: middle;\n",
       "    }\n",
       "\n",
       "    .dataframe tbody tr th {\n",
       "        vertical-align: top;\n",
       "    }\n",
       "\n",
       "    .dataframe thead th {\n",
       "        text-align: right;\n",
       "    }\n",
       "</style>\n",
       "<table border=\"1\" class=\"dataframe\">\n",
       "  <thead>\n",
       "    <tr style=\"text-align: right;\">\n",
       "      <th></th>\n",
       "      <th>community_number</th>\n",
       "      <th>community_area</th>\n",
       "      <th>percent_house_crowded</th>\n",
       "      <th>percent_house_below_poverty</th>\n",
       "      <th>percent_16_unemployed</th>\n",
       "      <th>percent_25_without_diploma</th>\n",
       "      <th>percent_dependent</th>\n",
       "      <th>per_capita_income</th>\n",
       "      <th>hardship_index</th>\n",
       "    </tr>\n",
       "  </thead>\n",
       "  <tbody>\n",
       "    <tr>\n",
       "      <th>0</th>\n",
       "      <td>1.0</td>\n",
       "      <td>Rogers Park</td>\n",
       "      <td>7.7</td>\n",
       "      <td>23.6</td>\n",
       "      <td>8.7</td>\n",
       "      <td>18.2</td>\n",
       "      <td>27.5</td>\n",
       "      <td>23939</td>\n",
       "      <td>39.0</td>\n",
       "    </tr>\n",
       "    <tr>\n",
       "      <th>1</th>\n",
       "      <td>2.0</td>\n",
       "      <td>West Ridge</td>\n",
       "      <td>7.8</td>\n",
       "      <td>17.2</td>\n",
       "      <td>8.8</td>\n",
       "      <td>20.8</td>\n",
       "      <td>38.5</td>\n",
       "      <td>23040</td>\n",
       "      <td>46.0</td>\n",
       "    </tr>\n",
       "    <tr>\n",
       "      <th>2</th>\n",
       "      <td>3.0</td>\n",
       "      <td>Uptown</td>\n",
       "      <td>3.8</td>\n",
       "      <td>24.0</td>\n",
       "      <td>8.9</td>\n",
       "      <td>11.8</td>\n",
       "      <td>22.2</td>\n",
       "      <td>35787</td>\n",
       "      <td>20.0</td>\n",
       "    </tr>\n",
       "    <tr>\n",
       "      <th>3</th>\n",
       "      <td>4.0</td>\n",
       "      <td>Lincoln Square</td>\n",
       "      <td>3.4</td>\n",
       "      <td>10.9</td>\n",
       "      <td>8.2</td>\n",
       "      <td>13.4</td>\n",
       "      <td>25.5</td>\n",
       "      <td>37524</td>\n",
       "      <td>17.0</td>\n",
       "    </tr>\n",
       "    <tr>\n",
       "      <th>4</th>\n",
       "      <td>5.0</td>\n",
       "      <td>North Center</td>\n",
       "      <td>0.3</td>\n",
       "      <td>7.5</td>\n",
       "      <td>5.2</td>\n",
       "      <td>4.5</td>\n",
       "      <td>26.2</td>\n",
       "      <td>57123</td>\n",
       "      <td>6.0</td>\n",
       "    </tr>\n",
       "  </tbody>\n",
       "</table>\n",
       "</div>"
      ],
      "text/plain": [
       "   community_number  community_area  percent_house_crowded  \\\n",
       "0               1.0     Rogers Park                    7.7   \n",
       "1               2.0      West Ridge                    7.8   \n",
       "2               3.0          Uptown                    3.8   \n",
       "3               4.0  Lincoln Square                    3.4   \n",
       "4               5.0    North Center                    0.3   \n",
       "\n",
       "   percent_house_below_poverty  percent_16_unemployed  \\\n",
       "0                         23.6                    8.7   \n",
       "1                         17.2                    8.8   \n",
       "2                         24.0                    8.9   \n",
       "3                         10.9                    8.2   \n",
       "4                          7.5                    5.2   \n",
       "\n",
       "   percent_25_without_diploma  percent_dependent  per_capita_income  \\\n",
       "0                        18.2               27.5              23939   \n",
       "1                        20.8               38.5              23040   \n",
       "2                        11.8               22.2              35787   \n",
       "3                        13.4               25.5              37524   \n",
       "4                         4.5               26.2              57123   \n",
       "\n",
       "   hardship_index  \n",
       "0            39.0  \n",
       "1            46.0  \n",
       "2            20.0  \n",
       "3            17.0  \n",
       "4             6.0  "
      ]
     },
     "execution_count": 201,
     "metadata": {},
     "output_type": "execute_result"
    }
   ],
   "source": [
    "chicago_census = chicago_census.rename(columns = zipped_columns_names)\n",
    "chicago_census.head()"
   ]
  },
  {
   "cell_type": "markdown",
   "metadata": {},
   "source": [
    "#### Question 4\n",
    "##### Check the data type of each variable.\n",
    "##### Let's convert `per_capita_income` into a categorical target variable.\n",
    "##### Create a new variable `mean_capita_income` with the mean of `per_capita_income`.\n",
    "##### Create a new column called `income` in the dataframe, which is set to 0 if `per_capita_income` of the row is less than \n",
    "##### the `mean per_capita_income`, otherwise set `income` to 1.\n",
    "##### Drop `per_capita_income` from the dataframe."
   ]
  },
  {
   "cell_type": "code",
   "execution_count": 202,
   "metadata": {},
   "outputs": [
    {
     "data": {
      "text/plain": [
       "community_number               float64\n",
       "community_area                  object\n",
       "percent_house_crowded          float64\n",
       "percent_house_below_poverty    float64\n",
       "percent_16_unemployed          float64\n",
       "percent_25_without_diploma     float64\n",
       "percent_dependent              float64\n",
       "per_capita_income                int64\n",
       "hardship_index                 float64\n",
       "dtype: object"
      ]
     },
     "execution_count": 202,
     "metadata": {},
     "output_type": "execute_result"
    }
   ],
   "source": [
    "chicago_census.dtypes"
   ]
  },
  {
   "cell_type": "code",
   "execution_count": 203,
   "metadata": {},
   "outputs": [
    {
     "data": {
      "text/html": [
       "<div>\n",
       "<style scoped>\n",
       "    .dataframe tbody tr th:only-of-type {\n",
       "        vertical-align: middle;\n",
       "    }\n",
       "\n",
       "    .dataframe tbody tr th {\n",
       "        vertical-align: top;\n",
       "    }\n",
       "\n",
       "    .dataframe thead th {\n",
       "        text-align: right;\n",
       "    }\n",
       "</style>\n",
       "<table border=\"1\" class=\"dataframe\">\n",
       "  <thead>\n",
       "    <tr style=\"text-align: right;\">\n",
       "      <th></th>\n",
       "      <th>community_number</th>\n",
       "      <th>community_area</th>\n",
       "      <th>percent_house_crowded</th>\n",
       "      <th>percent_house_below_poverty</th>\n",
       "      <th>percent_16_unemployed</th>\n",
       "      <th>percent_25_without_diploma</th>\n",
       "      <th>percent_dependent</th>\n",
       "      <th>per_capita_income</th>\n",
       "      <th>hardship_index</th>\n",
       "    </tr>\n",
       "  </thead>\n",
       "  <tbody>\n",
       "    <tr>\n",
       "      <th>0</th>\n",
       "      <td>1.0</td>\n",
       "      <td>Rogers Park</td>\n",
       "      <td>7.7</td>\n",
       "      <td>23.6</td>\n",
       "      <td>8.7</td>\n",
       "      <td>18.2</td>\n",
       "      <td>27.5</td>\n",
       "      <td>23939</td>\n",
       "      <td>39.0</td>\n",
       "    </tr>\n",
       "    <tr>\n",
       "      <th>1</th>\n",
       "      <td>2.0</td>\n",
       "      <td>West Ridge</td>\n",
       "      <td>7.8</td>\n",
       "      <td>17.2</td>\n",
       "      <td>8.8</td>\n",
       "      <td>20.8</td>\n",
       "      <td>38.5</td>\n",
       "      <td>23040</td>\n",
       "      <td>46.0</td>\n",
       "    </tr>\n",
       "    <tr>\n",
       "      <th>2</th>\n",
       "      <td>3.0</td>\n",
       "      <td>Uptown</td>\n",
       "      <td>3.8</td>\n",
       "      <td>24.0</td>\n",
       "      <td>8.9</td>\n",
       "      <td>11.8</td>\n",
       "      <td>22.2</td>\n",
       "      <td>35787</td>\n",
       "      <td>20.0</td>\n",
       "    </tr>\n",
       "    <tr>\n",
       "      <th>3</th>\n",
       "      <td>4.0</td>\n",
       "      <td>Lincoln Square</td>\n",
       "      <td>3.4</td>\n",
       "      <td>10.9</td>\n",
       "      <td>8.2</td>\n",
       "      <td>13.4</td>\n",
       "      <td>25.5</td>\n",
       "      <td>37524</td>\n",
       "      <td>17.0</td>\n",
       "    </tr>\n",
       "    <tr>\n",
       "      <th>4</th>\n",
       "      <td>5.0</td>\n",
       "      <td>North Center</td>\n",
       "      <td>0.3</td>\n",
       "      <td>7.5</td>\n",
       "      <td>5.2</td>\n",
       "      <td>4.5</td>\n",
       "      <td>26.2</td>\n",
       "      <td>57123</td>\n",
       "      <td>6.0</td>\n",
       "    </tr>\n",
       "  </tbody>\n",
       "</table>\n",
       "</div>"
      ],
      "text/plain": [
       "   community_number  community_area  percent_house_crowded  \\\n",
       "0               1.0     Rogers Park                    7.7   \n",
       "1               2.0      West Ridge                    7.8   \n",
       "2               3.0          Uptown                    3.8   \n",
       "3               4.0  Lincoln Square                    3.4   \n",
       "4               5.0    North Center                    0.3   \n",
       "\n",
       "   percent_house_below_poverty  percent_16_unemployed  \\\n",
       "0                         23.6                    8.7   \n",
       "1                         17.2                    8.8   \n",
       "2                         24.0                    8.9   \n",
       "3                         10.9                    8.2   \n",
       "4                          7.5                    5.2   \n",
       "\n",
       "   percent_25_without_diploma  percent_dependent  per_capita_income  \\\n",
       "0                        18.2               27.5              23939   \n",
       "1                        20.8               38.5              23040   \n",
       "2                        11.8               22.2              35787   \n",
       "3                        13.4               25.5              37524   \n",
       "4                         4.5               26.2              57123   \n",
       "\n",
       "   hardship_index  \n",
       "0            39.0  \n",
       "1            46.0  \n",
       "2            20.0  \n",
       "3            17.0  \n",
       "4             6.0  "
      ]
     },
     "execution_count": 203,
     "metadata": {},
     "output_type": "execute_result"
    }
   ],
   "source": [
    "mean_capita_income = chicago_census['per_capita_income'].mean()\n",
    "chicago_census.head()"
   ]
  },
  {
   "cell_type": "code",
   "execution_count": 204,
   "metadata": {},
   "outputs": [
    {
     "data": {
      "text/html": [
       "<div>\n",
       "<style scoped>\n",
       "    .dataframe tbody tr th:only-of-type {\n",
       "        vertical-align: middle;\n",
       "    }\n",
       "\n",
       "    .dataframe tbody tr th {\n",
       "        vertical-align: top;\n",
       "    }\n",
       "\n",
       "    .dataframe thead th {\n",
       "        text-align: right;\n",
       "    }\n",
       "</style>\n",
       "<table border=\"1\" class=\"dataframe\">\n",
       "  <thead>\n",
       "    <tr style=\"text-align: right;\">\n",
       "      <th></th>\n",
       "      <th>community_number</th>\n",
       "      <th>community_area</th>\n",
       "      <th>percent_house_crowded</th>\n",
       "      <th>percent_house_below_poverty</th>\n",
       "      <th>percent_16_unemployed</th>\n",
       "      <th>percent_25_without_diploma</th>\n",
       "      <th>percent_dependent</th>\n",
       "      <th>per_capita_income</th>\n",
       "      <th>hardship_index</th>\n",
       "      <th>income</th>\n",
       "    </tr>\n",
       "  </thead>\n",
       "  <tbody>\n",
       "    <tr>\n",
       "      <th>0</th>\n",
       "      <td>1.0</td>\n",
       "      <td>Rogers Park</td>\n",
       "      <td>7.7</td>\n",
       "      <td>23.6</td>\n",
       "      <td>8.7</td>\n",
       "      <td>18.2</td>\n",
       "      <td>27.5</td>\n",
       "      <td>23939</td>\n",
       "      <td>39.0</td>\n",
       "      <td>0</td>\n",
       "    </tr>\n",
       "    <tr>\n",
       "      <th>1</th>\n",
       "      <td>2.0</td>\n",
       "      <td>West Ridge</td>\n",
       "      <td>7.8</td>\n",
       "      <td>17.2</td>\n",
       "      <td>8.8</td>\n",
       "      <td>20.8</td>\n",
       "      <td>38.5</td>\n",
       "      <td>23040</td>\n",
       "      <td>46.0</td>\n",
       "      <td>0</td>\n",
       "    </tr>\n",
       "    <tr>\n",
       "      <th>2</th>\n",
       "      <td>3.0</td>\n",
       "      <td>Uptown</td>\n",
       "      <td>3.8</td>\n",
       "      <td>24.0</td>\n",
       "      <td>8.9</td>\n",
       "      <td>11.8</td>\n",
       "      <td>22.2</td>\n",
       "      <td>35787</td>\n",
       "      <td>20.0</td>\n",
       "      <td>1</td>\n",
       "    </tr>\n",
       "    <tr>\n",
       "      <th>3</th>\n",
       "      <td>4.0</td>\n",
       "      <td>Lincoln Square</td>\n",
       "      <td>3.4</td>\n",
       "      <td>10.9</td>\n",
       "      <td>8.2</td>\n",
       "      <td>13.4</td>\n",
       "      <td>25.5</td>\n",
       "      <td>37524</td>\n",
       "      <td>17.0</td>\n",
       "      <td>1</td>\n",
       "    </tr>\n",
       "    <tr>\n",
       "      <th>4</th>\n",
       "      <td>5.0</td>\n",
       "      <td>North Center</td>\n",
       "      <td>0.3</td>\n",
       "      <td>7.5</td>\n",
       "      <td>5.2</td>\n",
       "      <td>4.5</td>\n",
       "      <td>26.2</td>\n",
       "      <td>57123</td>\n",
       "      <td>6.0</td>\n",
       "      <td>1</td>\n",
       "    </tr>\n",
       "  </tbody>\n",
       "</table>\n",
       "</div>"
      ],
      "text/plain": [
       "   community_number  community_area  percent_house_crowded  \\\n",
       "0               1.0     Rogers Park                    7.7   \n",
       "1               2.0      West Ridge                    7.8   \n",
       "2               3.0          Uptown                    3.8   \n",
       "3               4.0  Lincoln Square                    3.4   \n",
       "4               5.0    North Center                    0.3   \n",
       "\n",
       "   percent_house_below_poverty  percent_16_unemployed  \\\n",
       "0                         23.6                    8.7   \n",
       "1                         17.2                    8.8   \n",
       "2                         24.0                    8.9   \n",
       "3                         10.9                    8.2   \n",
       "4                          7.5                    5.2   \n",
       "\n",
       "   percent_25_without_diploma  percent_dependent  per_capita_income  \\\n",
       "0                        18.2               27.5              23939   \n",
       "1                        20.8               38.5              23040   \n",
       "2                        11.8               22.2              35787   \n",
       "3                        13.4               25.5              37524   \n",
       "4                         4.5               26.2              57123   \n",
       "\n",
       "   hardship_index  income  \n",
       "0            39.0       0  \n",
       "1            46.0       0  \n",
       "2            20.0       1  \n",
       "3            17.0       1  \n",
       "4             6.0       1  "
      ]
     },
     "execution_count": 204,
     "metadata": {},
     "output_type": "execute_result"
    }
   ],
   "source": [
    "chicago_census['income'] = np.where(chicago_census['per_capita_income'] < mean_capita_income, 0, 1)\n",
    "chicago_census.head()"
   ]
  },
  {
   "cell_type": "code",
   "execution_count": 205,
   "metadata": {},
   "outputs": [
    {
     "data": {
      "text/html": [
       "<div>\n",
       "<style scoped>\n",
       "    .dataframe tbody tr th:only-of-type {\n",
       "        vertical-align: middle;\n",
       "    }\n",
       "\n",
       "    .dataframe tbody tr th {\n",
       "        vertical-align: top;\n",
       "    }\n",
       "\n",
       "    .dataframe thead th {\n",
       "        text-align: right;\n",
       "    }\n",
       "</style>\n",
       "<table border=\"1\" class=\"dataframe\">\n",
       "  <thead>\n",
       "    <tr style=\"text-align: right;\">\n",
       "      <th></th>\n",
       "      <th>community_number</th>\n",
       "      <th>community_area</th>\n",
       "      <th>percent_house_crowded</th>\n",
       "      <th>percent_house_below_poverty</th>\n",
       "      <th>percent_16_unemployed</th>\n",
       "      <th>percent_25_without_diploma</th>\n",
       "      <th>percent_dependent</th>\n",
       "      <th>hardship_index</th>\n",
       "      <th>income</th>\n",
       "    </tr>\n",
       "  </thead>\n",
       "  <tbody>\n",
       "    <tr>\n",
       "      <th>0</th>\n",
       "      <td>1.0</td>\n",
       "      <td>Rogers Park</td>\n",
       "      <td>7.7</td>\n",
       "      <td>23.6</td>\n",
       "      <td>8.7</td>\n",
       "      <td>18.2</td>\n",
       "      <td>27.5</td>\n",
       "      <td>39.0</td>\n",
       "      <td>0</td>\n",
       "    </tr>\n",
       "    <tr>\n",
       "      <th>1</th>\n",
       "      <td>2.0</td>\n",
       "      <td>West Ridge</td>\n",
       "      <td>7.8</td>\n",
       "      <td>17.2</td>\n",
       "      <td>8.8</td>\n",
       "      <td>20.8</td>\n",
       "      <td>38.5</td>\n",
       "      <td>46.0</td>\n",
       "      <td>0</td>\n",
       "    </tr>\n",
       "    <tr>\n",
       "      <th>2</th>\n",
       "      <td>3.0</td>\n",
       "      <td>Uptown</td>\n",
       "      <td>3.8</td>\n",
       "      <td>24.0</td>\n",
       "      <td>8.9</td>\n",
       "      <td>11.8</td>\n",
       "      <td>22.2</td>\n",
       "      <td>20.0</td>\n",
       "      <td>1</td>\n",
       "    </tr>\n",
       "    <tr>\n",
       "      <th>3</th>\n",
       "      <td>4.0</td>\n",
       "      <td>Lincoln Square</td>\n",
       "      <td>3.4</td>\n",
       "      <td>10.9</td>\n",
       "      <td>8.2</td>\n",
       "      <td>13.4</td>\n",
       "      <td>25.5</td>\n",
       "      <td>17.0</td>\n",
       "      <td>1</td>\n",
       "    </tr>\n",
       "    <tr>\n",
       "      <th>4</th>\n",
       "      <td>5.0</td>\n",
       "      <td>North Center</td>\n",
       "      <td>0.3</td>\n",
       "      <td>7.5</td>\n",
       "      <td>5.2</td>\n",
       "      <td>4.5</td>\n",
       "      <td>26.2</td>\n",
       "      <td>6.0</td>\n",
       "      <td>1</td>\n",
       "    </tr>\n",
       "  </tbody>\n",
       "</table>\n",
       "</div>"
      ],
      "text/plain": [
       "   community_number  community_area  percent_house_crowded  \\\n",
       "0               1.0     Rogers Park                    7.7   \n",
       "1               2.0      West Ridge                    7.8   \n",
       "2               3.0          Uptown                    3.8   \n",
       "3               4.0  Lincoln Square                    3.4   \n",
       "4               5.0    North Center                    0.3   \n",
       "\n",
       "   percent_house_below_poverty  percent_16_unemployed  \\\n",
       "0                         23.6                    8.7   \n",
       "1                         17.2                    8.8   \n",
       "2                         24.0                    8.9   \n",
       "3                         10.9                    8.2   \n",
       "4                          7.5                    5.2   \n",
       "\n",
       "   percent_25_without_diploma  percent_dependent  hardship_index  income  \n",
       "0                        18.2               27.5            39.0       0  \n",
       "1                        20.8               38.5            46.0       0  \n",
       "2                        11.8               22.2            20.0       1  \n",
       "3                        13.4               25.5            17.0       1  \n",
       "4                         4.5               26.2             6.0       1  "
      ]
     },
     "execution_count": 205,
     "metadata": {},
     "output_type": "execute_result"
    }
   ],
   "source": [
    "chicago_census = chicago_census.drop(columns = 'per_capita_income')\n",
    "chicago_census.head()"
   ]
  },
  {
   "cell_type": "markdown",
   "metadata": {},
   "source": [
    "#### Question 5\n",
    "##### Look for NAs in `chicago_census` and impute with the mean of each column.\n",
    "##### Drop `community_number`, as it's just an ID number. Also drop `community_area`.\n",
    "##### Check for NAs after again to make sure the data looks good."
   ]
  },
  {
   "cell_type": "code",
   "execution_count": 206,
   "metadata": {},
   "outputs": [
    {
     "data": {
      "text/plain": [
       "community_number               1\n",
       "community_area                 0\n",
       "percent_house_crowded          0\n",
       "percent_house_below_poverty    0\n",
       "percent_16_unemployed          0\n",
       "percent_25_without_diploma     0\n",
       "percent_dependent              0\n",
       "hardship_index                 1\n",
       "income                         0\n",
       "dtype: int64"
      ]
     },
     "execution_count": 206,
     "metadata": {},
     "output_type": "execute_result"
    }
   ],
   "source": [
    "chicago_census.isna().sum()"
   ]
  },
  {
   "cell_type": "code",
   "execution_count": 207,
   "metadata": {},
   "outputs": [],
   "source": [
    "chicago_census = chicago_census.fillna(chicago_census.mean())"
   ]
  },
  {
   "cell_type": "code",
   "execution_count": 208,
   "metadata": {},
   "outputs": [
    {
     "data": {
      "text/plain": [
       "percent_house_crowded          0\n",
       "percent_house_below_poverty    0\n",
       "percent_16_unemployed          0\n",
       "percent_25_without_diploma     0\n",
       "percent_dependent              0\n",
       "hardship_index                 0\n",
       "income                         0\n",
       "dtype: int64"
      ]
     },
     "execution_count": 208,
     "metadata": {},
     "output_type": "execute_result"
    }
   ],
   "source": [
    "chicago_census = chicago_census.drop(['community_number','community_area'], axis = 1)\n",
    "chicago_census.isna().sum()"
   ]
  },
  {
   "cell_type": "markdown",
   "metadata": {},
   "source": [
    "#### Question 6\n",
    "##### Let's make a decision tree with a small subset named `ex_tree_subset` containing `percent_house_below_poverty`, `hardship_index` and `income`. \n",
    "##### In order to clearly see the splits in the tree, we will only use a sub sample of the first 60 rows from our data. \n",
    "##### Split the `ex_tree_subset` dataset into `ex_X_small` and `ex_y_small`.\n",
    "\n",
    "* ex_X_small will consist of the first 60 rows of the two predictors `percent_house_below_poverty` and `hardship_index`.\n",
    "* ex_y_small will consist of the first 60 rows of the target variable `income`"
   ]
  },
  {
   "cell_type": "code",
   "execution_count": 209,
   "metadata": {},
   "outputs": [
    {
     "data": {
      "text/html": [
       "<div>\n",
       "<style scoped>\n",
       "    .dataframe tbody tr th:only-of-type {\n",
       "        vertical-align: middle;\n",
       "    }\n",
       "\n",
       "    .dataframe tbody tr th {\n",
       "        vertical-align: top;\n",
       "    }\n",
       "\n",
       "    .dataframe thead th {\n",
       "        text-align: right;\n",
       "    }\n",
       "</style>\n",
       "<table border=\"1\" class=\"dataframe\">\n",
       "  <thead>\n",
       "    <tr style=\"text-align: right;\">\n",
       "      <th></th>\n",
       "      <th>percent_house_below_poverty</th>\n",
       "      <th>hardship_index</th>\n",
       "      <th>income</th>\n",
       "    </tr>\n",
       "  </thead>\n",
       "  <tbody>\n",
       "    <tr>\n",
       "      <th>0</th>\n",
       "      <td>23.6</td>\n",
       "      <td>39.0</td>\n",
       "      <td>0</td>\n",
       "    </tr>\n",
       "    <tr>\n",
       "      <th>1</th>\n",
       "      <td>17.2</td>\n",
       "      <td>46.0</td>\n",
       "      <td>0</td>\n",
       "    </tr>\n",
       "    <tr>\n",
       "      <th>2</th>\n",
       "      <td>24.0</td>\n",
       "      <td>20.0</td>\n",
       "      <td>1</td>\n",
       "    </tr>\n",
       "    <tr>\n",
       "      <th>3</th>\n",
       "      <td>10.9</td>\n",
       "      <td>17.0</td>\n",
       "      <td>1</td>\n",
       "    </tr>\n",
       "    <tr>\n",
       "      <th>4</th>\n",
       "      <td>7.5</td>\n",
       "      <td>6.0</td>\n",
       "      <td>1</td>\n",
       "    </tr>\n",
       "  </tbody>\n",
       "</table>\n",
       "</div>"
      ],
      "text/plain": [
       "   percent_house_below_poverty  hardship_index  income\n",
       "0                         23.6            39.0       0\n",
       "1                         17.2            46.0       0\n",
       "2                         24.0            20.0       1\n",
       "3                         10.9            17.0       1\n",
       "4                          7.5             6.0       1"
      ]
     },
     "execution_count": 209,
     "metadata": {},
     "output_type": "execute_result"
    }
   ],
   "source": [
    "ex_tree_subset = chicago_census[['percent_house_below_poverty', 'hardship_index', 'income']]\n",
    "ex_tree_subset.head()"
   ]
  },
  {
   "cell_type": "code",
   "execution_count": 210,
   "metadata": {},
   "outputs": [],
   "source": [
    "np.random.seed(1)\n",
    "ex_X_small = ex_tree_subset.iloc[0:60, 0:2]\n",
    "ex_y_small = ex_tree_subset.iloc[0:60, 2:3]"
   ]
  },
  {
   "cell_type": "markdown",
   "metadata": {},
   "source": [
    "#### Question 7\n",
    "##### Create a decision tree named `ex_clf`.\n",
    "##### Run our decision tree on the `ex_X_small` dataset and name it `ex_clf_fit_small`.\n",
    "\n",
    "##### Look at the generated model."
   ]
  },
  {
   "cell_type": "code",
   "execution_count": 211,
   "metadata": {},
   "outputs": [
    {
     "name": "stdout",
     "output_type": "stream",
     "text": [
      "DecisionTreeClassifier(class_weight=None, criterion='gini', max_depth=None,\n",
      "            max_features=None, max_leaf_nodes=None,\n",
      "            min_impurity_decrease=0.0, min_impurity_split=None,\n",
      "            min_samples_leaf=1, min_samples_split=2,\n",
      "            min_weight_fraction_leaf=0.0, presort=False, random_state=None,\n",
      "            splitter='best')\n"
     ]
    }
   ],
   "source": [
    "# Implement the decision tree on X_small.\n",
    "ex_clf = tree.DecisionTreeClassifier()\n",
    "ex_clf_fit_small = ex_clf.fit(ex_X_small, ex_y_small)\n",
    "\n",
    "# Look at our generated model:\n",
    "print(ex_clf_fit_small)"
   ]
  },
  {
   "cell_type": "code",
   "execution_count": 212,
   "metadata": {},
   "outputs": [
    {
     "data": {
      "text/plain": [
       "'ex_trained_tree.pdf'"
      ]
     },
     "execution_count": 212,
     "metadata": {},
     "output_type": "execute_result"
    }
   ],
   "source": [
    "os.chdir(plot_dir)\n",
    "# Visualize `clf_fit_small`.\n",
    "ex_feature_cols = ['percent_house_below_poverty', 'hardship_index']\n",
    "ex_dot_data = tree.export_graphviz(\n",
    "    ex_clf_fit_small,\n",
    "    feature_names = ex_feature_cols,\n",
    "    out_file = None\n",
    ")\n",
    "graph = graphviz.Source(ex_dot_data)\n",
    "graph.render(\"ex_trained_tree\")"
   ]
  },
  {
   "cell_type": "markdown",
   "metadata": {},
   "source": [
    "#### Question 8\n",
    "##### Change your working directory back to `data_dir`.\n",
    "##### Now let's run the tree on the whole `ex_tree_subset`.\n",
    "##### Set the random seed as 2.\n",
    "##### Split the predictors `percent_house_below_poverty` and `hardship_index` into `ex_X` and target `income` into `ex_y`.\n",
    "##### Split into train and test sets `ex_X_train`, `ex_X_test`, `ex_y_train`,  and `ex_y_test` respectively."
   ]
  },
  {
   "cell_type": "code",
   "execution_count": 213,
   "metadata": {},
   "outputs": [
    {
     "name": "stdout",
     "output_type": "stream",
     "text": [
      "(54, 2) (54,)\n",
      "(24, 2) (24,)\n"
     ]
    }
   ],
   "source": [
    "# Change working directory back to data directory.\n",
    "os.chdir(data_dir)\n",
    "\n",
    "# Split into train and test, use sklearn.\n",
    "# Create training and test vars.\n",
    "np.random.seed(2)\n",
    "ex_X = ex_tree_subset[['percent_house_below_poverty', 'hardship_index']]\n",
    "ex_y = np.array(ex_tree_subset['income'])\n",
    "\n",
    "# Split into train and test.\n",
    "ex_X_train, ex_X_test, ex_y_train, ex_y_test = train_test_split(ex_X, ex_y, test_size=0.3)\n",
    "\n",
    "print(ex_X_train.shape, ex_y_train.shape)\n",
    "print(ex_X_test.shape, ex_y_test.shape)"
   ]
  },
  {
   "cell_type": "markdown",
   "metadata": {},
   "source": [
    "#### Question 9\n",
    "##### Instantiate the decision tree model and save it to `ex_clf`.\n",
    "##### Fit the model with our training sets `ex_X_train` and `ex_y_train`.\n",
    "##### Find the predicted values and save as `ex_y_predict`."
   ]
  },
  {
   "cell_type": "code",
   "execution_count": 214,
   "metadata": {},
   "outputs": [],
   "source": [
    "# Implement the decision tree on X_train.\n",
    "ex_clf2 = tree.DecisionTreeClassifier()\n",
    "ex_clf_fit = ex_clf2.fit(ex_X_train, ex_y_train)\n",
    "\n",
    "# Predict on X_test.\n",
    "ex_y_predict = ex_clf_fit.predict(ex_X_test)"
   ]
  },
  {
   "cell_type": "markdown",
   "metadata": {},
   "source": [
    "#### Question 10\n",
    "##### Find the accuracy and save as `ex_acc_score`.\n",
    "##### Compute the confusion matrix and plot the results."
   ]
  },
  {
   "cell_type": "code",
   "execution_count": 215,
   "metadata": {},
   "outputs": [
    {
     "name": "stdout",
     "output_type": "stream",
     "text": [
      "0.9166666666666666\n"
     ]
    }
   ],
   "source": [
    "# Accuracy score.\n",
    "ex_acc_score = accuracy_score(ex_y_test, ex_y_predict)\n",
    "print(ex_acc_score)\n",
    "# Confusion matrix for first model.\n",
    "ex_cm_tree = confusion_matrix(ex_y_test, ex_y_predict)"
   ]
  },
  {
   "cell_type": "code",
   "execution_count": 216,
   "metadata": {},
   "outputs": [
    {
     "data": {
      "image/png": "[encoded data removed]",
      "text/plain": [
       "<Figure size 432x288 with 1 Axes>"
      ]
     },
     "metadata": {
      "needs_background": "light"
     },
     "output_type": "display_data"
    }
   ],
   "source": [
    "plt.clf()\n",
    "plt.imshow(ex_cm_tree, \n",
    "           interpolation='nearest', \n",
    "           cmap=plt.cm.Wistia)\n",
    "classNames = ['Negative','Positive']\n",
    "plt.title('Confusion Matrix - Test Data')\n",
    "plt.ylabel('True label')\n",
    "plt.xlabel('Predicted label')\n",
    "tick_marks = np.arange(len(classNames))\n",
    "plt.xticks(tick_marks, classNames, rotation=45)\n",
    "plt.yticks(tick_marks, classNames)\n",
    "s = [['TN','FP'], ['FN', 'TP']]\n",
    "for i in range(2):\n",
    "    for j in range(2):\n",
    "        plt.text(j,i, str(s[i][j]) + \" = \" + str(ex_cm_tree[i][j]))\n",
    "plt.show()"
   ]
  },
  {
   "cell_type": "markdown",
   "metadata": {},
   "source": [
    "#### Question 11\n",
    "##### Calculate the metrics `fpr` and `tpr` for ROC and calculate AUC.\n",
    "##### Plot `ROC` using the metrics calculated."
   ]
  },
  {
   "cell_type": "code",
   "execution_count": 217,
   "metadata": {},
   "outputs": [
    {
     "data": {
      "image/png": "[encoded data removed]",
      "text/plain": [
       "<Figure size 432x288 with 1 Axes>"
      ]
     },
     "metadata": {
      "needs_background": "light"
     },
     "output_type": "display_data"
    }
   ],
   "source": [
    "# Calculate metrics for ROC (fpr, tpr) and calculate AUC.\n",
    "ex_fpr, ex_tpr, ex_threshold = metrics.roc_curve(ex_y_test, ex_y_predict)\n",
    "ex_roc_auc = metrics.auc(ex_fpr, ex_tpr)\n",
    "\n",
    "# Plot ROC.\n",
    "plt.title('Receiver Operating Characteristic')\n",
    "plt.plot(ex_fpr,\n",
    "         ex_tpr, \n",
    "         'b',\n",
    "         label = 'AUC = %0.2f' % ex_roc_auc)\n",
    "plt.legend(loc = 'lower right')\n",
    "plt.plot([0, 1], \n",
    "         [0, 1],\n",
    "         'r--')\n",
    "plt.xlim([0, 1])\n",
    "plt.ylim([0, 1])\n",
    "plt.ylabel('True Positive Rate')\n",
    "plt.xlabel('False Positive Rate')\n",
    "plt.show()"
   ]
  },
  {
   "cell_type": "markdown",
   "metadata": {},
   "source": [
    "#### Question 12\n",
    "##### Load the pickled dataframe `ex_model_log_penalty.sav` that we created in the last class and save as `ex_model_final_tree`.\n",
    "##### Append the accuracy `ex_acc_score` obtained above to the dataframe."
   ]
  },
  {
   "cell_type": "code",
   "execution_count": 218,
   "metadata": {},
   "outputs": [
    {
     "name": "stdout",
     "output_type": "stream",
     "text": [
      "    metrics  values                 model\n",
      "0  accuracy  0.8333                 knn_5\n",
      "1  accuracy  0.9359      knn_GridSearchCV\n",
      "2  accuracy  0.9583                knn_27\n",
      "3  accuracy  1.0000              logistic\n",
      "4  accuracy  1.0000  logistic_withdummies\n",
      "5  accuracy  1.0000        logistic_tuned\n",
      "6  accuracy  0.9167    tree_simple_subset\n"
     ]
    }
   ],
   "source": [
    "ex_model_final_tree = pickle.load(open(\"ex_model_log_penalty.sav\",\"rb\"))\n",
    "# Add this final model champion to our dataframe.\n",
    "ex_model_final_tree = ex_model_final_tree.append(\n",
    "    {'metrics' : \"accuracy\" ,\n",
    "     'values' : round(ex_acc_score,4),\n",
    "     'model':'tree_simple_subset' \n",
    "    },\n",
    "ignore_index = True\n",
    ")\n",
    "print(ex_model_final_tree)"
   ]
  },
  {
   "cell_type": "markdown",
   "metadata": {},
   "source": [
    "## Exercise 2"
   ]
  },
  {
   "cell_type": "markdown",
   "metadata": {},
   "source": [
    "#### Question 1\n",
    "\n",
    "##### Now, let's run the tree on the whole exercise dataset.\n",
    "\n",
    "##### As we did before, split the dataset into `ex_X` and  `ex_y`. Set random seed to 2, and use train_test_split().\n",
    "\n",
    "##### Save target variable `income` as an np array to `ex_y`.\n",
    "##### Save the rest of the variables to `ex_X`.\n",
    "##### Then, create the decision tree, save it as ex_clf. Fit it to ex_X_train and ex_y_train and label it as 'ex_clf_fit'.\n",
    "##### Run the predict() function and save it as 'ex_y_predict'. Then, compute the test model accuracy score, and save it as 'ex_tree_accuracy_score'.\n"
   ]
  },
  {
   "cell_type": "code",
   "execution_count": 219,
   "metadata": {},
   "outputs": [
    {
     "data": {
      "text/plain": [
       "(78, 7)"
      ]
     },
     "execution_count": 219,
     "metadata": {},
     "output_type": "execute_result"
    }
   ],
   "source": [
    "chicago_census.shape"
   ]
  },
  {
   "cell_type": "code",
   "execution_count": 220,
   "metadata": {},
   "outputs": [],
   "source": [
    "# Separate target from data.\n",
    "ex_y3 = np.array(chicago_census['income'])\n",
    "# Split the predictors from data.\n",
    "ex_X3 = chicago_census.drop('income', axis = 1)\n",
    "\n",
    "# Set the seed.\n",
    "np.random.seed(2)\n",
    "# Split data into training and test set, use a 70 train - 30 test split.\n",
    "ex_X_train3, ex_X_test3, ex_y_train3, ex_y_test3 = train_test_split(ex_X3,ex_y3,test_size = .3)"
   ]
  },
  {
   "cell_type": "code",
   "execution_count": 221,
   "metadata": {},
   "outputs": [
    {
     "name": "stdout",
     "output_type": "stream",
     "text": [
      "DecisionTreeClassifier(class_weight=None, criterion='gini', max_depth=None,\n",
      "            max_features=None, max_leaf_nodes=None,\n",
      "            min_impurity_decrease=0.0, min_impurity_split=None,\n",
      "            min_samples_leaf=1, min_samples_split=2,\n",
      "            min_weight_fraction_leaf=0.0, presort=False, random_state=None,\n",
      "            splitter='best')\n"
     ]
    }
   ],
   "source": [
    "# Set up decision tree model.\n",
    "ex_clf3 = tree.DecisionTreeClassifier()\n",
    "print(ex_clf3)"
   ]
  },
  {
   "cell_type": "code",
   "execution_count": 222,
   "metadata": {},
   "outputs": [],
   "source": [
    "# Fit the model.\n",
    "ex_clf_fit3 = ex_clf3.fit(ex_X_train3, ex_y_train3)"
   ]
  },
  {
   "cell_type": "code",
   "execution_count": 223,
   "metadata": {},
   "outputs": [
    {
     "data": {
      "text/plain": [
       "DecisionTreeClassifier(class_weight=None, criterion='gini', max_depth=None,\n",
       "            max_features=None, max_leaf_nodes=None,\n",
       "            min_impurity_decrease=0.0, min_impurity_split=None,\n",
       "            min_samples_leaf=1, min_samples_split=2,\n",
       "            min_weight_fraction_leaf=0.0, presort=False, random_state=None,\n",
       "            splitter='best')"
      ]
     },
     "execution_count": 223,
     "metadata": {},
     "output_type": "execute_result"
    }
   ],
   "source": [
    "ex_clf_fit3"
   ]
  },
  {
   "cell_type": "code",
   "execution_count": 224,
   "metadata": {},
   "outputs": [
    {
     "name": "stdout",
     "output_type": "stream",
     "text": [
      "[0 0 1 0 1 1 0 0 0 1 0 0 0 0 1 0 0 0 0 0 0 0 1 0]\n",
      "[0 0 1 0 1 1 0 0 0 1 0 0 0 0 1 0 0 0 0 0 0 0 1 1]\n"
     ]
    }
   ],
   "source": [
    "# Predict on X_test.\n",
    "ex_y_predict3 = ex_clf_fit3.predict(ex_X_test3)\n",
    "print(ex_y_predict3)\n",
    "print(ex_y_test3)"
   ]
  },
  {
   "cell_type": "code",
   "execution_count": 225,
   "metadata": {},
   "outputs": [
    {
     "name": "stdout",
     "output_type": "stream",
     "text": [
      "Accuracy on test data:  0.9583333333333334\n"
     ]
    }
   ],
   "source": [
    "\n",
    "# Compute test model accuracy score.\n",
    "ex_tree_accuracy_score3 = metrics.accuracy_score(ex_y_test3, ex_y_predict3)\n",
    "print(\"Accuracy on test data: \", ex_tree_accuracy_score3)"
   ]
  },
  {
   "cell_type": "markdown",
   "metadata": {},
   "source": [
    "#### Question 2\n",
    "##### Append the accuracy `ex_tree_accuracy_score` to the dataframe `ex_model_final_tree`.\n",
    "##### Print the results."
   ]
  },
  {
   "cell_type": "code",
   "execution_count": 226,
   "metadata": {},
   "outputs": [
    {
     "name": "stdout",
     "output_type": "stream",
     "text": [
      "    metrics  values                    model\n",
      "0  accuracy  0.8333                    knn_5\n",
      "1  accuracy  0.9359         knn_GridSearchCV\n",
      "2  accuracy  0.9583                   knn_27\n",
      "3  accuracy  1.0000                 logistic\n",
      "4  accuracy  1.0000     logistic_withdummies\n",
      "5  accuracy  1.0000           logistic_tuned\n",
      "6  accuracy  0.9167       tree_simple_subset\n",
      "7  accuracy  0.9583  full_tree_simple_subset\n"
     ]
    }
   ],
   "source": [
    "# Add this final model champion to our dataframe.\n",
    "ex_model_final_tree = ex_model_final_tree.append(\n",
    "    {'metrics' : \"accuracy\" ,\n",
    "     'values' : round(ex_tree_accuracy_score3,4),\n",
    "     'model':'full_tree_simple_subset' \n",
    "    },\n",
    "ignore_index = True\n",
    ")\n",
    "print(ex_model_final_tree)"
   ]
  },
  {
   "cell_type": "markdown",
   "metadata": {},
   "source": [
    "#### Question 3\n",
    "##### Let's check for highly correlated variables in our dataset.\n",
    "##### We do not run cross-validation as the dataset has only 78 rows. Hence, the test set would be too small for accurate results. \n",
    "##### There's also no abnormal increase in our accuracy, which leads us to believe that there's no need for cross-validation.\n",
    "##### Check the shape of our dataset `chicago_census`.\n",
    "##### Drop `income` from `chicago_census` and save to a new variable named `chicago_hc`."
   ]
  },
  {
   "cell_type": "code",
   "execution_count": 227,
   "metadata": {},
   "outputs": [
    {
     "name": "stdout",
     "output_type": "stream",
     "text": [
      "(78, 7)\n"
     ]
    }
   ],
   "source": [
    "print(chicago_census.shape)\n",
    "chicago_hc = chicago_census.drop('income', axis = 1)\n"
   ]
  },
  {
   "cell_type": "markdown",
   "metadata": {},
   "source": [
    "#### Question 4\n",
    "##### Create a correlation_matrix of `chicago_hc` named `ex_corr_matrix`.\n",
    "##### Select upper triangle of correlation matrix `ex_corr_matrix`. Name as `ex_upper`.\n",
    "##### Find features with correlation greater than `0.85` and save to `ex_to_drop`.\n",
    "##### Drop the features from `chicago_census`."
   ]
  },
  {
   "cell_type": "code",
   "execution_count": 228,
   "metadata": {},
   "outputs": [
    {
     "name": "stdout",
     "output_type": "stream",
     "text": [
      "['percent_25_without_diploma']\n",
      "(78, 6)\n"
     ]
    }
   ],
   "source": [
    "# Create correlation matrix.\n",
    "ex_corr_matrix = chicago_hc.corr().abs()\n",
    "# Select upper triangle of correlation matrix.\n",
    "ex_upper = ex_corr_matrix.where(np.triu(np.ones(ex_corr_matrix.shape), k=1).astype(np.bool))\n",
    "# Find features with correlation greater than 0.7.\n",
    "ex_to_drop = [column for column in ex_upper.columns if any(ex_upper[column] > 0.85)]\n",
    "print(ex_to_drop)\n",
    "# Drop the features we identified.\n",
    "chicago_census = chicago_census.drop(chicago_census[ex_to_drop], axis=1)\n",
    "print(chicago_census.shape)"
   ]
  },
  {
   "cell_type": "markdown",
   "metadata": {},
   "source": [
    "#### Question 5\n",
    "##### Pickle the dataframe `chicago_census` for use in future sessions.\n",
    "##### Save as `chicago_no_hc.sav`.\n"
   ]
  },
  {
   "cell_type": "code",
   "execution_count": 229,
   "metadata": {},
   "outputs": [],
   "source": [
    "pickle.dump(chicago_census, open('chicago_census.sav', 'wb'))"
   ]
  },
  {
   "cell_type": "markdown",
   "metadata": {},
   "source": [
    "## Exercise 3"
   ]
  },
  {
   "cell_type": "markdown",
   "metadata": {},
   "source": [
    "##### Now let's try to optimize the tree by tuning the parameters.\n",
    "##### We will optimize the tree on the four parameters below:\n",
    "* max_depth\n",
    "* min_samples_split\n",
    "* min_samples_leaf\n",
    "* max_features\n",
    "\n",
    "#### Question 1\n",
    "##### Build a function named `ex_optimal_parameter` that will allow us to store the parameters we will be using in our optimized tree.\n",
    "##### The inputs for the function will be `values` and `test_results`, and the output of the function will be `ex_best_value`. \n"
   ]
  },
  {
   "cell_type": "code",
   "execution_count": 230,
   "metadata": {},
   "outputs": [],
   "source": [
    "def df_target_split(df, target, s = 2, ts = .3):\n",
    "    \n",
    "    # Separate target from data.\n",
    "    ex_y = np.array(df[f'{target}'])\n",
    "    # Split the predictors from data.\n",
    "    ex_x = df.drop(f'{target}', axis = 1)\n",
    "\n",
    "    # Set the seed.\n",
    "    np.random.seed(s)\n",
    "    \n",
    "    # Split data into training and test set\n",
    "    ex_X_train, ex_X_test, ex_y_train, ex_y_test = train_test_split(ex_x, ex_y, test_size = ts)\n",
    "    \n",
    "    return ex_X_train, ex_X_test, ex_y_train, ex_y_test"
   ]
  },
  {
   "cell_type": "code",
   "execution_count": 231,
   "metadata": {},
   "outputs": [],
   "source": [
    "# Define function that will determine the optimal number for each parameter.\n",
    "def ex_optimal_parameter(values,test_results):\n",
    "    best_test_value = max(test_results)\n",
    "    best_test_index = test_results.index(best_test_value)\n",
    "    ex_best_value = values[best_test_index]\n",
    "    return(ex_best_value)"
   ]
  },
  {
   "cell_type": "code",
   "execution_count": 232,
   "metadata": {},
   "outputs": [],
   "source": [
    "# define function to optimize model\n",
    "def model_optimizer(df, target, optimizer, o_param):\n",
    "    # intiate empty lists\n",
    "    train_results = []\n",
    "    test_results = []\n",
    "    \n",
    "    # call function to split train and test data, specify income\n",
    "    X_train, X_test, Y_train, Y_test = df_target_split(df, target)\n",
    "    \n",
    "    for i in optimizer:\n",
    "        \n",
    "        # pass o_param as dictionary key and i as value\n",
    "        params = { o_param : i}\n",
    "        \n",
    "        # pass and unpack params dictionary as specified parameter\n",
    "        dt = DecisionTreeClassifier(**params)\n",
    "        \n",
    "        # fit data\n",
    "        dt.fit(X_train, Y_train)\n",
    "        train_pred = dt.predict(X_train)\n",
    "        acc_train = accuracy_score(Y_train, train_pred)\n",
    "\n",
    "        # Add AUC score to previous train results\n",
    "        train_results.append(acc_train)\n",
    "        y_pred = dt.predict(X_test)\n",
    "        acc_test = accuracy_score(Y_test, y_pred)\n",
    "\n",
    "        # Add AUC score to previous test results\n",
    "        test_results.append(acc_test)\n",
    "\n",
    "    #plot the results\n",
    "    plot_results(optimizer, train_results, test_results, o_param)\n",
    "\n",
    "    # return optimal parameter.\n",
    "    return ex_optimal_parameter(optimizer, test_results)"
   ]
  },
  {
   "cell_type": "code",
   "execution_count": 234,
   "metadata": {},
   "outputs": [],
   "source": [
    "# define function for plotting\n",
    "def plot_results(optimizer, train_results, test_results, o_param):\n",
    "    line1, = plt.plot(optimizer,\n",
    "                      train_results, \n",
    "                      'b', \n",
    "                      label = \"Train accuracy\")\n",
    "    line2, = plt.plot(optimizer, \n",
    "                      test_results, \n",
    "                      'r', \n",
    "                      label = \"Test accuracy\")\n",
    "    plt.legend(handler_map={line1: HandlerLine2D(numpoints = 2)})\n",
    "    plt.ylabel('Accuracy')\n",
    "    plt.xlabel(o_param)\n",
    "    plt.show()"
   ]
  },
  {
   "cell_type": "markdown",
   "metadata": {},
   "source": [
    "#### Question 2\n",
    "##### Optimize `max depth` by ranging it from 1 to 32.\n",
    "##### Name the optimized max_depth as `ex_optimal_max_depth`. "
   ]
  },
  {
   "cell_type": "code",
   "execution_count": 235,
   "metadata": {},
   "outputs": [],
   "source": [
    "ex_max_depths = np.linspace(1, chicago_census.shape[0], chicago_census.shape[0], endpoint = True)"
   ]
  },
  {
   "cell_type": "code",
   "execution_count": 236,
   "metadata": {},
   "outputs": [
    {
     "data": {
      "image/png": "[encoded data removed]",
      "text/plain": [
       "<Figure size 432x288 with 1 Axes>"
      ]
     },
     "metadata": {
      "needs_background": "light"
     },
     "output_type": "display_data"
    },
    {
     "data": {
      "text/plain": [
       "1.0"
      ]
     },
     "execution_count": 236,
     "metadata": {},
     "output_type": "execute_result"
    }
   ],
   "source": [
    "ex_optimal_max_depth = model_optimizer(chicago_census, 'income', ex_max_depths, 'max_depth')\n",
    "ex_optimal_max_depth"
   ]
  },
  {
   "cell_type": "markdown",
   "metadata": {},
   "source": [
    "#### Question 3 \n",
    "##### Plot the max depth by `train_results` and `test_results`, and label them as `Train accuracy` and `Test accuracy`. \n",
    "##### Assign the xlabel as `Tree depth` and the ylabel as `Accuracy`."
   ]
  },
  {
   "cell_type": "code",
   "execution_count": 237,
   "metadata": {},
   "outputs": [
    {
     "name": "stdout",
     "output_type": "stream",
     "text": [
      "^see above^\n"
     ]
    }
   ],
   "source": [
    "print('^see above^')"
   ]
  },
  {
   "cell_type": "markdown",
   "metadata": {},
   "source": [
    "#### Question 4\n",
    "##### Optimize the `ex_min_samples_split` parameter by ranging it from 10% to 100% of the samples.\n",
    "##### Name the optimized `ex_min_samples_split` as `ex_optimal_min_samples_split`. "
   ]
  },
  {
   "cell_type": "code",
   "execution_count": 238,
   "metadata": {},
   "outputs": [],
   "source": [
    "ex_min_samples_splits = np.linspace(0.1, 0.5, 5, endpoint = True)"
   ]
  },
  {
   "cell_type": "code",
   "execution_count": 239,
   "metadata": {},
   "outputs": [
    {
     "data": {
      "image/png": "[encoded data removed]",
      "text/plain": [
       "<Figure size 432x288 with 1 Axes>"
      ]
     },
     "metadata": {
      "needs_background": "light"
     },
     "output_type": "display_data"
    },
    {
     "data": {
      "text/plain": [
       "0.2"
      ]
     },
     "execution_count": 239,
     "metadata": {},
     "output_type": "execute_result"
    }
   ],
   "source": [
    "ex_optimal_min_samples_split = model_optimizer(chicago_census, 'income', ex_min_samples_splits, 'min_samples_split')\n",
    "ex_optimal_min_samples_split"
   ]
  },
  {
   "cell_type": "markdown",
   "metadata": {},
   "source": [
    "#### Question 5\n",
    "##### Plot the `ex_min_samples_split` by `train_results` and `test_results`, and label them as `Train accuracy` and `Test accuracy`. \n",
    "##### Assign the xlabel as `ex_min samples split` and the ylabel as `Accuracy`."
   ]
  },
  {
   "cell_type": "code",
   "execution_count": 240,
   "metadata": {},
   "outputs": [
    {
     "name": "stdout",
     "output_type": "stream",
     "text": [
      "^see above^\n"
     ]
    }
   ],
   "source": [
    "print('^see above^')"
   ]
  },
  {
   "cell_type": "markdown",
   "metadata": {},
   "source": [
    "#### Question 6\n",
    "##### Optimize `ex_min_samples_leaf` by ranging it from 0.1 to 0.5.\n",
    "##### Name the optimized `ex_min_samples_leaf` as `ex_optimal_min_samples_leaf`. "
   ]
  },
  {
   "cell_type": "code",
   "execution_count": 241,
   "metadata": {},
   "outputs": [],
   "source": [
    "ex_min_samples_leafs = np.linspace(0.1, 0.5, 5, endpoint = True)"
   ]
  },
  {
   "cell_type": "code",
   "execution_count": 242,
   "metadata": {},
   "outputs": [
    {
     "data": {
      "image/png": "[encoded data removed]",
      "text/plain": [
       "<Figure size 432x288 with 1 Axes>"
      ]
     },
     "metadata": {
      "needs_background": "light"
     },
     "output_type": "display_data"
    },
    {
     "data": {
      "text/plain": [
       "0.1"
      ]
     },
     "execution_count": 242,
     "metadata": {},
     "output_type": "execute_result"
    }
   ],
   "source": [
    "ex_optimal_min_samples_leafs = model_optimizer(chicago_census, 'income', ex_min_samples_leafs, 'min_samples_leaf')\n",
    "ex_optimal_min_samples_leafs"
   ]
  },
  {
   "cell_type": "markdown",
   "metadata": {},
   "source": [
    "#### Question 7\n",
    "##### Plot the `ex_min samples leaf` by `train_results` and `test_results`, and label them as `Train accuracy` and `Test accuracy`. \n",
    "##### Assign the xlabel as `min samples leaf` and the ylabel as `Accuracy`."
   ]
  },
  {
   "cell_type": "code",
   "execution_count": 243,
   "metadata": {},
   "outputs": [
    {
     "name": "stdout",
     "output_type": "stream",
     "text": [
      "^see above^\n"
     ]
    }
   ],
   "source": [
    "print('^see above^')"
   ]
  },
  {
   "cell_type": "markdown",
   "metadata": {},
   "source": [
    "#### Question 8\n",
    "##### Optimize `ex_max_features`. \n",
    "##### Name the optimized `ex_max_features` as `ex_optimal_max_features`. "
   ]
  },
  {
   "cell_type": "code",
   "execution_count": 244,
   "metadata": {},
   "outputs": [
    {
     "data": {
      "image/png": "[encoded data removed]",
      "text/plain": [
       "<Figure size 432x288 with 1 Axes>"
      ]
     },
     "metadata": {
      "needs_background": "light"
     },
     "output_type": "display_data"
    },
    {
     "data": {
      "text/plain": [
       "3"
      ]
     },
     "execution_count": 244,
     "metadata": {},
     "output_type": "execute_result"
    }
   ],
   "source": [
    "max_features = list(range(1, chicago_census.shape[1]))\n",
    "ex_optimal_max_features = model_optimizer(chicago_census, 'income', max_features, 'max_features')\n",
    "ex_optimal_max_features"
   ]
  },
  {
   "cell_type": "markdown",
   "metadata": {},
   "source": [
    "#### Question 9\n",
    "##### Plot the `ex_max features` by `train_results` and `test_results`, and label them as `Train accuracy` and `Test accuracy`. \n",
    "##### Assign the xlabel as `max features` and the ylabel as `Accuracy`."
   ]
  },
  {
   "cell_type": "code",
   "execution_count": 245,
   "metadata": {},
   "outputs": [
    {
     "name": "stdout",
     "output_type": "stream",
     "text": [
      "^see above^\n"
     ]
    }
   ],
   "source": [
    "print('^see above^')"
   ]
  },
  {
   "cell_type": "markdown",
   "metadata": {},
   "source": [
    "#### Question 10\n",
    "##### Print the four optimal parameters in the form of  \"The optimal `parameter` is: `parameter value`\" like we did in class. \n",
    "#####  Take a look at the optimized parameter values."
   ]
  },
  {
   "cell_type": "code",
   "execution_count": 246,
   "metadata": {},
   "outputs": [
    {
     "name": "stdout",
     "output_type": "stream",
     "text": [
      "The optimal max depth is: 1.0\n",
      "The optimal min samples split is: 0.2\n",
      "The optimal min samples leaf is: 0.1\n",
      "The optimal max features is: 3\n"
     ]
    }
   ],
   "source": [
    "print(\"The optimal max depth is:\", ex_optimal_max_depth)\n",
    "print(\"The optimal min samples split is:\", ex_optimal_min_samples_split)\n",
    "print(\"The optimal min samples leaf is:\", ex_optimal_min_samples_leafs)\n",
    "print(\"The optimal max features is:\", ex_optimal_max_features)"
   ]
  },
  {
   "cell_type": "markdown",
   "metadata": {},
   "source": [
    "#### Question 11\n",
    "\n",
    "##### Create a tree model with the optimized parameters. \n",
    "##### Name the optimized model as `ex_clf_optimized`. \n",
    "##### Print the optimized model to see the optimized features.\n",
    "##### Run the optimized model on `X_train` and name the fitted model as `ex_clf_optimized_fit`.\n",
    "\n",
    "\n",
    "##### Remember to set the seed at 2. "
   ]
  },
  {
   "cell_type": "code",
   "execution_count": 247,
   "metadata": {},
   "outputs": [
    {
     "name": "stdout",
     "output_type": "stream",
     "text": [
      "DecisionTreeClassifier(class_weight=None, criterion='gini', max_depth=1.0,\n",
      "            max_features=3, max_leaf_nodes=None, min_impurity_decrease=0.0,\n",
      "            min_impurity_split=None, min_samples_leaf=0.1,\n",
      "            min_samples_split=0.2, min_weight_fraction_leaf=0.0,\n",
      "            presort=False, random_state=None, splitter='best')\n"
     ]
    }
   ],
   "source": [
    "X_train, X_test, Y_train, Y_test = df_target_split(chicago_census, 'income')\n",
    "# Set the seed.\n",
    "np.random.seed(2)\n",
    "\n",
    "# Implement the decision tree on X_train.\n",
    "ex_clf_optimized = tree.DecisionTreeClassifier(max_depth = ex_optimal_max_depth,\n",
    "                                            min_samples_split = ex_optimal_min_samples_split,\n",
    "                                            min_samples_leaf = ex_optimal_min_samples_leafs,\n",
    "                                            max_features = ex_optimal_max_features)\n",
    "\n",
    "# We can now see our optimized features where before they were just default:\n",
    "print(ex_clf_optimized)\n",
    "\n",
    "ex_clf_optimized_fit = ex_clf_optimized.fit(X_train, Y_train)\n"
   ]
  },
  {
   "cell_type": "markdown",
   "metadata": {},
   "source": [
    "#### Question 12\n",
    "##### Predict on X_test and calculate the accuracy score. \n",
    "##### Name the accuracy score as `ex_acc_score_tree_optimized`.\n"
   ]
  },
  {
   "cell_type": "code",
   "execution_count": 248,
   "metadata": {},
   "outputs": [
    {
     "name": "stdout",
     "output_type": "stream",
     "text": [
      "0.9583333333333334\n"
     ]
    }
   ],
   "source": [
    "# Predict on X_test.\n",
    "ex_y_predict_optimized = ex_clf_optimized_fit.predict(X_test)\n",
    "\n",
    "# Get the accuracy score.\n",
    "ex_acc_score_tree_optimized = accuracy_score(Y_test, ex_y_predict_optimized)\n",
    "\n",
    "print(ex_acc_score_tree_optimized)"
   ]
  },
  {
   "cell_type": "markdown",
   "metadata": {},
   "source": [
    "#### Question 13 \n",
    "##### Add the optimized tree accuracy score in the dataset. \n",
    "##### Remember to pickle the dataframe as `ex_model_final.sav` for later use."
   ]
  },
  {
   "cell_type": "code",
   "execution_count": 249,
   "metadata": {},
   "outputs": [
    {
     "name": "stdout",
     "output_type": "stream",
     "text": [
      "    metrics  values                       model\n",
      "0  accuracy  0.8333                       knn_5\n",
      "1  accuracy  0.9359            knn_GridSearchCV\n",
      "2  accuracy  0.9583                      knn_27\n",
      "3  accuracy  1.0000                    logistic\n",
      "4  accuracy  1.0000        logistic_withdummies\n",
      "5  accuracy  1.0000              logistic_tuned\n",
      "6  accuracy  0.9167          tree_simple_subset\n",
      "7  accuracy  0.9583     full_tree_simple_subset\n",
      "8  accuracy  0.9583  full_tree_optimized_subset\n"
     ]
    }
   ],
   "source": [
    "# Add this final model champion to our dataframe.\n",
    "ex_model_final_tree = ex_model_final_tree.append(\n",
    "    {'metrics' : \"accuracy\" ,\n",
    "     'values' : round(ex_acc_score_tree_optimized,4),\n",
    "     'model':'full_tree_optimized_subset' \n",
    "    },\n",
    "ignore_index = True\n",
    ")\n",
    "print(ex_model_final_tree)"
   ]
  },
  {
   "cell_type": "code",
   "execution_count": 250,
   "metadata": {},
   "outputs": [],
   "source": [
    "pickle.dump(ex_model_final_tree, open('ex_model_final.sav', 'wb'))"
   ]
  }
 ],
 "metadata": {
  "kernelspec": {
   "display_name": "Python 3",
   "language": "python",
   "name": "python3"
  },
  "language_info": {
   "codemirror_mode": {
    "name": "ipython",
    "version": 3
   },
   "file_extension": ".py",
   "mimetype": "text/x-python",
   "name": "python",
   "nbconvert_exporter": "python",
   "pygments_lexer": "ipython3",
   "version": "3.7.1"
  }
 },
 "nbformat": 4,
 "nbformat_minor": 2
}
