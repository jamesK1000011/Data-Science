{
 "cells": [
  {
   "cell_type": "markdown",
   "metadata": {},
   "source": [
    "# Text mining - Day 2 - Exercises"
   ]
  },
  {
   "cell_type": "markdown",
   "metadata": {},
   "source": [
    "## Exercise 1"
   ]
  },
  {
   "cell_type": "markdown",
   "metadata": {},
   "source": [
    "#### Question 1 \n",
    "##### Load libraries that are used in this module\n",
    "##### Set working directory to folder where the dataset is present."
   ]
  },
  {
   "cell_type": "markdown",
   "metadata": {},
   "source": [
    "#### Question 2 \n",
    "##### Set `main_dir` to the location of your `abt` folder (for Mac/Linux).\n",
    "##### Make `data_dir` from the `main_dir` and concatenate remainder of the path to data directory.\n"
   ]
  },
  {
   "cell_type": "markdown",
   "metadata": {},
   "source": [
    "#### Question 3 \n",
    "##### Set the working directory to `data_dir`.\n",
    "##### Check if the working directory is updated to `data_dir'."
   ]
  },
  {
   "cell_type": "markdown",
   "metadata": {},
   "source": [
    "#### Question 4 \n",
    "##### Load the pickled file from last class exercises: exercise_titles_clean.sav'\n",
    "##### Save it as `processed_docs_ex`"
   ]
  },
  {
   "cell_type": "markdown",
   "metadata": {},
   "source": [
    "#### Question 5\n",
    "##### Create a dictionary from the processed_docs_ex object, using gensim's function.\n",
    "##### Label the dictionary `dictionary_ex`.\n",
    "##### Then loop through the dictionary printing out the first 20 items, key and value.\n",
    "##### What does the key symbolize? The value?\n",
    "##### Make sure to set the seed, we use `2` for exercises."
   ]
  },
  {
   "cell_type": "markdown",
   "metadata": {},
   "source": [
    "#### Question 6 \n",
    "##### Write a list comprehension that transforms each doc within the `processed_docs_ex`. \n",
    "##### Save this object, the output of the list comprehension, as `bow_corpus_ex`.\n",
    "##### What type of object is this?"
   ]
  },
  {
   "cell_type": "markdown",
   "metadata": {},
   "source": [
    "#### Question 7 \n",
    "##### Transform `bow_corpus_ex` to a TF-IDF transformed object using TfIdfModel().\n",
    "##### Preview the scores for the first document using `pprint`."
   ]
  },
  {
   "cell_type": "markdown",
   "metadata": {},
   "source": [
    "## Exercise 2"
   ]
  },
  {
   "cell_type": "markdown",
   "metadata": {},
   "source": [
    "#### Question 1 \n",
    "##### Now we are going to run LDA on our `corpus_tfidf_ex` object.\n",
    "##### Choose the same parameters as we did in the slides.\n",
    "##### Save the model as `lda_model_tfidf_ex`."
   ]
  },
  {
   "cell_type": "markdown",
   "metadata": {},
   "source": [
    "#### Question 2\n",
    "##### Look at the output of your LDA model, print each of the 5 topics and the top words within each topic.\n",
    "##### Then, take the first doc from `processed_docs_ex` and classify it within one of the five topics - which one is\n",
    "##### it most similar to?"
   ]
  },
  {
   "cell_type": "markdown",
   "metadata": {},
   "source": [
    "## Exercise 3"
   ]
  },
  {
   "cell_type": "markdown",
   "metadata": {},
   "source": [
    "#### Question 1 \n",
    "##### Find the topic coherence for the LDA model.\n",
    "##### Save it as `coherence_lda_ex` and print it out."
   ]
  },
  {
   "cell_type": "markdown",
   "metadata": {},
   "source": [
    "#### Question 2 \n",
    "##### What can we do to improve the model?\n",
    "##### Take the steps needed to improve the model (hint: optimal topic number, use the convenience function)\n",
    "\n",
    "##### Use the convenience function, tweak parameters as you think needed.\n",
    "##### *Hint: there are more titles, so maybe more topics will be necessary as a limit.*"
   ]
  },
  {
   "cell_type": "markdown",
   "metadata": {},
   "source": [
    "#### Question 3 \n",
    "##### Plot the findings from the model_list and coherence_values.\n",
    "##### What would improve our LDA model, what number of topics?"
   ]
  },
  {
   "cell_type": "markdown",
   "metadata": {},
   "source": [
    "#### Question 4\n",
    "##### Prepare the visualization object for plotting, and assign it to a new variable 'vis'.\n",
    "##### Display the results.\n",
    "##### What can you infer about the topics by looking at this plot?\n"
   ]
  },
  {
   "cell_type": "markdown",
   "metadata": {},
   "source": [
    "#### Question 9 \n",
    "##### Save the LDA visualization as a HTML file called `UN_LDAvis`."
   ]
  }
 ],
 "metadata": {
  "kernelspec": {
   "display_name": "Python 3",
   "language": "python",
   "name": "python3"
  },
  "language_info": {
   "codemirror_mode": {
    "name": "ipython",
    "version": 3
   },
   "file_extension": ".py",
   "mimetype": "text/x-python",
   "name": "python",
   "nbconvert_exporter": "python",
   "pygments_lexer": "ipython3",
   "version": "3.6.8"
  }
 },
 "nbformat": 4,
 "nbformat_minor": 2
}
