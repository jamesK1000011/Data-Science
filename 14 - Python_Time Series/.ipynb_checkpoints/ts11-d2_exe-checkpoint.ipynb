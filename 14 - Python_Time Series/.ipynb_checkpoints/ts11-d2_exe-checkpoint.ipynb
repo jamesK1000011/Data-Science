{
 "cells": [
  {
   "cell_type": "markdown",
   "metadata": {},
   "source": [
    "# Time series day 2 - Exercises"
   ]
  },
  {
   "cell_type": "markdown",
   "metadata": {},
   "source": [
    "## Exercise 1"
   ]
  },
  {
   "cell_type": "markdown",
   "metadata": {},
   "source": [
    "#### Question 1\n",
    "##### Import the libraries we will be using for the day.\n",
    "##### Set the working directory as the data directory."
   ]
  },
  {
   "cell_type": "code",
   "execution_count": 24,
   "metadata": {},
   "outputs": [],
   "source": [
    "import os\n",
    "import pickle\n",
    "import pandas as pd\n",
    "import numpy as np\n",
    "import matplotlib as mpl\n",
    "import matplotlib.pyplot as plt\n",
    "import seaborn as sns\n",
    "from statsmodels.tsa.stattools import adfuller\n",
    "from random import gauss\n",
    "from random import seed\n",
    "from random import random\n",
    "from pandas import Series\n",
    "from sklearn.metrics import mean_squared_error\n",
    "from math import sqrt\n",
    "from statsmodels.graphics.tsaplots import plot_acf\n",
    "from statsmodels.stats.diagnostic import acorr_ljungbox\n",
    "\n",
    "#jupyterthemes plotfix for dark mode\n",
    "from jupyterthemes import jtplot\n",
    "jtplot.style()"
   ]
  },
  {
   "cell_type": "code",
   "execution_count": 25,
   "metadata": {},
   "outputs": [
    {
     "name": "stdout",
     "output_type": "stream",
     "text": [
      "/Users/datasociety/Desktop/af-werx/data\n"
     ]
    }
   ],
   "source": [
    "nb_root=globals()['_dh']\n",
    "os.chdir(nb_root[0])\n",
    "\n",
    "main_dir = os.path.abspath(os.path.join (\"..\",))\n",
    "\n",
    "# Make `data_dir` and 'path_dir' from the `main_dir` and\n",
    "data_dir = os.path.join(main_dir, \"data\")\n",
    "plot_dir = os.path.join(main_dir, \"plot\")\n",
    "\n",
    "# Set working directory.\n",
    "os.chdir(data_dir)\n",
    "# Check working directory.\n",
    "print(os.getcwd())"
   ]
  },
  {
   "cell_type": "markdown",
   "metadata": {},
   "source": [
    "#### Question 2\n",
    "##### Load `passenger_miles.sav` pickle as `passenger_miles_ex`.\n",
    "##### Print the head of the data.\n",
    "##### Visualize available seat miles data."
   ]
  },
  {
   "cell_type": "code",
   "execution_count": 26,
   "metadata": {},
   "outputs": [
    {
     "data": {
      "text/html": [
       "<div>\n",
       "<style scoped>\n",
       "    .dataframe tbody tr th:only-of-type {\n",
       "        vertical-align: middle;\n",
       "    }\n",
       "\n",
       "    .dataframe tbody tr th {\n",
       "        vertical-align: top;\n",
       "    }\n",
       "\n",
       "    .dataframe thead th {\n",
       "        text-align: right;\n",
       "    }\n",
       "</style>\n",
       "<table border=\"1\" class=\"dataframe\">\n",
       "  <thead>\n",
       "    <tr style=\"text-align: right;\">\n",
       "      <th></th>\n",
       "      <th>revenue_passenger_miles</th>\n",
       "      <th>available_seat_miles</th>\n",
       "      <th>unused_seat_miles</th>\n",
       "    </tr>\n",
       "    <tr>\n",
       "      <th>date</th>\n",
       "      <th></th>\n",
       "      <th></th>\n",
       "      <th></th>\n",
       "    </tr>\n",
       "  </thead>\n",
       "  <tbody>\n",
       "    <tr>\n",
       "      <th>1979-01-01</th>\n",
       "      <td>15.50</td>\n",
       "      <td>26.64</td>\n",
       "      <td>11.15</td>\n",
       "    </tr>\n",
       "    <tr>\n",
       "      <th>1979-02-01</th>\n",
       "      <td>16.58</td>\n",
       "      <td>27.20</td>\n",
       "      <td>10.62</td>\n",
       "    </tr>\n",
       "    <tr>\n",
       "      <th>1979-03-01</th>\n",
       "      <td>18.85</td>\n",
       "      <td>27.87</td>\n",
       "      <td>9.02</td>\n",
       "    </tr>\n",
       "    <tr>\n",
       "      <th>1979-04-01</th>\n",
       "      <td>17.23</td>\n",
       "      <td>23.22</td>\n",
       "      <td>5.99</td>\n",
       "    </tr>\n",
       "    <tr>\n",
       "      <th>1979-05-01</th>\n",
       "      <td>16.04</td>\n",
       "      <td>23.27</td>\n",
       "      <td>7.23</td>\n",
       "    </tr>\n",
       "  </tbody>\n",
       "</table>\n",
       "</div>"
      ],
      "text/plain": [
       "            revenue_passenger_miles  available_seat_miles  unused_seat_miles\n",
       "date                                                                        \n",
       "1979-01-01                    15.50                 26.64              11.15\n",
       "1979-02-01                    16.58                 27.20              10.62\n",
       "1979-03-01                    18.85                 27.87               9.02\n",
       "1979-04-01                    17.23                 23.22               5.99\n",
       "1979-05-01                    16.04                 23.27               7.23"
      ]
     },
     "execution_count": 26,
     "metadata": {},
     "output_type": "execute_result"
    }
   ],
   "source": [
    "passenger_miles_ex = pickle.load(open(\"passenger_miles.sav\",\"rb\"))\n",
    "passenger_miles_ex.head()"
   ]
  },
  {
   "cell_type": "code",
   "execution_count": 27,
   "metadata": {},
   "outputs": [
    {
     "data": {
      "image/png": "[encoded data removed]",
      "text/plain": [
       "<Figure size 1152x432 with 1 Axes>"
      ]
     },
     "metadata": {},
     "output_type": "display_data"
    }
   ],
   "source": [
    "fig, ax = plt.subplots(figsize = (16, 6))\n",
    "passenger_miles_ex['available_seat_miles'].plot()\n",
    "plt.title('available_seat_miles',\n",
    "          fontsize = 20)\n",
    "plt.xlabel('Date', \n",
    "           fontsize = 18)\n",
    "plt.ylabel('Volume (billions of miles)', \n",
    "           fontsize = 18)\n",
    "ax.tick_params(labelsize = 14)\n",
    "plt.show()"
   ]
  },
  {
   "cell_type": "markdown",
   "metadata": {},
   "source": [
    "#### Question 3\n",
    "##### Set seed to 3.\n",
    "##### Generate a random series of 1000 entries and name as 'series_ex'.\n",
    "##### Print the head of the series and the summary statistics."
   ]
  },
  {
   "cell_type": "code",
   "execution_count": 28,
   "metadata": {},
   "outputs": [
    {
     "name": "stdout",
     "output_type": "stream",
     "text": [
      "<class 'list'>\n",
      "0    0.094708\n",
      "1    1.250024\n",
      "2   -0.931378\n",
      "3    0.992377\n",
      "4   -0.259155\n",
      "dtype: float64\n"
     ]
    },
    {
     "data": {
      "text/plain": [
       "pandas.core.series.Series"
      ]
     },
     "execution_count": 28,
     "metadata": {},
     "output_type": "execute_result"
    }
   ],
   "source": [
    "# Seed random number generator.\n",
    "seed(3)\n",
    "# Create white noise series.\n",
    "series_ex = [gauss(0.0, 1.0) for i in range(1000)]\n",
    "print(type(series_ex))\n",
    "series_ex = Series(series_ex)\n",
    "print(series_ex.head())\n",
    "type(series_ex)"
   ]
  },
  {
   "cell_type": "code",
   "execution_count": 29,
   "metadata": {},
   "outputs": [
    {
     "data": {
      "text/plain": [
       "count    1000.000000\n",
       "mean       -0.029643\n",
       "std         0.987305\n",
       "min        -3.605753\n",
       "25%        -0.681468\n",
       "50%        -0.030885\n",
       "75%         0.606142\n",
       "max         3.154676\n",
       "dtype: float64"
      ]
     },
     "execution_count": 29,
     "metadata": {},
     "output_type": "execute_result"
    }
   ],
   "source": [
    "series_ex.describe()"
   ]
  },
  {
   "cell_type": "markdown",
   "metadata": {},
   "source": [
    "#### Question 4\n",
    "##### Visualize the white noise series and compare with our available seat miles.\n",
    "##### What do you think about our available seat miles series?"
   ]
  },
  {
   "cell_type": "code",
   "execution_count": 30,
   "metadata": {},
   "outputs": [
    {
     "data": {
      "image/png": "[encoded data removed]",
      "text/plain": [
       "<Figure size 460.8x403.2 with 1 Axes>"
      ]
     },
     "metadata": {},
     "output_type": "display_data"
    }
   ],
   "source": [
    "series_ex.plot()\n",
    "plt.show()"
   ]
  },
  {
   "cell_type": "code",
   "execution_count": 31,
   "metadata": {},
   "outputs": [
    {
     "name": "stdout",
     "output_type": "stream",
     "text": [
      "there is covariance for a available seat miles\n"
     ]
    }
   ],
   "source": [
    "print('there is covariance for a available seat miles')"
   ]
  },
  {
   "cell_type": "markdown",
   "metadata": {},
   "source": [
    "#### Question 5\n",
    "##### Visualize the autocorrelation of white noise series we created.\n",
    "##### What can you interpret?"
   ]
  },
  {
   "cell_type": "code",
   "execution_count": 32,
   "metadata": {},
   "outputs": [
    {
     "name": "stdout",
     "output_type": "stream",
     "text": [
      "200\n"
     ]
    },
    {
     "data": {
      "text/plain": [
       "pandas.core.series.Series"
      ]
     },
     "execution_count": 32,
     "metadata": {},
     "output_type": "execute_result"
    }
   ],
   "source": [
    "# Let's get a maximum lag based on the rule of thumb.\n",
    "max_k_ex = series_ex.shape[0]//5\n",
    "print(max_k_ex)\n",
    "type(series_ex)"
   ]
  },
  {
   "cell_type": "code",
   "execution_count": 33,
   "metadata": {},
   "outputs": [
    {
     "data": {
      "image/png": "[encoded data removed]",
      "text/plain": [
       "<Figure size 460.8x403.2 with 1 Axes>"
      ]
     },
     "metadata": {},
     "output_type": "display_data"
    }
   ],
   "source": [
    "# Autocorrelation.\n",
    "plot_acf(series_ex, lags = max_k_ex) #<- adjust k\n",
    "plt.title('ACF (Gauss Series)', fontsize = 20)\n",
    "plt.xlabel('Lag', fontsize = 18)\n",
    "plt.ylabel('Autocorrelation coefficient', fontsize = 18)\n",
    "ax.tick_params(labelsize = 14)\n",
    "plt.show()"
   ]
  },
  {
   "cell_type": "markdown",
   "metadata": {},
   "source": [
    "#### Question 6\n",
    "##### Implement the Ljung-Box hypothesis test for white noise.\n",
    "##### What do the results say?"
   ]
  },
  {
   "cell_type": "code",
   "execution_count": 34,
   "metadata": {},
   "outputs": [
    {
     "name": "stdout",
     "output_type": "stream",
     "text": [
      "<class 'tuple'>\n",
      "<class 'list'>\n"
     ]
    },
    {
     "data": {
      "text/html": [
       "<div>\n",
       "<style scoped>\n",
       "    .dataframe tbody tr th:only-of-type {\n",
       "        vertical-align: middle;\n",
       "    }\n",
       "\n",
       "    .dataframe tbody tr th {\n",
       "        vertical-align: top;\n",
       "    }\n",
       "\n",
       "    .dataframe thead th {\n",
       "        text-align: right;\n",
       "    }\n",
       "</style>\n",
       "<table border=\"1\" class=\"dataframe\">\n",
       "  <thead>\n",
       "    <tr style=\"text-align: right;\">\n",
       "      <th></th>\n",
       "      <th>0</th>\n",
       "      <th>1</th>\n",
       "      <th>2</th>\n",
       "      <th>3</th>\n",
       "      <th>4</th>\n",
       "      <th>5</th>\n",
       "      <th>6</th>\n",
       "      <th>7</th>\n",
       "      <th>8</th>\n",
       "      <th>9</th>\n",
       "      <th>...</th>\n",
       "      <th>30</th>\n",
       "      <th>31</th>\n",
       "      <th>32</th>\n",
       "      <th>33</th>\n",
       "      <th>34</th>\n",
       "      <th>35</th>\n",
       "      <th>36</th>\n",
       "      <th>37</th>\n",
       "      <th>38</th>\n",
       "      <th>39</th>\n",
       "    </tr>\n",
       "  </thead>\n",
       "  <tbody>\n",
       "    <tr>\n",
       "      <th>0</th>\n",
       "      <td>0.807526</td>\n",
       "      <td>1.257820</td>\n",
       "      <td>3.124969</td>\n",
       "      <td>3.125141</td>\n",
       "      <td>4.063639</td>\n",
       "      <td>4.115439</td>\n",
       "      <td>4.135414</td>\n",
       "      <td>4.442255</td>\n",
       "      <td>4.919180</td>\n",
       "      <td>5.375742</td>\n",
       "      <td>...</td>\n",
       "      <td>24.713211</td>\n",
       "      <td>25.489948</td>\n",
       "      <td>25.716528</td>\n",
       "      <td>26.285845</td>\n",
       "      <td>26.403345</td>\n",
       "      <td>28.655738</td>\n",
       "      <td>29.471073</td>\n",
       "      <td>29.484666</td>\n",
       "      <td>30.512221</td>\n",
       "      <td>31.381148</td>\n",
       "    </tr>\n",
       "    <tr>\n",
       "      <th>1</th>\n",
       "      <td>0.368853</td>\n",
       "      <td>0.533173</td>\n",
       "      <td>0.372756</td>\n",
       "      <td>0.537106</td>\n",
       "      <td>0.540290</td>\n",
       "      <td>0.661058</td>\n",
       "      <td>0.764055</td>\n",
       "      <td>0.815182</td>\n",
       "      <td>0.841296</td>\n",
       "      <td>0.864708</td>\n",
       "      <td>...</td>\n",
       "      <td>0.780397</td>\n",
       "      <td>0.785712</td>\n",
       "      <td>0.812935</td>\n",
       "      <td>0.825051</td>\n",
       "      <td>0.851911</td>\n",
       "      <td>0.803026</td>\n",
       "      <td>0.806156</td>\n",
       "      <td>0.837190</td>\n",
       "      <td>0.832525</td>\n",
       "      <td>0.833237</td>\n",
       "    </tr>\n",
       "  </tbody>\n",
       "</table>\n",
       "<p>2 rows × 40 columns</p>\n",
       "</div>"
      ],
      "text/plain": [
       "         0         1         2         3         4         5         6   \\\n",
       "0  0.807526  1.257820  3.124969  3.125141  4.063639  4.115439  4.135414   \n",
       "1  0.368853  0.533173  0.372756  0.537106  0.540290  0.661058  0.764055   \n",
       "\n",
       "         7         8         9   ...         30         31         32  \\\n",
       "0  4.442255  4.919180  5.375742  ...  24.713211  25.489948  25.716528   \n",
       "1  0.815182  0.841296  0.864708  ...   0.780397   0.785712   0.812935   \n",
       "\n",
       "          33         34         35         36         37         38         39  \n",
       "0  26.285845  26.403345  28.655738  29.471073  29.484666  30.512221  31.381148  \n",
       "1   0.825051   0.851911   0.803026   0.806156   0.837190   0.832525   0.833237  \n",
       "\n",
       "[2 rows x 40 columns]"
      ]
     },
     "execution_count": 34,
     "metadata": {},
     "output_type": "execute_result"
    }
   ],
   "source": [
    "ljungbox_test_ex = acorr_ljungbox(series_ex, lags = None, boxpierce = False)\n",
    "print(type(ljungbox_test_ex))\n",
    "ljungbox_test_ex = list(ljungbox_test_ex)\n",
    "print(type(ljungbox_test_ex))\n",
    "wn_ljung_box_results_ex = pd.DataFrame(ljungbox_test_ex)  # Lags is the largest lag to  report\n",
    "wn_ljung_box_results_ex"
   ]
  },
  {
   "cell_type": "markdown",
   "metadata": {},
   "source": [
    "#### Question 7\n",
    "##### Implement Ljung-Box hypothesis test for `available_seat_miles` series.\n",
    "##### What can you say about the results now?"
   ]
  },
  {
   "cell_type": "code",
   "execution_count": 13,
   "metadata": {},
   "outputs": [
    {
     "data": {
      "text/html": [
       "<div>\n",
       "<style scoped>\n",
       "    .dataframe tbody tr th:only-of-type {\n",
       "        vertical-align: middle;\n",
       "    }\n",
       "\n",
       "    .dataframe tbody tr th {\n",
       "        vertical-align: top;\n",
       "    }\n",
       "\n",
       "    .dataframe thead th {\n",
       "        text-align: right;\n",
       "    }\n",
       "</style>\n",
       "<table border=\"1\" class=\"dataframe\">\n",
       "  <thead>\n",
       "    <tr style=\"text-align: right;\">\n",
       "      <th></th>\n",
       "      <th>0</th>\n",
       "      <th>1</th>\n",
       "      <th>2</th>\n",
       "      <th>3</th>\n",
       "      <th>4</th>\n",
       "      <th>5</th>\n",
       "      <th>6</th>\n",
       "      <th>7</th>\n",
       "      <th>8</th>\n",
       "      <th>9</th>\n",
       "      <th>...</th>\n",
       "      <th>30</th>\n",
       "      <th>31</th>\n",
       "      <th>32</th>\n",
       "      <th>33</th>\n",
       "      <th>34</th>\n",
       "      <th>35</th>\n",
       "      <th>36</th>\n",
       "      <th>37</th>\n",
       "      <th>38</th>\n",
       "      <th>39</th>\n",
       "    </tr>\n",
       "  </thead>\n",
       "  <tbody>\n",
       "    <tr>\n",
       "      <th>0</th>\n",
       "      <td>2.722220e+02</td>\n",
       "      <td>5.366255e+02</td>\n",
       "      <td>7.949283e+02</td>\n",
       "      <td>1.048129e+03</td>\n",
       "      <td>1.295342e+03</td>\n",
       "      <td>1539.082989</td>\n",
       "      <td>1780.254793</td>\n",
       "      <td>2021.412637</td>\n",
       "      <td>2257.281422</td>\n",
       "      <td>2488.828563</td>\n",
       "      <td>...</td>\n",
       "      <td>6167.440456</td>\n",
       "      <td>6290.368142</td>\n",
       "      <td>6407.897225</td>\n",
       "      <td>6521.420661</td>\n",
       "      <td>6631.245053</td>\n",
       "      <td>6738.777367</td>\n",
       "      <td>6840.645292</td>\n",
       "      <td>6937.217559</td>\n",
       "      <td>7029.071342</td>\n",
       "      <td>7117.770382</td>\n",
       "    </tr>\n",
       "    <tr>\n",
       "      <th>1</th>\n",
       "      <td>3.720892e-61</td>\n",
       "      <td>2.973377e-117</td>\n",
       "      <td>5.447024e-172</td>\n",
       "      <td>1.323734e-225</td>\n",
       "      <td>6.523400e-278</td>\n",
       "      <td>0.000000</td>\n",
       "      <td>0.000000</td>\n",
       "      <td>0.000000</td>\n",
       "      <td>0.000000</td>\n",
       "      <td>0.000000</td>\n",
       "      <td>...</td>\n",
       "      <td>0.000000</td>\n",
       "      <td>0.000000</td>\n",
       "      <td>0.000000</td>\n",
       "      <td>0.000000</td>\n",
       "      <td>0.000000</td>\n",
       "      <td>0.000000</td>\n",
       "      <td>0.000000</td>\n",
       "      <td>0.000000</td>\n",
       "      <td>0.000000</td>\n",
       "      <td>0.000000</td>\n",
       "    </tr>\n",
       "  </tbody>\n",
       "</table>\n",
       "<p>2 rows × 40 columns</p>\n",
       "</div>"
      ],
      "text/plain": [
       "             0              1              2              3              4   \\\n",
       "0  2.722220e+02   5.366255e+02   7.949283e+02   1.048129e+03   1.295342e+03   \n",
       "1  3.720892e-61  2.973377e-117  5.447024e-172  1.323734e-225  6.523400e-278   \n",
       "\n",
       "            5            6            7            8            9   ...  \\\n",
       "0  1539.082989  1780.254793  2021.412637  2257.281422  2488.828563  ...   \n",
       "1     0.000000     0.000000     0.000000     0.000000     0.000000  ...   \n",
       "\n",
       "            30           31           32           33           34  \\\n",
       "0  6167.440456  6290.368142  6407.897225  6521.420661  6631.245053   \n",
       "1     0.000000     0.000000     0.000000     0.000000     0.000000   \n",
       "\n",
       "            35           36           37           38           39  \n",
       "0  6738.777367  6840.645292  6937.217559  7029.071342  7117.770382  \n",
       "1     0.000000     0.000000     0.000000     0.000000     0.000000  \n",
       "\n",
       "[2 rows x 40 columns]"
      ]
     },
     "execution_count": 13,
     "metadata": {},
     "output_type": "execute_result"
    }
   ],
   "source": [
    "no_wn_ljung_box_results_ex = pd.DataFrame(list(acorr_ljungbox(passenger_miles_ex['available_seat_miles'], \n",
    "                                                              lags=None, \n",
    "                                                              boxpierce=False)))  # Lags is the largest lag to  report\n",
    "no_wn_ljung_box_results_ex"
   ]
  },
  {
   "cell_type": "markdown",
   "metadata": {},
   "source": [
    "## Exercise 2"
   ]
  },
  {
   "cell_type": "markdown",
   "metadata": {},
   "source": [
    "#### Question 1\n",
    "##### Set seed as 3 and create a sample dataset of 1000 entries for our random walk model and name as `random_walk_ex`\n",
    "##### Convert to a dataframe and save as `random_walk_ex_df`."
   ]
  },
  {
   "cell_type": "code",
   "execution_count": 14,
   "metadata": {},
   "outputs": [
    {
     "name": "stdout",
     "output_type": "stream",
     "text": [
      "   0\n",
      "0 -1\n",
      "1  0\n",
      "2 -1\n",
      "3  0\n",
      "4  1\n",
      "      0\n",
      "995 -18\n",
      "996 -17\n",
      "997 -16\n",
      "998 -17\n",
      "999 -18\n"
     ]
    }
   ],
   "source": [
    "from random import seed, random\n",
    "\n",
    "seed(3)\n",
    "random_walk_ex = list()\n",
    "random_walk_ex.append(-1 if random() < 0.5 else 1)\n",
    "for i in range(1, 1000):\n",
    "    movement = -1 if random() < 0.5 else 1\n",
    "    value = random_walk_ex[i-1] + movement\n",
    "    random_walk_ex.append(value)\n",
    "    \n",
    "\n",
    "    # Convert random walk into a df for convenience\n",
    "random_walk_df_ex = pd.DataFrame(random_walk_ex)\n",
    "\n",
    "print(random_walk_df_ex.head())\n",
    "print(random_walk_df_ex.tail())"
   ]
  },
  {
   "cell_type": "markdown",
   "metadata": {},
   "source": [
    "#### Question 2\n",
    "##### Visualize the random walk series.\n",
    "##### Create the ACF plot. Generate `max_k` for the ACF plot."
   ]
  },
  {
   "cell_type": "code",
   "execution_count": 15,
   "metadata": {},
   "outputs": [
    {
     "data": {
      "text/plain": [
       "[<matplotlib.lines.Line2D at 0x10aa807b8>]"
      ]
     },
     "execution_count": 15,
     "metadata": {},
     "output_type": "execute_result"
    },
    {
     "data": {
      "image/png": "[encoded data removed]",
      "text/plain": [
       "<Figure size 432x288 with 1 Axes>"
      ]
     },
     "metadata": {
      "needs_background": "dark"
     },
     "output_type": "display_data"
    }
   ],
   "source": [
    "plt.plot(random_walk_df_ex)"
   ]
  },
  {
   "cell_type": "code",
   "execution_count": 16,
   "metadata": {},
   "outputs": [
    {
     "name": "stdout",
     "output_type": "stream",
     "text": [
      "200\n"
     ]
    },
    {
     "data": {
      "image/png": "[encoded data removed]",
      "text/plain": [
       "<Figure size 432x288 with 1 Axes>"
      ]
     },
     "metadata": {
      "needs_background": "dark"
     },
     "output_type": "display_data"
    }
   ],
   "source": [
    "# Let's get a maximum lag based on the rule of thumb.\n",
    "rm_max_k_ex = random_walk_df_ex.shape[0]//5\n",
    "print(rm_max_k_ex)\n",
    "type(random_walk_df_ex)\n",
    "\n",
    "plot_acf(random_walk_df_ex, lags = rm_max_k_ex) #<- adjust k\n",
    "plt.title('ACF (Gauss Series)', fontsize = 20)\n",
    "plt.xlabel('Lag', fontsize = 18)\n",
    "plt.ylabel('Autocorrelation coefficient', fontsize = 18)\n",
    "ax.tick_params(labelsize = 14)\n",
    "plt.show()"
   ]
  },
  {
   "cell_type": "markdown",
   "metadata": {},
   "source": [
    "#### Question 3\n",
    "##### Check for stationarity in the random walk dataset using the ADF test.\n",
    "##### Convert the random walk series to stationary, calling it \"diff_ex_df\".\n",
    "##### Generate an ACF plot and view the result.\n",
    "##### What can you say about the series and autocorrelation values now?"
   ]
  },
  {
   "cell_type": "code",
   "execution_count": 17,
   "metadata": {},
   "outputs": [
    {
     "name": "stdout",
     "output_type": "stream",
     "text": [
      "ADF Statistic: -0.773524\n",
      "p-value: 0.826776\n",
      "Critical Values:\n",
      "\t1%: -3.437\n",
      "\t5%: -2.864\n",
      "\t10%: -2.568\n"
     ]
    }
   ],
   "source": [
    "# Statistical test.\n",
    "result = adfuller(random_walk_ex)\n",
    "print('ADF Statistic: %f' % result[0])\n",
    "print('p-value: %f' % result[1])\n",
    "print('Critical Values:')\n",
    "\n",
    "for key, value in result[4].items():\n",
    "    print('\\t%s: %.3f' % (key, value))"
   ]
  },
  {
   "cell_type": "code",
   "execution_count": 18,
   "metadata": {},
   "outputs": [
    {
     "data": {
      "text/html": [
       "<div>\n",
       "<style scoped>\n",
       "    .dataframe tbody tr th:only-of-type {\n",
       "        vertical-align: middle;\n",
       "    }\n",
       "\n",
       "    .dataframe tbody tr th {\n",
       "        vertical-align: top;\n",
       "    }\n",
       "\n",
       "    .dataframe thead th {\n",
       "        text-align: right;\n",
       "    }\n",
       "</style>\n",
       "<table border=\"1\" class=\"dataframe\">\n",
       "  <thead>\n",
       "    <tr style=\"text-align: right;\">\n",
       "      <th></th>\n",
       "      <th>0</th>\n",
       "    </tr>\n",
       "  </thead>\n",
       "  <tbody>\n",
       "    <tr>\n",
       "      <th>0</th>\n",
       "      <td>1</td>\n",
       "    </tr>\n",
       "    <tr>\n",
       "      <th>1</th>\n",
       "      <td>-1</td>\n",
       "    </tr>\n",
       "    <tr>\n",
       "      <th>2</th>\n",
       "      <td>1</td>\n",
       "    </tr>\n",
       "    <tr>\n",
       "      <th>3</th>\n",
       "      <td>1</td>\n",
       "    </tr>\n",
       "    <tr>\n",
       "      <th>4</th>\n",
       "      <td>-1</td>\n",
       "    </tr>\n",
       "  </tbody>\n",
       "</table>\n",
       "</div>"
      ],
      "text/plain": [
       "   0\n",
       "0  1\n",
       "1 -1\n",
       "2  1\n",
       "3  1\n",
       "4 -1"
      ]
     },
     "execution_count": 18,
     "metadata": {},
     "output_type": "execute_result"
    }
   ],
   "source": [
    "# Take difference\n",
    "diff = list()\n",
    "for i in range(1, len(random_walk_ex)):\n",
    "    value = random_walk_ex[i] - random_walk_ex[i - 1]\n",
    "    diff.append(value)\n",
    "\n",
    "rm_diff_df_ex = pd.DataFrame(diff)\n",
    "\n",
    "rm_diff_df_ex.head()"
   ]
  },
  {
   "cell_type": "code",
   "execution_count": 19,
   "metadata": {},
   "outputs": [
    {
     "name": "stdout",
     "output_type": "stream",
     "text": [
      "199\n"
     ]
    },
    {
     "data": {
      "image/png": "[encoded data removed]",
      "text/plain": [
       "<Figure size 432x288 with 1 Axes>"
      ]
     },
     "metadata": {
      "needs_background": "dark"
     },
     "output_type": "display_data"
    }
   ],
   "source": [
    "# Let's get a maximum lag based on the rule of thumb.\n",
    "rm_max_k_ex = rm_diff_df_ex.shape[0]//5\n",
    "print(rm_max_k_ex)\n",
    "type(rm_diff_df_ex)\n",
    "\n",
    "plot_acf(rm_diff_df_ex, lags = rm_max_k_ex) #<- adjust k\n",
    "plt.title('ACF (Gauss Series)', fontsize = 20)\n",
    "plt.xlabel('Lag', fontsize = 18)\n",
    "plt.ylabel('Autocorrelation coefficient', fontsize = 18)\n",
    "ax.tick_params(labelsize = 14)\n",
    "plt.show()"
   ]
  },
  {
   "cell_type": "markdown",
   "metadata": {},
   "source": [
    "#### Question 4\n",
    "##### Test `available_seat_miles` for stationarity using the ADF test.\n",
    "##### Convert the series to stationary series by differencing and save the resulting data into `diff_asm_ex_df` dataframe.\n",
    "##### Plot the ADF plot and check if it's a stationary series.\n",
    "##### Perform ADF test on the differenced series once more. What can you say about this data now?"
   ]
  },
  {
   "cell_type": "code",
   "execution_count": 20,
   "metadata": {},
   "outputs": [
    {
     "data": {
      "text/html": [
       "<div>\n",
       "<style scoped>\n",
       "    .dataframe tbody tr th:only-of-type {\n",
       "        vertical-align: middle;\n",
       "    }\n",
       "\n",
       "    .dataframe tbody tr th {\n",
       "        vertical-align: top;\n",
       "    }\n",
       "\n",
       "    .dataframe thead th {\n",
       "        text-align: right;\n",
       "    }\n",
       "</style>\n",
       "<table border=\"1\" class=\"dataframe\">\n",
       "  <thead>\n",
       "    <tr style=\"text-align: right;\">\n",
       "      <th></th>\n",
       "      <th>0</th>\n",
       "    </tr>\n",
       "  </thead>\n",
       "  <tbody>\n",
       "    <tr>\n",
       "      <th>0</th>\n",
       "      <td>1</td>\n",
       "    </tr>\n",
       "    <tr>\n",
       "      <th>1</th>\n",
       "      <td>-1</td>\n",
       "    </tr>\n",
       "    <tr>\n",
       "      <th>2</th>\n",
       "      <td>1</td>\n",
       "    </tr>\n",
       "    <tr>\n",
       "      <th>3</th>\n",
       "      <td>1</td>\n",
       "    </tr>\n",
       "    <tr>\n",
       "      <th>4</th>\n",
       "      <td>-1</td>\n",
       "    </tr>\n",
       "  </tbody>\n",
       "</table>\n",
       "</div>"
      ],
      "text/plain": [
       "   0\n",
       "0  1\n",
       "1 -1\n",
       "2  1\n",
       "3  1\n",
       "4 -1"
      ]
     },
     "execution_count": 20,
     "metadata": {},
     "output_type": "execute_result"
    }
   ],
   "source": [
    "# Separate revenue passenger miles.\n",
    "rpm_ex = passenger_miles_ex['available_seat_miles']\n",
    "\n",
    "# Take difference of revenue_passenger_miles.\n",
    "diff_rpm = list()\n",
    "for i in range(1, len(rpm_ex)):\n",
    "    value = random_walk_ex[i] - random_walk_ex[i - 1]\n",
    "    diff_rpm.append(value)\n",
    "\n",
    "# Save differences as a dataframe.\n",
    "diff_rpm_df = pd.DataFrame(diff_rpm)\n",
    "\n",
    "diff_rpm_df.head()"
   ]
  },
  {
   "cell_type": "markdown",
   "metadata": {},
   "source": [
    "#### Question 5\n",
    "##### Create a lagged dataset for available seat miles differenced data saved in `diff_asm_ex_df` variable we generated earlier.\n",
    "##### Then prepare the dataset, split it into train and test (make sure it is 70-30 split).\n",
    "##### Save training data into `train_ex_X` and training labels to `train_ex_y`; save test data to `test_ex_X` and training labels to `test_ex_y`.\n",
    "##### Set up `model_persistence` function, test your model and save predictions to `predictions_ex` variable. Compute the MSE for the predicted values and save it to `test_score_ex` variable."
   ]
  },
  {
   "cell_type": "code",
   "execution_count": 21,
   "metadata": {},
   "outputs": [
    {
     "name": "stdout",
     "output_type": "stream",
     "text": [
      "   t-1  t+1\n",
      "0  NaN    1\n",
      "1  1.0   -1\n",
      "2 -1.0    1\n",
      "3  1.0    1\n",
      "4  1.0   -1\n"
     ]
    }
   ],
   "source": [
    "# Create lagged dataset.\n",
    "values = pd.DataFrame(diff_rpm_df.values)\n",
    "dataframe = pd.concat([values.shift(1), values], axis=1)\n",
    "dataframe.columns = ['t-1', 't+1']\n",
    "print(dataframe.head(5))\n"
   ]
  },
  {
   "cell_type": "code",
   "execution_count": 22,
   "metadata": {},
   "outputs": [
    {
     "name": "stdout",
     "output_type": "stream",
     "text": [
      "Test MSE: 2.048\n"
     ]
    }
   ],
   "source": [
    "# Prepare dataset, split into training and test sets, 70-30 split.\n",
    "X = dataframe.values\n",
    "train_size = int(len(X) * 0.70)\n",
    "train, test = X[1:train_size], X[train_size:]\n",
    "train_X, train_y = train[:,0], train[:,1]\n",
    "test_X, test_y = test[:,0], test[:,1]\n",
    "\n",
    "# Run the persistence model.\n",
    "def model_persistence(x):\n",
    "    return x\n",
    "\n",
    "# Walk-forward validation.\n",
    "predictions = list()\n",
    "\n",
    "for x in test_X:\n",
    "    yhat = model_persistence(x)\n",
    "    predictions.append(yhat)\n",
    "test_score = mean_squared_error(test_y, predictions)\n",
    "print('Test MSE: %.3f' % test_score)"
   ]
  },
  {
   "cell_type": "code",
   "execution_count": 23,
   "metadata": {},
   "outputs": [
    {
     "name": "stdout",
     "output_type": "stream",
     "text": [
      "Available Themes: \r\n",
      "   chesterish\r\n",
      "   grade3\r\n",
      "   gruvboxd\r\n",
      "   gruvboxl\r\n",
      "   monokai\r\n",
      "   oceans16\r\n",
      "   onedork\r\n",
      "   solarizedd\r\n",
      "   solarizedl\r\n"
     ]
    }
   ],
   "source": [
    "!jt -l"
   ]
  },
  {
   "cell_type": "code",
   "execution_count": 1,
   "metadata": {},
   "outputs": [],
   "source": [
    "!jt -t chesterish -f ptsans -fs 12 -nf ptsans -nfs 12 -N -kl -cursw 2 -cursc r -T"
   ]
  },
  {
   "cell_type": "code",
   "execution_count": null,
   "metadata": {},
   "outputs": [],
   "source": []
  }
 ],
 "metadata": {
  "kernelspec": {
   "display_name": "Python 3",
   "language": "python",
   "name": "python3"
  },
  "language_info": {
   "codemirror_mode": {
    "name": "ipython",
    "version": 3
   },
   "file_extension": ".py",
   "mimetype": "text/x-python",
   "name": "python",
   "nbconvert_exporter": "python",
   "pygments_lexer": "ipython3",
   "version": "3.7.3"
  }
 },
 "nbformat": 4,
 "nbformat_minor": 4
}
