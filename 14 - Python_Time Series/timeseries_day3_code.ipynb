{
 "cells": [
  {
   "cell_type": "code",
   "execution_count": null,
   "metadata": {},
   "outputs": [],
   "source": [
    "\n",
    "#######################################################\n",
    "#######################################################\n",
    "############    COPYRIGHT - DATA SOCIETY   ############\n",
    "#######################################################\n",
    "#######################################################\n",
    "\n",
    "## 10 TIMESERIES DAY3 ##\n",
    "\n",
    "## NOTE: To run individual pieces of code, select the line of code and\n",
    "##       press ctrl + enter for PCs or command + enter for Macs\n",
    "\n"
   ]
  },
  {
   "cell_type": "code",
   "execution_count": null,
   "metadata": {},
   "outputs": [],
   "source": [
    "#=================================================-\n",
    "#### Slide 3: Import packages  ####\n",
    "\n",
    "import os\n",
    "import pandas as pd\n",
    "from pandas.plotting import lag_plot\n",
    "import numpy as np\n",
    "import pickle\n",
    "import matplotlib.pyplot as plt\n",
    "import matplotlib.dates as mdates\n",
    "from statsmodels.tsa.stattools import acf\n",
    "from statsmodels.tsa.seasonal import seasonal_decompose\n",
    "from statsmodels.graphics.tsaplots import plot_acf\n",
    "\n"
   ]
  },
  {
   "cell_type": "code",
   "execution_count": null,
   "metadata": {},
   "outputs": [],
   "source": [
    "#=================================================-\n",
    "#### Slide 4: Directory settings  ####\n",
    "\n",
    "# Set `main_dir` to the location of your `af-werx` folder (for Linux).\n",
    "main_dir = \"/home/[username]/Desktop/af-werx\"\n",
    "# Set `main_dir` to the location of your `af-werx` folder (for Mac).\n",
    "main_dir = '/Users/[username]/Desktop/af-werx'\n",
    "# Set `main_dir` to the location of your `af-werx` folder (for Windows).\n",
    "main_dir = \"C:\\\\Users\\\\[username]\\\\Desktop\\\\af-werx\"\n",
    "# Make `data_dir` from the `main_dir` and\n",
    "# remainder of the path to data directory.\n",
    "data_dir = main_dir + \"/data\"\n",
    "\n",
    "\n"
   ]
  },
  {
   "cell_type": "code",
   "execution_count": null,
   "metadata": {},
   "outputs": [],
   "source": [
    "#=================================================-\n",
    "#### Slide 5: Working directory  ####\n",
    "\n",
    "# Set working directory.\n",
    "os.chdir(data_dir)\n",
    "# Check working directory.\n",
    "print(os.getcwd())\n",
    "\n"
   ]
  },
  {
   "cell_type": "code",
   "execution_count": null,
   "metadata": {},
   "outputs": [],
   "source": [
    "#=================================================-\n",
    "#### Slide 6: Load passenger miles dataset  ####\n",
    "\n",
    "# Read pickle file into `passenger_miles` variable.\n",
    "passenger_miles = pickle.load(open((data_dir + \"/passenger_miles.sav\"),\"rb\"))\n",
    "print(passenger_miles.head())\n",
    "\n",
    "\n"
   ]
  },
  {
   "cell_type": "code",
   "execution_count": null,
   "metadata": {},
   "outputs": [],
   "source": [
    "#=================================================-\n",
    "#### Slide 16: Time based indexing  ####\n",
    "\n",
    "# Time based indexing.\n",
    "print(passenger_miles.loc['2001-09-01'])\n",
    "\n"
   ]
  },
  {
   "cell_type": "code",
   "execution_count": null,
   "metadata": {},
   "outputs": [],
   "source": [
    "#=================================================-\n",
    "#### Slide 17: Time based indexing for date ranges  ####\n",
    "\n",
    "# Time based indexing.\n",
    "print(passenger_miles.loc['2001-09-01':'2002-04-01'])\n",
    "\n"
   ]
  },
  {
   "cell_type": "code",
   "execution_count": null,
   "metadata": {},
   "outputs": [],
   "source": [
    "#=================================================-\n",
    "#### Slide 18: Time based indexing for partial dates  ####\n",
    "\n",
    "# Partial indexing.\n",
    "print(passenger_miles.loc['2001-09':'2002-04'])\n",
    "\n"
   ]
  },
  {
   "cell_type": "code",
   "execution_count": null,
   "metadata": {},
   "outputs": [],
   "source": [
    "#=================================================-\n",
    "#### Slide 19: Visualize a subset of data  ####\n",
    "\n",
    "# Let's plot just the miles for 1999 and 2000.\n",
    "fig, ax = plt.subplots(figsize = (16, 6))\n",
    "passenger_miles.loc['1999':'2000', 'revenue_passenger_miles'].plot(marker = 'o') #<- set marker\n",
    "plt.title('Revenue passenger miles', fontsize = 20)\n",
    "plt.xlabel('Date', fontsize = 18)\n",
    "plt.ylabel('Revenue (billions of miles)', fontsize = 18)\n",
    "ax.tick_params(labelsize = 14)\n",
    "plt.tight_layout() #<- allows labels to fit within plotting area\n",
    "plt.show()\n",
    "\n"
   ]
  },
  {
   "cell_type": "code",
   "execution_count": null,
   "metadata": {},
   "outputs": [],
   "source": [
    "#=================================================-\n",
    "#### Slide 22: Augmenting time series data using DatetimeIndex  ####\n",
    "\n",
    "# Add columns with year, month, and weekday name.\n",
    "passenger_miles['year'] = passenger_miles.index.year\n",
    "passenger_miles['month'] = passenger_miles.index.month\n",
    "passenger_miles['quarter'] = passenger_miles.index.quarter\n",
    "print(passenger_miles.head())\n",
    "\n",
    "\n"
   ]
  },
  {
   "cell_type": "code",
   "execution_count": null,
   "metadata": {},
   "outputs": [],
   "source": [
    "#=================================================-\n",
    "#### Slide 24: Exercise 1  ####\n",
    "\n",
    "\n",
    "\n"
   ]
  },
  {
   "cell_type": "code",
   "execution_count": null,
   "metadata": {},
   "outputs": [],
   "source": [
    "#=================================================-\n",
    "#### Slide 27: Visualize data for different periods: by month  ####\n",
    "\n",
    "passenger_miles.boxplot(column = 'revenue_passenger_miles',\n",
    "by = 'month',\n",
    "figsize = (16, 6), fontsize = 14) #<- you can adjust figure and tick fontsize\n",
    "plt.suptitle('Revenue passenger miles', fontsize = 20)    #<- change default subtitle\n",
    "plt.title('grouped by month', fontsize = 18)              #<- change default title\n",
    "plt.xlabel('Month', fontsize = 18)\n",
    "plt.ylabel('Revenue (billions of miles)', fontsize = 18)\n",
    "plt.show()\n",
    "\n"
   ]
  },
  {
   "cell_type": "code",
   "execution_count": null,
   "metadata": {},
   "outputs": [],
   "source": [
    "#=================================================-\n",
    "#### Slide 29: Visualize data for different periods: by quarter  ####\n",
    "\n",
    "passenger_miles.boxplot(column = 'revenue_passenger_miles',\n",
    "by = 'quarter',\n",
    "figsize = (16, 6), fontsize = 14)\n",
    "plt.suptitle('Revenue passenger miles', fontsize = 20)\n",
    "plt.title('grouped by quarter', fontsize = 18)\n",
    "plt.xlabel('Quarter', fontsize = 18)\n",
    "plt.ylabel('Revenue (billions of miles)', fontsize = 18)\n",
    "plt.show()\n",
    "\n"
   ]
  },
  {
   "cell_type": "code",
   "execution_count": null,
   "metadata": {},
   "outputs": [],
   "source": [
    "#=================================================-\n",
    "#### Slide 32: Adding seasons to data  ####\n",
    "\n",
    "# Apply math formula to convert months to corresponding seasons.\n",
    "passenger_miles['season'] = (passenger_miles['month']%12 + 3)//3\n",
    "\n",
    "# Make a dictionary mapping numeric values to season names.\n",
    "season_dict = {1: 'winter',\n",
    "2: 'spring',\n",
    "3: 'summer',\n",
    "4: 'fall'}\n",
    "\n",
    "# Map numeric values to corresponding season names.\n",
    "passenger_miles['season'] = passenger_miles['season'].map(season_dict)\n",
    "print(passenger_miles.head())\n",
    "\n",
    "\n"
   ]
  },
  {
   "cell_type": "code",
   "execution_count": null,
   "metadata": {},
   "outputs": [],
   "source": [
    "#=================================================-\n",
    "#### Slide 33: Seasonal distributions  ####\n",
    "\n",
    "passenger_miles.boxplot(column = 'revenue_passenger_miles',\n",
    "by = 'season',\n",
    "figsize = (16, 6), fontsize = 14)\n",
    "plt.suptitle('Revenue passenger miles', fontsize = 20)\n",
    "plt.title('grouped by season', fontsize = 18)\n",
    "plt.xlabel('Season', fontsize = 18)\n",
    "plt.ylabel('Revenue (billions of miles)', fontsize = 18)\n",
    "plt.show()\n",
    "\n"
   ]
  },
  {
   "cell_type": "code",
   "execution_count": null,
   "metadata": {},
   "outputs": [],
   "source": [
    "#=================================================-\n",
    "#### Slide 37: Resample: compute quarterly and seasonal means  ####\n",
    "\n",
    "# Resample to quarterly frequency, aggregating with mean.\n",
    "revenue_miles_quarterly_mean = passenger_miles['revenue_passenger_miles'].resample('Q').mean()\n",
    "\n",
    "# Resample to seasonal frequency, aggregating with mean.\n",
    "revenue_miles_seasonal_mean = passenger_miles['revenue_passenger_miles'].resample('QS-DEC').mean()\n",
    "\n"
   ]
  },
  {
   "cell_type": "code",
   "execution_count": null,
   "metadata": {},
   "outputs": [],
   "source": [
    "#=================================================-\n",
    "#### Slide 38: Compare: quarterly vs seasonal  ####\n",
    "\n",
    "print(revenue_miles_quarterly_mean.head(10))\n",
    "print(revenue_miles_seasonal_mean.head(10))\n",
    "\n"
   ]
  },
  {
   "cell_type": "code",
   "execution_count": null,
   "metadata": {},
   "outputs": [],
   "source": [
    "#=================================================-\n",
    "#### Slide 39: Visualize data for different periods: line graph  ####\n",
    "\n",
    "# Name the start and end of the date range to extract.\n",
    "start, end = '1979-01', '2002-04'\n",
    "\n",
    "# Plot monthly and quarterly resampled time series together.\n",
    "fig, ax = plt.subplots(figsize = (16, 10))\n",
    "ax.plot(passenger_miles['revenue_passenger_miles'].loc[start:end, ],\n",
    "marker = '.',\n",
    "linestyle = '-',\n",
    "linewidth = 0.5,\n",
    "label = 'Monthly value')\n",
    "ax.plot(revenue_miles_quarterly_mean.loc[start:end, ],\n",
    "marker = 'o',\n",
    "markersize = 5,\n",
    "linestyle = '-',\n",
    "label = 'Quarterly mean')\n",
    "ax.plot(revenue_miles_seasonal_mean.loc[start:end, ],\n",
    "marker = 'o',\n",
    "markersize = 5,\n",
    "linestyle = '--',\n",
    "label = 'Seasonal mean')\n",
    "ax.set_ylabel(\"Passenger miles (billions)\", fontsize = 18)\n",
    "ax.set_xlabel('Date', fontsize = 18)\n",
    "ax.set_title('Revenue passenger miles', fontsize = 20)\n",
    "ax.legend()\n",
    "plt.show()\n",
    "\n"
   ]
  },
  {
   "cell_type": "code",
   "execution_count": null,
   "metadata": {},
   "outputs": [],
   "source": [
    "#=================================================-\n",
    "#### Slide 41: Visualize data for different periods: line graph  ####\n",
    "\n",
    "# Label the start and end of the date range to extract.\n",
    "start, end = '1998-12', '2001-01'\n",
    "\n",
    "# Plot monthly and quarterly resampled time series together.\n",
    "fig, ax = plt.subplots(figsize = (16, 10))\n",
    "ax.plot(passenger_miles['revenue_passenger_miles'].loc[start:end, ],\n",
    "marker = '.',\n",
    "linestyle = '-',\n",
    "linewidth = 0.5,\n",
    "label = 'Monthly value')\n",
    "ax.plot(revenue_miles_quarterly_mean.loc[start:end, ],\n",
    "marker = 'o',\n",
    "markersize = 5,\n",
    "linestyle = '-',\n",
    "label = 'Quarterly mean')\n",
    "ax.plot(revenue_miles_seasonal_mean.loc[start:end, ],\n",
    "marker = 'o',\n",
    "markersize = 5,\n",
    "linestyle = '--',\n",
    "label = 'Seasonal mean')\n",
    "ax.set_ylabel(\"Passenger miles (billions)\", fontsize = 18)\n",
    "ax.set_xlabel('Date', fontsize = 18)\n",
    "ax.set_title('Revenue passenger miles', fontsize = 20)\n",
    "ax.legend()\n",
    "plt.show()\n",
    "\n"
   ]
  },
  {
   "cell_type": "code",
   "execution_count": null,
   "metadata": {},
   "outputs": [],
   "source": [
    "#=================================================-\n",
    "#### Slide 45: Exercise 2  ####\n",
    "\n",
    "\n",
    "\n"
   ]
  },
  {
   "cell_type": "code",
   "execution_count": null,
   "metadata": {},
   "outputs": [],
   "source": [
    "#=================================================-\n",
    "#### Slide 69: Seasonal decomposition: passenger miles data  ####\n",
    "\n",
    "# Decompose revenue passenger miles into its deterministic components.\n",
    "res = seasonal_decompose(passenger_miles['revenue_passenger_miles'])\n",
    "print(res)\n",
    "\n"
   ]
  },
  {
   "cell_type": "code",
   "execution_count": null,
   "metadata": {},
   "outputs": [],
   "source": [
    "#=================================================-\n",
    "#### Slide 70: Seasonal decomposition: visualize components  ####\n",
    "\n",
    "res.plot()\n",
    "plt.show()\n",
    "\n"
   ]
  },
  {
   "cell_type": "code",
   "execution_count": null,
   "metadata": {},
   "outputs": [],
   "source": [
    "#=================================================-\n",
    "#### Slide 71: Seasonal decomposition: get trend component  ####\n",
    "\n",
    "# Extract just the trend component.\n",
    "trend = res.trend\n",
    "print(trend.head(5))\n",
    "# Plot just the trend component.\n",
    "plt.subplots(figsize=(10,7))\n",
    "trend.plot()\n",
    "plt.show()\n",
    "\n"
   ]
  },
  {
   "cell_type": "code",
   "execution_count": null,
   "metadata": {},
   "outputs": [],
   "source": [
    "#=================================================-\n",
    "#### Slide 72: Seasonal decomposition: get detrended series  ####\n",
    "\n",
    "# Create detrended series by subtracting\n",
    "# the trend component from the main series.\n",
    "detrended = passenger_miles['revenue_passenger_miles'] - trend\n",
    "print(detrended.head(5))\n",
    "# Plot detrended series.\n",
    "plt.subplots(figsize = (10, 7))\n",
    "detrended.plot()\n",
    "plt.show()\n",
    "\n"
   ]
  },
  {
   "cell_type": "code",
   "execution_count": null,
   "metadata": {},
   "outputs": [],
   "source": [
    "#=================================================-\n",
    "#### Slide 73: Seasonal decomposition: get seasonal component  ####\n",
    "\n",
    "# Extract just the seasonal component.\n",
    "seasonal = res.seasonal\n",
    "print(seasonal.head(5))\n",
    "fig, axes = plt.subplots(ncols = 1, nrows = 2,\n",
    "figsize = (10, 7))\n",
    "# Plot the seasonal component.\n",
    "seasonal.plot(ax = axes[0])\n",
    "# Plot the seasonal component (zoomed in).\n",
    "seasonal.loc['1979':'1980'].plot(ax = axes[1])\n",
    "plt.show()\n",
    "\n"
   ]
  },
  {
   "cell_type": "code",
   "execution_count": null,
   "metadata": {},
   "outputs": [],
   "source": [
    "#=================================================-\n",
    "#### Slide 74: Seasonal decomposition: deseasonalized series  ####\n",
    "\n",
    "# Create deseasonalized series by subtracting\n",
    "# the seasonal component from the main series.\n",
    "deseasonalized = passenger_miles['revenue_passenger_miles'] - seasonal\n",
    "print(deseasonalized.head(20))\n",
    "# Plot deseasonalized series.\n",
    "plt.subplots(figsize = (10, 7))\n",
    "deseasonalized.plot()\n",
    "plt.show()\n",
    "\n"
   ]
  },
  {
   "cell_type": "code",
   "execution_count": null,
   "metadata": {},
   "outputs": [],
   "source": [
    "#=================================================-\n",
    "#### Slide 75: Seasonal decomposition: get residual component  ####\n",
    "\n",
    "# Extract just the residuals.\n",
    "residuals = res.resid\n",
    "print(residuals.head(20))\n",
    "# Plot just the residuals.\n",
    "plt.subplots(figsize = (10, 7))\n",
    "residuals.plot()\n",
    "plt.show()\n",
    "\n"
   ]
  }
 ],
 "metadata": {
  "kernelspec": {
   "display_name": "Python 3",
   "language": "python",
   "name": "python3"
  },
  "language": "python",
  "language_info": {
   "codemirror_mode": {
    "name": "ipython",
    "version": 3
   },
   "file_extension": ".py",
   "mimetype": "text/x-python",
   "name": "python",
   "nbconvert_exporter": "python",
   "pygments_lexer": "ipython3",
   "version": "3.6.8"
  }
 },
 "nbformat": 4,
 "nbformat_minor": 2
}
