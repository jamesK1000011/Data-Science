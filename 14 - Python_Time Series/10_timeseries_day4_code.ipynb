{
 "cells": [
  {
   "cell_type": "code",
   "execution_count": null,
   "metadata": {},
   "outputs": [],
   "source": [
    "\n",
    "#######################################################\n",
    "#######################################################\n",
    "############    COPYRIGHT - DATA SOCIETY   ############\n",
    "#######################################################\n",
    "#######################################################\n",
    "\n",
    "## 10 TIMESERIES DAY4 ##\n",
    "\n",
    "## NOTE: To run individual pieces of code, select the line of code and\n",
    "##       press ctrl + enter for PCs or command + enter for Macs\n",
    "\n"
   ]
  },
  {
   "cell_type": "code",
   "execution_count": null,
   "metadata": {},
   "outputs": [],
   "source": [
    "#=================================================-\n",
    "#### Slide 9: Import packages  ####\n",
    "\n",
    "import os\n",
    "import pandas as pd\n",
    "from pandas.plotting import lag_plot\n",
    "import numpy as np\n",
    "import pickle\n",
    "import matplotlib.pyplot as plt\n",
    "import matplotlib.dates as mdates\n",
    "from statsmodels.tsa.stattools import acf\n",
    "from statsmodels.tsa.stattools import adfuller\n",
    "from statsmodels.tsa.seasonal import seasonal_decompose\n",
    "from statsmodels.graphics.tsaplots import plot_acf, plot_pacf\n",
    "from statsmodels.tsa.arima_model import ARIMA\n",
    "from sklearn.metrics import mean_squared_error\n",
    "from math import sqrt\n",
    "\n"
   ]
  },
  {
   "cell_type": "code",
   "execution_count": null,
   "metadata": {},
   "outputs": [],
   "source": [
    "#=================================================-\n",
    "#### Slide 10: Directory settings  ####\n",
    "\n",
    "# Set `main_dir` to the location of your `af-werx` folder (for Linux).\n",
    "main_dir = \"/home/[username]/Desktop/af-werx\"\n",
    "# Set `main_dir` to the location of your `af-werx` folder (for Mac).\n",
    "main_dir = '/Users/[username]/Desktop/af-werx'\n",
    "# Set `main_dir` to the location of your `af-werx` folder (for Windows).\n",
    "main_dir = \"C:\\\\Users\\\\[username]\\\\Desktop\\\\af-werx\"\n",
    "# Make `data_dir` from the `main_dir` and\n",
    "# remainder of the path to data directory.\n",
    "data_dir = main_dir + \"/data\"\n",
    "\n",
    "\n"
   ]
  },
  {
   "cell_type": "code",
   "execution_count": null,
   "metadata": {},
   "outputs": [],
   "source": [
    "#=================================================-\n",
    "#### Slide 11: Working directory  ####\n",
    "\n",
    "# Set working directory.\n",
    "os.chdir(data_dir)\n",
    "# Check working directory.\n",
    "print(os.getcwd())\n",
    "\n"
   ]
  },
  {
   "cell_type": "code",
   "execution_count": null,
   "metadata": {},
   "outputs": [],
   "source": [
    "#=================================================-\n",
    "#### Slide 12: Load passenger miles dataset  ####\n",
    "\n",
    "# Read pickle file into `passenger_miles` variable.\n",
    "passenger_miles = pickle.load(open((data_dir + \"/passenger_miles.sav\"),\"rb\"))\n",
    "print(passenger_miles.head())\n",
    "\n",
    "\n"
   ]
  },
  {
   "cell_type": "code",
   "execution_count": null,
   "metadata": {},
   "outputs": [],
   "source": [
    "#=================================================-\n",
    "#### Slide 13: Recap: stationarity test  ####\n",
    "\n",
    "# Perform ADF test on original series.\n",
    "result_pm = adfuller(passenger_miles['revenue_passenger_miles'])\n",
    "\n",
    "print('ADF Statistic: %f' % result_pm[0])\n",
    "print('p-value: %f' % result_pm[1])\n",
    "print('Critical Values:')\n",
    "for key, value in result_pm[4].items():\n",
    "    print('\\t%s: %.3f' % (key, value))\n",
    "\n"
   ]
  },
  {
   "cell_type": "code",
   "execution_count": null,
   "metadata": {},
   "outputs": [],
   "source": [
    "#=================================================-\n",
    "#### Slide 14: Test deseasonalized series for stationarity  ####\n",
    "\n",
    "# Decompose revenue passenger miles into its components.\n",
    "res = seasonal_decompose(passenger_miles['revenue_passenger_miles'])\n",
    "\n",
    "# Deseasonalized series (Y_t - S_t = T_t + e_t).\n",
    "deseasonalized = passenger_miles['revenue_passenger_miles'] - res.seasonal\n",
    "\n",
    "\n"
   ]
  },
  {
   "cell_type": "code",
   "execution_count": null,
   "metadata": {},
   "outputs": [],
   "source": [
    "#=================================================-\n",
    "#### Slide 15: Test deseasonalized series for stationarity  ####\n",
    "\n",
    "# Perform ADF test on Y_t - T_t - S_t series.\n",
    "result_pm_deseason = adfuller(deseasonalized)\n",
    "\n",
    "print('ADF Statistic: %f' % result_pm_deseason[0])\n",
    "print('p-value: %f' % result_pm_deseason[1])\n",
    "print('Critical Values:')\n",
    "for key, value in result_pm_deseason[4].items():\n",
    "    print('\\t%s: %.3f' % (key, value))\n",
    "\n"
   ]
  },
  {
   "cell_type": "code",
   "execution_count": null,
   "metadata": {},
   "outputs": [],
   "source": [
    "#=================================================-\n",
    "#### Slide 16: Test decomposed series for stationarity  ####\n",
    "\n",
    "print(res.resid.head(10))\n",
    "\n"
   ]
  },
  {
   "cell_type": "code",
   "execution_count": null,
   "metadata": {},
   "outputs": [],
   "source": [
    "#=================================================-\n",
    "#### Slide 17: Test decomposed series for stationarity  ####\n",
    "\n",
    "# Remove NaN values\n",
    "# (the test won't work otherwise).\n",
    "residuals = res.resid[~ np.isnan(res.resid)]\n",
    "print(residuals.head(10))\n",
    "# Perform ADF test on Y_t - T_t - S_t series.\n",
    "result_pm_resid = adfuller(residuals)\n",
    "\n",
    "print('ADF Statistic: %f' % result_pm_resid[0])\n",
    "print('p-value: %f' % result_pm_resid[1])\n",
    "print('Critical Values:')\n",
    "for key, value in result_pm_resid[4].items():\n",
    "    print('\\t%s: %.3f' % (key, value))\n",
    "\n"
   ]
  },
  {
   "cell_type": "code",
   "execution_count": null,
   "metadata": {},
   "outputs": [],
   "source": [
    "#=================================================-\n",
    "#### Slide 23: Exercise 1  ####\n",
    "\n",
    "\n",
    "\n"
   ]
  },
  {
   "cell_type": "code",
   "execution_count": null,
   "metadata": {},
   "outputs": [],
   "source": [
    "#=================================================-\n",
    "#### Slide 59: Plot ACF vs PACF  ####\n",
    "\n",
    "# Take difference.\n",
    "diff = list()\n",
    "for i in range(1, len(deseasonalized)):\n",
    "    value = deseasonalized[i] - deseasonalized[i - 1]\n",
    "    diff.append(value)\n",
    "\n",
    "# Convert to series with DatetimeIndex.\n",
    "deseasonalized_diff = pd.Series(diff, index = deseasonalized.index[1:])\n",
    "print(deseasonalized_diff.head(3))\n",
    "\n"
   ]
  },
  {
   "cell_type": "code",
   "execution_count": null,
   "metadata": {},
   "outputs": [],
   "source": [
    "#=================================================-\n",
    "#### Slide 64: Exercise 2  ####\n",
    "\n",
    "\n",
    "\n"
   ]
  },
  {
   "cell_type": "code",
   "execution_count": null,
   "metadata": {},
   "outputs": [],
   "source": [
    "#=================================================-\n",
    "#### Slide 67: Constructing ARIMA model: set up model  ####\n",
    "\n",
    "# Fit ARIMA model.\n",
    "arima = ARIMA(deseasonalized,\n",
    "order = (12, 1, 0)) #<- add p, d, q components here\n",
    "print(arima)\n",
    "\n"
   ]
  },
  {
   "cell_type": "code",
   "execution_count": null,
   "metadata": {},
   "outputs": [],
   "source": [
    "#=================================================-\n",
    "#### Slide 68: Constructing ARIMA model: fit model  ####\n",
    "\n",
    "# Fit model and set `disp` to 0 to avoid\n",
    "# model debugging info print in console.\n",
    "arima_fit = arima.fit(disp = 0)\n",
    "print(arima_fit.summary().tables[0])\n",
    "\n"
   ]
  },
  {
   "cell_type": "code",
   "execution_count": null,
   "metadata": {},
   "outputs": [],
   "source": [
    "#=================================================-\n",
    "#### Slide 69: Constructing ARIMA model: results (cont'd)  ####\n",
    "\n",
    "print(arima_fit.summary().tables[1])\n",
    "\n"
   ]
  },
  {
   "cell_type": "code",
   "execution_count": null,
   "metadata": {},
   "outputs": [],
   "source": [
    "#=================================================-\n",
    "#### Slide 70: Constructing ARIMA model: results (cont'd)  ####\n",
    "\n",
    "print(arima_fit.summary().tables[2])\n",
    "\n"
   ]
  },
  {
   "cell_type": "code",
   "execution_count": null,
   "metadata": {},
   "outputs": [],
   "source": [
    "#=================================================-\n",
    "#### Slide 71: Constructing ARIMA model: check residuals  ####\n",
    "\n",
    "# Plot residuals.\n",
    "residuals = pd.DataFrame(arima_fit.resid)\n",
    "print(residuals.describe())\n",
    "fig, axes = plt.subplots(nrows = 2,\n",
    "ncols = 1,\n",
    "figsize = (7,7))\n",
    "residuals.plot(ax = axes[0])\n",
    "residuals.plot(ax = axes[1], kind='kde')\n",
    "plt.show()\n",
    "\n"
   ]
  },
  {
   "cell_type": "code",
   "execution_count": null,
   "metadata": {},
   "outputs": [],
   "source": [
    "#=================================================-\n",
    "#### Slide 72: Constructing ARIMA model: residuals (cont'd)  ####\n",
    "\n",
    "fig, axes = plt.subplots(nrows = 2,\n",
    "ncols = 1,\n",
    "figsize = (8,8))\n",
    "plot_acf(residuals, ax = axes[0])\n",
    "plot_pacf(residuals, ax = axes[1])\n",
    "plt.show()\n",
    "\n"
   ]
  },
  {
   "cell_type": "code",
   "execution_count": null,
   "metadata": {},
   "outputs": [],
   "source": [
    "#=================================================-\n",
    "#### Slide 73: Forecasting using ARIMA model: prep data  ####\n",
    "\n",
    "# Set a cutoff point for train-test.\n",
    "cutoff = int(len(deseasonalized) * 0.90)\n",
    "# Split data into train and test.\n",
    "train, test = deseasonalized[0:cutoff], deseasonalized[cutoff:len(deseasonalized)]\n",
    "\n",
    "\n"
   ]
  },
  {
   "cell_type": "code",
   "execution_count": null,
   "metadata": {},
   "outputs": [],
   "source": [
    "#=================================================-\n",
    "#### Slide 75: Forecasting using ARIMA model (cont'd)  ####\n",
    "\n",
    "# Set up ARIMA model using train data only.\n",
    "arima = ARIMA(train, order = (12, 1, 0))\n",
    "# Fit ARIMA model to train data only.\n",
    "arima_fit = arima.fit(disp = 0)\n",
    "# Generate ARIMA model forecast.\n",
    "output = arima_fit.forecast(steps = len(test))\n",
    "# Get predictions from forecast output.\n",
    "predictions = output[0]\n",
    "\n",
    "\n"
   ]
  },
  {
   "cell_type": "code",
   "execution_count": null,
   "metadata": {},
   "outputs": [],
   "source": [
    "#=================================================-\n",
    "#### Slide 76: Forecasting using ARIMA model (cont'd)  ####\n",
    "\n",
    "# Compare the raw `DatetimeIndex`.\n",
    "print(test.index[0])\n",
    "\n",
    "# With formatted `DatetimeIndex`.\n",
    "print(test.index[0].strftime(\"%Y-%m\"))\n",
    "\n",
    "\n"
   ]
  },
  {
   "cell_type": "code",
   "execution_count": null,
   "metadata": {},
   "outputs": [],
   "source": [
    "#=================================================-\n",
    "#### Slide 77: Forecasting using ARIMA model (cont'd)  ####\n",
    "\n",
    "# Show mean squared error.\n",
    "error = mean_squared_error(test, predictions)\n",
    "print('Test MSE: %.3f' % error)\n",
    "\n",
    "# Show RMSE (i.e. metric in the same units as our data).\n",
    "print('RMSE: %.3f' % sqrt(error))\n",
    "\n"
   ]
  },
  {
   "cell_type": "code",
   "execution_count": null,
   "metadata": {},
   "outputs": [],
   "source": [
    "#=================================================-\n",
    "#### Slide 78: View results: actual vs forecast  ####\n",
    "\n",
    "# Convert predictions list into series with DatetimeIndex.\n",
    "revenue_miles_forecast = pd.Series(predictions, index = test.index)\n",
    "# Plot actual vs forecast values.\n",
    "fig, ax = plt.subplots(figsize = (15, 6))\n",
    "ax.plot(test,\n",
    "marker = 'o',\n",
    "linestyle = '-',\n",
    "linewidth = 1.5,\n",
    "label = 'Actual value')\n",
    "ax.plot(revenue_miles_forecast,\n",
    "marker = 'o',\n",
    "markersize = 5,\n",
    "linewidth = 2.5,\n",
    "linestyle = '-',\n",
    "label = 'Forecast value')\n",
    "ax.set_xlabel('Date', fontsize = 18)\n",
    "ax.set_title(\"Actual vs forecast values for ARIMA(12, 1, 0)\", fontsize = 20)\n",
    "ax.legend()\n",
    "plt.show()\n",
    "\n"
   ]
  },
  {
   "cell_type": "code",
   "execution_count": null,
   "metadata": {},
   "outputs": [],
   "source": [
    "#=================================================-\n",
    "#### Slide 81: View results: the big picture  ####\n",
    "\n",
    "plt.close(fig=\"all\") #<- closes all previous plots and figures\n",
    "# Plot actual vs forecast values.\n",
    "fig, ax = plt.subplots(figsize = (15, 6))\n",
    "ax.plot(train,\n",
    "marker = 'o',\n",
    "linestyle = '-',\n",
    "linewidth = 1.5,\n",
    "label = 'Train')\n",
    "arima_fit.plot_predict('2000-01', '2002-04', #<- date range for forecast values\n",
    "ax = ax,\n",
    "plot_insample = False)#<- forecast is done for out of sample values\n",
    "ax.plot(test,\n",
    "marker = '.',\n",
    "linestyle = '-',\n",
    "label = 'Test (actual value)')\n",
    "ax.set_xlabel('Date', fontsize = 18)\n",
    "ax.set_title(\"Actual vs forecast values for ARIMA(12, 1, 0)\", fontsize = 20)\n",
    "ax.legend()\n",
    "plt.show()\n",
    "\n"
   ]
  }
 ],
 "metadata": {
  "kernelspec": {
   "display_name": "Python 3",
   "language": "python",
   "name": "python3"
  },
  "language": "python",
  "language_info": {
   "codemirror_mode": {
    "name": "ipython",
    "version": 3
   },
   "file_extension": ".py",
   "mimetype": "text/x-python",
   "name": "python",
   "nbconvert_exporter": "python",
   "pygments_lexer": "ipython3",
   "version": "3.6.8"
  }
 },
 "nbformat": 4,
 "nbformat_minor": 2
}
