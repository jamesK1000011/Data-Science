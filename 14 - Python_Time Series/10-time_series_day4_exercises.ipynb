{
 "cells": [
  {
   "cell_type": "markdown",
   "metadata": {},
   "source": [
    "# Time series day 4 - Exercises"
   ]
  },
  {
   "cell_type": "markdown",
   "metadata": {},
   "source": [
    "## Exercise 1"
   ]
  },
  {
   "cell_type": "markdown",
   "metadata": {},
   "source": [
    "#### Question 1\n",
    "##### Import the libraries we will be using for the day.\n",
    "##### Set the working directory as the data directory."
   ]
  },
  {
   "cell_type": "markdown",
   "metadata": {},
   "source": [
    "#### Question 2\n",
    "##### Load the `passenger_miles.sav` pickle to dataframe `passenger_miles_df`.\n",
    "##### View the head of the data."
   ]
  },
  {
   "cell_type": "markdown",
   "metadata": {},
   "source": [
    "#### Question 3\n",
    "##### Plot available seat miles (make a line plot as we did in our previous modules).\n",
    "##### Perform `ADF` test on available seat miles, save result as `result_as_ex` variable and determine whether the series is stationary. \n"
   ]
  },
  {
   "cell_type": "markdown",
   "metadata": {},
   "source": [
    "#### Question 4\n",
    "##### Decompose `available_seat_miles` into its seasonal components using the additive model (as we did on Day 3), save result as `res_ex` variable.\n",
    "##### Extract the deseasonalized series and save it to `deseasonalized_ex` variable.\n",
    "##### Perform `ADF` test on deseasonalized series and determine whether the deseasonalized series is stationary. Save result of the test to `result_as_deseason_ex` variable."
   ]
  },
  {
   "cell_type": "markdown",
   "metadata": {},
   "source": [
    "#### Question 5\n",
    "##### Extract residuals from decomposed object, remove all `NaN` values, and save them to `residuals_ex` variable.\n",
    "##### Print the first 20 values to make sure the `NaN`s are gone.\n",
    "##### Perform `ADF` test on the residuals save results to `result_as_resid_ex` and view them. Are the series stationary?"
   ]
  },
  {
   "cell_type": "markdown",
   "metadata": {},
   "source": [
    "## Exercise 2"
   ]
  },
  {
   "cell_type": "markdown",
   "metadata": {},
   "source": [
    "#### Question 1\n",
    "##### Take first difference of the `deseasonalized_ex` and save it to `diff_ex` list.\n",
    "##### Convert it to a `pandas` `Series` and set the index to be the same as the `deseasonalized_ex` less the first observation. \n",
    "##### Save the resulting series to `deseasonalized_diff_ex` variable. \n",
    "##### Print the head of the resulting series to check the result."
   ]
  },
  {
   "cell_type": "markdown",
   "metadata": {},
   "source": [
    "#### Question 2\n",
    "##### Plot `ACF` and `PACF` against each other for the deseasonalized differenced series.\n",
    "##### Plot the `ACF` and the `PACF` of the **original** series.\n",
    "##### Interpret the results: do you see any patterns indicative of an $AR$ or $MA$ signature? Is there a need to add any $AR$ or $MA$ components?\n",
    "##### If there is no need to add any $AR$ or $MA$ components to the differenced series, what type of ARIMA model would that be?\n",
    "##### If you see some specific patterns in the **original** series, then maybe the series doesn't need the $d$ component, but instead it can benefit from several $AR$ components."
   ]
  },
  {
   "cell_type": "markdown",
   "metadata": {},
   "source": [
    "## Exercise 3"
   ]
  },
  {
   "cell_type": "markdown",
   "metadata": {},
   "source": [
    "#### Question 1\n",
    "##### Fit an ARIMA model you have decided on to the `deaseasonalized_ex`. Save your model to `arima_ex` variable and the model result to `arima_fit_ex`.\n",
    "##### Take a look at the three tables of model summary.\n",
    "##### Comment on each of the tables."
   ]
  },
  {
   "cell_type": "markdown",
   "metadata": {},
   "source": [
    "#### Question 2\n",
    "##### Extract ARIMA model residuals and save them to `residuals_ex` variable.\n",
    "##### Take a look at the residuals distribution (Hint: use `describe()` function).\n",
    "##### Plot the residuals and the residuals density plot against each other. \n",
    "##### By looking at the mean, standard deviation and distribution shape of the residuals, can you tell that the model meets assumptions?"
   ]
  },
  {
   "cell_type": "markdown",
   "metadata": {},
   "source": [
    "#### Question 3\n",
    "##### Plot the `ACF` and the `PACF` of the residuals.\n",
    "##### Is there remaining autocorrelation or partial autocorrelation not captured by the model?"
   ]
  },
  {
   "cell_type": "markdown",
   "metadata": {},
   "source": [
    "#### Bonus question \n",
    "##### Adjust a model based on your findings and compare performance to the first ARIMA model."
   ]
  },
  {
   "cell_type": "markdown",
   "metadata": {},
   "source": [
    "#### Question 4\n",
    "##### Split `deseasonalized_ex` into `train_ex` and `test_ex`. Use 90-10 split.\n",
    "##### Fit your first ARIMA model (in case you have fit multiple ones) to train data and then forecast on test and save model output to `output_ex`.\n",
    "##### Extract predicted values to `predictions_ex` variable and print the forecast vs actual values to compare.\n",
    "##### What can you tell about the results?"
   ]
  },
  {
   "cell_type": "markdown",
   "metadata": {},
   "source": [
    "#### Question 5\n",
    "##### Compute `MSE` and `RMSE` for the forecast values.\n",
    "##### What can you tell about the `RMSE`?"
   ]
  },
  {
   "cell_type": "markdown",
   "metadata": {},
   "source": [
    "#### Question 6\n",
    "##### Convert `predictions_ex` list into series with `DatetimeIndex` and save it as `available_seat_miles_forecast` variable.\n",
    "##### Plot actual vs forecast values.\n",
    "##### What can you say about the forecast values? Why do you think the forecast values look like that? (Hint: think simple linear (auto)regression!)"
   ]
  },
  {
   "cell_type": "markdown",
   "metadata": {},
   "source": [
    "#### Question 7\n",
    "##### Create a plot which incorporates the following:\n",
    "- The training data saved in `train_ex`\n",
    "- The predicted values with 95% confidence intervals\n",
    "- The actual test values saved in `text_ex`\n",
    "##### What can you tell about the drop in the actual values vs the confidence interval bounds? How do predicted available seat miles compare to revenue passenger miles?"
   ]
  },
  {
   "cell_type": "markdown",
   "metadata": {},
   "source": [
    "#### Bonus question \n",
    "##### Add seasonal component back to predicted values and plot train, test and predicted values together."
   ]
  }
 ],
 "metadata": {
  "kernelspec": {
   "display_name": "Python 3",
   "language": "python",
   "name": "python3"
  },
  "language_info": {
   "codemirror_mode": {
    "name": "ipython",
    "version": 3
   },
   "file_extension": ".py",
   "mimetype": "text/x-python",
   "name": "python",
   "nbconvert_exporter": "python",
   "pygments_lexer": "ipython3",
   "version": "3.6.8"
  }
 },
 "nbformat": 4,
 "nbformat_minor": 4
}
