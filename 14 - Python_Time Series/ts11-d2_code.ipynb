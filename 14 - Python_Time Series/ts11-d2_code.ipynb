{
 "cells": [
  {
   "cell_type": "code",
   "execution_count": 1,
   "metadata": {},
   "outputs": [],
   "source": [
    "\n",
    "#######################################################\n",
    "#######################################################\n",
    "############    COPYRIGHT - DATA SOCIETY   ############\n",
    "#######################################################\n",
    "#######################################################\n",
    "\n",
    "## TIMESERIES DAY2 ##\n",
    "\n",
    "## NOTE: To run individual pieces of code, select the line of code and\n",
    "##       press ctrl + enter for PCs or command + enter for Macs\n",
    "\n"
   ]
  },
  {
   "cell_type": "code",
   "execution_count": 23,
   "metadata": {},
   "outputs": [],
   "source": [
    "#=================================================-\n",
    "#### Slide 2: Loading packages  ####\n",
    "\n",
    "import os\n",
    "import pickle\n",
    "import pandas as pd\n",
    "import numpy as np\n",
    "import matplotlib as mpl\n",
    "import matplotlib.pyplot as plt\n",
    "import seaborn as sns\n",
    "from statsmodels.tsa.stattools import adfuller\n",
    "from random import gauss\n",
    "from random import seed\n",
    "from random import random\n",
    "from pandas import Series\n",
    "from sklearn.metrics import mean_squared_error\n",
    "from math import sqrt\n",
    "from statsmodels.graphics.tsaplots import plot_acf\n",
    "from statsmodels.stats.diagnostic import acorr_ljungbox\n",
    "\n",
    "\n"
   ]
  },
  {
   "cell_type": "code",
   "execution_count": 2,
   "metadata": {},
   "outputs": [
    {
     "name": "stdout",
     "output_type": "stream",
     "text": [
      "/Users/datasociety/Desktop/af-werx/data\n"
     ]
    }
   ],
   "source": [
    "#=================================================-\n",
    "#### Slide 23: Directory settings  ####\n",
    "# set the \"notebook root\"\n",
    "nb_root=globals()['_dh']\n",
    "os.chdir(nb_root[0])\n",
    "\n",
    "main_dir = os.path.abspath(os.path.join (\"..\",))\n",
    "\n",
    "# Make `data_dir` and 'path_dir' from the `main_dir` and\n",
    "data_dir = os.path.join(main_dir, \"data\")\n",
    "plot_dir = os.path.join(main_dir, \"plot\")\n",
    "\n",
    "# Set working directory.\n",
    "os.chdir(data_dir)\n",
    "# Check working directory.\n",
    "print(os.getcwd())\n"
   ]
  },
  {
   "cell_type": "code",
   "execution_count": 4,
   "metadata": {},
   "outputs": [
    {
     "data": {
      "text/html": [
       "<div>\n",
       "<style scoped>\n",
       "    .dataframe tbody tr th:only-of-type {\n",
       "        vertical-align: middle;\n",
       "    }\n",
       "\n",
       "    .dataframe tbody tr th {\n",
       "        vertical-align: top;\n",
       "    }\n",
       "\n",
       "    .dataframe thead th {\n",
       "        text-align: right;\n",
       "    }\n",
       "</style>\n",
       "<table border=\"1\" class=\"dataframe\">\n",
       "  <thead>\n",
       "    <tr style=\"text-align: right;\">\n",
       "      <th></th>\n",
       "      <th>revenue_passenger_miles</th>\n",
       "      <th>available_seat_miles</th>\n",
       "      <th>unused_seat_miles</th>\n",
       "    </tr>\n",
       "    <tr>\n",
       "      <th>date</th>\n",
       "      <th></th>\n",
       "      <th></th>\n",
       "      <th></th>\n",
       "    </tr>\n",
       "  </thead>\n",
       "  <tbody>\n",
       "    <tr>\n",
       "      <th>1979-01-01</th>\n",
       "      <td>15.50</td>\n",
       "      <td>26.64</td>\n",
       "      <td>11.15</td>\n",
       "    </tr>\n",
       "    <tr>\n",
       "      <th>1979-02-01</th>\n",
       "      <td>16.58</td>\n",
       "      <td>27.20</td>\n",
       "      <td>10.62</td>\n",
       "    </tr>\n",
       "    <tr>\n",
       "      <th>1979-03-01</th>\n",
       "      <td>18.85</td>\n",
       "      <td>27.87</td>\n",
       "      <td>9.02</td>\n",
       "    </tr>\n",
       "    <tr>\n",
       "      <th>1979-04-01</th>\n",
       "      <td>17.23</td>\n",
       "      <td>23.22</td>\n",
       "      <td>5.99</td>\n",
       "    </tr>\n",
       "    <tr>\n",
       "      <th>1979-05-01</th>\n",
       "      <td>16.04</td>\n",
       "      <td>23.27</td>\n",
       "      <td>7.23</td>\n",
       "    </tr>\n",
       "  </tbody>\n",
       "</table>\n",
       "</div>"
      ],
      "text/plain": [
       "            revenue_passenger_miles  available_seat_miles  unused_seat_miles\n",
       "date                                                                        \n",
       "1979-01-01                    15.50                 26.64              11.15\n",
       "1979-02-01                    16.58                 27.20              10.62\n",
       "1979-03-01                    18.85                 27.87               9.02\n",
       "1979-04-01                    17.23                 23.22               5.99\n",
       "1979-05-01                    16.04                 23.27               7.23"
      ]
     },
     "execution_count": 4,
     "metadata": {},
     "output_type": "execute_result"
    }
   ],
   "source": [
    "#=================================================-\n",
    "#### Slide 4: Load the dataset  ####\n",
    "\n",
    "passenger_miles = pickle.load(open(\"passenger_miles.sav\",\"rb\"))\n",
    "passenger_miles.head()\n",
    "\n"
   ]
  },
  {
   "cell_type": "code",
   "execution_count": 5,
   "metadata": {},
   "outputs": [
    {
     "name": "stdout",
     "output_type": "stream",
     "text": [
      "<class 'pandas.core.frame.DataFrame'>\n",
      "DatetimeIndex: 280 entries, 1979-01-01 to 2002-04-01\n",
      "Data columns (total 3 columns):\n",
      "revenue_passenger_miles    280 non-null float64\n",
      "available_seat_miles       280 non-null float64\n",
      "unused_seat_miles          280 non-null float64\n",
      "dtypes: float64(3)\n",
      "memory usage: 8.8 KB\n"
     ]
    },
    {
     "data": {
      "text/plain": [
       "(280, 3)"
      ]
     },
     "execution_count": 5,
     "metadata": {},
     "output_type": "execute_result"
    }
   ],
   "source": [
    "#=================================================-\n",
    "#### Slide 6: Understand the data  ####\n",
    "\n",
    "# Dataframe information.\n",
    "passenger_miles.info()\n",
    "# Shape of the data\n",
    "passenger_miles.shape\n",
    "\n"
   ]
  },
  {
   "cell_type": "code",
   "execution_count": 6,
   "metadata": {},
   "outputs": [
    {
     "data": {
      "text/html": [
       "<div>\n",
       "<style scoped>\n",
       "    .dataframe tbody tr th:only-of-type {\n",
       "        vertical-align: middle;\n",
       "    }\n",
       "\n",
       "    .dataframe tbody tr th {\n",
       "        vertical-align: top;\n",
       "    }\n",
       "\n",
       "    .dataframe thead th {\n",
       "        text-align: right;\n",
       "    }\n",
       "</style>\n",
       "<table border=\"1\" class=\"dataframe\">\n",
       "  <thead>\n",
       "    <tr style=\"text-align: right;\">\n",
       "      <th></th>\n",
       "      <th>revenue_passenger_miles</th>\n",
       "      <th>available_seat_miles</th>\n",
       "      <th>unused_seat_miles</th>\n",
       "    </tr>\n",
       "    <tr>\n",
       "      <th>date</th>\n",
       "      <th></th>\n",
       "      <th></th>\n",
       "      <th></th>\n",
       "    </tr>\n",
       "  </thead>\n",
       "  <tbody>\n",
       "    <tr>\n",
       "      <th>2002-02-01</th>\n",
       "      <td>36.01</td>\n",
       "      <td>53.40</td>\n",
       "      <td>17.39</td>\n",
       "    </tr>\n",
       "    <tr>\n",
       "      <th>2002-03-01</th>\n",
       "      <td>41.21</td>\n",
       "      <td>54.85</td>\n",
       "      <td>13.64</td>\n",
       "    </tr>\n",
       "    <tr>\n",
       "      <th>2002-04-01</th>\n",
       "      <td>39.50</td>\n",
       "      <td>55.54</td>\n",
       "      <td>16.04</td>\n",
       "    </tr>\n",
       "  </tbody>\n",
       "</table>\n",
       "</div>"
      ],
      "text/plain": [
       "            revenue_passenger_miles  available_seat_miles  unused_seat_miles\n",
       "date                                                                        \n",
       "2002-02-01                    36.01                 53.40              17.39\n",
       "2002-03-01                    41.21                 54.85              13.64\n",
       "2002-04-01                    39.50                 55.54              16.04"
      ]
     },
     "execution_count": 6,
     "metadata": {},
     "output_type": "execute_result"
    }
   ],
   "source": [
    "#=================================================-\n",
    "#### Slide 7: Recap: key features  ####\n",
    "\n",
    "passenger_miles.head(4)\n",
    "\n"
   ]
  },
  {
   "cell_type": "code",
   "execution_count": 7,
   "metadata": {},
   "outputs": [
    {
     "data": {
      "text/html": [
       "<div>\n",
       "<style scoped>\n",
       "    .dataframe tbody tr th:only-of-type {\n",
       "        vertical-align: middle;\n",
       "    }\n",
       "\n",
       "    .dataframe tbody tr th {\n",
       "        vertical-align: top;\n",
       "    }\n",
       "\n",
       "    .dataframe thead th {\n",
       "        text-align: right;\n",
       "    }\n",
       "</style>\n",
       "<table border=\"1\" class=\"dataframe\">\n",
       "  <thead>\n",
       "    <tr style=\"text-align: right;\">\n",
       "      <th></th>\n",
       "      <th>revenue_passenger_miles</th>\n",
       "      <th>available_seat_miles</th>\n",
       "      <th>unused_seat_miles</th>\n",
       "    </tr>\n",
       "    <tr>\n",
       "      <th>date</th>\n",
       "      <th></th>\n",
       "      <th></th>\n",
       "      <th></th>\n",
       "    </tr>\n",
       "  </thead>\n",
       "  <tbody>\n",
       "    <tr>\n",
       "      <th>2002-01-01</th>\n",
       "      <td>32.79</td>\n",
       "      <td>51.91</td>\n",
       "      <td>19.12</td>\n",
       "    </tr>\n",
       "    <tr>\n",
       "      <th>2002-02-01</th>\n",
       "      <td>36.01</td>\n",
       "      <td>53.40</td>\n",
       "      <td>17.39</td>\n",
       "    </tr>\n",
       "    <tr>\n",
       "      <th>2002-03-01</th>\n",
       "      <td>41.21</td>\n",
       "      <td>54.85</td>\n",
       "      <td>13.64</td>\n",
       "    </tr>\n",
       "    <tr>\n",
       "      <th>2002-04-01</th>\n",
       "      <td>39.50</td>\n",
       "      <td>55.54</td>\n",
       "      <td>16.04</td>\n",
       "    </tr>\n",
       "  </tbody>\n",
       "</table>\n",
       "</div>"
      ],
      "text/plain": [
       "            revenue_passenger_miles  available_seat_miles  unused_seat_miles\n",
       "date                                                                        \n",
       "2002-01-01                    32.79                 51.91              19.12\n",
       "2002-02-01                    36.01                 53.40              17.39\n",
       "2002-03-01                    41.21                 54.85              13.64\n",
       "2002-04-01                    39.50                 55.54              16.04"
      ]
     },
     "execution_count": 7,
     "metadata": {},
     "output_type": "execute_result"
    }
   ],
   "source": [
    "passenger_miles.tail(4)"
   ]
  },
  {
   "cell_type": "code",
   "execution_count": 8,
   "metadata": {},
   "outputs": [
    {
     "data": {
      "text/html": [
       "<div>\n",
       "<style scoped>\n",
       "    .dataframe tbody tr th:only-of-type {\n",
       "        vertical-align: middle;\n",
       "    }\n",
       "\n",
       "    .dataframe tbody tr th {\n",
       "        vertical-align: top;\n",
       "    }\n",
       "\n",
       "    .dataframe thead th {\n",
       "        text-align: right;\n",
       "    }\n",
       "</style>\n",
       "<table border=\"1\" class=\"dataframe\">\n",
       "  <thead>\n",
       "    <tr style=\"text-align: right;\">\n",
       "      <th></th>\n",
       "      <th>revenue_passenger_miles</th>\n",
       "      <th>available_seat_miles</th>\n",
       "      <th>unused_seat_miles</th>\n",
       "    </tr>\n",
       "    <tr>\n",
       "      <th>date</th>\n",
       "      <th></th>\n",
       "      <th></th>\n",
       "      <th></th>\n",
       "    </tr>\n",
       "  </thead>\n",
       "  <tbody>\n",
       "    <tr>\n",
       "      <th>1979-01-01</th>\n",
       "      <td>15.50</td>\n",
       "      <td>26.64</td>\n",
       "      <td>11.15</td>\n",
       "    </tr>\n",
       "    <tr>\n",
       "      <th>1979-02-01</th>\n",
       "      <td>16.58</td>\n",
       "      <td>27.20</td>\n",
       "      <td>10.62</td>\n",
       "    </tr>\n",
       "    <tr>\n",
       "      <th>1979-03-01</th>\n",
       "      <td>18.85</td>\n",
       "      <td>27.87</td>\n",
       "      <td>9.02</td>\n",
       "    </tr>\n",
       "    <tr>\n",
       "      <th>1979-04-01</th>\n",
       "      <td>17.23</td>\n",
       "      <td>23.22</td>\n",
       "      <td>5.99</td>\n",
       "    </tr>\n",
       "    <tr>\n",
       "      <th>1979-05-01</th>\n",
       "      <td>16.04</td>\n",
       "      <td>23.27</td>\n",
       "      <td>7.23</td>\n",
       "    </tr>\n",
       "    <tr>\n",
       "      <th>1979-06-01</th>\n",
       "      <td>19.11</td>\n",
       "      <td>27.30</td>\n",
       "      <td>8.19</td>\n",
       "    </tr>\n",
       "    <tr>\n",
       "      <th>1979-07-01</th>\n",
       "      <td>19.88</td>\n",
       "      <td>29.28</td>\n",
       "      <td>9.40</td>\n",
       "    </tr>\n",
       "    <tr>\n",
       "      <th>1979-08-01</th>\n",
       "      <td>21.47</td>\n",
       "      <td>31.23</td>\n",
       "      <td>9.76</td>\n",
       "    </tr>\n",
       "    <tr>\n",
       "      <th>1979-09-01</th>\n",
       "      <td>16.55</td>\n",
       "      <td>28.55</td>\n",
       "      <td>12.00</td>\n",
       "    </tr>\n",
       "    <tr>\n",
       "      <th>1979-10-01</th>\n",
       "      <td>16.55</td>\n",
       "      <td>27.84</td>\n",
       "      <td>11.28</td>\n",
       "    </tr>\n",
       "    <tr>\n",
       "      <th>1979-11-01</th>\n",
       "      <td>16.42</td>\n",
       "      <td>27.56</td>\n",
       "      <td>11.14</td>\n",
       "    </tr>\n",
       "    <tr>\n",
       "      <th>1979-12-01</th>\n",
       "      <td>16.31</td>\n",
       "      <td>28.87</td>\n",
       "      <td>12.56</td>\n",
       "    </tr>\n",
       "    <tr>\n",
       "      <th>1980-01-01</th>\n",
       "      <td>15.68</td>\n",
       "      <td>28.70</td>\n",
       "      <td>13.02</td>\n",
       "    </tr>\n",
       "    <tr>\n",
       "      <th>1980-02-01</th>\n",
       "      <td>16.07</td>\n",
       "      <td>28.38</td>\n",
       "      <td>12.31</td>\n",
       "    </tr>\n",
       "    <tr>\n",
       "      <th>1980-03-01</th>\n",
       "      <td>17.94</td>\n",
       "      <td>28.66</td>\n",
       "      <td>10.72</td>\n",
       "    </tr>\n",
       "    <tr>\n",
       "      <th>1980-04-01</th>\n",
       "      <td>17.05</td>\n",
       "      <td>28.76</td>\n",
       "      <td>11.71</td>\n",
       "    </tr>\n",
       "    <tr>\n",
       "      <th>1980-05-01</th>\n",
       "      <td>16.15</td>\n",
       "      <td>27.96</td>\n",
       "      <td>11.82</td>\n",
       "    </tr>\n",
       "    <tr>\n",
       "      <th>1980-06-01</th>\n",
       "      <td>18.67</td>\n",
       "      <td>29.92</td>\n",
       "      <td>11.25</td>\n",
       "    </tr>\n",
       "    <tr>\n",
       "      <th>1980-07-01</th>\n",
       "      <td>18.50</td>\n",
       "      <td>30.24</td>\n",
       "      <td>11.74</td>\n",
       "    </tr>\n",
       "    <tr>\n",
       "      <th>1980-08-01</th>\n",
       "      <td>19.60</td>\n",
       "      <td>30.21</td>\n",
       "      <td>10.61</td>\n",
       "    </tr>\n",
       "  </tbody>\n",
       "</table>\n",
       "</div>"
      ],
      "text/plain": [
       "            revenue_passenger_miles  available_seat_miles  unused_seat_miles\n",
       "date                                                                        \n",
       "1979-01-01                    15.50                 26.64              11.15\n",
       "1979-02-01                    16.58                 27.20              10.62\n",
       "1979-03-01                    18.85                 27.87               9.02\n",
       "1979-04-01                    17.23                 23.22               5.99\n",
       "1979-05-01                    16.04                 23.27               7.23\n",
       "1979-06-01                    19.11                 27.30               8.19\n",
       "1979-07-01                    19.88                 29.28               9.40\n",
       "1979-08-01                    21.47                 31.23               9.76\n",
       "1979-09-01                    16.55                 28.55              12.00\n",
       "1979-10-01                    16.55                 27.84              11.28\n",
       "1979-11-01                    16.42                 27.56              11.14\n",
       "1979-12-01                    16.31                 28.87              12.56\n",
       "1980-01-01                    15.68                 28.70              13.02\n",
       "1980-02-01                    16.07                 28.38              12.31\n",
       "1980-03-01                    17.94                 28.66              10.72\n",
       "1980-04-01                    17.05                 28.76              11.71\n",
       "1980-05-01                    16.15                 27.96              11.82\n",
       "1980-06-01                    18.67                 29.92              11.25\n",
       "1980-07-01                    18.50                 30.24              11.74\n",
       "1980-08-01                    19.60                 30.21              10.61"
      ]
     },
     "execution_count": 8,
     "metadata": {},
     "output_type": "execute_result"
    }
   ],
   "source": [
    "#=================================================-\n",
    "#### Slide 8: Recap: key features (cont'd)  ####\n",
    "passenger_miles.head(20)"
   ]
  },
  {
   "cell_type": "code",
   "execution_count": 9,
   "metadata": {},
   "outputs": [
    {
     "data": {
      "image/png": "[encoded data removed]",
      "text/plain": [
       "<Figure size 1152x432 with 1 Axes>"
      ]
     },
     "metadata": {
      "needs_background": "light"
     },
     "output_type": "display_data"
    }
   ],
   "source": [
    "#=================================================-\n",
    "#### Slide 10: Recap: visualize time series  ####\n",
    "\n",
    "fig, ax = plt.subplots(figsize = (16, 6))\n",
    "passenger_miles['revenue_passenger_miles'].plot()\n",
    "plt.title('Revenue passenger miles',\n",
    "          fontsize = 20)\n",
    "plt.xlabel('Date', \n",
    "           fontsize = 18)\n",
    "plt.ylabel('Revenue (billions of miles)', \n",
    "           fontsize = 18)\n",
    "ax.tick_params(labelsize = 14)\n",
    "plt.show()\n",
    "\n"
   ]
  },
  {
   "cell_type": "code",
   "execution_count": 46,
   "metadata": {},
   "outputs": [
    {
     "name": "stdout",
     "output_type": "stream",
     "text": [
      "<class 'list'>\n",
      "0    1.288185\n",
      "1    1.449446\n",
      "2    0.066336\n",
      "3   -0.764544\n",
      "4   -1.092173\n",
      "dtype: float64\n"
     ]
    },
    {
     "data": {
      "text/plain": [
       "pandas.core.series.Series"
      ]
     },
     "execution_count": 46,
     "metadata": {},
     "output_type": "execute_result"
    }
   ],
   "source": [
    "#=================================================-\n",
    "#### Slide 18: Create a white noise series  ####\n",
    "\n",
    "# Seed random number generator.\n",
    "seed(1)\n",
    "# Create white noise series.\n",
    "series = [gauss(0.0, 1.0) for i in range(1000)]\n",
    "print(type(series))\n",
    "series = Series(series)\n",
    "print(series.head())\n",
    "type(series)\n"
   ]
  },
  {
   "cell_type": "code",
   "execution_count": 47,
   "metadata": {},
   "outputs": [
    {
     "name": "stdout",
     "output_type": "stream",
     "text": [
      "count    1000.000000\n",
      "mean       -0.013222\n",
      "std         1.003685\n",
      "min        -2.961214\n",
      "25%        -0.684192\n",
      "50%        -0.010934\n",
      "75%         0.703915\n",
      "max         2.737260\n",
      "dtype: float64\n"
     ]
    }
   ],
   "source": [
    "#=================================================-\n",
    "#### Slide 19: Summary statistics of a white noise series  ####\n",
    "\n",
    "\n",
    "# Summary statistics.\n",
    "print(series.describe())\n",
    "\n"
   ]
  },
  {
   "cell_type": "code",
   "execution_count": 48,
   "metadata": {},
   "outputs": [
    {
     "data": {
      "image/png": "[encoded data removed]",
      "text/plain": [
       "<Figure size 432x288 with 1 Axes>"
      ]
     },
     "metadata": {
      "needs_background": "light"
     },
     "output_type": "display_data"
    }
   ],
   "source": [
    "#=================================================-\n",
    "#### Slide 20: Visualize the white noise series  ####\n",
    "\n",
    "# Let's create a lineplot of the series.\n",
    "series.plot()\n",
    "plt.show()\n",
    "\n"
   ]
  },
  {
   "cell_type": "code",
   "execution_count": 49,
   "metadata": {},
   "outputs": [
    {
     "name": "stdout",
     "output_type": "stream",
     "text": [
      "200\n"
     ]
    },
    {
     "data": {
      "text/plain": [
       "pandas.core.series.Series"
      ]
     },
     "execution_count": 49,
     "metadata": {},
     "output_type": "execute_result"
    }
   ],
   "source": [
    "#=================================================-\n",
    "#### Slide 22: Autocorrelation of white noise series  ####\n",
    "\n",
    "# Let's get a maximum lag based on the rule of thumb.\n",
    "max_k = series.shape[0]//5\n",
    "print(max_k)\n",
    "\n",
    "type(series)"
   ]
  },
  {
   "cell_type": "code",
   "execution_count": 50,
   "metadata": {},
   "outputs": [
    {
     "data": {
      "image/png": "[encoded data removed]",
      "text/plain": [
       "<Figure size 432x288 with 1 Axes>"
      ]
     },
     "metadata": {
      "needs_background": "light"
     },
     "output_type": "display_data"
    }
   ],
   "source": [
    "#=================================================-\n",
    "#### Slide 23: Autocorrelation of white noise series  ####\n",
    "\n",
    "# Autocorrelation.\n",
    "plot_acf(series, lags = max_k) #<- adjust k\n",
    "plt.title('ACF (Gauss Series)', fontsize = 20)\n",
    "plt.xlabel('Lag', fontsize = 18)\n",
    "plt.ylabel('Autocorrelation coefficient', fontsize = 18)\n",
    "ax.tick_params(labelsize = 14)\n",
    "plt.show()\n",
    "\n"
   ]
  },
  {
   "cell_type": "code",
   "execution_count": 51,
   "metadata": {},
   "outputs": [
    {
     "name": "stdout",
     "output_type": "stream",
     "text": [
      "<class 'tuple'>\n",
      "<class 'list'>\n"
     ]
    },
    {
     "data": {
      "text/html": [
       "<div>\n",
       "<style scoped>\n",
       "    .dataframe tbody tr th:only-of-type {\n",
       "        vertical-align: middle;\n",
       "    }\n",
       "\n",
       "    .dataframe tbody tr th {\n",
       "        vertical-align: top;\n",
       "    }\n",
       "\n",
       "    .dataframe thead th {\n",
       "        text-align: right;\n",
       "    }\n",
       "</style>\n",
       "<table border=\"1\" class=\"dataframe\">\n",
       "  <thead>\n",
       "    <tr style=\"text-align: right;\">\n",
       "      <th></th>\n",
       "      <th>0</th>\n",
       "      <th>1</th>\n",
       "      <th>2</th>\n",
       "      <th>3</th>\n",
       "      <th>4</th>\n",
       "      <th>5</th>\n",
       "      <th>6</th>\n",
       "      <th>7</th>\n",
       "      <th>8</th>\n",
       "      <th>9</th>\n",
       "      <th>...</th>\n",
       "      <th>30</th>\n",
       "      <th>31</th>\n",
       "      <th>32</th>\n",
       "      <th>33</th>\n",
       "      <th>34</th>\n",
       "      <th>35</th>\n",
       "      <th>36</th>\n",
       "      <th>37</th>\n",
       "      <th>38</th>\n",
       "      <th>39</th>\n",
       "    </tr>\n",
       "  </thead>\n",
       "  <tbody>\n",
       "    <tr>\n",
       "      <th>0</th>\n",
       "      <td>0.007156</td>\n",
       "      <td>0.437053</td>\n",
       "      <td>0.441174</td>\n",
       "      <td>1.118458</td>\n",
       "      <td>2.204566</td>\n",
       "      <td>2.223040</td>\n",
       "      <td>2.246882</td>\n",
       "      <td>5.447484</td>\n",
       "      <td>5.718097</td>\n",
       "      <td>5.723556</td>\n",
       "      <td>...</td>\n",
       "      <td>37.433611</td>\n",
       "      <td>37.455060</td>\n",
       "      <td>40.203363</td>\n",
       "      <td>40.628599</td>\n",
       "      <td>40.785698</td>\n",
       "      <td>41.469665</td>\n",
       "      <td>41.926295</td>\n",
       "      <td>41.958073</td>\n",
       "      <td>46.518801</td>\n",
       "      <td>46.60247</td>\n",
       "    </tr>\n",
       "    <tr>\n",
       "      <th>1</th>\n",
       "      <td>0.932586</td>\n",
       "      <td>0.803702</td>\n",
       "      <td>0.931611</td>\n",
       "      <td>0.891333</td>\n",
       "      <td>0.820176</td>\n",
       "      <td>0.898085</td>\n",
       "      <td>0.944923</td>\n",
       "      <td>0.708851</td>\n",
       "      <td>0.767767</td>\n",
       "      <td>0.837929</td>\n",
       "      <td>...</td>\n",
       "      <td>0.197674</td>\n",
       "      <td>0.233025</td>\n",
       "      <td>0.181388</td>\n",
       "      <td>0.201420</td>\n",
       "      <td>0.231027</td>\n",
       "      <td>0.244373</td>\n",
       "      <td>0.265711</td>\n",
       "      <td>0.303249</td>\n",
       "      <td>0.190380</td>\n",
       "      <td>0.21925</td>\n",
       "    </tr>\n",
       "  </tbody>\n",
       "</table>\n",
       "<p>2 rows × 40 columns</p>\n",
       "</div>"
      ],
      "text/plain": [
       "         0         1         2         3         4         5         6   \\\n",
       "0  0.007156  0.437053  0.441174  1.118458  2.204566  2.223040  2.246882   \n",
       "1  0.932586  0.803702  0.931611  0.891333  0.820176  0.898085  0.944923   \n",
       "\n",
       "         7         8         9     ...            30         31         32  \\\n",
       "0  5.447484  5.718097  5.723556    ...     37.433611  37.455060  40.203363   \n",
       "1  0.708851  0.767767  0.837929    ...      0.197674   0.233025   0.181388   \n",
       "\n",
       "          33         34         35         36         37         38        39  \n",
       "0  40.628599  40.785698  41.469665  41.926295  41.958073  46.518801  46.60247  \n",
       "1   0.201420   0.231027   0.244373   0.265711   0.303249   0.190380   0.21925  \n",
       "\n",
       "[2 rows x 40 columns]"
      ]
     },
     "execution_count": 51,
     "metadata": {},
     "output_type": "execute_result"
    }
   ],
   "source": [
    "#=================================================-\n",
    "#### Slide 27: Implement Ljung-Box test on white noise  ####\n",
    "ljungbox_test = acorr_ljungbox(series, lags = None, boxpierce = False)\n",
    "print(type(ljungbox_test))\n",
    "ljungbox_test = list(ljungbox_test)\n",
    "print(type(ljungbox_test))\n",
    "wn_ljung_box_results = pd.DataFrame(ljungbox_test)  # Lags is the largest lag to  report\n",
    "wn_ljung_box_results\n",
    "\n",
    "#pd.DataFrame(ljungbox_test)"
   ]
  },
  {
   "cell_type": "code",
   "execution_count": 52,
   "metadata": {},
   "outputs": [
    {
     "name": "stdout",
     "output_type": "stream",
     "text": [
      "Python 3.7.1\r\n"
     ]
    }
   ],
   "source": [
    "!python -V"
   ]
  },
  {
   "cell_type": "code",
   "execution_count": 54,
   "metadata": {},
   "outputs": [
    {
     "data": {
      "text/html": [
       "<div>\n",
       "<style scoped>\n",
       "    .dataframe tbody tr th:only-of-type {\n",
       "        vertical-align: middle;\n",
       "    }\n",
       "\n",
       "    .dataframe tbody tr th {\n",
       "        vertical-align: top;\n",
       "    }\n",
       "\n",
       "    .dataframe thead th {\n",
       "        text-align: right;\n",
       "    }\n",
       "</style>\n",
       "<table border=\"1\" class=\"dataframe\">\n",
       "  <thead>\n",
       "    <tr style=\"text-align: right;\">\n",
       "      <th></th>\n",
       "      <th>0</th>\n",
       "      <th>1</th>\n",
       "      <th>2</th>\n",
       "      <th>3</th>\n",
       "      <th>4</th>\n",
       "      <th>5</th>\n",
       "      <th>6</th>\n",
       "      <th>7</th>\n",
       "      <th>8</th>\n",
       "      <th>9</th>\n",
       "      <th>...</th>\n",
       "      <th>30</th>\n",
       "      <th>31</th>\n",
       "      <th>32</th>\n",
       "      <th>33</th>\n",
       "      <th>34</th>\n",
       "      <th>35</th>\n",
       "      <th>36</th>\n",
       "      <th>37</th>\n",
       "      <th>38</th>\n",
       "      <th>39</th>\n",
       "    </tr>\n",
       "  </thead>\n",
       "  <tbody>\n",
       "    <tr>\n",
       "      <th>0</th>\n",
       "      <td>2.492104e+02</td>\n",
       "      <td>4.780598e+02</td>\n",
       "      <td>6.948475e+02</td>\n",
       "      <td>9.098926e+02</td>\n",
       "      <td>1.105707e+03</td>\n",
       "      <td>1.288959e+03</td>\n",
       "      <td>1483.8204</td>\n",
       "      <td>1697.222508</td>\n",
       "      <td>1905.720209</td>\n",
       "      <td>2116.13977</td>\n",
       "      <td>...</td>\n",
       "      <td>5389.965581</td>\n",
       "      <td>5498.805112</td>\n",
       "      <td>5602.884434</td>\n",
       "      <td>5708.052239</td>\n",
       "      <td>5815.982811</td>\n",
       "      <td>5932.643984</td>\n",
       "      <td>6031.027194</td>\n",
       "      <td>6118.359967</td>\n",
       "      <td>6197.855967</td>\n",
       "      <td>6274.65984</td>\n",
       "    </tr>\n",
       "    <tr>\n",
       "      <th>1</th>\n",
       "      <td>3.860032e-56</td>\n",
       "      <td>1.551106e-104</td>\n",
       "      <td>2.749747e-150</td>\n",
       "      <td>1.197410e-195</td>\n",
       "      <td>7.767625e-237</td>\n",
       "      <td>2.659760e-275</td>\n",
       "      <td>0.0000</td>\n",
       "      <td>0.000000</td>\n",
       "      <td>0.000000</td>\n",
       "      <td>0.00000</td>\n",
       "      <td>...</td>\n",
       "      <td>0.000000</td>\n",
       "      <td>0.000000</td>\n",
       "      <td>0.000000</td>\n",
       "      <td>0.000000</td>\n",
       "      <td>0.000000</td>\n",
       "      <td>0.000000</td>\n",
       "      <td>0.000000</td>\n",
       "      <td>0.000000</td>\n",
       "      <td>0.000000</td>\n",
       "      <td>0.00000</td>\n",
       "    </tr>\n",
       "  </tbody>\n",
       "</table>\n",
       "<p>2 rows × 40 columns</p>\n",
       "</div>"
      ],
      "text/plain": [
       "             0              1              2              3              4   \\\n",
       "0  2.492104e+02   4.780598e+02   6.948475e+02   9.098926e+02   1.105707e+03   \n",
       "1  3.860032e-56  1.551106e-104  2.749747e-150  1.197410e-195  7.767625e-237   \n",
       "\n",
       "              5          6            7            8           9      ...      \\\n",
       "0   1.288959e+03  1483.8204  1697.222508  1905.720209  2116.13977     ...       \n",
       "1  2.659760e-275     0.0000     0.000000     0.000000     0.00000     ...       \n",
       "\n",
       "            30           31           32           33           34  \\\n",
       "0  5389.965581  5498.805112  5602.884434  5708.052239  5815.982811   \n",
       "1     0.000000     0.000000     0.000000     0.000000     0.000000   \n",
       "\n",
       "            35           36           37           38          39  \n",
       "0  5932.643984  6031.027194  6118.359967  6197.855967  6274.65984  \n",
       "1     0.000000     0.000000     0.000000     0.000000     0.00000  \n",
       "\n",
       "[2 rows x 40 columns]"
      ]
     },
     "execution_count": 54,
     "metadata": {},
     "output_type": "execute_result"
    }
   ],
   "source": [
    "#=================================================-\n",
    "#### Slide 28: Implement Ljung-Box test on not white noise  ####\n",
    "\n",
    "no_wn_ljung_box_results = pd.DataFrame(list(acorr_ljungbox(passenger_miles['revenue_passenger_miles'], lags=None,boxpierce=False)))  # Lags is the largest lag to  report\n",
    "no_wn_ljung_box_results\n",
    "\n"
   ]
  },
  {
   "cell_type": "code",
   "execution_count": 20,
   "metadata": {},
   "outputs": [],
   "source": [
    "#=================================================-\n",
    "#### Slide 31: Exercise 1  ####\n",
    "\n",
    "\n",
    "\n"
   ]
  },
  {
   "cell_type": "code",
   "execution_count": 56,
   "metadata": {},
   "outputs": [
    {
     "name": "stdout",
     "output_type": "stream",
     "text": [
      "   0\n",
      "0 -1\n",
      "1  0\n",
      "2  1\n",
      "3  0\n",
      "4 -1\n",
      "      0\n",
      "995  54\n",
      "996  55\n",
      "997  54\n",
      "998  53\n",
      "999  54\n"
     ]
    }
   ],
   "source": [
    "#=================================================-\n",
    "#### Slide 43: Random walk model - create dataset  ####\n",
    "\n",
    "from random import seed, random\n",
    "\n",
    "seed(1)\n",
    "random_walk = list()\n",
    "random_walk.append(-1 if random() < 0.5 else 1)\n",
    "for i in range(1, 1000):\n",
    "    movement = -1 if random() < 0.5 else 1\n",
    "    value = random_walk[i-1] + movement\n",
    "    random_walk.append(value)\n",
    "    \n",
    "\n",
    "    # Convert random walk into a df for convenience\n",
    "random_walk_df = pd.DataFrame(random_walk)\n",
    "\n",
    "print(random_walk_df.head())\n",
    "print(random_walk_df.tail())"
   ]
  },
  {
   "cell_type": "code",
   "execution_count": 57,
   "metadata": {},
   "outputs": [
    {
     "data": {
      "text/plain": [
       "[<matplotlib.lines.Line2D at 0x1c1701d400>]"
      ]
     },
     "execution_count": 57,
     "metadata": {},
     "output_type": "execute_result"
    },
    {
     "data": {
      "image/png": "[encoded data removed]",
      "text/plain": [
       "<Figure size 432x288 with 1 Axes>"
      ]
     },
     "metadata": {
      "needs_background": "light"
     },
     "output_type": "display_data"
    }
   ],
   "source": [
    "plt.plot(random_walk_df)"
   ]
  },
  {
   "cell_type": "code",
   "execution_count": 58,
   "metadata": {},
   "outputs": [
    {
     "name": "stdout",
     "output_type": "stream",
     "text": [
      "ADF Statistic: 0.341605\n",
      "p-value: 0.979175\n",
      "Critical Values:\n",
      "\t1%: -3.437\n",
      "\t5%: -2.864\n",
      "\t10%: -2.568\n"
     ]
    }
   ],
   "source": [
    "#=================================================-\n",
    "#### Slide 49: Random walk model - testing for stationarity  ####\n",
    "\n",
    "# Statistical test.\n",
    "result = adfuller(random_walk)\n",
    "print('ADF Statistic: %f' % result[0])\n",
    "print('p-value: %f' % result[1])\n",
    "print('Critical Values:')\n",
    "\n",
    "for key, value in result[4].items():\n",
    "    print('\\t%s: %.3f' % (key, value))\n",
    "\n"
   ]
  },
  {
   "cell_type": "code",
   "execution_count": 61,
   "metadata": {},
   "outputs": [
    {
     "data": {
      "text/html": [
       "<div>\n",
       "<style scoped>\n",
       "    .dataframe tbody tr th:only-of-type {\n",
       "        vertical-align: middle;\n",
       "    }\n",
       "\n",
       "    .dataframe tbody tr th {\n",
       "        vertical-align: top;\n",
       "    }\n",
       "\n",
       "    .dataframe thead th {\n",
       "        text-align: right;\n",
       "    }\n",
       "</style>\n",
       "<table border=\"1\" class=\"dataframe\">\n",
       "  <thead>\n",
       "    <tr style=\"text-align: right;\">\n",
       "      <th></th>\n",
       "      <th>0</th>\n",
       "    </tr>\n",
       "  </thead>\n",
       "  <tbody>\n",
       "    <tr>\n",
       "      <th>0</th>\n",
       "      <td>1</td>\n",
       "    </tr>\n",
       "    <tr>\n",
       "      <th>1</th>\n",
       "      <td>1</td>\n",
       "    </tr>\n",
       "    <tr>\n",
       "      <th>2</th>\n",
       "      <td>-1</td>\n",
       "    </tr>\n",
       "    <tr>\n",
       "      <th>3</th>\n",
       "      <td>-1</td>\n",
       "    </tr>\n",
       "    <tr>\n",
       "      <th>4</th>\n",
       "      <td>-1</td>\n",
       "    </tr>\n",
       "  </tbody>\n",
       "</table>\n",
       "</div>"
      ],
      "text/plain": [
       "   0\n",
       "0  1\n",
       "1  1\n",
       "2 -1\n",
       "3 -1\n",
       "4 -1"
      ]
     },
     "execution_count": 61,
     "metadata": {},
     "output_type": "execute_result"
    }
   ],
   "source": [
    "#=================================================-\n",
    "#### Slide 50: Random walk model - differencing  ####\n",
    "\n",
    "# Take difference\n",
    "diff = list()\n",
    "for i in range(1, len(random_walk)):\n",
    "    value = random_walk[i] - random_walk[i - 1]\n",
    "    diff.append(value)\n",
    "\n",
    "diff_df = pd.DataFrame(diff)\n",
    "\n",
    "diff_df.head()"
   ]
  },
  {
   "cell_type": "code",
   "execution_count": 64,
   "metadata": {},
   "outputs": [
    {
     "data": {
      "text/html": [
       "<div>\n",
       "<style scoped>\n",
       "    .dataframe tbody tr th:only-of-type {\n",
       "        vertical-align: middle;\n",
       "    }\n",
       "\n",
       "    .dataframe tbody tr th {\n",
       "        vertical-align: top;\n",
       "    }\n",
       "\n",
       "    .dataframe thead th {\n",
       "        text-align: right;\n",
       "    }\n",
       "</style>\n",
       "<table border=\"1\" class=\"dataframe\">\n",
       "  <thead>\n",
       "    <tr style=\"text-align: right;\">\n",
       "      <th></th>\n",
       "      <th>0</th>\n",
       "    </tr>\n",
       "  </thead>\n",
       "  <tbody>\n",
       "    <tr>\n",
       "      <th>0</th>\n",
       "      <td>1</td>\n",
       "    </tr>\n",
       "    <tr>\n",
       "      <th>1</th>\n",
       "      <td>1</td>\n",
       "    </tr>\n",
       "    <tr>\n",
       "      <th>2</th>\n",
       "      <td>-1</td>\n",
       "    </tr>\n",
       "    <tr>\n",
       "      <th>3</th>\n",
       "      <td>-1</td>\n",
       "    </tr>\n",
       "    <tr>\n",
       "      <th>4</th>\n",
       "      <td>-1</td>\n",
       "    </tr>\n",
       "  </tbody>\n",
       "</table>\n",
       "</div>"
      ],
      "text/plain": [
       "   0\n",
       "0  1\n",
       "1  1\n",
       "2 -1\n",
       "3 -1\n",
       "4 -1"
      ]
     },
     "execution_count": 64,
     "metadata": {},
     "output_type": "execute_result"
    }
   ],
   "source": [
    "#=================================================-\n",
    "#### Slide 53: Random walk model - first difference  ####\n",
    "\n",
    "# Separate revenue passenger miles.\n",
    "rpm = passenger_miles['revenue_passenger_miles']\n",
    "\n",
    "# Take difference of revenue_passenger_miles.\n",
    "diff_rpm = list()\n",
    "for i in range(1, len(rpm)):\n",
    "    value = random_walk[i] - random_walk[i - 1]\n",
    "    diff_rpm.append(value)\n",
    "\n",
    "# Save differences as a dataframe.\n",
    "diff_rpm_df = pd.DataFrame(diff_rpm)\n",
    "\n",
    "diff_rpm_df.head()"
   ]
  },
  {
   "cell_type": "code",
   "execution_count": 66,
   "metadata": {},
   "outputs": [
    {
     "name": "stdout",
     "output_type": "stream",
     "text": [
      "   t-1  t+1\n",
      "0  NaN    1\n",
      "1  1.0    1\n",
      "2  1.0   -1\n",
      "3 -1.0   -1\n",
      "4 -1.0   -1\n"
     ]
    }
   ],
   "source": [
    "#=================================================-\n",
    "#### Slide 56: Random walk model - create lagged dataset  ####\n",
    "\n",
    "# Create lagged dataset.\n",
    "values = pd.DataFrame(diff_rpm_df.values)\n",
    "dataframe = pd.concat([values.shift(1), values], axis=1)\n",
    "dataframe.columns = ['t-1', 't+1']\n",
    "print(dataframe.head(5))\n",
    "\n"
   ]
  },
  {
   "cell_type": "code",
   "execution_count": 67,
   "metadata": {},
   "outputs": [
    {
     "name": "stdout",
     "output_type": "stream",
     "text": [
      "Test MSE: 2.143\n"
     ]
    }
   ],
   "source": [
    "#=================================================-\n",
    "#### Slide 57: Random walk model - prediction  ####\n",
    "\n",
    "# Prepare dataset, split into training and test sets, 70-30 split.\n",
    "X = dataframe.values\n",
    "train_size = int(len(X) * 0.70)\n",
    "train, test = X[1:train_size], X[train_size:]\n",
    "train_X, train_y = train[:,0], train[:,1]\n",
    "test_X, test_y = test[:,0], test[:,1]\n",
    "\n",
    "# Run the persistence model.\n",
    "def model_persistence(x):\n",
    "    return x\n",
    "\n",
    "# Walk-forward validation.\n",
    "predictions = list()\n",
    "\n",
    "for x in test_X:\n",
    "    yhat = model_persistence(x)\n",
    "    predictions.append(yhat)\n",
    "test_score = mean_squared_error(test_y, predictions)\n",
    "print('Test MSE: %.3f' % test_score)\n",
    "\n"
   ]
  },
  {
   "cell_type": "code",
   "execution_count": null,
   "metadata": {},
   "outputs": [],
   "source": []
  }
 ],
 "metadata": {
  "kernelspec": {
   "display_name": "Python 3",
   "language": "python",
   "name": "python3"
  },
  "language": "python",
  "language_info": {
   "codemirror_mode": {
    "name": "ipython",
    "version": 3
   },
   "file_extension": ".py",
   "mimetype": "text/x-python",
   "name": "python",
   "nbconvert_exporter": "python",
   "pygments_lexer": "ipython3",
   "version": "3.7.1"
  }
 },
 "nbformat": 4,
 "nbformat_minor": 2
}
