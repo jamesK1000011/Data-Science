{
 "cells": [
  {
   "cell_type": "markdown",
   "metadata": {},
   "source": [
    "# Intro to Python day 2 - Exercises"
   ]
  },
  {
   "cell_type": "markdown",
   "metadata": {},
   "source": [
    "## Exercise 1"
   ]
  },
  {
   "cell_type": "markdown",
   "metadata": {},
   "source": [
    "#### Question 1\n",
    "##### Let `x` be equal to -56.\n",
    "##### Build a conditional statement that checks whether the absolute value of `x` is greater than or equal to `x*(-1)` or  whether `x` is less than `100/(-2)`.\n",
    "##### Print the result."
   ]
  },
  {
   "cell_type": "code",
   "execution_count": 2,
   "metadata": {},
   "outputs": [
    {
     "name": "stdout",
     "output_type": "stream",
     "text": [
      "-56\n"
     ]
    }
   ],
   "source": [
    "x = -56\n",
    "\n",
    "if (abs(x) >= x*(-1) or x < (100/(-2))):\n",
    "    print(x)"
   ]
  },
  {
   "cell_type": "markdown",
   "metadata": {},
   "source": [
    "# Question 2\n",
    "##### Assign the conditional statement from Question 1 to a variable `condition_1`.\n",
    "##### Create `condition_2` variable and assign the following conditional expression to it: check if string `\"ABC\"` is equal to string `\"abc\"`.\n",
    "##### Let `output` variable be the output of the following compound expression: check whether `condition_1` and `condition_2` both hold True.\n",
    "##### Print the `output` variable.\n",
    "##### Which of the two conditions is `False`? Why do you think that's the case?"
   ]
  },
  {
   "cell_type": "code",
   "execution_count": 15,
   "metadata": {},
   "outputs": [
    {
     "name": "stdout",
     "output_type": "stream",
     "text": [
      "False\n",
      "strings do not match\n"
     ]
    }
   ],
   "source": [
    "condition_1 = (abs(x) >= x*(-1) or x < (100/(-2)))\n",
    "condition_2 = (\"ABC\" == \"abc\")\n",
    "\n",
    "output = condition_1 and condition_2\n",
    "    \n",
    "print(output)\n",
    "\n",
    "print('strings do not match')\n",
    "    "
   ]
  },
  {
   "cell_type": "markdown",
   "metadata": {},
   "source": [
    "#### Question 3\n",
    "##### Create a variable `x`. Assign any number to `x`.\n",
    "##### Now build the following an `if-else` statement to check if `x` is an `odd` or an `even` number. If `x` is even, print \"x is even\", otherwise print \"x is odd\".\n",
    "##### Try out different values of `x` and check what output you get when running the `if-else` block."
   ]
  },
  {
   "cell_type": "code",
   "execution_count": 14,
   "metadata": {},
   "outputs": [
    {
     "name": "stdout",
     "output_type": "stream",
     "text": [
      "4\n",
      "x is even\n"
     ]
    }
   ],
   "source": [
    "x = 4\n",
    "print(x)\n",
    "\n",
    "if (x % 2 == 1):\n",
    "    print(\"x is odd\")\n",
    "else:\n",
    "    print(\"x is even\")"
   ]
  },
  {
   "cell_type": "markdown",
   "metadata": {},
   "source": [
    "#### Question 4\n",
    "##### Use your final boolean expression from Question 2 (i.e. where you check whether both `condition_1` and `condition_2` are `True`).\n",
    "##### Build the `if-else` block based on it: if both `condition_1` and `condition_2` are true, then print \"Both conditions are True\", otherwise print \"At least one condition is False!\"\n",
    "\n"
   ]
  },
  {
   "cell_type": "code",
   "execution_count": 16,
   "metadata": {},
   "outputs": [
    {
     "name": "stdout",
     "output_type": "stream",
     "text": [
      "At least one condition is False!\n"
     ]
    }
   ],
   "source": [
    "if output:\n",
    "    print(\"Both conditions are True\")\n",
    "else:\n",
    "    print(\"At least one condition is False!\")"
   ]
  },
  {
   "cell_type": "markdown",
   "metadata": {},
   "source": [
    "#### Question 5\n",
    "##### Test whether `x` from Question 3 is `odd`. \n",
    "##### If it is `odd`, print the following statement: \"You are only going to see some output if x is odd!\""
   ]
  },
  {
   "cell_type": "code",
   "execution_count": 17,
   "metadata": {},
   "outputs": [],
   "source": [
    "if (x % 2 == 1):\n",
    "    print(\"You are only going to see some output if x is odd!\")\n"
   ]
  },
  {
   "cell_type": "markdown",
   "metadata": {},
   "source": [
    "#### Question 6\n",
    "##### Create a variable `y` and assign any integer value to `y`.\n",
    "##### Create a conditional block to check if `y` is a positive intereger or negative integer or 0.\n",
    "##### Reassign different values to `y` and check if your conditional block is working.\n",
    "##### Hint: Use if elif else statements."
   ]
  },
  {
   "cell_type": "code",
   "execution_count": 30,
   "metadata": {},
   "outputs": [
    {
     "name": "stdout",
     "output_type": "stream",
     "text": [
      "y is negative\n"
     ]
    }
   ],
   "source": [
    "y = -1\n",
    "\n",
    "if y > 0:\n",
    "    print(\"y is positive\")\n",
    "elif y < 0:\n",
    "    print(\"y is negative\")\n",
    "else:\n",
    "    print(\"y equals zero\")\n",
    "    "
   ]
  },
  {
   "cell_type": "markdown",
   "metadata": {},
   "source": [
    "#### Question 7\n",
    "##### Let variable `item_price` be equal to any number between 1000 and 3000.\n",
    "##### Build the following nested `if-else` statement:\n",
    "- If `item_price` is less than 3000, then check whether it is less than 1800,\n",
    "    - If it is less than or equal to 1800 then, print \"I'll buy 2 items\"\n",
    "    - Otherwise print \"I'll buy 1 item\"\n",
    "- In the event that `item_price` is not less than 3000, print \"This item is too expensive for me!\"\n",
    "##### Try out a few different values within the same range, check the output each time."
   ]
  },
  {
   "cell_type": "code",
   "execution_count": 36,
   "metadata": {},
   "outputs": [
    {
     "name": "stdout",
     "output_type": "stream",
     "text": [
      "2573\n",
      "I'll buy 1 item\n"
     ]
    }
   ],
   "source": [
    "import random\n",
    "item_price = random.randint(1000,3001)\n",
    "\n",
    "print(item_price)\n",
    "\n",
    "if item_price <= 1800:\n",
    "    print(\"I'll buy 2 items\")\n",
    "elif item_price <= 3000:\n",
    "    print(\"I'll buy 1 item\")\n",
    "else:\n",
    "    print(\"This item is too expensive for me!\")"
   ]
  },
  {
   "cell_type": "markdown",
   "metadata": {},
   "source": [
    "## Exercise 2"
   ]
  },
  {
   "cell_type": "markdown",
   "metadata": {},
   "source": [
    "#### Question 1\n",
    "##### Make a shopping list that consists of following items and assign it to variable `shopping_list`:\n",
    "- milk\n",
    "- eggs\n",
    "- peppers\n",
    "- cheese\n",
    "- tomatos\n",
    "\n",
    "##### For each of the items in the list do the following:\n",
    "- Print \"Add [item] to cart\"\n",
    "- Print \"Pay for [item]\"\n",
    "- Print \"Put [item] into shopping bag\"\n",
    "\n",
    "##### What do you think is the recipe for? :)"
   ]
  },
  {
   "cell_type": "code",
   "execution_count": 41,
   "metadata": {},
   "outputs": [
    {
     "name": "stdout",
     "output_type": "stream",
     "text": [
      "Add milk to cart\n",
      "Pay for milk\n",
      "Put milk into shopping bag\n",
      "Add eggs to cart\n",
      "Pay for eggs\n",
      "Put eggs into shopping bag\n",
      "Add peppers to cart\n",
      "Pay for peppers\n",
      "Put peppers into shopping bag\n",
      "Add cheese to cart\n",
      "Pay for cheese\n",
      "Put cheese into shopping bag\n",
      "Add tomatos to cart\n",
      "Pay for tomatos\n",
      "Put tomatos into shopping bag\n"
     ]
    }
   ],
   "source": [
    "shopping_list = ['milk','eggs','peppers','cheese','tomatos']\n",
    "\n",
    "for item in shopping_list:\n",
    "    print(\"Add \" + item + \" to cart\")\n",
    "    print(\"Pay for \" + item)\n",
    "    print(\"Put \" + item + \" into shopping bag\")\n",
    "\n"
   ]
  },
  {
   "cell_type": "markdown",
   "metadata": {},
   "source": [
    "#### Question 2\n",
    "##### Create a sequence from `0` to `15` (including `15`) and assign it to variable `seq_1`.\n",
    "##### Print each number in that sequence."
   ]
  },
  {
   "cell_type": "code",
   "execution_count": 43,
   "metadata": {},
   "outputs": [
    {
     "name": "stdout",
     "output_type": "stream",
     "text": [
      "0\n",
      "1\n",
      "2\n",
      "3\n",
      "4\n",
      "5\n",
      "6\n",
      "7\n",
      "8\n",
      "9\n",
      "10\n",
      "11\n",
      "12\n",
      "13\n",
      "14\n",
      "15\n"
     ]
    }
   ],
   "source": [
    "seq_1 = range(16)\n",
    "\n",
    "for number in seq_1:\n",
    "    print(number)"
   ]
  },
  {
   "cell_type": "markdown",
   "metadata": {},
   "source": [
    "#### Question 3\n",
    "##### Print every number between 50 and 60 including."
   ]
  },
  {
   "cell_type": "code",
   "execution_count": 44,
   "metadata": {},
   "outputs": [
    {
     "name": "stdout",
     "output_type": "stream",
     "text": [
      "50\n",
      "51\n",
      "52\n",
      "53\n",
      "54\n",
      "55\n",
      "56\n",
      "57\n",
      "58\n",
      "59\n",
      "60\n"
     ]
    }
   ],
   "source": [
    "for i in range (50,61):\n",
    "    print(i)"
   ]
  },
  {
   "cell_type": "markdown",
   "metadata": {},
   "source": [
    "#### Question 4\n",
    "##### Print every every even number between 10 and 20 (including 20)."
   ]
  },
  {
   "cell_type": "code",
   "execution_count": 67,
   "metadata": {},
   "outputs": [
    {
     "name": "stdout",
     "output_type": "stream",
     "text": [
      "10\n",
      "12\n",
      "14\n",
      "16\n",
      "18\n",
      "20\n"
     ]
    }
   ],
   "source": [
    "for i in range(10,21,2):\n",
    "    print(i)"
   ]
  },
  {
   "cell_type": "markdown",
   "metadata": {},
   "source": [
    "#### Question 5\n",
    "##### Re-write the `for` loop from Question 1 so that instead of looking up items directly, look up the item in the list using its index.\n",
    "##### Hint: make use of a variable like `list_length` that captures the length of the `shopping_list` variable! "
   ]
  },
  {
   "cell_type": "code",
   "execution_count": 47,
   "metadata": {},
   "outputs": [
    {
     "name": "stdout",
     "output_type": "stream",
     "text": [
      "Add milk to cart\n",
      "Pay for milk\n",
      "Put milk into shopping bag\n",
      "Add eggs to cart\n",
      "Pay for eggs\n",
      "Put eggs into shopping bag\n",
      "Add peppers to cart\n",
      "Pay for peppers\n",
      "Put peppers into shopping bag\n",
      "Add cheese to cart\n",
      "Pay for cheese\n",
      "Put cheese into shopping bag\n",
      "Add tomatos to cart\n",
      "Pay for tomatos\n",
      "Put tomatos into shopping bag\n"
     ]
    }
   ],
   "source": [
    "num_items = len(shopping_list)\n",
    "\n",
    "for i in range(num_items):\n",
    "    print(\"Add \" + shopping_list[i] + \" to cart\")\n",
    "    print(\"Pay for \" + shopping_list[i])\n",
    "    print(\"Put \" + shopping_list[i] + \" into shopping bag\")"
   ]
  },
  {
   "cell_type": "markdown",
   "metadata": {},
   "source": [
    "#### Question 6\n",
    "##### Create a list of words that consists of the following and assign it to a variable `word_list`:\n",
    "- Civic\n",
    "- Kayak\n",
    "- Level\n",
    "- Madam\n",
    "- Racecar\n",
    "- Radar\n",
    "- Refer\n",
    "- Rotator\n",
    "- Rotor\n",
    "- Stats\n",
    "\n",
    "##### Create an empty list `reversed_word_list`. Use a loop to reverse the order of letters in each of the words and add each reversed word to the `reversed_word_list`. Print the result.\n",
    "##### Hint: make use of string slicing method you learned in Intro to Python - Day 1 (slide 58). \n",
    "##### Bonus question: Is there anything special about these words? Do you know how they are called? :)"
   ]
  },
  {
   "cell_type": "code",
   "execution_count": 66,
   "metadata": {},
   "outputs": [
    {
     "name": "stdout",
     "output_type": "stream",
     "text": [
      "civiC\n",
      "kayaK\n",
      "leveL\n",
      "madaM\n",
      "racecaR\n",
      "radaR\n",
      "refeR\n",
      "rotatoR\n",
      "rotoR\n",
      "statS\n",
      "palindrome\n"
     ]
    }
   ],
   "source": [
    "word_list = ['Civic', 'Kayak', 'Level','Madam','Racecar','Radar','Refer','Rotator', 'Rotor', 'Stats']\n",
    "\n",
    "reversed_word_list = []\n",
    "\n",
    "for word in word_list:\n",
    "    reversed_word_list.append(word[::-1])\n",
    "    \n",
    "for word_r in reversed_word_list: \n",
    "    print(word_r)\n",
    "    \n",
    "print('palindrome')"
   ]
  },
  {
   "cell_type": "markdown",
   "metadata": {},
   "source": [
    "#### Question 7\n",
    "##### Print all even numbers between 100 and 130 (not including 130).\n",
    "##### Hint: Use `if` conditional block inside `for` loop to check if the number is even."
   ]
  },
  {
   "cell_type": "code",
   "execution_count": 49,
   "metadata": {},
   "outputs": [
    {
     "name": "stdout",
     "output_type": "stream",
     "text": [
      "100\n",
      "even\n",
      "102\n",
      "even\n",
      "104\n",
      "even\n",
      "106\n",
      "even\n",
      "108\n",
      "even\n",
      "110\n",
      "even\n",
      "112\n",
      "even\n",
      "114\n",
      "even\n",
      "116\n",
      "even\n",
      "118\n",
      "even\n",
      "120\n",
      "even\n",
      "122\n",
      "even\n",
      "124\n",
      "even\n",
      "126\n",
      "even\n",
      "128\n",
      "even\n"
     ]
    }
   ],
   "source": [
    "for i in range (100,130,2):\n",
    "    print(i)\n",
    "    if (i % 2 == 0):\n",
    "        print(\"even\")"
   ]
  },
  {
   "cell_type": "markdown",
   "metadata": {},
   "source": [
    "#### Question 8\n",
    "##### Use the dictionary `family` given below.\n",
    "##### Print the name and the age of each member of the family.\n",
    "\n",
    "#### family = {'Max':10, 'Marie':12, 'John':40, 'Jane':38}"
   ]
  },
  {
   "cell_type": "code",
   "execution_count": 58,
   "metadata": {},
   "outputs": [
    {
     "name": "stdout",
     "output_type": "stream",
     "text": [
      "Name:  Max     age:  10\n",
      "Name:  Marie     age:  12\n",
      "Name:  John     age:  40\n",
      "Name:  Jane     age:  38\n"
     ]
    }
   ],
   "source": [
    "family = {'Max':10, 'Marie':12, 'John':40, 'Jane':38}\n",
    "\n",
    "for key, value in family.items():\n",
    "    print(\"Name: \", key, \"    age: \", value)"
   ]
  },
  {
   "cell_type": "markdown",
   "metadata": {},
   "source": [
    "#### Question 9\n",
    "##### Re-write the loop from Question 5 using `while` construct."
   ]
  },
  {
   "cell_type": "code",
   "execution_count": 60,
   "metadata": {
    "scrolled": false
   },
   "outputs": [
    {
     "name": "stdout",
     "output_type": "stream",
     "text": [
      "Add milk to cart\n",
      "Pay for milk\n",
      "Put milk into shopping bag\n",
      "Add eggs to cart\n",
      "Pay for eggs\n",
      "Put eggs into shopping bag\n",
      "Add peppers to cart\n",
      "Pay for peppers\n",
      "Put peppers into shopping bag\n",
      "Add cheese to cart\n",
      "Pay for cheese\n",
      "Put cheese into shopping bag\n",
      "Add tomatos to cart\n",
      "Pay for tomatos\n",
      "Put tomatos into shopping bag\n"
     ]
    }
   ],
   "source": [
    "num_items = len(shopping_list)\n",
    "i = 0\n",
    "while i < num_items:\n",
    "    print(\"Add \" + shopping_list[i] + \" to cart\")\n",
    "    print(\"Pay for \" + shopping_list[i])\n",
    "    print(\"Put \" + shopping_list[i] + \" into shopping bag\")\n",
    "    i = i+1"
   ]
  },
  {
   "cell_type": "markdown",
   "metadata": {},
   "source": [
    "#### Question 10 (bonus):\n",
    "##### Print the sum of numbers from 1 to 15.\n",
    "##### Use a while loop to do that."
   ]
  },
  {
   "cell_type": "code",
   "execution_count": 68,
   "metadata": {},
   "outputs": [
    {
     "name": "stdout",
     "output_type": "stream",
     "text": [
      "0 1\n",
      "1 2\n",
      "3 3\n",
      "6 4\n",
      "10 5\n",
      "15 6\n",
      "21 7\n",
      "28 8\n",
      "36 9\n",
      "45 10\n",
      "55 11\n",
      "66 12\n",
      "78 13\n",
      "91 14\n",
      "105 15\n",
      "120 16\n"
     ]
    }
   ],
   "source": [
    "num_sum = 0\n",
    "z = 0\n",
    "while z <= 15:\n",
    "    num_sum = num_sum + z\n",
    "    z = z + 1\n",
    "    print(num_sum, z)"
   ]
  },
  {
   "cell_type": "markdown",
   "metadata": {},
   "source": [
    "## Exercise 3"
   ]
  },
  {
   "cell_type": "markdown",
   "metadata": {},
   "source": [
    "#### Question 1\n",
    "##### Create a simple function `PrintHello` that prints a message \"Hello World!\"\n",
    "##### Call the function to test whether it is working properly."
   ]
  },
  {
   "cell_type": "code",
   "execution_count": 69,
   "metadata": {},
   "outputs": [
    {
     "name": "stdout",
     "output_type": "stream",
     "text": [
      "Hello World!\n"
     ]
    }
   ],
   "source": [
    "def PrintHello():\n",
    "    print(\"Hello World!\")\n",
    "\n",
    "PrintHello()"
   ]
  },
  {
   "cell_type": "markdown",
   "metadata": {},
   "source": [
    "#### Question 2\n",
    "##### Modify your `PrintHello` function so that it takes a name of a person as an argument and prints \"Hello, [name]!\".\n",
    "##### Call the function to test whether it is working properly. Try out a few differnet names. "
   ]
  },
  {
   "cell_type": "code",
   "execution_count": 72,
   "metadata": {},
   "outputs": [
    {
     "name": "stdout",
     "output_type": "stream",
     "text": [
      "Hello, James!\n"
     ]
    }
   ],
   "source": [
    "def PrintHello_M(name):\n",
    "    print(\"Hello, \" + name + \"!\")\n",
    "\n",
    "PrintHello_M(\"James\")"
   ]
  },
  {
   "cell_type": "markdown",
   "metadata": {},
   "source": [
    "#### Question 3\n",
    "##### Modify the function from Question 2 and name it `GetHelloMessage` so that it returns the message to be printed, but doesn't print it.\n",
    "##### Call the function, assign its output to a variable `output_message` and then print the `output_message`."
   ]
  },
  {
   "cell_type": "code",
   "execution_count": 73,
   "metadata": {},
   "outputs": [
    {
     "name": "stdout",
     "output_type": "stream",
     "text": [
      "Hello, James!\n"
     ]
    }
   ],
   "source": [
    "def PrintHello_M2(name):\n",
    "    return \"Hello, \" + name + \"!\"\n",
    "\n",
    "output_message = PrintHello_M2(\"James\")\n",
    "print(output_message)"
   ]
  },
  {
   "cell_type": "markdown",
   "metadata": {},
   "source": [
    "#### Question 4\n",
    "##### Create a function called `find_range()` that takes a parameter `x`.\n",
    "##### Return two numbers `x-10` and `x+10`.\n",
    "##### Call the function by passing 25 to the function.\n",
    "\n"
   ]
  },
  {
   "cell_type": "code",
   "execution_count": 74,
   "metadata": {},
   "outputs": [
    {
     "name": "stdout",
     "output_type": "stream",
     "text": [
      "(15, 35)\n"
     ]
    }
   ],
   "source": [
    "def find_range(x):\n",
    "    return x-10, x+10\n",
    "    \n",
    "print(find_range(25))"
   ]
  },
  {
   "cell_type": "markdown",
   "metadata": {},
   "source": [
    "#### Question 5\n",
    "##### Create a function named `find_sum` that takes two parameters `a` and `b` and returns their sum.\n",
    "##### Let `a` have a default value equal to 3 and `b` have a default value equal to 2.\n",
    "##### Call the function without providing any arguments. What value do you get as a result?\n",
    "##### Call the function by assigning giving the function 2 arguments: 7 and 10.\n",
    "##### Call the function with providing a single argument 9 to the function. What value do you get in return?"
   ]
  },
  {
   "cell_type": "code",
   "execution_count": 77,
   "metadata": {},
   "outputs": [
    {
     "name": "stdout",
     "output_type": "stream",
     "text": [
      "5\n",
      "17\n",
      "11\n"
     ]
    }
   ],
   "source": [
    "def find_sum(a=3,b=2):\n",
    "    return a+b\n",
    "\n",
    "print(find_sum())\n",
    "\n",
    "print(find_sum(7,10))\n",
    "\n",
    "print(find_sum(9))"
   ]
  },
  {
   "cell_type": "markdown",
   "metadata": {},
   "source": [
    "#### Question 6\n",
    "##### Create an anonymous function that returns a reversed string and assing it to `palindrom` variable.\n",
    "##### Call the function and use \"No lemon, no melon\" as the input and print the result."
   ]
  },
  {
   "cell_type": "code",
   "execution_count": 78,
   "metadata": {},
   "outputs": [
    {
     "name": "stdout",
     "output_type": "stream",
     "text": [
      "nolem on ,nomel oN\n"
     ]
    }
   ],
   "source": [
    "palindrom = lambda w: w[::-1]\n",
    "\n",
    "print(palindrom(\"No lemon, no melon\"))"
   ]
  },
  {
   "cell_type": "markdown",
   "metadata": {},
   "source": [
    "#### Question 7 (bonus)\n",
    "##### Create a function called `factorial` which returns the factorial value of the given number `x`.\n",
    "##### Call the function to print the factorial of 5, try a few other values.\n",
    "##### _Hint: 4 factorial (4!) = 4 x 3 x 2 x 1 = 24._"
   ]
  },
  {
   "cell_type": "code",
   "execution_count": 83,
   "metadata": {},
   "outputs": [
    {
     "name": "stdout",
     "output_type": "stream",
     "text": [
      "120\n",
      "1\n",
      "24\n"
     ]
    }
   ],
   "source": [
    "import math\n",
    "\n",
    "def factorial(x):\n",
    "    return math.factorial(x)\n",
    "\n",
    "print(factorial(5))\n",
    "print(factorial(1))\n",
    "print(factorial(4))"
   ]
  },
  {
   "cell_type": "code",
   "execution_count": null,
   "metadata": {},
   "outputs": [],
   "source": []
  }
 ],
 "metadata": {
  "kernelspec": {
   "display_name": "Python 3",
   "language": "python",
   "name": "python3"
  },
  "language_info": {
   "codemirror_mode": {
    "name": "ipython",
    "version": 3
   },
   "file_extension": ".py",
   "mimetype": "text/x-python",
   "name": "python",
   "nbconvert_exporter": "python",
   "pygments_lexer": "ipython3",
   "version": "3.7.1"
  }
 },
 "nbformat": 4,
 "nbformat_minor": 2
}
