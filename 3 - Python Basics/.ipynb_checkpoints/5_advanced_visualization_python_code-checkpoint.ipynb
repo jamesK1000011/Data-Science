{
 "cells": [
  {
   "cell_type": "code",
   "execution_count": null,
   "metadata": {},
   "outputs": [],
   "source": [
    "\n",
    "#######################################################\n",
    "#######################################################\n",
    "############    COPYRIGHT - DATA SOCIETY   ############\n",
    "#######################################################\n",
    "#######################################################\n",
    "\n",
    "## 5 ADVANCED VISUALIZATION PYTHON ##\n",
    "\n",
    "## NOTE: To run individual pieces of code, select the line of code and\n",
    "##       press ctrl + enter for PCs or command + enter for Macs\n",
    "\n"
   ]
  },
  {
   "cell_type": "code",
   "execution_count": 1,
   "metadata": {},
   "outputs": [],
   "source": [
    "main_dir = '/Users/Datasociety/Desktop/af-werx'\n",
    "data_dir = main_dir + \"/data\"\n",
    "plot_dir = main_dir + \"/plots\""
   ]
  },
  {
   "cell_type": "code",
   "execution_count": 2,
   "metadata": {},
   "outputs": [],
   "source": [
    "#=================================================-\n",
    "#### Slide 3: Loading packages  ####\n",
    "\n",
    "import pandas as pd\n",
    "import numpy as np\n",
    "import os\n",
    "from bokeh.io import output_notebook\n",
    "from bokeh.plotting import figure, output_file, show, output_notebook, save\n",
    "from bokeh.transform import factor_cmap, factor_mark\n",
    "from bokeh.layouts import column, row, gridplot\n",
    "from bokeh.models import HoverTool, ColumnDataSource, NumeralTickFormatter, GroupFilter, CDSView\n",
    "import ipywidgets as widgets\n",
    "from ipywidgets import interact, interact_manual\n",
    "\n"
   ]
  },
  {
   "cell_type": "code",
   "execution_count": 3,
   "metadata": {},
   "outputs": [
    {
     "name": "stdout",
     "output_type": "stream",
     "text": [
      "/Users/datasociety/Desktop/af-werx/data\n"
     ]
    }
   ],
   "source": [
    "#=================================================-\n",
    "#### Slide 4: Working directory  ####\n",
    "\n",
    "# Set working directory.\n",
    "os.chdir(data_dir)\n",
    "# Check working directory.\n",
    "print(os.getcwd())\n",
    "\n"
   ]
  },
  {
   "cell_type": "code",
   "execution_count": 41,
   "metadata": {},
   "outputs": [],
   "source": [
    "#=================================================-\n",
    "#### Slide 14: Bokeh: simple plot  ####\n",
    "\n",
    "# Input the sample data below.\n",
    "x_values = [1, 2, 3, 4, 5, 6]\n",
    "y_values = [6, 7, 2, 3, 6, 4]\n",
    "\n"
   ]
  },
  {
   "cell_type": "code",
   "execution_count": 42,
   "metadata": {},
   "outputs": [],
   "source": [
    "#### Slide 15: Bokeh: simple plot  ####\n",
    "\n",
    "p = figure()\n",
    "p.circle(x = x_values, y = y_values)\n",
    "show(p)\n",
    "\n"
   ]
  },
  {
   "cell_type": "code",
   "execution_count": 44,
   "metadata": {},
   "outputs": [],
   "source": [
    "#### Slide 16: Bokeh: add size,color and opacity  ####\n",
    "\n",
    "# Create the blank plot.\n",
    "p = figure(plot_width = 400, plot_height = 400)\n",
    "\n",
    "# Add a circle glyph with a size, color, and alpha.\n",
    "p.circle(\n",
    "    x_values,\n",
    "    y_values,\n",
    "    size = 20,\n",
    "    color = \"indianred\",\n",
    "    alpha = 0.7\n",
    ")\n",
    "\n",
    "show(p)"
   ]
  },
  {
   "cell_type": "code",
   "execution_count": 45,
   "metadata": {},
   "outputs": [],
   "source": [
    "#### Slide 17: Bokeh: triangle glyph  ####\n",
    "\n",
    "p = figure(plot_width = 400, plot_height = 400)\n",
    "\n",
    "p.line(\n",
    "    x_values,\n",
    "    y_values,\n",
    "    color = 'red'\n",
    ")\n",
    "\n",
    "p.triangle(\n",
    "    x_values,\n",
    "    y_values,\n",
    "    size = 20,\n",
    "    color = \"darkseagreen\",\n",
    "    alpha = 0.7\n",
    ")\n",
    "\n",
    "show(p)"
   ]
  },
  {
   "cell_type": "code",
   "execution_count": 46,
   "metadata": {},
   "outputs": [
    {
     "data": {
      "text/html": [
       "<div>\n",
       "<style scoped>\n",
       "    .dataframe tbody tr th:only-of-type {\n",
       "        vertical-align: middle;\n",
       "    }\n",
       "\n",
       "    .dataframe tbody tr th {\n",
       "        vertical-align: top;\n",
       "    }\n",
       "\n",
       "    .dataframe thead th {\n",
       "        text-align: right;\n",
       "    }\n",
       "</style>\n",
       "<table border=\"1\" class=\"dataframe\">\n",
       "  <thead>\n",
       "    <tr style=\"text-align: right;\">\n",
       "      <th></th>\n",
       "      <th>household_id</th>\n",
       "      <th>ind_id</th>\n",
       "      <th>rooms</th>\n",
       "      <th>tablet</th>\n",
       "      <th>males_under_12</th>\n",
       "      <th>males_over_12</th>\n",
       "      <th>males_tot</th>\n",
       "      <th>females_under_12</th>\n",
       "      <th>females_over_12</th>\n",
       "      <th>females_tot</th>\n",
       "      <th>...</th>\n",
       "      <th>region_Chorotega</th>\n",
       "      <th>region_pacifico</th>\n",
       "      <th>region_brunca</th>\n",
       "      <th>region_antlantica</th>\n",
       "      <th>region_huetar</th>\n",
       "      <th>urban_zone</th>\n",
       "      <th>rural_zone</th>\n",
       "      <th>age</th>\n",
       "      <th>Target</th>\n",
       "      <th>monthly_rent</th>\n",
       "    </tr>\n",
       "  </thead>\n",
       "  <tbody>\n",
       "    <tr>\n",
       "      <th>0</th>\n",
       "      <td>21eb7fcc1</td>\n",
       "      <td>ID_279628684</td>\n",
       "      <td>3</td>\n",
       "      <td>0</td>\n",
       "      <td>0</td>\n",
       "      <td>1</td>\n",
       "      <td>1</td>\n",
       "      <td>0</td>\n",
       "      <td>0</td>\n",
       "      <td>0</td>\n",
       "      <td>...</td>\n",
       "      <td>0</td>\n",
       "      <td>0</td>\n",
       "      <td>0</td>\n",
       "      <td>0</td>\n",
       "      <td>0</td>\n",
       "      <td>1</td>\n",
       "      <td>0</td>\n",
       "      <td>43</td>\n",
       "      <td>4</td>\n",
       "      <td>190000.0</td>\n",
       "    </tr>\n",
       "    <tr>\n",
       "      <th>1</th>\n",
       "      <td>0e5d7a658</td>\n",
       "      <td>ID_f29eb3ddd</td>\n",
       "      <td>4</td>\n",
       "      <td>1</td>\n",
       "      <td>0</td>\n",
       "      <td>1</td>\n",
       "      <td>1</td>\n",
       "      <td>0</td>\n",
       "      <td>0</td>\n",
       "      <td>0</td>\n",
       "      <td>...</td>\n",
       "      <td>0</td>\n",
       "      <td>0</td>\n",
       "      <td>0</td>\n",
       "      <td>0</td>\n",
       "      <td>0</td>\n",
       "      <td>1</td>\n",
       "      <td>0</td>\n",
       "      <td>67</td>\n",
       "      <td>4</td>\n",
       "      <td>135000.0</td>\n",
       "    </tr>\n",
       "    <tr>\n",
       "      <th>2</th>\n",
       "      <td>2c7317ea8</td>\n",
       "      <td>ID_68de51c94</td>\n",
       "      <td>8</td>\n",
       "      <td>0</td>\n",
       "      <td>0</td>\n",
       "      <td>0</td>\n",
       "      <td>0</td>\n",
       "      <td>0</td>\n",
       "      <td>1</td>\n",
       "      <td>1</td>\n",
       "      <td>...</td>\n",
       "      <td>0</td>\n",
       "      <td>0</td>\n",
       "      <td>0</td>\n",
       "      <td>0</td>\n",
       "      <td>0</td>\n",
       "      <td>1</td>\n",
       "      <td>0</td>\n",
       "      <td>92</td>\n",
       "      <td>4</td>\n",
       "      <td>NaN</td>\n",
       "    </tr>\n",
       "    <tr>\n",
       "      <th>3</th>\n",
       "      <td>2b58d945f</td>\n",
       "      <td>ID_d671db89c</td>\n",
       "      <td>5</td>\n",
       "      <td>1</td>\n",
       "      <td>0</td>\n",
       "      <td>2</td>\n",
       "      <td>2</td>\n",
       "      <td>1</td>\n",
       "      <td>1</td>\n",
       "      <td>2</td>\n",
       "      <td>...</td>\n",
       "      <td>0</td>\n",
       "      <td>0</td>\n",
       "      <td>0</td>\n",
       "      <td>0</td>\n",
       "      <td>0</td>\n",
       "      <td>1</td>\n",
       "      <td>0</td>\n",
       "      <td>17</td>\n",
       "      <td>4</td>\n",
       "      <td>180000.0</td>\n",
       "    </tr>\n",
       "    <tr>\n",
       "      <th>4</th>\n",
       "      <td>2b58d945f</td>\n",
       "      <td>ID_d56d6f5f5</td>\n",
       "      <td>5</td>\n",
       "      <td>1</td>\n",
       "      <td>0</td>\n",
       "      <td>2</td>\n",
       "      <td>2</td>\n",
       "      <td>1</td>\n",
       "      <td>1</td>\n",
       "      <td>2</td>\n",
       "      <td>...</td>\n",
       "      <td>0</td>\n",
       "      <td>0</td>\n",
       "      <td>0</td>\n",
       "      <td>0</td>\n",
       "      <td>0</td>\n",
       "      <td>1</td>\n",
       "      <td>0</td>\n",
       "      <td>37</td>\n",
       "      <td>4</td>\n",
       "      <td>180000.0</td>\n",
       "    </tr>\n",
       "  </tbody>\n",
       "</table>\n",
       "<p>5 rows × 84 columns</p>\n",
       "</div>"
      ],
      "text/plain": [
       "  household_id        ind_id  rooms  tablet  males_under_12  males_over_12  \\\n",
       "0    21eb7fcc1  ID_279628684      3       0               0              1   \n",
       "1    0e5d7a658  ID_f29eb3ddd      4       1               0              1   \n",
       "2    2c7317ea8  ID_68de51c94      8       0               0              0   \n",
       "3    2b58d945f  ID_d671db89c      5       1               0              2   \n",
       "4    2b58d945f  ID_d56d6f5f5      5       1               0              2   \n",
       "\n",
       "   males_tot  females_under_12  females_over_12  females_tot      ...       \\\n",
       "0          1                 0                0            0      ...        \n",
       "1          1                 0                0            0      ...        \n",
       "2          0                 0                1            1      ...        \n",
       "3          2                 1                1            2      ...        \n",
       "4          2                 1                1            2      ...        \n",
       "\n",
       "   region_Chorotega  region_pacifico  region_brunca  region_antlantica  \\\n",
       "0                 0                0              0                  0   \n",
       "1                 0                0              0                  0   \n",
       "2                 0                0              0                  0   \n",
       "3                 0                0              0                  0   \n",
       "4                 0                0              0                  0   \n",
       "\n",
       "   region_huetar  urban_zone  rural_zone  age  Target  monthly_rent  \n",
       "0              0           1           0   43       4      190000.0  \n",
       "1              0           1           0   67       4      135000.0  \n",
       "2              0           1           0   92       4           NaN  \n",
       "3              0           1           0   17       4      180000.0  \n",
       "4              0           1           0   37       4      180000.0  \n",
       "\n",
       "[5 rows x 84 columns]"
      ]
     },
     "execution_count": 46,
     "metadata": {},
     "output_type": "execute_result"
    }
   ],
   "source": [
    "#### Slide 20: Load the dataset  ####\n",
    "\n",
    "household_poverty = pd.read_csv(\"costa_rica_poverty.csv\")\n",
    "household_poverty.head()"
   ]
  },
  {
   "cell_type": "code",
   "execution_count": 47,
   "metadata": {},
   "outputs": [
    {
     "name": "stdout",
     "output_type": "stream",
     "text": [
      "  household_id  ppl_total  dependency_rate  num_adults  rooms  age  \\\n",
      "0    21eb7fcc1          1               37           1      3   43   \n",
      "1    0e5d7a658          1               36           1      4   67   \n",
      "2    2c7317ea8          1               36           1      8   92   \n",
      "3    2b58d945f          4               38           2      5   17   \n",
      "4    2b58d945f          4               38           2      5   37   \n",
      "\n",
      "   monthly_rent  Target  \n",
      "0      190000.0       4  \n",
      "1      135000.0       4  \n",
      "2           NaN       4  \n",
      "3      180000.0       4  \n",
      "4      180000.0       4  \n"
     ]
    }
   ],
   "source": [
    "#### Slide 21: Subsetting data  ####\n",
    "\n",
    "costa_viz = household_poverty[[\n",
    "    'household_id',\n",
    "    'ppl_total',\n",
    "    'dependency_rate',\n",
    "    'num_adults',\n",
    "    'rooms',\n",
    "    'age',\n",
    "    'monthly_rent',\n",
    "    'Target'\n",
    "]]\n",
    "print(costa_viz.head())"
   ]
  },
  {
   "cell_type": "code",
   "execution_count": 48,
   "metadata": {},
   "outputs": [
    {
     "data": {
      "text/html": [
       "<div>\n",
       "<style scoped>\n",
       "    .dataframe tbody tr th:only-of-type {\n",
       "        vertical-align: middle;\n",
       "    }\n",
       "\n",
       "    .dataframe tbody tr th {\n",
       "        vertical-align: top;\n",
       "    }\n",
       "\n",
       "    .dataframe thead th {\n",
       "        text-align: right;\n",
       "    }\n",
       "</style>\n",
       "<table border=\"1\" class=\"dataframe\">\n",
       "  <thead>\n",
       "    <tr style=\"text-align: right;\">\n",
       "      <th></th>\n",
       "      <th>ppl_total</th>\n",
       "      <th>dependency_rate</th>\n",
       "      <th>num_adults</th>\n",
       "      <th>rooms</th>\n",
       "      <th>age</th>\n",
       "      <th>monthly_rent</th>\n",
       "      <th>Target</th>\n",
       "    </tr>\n",
       "  </thead>\n",
       "  <tbody>\n",
       "    <tr>\n",
       "      <th>0</th>\n",
       "      <td>1</td>\n",
       "      <td>37</td>\n",
       "      <td>1</td>\n",
       "      <td>3</td>\n",
       "      <td>43</td>\n",
       "      <td>190000.0</td>\n",
       "      <td>4</td>\n",
       "    </tr>\n",
       "    <tr>\n",
       "      <th>1</th>\n",
       "      <td>1</td>\n",
       "      <td>36</td>\n",
       "      <td>1</td>\n",
       "      <td>4</td>\n",
       "      <td>67</td>\n",
       "      <td>135000.0</td>\n",
       "      <td>4</td>\n",
       "    </tr>\n",
       "    <tr>\n",
       "      <th>2</th>\n",
       "      <td>1</td>\n",
       "      <td>36</td>\n",
       "      <td>1</td>\n",
       "      <td>8</td>\n",
       "      <td>92</td>\n",
       "      <td>NaN</td>\n",
       "      <td>4</td>\n",
       "    </tr>\n",
       "    <tr>\n",
       "      <th>3</th>\n",
       "      <td>4</td>\n",
       "      <td>38</td>\n",
       "      <td>2</td>\n",
       "      <td>5</td>\n",
       "      <td>17</td>\n",
       "      <td>180000.0</td>\n",
       "      <td>4</td>\n",
       "    </tr>\n",
       "    <tr>\n",
       "      <th>4</th>\n",
       "      <td>4</td>\n",
       "      <td>38</td>\n",
       "      <td>2</td>\n",
       "      <td>5</td>\n",
       "      <td>37</td>\n",
       "      <td>180000.0</td>\n",
       "      <td>4</td>\n",
       "    </tr>\n",
       "  </tbody>\n",
       "</table>\n",
       "</div>"
      ],
      "text/plain": [
       "   ppl_total  dependency_rate  num_adults  rooms  age  monthly_rent  Target\n",
       "0          1               37           1      3   43      190000.0       4\n",
       "1          1               36           1      4   67      135000.0       4\n",
       "2          1               36           1      8   92           NaN       4\n",
       "3          4               38           2      5   17      180000.0       4\n",
       "4          4               38           2      5   37      180000.0       4"
      ]
     },
     "execution_count": 48,
     "metadata": {},
     "output_type": "execute_result"
    }
   ],
   "source": [
    "costa_viz = costa_viz.drop('household_id', axis = 1)\n",
    "costa_viz.head()"
   ]
  },
  {
   "cell_type": "code",
   "execution_count": 49,
   "metadata": {},
   "outputs": [
    {
     "data": {
      "text/plain": [
       "ppl_total             0\n",
       "dependency_rate       0\n",
       "num_adults            0\n",
       "rooms                 0\n",
       "age                   0\n",
       "monthly_rent       6860\n",
       "Target                0\n",
       "dtype: int64"
      ]
     },
     "execution_count": 49,
     "metadata": {},
     "output_type": "execute_result"
    }
   ],
   "source": [
    "costa_viz.isnull().sum()"
   ]
  },
  {
   "cell_type": "code",
   "execution_count": 50,
   "metadata": {},
   "outputs": [
    {
     "data": {
      "text/plain": [
       "ppl_total          0\n",
       "dependency_rate    0\n",
       "num_adults         0\n",
       "rooms              0\n",
       "age                0\n",
       "monthly_rent       0\n",
       "Target             0\n",
       "dtype: int64"
      ]
     },
     "execution_count": 50,
     "metadata": {},
     "output_type": "execute_result"
    }
   ],
   "source": [
    "costa_viz = costa_viz.fillna(costa_viz.mean())\n",
    "costa_viz.isnull().sum()"
   ]
  },
  {
   "cell_type": "code",
   "execution_count": 51,
   "metadata": {},
   "outputs": [
    {
     "data": {
      "text/plain": [
       "0    non_vulnerable\n",
       "1    non_vulnerable\n",
       "2    non_vulnerable\n",
       "3    non_vulnerable\n",
       "4    non_vulnerable\n",
       "Name: Target_class, dtype: object"
      ]
     },
     "execution_count": 51,
     "metadata": {},
     "output_type": "execute_result"
    }
   ],
   "source": [
    "costa_viz['Target_class'] = np.where(costa_viz['Target'] <= 3, 'vulnerable','non_vulnerable')\n",
    "costa_viz['Target_class'].head()"
   ]
  },
  {
   "cell_type": "code",
   "execution_count": null,
   "metadata": {},
   "outputs": [],
   "source": [
    "#### Slide 27: Exercise 1  ####"
   ]
  },
  {
   "cell_type": "code",
   "execution_count": null,
   "metadata": {},
   "outputs": [],
   "source": [
    "p = figure(\n",
    "    title = \"ppl_total vs num_adults\",\n",
    "    x_axis_label = 'ppl_total',\n",
    "    y_axis_label = 'num_adults',\n",
    "    plot_width = 400, plot_height = 400\n",
    ")\n",
    "\n",
    "p.diamond(\n",
    "    costa_viz['ppl_total'],\n",
    "    costa_viz['num_adults'],\n",
    "    size = 20,\n",
    "    color = \"plum\",\n",
    "    alpha = 0.2\n",
    ")\n",
    "\n",
    "show(p)"
   ]
  },
  {
   "cell_type": "code",
   "execution_count": 59,
   "metadata": {},
   "outputs": [
    {
     "data": {
      "text/plain": [
       "4    5996\n",
       "2    1597\n",
       "3    1209\n",
       "1     755\n",
       "Name: Target, dtype: int64"
      ]
     },
     "execution_count": 59,
     "metadata": {},
     "output_type": "execute_result"
    }
   ],
   "source": [
    "costa_viz.Target.value_counts()"
   ]
  },
  {
   "cell_type": "code",
   "execution_count": 58,
   "metadata": {},
   "outputs": [],
   "source": [
    "#### Slide 30: vbar() and hbar()  ####\n",
    "\n",
    "costa_viz.Target.value_counts()\n",
    "p = figure(plot_width=400, plot_height=400)\n",
    "\n",
    "p.vbar(\n",
    "    x = [4, 3, 2, 1],\n",
    "    width = 0.5,\n",
    "    bottom = 0,\n",
    "    top = costa_viz.Target.value_counts(),\n",
    "    color = \"firebrick\"\n",
    ")\n",
    "\n",
    "show(p)"
   ]
  },
  {
   "cell_type": "code",
   "execution_count": 54,
   "metadata": {},
   "outputs": [],
   "source": [
    "#=================================================-\n",
    "#### Slide 31: vbar() and hbar()  ####\n",
    "\n",
    "p = figure(plot_width = 400, plot_height = 400)\n",
    "\n",
    "p.hbar(\n",
    "    y = [4, 3, 2, 1],\n",
    "    height = 0.5,\n",
    "    left = 0,\n",
    "    right = costa_viz.Target.value_counts(),\n",
    "    color = \"navy\"\n",
    ")\n",
    "\n",
    "show(p)"
   ]
  },
  {
   "cell_type": "code",
   "execution_count": 60,
   "metadata": {},
   "outputs": [],
   "source": [
    "#### Slide 32: Markers for categorical data  ####\n",
    "\n",
    "LEVELS = ['non_vulnerable', 'vulnerable']\n",
    "MARKERS = ['triangle', 'hex']\n",
    "\n",
    "p = figure(\n",
    "    title = \"Number of adults vs dependency rate\",\n",
    "    x_axis_label = 'num_adults',\n",
    "    y_axis_label = 'dependency_rate'\n",
    ")"
   ]
  },
  {
   "cell_type": "code",
   "execution_count": 61,
   "metadata": {},
   "outputs": [],
   "source": [
    "#### Slide 33: Markers for categorical data  ####\n",
    "p.scatter(\n",
    "    \"num_adults\",\n",
    "    \"dependency_rate\",\n",
    "    source = costa_viz,\n",
    "    legend = \"Target_class\",\n",
    "    fill_alpha = 0.1,\n",
    "    size = 12,\n",
    "    marker = factor_mark('Target_class',MARKERS, LEVELS),\n",
    "    color = factor_cmap('Target_class','Category10_7',LEVELS)\n",
    ")\n",
    "\n",
    "show(p)"
   ]
  },
  {
   "cell_type": "code",
   "execution_count": 64,
   "metadata": {},
   "outputs": [
    {
     "data": {
      "text/html": [
       "<div style=\"display: table;\"><div style=\"display: table-row;\"><div style=\"display: table-cell;\"><b title=\"bokeh.models.renderers.GlyphRenderer\">GlyphRenderer</b>(</div><div style=\"display: table-cell;\">id&nbsp;=&nbsp;'5066', <span id=\"5069\" style=\"cursor: pointer;\">&hellip;)</span></div></div><div class=\"5068\" style=\"display: none;\"><div style=\"display: table-cell;\"></div><div style=\"display: table-cell;\">data_source&nbsp;=&nbsp;ColumnDataSource(id='5063', ...),</div></div><div class=\"5068\" style=\"display: none;\"><div style=\"display: table-cell;\"></div><div style=\"display: table-cell;\">glyph&nbsp;=&nbsp;Diamond(id='5064', ...),</div></div><div class=\"5068\" style=\"display: none;\"><div style=\"display: table-cell;\"></div><div style=\"display: table-cell;\">hover_glyph&nbsp;=&nbsp;None,</div></div><div class=\"5068\" style=\"display: none;\"><div style=\"display: table-cell;\"></div><div style=\"display: table-cell;\">js_event_callbacks&nbsp;=&nbsp;{},</div></div><div class=\"5068\" style=\"display: none;\"><div style=\"display: table-cell;\"></div><div style=\"display: table-cell;\">js_property_callbacks&nbsp;=&nbsp;{},</div></div><div class=\"5068\" style=\"display: none;\"><div style=\"display: table-cell;\"></div><div style=\"display: table-cell;\">level&nbsp;=&nbsp;'glyph',</div></div><div class=\"5068\" style=\"display: none;\"><div style=\"display: table-cell;\"></div><div style=\"display: table-cell;\">muted&nbsp;=&nbsp;False,</div></div><div class=\"5068\" style=\"display: none;\"><div style=\"display: table-cell;\"></div><div style=\"display: table-cell;\">muted_glyph&nbsp;=&nbsp;None,</div></div><div class=\"5068\" style=\"display: none;\"><div style=\"display: table-cell;\"></div><div style=\"display: table-cell;\">name&nbsp;=&nbsp;None,</div></div><div class=\"5068\" style=\"display: none;\"><div style=\"display: table-cell;\"></div><div style=\"display: table-cell;\">nonselection_glyph&nbsp;=&nbsp;Diamond(id='5065', ...),</div></div><div class=\"5068\" style=\"display: none;\"><div style=\"display: table-cell;\"></div><div style=\"display: table-cell;\">selection_glyph&nbsp;=&nbsp;None,</div></div><div class=\"5068\" style=\"display: none;\"><div style=\"display: table-cell;\"></div><div style=\"display: table-cell;\">subscribed_events&nbsp;=&nbsp;[],</div></div><div class=\"5068\" style=\"display: none;\"><div style=\"display: table-cell;\"></div><div style=\"display: table-cell;\">tags&nbsp;=&nbsp;[],</div></div><div class=\"5068\" style=\"display: none;\"><div style=\"display: table-cell;\"></div><div style=\"display: table-cell;\">view&nbsp;=&nbsp;CDSView(id='5067', ...),</div></div><div class=\"5068\" style=\"display: none;\"><div style=\"display: table-cell;\"></div><div style=\"display: table-cell;\">visible&nbsp;=&nbsp;True,</div></div><div class=\"5068\" style=\"display: none;\"><div style=\"display: table-cell;\"></div><div style=\"display: table-cell;\">x_range_name&nbsp;=&nbsp;'default',</div></div><div class=\"5068\" style=\"display: none;\"><div style=\"display: table-cell;\"></div><div style=\"display: table-cell;\">y_range_name&nbsp;=&nbsp;'default')</div></div></div>\n",
       "<script>\n",
       "(function() {\n",
       "  var expanded = false;\n",
       "  var ellipsis = document.getElementById(\"5069\");\n",
       "  ellipsis.addEventListener(\"click\", function() {\n",
       "    var rows = document.getElementsByClassName(\"5068\");\n",
       "    for (var i = 0; i < rows.length; i++) {\n",
       "      var el = rows[i];\n",
       "      el.style.display = expanded ? \"none\" : \"table-row\";\n",
       "    }\n",
       "    ellipsis.innerHTML = expanded ? \"&hellip;)\" : \"&lsaquo;&lsaquo;&lsaquo;\";\n",
       "    expanded = !expanded;\n",
       "  });\n",
       "})();\n",
       "</script>\n"
      ],
      "text/plain": [
       "GlyphRenderer(id='5066', ...)"
      ]
     },
     "execution_count": 64,
     "metadata": {},
     "output_type": "execute_result"
    }
   ],
   "source": [
    "#### Slide 35: Laying out plots and plot tools  ####\n",
    "\n",
    "tools = [\"box_select\", \"hover\", \"reset\"]\n",
    "\n",
    "# create a new plot\n",
    "p1 = figure(\n",
    "    title = \"ppl_total vs num_adults\",\n",
    "    plot_width = 400, plot_height = 400,\n",
    "    tools = tools\n",
    ")\n",
    "\n",
    "p1.xaxis.axis_label = 'ppl_total'\n",
    "p1.yaxis.axis_label = 'num_adults'\n",
    "\n",
    "p1.diamond(\n",
    "    costa_viz['ppl_total'],\n",
    "    costa_viz['num_adults'],\n",
    "    size = 20,\n",
    "    color = \"plum\",\n",
    "    alpha = 0.2\n",
    ")"
   ]
  },
  {
   "cell_type": "code",
   "execution_count": 65,
   "metadata": {},
   "outputs": [
    {
     "data": {
      "text/html": [
       "<div style=\"display: table;\"><div style=\"display: table-row;\"><div style=\"display: table-cell;\"><b title=\"bokeh.models.renderers.GlyphRenderer\">GlyphRenderer</b>(</div><div style=\"display: table-cell;\">id&nbsp;=&nbsp;'5139', <span id=\"5150\" style=\"cursor: pointer;\">&hellip;)</span></div></div><div class=\"5149\" style=\"display: none;\"><div style=\"display: table-cell;\"></div><div style=\"display: table-cell;\">data_source&nbsp;=&nbsp;ColumnDataSource(id='5135', ...),</div></div><div class=\"5149\" style=\"display: none;\"><div style=\"display: table-cell;\"></div><div style=\"display: table-cell;\">glyph&nbsp;=&nbsp;Scatter(id='5137', ...),</div></div><div class=\"5149\" style=\"display: none;\"><div style=\"display: table-cell;\"></div><div style=\"display: table-cell;\">hover_glyph&nbsp;=&nbsp;None,</div></div><div class=\"5149\" style=\"display: none;\"><div style=\"display: table-cell;\"></div><div style=\"display: table-cell;\">js_event_callbacks&nbsp;=&nbsp;{},</div></div><div class=\"5149\" style=\"display: none;\"><div style=\"display: table-cell;\"></div><div style=\"display: table-cell;\">js_property_callbacks&nbsp;=&nbsp;{},</div></div><div class=\"5149\" style=\"display: none;\"><div style=\"display: table-cell;\"></div><div style=\"display: table-cell;\">level&nbsp;=&nbsp;'glyph',</div></div><div class=\"5149\" style=\"display: none;\"><div style=\"display: table-cell;\"></div><div style=\"display: table-cell;\">muted&nbsp;=&nbsp;False,</div></div><div class=\"5149\" style=\"display: none;\"><div style=\"display: table-cell;\"></div><div style=\"display: table-cell;\">muted_glyph&nbsp;=&nbsp;None,</div></div><div class=\"5149\" style=\"display: none;\"><div style=\"display: table-cell;\"></div><div style=\"display: table-cell;\">name&nbsp;=&nbsp;None,</div></div><div class=\"5149\" style=\"display: none;\"><div style=\"display: table-cell;\"></div><div style=\"display: table-cell;\">nonselection_glyph&nbsp;=&nbsp;Scatter(id='5138', ...),</div></div><div class=\"5149\" style=\"display: none;\"><div style=\"display: table-cell;\"></div><div style=\"display: table-cell;\">selection_glyph&nbsp;=&nbsp;None,</div></div><div class=\"5149\" style=\"display: none;\"><div style=\"display: table-cell;\"></div><div style=\"display: table-cell;\">subscribed_events&nbsp;=&nbsp;[],</div></div><div class=\"5149\" style=\"display: none;\"><div style=\"display: table-cell;\"></div><div style=\"display: table-cell;\">tags&nbsp;=&nbsp;[],</div></div><div class=\"5149\" style=\"display: none;\"><div style=\"display: table-cell;\"></div><div style=\"display: table-cell;\">view&nbsp;=&nbsp;CDSView(id='5140', ...),</div></div><div class=\"5149\" style=\"display: none;\"><div style=\"display: table-cell;\"></div><div style=\"display: table-cell;\">visible&nbsp;=&nbsp;True,</div></div><div class=\"5149\" style=\"display: none;\"><div style=\"display: table-cell;\"></div><div style=\"display: table-cell;\">x_range_name&nbsp;=&nbsp;'default',</div></div><div class=\"5149\" style=\"display: none;\"><div style=\"display: table-cell;\"></div><div style=\"display: table-cell;\">y_range_name&nbsp;=&nbsp;'default')</div></div></div>\n",
       "<script>\n",
       "(function() {\n",
       "  var expanded = false;\n",
       "  var ellipsis = document.getElementById(\"5150\");\n",
       "  ellipsis.addEventListener(\"click\", function() {\n",
       "    var rows = document.getElementsByClassName(\"5149\");\n",
       "    for (var i = 0; i < rows.length; i++) {\n",
       "      var el = rows[i];\n",
       "      el.style.display = expanded ? \"none\" : \"table-row\";\n",
       "    }\n",
       "    ellipsis.innerHTML = expanded ? \"&hellip;)\" : \"&lsaquo;&lsaquo;&lsaquo;\";\n",
       "    expanded = !expanded;\n",
       "  });\n",
       "})();\n",
       "</script>\n"
      ],
      "text/plain": [
       "GlyphRenderer(id='5139', ...)"
      ]
     },
     "execution_count": 65,
     "metadata": {},
     "output_type": "execute_result"
    }
   ],
   "source": [
    "#### Slide 36: Laying out plots and widgets  ####\n",
    "\n",
    "# Create another one.\n",
    "p2 = figure(plot_width = 400, plot_height = 400, tools = tools)\n",
    "\n",
    "p2.hbar(\n",
    "    y=[4, 3, 2, 1],\n",
    "    height = 0.5,\n",
    "    left = 0,\n",
    "    right = costa_viz.Target.value_counts(),\n",
    "    color = \"navy\"\n",
    ")\n",
    "\n",
    "# Create another graph.\n",
    "p3 = figure(\n",
    "    title = \"Number of adults vs dependency rate\",\n",
    "    plot_width = 400,\n",
    "    plot_height = 400,\n",
    "    tools = tools\n",
    ")\n",
    "\n",
    "p3.xaxis.axis_label = 'num_adults'\n",
    "p3.yaxis.axis_label = 'dependency_rate'\n",
    "\n",
    "p3.scatter(\n",
    "    \"num_adults\", \"dependency_rate\",\n",
    "    source = costa_viz,\n",
    "    legend = \"Target_class\",\n",
    "    fill_alpha = 0.1, size = 12,\n",
    "    marker = factor_mark('Target_class',MARKERS, LEVELS),\n",
    "    color = factor_cmap('Target_class','Category10_7',LEVELS)\n",
    ")"
   ]
  },
  {
   "cell_type": "code",
   "execution_count": 66,
   "metadata": {},
   "outputs": [],
   "source": [
    "show(column(p1, p2, p3))"
   ]
  },
  {
   "cell_type": "code",
   "execution_count": 67,
   "metadata": {},
   "outputs": [],
   "source": [
    "#### Slide 38: Laying out plots and widgets  ####\n",
    "\n",
    "tools = [\"box_select\", \"hover\", \"reset\"]\n",
    "\n",
    "# Create a new plot.\n",
    "p1 = figure(\n",
    "    title = \"ppl_total vs num_adults\",\n",
    "    plot_width = 300, plot_height = 400,\n",
    "    tools = tools\n",
    ")\n",
    "\n",
    "p1.xaxis.axis_label = 'ppl_total'\n",
    "p1.yaxis.axis_label = 'num_adults'\n",
    "\n",
    "p1.diamond(costa_viz['ppl_total'],costa_viz['num_adults'], size = 20, color = \"plum\", alpha = 0.2)\n",
    "\n",
    "# Create another graph.\n",
    "p2 = figure(\n",
    "    plot_width = 300, \n",
    "    plot_height = 400, \n",
    "    y_axis_label = 'Poverty level',\n",
    "    x_axis_label = 'Frequency',\n",
    "    tools = tools\n",
    ")\n",
    "\n",
    "p2.hbar(\n",
    "    y=[4, 3, 2, 1],\n",
    "    height = 0.5, left = 0,\n",
    "    right=costa_viz.Target.value_counts(),\n",
    "    color = \"navy\"\n",
    ")\n",
    "       \n",
    "# Create another one.\n",
    "p3 = figure(title = \"Number of adults vs dependency rate\", plot_width = 300, plot_height = 400, tools = tools)\n",
    "p3.xaxis.axis_label = 'num_adults'\n",
    "p3.yaxis.axis_label = 'dependency_rate'\n",
    "\n",
    "p3.scatter(\n",
    "    \"num_adults\",\n",
    "    \"dependency_rate\",\n",
    "    source = costa_viz,\n",
    "    legend = \"Target_class\",\n",
    "    fill_alpha = 0.1,\n",
    "    size = 12,\n",
    "    marker=factor_mark('Target_class', MARKERS, LEVELS),\n",
    "    color=factor_cmap('Target_class', 'Category10_7', LEVELS)\n",
    ")\n",
    "\n",
    "show(row(p1, p2, p3))"
   ]
  },
  {
   "cell_type": "code",
   "execution_count": 68,
   "metadata": {},
   "outputs": [],
   "source": [
    "#=================================================-\n",
    "#### Slide 39: Laying out plots and widgets  ####\n",
    "\n",
    "tools = [\"box_select\", \"hover\", \"reset\"]\n",
    "\n",
    "# Create a new plot.\n",
    "p1 = figure(\n",
    "    title = \"ppl_total vs num_adults\",\n",
    "    plot_width = 300, plot_height = 200,\n",
    "    tools = tools\n",
    ")\n",
    "\n",
    "p1.xaxis.axis_label = 'ppl_total'\n",
    "p1.yaxis.axis_label = 'num_adults'\n",
    "\n",
    "p1.diamond(\n",
    "    costa_viz['ppl_total'],\n",
    "    costa_viz['num_adults'],\n",
    "    size = 20,\n",
    "    color = \"plum\",\n",
    "    alpha = 0.2\n",
    ")\n",
    "\n",
    "# Create another one.\n",
    "p2 = figure(\n",
    "    plot_width = 300, \n",
    "    plot_height = 200, \n",
    "    y_axis_label = 'Poverty level',\n",
    "    x_axis_label = 'Frequency',\n",
    "    tools = tools\n",
    ")\n",
    "\n",
    "p2.hbar(\n",
    "    y = [4, 3, 2, 1],\n",
    "    height = 0.5,\n",
    "    left = 0,\n",
    "    right = costa_viz.Target.value_counts(), color = \"navy\"\n",
    ")\n",
    "       \n",
    "# Create another one.\n",
    "p3 = figure(\n",
    "    title = \"Number of adults vs dependency rate\",\n",
    "    plot_width = 300,\n",
    "    plot_height = 200,\n",
    "    tools = tools\n",
    ")\n",
    "p3.xaxis.axis_label = 'num_adults'\n",
    "p3.yaxis.axis_label = 'dependency_rate'\n",
    "\n",
    "p3.scatter(\n",
    "    \"num_adults\",\n",
    "    \"dependency_rate\",\n",
    "    source = costa_viz,\n",
    "    legend = \"Target_class\",\n",
    "    fill_alpha = 0.1,\n",
    "    size = 12,\n",
    "    marker=factor_mark('Target_class', MARKERS, LEVELS),\n",
    "    color=factor_cmap('Target_class', 'Category10_7', LEVELS)\n",
    ")\n",
    "\n",
    "grid = gridplot([[p1, p2], [None, p3]])\n",
    "\n",
    "grid = gridplot([[p1, p2], [None, p3]])\n",
    "\n",
    "show(grid)\n",
    "\n"
   ]
  },
  {
   "cell_type": "code",
   "execution_count": 69,
   "metadata": {},
   "outputs": [],
   "source": [
    "#=================================================-\n",
    "#### Slide 40: ColumnDataSource  ####\n",
    "\n",
    "# Import the ColumnDataSource class.\n",
    "from bokeh.models import ColumnDataSource\n",
    "\n",
    "# Convert dataframe to column data source.\n",
    "src = ColumnDataSource(costa_viz)\n",
    "\n",
    "\n"
   ]
  },
  {
   "cell_type": "code",
   "execution_count": 70,
   "metadata": {},
   "outputs": [],
   "source": [
    "#=================================================-\n",
    "#### Slide 41: Customizing Hovertool  ####\n",
    "\n",
    "# The Hovertool refers to our own data field using @ and\n",
    "# a position on the graph using $.\n",
    "hover = HoverTool(\n",
    "    tooltips = [\n",
    "        ('Total number of people', '@ppl_total'),\n",
    "        ('Number of adults', '@num_adults'),\n",
    "        ('(x,y)', '($x, $y)')\n",
    "    ]\n",
    ")\n",
    "\n",
    "p = figure(\n",
    "    title = \"ppl_total vs num_adults\",\n",
    "    plot_width=400,\n",
    "    plot_height=400,\n",
    "    x_axis_label = 'ppl_total',\n",
    "    y_axis_label = 'num_adults'\n",
    ")\n",
    "\n",
    "p.diamond(\n",
    "    'ppl_total',\n",
    "    'num_adults',\n",
    "    source = src,\n",
    "    size = 20,\n",
    "    color = \"plum\",\n",
    "    alpha = 0.2\n",
    ")\n",
    "\n",
    "# Add the hover tool to the graph.\n",
    "p.add_tools(hover)\n",
    "\n",
    "show(p)"
   ]
  },
  {
   "cell_type": "code",
   "execution_count": 71,
   "metadata": {},
   "outputs": [],
   "source": [
    "#### Slide 43: Customizing Hovertool  ####\n",
    "\n",
    "# Hover tool refers to our own data field using @ and\n",
    "# a position on the graph using $.\n",
    "\n",
    "src = ColumnDataSource(costa_viz)\n",
    "hover = HoverTool(\n",
    "    tooltips = [\n",
    "        ('Total number of people', '@ppl_total'),\n",
    "        ('Number of adults', '@num_adults'),\n",
    "        ('(x,y)', '($x, $y)')\n",
    "    ]\n",
    ")\n",
    "\n",
    "p = figure(\n",
    "    title = \"ppl_total vs num_adults\",\n",
    "    plot_width = 400,\n",
    "    plot_height = 400,\n",
    "    x_axis_label = 'ppl_total',\n",
    "    y_axis_label = 'num_adults'\n",
    ")\n",
    "\n",
    "p.diamond(\n",
    "    'ppl_total',\n",
    "    'num_adults',\n",
    "    source = src,\n",
    "    size = 20,\n",
    "    color = \"plum\",\n",
    "    alpha = 0.2,\n",
    "    hover_fill_alpha = 1.0,\n",
    "    hover_fill_color = 'navy'\n",
    ")\n",
    "\n",
    "p.add_tools(hover)"
   ]
  },
  {
   "cell_type": "code",
   "execution_count": 72,
   "metadata": {},
   "outputs": [],
   "source": [
    "show(p)"
   ]
  },
  {
   "cell_type": "code",
   "execution_count": null,
   "metadata": {},
   "outputs": [],
   "source": [
    "#### Slide 46: Exercise 2  ####"
   ]
  },
  {
   "cell_type": "code",
   "execution_count": 74,
   "metadata": {},
   "outputs": [
    {
     "data": {
      "text/html": [
       "<div style=\"display: table;\"><div style=\"display: table-row;\"><div style=\"display: table-cell;\"><b title=\"bokeh.models.renderers.GlyphRenderer\">GlyphRenderer</b>(</div><div style=\"display: table-cell;\">id&nbsp;=&nbsp;'6363', <span id=\"6366\" style=\"cursor: pointer;\">&hellip;)</span></div></div><div class=\"6365\" style=\"display: none;\"><div style=\"display: table-cell;\"></div><div style=\"display: table-cell;\">data_source&nbsp;=&nbsp;ColumnDataSource(id='6320', ...),</div></div><div class=\"6365\" style=\"display: none;\"><div style=\"display: table-cell;\"></div><div style=\"display: table-cell;\">glyph&nbsp;=&nbsp;Square(id='6360', ...),</div></div><div class=\"6365\" style=\"display: none;\"><div style=\"display: table-cell;\"></div><div style=\"display: table-cell;\">hover_glyph&nbsp;=&nbsp;None,</div></div><div class=\"6365\" style=\"display: none;\"><div style=\"display: table-cell;\"></div><div style=\"display: table-cell;\">js_event_callbacks&nbsp;=&nbsp;{},</div></div><div class=\"6365\" style=\"display: none;\"><div style=\"display: table-cell;\"></div><div style=\"display: table-cell;\">js_property_callbacks&nbsp;=&nbsp;{},</div></div><div class=\"6365\" style=\"display: none;\"><div style=\"display: table-cell;\"></div><div style=\"display: table-cell;\">level&nbsp;=&nbsp;'glyph',</div></div><div class=\"6365\" style=\"display: none;\"><div style=\"display: table-cell;\"></div><div style=\"display: table-cell;\">muted&nbsp;=&nbsp;False,</div></div><div class=\"6365\" style=\"display: none;\"><div style=\"display: table-cell;\"></div><div style=\"display: table-cell;\">muted_glyph&nbsp;=&nbsp;None,</div></div><div class=\"6365\" style=\"display: none;\"><div style=\"display: table-cell;\"></div><div style=\"display: table-cell;\">name&nbsp;=&nbsp;None,</div></div><div class=\"6365\" style=\"display: none;\"><div style=\"display: table-cell;\"></div><div style=\"display: table-cell;\">nonselection_glyph&nbsp;=&nbsp;Square(id='6361', ...),</div></div><div class=\"6365\" style=\"display: none;\"><div style=\"display: table-cell;\"></div><div style=\"display: table-cell;\">selection_glyph&nbsp;=&nbsp;Square(id='6362', ...),</div></div><div class=\"6365\" style=\"display: none;\"><div style=\"display: table-cell;\"></div><div style=\"display: table-cell;\">subscribed_events&nbsp;=&nbsp;[],</div></div><div class=\"6365\" style=\"display: none;\"><div style=\"display: table-cell;\"></div><div style=\"display: table-cell;\">tags&nbsp;=&nbsp;[],</div></div><div class=\"6365\" style=\"display: none;\"><div style=\"display: table-cell;\"></div><div style=\"display: table-cell;\">view&nbsp;=&nbsp;CDSView(id='6364', ...),</div></div><div class=\"6365\" style=\"display: none;\"><div style=\"display: table-cell;\"></div><div style=\"display: table-cell;\">visible&nbsp;=&nbsp;True,</div></div><div class=\"6365\" style=\"display: none;\"><div style=\"display: table-cell;\"></div><div style=\"display: table-cell;\">x_range_name&nbsp;=&nbsp;'default',</div></div><div class=\"6365\" style=\"display: none;\"><div style=\"display: table-cell;\"></div><div style=\"display: table-cell;\">y_range_name&nbsp;=&nbsp;'default')</div></div></div>\n",
       "<script>\n",
       "(function() {\n",
       "  var expanded = false;\n",
       "  var ellipsis = document.getElementById(\"6366\");\n",
       "  ellipsis.addEventListener(\"click\", function() {\n",
       "    var rows = document.getElementsByClassName(\"6365\");\n",
       "    for (var i = 0; i < rows.length; i++) {\n",
       "      var el = rows[i];\n",
       "      el.style.display = expanded ? \"none\" : \"table-row\";\n",
       "    }\n",
       "    ellipsis.innerHTML = expanded ? \"&hellip;)\" : \"&lsaquo;&lsaquo;&lsaquo;\";\n",
       "    expanded = !expanded;\n",
       "  });\n",
       "})();\n",
       "</script>\n"
      ],
      "text/plain": [
       "GlyphRenderer(id='6363', ...)"
      ]
     },
     "execution_count": 74,
     "metadata": {},
     "output_type": "execute_result"
    }
   ],
   "source": [
    "#### Slide 48: Highlighting data using HoverTool()  ####\n",
    "\n",
    "# Store the data in a ColumnDataSource.\n",
    "costa_cds = ColumnDataSource(costa_viz)\n",
    "# Specify the selection tools to be made available.\n",
    "select_tools = ['box_select', 'lasso_select', 'poly_select', 'tap', 'reset']\n",
    "\n",
    "# Create the figure.\n",
    "fig = figure(\n",
    "    plot_height = 400,\n",
    "    plot_width = 600,\n",
    "    x_axis_label = 'ppl_total',\n",
    "    y_axis_label = 'num_adults',\n",
    "    title = 'Interactive scatterplot',\n",
    "    toolbar_location = 'below',\n",
    "    tools = select_tools\n",
    ")\n",
    "\n",
    "\n",
    "# Add square representing each layer.\n",
    "fig.square(\n",
    "    x = 'ppl_total',\n",
    "    y = 'num_adults',\n",
    "    source = costa_cds,\n",
    "    color = 'royalblue',\n",
    "    selection_color = 'deepskyblue',\n",
    "    nonselection_color = 'lightgray',\n",
    "    nonselection_alpha = 0.3\n",
    ")"
   ]
  },
  {
   "cell_type": "code",
   "execution_count": 75,
   "metadata": {},
   "outputs": [],
   "source": [
    "#### Slide 49: Customizing Hovertool  ####\n",
    "\n",
    "# Format the tooltip.\n",
    "tooltips = [\n",
    "('ppl_total','@ppl_total'),\n",
    "('num_adults', '@num_adults')\n",
    "]\n",
    "\n",
    "# Add the HoverTool to the figure.\n",
    "fig.add_tools(HoverTool(tooltips=tooltips))\n",
    "\n",
    "# Visualize the graph.\n",
    "show(fig)"
   ]
  },
  {
   "cell_type": "code",
   "execution_count": 76,
   "metadata": {},
   "outputs": [],
   "source": [
    "#### Slide 51: Customizing Hovertool  ####\n",
    "\n",
    "# Format the tooltip.\n",
    "tooltips = [\n",
    "    ('ppl_total','@ppl_total'),\n",
    "    ('num_adults', '@num_adults')\n",
    "]\n",
    "\n",
    "hover_glyph = fig.circle(\n",
    "    x = 'ppl_total',\n",
    "    y = 'num_adults',\n",
    "    source = costa_cds,\n",
    "    size = 15,\n",
    "    alpha = 0,\n",
    "    hover_fill_color = 'yellow',\n",
    "    hover_alpha = 0.2\n",
    ")\n",
    "\n",
    "# Add the HoverTool to the figure.\n",
    "fig.add_tools(HoverTool(tooltips = tooltips,  renderers = [hover_glyph]))\n",
    "\n",
    "# Visualize the graph.\n",
    "show(fig)"
   ]
  },
  {
   "cell_type": "code",
   "execution_count": 77,
   "metadata": {},
   "outputs": [],
   "source": [
    "#### Slide 52: Highlighting data using labels  ####\n",
    "\n",
    "costa_labels = ColumnDataSource(costa_viz)\n",
    "\n",
    "\n",
    "# Create a view for each label.\n",
    "vul_filters = [GroupFilter(column_name='Target_class', group = 'vulnerable')]\n",
    "\n",
    "vul_view = CDSView(source = costa_labels,\n",
    "filters = vul_filters)\n",
    "\n",
    "# Create a view for each label.\n",
    "nonvul_filters = [GroupFilter(column_name='Target_class', group = 'non_vulnerable')]\n",
    "\n",
    "nonvul_view = CDSView(source = costa_labels,\n",
    "filters = nonvul_filters)\n",
    "\n"
   ]
  },
  {
   "cell_type": "code",
   "execution_count": 78,
   "metadata": {},
   "outputs": [],
   "source": [
    "#### Slide 53: Highlighting data using labels  ####\n",
    "\n",
    "# Consolidate the common keyword arguments in dictionaries.\n",
    "common_figure_kwargs = {\n",
    "    'plot_width': 400,\n",
    "    'x_axis_label': 'num_adults',\n",
    "    'y_axis_label' : 'dependency_rate',\n",
    "    'toolbar_location': None\n",
    "}\n",
    "common_circle_kwargs = {\n",
    "    'x': 'ppl_total',\n",
    "    'y': 'num_adults',\n",
    "    'source': costa_labels,\n",
    "    'size': 12,\n",
    "    'alpha': 0.7,\n",
    "}\n",
    "common_vul_kwargs = {\n",
    "    'view': vul_view,\n",
    "    'color': '#002859',\n",
    "    'legend': 'vulnerable'\n",
    "}\n",
    "common_non_kwargs = {\n",
    "    'view': nonvul_view,\n",
    "    'color': '#FFC324',\n",
    "    'legend': 'non_vulnerable'\n",
    "}"
   ]
  },
  {
   "cell_type": "code",
   "execution_count": 79,
   "metadata": {},
   "outputs": [],
   "source": [
    "#=================================================-\n",
    "#### Slide 55: Highlighting data using labels  ####\n",
    "\n",
    "hide_fig = figure(\n",
    "    **common_figure_kwargs,\n",
    "    title = 'Click Legend to HIDE Data'\n",
    ")\n",
    "hide_fig.scatter(\n",
    "    **common_circle_kwargs,\n",
    "    **common_vul_kwargs\n",
    ")\n",
    "hide_fig.scatter(\n",
    "    **common_circle_kwargs,\n",
    "    **common_non_kwargs\n",
    ")\n",
    "\n",
    "mute_fig = figure(\n",
    "    **common_figure_kwargs,\n",
    "    title = 'Click Legend to MUTE Data'\n",
    ")\n",
    "mute_fig.circle(\n",
    "    **common_circle_kwargs,\n",
    "    **common_vul_kwargs,\n",
    "    muted_alpha = 0.1\n",
    ")\n",
    "mute_fig.circle(\n",
    "    **common_circle_kwargs,\n",
    "    **common_non_kwargs,\n",
    "    muted_alpha = 0.1\n",
    ")\n",
    "\n",
    "hide_fig.legend.click_policy = 'hide'\n",
    "mute_fig.legend.click_policy = 'mute'\n",
    "\n",
    "# Visualize the graph.\n",
    "show(row(hide_fig, mute_fig))\n",
    "\n"
   ]
  },
  {
   "cell_type": "code",
   "execution_count": null,
   "metadata": {},
   "outputs": [],
   "source": [
    "#### Slide 58: Exercise 3  ####"
   ]
  },
  {
   "cell_type": "code",
   "execution_count": 82,
   "metadata": {},
   "outputs": [
    {
     "data": {
      "application/vnd.jupyter.widget-view+json": {
       "model_id": "50fbc81894a24941a7d188bfa5bbc6e9",
       "version_major": 2,
       "version_minor": 0
      },
      "text/plain": [
       "interactive(children=(Dropdown(description='x', options=('ppl_total', 'dependency_rate', 'num_adults', 'rooms'…"
      ]
     },
     "metadata": {},
     "output_type": "display_data"
    }
   ],
   "source": [
    "#### Slide 61: Adding widgets to graphs  ####\n",
    "\n",
    "@interact_manual\n",
    "def scatter_plot(x = list(costa_viz.columns), y = list(costa_viz.columns)):\n",
    "    p = figure(title = f'{x} vs {y}',\n",
    "    x_axis_label = x,\n",
    "    y_axis_label = y)\n",
    "\n",
    "    p.circle(x = x, y = y, source = costa_viz, size = 20, color = \"thistle\", alpha = 0.2)\n",
    "    show(p)"
   ]
  },
  {
   "cell_type": "code",
   "execution_count": 35,
   "metadata": {},
   "outputs": [
    {
     "data": {
      "text/html": [
       "        <script type=\"text/javascript\">\n",
       "        window.PlotlyConfig = {MathJaxConfig: 'local'};\n",
       "        if (window.MathJax) {MathJax.Hub.Config({SVG: {font: \"STIX-Web\"}});}\n",
       "        if (typeof require !== 'undefined') {\n",
       "        require.undef(\"plotly\");\n",
       "        requirejs.config({\n",
       "            paths: {\n",
       "                'plotly': ['https://cdn.plot.ly/plotly-latest.min']\n",
       "            }\n",
       "        });\n",
       "        require(['plotly'], function(Plotly) {\n",
       "            window._Plotly = Plotly;\n",
       "        });\n",
       "        }\n",
       "        </script>\n",
       "        "
      ]
     },
     "metadata": {},
     "output_type": "display_data"
    },
    {
     "data": {
      "text/html": [
       "        <script type=\"text/javascript\">\n",
       "        window.PlotlyConfig = {MathJaxConfig: 'local'};\n",
       "        if (window.MathJax) {MathJax.Hub.Config({SVG: {font: \"STIX-Web\"}});}\n",
       "        if (typeof require !== 'undefined') {\n",
       "        require.undef(\"plotly\");\n",
       "        requirejs.config({\n",
       "            paths: {\n",
       "                'plotly': ['https://cdn.plot.ly/plotly-latest.min']\n",
       "            }\n",
       "        });\n",
       "        require(['plotly'], function(Plotly) {\n",
       "            window._Plotly = Plotly;\n",
       "        });\n",
       "        }\n",
       "        </script>\n",
       "        "
      ]
     },
     "metadata": {},
     "output_type": "display_data"
    }
   ],
   "source": [
    "#### Slide 63: Adding widgets to plotly graphs  ####\n",
    "\n",
    "import plotly\n",
    "import cufflinks as cf\n",
    "from plotly.offline import download_plotlyjs, init_notebook_mode, plot, iplot\n",
    "init_notebook_mode(connected=True)\n",
    "cf.go_offline()\n",
    "\n"
   ]
  },
  {
   "cell_type": "code",
   "execution_count": 83,
   "metadata": {},
   "outputs": [
    {
     "data": {
      "application/vnd.jupyter.widget-view+json": {
       "model_id": "1f15ef4015c24ee4a6ea618fac4e74dd",
       "version_major": 2,
       "version_minor": 0
      },
      "text/plain": [
       "interactive(children=(Dropdown(description='x', options=('ppl_total', 'dependency_rate', 'num_adults', 'rooms'…"
      ]
     },
     "metadata": {},
     "output_type": "display_data"
    }
   ],
   "source": [
    "#### Slide 64: Adding widgets to plotly graphs  ####\n",
    "\n",
    "@interact_manual\n",
    "def scatter_plot(x = list(costa_viz.columns), y = list(costa_viz.columns), \n",
    "                 theme = list(cf.themes.THEMES.keys()), colorscale = list(cf.colors._scales_names.keys())):\n",
    "\n",
    "    costa_viz.iplot(kind = 'scatter', x = x, y = y, mode='markers',\n",
    "    categories = 'Target_class',\n",
    "    xTitle = x, yTitle = y,\n",
    "    title = f'{x} vs {y}',\n",
    "    theme = theme, colorscale = colorscale)\n",
    "\n"
   ]
  },
  {
   "cell_type": "code",
   "execution_count": 37,
   "metadata": {},
   "outputs": [
    {
     "data": {
      "text/plain": [
       "'/Users/datasociety/Desktop/af-werx/plots/bokeh-simple-plot.html'"
      ]
     },
     "execution_count": 37,
     "metadata": {},
     "output_type": "execute_result"
    }
   ],
   "source": [
    "#### Slide 67: Saving your graph  ####\n",
    "\n",
    "os.chdir(plot_dir)\n",
    "# Create figure.\n",
    "p = figure(plot_width = 400, plot_height = 400)\n",
    "\n",
    "# Add glyphs to it.\n",
    "p.triangle(x_values, y_values, size = 20, color = \"darkseagreen\", alpha = 0.7)\n",
    "\n",
    "# Save your plot.\n",
    "output_file(\"bokeh-simple-plot.html\", mode = 'inline')\n",
    "save(p)\n",
    "\n"
   ]
  },
  {
   "cell_type": "code",
   "execution_count": null,
   "metadata": {},
   "outputs": [],
   "source": []
  }
 ],
 "metadata": {
  "kernelspec": {
   "display_name": "Python 3",
   "language": "python",
   "name": "python3"
  },
  "language_info": {
   "codemirror_mode": {
    "name": "ipython",
    "version": 3
   },
   "file_extension": ".py",
   "mimetype": "text/x-python",
   "name": "python",
   "nbconvert_exporter": "python",
   "pygments_lexer": "ipython3",
   "version": "3.7.1"
  }
 },
 "nbformat": 4,
 "nbformat_minor": 2
}
