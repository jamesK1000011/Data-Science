{
 "cells": [
  {
   "cell_type": "code",
   "execution_count": 1,
   "metadata": {},
   "outputs": [],
   "source": [
    "# import NumPy\n",
    "import numpy as np"
   ]
  },
  {
   "cell_type": "code",
   "execution_count": 2,
   "metadata": {},
   "outputs": [
    {
     "name": "stdout",
     "output_type": "stream",
     "text": [
      "[ 17.  -10.   16.8  11. ]\n"
     ]
    }
   ],
   "source": [
    "# create an array from a list\n",
    "arr = np.array([17,-10,16.8,11])\n",
    "print(arr)"
   ]
  },
  {
   "cell_type": "code",
   "execution_count": 3,
   "metadata": {},
   "outputs": [
    {
     "name": "stdout",
     "output_type": "stream",
     "text": [
      "<class 'numpy.ndarray'>\n"
     ]
    }
   ],
   "source": [
    "print(type(arr))"
   ]
  },
  {
   "cell_type": "code",
   "execution_count": 4,
   "metadata": {},
   "outputs": [
    {
     "name": "stdout",
     "output_type": "stream",
     "text": [
      "float64\n"
     ]
    }
   ],
   "source": [
    "print(arr.dtype)"
   ]
  },
  {
   "cell_type": "code",
   "execution_count": 7,
   "metadata": {},
   "outputs": [
    {
     "name": "stdout",
     "output_type": "stream",
     "text": [
      "[-2.         -1.95833333 -1.91666667 -1.875      -1.83333333 -1.79166667\n",
      " -1.75       -1.70833333 -1.66666667 -1.625      -1.58333333 -1.54166667\n",
      " -1.5        -1.45833333 -1.41666667 -1.375      -1.33333333 -1.29166667\n",
      " -1.25       -1.20833333 -1.16666667 -1.125      -1.08333333 -1.04166667\n",
      " -1.        ]\n"
     ]
    }
   ],
   "source": [
    "# create an np array of 25 numbers between -2 and -2\n",
    "y = np.linspace(-2, -1, 25)\n",
    "print(y)"
   ]
  },
  {
   "cell_type": "code",
   "execution_count": 9,
   "metadata": {},
   "outputs": [
    {
     "name": "stdout",
     "output_type": "stream",
     "text": [
      "[ 0  1  2  3  4  5  6  7  8  9 10 11 12 13 14 15 16 17 18 19 20 21 22 23\n",
      " 24 25 26 27 28 29 30 31 32 33 34 35 36 37 38 39 40 41 42 43 44 45 46 47\n",
      " 48 49 50]\n"
     ]
    }
   ],
   "source": [
    "# create an arrange using np.arrange\n",
    "rng = np.arange(0,51)\n",
    "print(rng)"
   ]
  },
  {
   "cell_type": "code",
   "execution_count": 10,
   "metadata": {},
   "outputs": [
    {
     "name": "stdout",
     "output_type": "stream",
     "text": [
      "[ 0  2  4  6  8 10 12 14 16 18 20 22]\n"
     ]
    }
   ],
   "source": [
    "# create an np arrrange with stepped values\n",
    "evens = np.arange(0, 23, 2)\n",
    "print(evens)"
   ]
  },
  {
   "cell_type": "code",
   "execution_count": 11,
   "metadata": {},
   "outputs": [
    {
     "name": "stdout",
     "output_type": "stream",
     "text": [
      "[0, 2, 4, 6, 8, 10, 12, 14, 16, 18, 20, 22]\n"
     ]
    }
   ],
   "source": [
    "# convert list from np arrange\n",
    "print(list(evens))"
   ]
  },
  {
   "cell_type": "code",
   "execution_count": 13,
   "metadata": {},
   "outputs": [
    {
     "name": "stdout",
     "output_type": "stream",
     "text": [
      "[3 3 3 3]\n",
      "[-1 -1 -1 -1]\n",
      "[2 2 2 2]\n",
      "[0.5 0.5 0.5 0.5]\n"
     ]
    }
   ],
   "source": [
    "# Save two arrays as variables.\n",
    "a = np.array([1,1,1,1]) \n",
    "b = np.array([2,2,2,2])\n",
    "# operations of arrays.\n",
    "print(a + b)\n",
    "print(a - b)\n",
    "print(a * b)\n",
    "print(a / b)"
   ]
  },
  {
   "cell_type": "code",
   "execution_count": 14,
   "metadata": {},
   "outputs": [
    {
     "name": "stdout",
     "output_type": "stream",
     "text": [
      "[2 7 1]\n"
     ]
    }
   ],
   "source": [
    "# get absolute of np array\n",
    "print(np.abs([-2, -7, 1]))"
   ]
  },
  {
   "cell_type": "code",
   "execution_count": 15,
   "metadata": {},
   "outputs": [
    {
     "name": "stdout",
     "output_type": "stream",
     "text": [
      "20\n",
      "20.5\n"
     ]
    }
   ],
   "source": [
    "# accessing np array values by index\n",
    "nums = np.arange(20, 30, .5) \n",
    "print(len(nums))\n",
    "\n",
    "print(nums[1]) #<- get the second element"
   ]
  },
  {
   "cell_type": "code",
   "execution_count": 16,
   "metadata": {},
   "outputs": [
    {
     "name": "stdout",
     "output_type": "stream",
     "text": [
      "[26.5 27.  27.5 28.  28.5 29.  29.5]\n"
     ]
    }
   ],
   "source": [
    "# filtering number from np array\n",
    "large_nums = nums[nums > 26] \n",
    "print(large_nums)"
   ]
  },
  {
   "cell_type": "code",
   "execution_count": 17,
   "metadata": {},
   "outputs": [
    {
     "name": "stdout",
     "output_type": "stream",
     "text": [
      "[[8 2 6 8]\n",
      " [4 5 7 2]\n",
      " [3 9 7 1]]\n"
     ]
    }
   ],
   "source": [
    "# create a 2d np array\n",
    "mat = np.array([\n",
    "[8, 2, 6, 8],\n",
    "[4, 5, 7, 2],\n",
    "[3, 9, 7, 1] ])\n",
    "print(mat)"
   ]
  },
  {
   "cell_type": "code",
   "execution_count": 18,
   "metadata": {},
   "outputs": [
    {
     "name": "stdout",
     "output_type": "stream",
     "text": [
      "3 4\n"
     ]
    }
   ],
   "source": [
    "nrows, ncols = mat.shape \n",
    "print(nrows, ncols)"
   ]
  },
  {
   "cell_type": "code",
   "execution_count": 19,
   "metadata": {},
   "outputs": [
    {
     "name": "stdout",
     "output_type": "stream",
     "text": [
      "2\n"
     ]
    }
   ],
   "source": [
    "# extracted the 2nd row/4th column (index at 0)\n",
    "print(mat[1, 3])"
   ]
  },
  {
   "cell_type": "code",
   "execution_count": 20,
   "metadata": {},
   "outputs": [
    {
     "name": "stdout",
     "output_type": "stream",
     "text": [
      "[8 2 6 8]\n"
     ]
    }
   ],
   "source": [
    "# extract the 1st row and all columns (colon)\n",
    "print(mat[0, :])"
   ]
  },
  {
   "cell_type": "code",
   "execution_count": 21,
   "metadata": {},
   "outputs": [
    {
     "name": "stdout",
     "output_type": "stream",
     "text": [
      "[[7]\n",
      " [7]]\n"
     ]
    }
   ],
   "source": [
    "# extract the 2nd-3rd rows, 2nd/3rd columns\n",
    "print(mat[1:3, 2:3])"
   ]
  },
  {
   "cell_type": "code",
   "execution_count": 22,
   "metadata": {},
   "outputs": [],
   "source": [
    "# import panda library\n",
    "import pandas as pd"
   ]
  },
  {
   "cell_type": "code",
   "execution_count": 24,
   "metadata": {},
   "outputs": [],
   "source": [
    "#import os\n",
    "import os"
   ]
  },
  {
   "cell_type": "code",
   "execution_count": 33,
   "metadata": {},
   "outputs": [],
   "source": [
    "# Set `main_dir` to the location of your `af-werx` folder (for Mac).\n",
    "main_dir = '/Users/datasociety/Desktop/af-werx'\n"
   ]
  },
  {
   "cell_type": "code",
   "execution_count": 34,
   "metadata": {},
   "outputs": [],
   "source": [
    "# Make `data_dir` from the `main_dir` and \n",
    "# remainder of the path to data directory. \n",
    "data_dir = main_dir + \"/data\""
   ]
  },
  {
   "cell_type": "code",
   "execution_count": 36,
   "metadata": {},
   "outputs": [
    {
     "name": "stdout",
     "output_type": "stream",
     "text": [
      "/Users/datasociety/Desktop/af-werx/data\n"
     ]
    }
   ],
   "source": [
    "# Check working directory.\n",
    "print(os.getcwd())"
   ]
  },
  {
   "cell_type": "code",
   "execution_count": 35,
   "metadata": {},
   "outputs": [],
   "source": [
    "# Set working directory.\n",
    "os.chdir(data_dir)"
   ]
  },
  {
   "cell_type": "code",
   "execution_count": 37,
   "metadata": {},
   "outputs": [
    {
     "name": "stdout",
     "output_type": "stream",
     "text": [
      "0    45\n",
      "1    89\n",
      "2    67\n",
      "3    33\n",
      "dtype: int64\n"
     ]
    }
   ],
   "source": [
    "# create series (numpy array for panda)\n",
    "num_series = pd.Series([45, 89, 67, 33])\n",
    "print(num_series)"
   ]
  },
  {
   "cell_type": "code",
   "execution_count": 38,
   "metadata": {},
   "outputs": [
    {
     "name": "stdout",
     "output_type": "stream",
     "text": [
      "[45 89 67 33]\n"
     ]
    }
   ],
   "source": [
    "# extract valus \n",
    "print(num_series.values)"
   ]
  },
  {
   "cell_type": "code",
   "execution_count": 39,
   "metadata": {},
   "outputs": [
    {
     "name": "stdout",
     "output_type": "stream",
     "text": [
      "DatetimeIndex(['2017-01-31', '2017-02-28', '2017-03-31'], dtype='datetime64[ns]', freq='M')\n"
     ]
    }
   ],
   "source": [
    "# create a date range Go in intervals of month.\n",
    "print(pd.date_range(start = '20170101', end = '20170331', freq = 'M'))"
   ]
  },
  {
   "cell_type": "code",
   "execution_count": 40,
   "metadata": {},
   "outputs": [
    {
     "name": "stdout",
     "output_type": "stream",
     "text": [
      "DatetimeIndex(['2017-01-31', '2017-02-28', '2017-03-31', '2017-04-30'], dtype='datetime64[ns]', freq='M')\n"
     ]
    }
   ],
   "source": [
    "# Not specifying end, but instead the start, freq, and how many periods.\n",
    "print(pd.date_range(start = '20170101', freq = 'M', periods = 4))"
   ]
  },
  {
   "cell_type": "code",
   "execution_count": 41,
   "metadata": {},
   "outputs": [
    {
     "name": "stdout",
     "output_type": "stream",
     "text": [
      "DatetimeIndex(['2017-01-01 00:00:00', '2017-01-01 01:00:00',\n",
      "               '2017-01-01 02:00:00', '2017-01-01 03:00:00',\n",
      "               '2017-01-01 04:00:00', '2017-01-01 05:00:00',\n",
      "               '2017-01-01 06:00:00', '2017-01-01 07:00:00',\n",
      "               '2017-01-01 08:00:00', '2017-01-01 09:00:00',\n",
      "               '2017-01-01 10:00:00', '2017-01-01 11:00:00',\n",
      "               '2017-01-01 12:00:00', '2017-01-01 13:00:00',\n",
      "               '2017-01-01 14:00:00', '2017-01-01 15:00:00',\n",
      "               '2017-01-01 16:00:00', '2017-01-01 17:00:00',\n",
      "               '2017-01-01 18:00:00', '2017-01-01 19:00:00',\n",
      "               '2017-01-01 20:00:00', '2017-01-01 21:00:00',\n",
      "               '2017-01-01 22:00:00', '2017-01-01 23:00:00',\n",
      "               '2017-01-02 00:00:00'],\n",
      "              dtype='datetime64[ns]', freq='H')\n"
     ]
    }
   ],
   "source": [
    "# create an hourly series\n",
    "\n",
    "print(pd.date_range(start = '20170101', end = '20170102', freq = 'H'))"
   ]
  },
  {
   "cell_type": "code",
   "execution_count": 44,
   "metadata": {},
   "outputs": [
    {
     "name": "stdout",
     "output_type": "stream",
     "text": [
      "0     5\n",
      "1    10\n",
      "2    15\n",
      "dtype: int64\n"
     ]
    }
   ],
   "source": [
    "# create a series 5,10,15 in order\n",
    "norm_series = pd.Series(np.arange(5, 20, 5)) \n",
    "print(norm_series)"
   ]
  },
  {
   "cell_type": "code",
   "execution_count": 46,
   "metadata": {},
   "outputs": [
    {
     "name": "stdout",
     "output_type": "stream",
     "text": [
      "(3,)\n"
     ]
    }
   ],
   "source": [
    "# get number of rows and colums\n",
    "print(norm_series.shape)"
   ]
  },
  {
   "cell_type": "code",
   "execution_count": 47,
   "metadata": {},
   "outputs": [
    {
     "name": "stdout",
     "output_type": "stream",
     "text": [
      "10.0\n"
     ]
    }
   ],
   "source": [
    "# Get mean\n",
    "print(norm_series.mean())"
   ]
  },
  {
   "cell_type": "code",
   "execution_count": 48,
   "metadata": {},
   "outputs": [
    {
     "name": "stdout",
     "output_type": "stream",
     "text": [
      "10.0\n"
     ]
    }
   ],
   "source": [
    "# get median\n",
    "print(norm_series.median())"
   ]
  },
  {
   "cell_type": "code",
   "execution_count": 49,
   "metadata": {},
   "outputs": [
    {
     "name": "stdout",
     "output_type": "stream",
     "text": [
      "5.0\n"
     ]
    }
   ],
   "source": [
    "# get std deviation\n",
    "print(norm_series.std())"
   ]
  },
  {
   "cell_type": "code",
   "execution_count": 50,
   "metadata": {},
   "outputs": [
    {
     "name": "stdout",
     "output_type": "stream",
     "text": [
      "[ 5 10 15]\n"
     ]
    }
   ],
   "source": [
    "# Show only unique values.\n",
    "print(norm_series.unique())"
   ]
  },
  {
   "cell_type": "code",
   "execution_count": 51,
   "metadata": {},
   "outputs": [
    {
     "name": "stdout",
     "output_type": "stream",
     "text": [
      "3\n"
     ]
    }
   ],
   "source": [
    " # Show number of unique values.\n",
    "print(norm_series.nunique())"
   ]
  },
  {
   "cell_type": "code",
   "execution_count": 52,
   "metadata": {},
   "outputs": [
    {
     "name": "stdout",
     "output_type": "stream",
     "text": [
      "15    1\n",
      "10    1\n",
      "5     1\n",
      "dtype: int64\n"
     ]
    }
   ],
   "source": [
    " # Show counts of unique values.\n",
    "print(norm_series.value_counts())"
   ]
  },
  {
   "cell_type": "code",
   "execution_count": 53,
   "metadata": {},
   "outputs": [
    {
     "name": "stdout",
     "output_type": "stream",
     "text": [
      "0\n"
     ]
    }
   ],
   "source": [
    " # Position of the min value.\n",
    "print(norm_series.idxmin())"
   ]
  },
  {
   "cell_type": "code",
   "execution_count": 54,
   "metadata": {},
   "outputs": [
    {
     "name": "stdout",
     "output_type": "stream",
     "text": [
      "2\n"
     ]
    }
   ],
   "source": [
    "# Position of the max value.\n",
    "print(norm_series.idxmax())"
   ]
  },
  {
   "cell_type": "code",
   "execution_count": 55,
   "metadata": {},
   "outputs": [
    {
     "name": "stdout",
     "output_type": "stream",
     "text": [
      "0    1.0\n",
      "1    2.0\n",
      "2    3.0\n",
      "dtype: float64\n"
     ]
    }
   ],
   "source": [
    " # Ranks from smallest to largest.\n",
    "print(norm_series.rank())"
   ]
  },
  {
   "cell_type": "code",
   "execution_count": 56,
   "metadata": {},
   "outputs": [
    {
     "name": "stdout",
     "output_type": "stream",
     "text": [
      "0    3.0\n",
      "1    2.0\n",
      "2    1.0\n",
      "dtype: float64\n"
     ]
    }
   ],
   "source": [
    "   # Ranks from largest to smallest.\n",
    "print(norm_series.rank(ascending = False))"
   ]
  },
  {
   "cell_type": "code",
   "execution_count": 57,
   "metadata": {},
   "outputs": [
    {
     "name": "stdout",
     "output_type": "stream",
     "text": [
      "0     5\n",
      "1    10\n",
      "2    15\n",
      "dtype: int64\n"
     ]
    }
   ],
   "source": [
    "# Sorts values.\n",
    "print(norm_series.sort_values())"
   ]
  },
  {
   "cell_type": "code",
   "execution_count": 58,
   "metadata": {},
   "outputs": [
    {
     "name": "stdout",
     "output_type": "stream",
     "text": [
      "0     5\n",
      "1    15\n",
      "2    30\n",
      "dtype: int64\n"
     ]
    }
   ],
   "source": [
    "# Returns a series that is the cumulative sum of `norm_series`.\n",
    "print(norm_series.cumsum())"
   ]
  },
  {
   "cell_type": "code",
   "execution_count": 59,
   "metadata": {},
   "outputs": [],
   "source": [
    "# Series 1 - times:\n",
    "times = pd.date_range(start = '20170101', end = '20170630', freq = 'M')\n",
    "# Series 2 - days out of the office:\n",
    "days = pd.Series([2, 2, 6, 6, 2, 3])\n"
   ]
  },
  {
   "cell_type": "code",
   "execution_count": 60,
   "metadata": {},
   "outputs": [
    {
     "name": "stdout",
     "output_type": "stream",
     "text": [
      "   Timestamp  OOO\n",
      "0 2017-01-31    2\n",
      "1 2017-02-28    2\n",
      "2 2017-03-31    6\n",
      "3 2017-04-30    6\n",
      "4 2017-05-31    2\n"
     ]
    }
   ],
   "source": [
    "# Create a dataframe from the two series we just created, as a dictionary.\n",
    "average_ooo = pd.DataFrame({'Timestamp': times, 'OOO': days})\n",
    "# View the first few rows of the dataframe, using the pandas function `.head()`.\n",
    "print(average_ooo.head())"
   ]
  },
  {
   "cell_type": "code",
   "execution_count": 61,
   "metadata": {},
   "outputs": [
    {
     "name": "stdout",
     "output_type": "stream",
     "text": [
      "<class 'pandas.core.frame.DataFrame'>\n"
     ]
    }
   ],
   "source": [
    "# Look up the type of object.\n",
    "print(type(average_ooo))"
   ]
  },
  {
   "cell_type": "code",
   "execution_count": 62,
   "metadata": {},
   "outputs": [
    {
     "name": "stdout",
     "output_type": "stream",
     "text": [
      "(6, 2)\n"
     ]
    }
   ],
   "source": [
    "# Look up its shape.\n",
    "print(average_ooo.shape)"
   ]
  },
  {
   "cell_type": "code",
   "execution_count": 65,
   "metadata": {},
   "outputs": [
    {
     "name": "stdout",
     "output_type": "stream",
     "text": [
      "Index(['Timestamp', 'OOO'], dtype='object')\n"
     ]
    }
   ],
   "source": [
    "# get preview of metrics of dataframe\n",
    "print(average_ooo.columns)"
   ]
  },
  {
   "cell_type": "code",
   "execution_count": 66,
   "metadata": {},
   "outputs": [
    {
     "name": "stdout",
     "output_type": "stream",
     "text": [
      "<class 'pandas.core.frame.DataFrame'>\n",
      "RangeIndex: 6 entries, 0 to 5\n",
      "Data columns (total 2 columns):\n",
      "Timestamp    6 non-null datetime64[ns]\n",
      "OOO          6 non-null int64\n",
      "dtypes: datetime64[ns](1), int64(1)\n",
      "memory usage: 176.0 bytes\n",
      "None\n"
     ]
    }
   ],
   "source": [
    "# get metric of dataframe info\n",
    "print(average_ooo.info())"
   ]
  },
  {
   "cell_type": "code",
   "execution_count": 67,
   "metadata": {},
   "outputs": [
    {
     "name": "stdout",
     "output_type": "stream",
     "text": [
      "            OOO\n",
      "count  6.000000\n",
      "mean   3.500000\n",
      "std    1.974842\n",
      "min    2.000000\n",
      "25%    2.000000\n",
      "50%    2.500000\n",
      "75%    5.250000\n",
      "max    6.000000\n"
     ]
    }
   ],
   "source": [
    "# get summary in panda of dataframe\n",
    "print(average_ooo.describe())"
   ]
  },
  {
   "cell_type": "code",
   "execution_count": 68,
   "metadata": {},
   "outputs": [
    {
     "name": "stdout",
     "output_type": "stream",
     "text": [
      "0   2017-01-31\n",
      "1   2017-02-28\n",
      "2   2017-03-31\n",
      "3   2017-04-30\n",
      "4   2017-05-31\n",
      "5   2017-06-30\n",
      "Name: Timestamp, dtype: datetime64[ns]\n"
     ]
    }
   ],
   "source": [
    "# extract data by coloumn\n",
    "print(average_ooo['Timestamp'])"
   ]
  },
  {
   "cell_type": "code",
   "execution_count": 69,
   "metadata": {},
   "outputs": [
    {
     "name": "stdout",
     "output_type": "stream",
     "text": [
      "   Timestamp  OOO\n",
      "0 2017-01-31    2\n",
      "1 2017-02-28    2\n",
      "2 2017-03-31    6\n",
      "3 2017-04-30    6\n",
      "4 2017-05-31    2\n",
      "5 2017-06-30    3\n"
     ]
    }
   ],
   "source": [
    "# multiple columns...\n",
    "print(average_ooo[['Timestamp', 'OOO']])"
   ]
  },
  {
   "cell_type": "code",
   "execution_count": 70,
   "metadata": {},
   "outputs": [
    {
     "name": "stdout",
     "output_type": "stream",
     "text": [
      "Timestamp    2017-06-30 00:00:00\n",
      "OOO                            3\n",
      "Name: 5, dtype: object\n"
     ]
    }
   ],
   "source": [
    "# get values by row using .iloc index\n",
    "june_ooo = average_ooo.iloc[5, :] \n",
    "print(june_ooo)"
   ]
  },
  {
   "cell_type": "code",
   "execution_count": 71,
   "metadata": {},
   "outputs": [
    {
     "name": "stdout",
     "output_type": "stream",
     "text": [
      "Timestamp    2017-06-30 00:00:00\n",
      "OOO                            3\n",
      "Name: 5, dtype: object\n"
     ]
    }
   ],
   "source": [
    "# another version of the same\n",
    "june_ooo = average_ooo.iloc[5] \n",
    "print(june_ooo)"
   ]
  },
  {
   "cell_type": "code",
   "execution_count": 72,
   "metadata": {},
   "outputs": [
    {
     "name": "stdout",
     "output_type": "stream",
     "text": [
      "            OOO\n",
      "Timestamp      \n",
      "2017-01-31    2\n",
      "2017-02-28    2\n",
      "2017-03-31    6\n",
      "2017-04-30    6\n",
      "2017-05-31    2\n",
      "2017-06-30    3\n"
     ]
    }
   ],
   "source": [
    "# use the `Timestamp` column as our new index using set_index\n",
    "average_ooo = average_ooo.set_index('Timestamp') \n",
    "print(average_ooo)"
   ]
  },
  {
   "cell_type": "code",
   "execution_count": 74,
   "metadata": {},
   "outputs": [
    {
     "name": "stdout",
     "output_type": "stream",
     "text": [
      "DatetimeIndex(['2017-01-31', '2017-02-28', '2017-03-31', '2017-04-30',\n",
      "               '2017-05-31', '2017-06-30'],\n",
      "              dtype='datetime64[ns]', name='Timestamp', freq=None)\n"
     ]
    }
   ],
   "source": [
    "# get the index of a panda frame\n",
    "print(average_ooo.index)"
   ]
  },
  {
   "cell_type": "code",
   "execution_count": 75,
   "metadata": {},
   "outputs": [
    {
     "name": "stdout",
     "output_type": "stream",
     "text": [
      "OOO    2\n",
      "Name: 2017-02-28 00:00:00, dtype: int64\n"
     ]
    }
   ],
   "source": [
    "# Look up a specific row by index.\n",
    "print(average_ooo.loc['2017-02-28'])"
   ]
  },
  {
   "cell_type": "code",
   "execution_count": 76,
   "metadata": {},
   "outputs": [
    {
     "name": "stdout",
     "output_type": "stream",
     "text": [
      "OOO    2\n",
      "Name: 2017-02-28 00:00:00, dtype: int64\n"
     ]
    }
   ],
   "source": [
    "# get value via index number\n",
    "print(average_ooo.iloc[1])"
   ]
  },
  {
   "cell_type": "code",
   "execution_count": 77,
   "metadata": {},
   "outputs": [
    {
     "name": "stdout",
     "output_type": "stream",
     "text": [
      "RangeIndex(start=0, stop=6, step=1)\n",
      "   Timestamp  OOO\n",
      "0 2017-01-31    2\n",
      "1 2017-02-28    2\n",
      "2 2017-03-31    6\n",
      "3 2017-04-30    6\n",
      "4 2017-05-31    2\n",
      "5 2017-06-30    3\n"
     ]
    }
   ],
   "source": [
    "# reset index value\n",
    "average_ooo = average_ooo.reset_index() \n",
    "print(average_ooo.index)\n",
    "print(average_ooo)"
   ]
  },
  {
   "cell_type": "code",
   "execution_count": 87,
   "metadata": {},
   "outputs": [
    {
     "data": {
      "text/html": [
       "<div>\n",
       "<style scoped>\n",
       "    .dataframe tbody tr th:only-of-type {\n",
       "        vertical-align: middle;\n",
       "    }\n",
       "\n",
       "    .dataframe tbody tr th {\n",
       "        vertical-align: top;\n",
       "    }\n",
       "\n",
       "    .dataframe thead th {\n",
       "        text-align: right;\n",
       "    }\n",
       "</style>\n",
       "<table border=\"1\" class=\"dataframe\">\n",
       "  <thead>\n",
       "    <tr style=\"text-align: right;\">\n",
       "      <th></th>\n",
       "      <th>male</th>\n",
       "      <th>hh_ID</th>\n",
       "      <th>rooms</th>\n",
       "      <th>males_tot</th>\n",
       "      <th>age</th>\n",
       "      <th>ppl_total</th>\n",
       "      <th>num_child</th>\n",
       "      <th>bedrooms</th>\n",
       "      <th>dependency_rate</th>\n",
       "      <th>computer</th>\n",
       "      <th>disabled_ppl</th>\n",
       "      <th>water_inside</th>\n",
       "      <th>years_of_schooling</th>\n",
       "      <th>Target</th>\n",
       "    </tr>\n",
       "  </thead>\n",
       "  <tbody>\n",
       "    <tr>\n",
       "      <th>0</th>\n",
       "      <td>1</td>\n",
       "      <td>21eb7fcc1</td>\n",
       "      <td>3</td>\n",
       "      <td>1</td>\n",
       "      <td>43</td>\n",
       "      <td>1</td>\n",
       "      <td>0</td>\n",
       "      <td>1</td>\n",
       "      <td>30</td>\n",
       "      <td>0</td>\n",
       "      <td>0</td>\n",
       "      <td>1</td>\n",
       "      <td>10</td>\n",
       "      <td>4</td>\n",
       "    </tr>\n",
       "    <tr>\n",
       "      <th>1</th>\n",
       "      <td>1</td>\n",
       "      <td>0e5d7a658</td>\n",
       "      <td>4</td>\n",
       "      <td>1</td>\n",
       "      <td>67</td>\n",
       "      <td>1</td>\n",
       "      <td>0</td>\n",
       "      <td>1</td>\n",
       "      <td>29</td>\n",
       "      <td>0</td>\n",
       "      <td>0</td>\n",
       "      <td>1</td>\n",
       "      <td>12</td>\n",
       "      <td>4</td>\n",
       "    </tr>\n",
       "    <tr>\n",
       "      <th>2</th>\n",
       "      <td>0</td>\n",
       "      <td>2c7317ea8</td>\n",
       "      <td>8</td>\n",
       "      <td>0</td>\n",
       "      <td>92</td>\n",
       "      <td>1</td>\n",
       "      <td>0</td>\n",
       "      <td>2</td>\n",
       "      <td>29</td>\n",
       "      <td>0</td>\n",
       "      <td>1</td>\n",
       "      <td>1</td>\n",
       "      <td>11</td>\n",
       "      <td>4</td>\n",
       "    </tr>\n",
       "    <tr>\n",
       "      <th>3</th>\n",
       "      <td>1</td>\n",
       "      <td>2b58d945f</td>\n",
       "      <td>5</td>\n",
       "      <td>2</td>\n",
       "      <td>17</td>\n",
       "      <td>4</td>\n",
       "      <td>2</td>\n",
       "      <td>3</td>\n",
       "      <td>31</td>\n",
       "      <td>0</td>\n",
       "      <td>0</td>\n",
       "      <td>1</td>\n",
       "      <td>9</td>\n",
       "      <td>4</td>\n",
       "    </tr>\n",
       "    <tr>\n",
       "      <th>4</th>\n",
       "      <td>0</td>\n",
       "      <td>2b58d945f</td>\n",
       "      <td>5</td>\n",
       "      <td>2</td>\n",
       "      <td>37</td>\n",
       "      <td>4</td>\n",
       "      <td>2</td>\n",
       "      <td>3</td>\n",
       "      <td>31</td>\n",
       "      <td>0</td>\n",
       "      <td>0</td>\n",
       "      <td>1</td>\n",
       "      <td>11</td>\n",
       "      <td>4</td>\n",
       "    </tr>\n",
       "  </tbody>\n",
       "</table>\n",
       "</div>"
      ],
      "text/plain": [
       "   male      hh_ID  rooms  males_tot  age  ppl_total  num_child  bedrooms  \\\n",
       "0     1  21eb7fcc1      3          1   43          1          0         1   \n",
       "1     1  0e5d7a658      4          1   67          1          0         1   \n",
       "2     0  2c7317ea8      8          0   92          1          0         2   \n",
       "3     1  2b58d945f      5          2   17          4          2         3   \n",
       "4     0  2b58d945f      5          2   37          4          2         3   \n",
       "\n",
       "   dependency_rate  computer  disabled_ppl  water_inside  years_of_schooling  \\\n",
       "0               30         0             0             1                  10   \n",
       "1               29         0             0             1                  12   \n",
       "2               29         0             1             1                  11   \n",
       "3               31         0             0             1                   9   \n",
       "4               31         0             0             1                  11   \n",
       "\n",
       "   Target  \n",
       "0       4  \n",
       "1       4  \n",
       "2       4  \n",
       "3       4  \n",
       "4       4  "
      ]
     },
     "execution_count": 87,
     "metadata": {},
     "output_type": "execute_result"
    }
   ],
   "source": [
    "# read csv using panda \n",
    "household_poverty = pd.read_csv('household_poverty.csv')\n",
    "household_poverty.head()"
   ]
  },
  {
   "cell_type": "code",
   "execution_count": 86,
   "metadata": {},
   "outputs": [
    {
     "data": {
      "text/html": [
       "<div>\n",
       "<style scoped>\n",
       "    .dataframe tbody tr th:only-of-type {\n",
       "        vertical-align: middle;\n",
       "    }\n",
       "\n",
       "    .dataframe tbody tr th {\n",
       "        vertical-align: top;\n",
       "    }\n",
       "\n",
       "    .dataframe thead th {\n",
       "        text-align: right;\n",
       "    }\n",
       "</style>\n",
       "<table border=\"1\" class=\"dataframe\">\n",
       "  <thead>\n",
       "    <tr style=\"text-align: right;\">\n",
       "      <th></th>\n",
       "      <th>male</th>\n",
       "      <th>hh_ID</th>\n",
       "      <th>rooms</th>\n",
       "      <th>males_tot</th>\n",
       "      <th>age</th>\n",
       "      <th>ppl_total</th>\n",
       "      <th>num_child</th>\n",
       "      <th>bedrooms</th>\n",
       "      <th>dependency_rate</th>\n",
       "      <th>computer</th>\n",
       "      <th>disabled_ppl</th>\n",
       "      <th>water_inside</th>\n",
       "      <th>years_of_schooling</th>\n",
       "      <th>Target</th>\n",
       "    </tr>\n",
       "  </thead>\n",
       "  <tbody>\n",
       "    <tr>\n",
       "      <th>0</th>\n",
       "      <td>1</td>\n",
       "      <td>21eb7fcc1</td>\n",
       "      <td>3</td>\n",
       "      <td>1</td>\n",
       "      <td>43</td>\n",
       "      <td>1</td>\n",
       "      <td>0</td>\n",
       "      <td>1</td>\n",
       "      <td>30</td>\n",
       "      <td>0</td>\n",
       "      <td>0</td>\n",
       "      <td>1</td>\n",
       "      <td>10</td>\n",
       "      <td>4</td>\n",
       "    </tr>\n",
       "    <tr>\n",
       "      <th>1</th>\n",
       "      <td>1</td>\n",
       "      <td>0e5d7a658</td>\n",
       "      <td>4</td>\n",
       "      <td>1</td>\n",
       "      <td>67</td>\n",
       "      <td>1</td>\n",
       "      <td>0</td>\n",
       "      <td>1</td>\n",
       "      <td>29</td>\n",
       "      <td>0</td>\n",
       "      <td>0</td>\n",
       "      <td>1</td>\n",
       "      <td>12</td>\n",
       "      <td>4</td>\n",
       "    </tr>\n",
       "    <tr>\n",
       "      <th>2</th>\n",
       "      <td>0</td>\n",
       "      <td>2c7317ea8</td>\n",
       "      <td>8</td>\n",
       "      <td>0</td>\n",
       "      <td>92</td>\n",
       "      <td>1</td>\n",
       "      <td>0</td>\n",
       "      <td>2</td>\n",
       "      <td>29</td>\n",
       "      <td>0</td>\n",
       "      <td>1</td>\n",
       "      <td>1</td>\n",
       "      <td>11</td>\n",
       "      <td>4</td>\n",
       "    </tr>\n",
       "    <tr>\n",
       "      <th>3</th>\n",
       "      <td>1</td>\n",
       "      <td>2b58d945f</td>\n",
       "      <td>5</td>\n",
       "      <td>2</td>\n",
       "      <td>17</td>\n",
       "      <td>4</td>\n",
       "      <td>2</td>\n",
       "      <td>3</td>\n",
       "      <td>31</td>\n",
       "      <td>0</td>\n",
       "      <td>0</td>\n",
       "      <td>1</td>\n",
       "      <td>9</td>\n",
       "      <td>4</td>\n",
       "    </tr>\n",
       "    <tr>\n",
       "      <th>4</th>\n",
       "      <td>0</td>\n",
       "      <td>2b58d945f</td>\n",
       "      <td>5</td>\n",
       "      <td>2</td>\n",
       "      <td>37</td>\n",
       "      <td>4</td>\n",
       "      <td>2</td>\n",
       "      <td>3</td>\n",
       "      <td>31</td>\n",
       "      <td>0</td>\n",
       "      <td>0</td>\n",
       "      <td>1</td>\n",
       "      <td>11</td>\n",
       "      <td>4</td>\n",
       "    </tr>\n",
       "  </tbody>\n",
       "</table>\n",
       "</div>"
      ],
      "text/plain": [
       "   male      hh_ID  rooms  males_tot  age  ppl_total  num_child  bedrooms  \\\n",
       "0     1  21eb7fcc1      3          1   43          1          0         1   \n",
       "1     1  0e5d7a658      4          1   67          1          0         1   \n",
       "2     0  2c7317ea8      8          0   92          1          0         2   \n",
       "3     1  2b58d945f      5          2   17          4          2         3   \n",
       "4     0  2b58d945f      5          2   37          4          2         3   \n",
       "\n",
       "   dependency_rate  computer  disabled_ppl  water_inside  years_of_schooling  \\\n",
       "0               30         0             0             1                  10   \n",
       "1               29         0             0             1                  12   \n",
       "2               29         0             1             1                  11   \n",
       "3               31         0             0             1                   9   \n",
       "4               31         0             0             1                  11   \n",
       "\n",
       "   Target  \n",
       "0       4  \n",
       "1       4  \n",
       "2       4  \n",
       "3       4  \n",
       "4       4  "
      ]
     },
     "execution_count": 86,
     "metadata": {},
     "output_type": "execute_result"
    }
   ],
   "source": [
    "# get first 5 rows of data from csv\n",
    "household_poverty.head()"
   ]
  },
  {
   "cell_type": "code",
   "execution_count": 85,
   "metadata": {},
   "outputs": [
    {
     "data": {
      "text/html": [
       "<div>\n",
       "<style scoped>\n",
       "    .dataframe tbody tr th:only-of-type {\n",
       "        vertical-align: middle;\n",
       "    }\n",
       "\n",
       "    .dataframe tbody tr th {\n",
       "        vertical-align: top;\n",
       "    }\n",
       "\n",
       "    .dataframe thead th {\n",
       "        text-align: right;\n",
       "    }\n",
       "</style>\n",
       "<table border=\"1\" class=\"dataframe\">\n",
       "  <thead>\n",
       "    <tr style=\"text-align: right;\">\n",
       "      <th></th>\n",
       "      <th>male</th>\n",
       "      <th>hh_ID</th>\n",
       "      <th>rooms</th>\n",
       "      <th>males_tot</th>\n",
       "      <th>age</th>\n",
       "      <th>ppl_total</th>\n",
       "      <th>num_child</th>\n",
       "      <th>bedrooms</th>\n",
       "      <th>dependency_rate</th>\n",
       "      <th>computer</th>\n",
       "      <th>disabled_ppl</th>\n",
       "      <th>water_inside</th>\n",
       "      <th>years_of_schooling</th>\n",
       "      <th>Target</th>\n",
       "    </tr>\n",
       "  </thead>\n",
       "  <tbody>\n",
       "    <tr>\n",
       "      <th>0</th>\n",
       "      <td>1</td>\n",
       "      <td>21eb7fcc1</td>\n",
       "      <td>3</td>\n",
       "      <td>1</td>\n",
       "      <td>43</td>\n",
       "      <td>1</td>\n",
       "      <td>0</td>\n",
       "      <td>1</td>\n",
       "      <td>30</td>\n",
       "      <td>0</td>\n",
       "      <td>0</td>\n",
       "      <td>1</td>\n",
       "      <td>10</td>\n",
       "      <td>4</td>\n",
       "    </tr>\n",
       "    <tr>\n",
       "      <th>1</th>\n",
       "      <td>1</td>\n",
       "      <td>0e5d7a658</td>\n",
       "      <td>4</td>\n",
       "      <td>1</td>\n",
       "      <td>67</td>\n",
       "      <td>1</td>\n",
       "      <td>0</td>\n",
       "      <td>1</td>\n",
       "      <td>29</td>\n",
       "      <td>0</td>\n",
       "      <td>0</td>\n",
       "      <td>1</td>\n",
       "      <td>12</td>\n",
       "      <td>4</td>\n",
       "    </tr>\n",
       "    <tr>\n",
       "      <th>2</th>\n",
       "      <td>0</td>\n",
       "      <td>2c7317ea8</td>\n",
       "      <td>8</td>\n",
       "      <td>0</td>\n",
       "      <td>92</td>\n",
       "      <td>1</td>\n",
       "      <td>0</td>\n",
       "      <td>2</td>\n",
       "      <td>29</td>\n",
       "      <td>0</td>\n",
       "      <td>1</td>\n",
       "      <td>1</td>\n",
       "      <td>11</td>\n",
       "      <td>4</td>\n",
       "    </tr>\n",
       "  </tbody>\n",
       "</table>\n",
       "</div>"
      ],
      "text/plain": [
       "   male      hh_ID  rooms  males_tot  age  ppl_total  num_child  bedrooms  \\\n",
       "0     1  21eb7fcc1      3          1   43          1          0         1   \n",
       "1     1  0e5d7a658      4          1   67          1          0         1   \n",
       "2     0  2c7317ea8      8          0   92          1          0         2   \n",
       "\n",
       "   dependency_rate  computer  disabled_ppl  water_inside  years_of_schooling  \\\n",
       "0               30         0             0             1                  10   \n",
       "1               29         0             0             1                  12   \n",
       "2               29         0             1             1                  11   \n",
       "\n",
       "   Target  \n",
       "0       4  \n",
       "1       4  \n",
       "2       4  "
      ]
     },
     "execution_count": 85,
     "metadata": {},
     "output_type": "execute_result"
    }
   ],
   "source": [
    "# get first 3 rows using head\n",
    "household_poverty.head(3)"
   ]
  },
  {
   "cell_type": "code",
   "execution_count": 84,
   "metadata": {},
   "outputs": [
    {
     "data": {
      "text/html": [
       "<div>\n",
       "<style scoped>\n",
       "    .dataframe tbody tr th:only-of-type {\n",
       "        vertical-align: middle;\n",
       "    }\n",
       "\n",
       "    .dataframe tbody tr th {\n",
       "        vertical-align: top;\n",
       "    }\n",
       "\n",
       "    .dataframe thead th {\n",
       "        text-align: right;\n",
       "    }\n",
       "</style>\n",
       "<table border=\"1\" class=\"dataframe\">\n",
       "  <thead>\n",
       "    <tr style=\"text-align: right;\">\n",
       "      <th></th>\n",
       "      <th>male</th>\n",
       "      <th>hh_ID</th>\n",
       "      <th>rooms</th>\n",
       "      <th>males_tot</th>\n",
       "      <th>age</th>\n",
       "      <th>ppl_total</th>\n",
       "      <th>num_child</th>\n",
       "      <th>bedrooms</th>\n",
       "      <th>dependency_rate</th>\n",
       "      <th>computer</th>\n",
       "      <th>disabled_ppl</th>\n",
       "      <th>water_inside</th>\n",
       "      <th>years_of_schooling</th>\n",
       "      <th>Target</th>\n",
       "    </tr>\n",
       "  </thead>\n",
       "  <tbody>\n",
       "    <tr>\n",
       "      <th>560</th>\n",
       "      <td>0</td>\n",
       "      <td>78711dc54</td>\n",
       "      <td>4</td>\n",
       "      <td>1</td>\n",
       "      <td>30</td>\n",
       "      <td>3</td>\n",
       "      <td>1</td>\n",
       "      <td>2</td>\n",
       "      <td>8</td>\n",
       "      <td>0</td>\n",
       "      <td>0</td>\n",
       "      <td>1</td>\n",
       "      <td>17</td>\n",
       "      <td>4</td>\n",
       "    </tr>\n",
       "    <tr>\n",
       "      <th>126</th>\n",
       "      <td>1</td>\n",
       "      <td>52123171a</td>\n",
       "      <td>7</td>\n",
       "      <td>2</td>\n",
       "      <td>42</td>\n",
       "      <td>4</td>\n",
       "      <td>0</td>\n",
       "      <td>4</td>\n",
       "      <td>24</td>\n",
       "      <td>0</td>\n",
       "      <td>0</td>\n",
       "      <td>1</td>\n",
       "      <td>17</td>\n",
       "      <td>4</td>\n",
       "    </tr>\n",
       "    <tr>\n",
       "      <th>815</th>\n",
       "      <td>1</td>\n",
       "      <td>573526e69</td>\n",
       "      <td>3</td>\n",
       "      <td>2</td>\n",
       "      <td>7</td>\n",
       "      <td>4</td>\n",
       "      <td>3</td>\n",
       "      <td>2</td>\n",
       "      <td>24</td>\n",
       "      <td>0</td>\n",
       "      <td>0</td>\n",
       "      <td>1</td>\n",
       "      <td>0</td>\n",
       "      <td>1</td>\n",
       "    </tr>\n",
       "  </tbody>\n",
       "</table>\n",
       "</div>"
      ],
      "text/plain": [
       "     male      hh_ID  rooms  males_tot  age  ppl_total  num_child  bedrooms  \\\n",
       "560     0  78711dc54      4          1   30          3          1         2   \n",
       "126     1  52123171a      7          2   42          4          0         4   \n",
       "815     1  573526e69      3          2    7          4          3         2   \n",
       "\n",
       "     dependency_rate  computer  disabled_ppl  water_inside  \\\n",
       "560                8         0             0             1   \n",
       "126               24         0             0             1   \n",
       "815               24         0             0             1   \n",
       "\n",
       "     years_of_schooling  Target  \n",
       "560                  17       4  \n",
       "126                  17       4  \n",
       "815                   0       1  "
      ]
     },
     "execution_count": 84,
     "metadata": {},
     "output_type": "execute_result"
    }
   ],
   "source": [
    "# get a random sample of data specifying number\n",
    "household_poverty.sample(n = 3)"
   ]
  },
  {
   "cell_type": "code",
   "execution_count": 83,
   "metadata": {},
   "outputs": [
    {
     "data": {
      "text/html": [
       "<div>\n",
       "<style scoped>\n",
       "    .dataframe tbody tr th:only-of-type {\n",
       "        vertical-align: middle;\n",
       "    }\n",
       "\n",
       "    .dataframe tbody tr th {\n",
       "        vertical-align: top;\n",
       "    }\n",
       "\n",
       "    .dataframe thead th {\n",
       "        text-align: right;\n",
       "    }\n",
       "</style>\n",
       "<table border=\"1\" class=\"dataframe\">\n",
       "  <thead>\n",
       "    <tr style=\"text-align: right;\">\n",
       "      <th></th>\n",
       "      <th>male</th>\n",
       "      <th>hh_ID</th>\n",
       "      <th>rooms</th>\n",
       "      <th>males_tot</th>\n",
       "      <th>age</th>\n",
       "      <th>ppl_total</th>\n",
       "      <th>num_child</th>\n",
       "      <th>bedrooms</th>\n",
       "      <th>dependency_rate</th>\n",
       "      <th>computer</th>\n",
       "      <th>disabled_ppl</th>\n",
       "      <th>water_inside</th>\n",
       "      <th>years_of_schooling</th>\n",
       "      <th>Target</th>\n",
       "    </tr>\n",
       "  </thead>\n",
       "  <tbody>\n",
       "    <tr>\n",
       "      <th>445</th>\n",
       "      <td>0</td>\n",
       "      <td>4476ccd4c</td>\n",
       "      <td>10</td>\n",
       "      <td>5</td>\n",
       "      <td>28</td>\n",
       "      <td>11</td>\n",
       "      <td>4</td>\n",
       "      <td>6</td>\n",
       "      <td>15</td>\n",
       "      <td>0</td>\n",
       "      <td>0</td>\n",
       "      <td>1</td>\n",
       "      <td>7</td>\n",
       "      <td>4</td>\n",
       "    </tr>\n",
       "    <tr>\n",
       "      <th>158</th>\n",
       "      <td>0</td>\n",
       "      <td>347058ce6</td>\n",
       "      <td>5</td>\n",
       "      <td>2</td>\n",
       "      <td>29</td>\n",
       "      <td>5</td>\n",
       "      <td>3</td>\n",
       "      <td>3</td>\n",
       "      <td>18</td>\n",
       "      <td>0</td>\n",
       "      <td>0</td>\n",
       "      <td>1</td>\n",
       "      <td>11</td>\n",
       "      <td>1</td>\n",
       "    </tr>\n",
       "    <tr>\n",
       "      <th>34</th>\n",
       "      <td>1</td>\n",
       "      <td>cb6bb28dd</td>\n",
       "      <td>5</td>\n",
       "      <td>4</td>\n",
       "      <td>30</td>\n",
       "      <td>5</td>\n",
       "      <td>1</td>\n",
       "      <td>3</td>\n",
       "      <td>4</td>\n",
       "      <td>0</td>\n",
       "      <td>0</td>\n",
       "      <td>1</td>\n",
       "      <td>6</td>\n",
       "      <td>4</td>\n",
       "    </tr>\n",
       "    <tr>\n",
       "      <th>667</th>\n",
       "      <td>1</td>\n",
       "      <td>3f6eb55ad</td>\n",
       "      <td>2</td>\n",
       "      <td>1</td>\n",
       "      <td>44</td>\n",
       "      <td>2</td>\n",
       "      <td>0</td>\n",
       "      <td>1</td>\n",
       "      <td>31</td>\n",
       "      <td>0</td>\n",
       "      <td>0</td>\n",
       "      <td>1</td>\n",
       "      <td>11</td>\n",
       "      <td>2</td>\n",
       "    </tr>\n",
       "    <tr>\n",
       "      <th>334</th>\n",
       "      <td>0</td>\n",
       "      <td>2e50f3926</td>\n",
       "      <td>6</td>\n",
       "      <td>0</td>\n",
       "      <td>60</td>\n",
       "      <td>2</td>\n",
       "      <td>0</td>\n",
       "      <td>5</td>\n",
       "      <td>31</td>\n",
       "      <td>0</td>\n",
       "      <td>0</td>\n",
       "      <td>1</td>\n",
       "      <td>17</td>\n",
       "      <td>4</td>\n",
       "    </tr>\n",
       "    <tr>\n",
       "      <th>713</th>\n",
       "      <td>1</td>\n",
       "      <td>9f313f493</td>\n",
       "      <td>8</td>\n",
       "      <td>3</td>\n",
       "      <td>28</td>\n",
       "      <td>7</td>\n",
       "      <td>2</td>\n",
       "      <td>4</td>\n",
       "      <td>7</td>\n",
       "      <td>1</td>\n",
       "      <td>0</td>\n",
       "      <td>1</td>\n",
       "      <td>6</td>\n",
       "      <td>4</td>\n",
       "    </tr>\n",
       "    <tr>\n",
       "      <th>402</th>\n",
       "      <td>0</td>\n",
       "      <td>17498cd7c</td>\n",
       "      <td>5</td>\n",
       "      <td>2</td>\n",
       "      <td>15</td>\n",
       "      <td>4</td>\n",
       "      <td>2</td>\n",
       "      <td>3</td>\n",
       "      <td>31</td>\n",
       "      <td>1</td>\n",
       "      <td>0</td>\n",
       "      <td>1</td>\n",
       "      <td>9</td>\n",
       "      <td>4</td>\n",
       "    </tr>\n",
       "    <tr>\n",
       "      <th>693</th>\n",
       "      <td>0</td>\n",
       "      <td>cd0157ab9</td>\n",
       "      <td>5</td>\n",
       "      <td>2</td>\n",
       "      <td>90</td>\n",
       "      <td>4</td>\n",
       "      <td>0</td>\n",
       "      <td>3</td>\n",
       "      <td>31</td>\n",
       "      <td>0</td>\n",
       "      <td>1</td>\n",
       "      <td>1</td>\n",
       "      <td>2</td>\n",
       "      <td>4</td>\n",
       "    </tr>\n",
       "    <tr>\n",
       "      <th>851</th>\n",
       "      <td>0</td>\n",
       "      <td>a382bbff2</td>\n",
       "      <td>5</td>\n",
       "      <td>0</td>\n",
       "      <td>68</td>\n",
       "      <td>1</td>\n",
       "      <td>0</td>\n",
       "      <td>2</td>\n",
       "      <td>29</td>\n",
       "      <td>0</td>\n",
       "      <td>0</td>\n",
       "      <td>1</td>\n",
       "      <td>15</td>\n",
       "      <td>4</td>\n",
       "    </tr>\n",
       "    <tr>\n",
       "      <th>593</th>\n",
       "      <td>0</td>\n",
       "      <td>778919bcb</td>\n",
       "      <td>4</td>\n",
       "      <td>2</td>\n",
       "      <td>54</td>\n",
       "      <td>3</td>\n",
       "      <td>0</td>\n",
       "      <td>2</td>\n",
       "      <td>30</td>\n",
       "      <td>0</td>\n",
       "      <td>0</td>\n",
       "      <td>1</td>\n",
       "      <td>6</td>\n",
       "      <td>4</td>\n",
       "    </tr>\n",
       "    <tr>\n",
       "      <th>60</th>\n",
       "      <td>1</td>\n",
       "      <td>e2f9717d3</td>\n",
       "      <td>3</td>\n",
       "      <td>1</td>\n",
       "      <td>29</td>\n",
       "      <td>2</td>\n",
       "      <td>0</td>\n",
       "      <td>1</td>\n",
       "      <td>30</td>\n",
       "      <td>0</td>\n",
       "      <td>0</td>\n",
       "      <td>1</td>\n",
       "      <td>6</td>\n",
       "      <td>4</td>\n",
       "    </tr>\n",
       "    <tr>\n",
       "      <th>656</th>\n",
       "      <td>1</td>\n",
       "      <td>17f5db873</td>\n",
       "      <td>11</td>\n",
       "      <td>1</td>\n",
       "      <td>24</td>\n",
       "      <td>1</td>\n",
       "      <td>0</td>\n",
       "      <td>8</td>\n",
       "      <td>30</td>\n",
       "      <td>0</td>\n",
       "      <td>0</td>\n",
       "      <td>1</td>\n",
       "      <td>11</td>\n",
       "      <td>4</td>\n",
       "    </tr>\n",
       "    <tr>\n",
       "      <th>164</th>\n",
       "      <td>1</td>\n",
       "      <td>28ec0c747</td>\n",
       "      <td>7</td>\n",
       "      <td>2</td>\n",
       "      <td>27</td>\n",
       "      <td>7</td>\n",
       "      <td>1</td>\n",
       "      <td>5</td>\n",
       "      <td>7</td>\n",
       "      <td>0</td>\n",
       "      <td>0</td>\n",
       "      <td>1</td>\n",
       "      <td>11</td>\n",
       "      <td>4</td>\n",
       "    </tr>\n",
       "    <tr>\n",
       "      <th>825</th>\n",
       "      <td>1</td>\n",
       "      <td>9c7f9fa85</td>\n",
       "      <td>5</td>\n",
       "      <td>3</td>\n",
       "      <td>33</td>\n",
       "      <td>5</td>\n",
       "      <td>1</td>\n",
       "      <td>3</td>\n",
       "      <td>10</td>\n",
       "      <td>0</td>\n",
       "      <td>0</td>\n",
       "      <td>1</td>\n",
       "      <td>11</td>\n",
       "      <td>4</td>\n",
       "    </tr>\n",
       "    <tr>\n",
       "      <th>170</th>\n",
       "      <td>0</td>\n",
       "      <td>71bec40bc</td>\n",
       "      <td>3</td>\n",
       "      <td>3</td>\n",
       "      <td>4</td>\n",
       "      <td>7</td>\n",
       "      <td>3</td>\n",
       "      <td>2</td>\n",
       "      <td>12</td>\n",
       "      <td>0</td>\n",
       "      <td>0</td>\n",
       "      <td>1</td>\n",
       "      <td>0</td>\n",
       "      <td>2</td>\n",
       "    </tr>\n",
       "    <tr>\n",
       "      <th>387</th>\n",
       "      <td>0</td>\n",
       "      <td>5463ebd0e</td>\n",
       "      <td>5</td>\n",
       "      <td>0</td>\n",
       "      <td>87</td>\n",
       "      <td>1</td>\n",
       "      <td>0</td>\n",
       "      <td>2</td>\n",
       "      <td>29</td>\n",
       "      <td>0</td>\n",
       "      <td>0</td>\n",
       "      <td>1</td>\n",
       "      <td>19</td>\n",
       "      <td>4</td>\n",
       "    </tr>\n",
       "    <tr>\n",
       "      <th>350</th>\n",
       "      <td>1</td>\n",
       "      <td>01ff6a086</td>\n",
       "      <td>5</td>\n",
       "      <td>1</td>\n",
       "      <td>65</td>\n",
       "      <td>2</td>\n",
       "      <td>0</td>\n",
       "      <td>2</td>\n",
       "      <td>29</td>\n",
       "      <td>0</td>\n",
       "      <td>0</td>\n",
       "      <td>1</td>\n",
       "      <td>5</td>\n",
       "      <td>4</td>\n",
       "    </tr>\n",
       "    <tr>\n",
       "      <th>307</th>\n",
       "      <td>1</td>\n",
       "      <td>252a57c2d</td>\n",
       "      <td>5</td>\n",
       "      <td>2</td>\n",
       "      <td>40</td>\n",
       "      <td>4</td>\n",
       "      <td>1</td>\n",
       "      <td>3</td>\n",
       "      <td>6</td>\n",
       "      <td>0</td>\n",
       "      <td>0</td>\n",
       "      <td>1</td>\n",
       "      <td>3</td>\n",
       "      <td>4</td>\n",
       "    </tr>\n",
       "    <tr>\n",
       "      <th>688</th>\n",
       "      <td>0</td>\n",
       "      <td>c80a8d026</td>\n",
       "      <td>7</td>\n",
       "      <td>1</td>\n",
       "      <td>22</td>\n",
       "      <td>4</td>\n",
       "      <td>0</td>\n",
       "      <td>4</td>\n",
       "      <td>30</td>\n",
       "      <td>1</td>\n",
       "      <td>0</td>\n",
       "      <td>1</td>\n",
       "      <td>11</td>\n",
       "      <td>4</td>\n",
       "    </tr>\n",
       "    <tr>\n",
       "      <th>22</th>\n",
       "      <td>0</td>\n",
       "      <td>ec0e8edce</td>\n",
       "      <td>3</td>\n",
       "      <td>1</td>\n",
       "      <td>66</td>\n",
       "      <td>2</td>\n",
       "      <td>0</td>\n",
       "      <td>1</td>\n",
       "      <td>29</td>\n",
       "      <td>0</td>\n",
       "      <td>0</td>\n",
       "      <td>1</td>\n",
       "      <td>16</td>\n",
       "      <td>4</td>\n",
       "    </tr>\n",
       "  </tbody>\n",
       "</table>\n",
       "</div>"
      ],
      "text/plain": [
       "     male      hh_ID  rooms  males_tot  age  ppl_total  num_child  bedrooms  \\\n",
       "445     0  4476ccd4c     10          5   28         11          4         6   \n",
       "158     0  347058ce6      5          2   29          5          3         3   \n",
       "34      1  cb6bb28dd      5          4   30          5          1         3   \n",
       "667     1  3f6eb55ad      2          1   44          2          0         1   \n",
       "334     0  2e50f3926      6          0   60          2          0         5   \n",
       "713     1  9f313f493      8          3   28          7          2         4   \n",
       "402     0  17498cd7c      5          2   15          4          2         3   \n",
       "693     0  cd0157ab9      5          2   90          4          0         3   \n",
       "851     0  a382bbff2      5          0   68          1          0         2   \n",
       "593     0  778919bcb      4          2   54          3          0         2   \n",
       "60      1  e2f9717d3      3          1   29          2          0         1   \n",
       "656     1  17f5db873     11          1   24          1          0         8   \n",
       "164     1  28ec0c747      7          2   27          7          1         5   \n",
       "825     1  9c7f9fa85      5          3   33          5          1         3   \n",
       "170     0  71bec40bc      3          3    4          7          3         2   \n",
       "387     0  5463ebd0e      5          0   87          1          0         2   \n",
       "350     1  01ff6a086      5          1   65          2          0         2   \n",
       "307     1  252a57c2d      5          2   40          4          1         3   \n",
       "688     0  c80a8d026      7          1   22          4          0         4   \n",
       "22      0  ec0e8edce      3          1   66          2          0         1   \n",
       "\n",
       "     dependency_rate  computer  disabled_ppl  water_inside  \\\n",
       "445               15         0             0             1   \n",
       "158               18         0             0             1   \n",
       "34                 4         0             0             1   \n",
       "667               31         0             0             1   \n",
       "334               31         0             0             1   \n",
       "713                7         1             0             1   \n",
       "402               31         1             0             1   \n",
       "693               31         0             1             1   \n",
       "851               29         0             0             1   \n",
       "593               30         0             0             1   \n",
       "60                30         0             0             1   \n",
       "656               30         0             0             1   \n",
       "164                7         0             0             1   \n",
       "825               10         0             0             1   \n",
       "170               12         0             0             1   \n",
       "387               29         0             0             1   \n",
       "350               29         0             0             1   \n",
       "307                6         0             0             1   \n",
       "688               30         1             0             1   \n",
       "22                29         0             0             1   \n",
       "\n",
       "     years_of_schooling  Target  \n",
       "445                   7       4  \n",
       "158                  11       1  \n",
       "34                    6       4  \n",
       "667                  11       2  \n",
       "334                  17       4  \n",
       "713                   6       4  \n",
       "402                   9       4  \n",
       "693                   2       4  \n",
       "851                  15       4  \n",
       "593                   6       4  \n",
       "60                    6       4  \n",
       "656                  11       4  \n",
       "164                  11       4  \n",
       "825                  11       4  \n",
       "170                   0       2  \n",
       "387                  19       4  \n",
       "350                   5       4  \n",
       "307                   3       4  \n",
       "688                  11       4  \n",
       "22                   16       4  "
      ]
     },
     "execution_count": 83,
     "metadata": {},
     "output_type": "execute_result"
    }
   ],
   "source": [
    "# get random by percentage\n",
    "household_poverty.sample(frac = .02)"
   ]
  },
  {
   "cell_type": "code",
   "execution_count": 88,
   "metadata": {},
   "outputs": [
    {
     "data": {
      "text/plain": [
       "Index(['male', 'hh_ID', 'rooms', 'males_tot', 'age', 'ppl_total', 'num_child',\n",
       "       'bedrooms', 'dependency_rate', 'computer', 'disabled_ppl',\n",
       "       'water_inside', 'years_of_schooling', 'Target'],\n",
       "      dtype='object')"
      ]
     },
     "execution_count": 88,
     "metadata": {},
     "output_type": "execute_result"
    }
   ],
   "source": [
    "# get dataframe columns\n",
    "household_poverty.columns"
   ]
  },
  {
   "cell_type": "code",
   "execution_count": 89,
   "metadata": {},
   "outputs": [
    {
     "data": {
      "text/plain": [
       "male                   int64\n",
       "hh_ID                 object\n",
       "rooms                  int64\n",
       "males_tot              int64\n",
       "age                    int64\n",
       "ppl_total              int64\n",
       "num_child              int64\n",
       "bedrooms               int64\n",
       "dependency_rate        int64\n",
       "computer               int64\n",
       "disabled_ppl           int64\n",
       "water_inside           int64\n",
       "years_of_schooling     int64\n",
       "Target                 int64\n",
       "dtype: object"
      ]
     },
     "execution_count": 89,
     "metadata": {},
     "output_type": "execute_result"
    }
   ],
   "source": [
    "# get data types in dataframes\n",
    "household_poverty.dtypes"
   ]
  },
  {
   "cell_type": "code",
   "execution_count": 90,
   "metadata": {},
   "outputs": [
    {
     "name": "stdout",
     "output_type": "stream",
     "text": [
      "<class 'pandas.core.frame.DataFrame'>\n",
      "RangeIndex: 1000 entries, 0 to 999\n",
      "Data columns (total 14 columns):\n",
      "male                  1000 non-null int64\n",
      "hh_ID                 1000 non-null object\n",
      "rooms                 1000 non-null int64\n",
      "males_tot             1000 non-null int64\n",
      "age                   1000 non-null int64\n",
      "ppl_total             1000 non-null int64\n",
      "num_child             1000 non-null int64\n",
      "bedrooms              1000 non-null int64\n",
      "dependency_rate       1000 non-null int64\n",
      "computer              1000 non-null int64\n",
      "disabled_ppl          1000 non-null int64\n",
      "water_inside          1000 non-null int64\n",
      "years_of_schooling    1000 non-null int64\n",
      "Target                1000 non-null int64\n",
      "dtypes: int64(13), object(1)\n",
      "memory usage: 109.5+ KB\n"
     ]
    }
   ],
   "source": [
    "# get field info\n",
    "household_poverty.info()"
   ]
  },
  {
   "cell_type": "code",
   "execution_count": 91,
   "metadata": {},
   "outputs": [
    {
     "data": {
      "text/html": [
       "<div>\n",
       "<style scoped>\n",
       "    .dataframe tbody tr th:only-of-type {\n",
       "        vertical-align: middle;\n",
       "    }\n",
       "\n",
       "    .dataframe tbody tr th {\n",
       "        vertical-align: top;\n",
       "    }\n",
       "\n",
       "    .dataframe thead th {\n",
       "        text-align: right;\n",
       "    }\n",
       "</style>\n",
       "<table border=\"1\" class=\"dataframe\">\n",
       "  <thead>\n",
       "    <tr style=\"text-align: right;\">\n",
       "      <th></th>\n",
       "      <th>male</th>\n",
       "      <th>rooms</th>\n",
       "      <th>males_tot</th>\n",
       "      <th>age</th>\n",
       "      <th>ppl_total</th>\n",
       "      <th>num_child</th>\n",
       "      <th>bedrooms</th>\n",
       "      <th>dependency_rate</th>\n",
       "      <th>computer</th>\n",
       "      <th>disabled_ppl</th>\n",
       "      <th>water_inside</th>\n",
       "      <th>years_of_schooling</th>\n",
       "      <th>Target</th>\n",
       "    </tr>\n",
       "  </thead>\n",
       "  <tbody>\n",
       "    <tr>\n",
       "      <th>count</th>\n",
       "      <td>1000.000000</td>\n",
       "      <td>1000.000000</td>\n",
       "      <td>1000.000000</td>\n",
       "      <td>1000.000000</td>\n",
       "      <td>1000.000000</td>\n",
       "      <td>1000.000000</td>\n",
       "      <td>1000.00000</td>\n",
       "      <td>1000.000000</td>\n",
       "      <td>1000.000000</td>\n",
       "      <td>1000.000000</td>\n",
       "      <td>1000.000000</td>\n",
       "      <td>1000.000000</td>\n",
       "      <td>1000.000000</td>\n",
       "    </tr>\n",
       "    <tr>\n",
       "      <th>mean</th>\n",
       "      <td>0.477000</td>\n",
       "      <td>5.244000</td>\n",
       "      <td>1.879000</td>\n",
       "      <td>35.936000</td>\n",
       "      <td>3.910000</td>\n",
       "      <td>1.243000</td>\n",
       "      <td>2.85500</td>\n",
       "      <td>20.503000</td>\n",
       "      <td>0.168000</td>\n",
       "      <td>0.048000</td>\n",
       "      <td>0.989000</td>\n",
       "      <td>8.055000</td>\n",
       "      <td>3.586000</td>\n",
       "    </tr>\n",
       "    <tr>\n",
       "      <th>std</th>\n",
       "      <td>0.499721</td>\n",
       "      <td>1.692728</td>\n",
       "      <td>1.236887</td>\n",
       "      <td>21.932783</td>\n",
       "      <td>1.819123</td>\n",
       "      <td>1.194729</td>\n",
       "      <td>1.08312</td>\n",
       "      <td>10.405781</td>\n",
       "      <td>0.374053</td>\n",
       "      <td>0.213873</td>\n",
       "      <td>0.104355</td>\n",
       "      <td>4.898568</td>\n",
       "      <td>0.833846</td>\n",
       "    </tr>\n",
       "    <tr>\n",
       "      <th>min</th>\n",
       "      <td>0.000000</td>\n",
       "      <td>1.000000</td>\n",
       "      <td>0.000000</td>\n",
       "      <td>0.000000</td>\n",
       "      <td>1.000000</td>\n",
       "      <td>0.000000</td>\n",
       "      <td>1.00000</td>\n",
       "      <td>2.000000</td>\n",
       "      <td>0.000000</td>\n",
       "      <td>0.000000</td>\n",
       "      <td>0.000000</td>\n",
       "      <td>0.000000</td>\n",
       "      <td>1.000000</td>\n",
       "    </tr>\n",
       "    <tr>\n",
       "      <th>25%</th>\n",
       "      <td>0.000000</td>\n",
       "      <td>4.000000</td>\n",
       "      <td>1.000000</td>\n",
       "      <td>18.000000</td>\n",
       "      <td>3.000000</td>\n",
       "      <td>0.000000</td>\n",
       "      <td>2.00000</td>\n",
       "      <td>8.000000</td>\n",
       "      <td>0.000000</td>\n",
       "      <td>0.000000</td>\n",
       "      <td>1.000000</td>\n",
       "      <td>5.000000</td>\n",
       "      <td>4.000000</td>\n",
       "    </tr>\n",
       "    <tr>\n",
       "      <th>50%</th>\n",
       "      <td>0.000000</td>\n",
       "      <td>5.000000</td>\n",
       "      <td>2.000000</td>\n",
       "      <td>34.000000</td>\n",
       "      <td>4.000000</td>\n",
       "      <td>1.000000</td>\n",
       "      <td>3.00000</td>\n",
       "      <td>24.000000</td>\n",
       "      <td>0.000000</td>\n",
       "      <td>0.000000</td>\n",
       "      <td>1.000000</td>\n",
       "      <td>8.000000</td>\n",
       "      <td>4.000000</td>\n",
       "    </tr>\n",
       "    <tr>\n",
       "      <th>75%</th>\n",
       "      <td>1.000000</td>\n",
       "      <td>6.000000</td>\n",
       "      <td>2.000000</td>\n",
       "      <td>53.000000</td>\n",
       "      <td>5.000000</td>\n",
       "      <td>2.000000</td>\n",
       "      <td>3.00000</td>\n",
       "      <td>30.000000</td>\n",
       "      <td>0.000000</td>\n",
       "      <td>0.000000</td>\n",
       "      <td>1.000000</td>\n",
       "      <td>11.000000</td>\n",
       "      <td>4.000000</td>\n",
       "    </tr>\n",
       "    <tr>\n",
       "      <th>max</th>\n",
       "      <td>1.000000</td>\n",
       "      <td>11.000000</td>\n",
       "      <td>8.000000</td>\n",
       "      <td>97.000000</td>\n",
       "      <td>11.000000</td>\n",
       "      <td>5.000000</td>\n",
       "      <td>8.00000</td>\n",
       "      <td>31.000000</td>\n",
       "      <td>1.000000</td>\n",
       "      <td>1.000000</td>\n",
       "      <td>1.000000</td>\n",
       "      <td>21.000000</td>\n",
       "      <td>4.000000</td>\n",
       "    </tr>\n",
       "  </tbody>\n",
       "</table>\n",
       "</div>"
      ],
      "text/plain": [
       "              male        rooms    males_tot          age    ppl_total  \\\n",
       "count  1000.000000  1000.000000  1000.000000  1000.000000  1000.000000   \n",
       "mean      0.477000     5.244000     1.879000    35.936000     3.910000   \n",
       "std       0.499721     1.692728     1.236887    21.932783     1.819123   \n",
       "min       0.000000     1.000000     0.000000     0.000000     1.000000   \n",
       "25%       0.000000     4.000000     1.000000    18.000000     3.000000   \n",
       "50%       0.000000     5.000000     2.000000    34.000000     4.000000   \n",
       "75%       1.000000     6.000000     2.000000    53.000000     5.000000   \n",
       "max       1.000000    11.000000     8.000000    97.000000    11.000000   \n",
       "\n",
       "         num_child    bedrooms  dependency_rate     computer  disabled_ppl  \\\n",
       "count  1000.000000  1000.00000      1000.000000  1000.000000   1000.000000   \n",
       "mean      1.243000     2.85500        20.503000     0.168000      0.048000   \n",
       "std       1.194729     1.08312        10.405781     0.374053      0.213873   \n",
       "min       0.000000     1.00000         2.000000     0.000000      0.000000   \n",
       "25%       0.000000     2.00000         8.000000     0.000000      0.000000   \n",
       "50%       1.000000     3.00000        24.000000     0.000000      0.000000   \n",
       "75%       2.000000     3.00000        30.000000     0.000000      0.000000   \n",
       "max       5.000000     8.00000        31.000000     1.000000      1.000000   \n",
       "\n",
       "       water_inside  years_of_schooling       Target  \n",
       "count   1000.000000         1000.000000  1000.000000  \n",
       "mean       0.989000            8.055000     3.586000  \n",
       "std        0.104355            4.898568     0.833846  \n",
       "min        0.000000            0.000000     1.000000  \n",
       "25%        1.000000            5.000000     4.000000  \n",
       "50%        1.000000            8.000000     4.000000  \n",
       "75%        1.000000           11.000000     4.000000  \n",
       "max        1.000000           21.000000     4.000000  "
      ]
     },
     "execution_count": 91,
     "metadata": {},
     "output_type": "execute_result"
    }
   ],
   "source": [
    "# get summary of dataframe\n",
    "household_poverty.describe()"
   ]
  },
  {
   "cell_type": "code",
   "execution_count": 93,
   "metadata": {},
   "outputs": [
    {
     "data": {
      "text/plain": [
       "RangeIndex(start=0, stop=1000, step=1)"
      ]
     },
     "execution_count": 93,
     "metadata": {},
     "output_type": "execute_result"
    }
   ],
   "source": [
    "# get index of dataframe\n",
    "household_poverty.index"
   ]
  },
  {
   "cell_type": "code",
   "execution_count": 94,
   "metadata": {},
   "outputs": [
    {
     "name": "stdout",
     "output_type": "stream",
     "text": [
      "Index(['21eb7fcc1', '0e5d7a658', '2c7317ea8', '2b58d945f', '2b58d945f',\n",
      "       '2b58d945f', '2b58d945f', 'd6dae86b7', 'd6dae86b7', 'd6dae86b7',\n",
      "       ...\n",
      "       'f54bc4b11', 'f54bc4b11', 'f54bc4b11', 'f54bc4b11', '34bab1f1f',\n",
      "       '34bab1f1f', '34bab1f1f', '34bab1f1f', '34bab1f1f', '52cf8fe9d'],\n",
      "      dtype='object', name='hh_ID', length=1000)\n"
     ]
    }
   ],
   "source": [
    "# change index of dataframe\n",
    "household_poverty = household_poverty.set_index('hh_ID') \n",
    "print(household_poverty.index)"
   ]
  },
  {
   "cell_type": "code",
   "execution_count": 95,
   "metadata": {},
   "outputs": [
    {
     "name": "stdout",
     "output_type": "stream",
     "text": [
      "male                   1\n",
      "rooms                  3\n",
      "males_tot              1\n",
      "age                   43\n",
      "ppl_total              1\n",
      "num_child              0\n",
      "bedrooms               1\n",
      "dependency_rate       30\n",
      "computer               0\n",
      "disabled_ppl           0\n",
      "water_inside           1\n",
      "years_of_schooling    10\n",
      "Target                 4\n",
      "Name: 21eb7fcc1, dtype: int64\n"
     ]
    }
   ],
   "source": [
    "# Look up a specific row by index.\n",
    "print(household_poverty.loc['21eb7fcc1'])"
   ]
  },
  {
   "cell_type": "code",
   "execution_count": 96,
   "metadata": {},
   "outputs": [
    {
     "name": "stdout",
     "output_type": "stream",
     "text": [
      "male                   1\n",
      "rooms                  4\n",
      "males_tot              1\n",
      "age                   67\n",
      "ppl_total              1\n",
      "num_child              0\n",
      "bedrooms               1\n",
      "dependency_rate       29\n",
      "computer               0\n",
      "disabled_ppl           0\n",
      "water_inside           1\n",
      "years_of_schooling    12\n",
      "Target                 4\n",
      "Name: 0e5d7a658, dtype: int64\n"
     ]
    }
   ],
   "source": [
    "# Look up a specific row by index.\n",
    "print(household_poverty.iloc[1])"
   ]
  },
  {
   "cell_type": "code",
   "execution_count": 97,
   "metadata": {},
   "outputs": [],
   "source": [
    "# reset index\n",
    "household_poverty = household_poverty.reset_index()"
   ]
  },
  {
   "cell_type": "code",
   "execution_count": 98,
   "metadata": {},
   "outputs": [
    {
     "name": "stdout",
     "output_type": "stream",
     "text": [
      "           hh_ID  male  males_tot  age  ppl_total  num_child  bedrooms  \\\n",
      "rooms                                                                    \n",
      "1      3e16fab89     1          2   41          3          0         1   \n",
      "2      d6dae86b7     0          1    7          4          2         1   \n",
      "3      21eb7fcc1     1          1   43          1          0         1   \n",
      "4      0e5d7a658     1          1   67          1          0         1   \n",
      "5      2b58d945f     1          2   17          4          2         3   \n",
      "6      65d20b573     0          2   55          3          0         3   \n",
      "7      bcc196e5a     0          1   60          3          0         4   \n",
      "8      2c7317ea8     0          0   92          1          0         2   \n",
      "9      6f1edad4e     1          3   58          4          0         5   \n",
      "10     bdd842cfd     1          2   19          6          2         6   \n",
      "11     b64f4194f     1          1   48          2          0         8   \n",
      "\n",
      "       dependency_rate  computer  disabled_ppl  water_inside  \\\n",
      "rooms                                                          \n",
      "1                   30         0             0             0   \n",
      "2                   31         0             0             1   \n",
      "3                   30         0             0             1   \n",
      "4                   29         0             0             1   \n",
      "5                   31         0             0             1   \n",
      "6                    8         1             0             1   \n",
      "7                   30         1             0             1   \n",
      "8                   29         0             1             1   \n",
      "9                   31         0             0             1   \n",
      "10                   8         1             0             1   \n",
      "11                  30         0             1             1   \n",
      "\n",
      "       years_of_schooling  Target  \n",
      "rooms                              \n",
      "1                       6       4  \n",
      "2                       0       4  \n",
      "3                      10       4  \n",
      "4                      12       4  \n",
      "5                       9       4  \n",
      "6                      14       4  \n",
      "7                      13       4  \n",
      "8                      11       4  \n",
      "9                      13       4  \n",
      "10                     11       4  \n",
      "11                      9       4  \n"
     ]
    }
   ],
   "source": [
    "# using groupby function in panda\n",
    "grouped = household_poverty.groupby('rooms') \n",
    "print(grouped.first())"
   ]
  },
  {
   "cell_type": "code",
   "execution_count": 99,
   "metadata": {},
   "outputs": [
    {
     "name": "stdout",
     "output_type": "stream",
     "text": [
      "       hh_ID\n",
      "rooms       \n",
      "1          8\n",
      "2         19\n",
      "3         90\n",
      "4        227\n",
      "5        291\n",
      "6        156\n",
      "7        112\n",
      "8         59\n",
      "9         14\n",
      "10        17\n",
      "11         7\n"
     ]
    }
   ],
   "source": [
    "# count the number of hh_IDs by number of rooms, and creating a dataframe.\n",
    "hh_ID = grouped.count()[['hh_ID']]\n",
    "print(hh_ID)"
   ]
  },
  {
   "cell_type": "code",
   "execution_count": 100,
   "metadata": {},
   "outputs": [
    {
     "name": "stdout",
     "output_type": "stream",
     "text": [
      "rooms\n",
      "1       8\n",
      "2      19\n",
      "3      90\n",
      "4     227\n",
      "5     291\n",
      "6     156\n",
      "7     112\n",
      "8      59\n",
      "9      14\n",
      "10     17\n",
      "11      7\n",
      "Name: hh_ID, dtype: int64\n"
     ]
    }
   ],
   "source": [
    "# This syntax would do the same, but create a series.\n",
    "print(grouped.count().hh_ID)"
   ]
  },
  {
   "cell_type": "code",
   "execution_count": 101,
   "metadata": {},
   "outputs": [
    {
     "name": "stdout",
     "output_type": "stream",
     "text": [
      "       hh_ID\n",
      "rooms       \n",
      "5        291\n",
      "4        227\n",
      "6        156\n",
      "7        112\n",
      "3         90\n",
      "8         59\n",
      "2         19\n",
      "10        17\n",
      "9         14\n",
      "1          8\n",
      "11         7\n"
     ]
    }
   ],
   "source": [
    "# sort values by column 'hh_ID' descending\n",
    "print(hh_ID.sort_values(by = ['hh_ID'], ascending = [False]))\n"
   ]
  },
  {
   "cell_type": "code",
   "execution_count": 102,
   "metadata": {},
   "outputs": [
    {
     "name": "stdout",
     "output_type": "stream",
     "text": [
      "       hh_ID\n",
      "rooms       \n",
      "1          8\n",
      "2         19\n",
      "3         90\n",
      "4        227\n"
     ]
    }
   ],
   "source": [
    "# filter using .query function\n",
    "print(hh_ID.query('rooms < 5'))"
   ]
  },
  {
   "cell_type": "code",
   "execution_count": 103,
   "metadata": {},
   "outputs": [
    {
     "name": "stdout",
     "output_type": "stream",
     "text": [
      "       hh_ID  over100_hh\n",
      "rooms                   \n",
      "1          8       False\n",
      "2         19       False\n",
      "3         90       False\n",
      "4        227        True\n",
      "5        291        True\n"
     ]
    }
   ],
   "source": [
    "# add new boolean column after condition check\n",
    "over100_hh = hh_ID['hh_ID'] > 100 \n",
    "# Add the new column. \n",
    "hh_ID['over100_hh'] = over100_hh \n",
    "print(hh_ID.head())"
   ]
  },
  {
   "cell_type": "code",
   "execution_count": null,
   "metadata": {},
   "outputs": [],
   "source": []
  }
 ],
 "metadata": {
  "kernelspec": {
   "display_name": "Python 3",
   "language": "python",
   "name": "python3"
  },
  "language_info": {
   "codemirror_mode": {
    "name": "ipython",
    "version": 3
   },
   "file_extension": ".py",
   "mimetype": "text/x-python",
   "name": "python",
   "nbconvert_exporter": "python",
   "pygments_lexer": "ipython3",
   "version": "3.7.1"
  }
 },
 "nbformat": 4,
 "nbformat_minor": 2
}
