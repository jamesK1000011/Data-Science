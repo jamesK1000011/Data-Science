{
 "cells": [
  {
   "cell_type": "code",
   "execution_count": 1,
   "metadata": {},
   "outputs": [],
   "source": [
    "\n",
    "#######################################################\n",
    "#######################################################\n",
    "############    COPYRIGHT - DATA SOCIETY   ############\n",
    "#######################################################\n",
    "#######################################################\n",
    "\n",
    "## 12 INTRO TO CLASSIFICATION DAY3 ##\n",
    "\n",
    "## NOTE: To run individual pieces of code, select the line of code and\n",
    "##       press ctrl + enter for PCs or command + enter for Macs\n",
    "\n"
   ]
  },
  {
   "cell_type": "code",
   "execution_count": 1,
   "metadata": {},
   "outputs": [],
   "source": [
    "main_dir = '/Users/datasociety/Desktop/af-werx'\n",
    "data_dir = main_dir + \"/data\"\n",
    "plot_dir = main_dir + \"/plots\""
   ]
  },
  {
   "cell_type": "code",
   "execution_count": 2,
   "metadata": {},
   "outputs": [],
   "source": [
    "#=================================================-\n",
    "#### Slide 3: Loading packages  ####\n",
    "\n",
    "import os\n",
    "import pandas as pd\n",
    "import numpy as np\n",
    "import matplotlib.pyplot as plt\n",
    "import pickle\n",
    "from sklearn.model_selection import train_test_split\n",
    "from sklearn import metrics\n",
    "from sklearn.metrics import accuracy_score, classification_report, confusion_matrix\n",
    "from sklearn.model_selection import GridSearchCV\n",
    "\n",
    "import graphviz\n",
    "from sklearn import tree\n",
    "from sklearn.tree import DecisionTreeClassifier\n",
    "from sklearn.model_selection import cross_val_score\n",
    "from matplotlib.legend_handler import HandlerLine2D\n",
    "\n"
   ]
  },
  {
   "cell_type": "code",
   "execution_count": 3,
   "metadata": {},
   "outputs": [
    {
     "name": "stdout",
     "output_type": "stream",
     "text": [
      "/Users/datasociety/Desktop/af-werx/data\n"
     ]
    }
   ],
   "source": [
    "#=================================================-\n",
    "#### Slide 4: Working directory  ####\n",
    "\n",
    "# Set working directory.\n",
    "os.chdir(data_dir)\n",
    "# Check working directory.\n",
    "print(os.getcwd())\n",
    "\n"
   ]
  },
  {
   "cell_type": "code",
   "execution_count": 4,
   "metadata": {},
   "outputs": [
    {
     "data": {
      "text/html": [
       "<div>\n",
       "<style scoped>\n",
       "    .dataframe tbody tr th:only-of-type {\n",
       "        vertical-align: middle;\n",
       "    }\n",
       "\n",
       "    .dataframe tbody tr th {\n",
       "        vertical-align: top;\n",
       "    }\n",
       "\n",
       "    .dataframe thead th {\n",
       "        text-align: right;\n",
       "    }\n",
       "</style>\n",
       "<table border=\"1\" class=\"dataframe\">\n",
       "  <thead>\n",
       "    <tr style=\"text-align: right;\">\n",
       "      <th></th>\n",
       "      <th>household_id</th>\n",
       "      <th>ind_id</th>\n",
       "      <th>rooms</th>\n",
       "      <th>tablet</th>\n",
       "      <th>males_under_12</th>\n",
       "      <th>males_over_12</th>\n",
       "      <th>males_tot</th>\n",
       "      <th>females_under_12</th>\n",
       "      <th>females_over_12</th>\n",
       "      <th>females_tot</th>\n",
       "      <th>...</th>\n",
       "      <th>region_Chorotega</th>\n",
       "      <th>region_pacifico</th>\n",
       "      <th>region_brunca</th>\n",
       "      <th>region_antlantica</th>\n",
       "      <th>region_huetar</th>\n",
       "      <th>urban_zone</th>\n",
       "      <th>rural_zone</th>\n",
       "      <th>age</th>\n",
       "      <th>Target</th>\n",
       "      <th>monthly_rent</th>\n",
       "    </tr>\n",
       "  </thead>\n",
       "  <tbody>\n",
       "    <tr>\n",
       "      <th>0</th>\n",
       "      <td>21eb7fcc1</td>\n",
       "      <td>ID_279628684</td>\n",
       "      <td>3</td>\n",
       "      <td>0</td>\n",
       "      <td>0</td>\n",
       "      <td>1</td>\n",
       "      <td>1</td>\n",
       "      <td>0</td>\n",
       "      <td>0</td>\n",
       "      <td>0</td>\n",
       "      <td>...</td>\n",
       "      <td>0</td>\n",
       "      <td>0</td>\n",
       "      <td>0</td>\n",
       "      <td>0</td>\n",
       "      <td>0</td>\n",
       "      <td>1</td>\n",
       "      <td>0</td>\n",
       "      <td>43</td>\n",
       "      <td>4</td>\n",
       "      <td>190000.0</td>\n",
       "    </tr>\n",
       "    <tr>\n",
       "      <th>1</th>\n",
       "      <td>0e5d7a658</td>\n",
       "      <td>ID_f29eb3ddd</td>\n",
       "      <td>4</td>\n",
       "      <td>1</td>\n",
       "      <td>0</td>\n",
       "      <td>1</td>\n",
       "      <td>1</td>\n",
       "      <td>0</td>\n",
       "      <td>0</td>\n",
       "      <td>0</td>\n",
       "      <td>...</td>\n",
       "      <td>0</td>\n",
       "      <td>0</td>\n",
       "      <td>0</td>\n",
       "      <td>0</td>\n",
       "      <td>0</td>\n",
       "      <td>1</td>\n",
       "      <td>0</td>\n",
       "      <td>67</td>\n",
       "      <td>4</td>\n",
       "      <td>135000.0</td>\n",
       "    </tr>\n",
       "    <tr>\n",
       "      <th>2</th>\n",
       "      <td>2c7317ea8</td>\n",
       "      <td>ID_68de51c94</td>\n",
       "      <td>8</td>\n",
       "      <td>0</td>\n",
       "      <td>0</td>\n",
       "      <td>0</td>\n",
       "      <td>0</td>\n",
       "      <td>0</td>\n",
       "      <td>1</td>\n",
       "      <td>1</td>\n",
       "      <td>...</td>\n",
       "      <td>0</td>\n",
       "      <td>0</td>\n",
       "      <td>0</td>\n",
       "      <td>0</td>\n",
       "      <td>0</td>\n",
       "      <td>1</td>\n",
       "      <td>0</td>\n",
       "      <td>92</td>\n",
       "      <td>4</td>\n",
       "      <td>NaN</td>\n",
       "    </tr>\n",
       "    <tr>\n",
       "      <th>3</th>\n",
       "      <td>2b58d945f</td>\n",
       "      <td>ID_d671db89c</td>\n",
       "      <td>5</td>\n",
       "      <td>1</td>\n",
       "      <td>0</td>\n",
       "      <td>2</td>\n",
       "      <td>2</td>\n",
       "      <td>1</td>\n",
       "      <td>1</td>\n",
       "      <td>2</td>\n",
       "      <td>...</td>\n",
       "      <td>0</td>\n",
       "      <td>0</td>\n",
       "      <td>0</td>\n",
       "      <td>0</td>\n",
       "      <td>0</td>\n",
       "      <td>1</td>\n",
       "      <td>0</td>\n",
       "      <td>17</td>\n",
       "      <td>4</td>\n",
       "      <td>180000.0</td>\n",
       "    </tr>\n",
       "    <tr>\n",
       "      <th>4</th>\n",
       "      <td>2b58d945f</td>\n",
       "      <td>ID_d56d6f5f5</td>\n",
       "      <td>5</td>\n",
       "      <td>1</td>\n",
       "      <td>0</td>\n",
       "      <td>2</td>\n",
       "      <td>2</td>\n",
       "      <td>1</td>\n",
       "      <td>1</td>\n",
       "      <td>2</td>\n",
       "      <td>...</td>\n",
       "      <td>0</td>\n",
       "      <td>0</td>\n",
       "      <td>0</td>\n",
       "      <td>0</td>\n",
       "      <td>0</td>\n",
       "      <td>1</td>\n",
       "      <td>0</td>\n",
       "      <td>37</td>\n",
       "      <td>4</td>\n",
       "      <td>180000.0</td>\n",
       "    </tr>\n",
       "  </tbody>\n",
       "</table>\n",
       "<p>5 rows × 84 columns</p>\n",
       "</div>"
      ],
      "text/plain": [
       "  household_id        ind_id  rooms  tablet  males_under_12  males_over_12  \\\n",
       "0    21eb7fcc1  ID_279628684      3       0               0              1   \n",
       "1    0e5d7a658  ID_f29eb3ddd      4       1               0              1   \n",
       "2    2c7317ea8  ID_68de51c94      8       0               0              0   \n",
       "3    2b58d945f  ID_d671db89c      5       1               0              2   \n",
       "4    2b58d945f  ID_d56d6f5f5      5       1               0              2   \n",
       "\n",
       "   males_tot  females_under_12  females_over_12  females_tot      ...       \\\n",
       "0          1                 0                0            0      ...        \n",
       "1          1                 0                0            0      ...        \n",
       "2          0                 0                1            1      ...        \n",
       "3          2                 1                1            2      ...        \n",
       "4          2                 1                1            2      ...        \n",
       "\n",
       "   region_Chorotega  region_pacifico  region_brunca  region_antlantica  \\\n",
       "0                 0                0              0                  0   \n",
       "1                 0                0              0                  0   \n",
       "2                 0                0              0                  0   \n",
       "3                 0                0              0                  0   \n",
       "4                 0                0              0                  0   \n",
       "\n",
       "   region_huetar  urban_zone  rural_zone  age  Target  monthly_rent  \n",
       "0              0           1           0   43       4      190000.0  \n",
       "1              0           1           0   67       4      135000.0  \n",
       "2              0           1           0   92       4           NaN  \n",
       "3              0           1           0   17       4      180000.0  \n",
       "4              0           1           0   37       4      180000.0  \n",
       "\n",
       "[5 rows x 84 columns]"
      ]
     },
     "execution_count": 4,
     "metadata": {},
     "output_type": "execute_result"
    }
   ],
   "source": [
    "#=================================================-\n",
    "#### Slide 22: Load the dataset  ####\n",
    "\n",
    "household_poverty = pd.read_csv(\"costa_rica_poverty.csv\")\n",
    "household_poverty.head()\n",
    "\n"
   ]
  },
  {
   "cell_type": "code",
   "execution_count": 5,
   "metadata": {},
   "outputs": [
    {
     "name": "stdout",
     "output_type": "stream",
     "text": [
      "0    non_vulnerable\n",
      "1    non_vulnerable\n",
      "2    non_vulnerable\n",
      "3    non_vulnerable\n",
      "4    non_vulnerable\n",
      "Name: Target, dtype: object\n"
     ]
    }
   ],
   "source": [
    "#=================================================-\n",
    "#### Slide 23: Converting the target variable  ####\n",
    "\n",
    "household_poverty['Target'] = np.where(household_poverty['Target'] <= 3, 'vulnerable', 'non_vulnerable')\n",
    "print(household_poverty['Target'].head())\n",
    "\n"
   ]
  },
  {
   "cell_type": "code",
   "execution_count": 6,
   "metadata": {},
   "outputs": [
    {
     "name": "stdout",
     "output_type": "stream",
     "text": [
      "object\n",
      "bool\n"
     ]
    }
   ],
   "source": [
    "#=================================================-\n",
    "#### Slide 24: Data prep: target  ####\n",
    "\n",
    "print(household_poverty.Target.dtypes)\n",
    "household_poverty[\"Target\"] = np.where(household_poverty[\"Target\"] == \"non_vulnerable\", True, False)\n",
    "\n",
    "# Check class again.\n",
    "print(household_poverty.Target.dtypes)\n",
    "\n"
   ]
  },
  {
   "cell_type": "code",
   "execution_count": 7,
   "metadata": {},
   "outputs": [
    {
     "name": "stdout",
     "output_type": "stream",
     "text": [
      "   rooms  num_adults  Target\n",
      "0      3           1    True\n",
      "1      4           1    True\n",
      "2      8           1    True\n",
      "3      5           2    True\n",
      "4      5           2    True\n"
     ]
    }
   ],
   "source": [
    "#=================================================-\n",
    "#### Slide 26: Subsetting data  ####\n",
    "\n",
    "costa_tree_subset = household_poverty[['rooms', 'num_adults', 'Target']]\n",
    "print(costa_tree_subset.head())\n",
    "\n"
   ]
  },
  {
   "cell_type": "code",
   "execution_count": 8,
   "metadata": {},
   "outputs": [
    {
     "name": "stdout",
     "output_type": "stream",
     "text": [
      "             rooms   num_adults\n",
      "count  9557.000000  9557.000000\n",
      "mean      4.955530     2.592445\n",
      "std       1.468381     1.166074\n",
      "min       1.000000     0.000000\n",
      "25%       4.000000     2.000000\n",
      "50%       5.000000     2.000000\n",
      "75%       6.000000     3.000000\n",
      "max      11.000000     9.000000\n"
     ]
    }
   ],
   "source": [
    "#=================================================-\n",
    "#### Slide 27: Summarize the data  ####\n",
    "\n",
    "print(costa_tree_subset.describe())\n",
    "\n"
   ]
  },
  {
   "cell_type": "code",
   "execution_count": 9,
   "metadata": {},
   "outputs": [
    {
     "data": {
      "text/plain": [
       "(9557, 3)"
      ]
     },
     "execution_count": 9,
     "metadata": {},
     "output_type": "execute_result"
    }
   ],
   "source": [
    "costa_tree_subset.shape"
   ]
  },
  {
   "cell_type": "code",
   "execution_count": 10,
   "metadata": {},
   "outputs": [],
   "source": [
    "#=================================================-\n",
    "#### Slide 32: Splitting our subset  ####\n",
    "\n",
    "np.random.seed(1)\n",
    "X_small = costa_tree_subset.iloc[0:60, 0:2]\n",
    "y_small = costa_tree_subset.iloc[0:60, 2:3]\n",
    "\n"
   ]
  },
  {
   "cell_type": "code",
   "execution_count": 11,
   "metadata": {},
   "outputs": [
    {
     "name": "stdout",
     "output_type": "stream",
     "text": [
      "DecisionTreeClassifier(class_weight=None, criterion='gini', max_depth=None,\n",
      "            max_features=None, max_leaf_nodes=None,\n",
      "            min_impurity_decrease=0.0, min_impurity_split=None,\n",
      "            min_samples_leaf=1, min_samples_split=2,\n",
      "            min_weight_fraction_leaf=0.0, presort=False, random_state=None,\n",
      "            splitter='best')\n"
     ]
    }
   ],
   "source": [
    "#=================================================-\n",
    "#### Slide 33: Tree: run on small dataset  ####\n",
    "\n",
    "# Implement the decision tree on X_small.\n",
    "clf = tree.DecisionTreeClassifier()\n",
    "clf_fit_small = clf.fit(X_small, y_small)\n",
    "\n",
    "# Look at our generated model:\n",
    "print(clf_fit_small)\n",
    "\n"
   ]
  },
  {
   "cell_type": "code",
   "execution_count": 12,
   "metadata": {},
   "outputs": [
    {
     "data": {
      "text/plain": [
       "'trained_tree.pdf'"
      ]
     },
     "execution_count": 12,
     "metadata": {},
     "output_type": "execute_result"
    }
   ],
   "source": [
    "os.chdir(plot_dir)\n",
    "# Visualize `clf_fit_small`.\n",
    "feature_cols = ['rooms','num_adults']\n",
    "dot_data = tree.export_graphviz(\n",
    "    clf_fit_small,\n",
    "    feature_names = feature_cols,\n",
    "    out_file = None\n",
    ")\n",
    "graph = graphviz.Source(dot_data)\n",
    "graph.render(\"trained_tree\")"
   ]
  },
  {
   "cell_type": "code",
   "execution_count": 13,
   "metadata": {},
   "outputs": [
    {
     "name": "stdout",
     "output_type": "stream",
     "text": [
      "(6689, 2) (6689,)\n",
      "(2868, 2) (2868,)\n"
     ]
    }
   ],
   "source": [
    "#=================================================-\n",
    "#### Slide 39: Split into train and test  ####\n",
    "\n",
    "# Change working directory back to data directory.\n",
    "os.chdir(data_dir)\n",
    "\n",
    "# Split into train and test, use sklearn.\n",
    "# Create training and test vars.\n",
    "np.random.seed(1)\n",
    "X = costa_tree_subset[['rooms','num_adults']]\n",
    "y = np.array(costa_tree_subset['Target'])\n",
    "\n",
    "# Split into train and test.\n",
    "X_train, X_test, y_train, y_test = train_test_split(X, y, test_size=0.3)\n",
    "\n",
    "print(X_train.shape, y_train.shape)\n",
    "print(X_test.shape, y_test.shape)\n",
    "\n"
   ]
  },
  {
   "cell_type": "code",
   "execution_count": 14,
   "metadata": {},
   "outputs": [],
   "source": [
    "#=================================================-\n",
    "#### Slide 40: Fit decision tree and predict  ####\n",
    "\n",
    "# Implement the decision tree on X_train.\n",
    "clf = tree.DecisionTreeClassifier()\n",
    "clf_fit = clf.fit(X_train, y_train)\n",
    "\n",
    "# Predict on X_test.\n",
    "y_predict = clf_fit.predict(X_test)\n",
    "\n"
   ]
  },
  {
   "cell_type": "code",
   "execution_count": 15,
   "metadata": {},
   "outputs": [
    {
     "name": "stdout",
     "output_type": "stream",
     "text": [
      "0.6610878661087866\n"
     ]
    }
   ],
   "source": [
    "#=================================================-\n",
    "#### Slide 42: Evaluate model  ####\n",
    "\n",
    "# Accuracy score.\n",
    "acc_score = accuracy_score(y_test, y_predict)\n",
    "print(acc_score)\n",
    "# Confusion matrix for first model.\n",
    "cm_tree = confusion_matrix(y_test, y_predict)\n",
    "\n"
   ]
  },
  {
   "cell_type": "code",
   "execution_count": 16,
   "metadata": {},
   "outputs": [
    {
     "data": {
      "image/png": "[encoded data removed]",
      "text/plain": [
       "<Figure size 432x288 with 1 Axes>"
      ]
     },
     "metadata": {
      "needs_background": "light"
     },
     "output_type": "display_data"
    }
   ],
   "source": [
    "#=================================================-\n",
    "#### Slide 43: Plot confusion matrix  ####\n",
    "\n",
    "plt.clf()\n",
    "plt.imshow(cm_tree, \n",
    "           interpolation='nearest', \n",
    "           cmap=plt.cm.Wistia)\n",
    "classNames = ['Negative','Positive']\n",
    "plt.title('Confusion Matrix - Test Data')\n",
    "plt.ylabel('True label')\n",
    "plt.xlabel('Predicted label')\n",
    "tick_marks = np.arange(len(classNames))\n",
    "plt.xticks(tick_marks, classNames, rotation=45)\n",
    "plt.yticks(tick_marks, classNames)\n",
    "s = [['TN','FP'], ['FN', 'TP']]\n",
    "for i in range(2):\n",
    "    for j in range(2):\n",
    "        plt.text(j,i, str(s[i][j]) + \" = \" + str(cm_tree[i][j]))\n",
    "plt.show()\n"
   ]
  },
  {
   "cell_type": "code",
   "execution_count": 17,
   "metadata": {},
   "outputs": [
    {
     "data": {
      "image/png": "[encoded data removed]",
      "text/plain": [
       "<Figure size 432x288 with 1 Axes>"
      ]
     },
     "metadata": {
      "needs_background": "light"
     },
     "output_type": "display_data"
    }
   ],
   "source": [
    "#=================================================-\n",
    "#### Slide 44: Plot ROC and calculate AUC  ####\n",
    "\n",
    "\n",
    "# Calculate metrics for ROC (fpr, tpr) and calculate AUC.\n",
    "fpr, tpr, threshold = metrics.roc_curve(y_test, y_predict)\n",
    "roc_auc = metrics.auc(fpr, tpr)\n",
    "\n",
    "# Plot ROC.\n",
    "plt.title('Receiver Operating Characteristic')\n",
    "plt.plot(fpr,\n",
    "         tpr, \n",
    "         'b',\n",
    "         label = 'AUC = %0.2f' % roc_auc)\n",
    "plt.legend(loc = 'lower right')\n",
    "plt.plot([0, 1], \n",
    "         [0, 1],\n",
    "         'r--')\n",
    "plt.xlim([0, 1])\n",
    "plt.ylim([0, 1])\n",
    "plt.ylabel('True Positive Rate')\n",
    "plt.xlabel('False Positive Rate')\n",
    "plt.show()\n",
    "\n"
   ]
  },
  {
   "cell_type": "code",
   "execution_count": 18,
   "metadata": {},
   "outputs": [
    {
     "name": "stdout",
     "output_type": "stream",
     "text": [
      "    metrics  values                   model\n",
      "0  accuracy  0.6046                   knn_5\n",
      "1  accuracy  0.6188        knn_GridSearchCV\n",
      "2  accuracy  0.6287                  knn_29\n",
      "3  accuracy  0.6287                  knn_29\n",
      "4  accuracy  0.6356                logistic\n",
      "5  accuracy  0.7845  logistic_whole_dataset\n",
      "6  accuracy  0.7859          logistic_tuned\n",
      "7  accuracy  0.6611      tree_simple_subset\n"
     ]
    }
   ],
   "source": [
    "#=================================================-\n",
    "#### Slide 45: Save metrics to model_final dataframe  ####\n",
    "\n",
    "model_final_tree = pickle.load(open(\"model_final_logistic.sav\",\"rb\"))\n",
    "# Add this final model champion to our dataframe.\n",
    "model_final_tree = model_final_tree.append({'metrics' : \"accuracy\" ,\n",
    "'values' : round(acc_score,4),\n",
    "'model':'tree_simple_subset' } ,\n",
    "ignore_index = True)\n",
    "print(model_final_tree)\n",
    "\n",
    "\n"
   ]
  },
  {
   "cell_type": "code",
   "execution_count": 19,
   "metadata": {},
   "outputs": [],
   "source": [
    "#=================================================-\n",
    "#### Slide 47: Exercise 1  ####\n",
    "\n",
    "\n",
    "\n"
   ]
  },
  {
   "cell_type": "code",
   "execution_count": 20,
   "metadata": {},
   "outputs": [
    {
     "data": {
      "text/html": [
       "<div>\n",
       "<style scoped>\n",
       "    .dataframe tbody tr th:only-of-type {\n",
       "        vertical-align: middle;\n",
       "    }\n",
       "\n",
       "    .dataframe tbody tr th {\n",
       "        vertical-align: top;\n",
       "    }\n",
       "\n",
       "    .dataframe thead th {\n",
       "        text-align: right;\n",
       "    }\n",
       "</style>\n",
       "<table border=\"1\" class=\"dataframe\">\n",
       "  <thead>\n",
       "    <tr style=\"text-align: right;\">\n",
       "      <th></th>\n",
       "      <th>rooms</th>\n",
       "      <th>tablet</th>\n",
       "      <th>males_under_12</th>\n",
       "      <th>males_over_12</th>\n",
       "      <th>males_tot</th>\n",
       "      <th>females_under_12</th>\n",
       "      <th>females_over_12</th>\n",
       "      <th>females_tot</th>\n",
       "      <th>ppl_under_12</th>\n",
       "      <th>ppl_over_12</th>\n",
       "      <th>...</th>\n",
       "      <th>region_central</th>\n",
       "      <th>region_Chorotega</th>\n",
       "      <th>region_pacifico</th>\n",
       "      <th>region_brunca</th>\n",
       "      <th>region_antlantica</th>\n",
       "      <th>region_huetar</th>\n",
       "      <th>urban_zone</th>\n",
       "      <th>rural_zone</th>\n",
       "      <th>age</th>\n",
       "      <th>Target</th>\n",
       "    </tr>\n",
       "  </thead>\n",
       "  <tbody>\n",
       "    <tr>\n",
       "      <th>0</th>\n",
       "      <td>3</td>\n",
       "      <td>0</td>\n",
       "      <td>0</td>\n",
       "      <td>1</td>\n",
       "      <td>1</td>\n",
       "      <td>0</td>\n",
       "      <td>0</td>\n",
       "      <td>0</td>\n",
       "      <td>0</td>\n",
       "      <td>1</td>\n",
       "      <td>...</td>\n",
       "      <td>1</td>\n",
       "      <td>0</td>\n",
       "      <td>0</td>\n",
       "      <td>0</td>\n",
       "      <td>0</td>\n",
       "      <td>0</td>\n",
       "      <td>1</td>\n",
       "      <td>0</td>\n",
       "      <td>43</td>\n",
       "      <td>True</td>\n",
       "    </tr>\n",
       "    <tr>\n",
       "      <th>1</th>\n",
       "      <td>4</td>\n",
       "      <td>1</td>\n",
       "      <td>0</td>\n",
       "      <td>1</td>\n",
       "      <td>1</td>\n",
       "      <td>0</td>\n",
       "      <td>0</td>\n",
       "      <td>0</td>\n",
       "      <td>0</td>\n",
       "      <td>1</td>\n",
       "      <td>...</td>\n",
       "      <td>1</td>\n",
       "      <td>0</td>\n",
       "      <td>0</td>\n",
       "      <td>0</td>\n",
       "      <td>0</td>\n",
       "      <td>0</td>\n",
       "      <td>1</td>\n",
       "      <td>0</td>\n",
       "      <td>67</td>\n",
       "      <td>True</td>\n",
       "    </tr>\n",
       "    <tr>\n",
       "      <th>2</th>\n",
       "      <td>8</td>\n",
       "      <td>0</td>\n",
       "      <td>0</td>\n",
       "      <td>0</td>\n",
       "      <td>0</td>\n",
       "      <td>0</td>\n",
       "      <td>1</td>\n",
       "      <td>1</td>\n",
       "      <td>0</td>\n",
       "      <td>1</td>\n",
       "      <td>...</td>\n",
       "      <td>1</td>\n",
       "      <td>0</td>\n",
       "      <td>0</td>\n",
       "      <td>0</td>\n",
       "      <td>0</td>\n",
       "      <td>0</td>\n",
       "      <td>1</td>\n",
       "      <td>0</td>\n",
       "      <td>92</td>\n",
       "      <td>True</td>\n",
       "    </tr>\n",
       "    <tr>\n",
       "      <th>3</th>\n",
       "      <td>5</td>\n",
       "      <td>1</td>\n",
       "      <td>0</td>\n",
       "      <td>2</td>\n",
       "      <td>2</td>\n",
       "      <td>1</td>\n",
       "      <td>1</td>\n",
       "      <td>2</td>\n",
       "      <td>1</td>\n",
       "      <td>3</td>\n",
       "      <td>...</td>\n",
       "      <td>1</td>\n",
       "      <td>0</td>\n",
       "      <td>0</td>\n",
       "      <td>0</td>\n",
       "      <td>0</td>\n",
       "      <td>0</td>\n",
       "      <td>1</td>\n",
       "      <td>0</td>\n",
       "      <td>17</td>\n",
       "      <td>True</td>\n",
       "    </tr>\n",
       "    <tr>\n",
       "      <th>4</th>\n",
       "      <td>5</td>\n",
       "      <td>1</td>\n",
       "      <td>0</td>\n",
       "      <td>2</td>\n",
       "      <td>2</td>\n",
       "      <td>1</td>\n",
       "      <td>1</td>\n",
       "      <td>2</td>\n",
       "      <td>1</td>\n",
       "      <td>3</td>\n",
       "      <td>...</td>\n",
       "      <td>1</td>\n",
       "      <td>0</td>\n",
       "      <td>0</td>\n",
       "      <td>0</td>\n",
       "      <td>0</td>\n",
       "      <td>0</td>\n",
       "      <td>1</td>\n",
       "      <td>0</td>\n",
       "      <td>37</td>\n",
       "      <td>True</td>\n",
       "    </tr>\n",
       "  </tbody>\n",
       "</table>\n",
       "<p>5 rows × 81 columns</p>\n",
       "</div>"
      ],
      "text/plain": [
       "   rooms  tablet  males_under_12  males_over_12  males_tot  females_under_12  \\\n",
       "0      3       0               0              1          1                 0   \n",
       "1      4       1               0              1          1                 0   \n",
       "2      8       0               0              0          0                 0   \n",
       "3      5       1               0              2          2                 1   \n",
       "4      5       1               0              2          2                 1   \n",
       "\n",
       "   females_over_12  females_tot  ppl_under_12  ppl_over_12   ...    \\\n",
       "0                0            0             0            1   ...     \n",
       "1                0            0             0            1   ...     \n",
       "2                1            1             0            1   ...     \n",
       "3                1            2             1            3   ...     \n",
       "4                1            2             1            3   ...     \n",
       "\n",
       "   region_central  region_Chorotega  region_pacifico  region_brunca  \\\n",
       "0               1                 0                0              0   \n",
       "1               1                 0                0              0   \n",
       "2               1                 0                0              0   \n",
       "3               1                 0                0              0   \n",
       "4               1                 0                0              0   \n",
       "\n",
       "   region_antlantica  region_huetar  urban_zone  rural_zone  age  Target  \n",
       "0                  0              0           1           0   43    True  \n",
       "1                  0              0           1           0   67    True  \n",
       "2                  0              0           1           0   92    True  \n",
       "3                  0              0           1           0   17    True  \n",
       "4                  0              0           1           0   37    True  \n",
       "\n",
       "[5 rows x 81 columns]"
      ]
     },
     "execution_count": 20,
     "metadata": {},
     "output_type": "execute_result"
    }
   ],
   "source": [
    "#=================================================-\n",
    "#### Slide 49: View the dataset  ####\n",
    "\n",
    "costa_tree = household_poverty.drop(['household_id', 'ind_id', 'monthly_rent'], axis = 1)\n",
    "costa_tree.head()\n",
    "\n"
   ]
  },
  {
   "cell_type": "code",
   "execution_count": 21,
   "metadata": {},
   "outputs": [],
   "source": [
    "#=================================================-\n",
    "#### Slide 50: Split into train and test set  ####\n",
    "\n",
    "# Split the predictors from data.\n",
    "X = costa_tree.drop('Target', axis = 1)\n",
    "\n",
    "# Separate target from data.\n",
    "y = np.array(costa_tree['Target'])\n",
    "# Set the seed.\n",
    "np.random.seed(1)\n",
    "# Split data into training and test set, use a 70 train - 30 test split.\n",
    "X_train, X_test, y_train, y_test = train_test_split(X,\n",
    "y,\n",
    "test_size = .3)\n",
    "\n",
    "\n"
   ]
  },
  {
   "cell_type": "code",
   "execution_count": 22,
   "metadata": {},
   "outputs": [
    {
     "name": "stdout",
     "output_type": "stream",
     "text": [
      "DecisionTreeClassifier(class_weight=None, criterion='gini', max_depth=None,\n",
      "            max_features=None, max_leaf_nodes=None,\n",
      "            min_impurity_decrease=0.0, min_impurity_split=None,\n",
      "            min_samples_leaf=1, min_samples_split=2,\n",
      "            min_weight_fraction_leaf=0.0, presort=False, random_state=None,\n",
      "            splitter='best')\n"
     ]
    }
   ],
   "source": [
    "#=================================================-\n",
    "#### Slide 51: Decision tree: build  ####\n",
    "\n",
    "# Set up decision tree model.\n",
    "clf = tree.DecisionTreeClassifier()\n",
    "print(clf)\n",
    "\n"
   ]
  },
  {
   "cell_type": "code",
   "execution_count": 23,
   "metadata": {},
   "outputs": [],
   "source": [
    "#=================================================-\n",
    "#### Slide 52: Decision tree: fit  ####\n",
    "\n",
    "# Fit the model.\n",
    "clf_fit = clf.fit(X_train, y_train)\n",
    "\n"
   ]
  },
  {
   "cell_type": "code",
   "execution_count": 24,
   "metadata": {},
   "outputs": [
    {
     "name": "stdout",
     "output_type": "stream",
     "text": [
      "[ True  True False ...  True  True False]\n"
     ]
    }
   ],
   "source": [
    "#=================================================-\n",
    "#### Slide 53: Decision tree: predict  ####\n",
    "\n",
    "# Predict on X_test.\n",
    "y_predict = clf_fit.predict(X_test)\n",
    "print(y_predict)\n",
    "\n"
   ]
  },
  {
   "cell_type": "code",
   "execution_count": 25,
   "metadata": {},
   "outputs": [
    {
     "name": "stdout",
     "output_type": "stream",
     "text": [
      "Accuracy on test data:  0.9407252440725244\n"
     ]
    }
   ],
   "source": [
    "#=================================================-\n",
    "#### Slide 54: Decision tree: accuracy  ####\n",
    "\n",
    "# Compute test model accuracy score.\n",
    "tree_accuracy_score = metrics.accuracy_score(y_test, y_predict)\n",
    "print(\"Accuracy on test data: \", tree_accuracy_score)\n",
    "\n"
   ]
  },
  {
   "cell_type": "code",
   "execution_count": 26,
   "metadata": {},
   "outputs": [
    {
     "name": "stdout",
     "output_type": "stream",
     "text": [
      "    metrics  values                   model\n",
      "0  accuracy  0.6046                   knn_5\n",
      "1  accuracy  0.6188        knn_GridSearchCV\n",
      "2  accuracy  0.6287                  knn_29\n",
      "3  accuracy  0.6287                  knn_29\n",
      "4  accuracy  0.6356                logistic\n",
      "5  accuracy  0.7845  logistic_whole_dataset\n",
      "6  accuracy  0.7859          logistic_tuned\n",
      "7  accuracy  0.6611      tree_simple_subset\n",
      "8  accuracy  0.9407      tree_all_variables\n"
     ]
    }
   ],
   "source": [
    "#=================================================-\n",
    "#### Slide 55: Decision tree: accuracy  ####\n",
    "\n",
    "# Add this model to our model champion dataframe.\n",
    "model_final_tree = model_final_tree.append(\n",
    "    {'metrics' : \"accuracy\" ,\n",
    "     'values' : round(tree_accuracy_score,4),\n",
    "     'model':'tree_all_variables' },\n",
    "ignore_index = True\n",
    ")\n",
    "print(model_final_tree)"
   ]
  },
  {
   "cell_type": "code",
   "execution_count": 27,
   "metadata": {},
   "outputs": [
    {
     "name": "stdout",
     "output_type": "stream",
     "text": [
      "[0.67816092 0.63179916 0.68410042 0.67468619 0.67782427 0.65376569\n",
      " 0.64502618 0.35183246 0.52879581 0.62931937]\n"
     ]
    }
   ],
   "source": [
    "#=================================================-\n",
    "#### Slide 57: Cross-validation  ####\n",
    "y = np.array(costa_tree['Target'])\n",
    "X = costa_tree.drop('Target', axis = 1)\n",
    "clf = tree.DecisionTreeClassifier()\n",
    "print(cross_val_score(clf, \n",
    "                      X, \n",
    "                      y, \n",
    "                      cv = 10)\n",
    "     )\n",
    "\n"
   ]
  },
  {
   "cell_type": "code",
   "execution_count": 28,
   "metadata": {},
   "outputs": [
    {
     "name": "stdout",
     "output_type": "stream",
     "text": [
      "(9557, 81)\n"
     ]
    }
   ],
   "source": [
    "#=================================================-\n",
    "#### Slide 58: Highly-correlated variables  ####\n",
    "\n",
    "print(costa_tree.shape)\n",
    "costa_hc = costa_tree.drop('Target', axis = 1)\n",
    "\n"
   ]
  },
  {
   "cell_type": "code",
   "execution_count": 29,
   "metadata": {},
   "outputs": [
    {
     "name": "stdout",
     "output_type": "stream",
     "text": [
      "['males_tot', 'females_tot', 'ppl_under_12', 'ppl_over_12', 'ppl_total', 'floor_cement', 'electric_coop', 'toilet_septic', 'cookenergy_gas', 'trash_burn', 'wall_good', 'roof_good', 'floor_good', 'female', 'num_child', 'num_adults', 'num_hh_total', 'educ_none', 'bedrooms', 'rural_zone']\n",
      "(9557, 61)\n"
     ]
    }
   ],
   "source": [
    "#=================================================-\n",
    "#### Slide 59: Highly-correlated variables  ####\n",
    "\n",
    "# Create correlation matrix.\n",
    "corr_matrix = costa_hc.corr().abs()\n",
    "# Select upper triangle of correlation matrix.\n",
    "upper = corr_matrix.where(np.triu(np.ones(corr_matrix.shape), k=1).astype(np.bool))\n",
    "# Find features with correlation greater than 0.7.\n",
    "to_drop = [column for column in upper.columns if any(upper[column] > 0.7)]\n",
    "print(to_drop)\n",
    "# Drop the features we identified.\n",
    "costa_tree = costa_tree.drop(costa_tree[to_drop], axis=1)\n",
    "print(costa_tree.shape)\n",
    "\n"
   ]
  },
  {
   "cell_type": "code",
   "execution_count": 30,
   "metadata": {},
   "outputs": [],
   "source": [
    "pickle.dump(costa_tree, open('costa_no_hc.sav', 'wb'))"
   ]
  },
  {
   "cell_type": "code",
   "execution_count": 30,
   "metadata": {},
   "outputs": [
    {
     "name": "stdout",
     "output_type": "stream",
     "text": [
      "[0.70114943 0.74476987 0.70606695 0.62552301 0.7123431  0.62343096\n",
      " 0.61989529 0.43246073 0.50890052 0.69424084]\n"
     ]
    }
   ],
   "source": [
    "#=================================================-\n",
    "#### Slide 60: Highly-correlated variables  ####\n",
    "\n",
    "X = costa_tree.drop('Target', axis = 1)\n",
    "y = np.array(costa_tree['Target'])\n",
    "clf = tree.DecisionTreeClassifier()\n",
    "print(cross_val_score(clf, X, y, cv = 10))\n",
    "\n"
   ]
  },
  {
   "cell_type": "code",
   "execution_count": 31,
   "metadata": {},
   "outputs": [],
   "source": [
    "#=================================================-\n",
    "#### Slide 62: Exercise 2  ####\n",
    "\n",
    "\n",
    "\n"
   ]
  },
  {
   "cell_type": "code",
   "execution_count": 34,
   "metadata": {},
   "outputs": [],
   "source": [
    "#=================================================-\n",
    "#### Slide 65: Define an optimal number function  ####\n",
    "\n",
    "# Define function that will determine the optimal number for each parameter.\n",
    "def optimal_parameter(values,test_results):\n",
    "    best_test_value = max(test_results)\n",
    "    best_test_index = test_results.index(best_test_value)\n",
    "    best_value = values[best_test_index]\n",
    "    return(best_value)\n",
    "\n"
   ]
  },
  {
   "cell_type": "code",
   "execution_count": 35,
   "metadata": {},
   "outputs": [],
   "source": [
    "#=================================================-\n",
    "#### Slide 67: Optimize: max depth  ####\n",
    "\n",
    "# Max depth:\n",
    "max_depths = np.linspace(1, 32, 32, endpoint = True)\n",
    "train_results = []\n",
    "test_results = []\n",
    "for max_depth in max_depths:\n",
    "    dt = DecisionTreeClassifier(max_depth = max_depth)\n",
    "    dt.fit(X_train, y_train)\n",
    "    train_pred = dt.predict(X_train)\n",
    "    acc_train = accuracy_score(y_train, train_pred)\n",
    "\n",
    "    # Add AUC score to previous train results\n",
    "    train_results.append(acc_train)\n",
    "    y_pred = dt.predict(X_test)\n",
    "    acc_test = accuracy_score(y_test, y_pred)\n",
    "\n",
    "    # Add AUC score to previous test results\n",
    "    test_results.append(acc_test)\n",
    "\n",
    "# Store optimal max_depth.\n",
    "optimal_max_depth = optimal_parameter(max_depths, test_results)\n",
    "\n"
   ]
  },
  {
   "cell_type": "code",
   "execution_count": 36,
   "metadata": {},
   "outputs": [
    {
     "data": {
      "image/png": "[encoded data removed]",
      "text/plain": [
       "<Figure size 432x288 with 1 Axes>"
      ]
     },
     "metadata": {
      "needs_background": "light"
     },
     "output_type": "display_data"
    }
   ],
   "source": [
    "#=================================================-\n",
    "#### Slide 68: Plot: max depth  ####\n",
    "\n",
    "# Plot max depth over 1 - 32.\n",
    "line1, = plt.plot(max_depths, train_results, 'b', label = \"Train accuracy\")\n",
    "line2, = plt.plot(max_depths, test_results, 'r', label = \"Test accuracy\")\n",
    "plt.legend(handler_map={line1: HandlerLine2D(numpoints = 2)})\n",
    "plt.ylabel('Accuracy')\n",
    "plt.xlabel('Tree depth')\n",
    "plt.show()\n",
    "\n"
   ]
  },
  {
   "cell_type": "code",
   "execution_count": 37,
   "metadata": {},
   "outputs": [],
   "source": [
    "#=================================================-\n",
    "#### Slide 70: Optimize: min samples split  ####\n",
    "\n",
    "min_samples_splits = np.linspace(0.1, 1.0, 10, endpoint = True)\n",
    "train_results = []\n",
    "test_results = []\n",
    "\n",
    "for min_samples_split in min_samples_splits:\n",
    "    dt = DecisionTreeClassifier(min_samples_split = min_samples_split)\n",
    "    dt.fit(X_train, y_train)\n",
    "    train_pred = dt.predict(X_train)\n",
    "    acc_train = accuracy_score(y_train, train_pred)\n",
    "    # Add AUC score to previous train results\n",
    "    train_results.append(acc_train)\n",
    "    y_pred = dt.predict(X_test)\n",
    "    acc_test = accuracy_score(y_test, y_pred)\n",
    "    # Add AUC score to previous test results\n",
    "    test_results.append(acc_test)\n",
    "\n",
    "# Store optimal max_depth.\n",
    "optimal_min_samples_split = optimal_parameter(min_samples_splits, test_results)\n",
    "\n"
   ]
  },
  {
   "cell_type": "code",
   "execution_count": 38,
   "metadata": {},
   "outputs": [
    {
     "data": {
      "image/png": "[encoded data removed]",
      "text/plain": [
       "<Figure size 432x288 with 1 Axes>"
      ]
     },
     "metadata": {
      "needs_background": "light"
     },
     "output_type": "display_data"
    }
   ],
   "source": [
    "#=================================================-\n",
    "#### Slide 71: Plot: min samples split  ####\n",
    "\n",
    "# Plot min_sample split.\n",
    "line1, = plt.plot(min_samples_splits, train_results, 'b', label =  \"Train accuracy\")\n",
    "line2, = plt.plot(min_samples_splits, test_results, 'r', label =  \"Test accuracy\")\n",
    "plt.legend(handler_map = {line1: HandlerLine2D(numpoints = 2)})\n",
    "plt.ylabel('Accuracy')\n",
    "plt.xlabel('min samples split')\n",
    "plt.show()\n",
    "\n",
    "\n"
   ]
  },
  {
   "cell_type": "code",
   "execution_count": 39,
   "metadata": {},
   "outputs": [],
   "source": [
    "#=================================================-\n",
    "#### Slide 73: Optimize: min samples leaf  ####\n",
    "\n",
    "# Min_samples_leaf:\n",
    "min_samples_leafs = np.linspace(0.1, 0.5, 5, endpoint = True)\n",
    "train_results = []\n",
    "test_results = []\n",
    "\n",
    "for min_samples_leaf in min_samples_leafs:\n",
    "    dt = DecisionTreeClassifier(min_samples_leaf=min_samples_leaf)\n",
    "    dt.fit(X_train, y_train)\n",
    "    train_pred = dt.predict(X_train)\n",
    "    acc_train = accuracy_score(y_train, train_pred)\n",
    "    # Add AUC score to previous train results\n",
    "    train_results.append(acc_train)\n",
    "    y_pred = dt.predict(X_test)\n",
    "    acc_test = accuracy_score(y_test, y_pred)\n",
    "    # Add AUC score to previous test results\n",
    "    test_results.append(acc_test)\n",
    "\n",
    "optimal_min_samples_leafs = optimal_parameter(min_samples_leafs, test_results)\n",
    "\n"
   ]
  },
  {
   "cell_type": "code",
   "execution_count": 38,
   "metadata": {},
   "outputs": [
    {
     "data": {
      "image/png": "[encoded data removed]",
      "text/plain": [
       "<Figure size 432x288 with 1 Axes>"
      ]
     },
     "metadata": {
      "needs_background": "light"
     },
     "output_type": "display_data"
    }
   ],
   "source": [
    "#=================================================-\n",
    "#### Slide 74: Plot: min samples leaf  ####\n",
    "\n",
    "# Plot min_sample split.\n",
    "line1, = plt.plot(min_samples_leafs, train_results, 'b', label =  \"Train accuracy\")\n",
    "line2, = plt.plot(min_samples_leafs, test_results, 'r', label =  \"Test accuracy\")\n",
    "plt.legend(handler_map = {line1: HandlerLine2D(numpoints = 2)})\n",
    "plt.ylabel('Accuracy')\n",
    "plt.xlabel('min samples leafs')\n",
    "plt.show()\n",
    "\n",
    "\n"
   ]
  },
  {
   "cell_type": "code",
   "execution_count": 39,
   "metadata": {},
   "outputs": [],
   "source": [
    "#=================================================-\n",
    "#### Slide 76: Optimize: max features  ####\n",
    "\n",
    "# Max_features:\n",
    "max_features = list(range(1, X.shape[1]))\n",
    "train_results = []\n",
    "test_results = []\n",
    "\n",
    "for max_feature in max_features:\n",
    "    dt = DecisionTreeClassifier(max_features = max_feature)\n",
    "    dt.fit(X_train, y_train)\n",
    "    train_pred = dt.predict(X_train)\n",
    "    acc_train = accuracy_score(y_train, train_pred)\n",
    "    # Add AUC score to previous train results\n",
    "    train_results.append(acc_train)\n",
    "    y_pred = dt.predict(X_test)\n",
    "    acc_test = accuracy_score(y_test, y_pred)\n",
    "    # Add AUC score to previous test results\n",
    "    test_results.append(acc_test)\n",
    "\n",
    "optimal_max_features = optimal_parameter(max_features, test_results)\n",
    "\n"
   ]
  },
  {
   "cell_type": "code",
   "execution_count": 40,
   "metadata": {},
   "outputs": [
    {
     "data": {
      "image/png": "[encoded data removed]",
      "text/plain": [
       "<Figure size 432x288 with 1 Axes>"
      ]
     },
     "metadata": {
      "needs_background": "light"
     },
     "output_type": "display_data"
    }
   ],
   "source": [
    "#=================================================-\n",
    "#### Slide 77: Plot: max features  ####\n",
    "\n",
    "# Plot min_sample split.\n",
    "line1, = plt.plot(max_features, train_results, 'b', label = \"Train accuracy\")\n",
    "line2, = plt.plot(max_features, test_results, 'r', label = \"Test accuracy\")\n",
    "plt.legend(handler_map = {line1: HandlerLine2D(numpoints = 2)})\n",
    "plt.ylabel('Accuracy')\n",
    "plt.xlabel('max features')\n",
    "plt.show()\n",
    "\n"
   ]
  },
  {
   "cell_type": "code",
   "execution_count": 41,
   "metadata": {},
   "outputs": [
    {
     "name": "stdout",
     "output_type": "stream",
     "text": [
      "The optimal max depth is: 24.0\n",
      "The optimal min samples split is: 0.1\n",
      "The optimal min samples leaf is: 0.1\n",
      "The optimal max features is: 46\n"
     ]
    }
   ],
   "source": [
    "#=================================================-\n",
    "#### Slide 79: Optimized model  ####\n",
    "\n",
    "print(\"The optimal max depth is:\", optimal_max_depth)\n",
    "print(\"The optimal min samples split is:\", optimal_min_samples_split)\n",
    "print(\"The optimal min samples leaf is:\", optimal_min_samples_leafs)\n",
    "print(\"The optimal max features is:\", optimal_max_features)\n",
    "\n"
   ]
  },
  {
   "cell_type": "code",
   "execution_count": 42,
   "metadata": {},
   "outputs": [
    {
     "name": "stdout",
     "output_type": "stream",
     "text": [
      "DecisionTreeClassifier(class_weight=None, criterion='gini', max_depth=24.0,\n",
      "            max_features=46, max_leaf_nodes=None,\n",
      "            min_impurity_decrease=0.0, min_impurity_split=None,\n",
      "            min_samples_leaf=0.1, min_samples_split=0.1,\n",
      "            min_weight_fraction_leaf=0.0, presort=False, random_state=None,\n",
      "            splitter='best')\n"
     ]
    }
   ],
   "source": [
    "#=================================================-\n",
    "#### Slide 80: Build optimized model  ####\n",
    "\n",
    "# Set the seed.\n",
    "np.random.seed(1)\n",
    "\n",
    "# Implement the decision tree on X_train.\n",
    "clf_optimized = tree.DecisionTreeClassifier(max_depth = optimal_max_depth,\n",
    "min_samples_split = optimal_min_samples_split,\n",
    "min_samples_leaf = optimal_min_samples_leafs,\n",
    "max_features = optimal_max_features)\n",
    "\n",
    "# We can now see our optimized features where before they were just default:\n",
    "print(clf_optimized)\n",
    "\n",
    "clf_optimized_fit = clf_optimized.fit(X_train, y_train)\n",
    "\n"
   ]
  },
  {
   "cell_type": "code",
   "execution_count": 43,
   "metadata": {},
   "outputs": [
    {
     "name": "stdout",
     "output_type": "stream",
     "text": [
      "0.7182705718270572\n"
     ]
    }
   ],
   "source": [
    "#=================================================-\n",
    "#### Slide 81: Predict with optimized model  ####\n",
    "\n",
    "# Predict on X_test.\n",
    "y_predict_optimized = clf_optimized_fit.predict(X_test)\n",
    "\n",
    "# Get the accuracy score.\n",
    "acc_score_tree_optimized = accuracy_score(y_test, y_predict_optimized)\n",
    "\n",
    "print(acc_score_tree_optimized)\n",
    "\n"
   ]
  },
  {
   "cell_type": "code",
   "execution_count": 44,
   "metadata": {},
   "outputs": [
    {
     "name": "stdout",
     "output_type": "stream",
     "text": [
      "    metrics  values                         model\n",
      "0  accuracy  0.6046                         knn_5\n",
      "1  accuracy  0.6188              knn_GridSearchCV\n",
      "2  accuracy  0.6287                        knn_29\n",
      "3  accuracy  0.6356                      logistic\n",
      "4  accuracy  0.7845        logistic_whole_dataset\n",
      "5  accuracy  0.7856                logistic_tuned\n",
      "6  accuracy  0.6611            tree_simple_subset\n",
      "7  accuracy  0.9407            tree_all_variables\n",
      "8  accuracy  0.7183  tree_all_variables_optimized\n"
     ]
    }
   ],
   "source": [
    "#=================================================-\n",
    "#### Slide 83: Predict and save results  ####\n",
    "\n",
    "# Add the optimized model to our dataframe.\n",
    "model_final_tree = model_final_tree.append(\n",
    "{'metrics' : \"accuracy\" ,\n",
    "'values' : round(acc_score_tree_optimized,4),\n",
    "'model':'tree_all_variables_optimized' } ,\n",
    "ignore_index = True)\n",
    "print(model_final_tree)\n",
    "\n"
   ]
  },
  {
   "cell_type": "code",
   "execution_count": 33,
   "metadata": {},
   "outputs": [],
   "source": [
    "pickle.dump(model_final_tree, open(\"model_final_tree_all.sav\",\"wb\"))"
   ]
  },
  {
   "cell_type": "code",
   "execution_count": null,
   "metadata": {},
   "outputs": [],
   "source": []
  }
 ],
 "metadata": {
  "kernelspec": {
   "display_name": "Python 3",
   "language": "python",
   "name": "python3"
  },
  "language": "python",
  "language_info": {
   "codemirror_mode": {
    "name": "ipython",
    "version": 3
   },
   "file_extension": ".py",
   "mimetype": "text/x-python",
   "name": "python",
   "nbconvert_exporter": "python",
   "pygments_lexer": "ipython3",
   "version": "3.7.1"
  }
 },
 "nbformat": 4,
 "nbformat_minor": 2
}
