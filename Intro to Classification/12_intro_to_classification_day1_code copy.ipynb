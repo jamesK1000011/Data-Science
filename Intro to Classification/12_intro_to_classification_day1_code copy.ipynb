{
 "cells": [
  {
   "cell_type": "code",
   "execution_count": null,
   "metadata": {},
   "outputs": [],
   "source": [
    "\n",
    "#######################################################\n",
    "#######################################################\n",
    "############    COPYRIGHT - DATA SOCIETY   ############\n",
    "#######################################################\n",
    "#######################################################\n",
    "\n",
    "## 12 INTRO TO CLASSIFICATION DAY1 ##\n",
    "\n",
    "## NOTE: To run individual pieces of code, select the line of code and\n",
    "##       press ctrl + enter for PCs or command + enter for Macs\n",
    "\n"
   ]
  },
  {
   "cell_type": "code",
   "execution_count": 1,
   "metadata": {},
   "outputs": [],
   "source": [
    "#=================================================-\n",
    "#### Slide 2: Directory settings  ####\n",
    "\n",
    "# Set `main_dir` to the location of your `af-werx` folder (for Mac).\n",
    "main_dir = '/Users/datasociety/Desktop/af-werx'\n",
    "data_dir = main_dir + \"/data\"\n",
    "\n",
    "\n"
   ]
  },
  {
   "cell_type": "code",
   "execution_count": 2,
   "metadata": {},
   "outputs": [],
   "source": [
    "#=================================================-\n",
    "#### Slide 3: Loading packages  ####\n",
    "\n",
    "import os\n",
    "import pandas as pd\n",
    "import numpy as np\n",
    "import matplotlib.pyplot as plt\n",
    "\n",
    "\n",
    "# New today - we will introduce it when we use it\n",
    "import pickle\n",
    "from sklearn.model_selection import train_test_split\n",
    "from sklearn.neighbors import KNeighborsClassifier\n",
    "from sklearn.preprocessing import scale\n",
    "from sklearn.model_selection import cross_val_score\n",
    "from sklearn.model_selection import GridSearchCV\n",
    "from sklearn.metrics import accuracy_score, classification_report, confusion_matrix\n",
    "from sklearn import metrics\n",
    "\n"
   ]
  },
  {
   "cell_type": "code",
   "execution_count": 3,
   "metadata": {},
   "outputs": [
    {
     "name": "stdout",
     "output_type": "stream",
     "text": [
      "/Users/datasociety/Desktop/af-werx/data\n"
     ]
    }
   ],
   "source": [
    "#=================================================-\n",
    "#### Slide 4: Working directory  ####\n",
    "\n",
    "# Set working directory.\n",
    "os.chdir(data_dir)\n",
    "# Check working directory.\n",
    "print(os.getcwd())\n",
    "\n"
   ]
  },
  {
   "cell_type": "code",
   "execution_count": 4,
   "metadata": {},
   "outputs": [
    {
     "name": "stdout",
     "output_type": "stream",
     "text": [
      "  household_id        ind_id  rooms  tablet  males_under_12  males_over_12  \\\n",
      "0    21eb7fcc1  ID_279628684      3       0               0              1   \n",
      "1    0e5d7a658  ID_f29eb3ddd      4       1               0              1   \n",
      "2    2c7317ea8  ID_68de51c94      8       0               0              0   \n",
      "3    2b58d945f  ID_d671db89c      5       1               0              2   \n",
      "4    2b58d945f  ID_d56d6f5f5      5       1               0              2   \n",
      "\n",
      "   males_tot  females_under_12  females_over_12  females_tot      ...       \\\n",
      "0          1                 0                0            0      ...        \n",
      "1          1                 0                0            0      ...        \n",
      "2          0                 0                1            1      ...        \n",
      "3          2                 1                1            2      ...        \n",
      "4          2                 1                1            2      ...        \n",
      "\n",
      "   region_Chorotega  region_pacifico  region_brunca  region_antlantica  \\\n",
      "0                 0                0              0                  0   \n",
      "1                 0                0              0                  0   \n",
      "2                 0                0              0                  0   \n",
      "3                 0                0              0                  0   \n",
      "4                 0                0              0                  0   \n",
      "\n",
      "   region_huetar  urban_zone  rural_zone  age  Target  monthly_rent  \n",
      "0              0           1           0   43       4      190000.0  \n",
      "1              0           1           0   67       4      135000.0  \n",
      "2              0           1           0   92       4           NaN  \n",
      "3              0           1           0   17       4      180000.0  \n",
      "4              0           1           0   37       4      180000.0  \n",
      "\n",
      "[5 rows x 84 columns]\n"
     ]
    }
   ],
   "source": [
    "#=================================================-\n",
    "#### Slide 22: Loading data into Python  ####\n",
    "\n",
    "household_poverty = pd.read_csv(\"costa_rica_poverty.csv\")\n",
    "print(household_poverty.head())\n",
    "\n"
   ]
  },
  {
   "cell_type": "code",
   "execution_count": 5,
   "metadata": {},
   "outputs": [
    {
     "name": "stdout",
     "output_type": "stream",
     "text": [
      "  household_id  rooms  num_adults  Target\n",
      "0    21eb7fcc1      3           1       4\n",
      "1    0e5d7a658      4           1       4\n",
      "2    2c7317ea8      8           1       4\n",
      "3    2b58d945f      5           2       4\n",
      "4    2b58d945f      5           2       4\n"
     ]
    }
   ],
   "source": [
    "#=================================================-\n",
    "#### Slide 24: Subsetting data  ####\n",
    "\n",
    "costa_knn = household_poverty[[\"household_id\",\"rooms\",\"num_adults\",\"Target\"]]\n",
    "print(costa_knn.head())\n",
    "\n"
   ]
  },
  {
   "cell_type": "code",
   "execution_count": 6,
   "metadata": {},
   "outputs": [
    {
     "name": "stdout",
     "output_type": "stream",
     "text": [
      "  household_id  rooms  num_adults  Target\n",
      "0    21eb7fcc1      3           1       4\n",
      "1    0e5d7a658      4           1       4\n",
      "2    2c7317ea8      8           1       4\n",
      "3    2b58d945f      5           2       4\n",
      "4    2b58d945f      5           2       4\n",
      "household_id    object\n",
      "rooms            int64\n",
      "num_adults       int64\n",
      "Target           int64\n",
      "dtype: object\n",
      "4    5996\n",
      "2    1597\n",
      "3    1209\n",
      "1     755\n",
      "Name: Target, dtype: int64\n"
     ]
    }
   ],
   "source": [
    "#=================================================-\n",
    "#### Slide 26: The data at first glance  ####\n",
    "\n",
    "# The first 5 rows.\n",
    "print(costa_knn.head())\n",
    "# The data types.\n",
    "print(costa_knn.dtypes)\n",
    "print(costa_knn['Target'].value_counts())\n",
    "\n"
   ]
  },
  {
   "cell_type": "code",
   "execution_count": 7,
   "metadata": {},
   "outputs": [
    {
     "name": "stdout",
     "output_type": "stream",
     "text": [
      "0    non_vulnerable\n",
      "1    non_vulnerable\n",
      "2    non_vulnerable\n",
      "3    non_vulnerable\n",
      "4    non_vulnerable\n",
      "Name: Target, dtype: object\n"
     ]
    },
    {
     "name": "stderr",
     "output_type": "stream",
     "text": [
      "/Users/datasociety/anaconda3/lib/python3.7/site-packages/ipykernel_launcher.py:4: SettingWithCopyWarning: \n",
      "A value is trying to be set on a copy of a slice from a DataFrame.\n",
      "Try using .loc[row_indexer,col_indexer] = value instead\n",
      "\n",
      "See the caveats in the documentation: http://pandas.pydata.org/pandas-docs/stable/indexing.html#indexing-view-versus-copy\n",
      "  after removing the cwd from sys.path.\n"
     ]
    }
   ],
   "source": [
    "#=================================================-\n",
    "#### Slide 27: Converting the target variable  ####\n",
    "\n",
    "costa_knn['Target'] = np.where(costa_knn['Target'] <= 3, 'vulnerable','non_vulnerable')\n",
    "print(costa_knn['Target'].head())\n",
    "\n"
   ]
  },
  {
   "cell_type": "code",
   "execution_count": 8,
   "metadata": {},
   "outputs": [
    {
     "name": "stdout",
     "output_type": "stream",
     "text": [
      "household_id    0\n",
      "rooms           0\n",
      "num_adults      0\n",
      "Target          0\n",
      "dtype: int64\n"
     ]
    }
   ],
   "source": [
    "#=================================================-\n",
    "#### Slide 28: Data prep: check for NAs  ####\n",
    "\n",
    "# Check for NAs.\n",
    "print(costa_knn.isnull().sum())\n",
    "\n"
   ]
  },
  {
   "cell_type": "code",
   "execution_count": 9,
   "metadata": {},
   "outputs": [
    {
     "name": "stdout",
     "output_type": "stream",
     "text": [
      "household_id    object\n",
      "rooms            int64\n",
      "num_adults       int64\n",
      "Target          object\n",
      "dtype: object\n"
     ]
    }
   ],
   "source": [
    "#=================================================-\n",
    "#### Slide 29: Data prep: numeric variables  ####\n",
    "\n",
    "print(costa_knn.dtypes)\n",
    "\n"
   ]
  },
  {
   "cell_type": "code",
   "execution_count": 10,
   "metadata": {},
   "outputs": [
    {
     "name": "stdout",
     "output_type": "stream",
     "text": [
      "object\n",
      "bool\n"
     ]
    },
    {
     "name": "stderr",
     "output_type": "stream",
     "text": [
      "/Users/datasociety/anaconda3/lib/python3.7/site-packages/ipykernel_launcher.py:5: SettingWithCopyWarning: \n",
      "A value is trying to be set on a copy of a slice from a DataFrame.\n",
      "Try using .loc[row_indexer,col_indexer] = value instead\n",
      "\n",
      "See the caveats in the documentation: http://pandas.pydata.org/pandas-docs/stable/indexing.html#indexing-view-versus-copy\n",
      "  \"\"\"\n"
     ]
    }
   ],
   "source": [
    "#=================================================-\n",
    "#### Slide 30: Data prep: ready for kNN  ####\n",
    "\n",
    "print(costa_knn.Target.dtypes)\n",
    "costa_knn[\"Target\"] = np.where(costa_knn[\"Target\"] == \"non_vulnerable\", True, False)\n",
    "\n",
    "# Check class again.\n",
    "print(costa_knn.Target.dtypes)\n",
    "\n"
   ]
  },
  {
   "cell_type": "code",
   "execution_count": 11,
   "metadata": {},
   "outputs": [
    {
     "name": "stdout",
     "output_type": "stream",
     "text": [
      "[[-1.33182893 -1.3657179 ]\n",
      " [-0.65077114 -1.3657179 ]\n",
      " [ 2.07346003 -1.3657179 ]\n",
      " [ 0.03028665 -0.5080948 ]\n",
      " [ 0.03028665 -0.5080948 ]]\n"
     ]
    },
    {
     "name": "stderr",
     "output_type": "stream",
     "text": [
      "/Users/datasociety/anaconda3/lib/python3.7/site-packages/ipykernel_launcher.py:9: DataConversionWarning: Data with input dtype int64 were all converted to float64 by the scale function.\n",
      "  if __name__ == '__main__':\n"
     ]
    }
   ],
   "source": [
    "#=================================================-\n",
    "#### Slide 32: Data prep: scaling variables  ####\n",
    "\n",
    "# Split the data into X and y - y is categorical, so can't scale.\n",
    "X = costa_knn[['rooms', 'num_adults']]\n",
    "y = np.array(costa_knn['Target'])\n",
    "\n",
    "# Scale X.\n",
    "X_scaled = scale(X)\n",
    "print(X_scaled[0:5])\n",
    "\n"
   ]
  },
  {
   "cell_type": "code",
   "execution_count": 13,
   "metadata": {},
   "outputs": [],
   "source": [
    "#=================================================-\n",
    "#### Slide 34: Exercise 1  ####\n",
    "\n",
    "\n",
    "\n"
   ]
  },
  {
   "cell_type": "code",
   "execution_count": 12,
   "metadata": {},
   "outputs": [],
   "source": [
    "#=================================================-\n",
    "#### Slide 40: Train & test: small scale before n-fold  ####\n",
    "\n",
    "# Set the seed.\n",
    "np.random.seed(1)\n",
    "\n",
    "# Split into train and test.\n",
    "X_train, X_test, y_train, y_test = train_test_split(X_scaled,\n",
    "y,\n",
    "test_size = 0.3)\n",
    "\n",
    "\n"
   ]
  },
  {
   "cell_type": "code",
   "execution_count": 13,
   "metadata": {},
   "outputs": [
    {
     "data": {
      "text/plain": [
       "KNeighborsClassifier(algorithm='auto', leaf_size=30, metric='minkowski',\n",
       "           metric_params=None, n_jobs=None, n_neighbors=5, p=2,\n",
       "           weights='uniform')"
      ]
     },
     "execution_count": 13,
     "metadata": {},
     "output_type": "execute_result"
    }
   ],
   "source": [
    "#=================================================-\n",
    "#### Slide 43: kNN: build model  ####\n",
    "\n",
    "# Create KNN classifier.\n",
    "knn = KNeighborsClassifier(n_neighbors = 5)\n",
    "# Fit the classifier to the data.\n",
    "knn.fit(X_train, y_train)\n",
    "\n"
   ]
  },
  {
   "cell_type": "code",
   "execution_count": 14,
   "metadata": {},
   "outputs": [
    {
     "name": "stdout",
     "output_type": "stream",
     "text": [
      "[ True False  True  True  True]\n"
     ]
    }
   ],
   "source": [
    "#=================================================-\n",
    "#### Slide 44: kNN: predict on test  ####\n",
    "\n",
    "predictions = knn.predict(X_test)\n",
    "print(predictions[0:5])\n",
    "\n"
   ]
  },
  {
   "cell_type": "code",
   "execution_count": 15,
   "metadata": {},
   "outputs": [
    {
     "name": "stdout",
     "output_type": "stream",
     "text": [
      "[[ True  True]\n",
      " [ True False]\n",
      " [ True  True]\n",
      " [ True  True]\n",
      " [ True  True]]\n"
     ]
    }
   ],
   "source": [
    "#=================================================-\n",
    "#### Slide 45: kNN: predict on test  ####\n",
    "\n",
    "actual_v_predicted = np.column_stack((y_test, predictions))\n",
    "print(actual_v_predicted[0:5])\n",
    "\n"
   ]
  },
  {
   "cell_type": "code",
   "execution_count": 18,
   "metadata": {},
   "outputs": [],
   "source": [
    "#=================================================-\n",
    "#### Slide 47: Exercise 2  ####\n",
    "\n",
    "\n",
    "\n"
   ]
  },
  {
   "cell_type": "code",
   "execution_count": 16,
   "metadata": {},
   "outputs": [
    {
     "name": "stdout",
     "output_type": "stream",
     "text": [
      "[[ 294  768]\n",
      " [ 366 1440]]\n",
      "0.6046\n"
     ]
    }
   ],
   "source": [
    "#=================================================-\n",
    "#### Slide 58: Confusion matrix in Python  ####\n",
    "\n",
    "# Confusion matrix for knn.\n",
    "cm_knn5 = confusion_matrix(y_test, predictions)\n",
    "print(cm_knn5)\n",
    "print(round(accuracy_score(y_test, predictions),\n",
    "4))\n",
    "\n"
   ]
  },
  {
   "cell_type": "code",
   "execution_count": 18,
   "metadata": {},
   "outputs": [
    {
     "data": {
      "image/png": "[encoded data removed]",
      "text/plain": [
       "<Figure size 432x288 with 1 Axes>"
      ]
     },
     "metadata": {
      "needs_background": "light"
     },
     "output_type": "display_data"
    }
   ],
   "source": [
    "#=================================================-\n",
    "#### Slide 59: Confusion matrix: visualize  ####\n",
    "\n",
    "plt.imshow(cm_knn5, interpolation = 'nearest', cmap = plt.cm.Wistia)\n",
    "classNames = ['Negative', 'Positive']\n",
    "plt.title('Confusion Matrix - Test Data')\n",
    "plt.ylabel('True label')\n",
    "plt.xlabel('Predicted label')\n",
    "tick_marks = np.arange(len(classNames))\n",
    "plt.xticks(tick_marks, classNames, rotation = 45)\n",
    "plt.yticks(tick_marks, classNames)\n",
    "s = [['TN', 'FP'], ['FN', 'TP']]\n",
    "#for i in range(2):\n",
    "#    for j in range(2):\n",
    "#        plt.text(j,i, str(s[i][j]) + \" = \" + str(cm_knn5[i][j]))\n",
    "#        plt.show()\n",
    "\n"
   ]
  },
  {
   "cell_type": "code",
   "execution_count": 22,
   "metadata": {},
   "outputs": [
    {
     "name": "stdout",
     "output_type": "stream",
     "text": [
      "    metrics  values  model\n",
      "0  accuracy  0.6046  knn_5\n"
     ]
    }
   ],
   "source": [
    "#=================================================-\n",
    "#### Slide 60: Evaluation of kNN with 5 neighbors  ####\n",
    "\n",
    "# Create a dictionary with accuracy values for our knn model with k = 5.\n",
    "model_final_dict = {'metrics': [\"accuracy\"],\n",
    "'values':[round(accuracy_score(y_test, predictions), 4)],\n",
    "'model':['knn_5']}\n",
    "model_final = pd.DataFrame(data = model_final_dict)\n",
    "print(model_final)\n",
    "\n"
   ]
  },
  {
   "cell_type": "code",
   "execution_count": 23,
   "metadata": {},
   "outputs": [
    {
     "data": {
      "image/png": "[encoded data removed]",
      "text/plain": [
       "<Figure size 432x288 with 1 Axes>"
      ]
     },
     "metadata": {
      "needs_background": "light"
     },
     "output_type": "display_data"
    }
   ],
   "source": [
    "#=================================================-\n",
    "#### Slide 64: Plot ROC and calculate AUC  ####\n",
    "\n",
    "# Store FPR, TPR, and threshold as variables.\n",
    "fpr, tpr, threshold = metrics.roc_curve(y_test, predictions)\n",
    "# Store the AUC.\n",
    "roc_auc = metrics.auc(fpr, tpr)\n",
    "plt.title('Receiver Operating Characteristic')\n",
    "plt.plot(fpr, tpr, 'b', label = 'AUC = %0.2f' % roc_auc)\n",
    "plt.legend(loc = 'lower right')\n",
    "plt.plot([0, 1], [0, 1],'r--')\n",
    "plt.xlim([0, 1])\n",
    "plt.ylim([0, 1])\n",
    "plt.ylabel('True Positive Rate')\n",
    "plt.xlabel('False Positive Rate')\n",
    "plt.show()\n",
    "\n"
   ]
  },
  {
   "cell_type": "code",
   "execution_count": 24,
   "metadata": {},
   "outputs": [],
   "source": [
    "#=================================================-\n",
    "#### Slide 66: Exercise 3  ####\n",
    "\n",
    "\n",
    "\n"
   ]
  },
  {
   "cell_type": "code",
   "execution_count": 25,
   "metadata": {},
   "outputs": [
    {
     "name": "stdout",
     "output_type": "stream",
     "text": [
      "{'n_neighbors': [1, 2, 3, 4, 5, 6, 7, 8, 9, 10, 11, 12, 13, 14, 15, 16, 17, 18, 19, 20, 21, 22, 23, 24, 25, 26, 27, 28, 29, 30]}\n"
     ]
    }
   ],
   "source": [
    "#=================================================-\n",
    "#### Slide 77: Finding optimal k - GridSearchCV  ####\n",
    "\n",
    "# Define the parameter values that should be searched.\n",
    "k_range = list(range(1, 31))\n",
    "\n",
    "# Create a parameter grid: map the parameter names to the values that should be searched by building a Python dictionary.\n",
    "# key: parameter name\n",
    "# value: list of values that should be searched for that parameter\n",
    "# single key-value pair for param_grid\n",
    "param_grid = dict(n_neighbors = k_range)\n",
    "print(param_grid)\n",
    "\n",
    "# Instantiate the grid using our original model - knn with k = 3.\n",
    "grid = GridSearchCV(knn, param_grid, cv = 10, scoring = 'accuracy')\n",
    "\n",
    "\n"
   ]
  },
  {
   "cell_type": "code",
   "execution_count": 26,
   "metadata": {},
   "outputs": [
    {
     "data": {
      "text/plain": [
       "GridSearchCV(cv=10, error_score='raise-deprecating',\n",
       "       estimator=KNeighborsClassifier(algorithm='auto', leaf_size=30, metric='minkowski',\n",
       "           metric_params=None, n_jobs=None, n_neighbors=5, p=2,\n",
       "           weights='uniform'),\n",
       "       fit_params=None, iid='warn', n_jobs=None,\n",
       "       param_grid={'n_neighbors': [1, 2, 3, 4, 5, 6, 7, 8, 9, 10, 11, 12, 13, 14, 15, 16, 17, 18, 19, 20, 21, 22, 23, 24, 25, 26, 27, 28, 29, 30]},\n",
       "       pre_dispatch='2*n_jobs', refit=True, return_train_score='warn',\n",
       "       scoring='accuracy', verbose=0)"
      ]
     },
     "execution_count": 26,
     "metadata": {},
     "output_type": "execute_result"
    }
   ],
   "source": [
    "#=================================================-\n",
    "#### Slide 78: Finding optimal k - GridSearchCV  ####\n",
    "\n",
    "# Fit the grid with data.\n",
    "grid.fit(X_scaled, y)\n",
    "\n"
   ]
  },
  {
   "cell_type": "code",
   "execution_count": 27,
   "metadata": {},
   "outputs": [
    {
     "name": "stdout",
     "output_type": "stream",
     "text": [
      "[0.56293816 0.53311709 0.58198179 0.5597991  0.57967982 0.56816993\n",
      " 0.58417914 0.57120435 0.57926127 0.57915664 0.59527048 0.58784137\n",
      " 0.58627184 0.58009836 0.59788637 0.58187716 0.59684001 0.589097\n",
      " 0.59715392 0.59684001 0.6015486  0.5944334  0.59485194 0.5908758\n",
      " 0.60876844 0.60416449 0.6133724  0.6136863  0.61881344 0.61347703]\n"
     ]
    }
   ],
   "source": [
    "#=================================================-\n",
    "#### Slide 79: Finding optimal k - view results  ####\n",
    "\n",
    "# View the complete results (list of named tuples).\n",
    "print(grid.cv_results_['mean_test_score'])\n",
    "\n"
   ]
  },
  {
   "cell_type": "code",
   "execution_count": 28,
   "metadata": {},
   "outputs": [
    {
     "name": "stdout",
     "output_type": "stream",
     "text": [
      "[0.5629381605106205, 0.5331170869519724, 0.5819817934498274, 0.559799100136026, 0.5796798158417914, 0.5681699278016114, 0.5841791357120435, 0.5712043528303861, 0.579261274458512, 0.5791566391126922, 0.5952704823689442, 0.5878413728157371, 0.5862718426284399, 0.5800983572250706, 0.5978863660144397, 0.5818771581040075, 0.5968400125562415, 0.5890969969655749, 0.5971539185937009, 0.5968400125562415, 0.6015486031181333, 0.5944333996023857, 0.594851940985665, 0.5908757978445118, 0.6087684419797007, 0.6041644867636288, 0.6133723971957727, 0.6136863032332321, 0.6188134351784033, 0.6134770325415926]\n"
     ]
    }
   ],
   "source": [
    "#=================================================-\n",
    "#### Slide 80: Finding optimal k  ####\n",
    "\n",
    "# Create a list of the mean scores only by using a list comprehension to loop through grid.cv_results_.\n",
    "grid_mean_scores = [result for result in grid.cv_results_['mean_test_score']]\n",
    "print(grid_mean_scores)\n",
    "\n"
   ]
  },
  {
   "cell_type": "code",
   "execution_count": 29,
   "metadata": {},
   "outputs": [
    {
     "data": {
      "text/plain": [
       "Text(0, 0.5, 'Cross-Validated Accuracy')"
      ]
     },
     "execution_count": 29,
     "metadata": {},
     "output_type": "execute_result"
    },
    {
     "data": {
      "image/png": "[encoded data removed]",
      "text/plain": [
       "<Figure size 432x288 with 1 Axes>"
      ]
     },
     "metadata": {
      "needs_background": "light"
     },
     "output_type": "display_data"
    }
   ],
   "source": [
    "#=================================================-\n",
    "#### Slide 81: Finding optimal k - plot  ####\n",
    "\n",
    "# Plot the results.\n",
    "plt.plot(k_range, grid_mean_scores)\n",
    "plt.xlabel('Value of K for KNN')\n",
    "plt.ylabel('Cross-Validated Accuracy')\n",
    "\n"
   ]
  },
  {
   "cell_type": "code",
   "execution_count": 30,
   "metadata": {},
   "outputs": [
    {
     "name": "stdout",
     "output_type": "stream",
     "text": [
      "0.6188134351784033\n",
      "{'n_neighbors': 29}\n",
      "KNeighborsClassifier(algorithm='auto', leaf_size=30, metric='minkowski',\n",
      "           metric_params=None, n_jobs=None, n_neighbors=29, p=2,\n",
      "           weights='uniform')\n"
     ]
    }
   ],
   "source": [
    "#=================================================-\n",
    "#### Slide 82: Define and examine the optimized model   ####\n",
    "\n",
    "# Single best score achieved across all params (k).\n",
    "print(grid.best_score_)\n",
    "grid_score = grid.best_score_\n",
    "\n",
    "# Dictionary containing the parameters (k) used to generate that score.\n",
    "print(grid.best_params_)\n",
    "\n",
    "# Actual model object fit with those best parameters.\n",
    "# Shows default parameters that we did not specify.\n",
    "print(grid.best_estimator_)\n",
    "\n"
   ]
  },
  {
   "cell_type": "code",
   "execution_count": 31,
   "metadata": {},
   "outputs": [
    {
     "name": "stdout",
     "output_type": "stream",
     "text": [
      "    metrics  values             model\n",
      "0  accuracy  0.6046             knn_5\n",
      "1  accuracy  0.6188  knn_GridSearchCV\n"
     ]
    }
   ],
   "source": [
    "#=================================================-\n",
    "#### Slide 83: Add GridSearchCV score to the final scores  ####\n",
    "\n",
    "model_final = model_final.append({'metrics' : \"accuracy\" ,\n",
    "'values' : round(grid_score, 4),\n",
    "'model':'knn_GridSearchCV' } ,\n",
    "ignore_index = True)\n",
    "print(model_final)\n",
    "\n"
   ]
  },
  {
   "cell_type": "code",
   "execution_count": 32,
   "metadata": {},
   "outputs": [
    {
     "name": "stdout",
     "output_type": "stream",
     "text": [
      "0.6286610878661087\n"
     ]
    }
   ],
   "source": [
    "#=================================================-\n",
    "#### Slide 84: Optimal model and final thoughts  ####\n",
    "\n",
    "knn_best = grid.best_estimator_\n",
    "\n",
    "# Check accuracy of our model on the test data.\n",
    "print(knn_best.score(X_test, y_test))\n",
    "knn_champ = knn_best.score(X_test, y_test)\n",
    "\n"
   ]
  },
  {
   "cell_type": "code",
   "execution_count": 33,
   "metadata": {},
   "outputs": [
    {
     "name": "stdout",
     "output_type": "stream",
     "text": [
      "    metrics  values             model\n",
      "0  accuracy  0.6046             knn_5\n",
      "1  accuracy  0.6188  knn_GridSearchCV\n",
      "2  accuracy  0.6287            knn_29\n"
     ]
    }
   ],
   "source": [
    "#=================================================-\n",
    "#### Slide 85: Model champion dataframe  ####\n",
    "\n",
    "# Add this final model champion to our dataframe.\n",
    "model_final = model_final.append({'metrics' : \"accuracy\" ,\n",
    "'values' : round(knn_champ, 4),\n",
    "'model':'knn_29' } ,\n",
    "ignore_index = True)\n",
    "print(model_final)\n",
    "\n",
    "pickle.dump(model_final, open(\"model_final.sav\",\"wb\" ))\n",
    "\n"
   ]
  }
 ],
 "metadata": {
  "kernelspec": {
   "display_name": "Python 3",
   "language": "python",
   "name": "python3"
  },
  "language": "python",
  "language_info": {
   "codemirror_mode": {
    "name": "ipython",
    "version": 3
   },
   "file_extension": ".py",
   "mimetype": "text/x-python",
   "name": "python",
   "nbconvert_exporter": "python",
   "pygments_lexer": "ipython3",
   "version": "3.7.1"
  }
 },
 "nbformat": 4,
 "nbformat_minor": 2
}
