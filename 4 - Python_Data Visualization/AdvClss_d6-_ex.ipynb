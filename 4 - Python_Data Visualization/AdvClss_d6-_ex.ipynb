{
 "cells": [
  {
   "cell_type": "markdown",
   "metadata": {},
   "source": [
    "# Advanced Classification - Day 6 - Exercises"
   ]
  },
  {
   "cell_type": "markdown",
   "metadata": {},
   "source": [
    "## Exercise 1"
   ]
  },
  {
   "cell_type": "markdown",
   "metadata": {},
   "source": [
    "#### Question 1 \n",
    "##### Load libraries that are used in this module."
   ]
  },
  {
   "cell_type": "markdown",
   "metadata": {},
   "source": [
    "#### Question 2 \n",
    "##### Set `main_dir` to the location of your `af-werx` folder.\n",
    "##### Make `data_dir` from the `main_dir` and concatenate remainder of the path to data directory."
   ]
  },
  {
   "cell_type": "markdown",
   "metadata": {},
   "source": [
    "#### Question 3\n",
    "##### Set the working directory to data_dir.\n",
    "##### Check if the working directory is updated to `data_dir'."
   ]
  },
  {
   "cell_type": "markdown",
   "metadata": {},
   "source": [
    "#### Question 4\n",
    "##### Read in 'lastfm_ratings.csv' dataset to a dataframe named 'fm_ratings' and 'lastfm_artists.csv' as 'fm_artists'.\n",
    "##### Print the info and head of the dataset."
   ]
  },
  {
   "cell_type": "markdown",
   "metadata": {},
   "source": [
    "#### Question 5\n",
    "##### Print a word cloud to find which words are repeated in the artist name using fm_artists dataframe."
   ]
  },
  {
   "cell_type": "markdown",
   "metadata": {},
   "source": [
    "#### Question 6\n",
    "##### Find the distribution of rating by plotting a count plot in fm_ratings dataframe."
   ]
  },
  {
   "cell_type": "markdown",
   "metadata": {},
   "source": [
    "#### Question 7\n",
    "##### Fetch all the genres in the dataset and print top 5 using the function we used in the module."
   ]
  },
  {
   "cell_type": "code",
   "execution_count": 21,
   "metadata": {},
   "outputs": [],
   "source": [
    "# Function that counts the number of times each of the genre keywords appear.\n",
    "def count_word(dataset, ref_col, census):\n",
    "    keyword_count = dict()\n",
    "    for s in census: \n",
    "        keyword_count[s] = 0\n",
    "    for census_keywords in dataset[ref_col].str.split('|'):        \n",
    "        if type(census_keywords) == float and pd.isnull(census_keywords): \n",
    "            continue        \n",
    "        for s in [s for s in census_keywords if s in census]: \n",
    "            if pd.notnull(s): \n",
    "                keyword_count[s] += 1\n",
    "\n",
    "    # Convert the dictionary in a list to sort the keywords by frequency.\n",
    "    keyword_occurrences = []\n",
    "    for k,v in keyword_count.items():\n",
    "        keyword_occurrences.append([k,v])\n",
    "    keyword_occurrences.sort(key = lambda x:x[1], reverse = True)\n",
    "    return keyword_occurrences, keyword_count"
   ]
  },
  {
   "cell_type": "markdown",
   "metadata": {},
   "source": [
    "#### Question 8\n",
    "##### Find the word cloud for the genres to see which genres are listed more frequently."
   ]
  },
  {
   "cell_type": "markdown",
   "metadata": {},
   "source": [
    "### Exercise 2"
   ]
  },
  {
   "cell_type": "markdown",
   "metadata": {},
   "source": [
    "#### Question 1\n",
    "##### We will build a content based recommender system using `fm_artists` dataframe.\n",
    "##### Convert the genre to string array.\n",
    "##### Calculate the TF-IDF matrix."
   ]
  },
  {
   "cell_type": "markdown",
   "metadata": {},
   "source": [
    "#### Question 2\n",
    "##### Build the cosine similarity of the artists, call it 'cosine_sim', and print the top entries in that matrix.\n",
    "##### Also, print the shape of the cosine similarity matrix.\n",
    "##### Build the list of artists' titles, and label it 'indices'."
   ]
  },
  {
   "cell_type": "markdown",
   "metadata": {},
   "source": [
    "#### Question 3\n",
    "##### Use the function to return top similar artists based on the cosine similarity value for any given artist name.\n",
    "##### Find recommendations for a person who likes 'Rihanna' in their playlist.\n",
    "##### Also, find recommendations for someone who likes 'Madonna'."
   ]
  },
  {
   "cell_type": "code",
   "execution_count": 31,
   "metadata": {},
   "outputs": [],
   "source": [
    "# Function that get artists recommendations based on the cosine similarity score of artists.\n",
    "def genre_recommendations(title):\n",
    "    idx = indices[title]\n",
    "    sim_scores = list(enumerate(cosine_sim[idx]))\n",
    "    sim_scores = sorted(sim_scores, key=lambda x: x[1], reverse=True)\n",
    "    sim_scores = sim_scores[1:21]\n",
    "    movie_indices = [i[0] for i in sim_scores]\n",
    "    return titles.iloc[movie_indices]"
   ]
  },
  {
   "cell_type": "markdown",
   "metadata": {},
   "source": [
    "### Exercise 3"
   ]
  },
  {
   "cell_type": "markdown",
   "metadata": {},
   "source": [
    "#### Question 1\n",
    "##### Transform the fm_ratings with userID as the row and artist_name as the column and the rating as the value. Set it as \"userRating\".\n",
    "##### Find the correlation matrix for the artist_name. Do not use min_periods as we did in module, since our dataset is small here.\n",
    "##### It could take a lot of time to form the correlation matrix, so you can also load from our data_dir where we already have it calculated and saved.\n",
    "##### Load \"corrMatrix_ex.csv\" as corrMatrix - also, set the first column `artist_name` as the index for the dataframe.\n",
    "##### Hint: df = df.set_index('artist_name')"
   ]
  },
  {
   "cell_type": "markdown",
   "metadata": {},
   "source": [
    "#### Question 2\n",
    "##### We will find recommendations for userID 25. Assign user_id as 25 and use the same steps we did in the module to find the artist recommendation.\n",
    "##### First, create a list of all artists with all correlations multiplied by rating.\n",
    "##### Group by artist_id and sum the ratings to remove the duplicates."
   ]
  },
  {
   "cell_type": "markdown",
   "metadata": {},
   "source": [
    "#### Question 3\n",
    "##### Find the list of artists that the user has already heard and remove them.\n",
    "##### Give top 10 recommendations."
   ]
  },
  {
   "cell_type": "markdown",
   "metadata": {},
   "source": [
    "### Exercise 4"
   ]
  },
  {
   "cell_type": "markdown",
   "metadata": {},
   "source": [
    "#### Question 1\n",
    "##### Find the total number of users and artists.\n",
    "##### Transform our fm_ratings dataset using pivot_table where we have 1 row per user and 1 column per artist."
   ]
  },
  {
   "cell_type": "markdown",
   "metadata": {},
   "source": [
    "#### Question 2\n",
    "##### Convert the pivot table into matrix and find the sparsity percentage."
   ]
  },
  {
   "cell_type": "markdown",
   "metadata": {},
   "source": [
    "#### Question 3\n",
    "##### Fetch the first 50 latent features and return the list of artists the user has already rated.\n"
   ]
  },
  {
   "cell_type": "markdown",
   "metadata": {},
   "source": [
    "#### Question 4\n",
    "##### The following function has been modified from the function we used in the module to recommend artists.\n",
    "##### Use this function and predict 20 new artists to user with ID 400."
   ]
  },
  {
   "cell_type": "code",
   "execution_count": 47,
   "metadata": {},
   "outputs": [],
   "source": [
    "def recommend_songs(predictions, user, artists, original_ratings, num_recommendations):\n",
    "    \n",
    "    # Get and sort the user's predictions.\n",
    "    user_row_number = user - 1 # User ID starts at 1, not 0\n",
    "    sorted_user_predictions = preds.iloc[user_row_number].sort_values(ascending=False) # User ID starts at 1\n",
    "    \n",
    "    # Get the user's data and merge in the artist information.\n",
    "    user_data = original_ratings[original_ratings.userID == (user)]\n",
    "    user_full = (user_data.merge(fm_artists, how = 'left', left_on = 'artistID', right_on = 'artistID').\n",
    "                     sort_values(['rating'], ascending=False)\n",
    "                 )\n",
    "\n",
    "    print('User {0} has already rated {1} artists.'.format(user, user_full.shape[0]))\n",
    "    print('Recommending highest {0} predicted rating artists not already rated.'.format(num_recommendations))\n",
    "    \n",
    "    # Recommend the highest predicted rating artists that the user hasn't listened yet.\n",
    "    recommendations = (fm_artists[~fm_artists['artistID'].isin(user_full['artistID'])].\n",
    "         merge(pd.DataFrame(sorted_user_predictions).reset_index(), how = 'left',\n",
    "               left_on = 'artistID',\n",
    "               right_on = 'artistID').\n",
    "         rename(columns = {user_row_number: 'Predictions'}).\n",
    "         sort_values('Predictions', ascending = False).\n",
    "                       iloc[:num_recommendations, :-1]\n",
    "                      )\n",
    "\n",
    "    return user_full, recommendations"
   ]
  },
  {
   "cell_type": "markdown",
   "metadata": {},
   "source": [
    "#### Question 5\n",
    "##### Load the reader library and load the dataset `fm_ratings` to reader.\n",
    "##### We will do a 5-fold evaluation."
   ]
  },
  {
   "cell_type": "markdown",
   "metadata": {},
   "source": [
    "#### Question 6\n",
    "##### Build the SVD algorithm and evaluate with our data using RMSE metric.\n",
    "##### What are the RMSE values?"
   ]
  },
  {
   "cell_type": "markdown",
   "metadata": {},
   "source": [
    "#### Question 7\n",
    "##### Using our algorithm, predict what would be the rating given by user 1200 to artist ID 400."
   ]
  }
 ],
 "metadata": {
  "kernelspec": {
   "display_name": "Python 3",
   "language": "python",
   "name": "python3"
  },
  "language_info": {
   "codemirror_mode": {
    "name": "ipython",
    "version": 3
   },
   "file_extension": ".py",
   "mimetype": "text/x-python",
   "name": "python",
   "nbconvert_exporter": "python",
   "pygments_lexer": "ipython3",
   "version": "3.6.8"
  }
 },
 "nbformat": 4,
 "nbformat_minor": 2
}
